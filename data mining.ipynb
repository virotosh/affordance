{
 "cells": [
  {
   "cell_type": "code",
   "execution_count": 2,
   "id": "26d3c807-7c3d-4ccb-ac56-a9b476673dd9",
   "metadata": {
    "scrolled": true
   },
   "outputs": [
    {
     "name": "stdout",
     "output_type": "stream",
     "text": [
      "\u001b[33mDEPRECATION: Configuring installation scheme with distutils config files is deprecated and will no longer work in the near future. If you are using a Homebrew or Linuxbrew Python, please see discussion at https://github.com/Homebrew/homebrew-core/issues/76621\u001b[0m\u001b[33m\n",
      "\u001b[0mCollecting Scrapy\n",
      "  Downloading Scrapy-2.12.0-py2.py3-none-any.whl.metadata (5.3 kB)\n",
      "Collecting Twisted>=21.7.0 (from Scrapy)\n",
      "  Downloading twisted-24.11.0-py3-none-any.whl.metadata (20 kB)\n",
      "Collecting cryptography>=37.0.0 (from Scrapy)\n",
      "  Downloading cryptography-44.0.0-cp39-abi3-macosx_10_9_universal2.whl.metadata (5.7 kB)\n",
      "Collecting cssselect>=0.9.1 (from Scrapy)\n",
      "  Downloading cssselect-1.2.0-py2.py3-none-any.whl.metadata (2.2 kB)\n",
      "Collecting itemloaders>=1.0.1 (from Scrapy)\n",
      "  Downloading itemloaders-1.3.2-py3-none-any.whl.metadata (3.9 kB)\n",
      "Collecting parsel>=1.5.0 (from Scrapy)\n",
      "  Downloading parsel-1.9.1-py2.py3-none-any.whl.metadata (11 kB)\n",
      "Collecting pyOpenSSL>=22.0.0 (from Scrapy)\n",
      "  Downloading pyOpenSSL-24.3.0-py3-none-any.whl.metadata (15 kB)\n",
      "Collecting queuelib>=1.4.2 (from Scrapy)\n",
      "  Downloading queuelib-1.7.0-py2.py3-none-any.whl.metadata (5.7 kB)\n",
      "Collecting service-identity>=18.1.0 (from Scrapy)\n",
      "  Downloading service_identity-24.2.0-py3-none-any.whl.metadata (5.1 kB)\n",
      "Collecting w3lib>=1.17.0 (from Scrapy)\n",
      "  Downloading w3lib-2.2.1-py3-none-any.whl.metadata (2.1 kB)\n",
      "Collecting zope.interface>=5.1.0 (from Scrapy)\n",
      "  Downloading zope.interface-7.2-cp39-cp39-macosx_10_9_x86_64.whl.metadata (44 kB)\n",
      "Collecting protego>=0.1.15 (from Scrapy)\n",
      "  Downloading Protego-0.3.1-py2.py3-none-any.whl.metadata (5.9 kB)\n",
      "Collecting itemadapter>=0.1.0 (from Scrapy)\n",
      "  Downloading itemadapter-0.10.0-py3-none-any.whl.metadata (18 kB)\n",
      "Requirement already satisfied: packaging in /usr/local/lib/python3.9/site-packages (from Scrapy) (24.1)\n",
      "Collecting tldextract (from Scrapy)\n",
      "  Downloading tldextract-5.1.3-py3-none-any.whl.metadata (11 kB)\n",
      "Collecting lxml>=4.6.0 (from Scrapy)\n",
      "  Downloading lxml-5.3.0-cp39-cp39-macosx_10_9_x86_64.whl.metadata (3.8 kB)\n",
      "Requirement already satisfied: defusedxml>=0.7.1 in /usr/local/lib/python3.9/site-packages (from Scrapy) (0.7.1)\n",
      "Collecting PyDispatcher>=2.0.5 (from Scrapy)\n",
      "  Downloading PyDispatcher-2.0.7-py3-none-any.whl.metadata (2.4 kB)\n",
      "Requirement already satisfied: cffi>=1.12 in /usr/local/lib/python3.9/site-packages (from cryptography>=37.0.0->Scrapy) (1.17.1)\n",
      "Collecting jmespath>=0.9.5 (from itemloaders>=1.0.1->Scrapy)\n",
      "  Downloading jmespath-1.0.1-py3-none-any.whl.metadata (7.6 kB)\n",
      "Requirement already satisfied: attrs>=19.1.0 in /usr/local/lib/python3.9/site-packages (from service-identity>=18.1.0->Scrapy) (24.2.0)\n",
      "Collecting pyasn1 (from service-identity>=18.1.0->Scrapy)\n",
      "  Downloading pyasn1-0.6.1-py3-none-any.whl.metadata (8.4 kB)\n",
      "Collecting pyasn1-modules (from service-identity>=18.1.0->Scrapy)\n",
      "  Downloading pyasn1_modules-0.4.1-py3-none-any.whl.metadata (3.5 kB)\n",
      "Collecting automat>=24.8.0 (from Twisted>=21.7.0->Scrapy)\n",
      "  Downloading Automat-24.8.1-py3-none-any.whl.metadata (8.4 kB)\n",
      "Collecting constantly>=15.1 (from Twisted>=21.7.0->Scrapy)\n",
      "  Downloading constantly-23.10.4-py3-none-any.whl.metadata (1.8 kB)\n",
      "Collecting hyperlink>=17.1.1 (from Twisted>=21.7.0->Scrapy)\n",
      "  Downloading hyperlink-21.0.0-py2.py3-none-any.whl.metadata (1.5 kB)\n",
      "Collecting incremental>=24.7.0 (from Twisted>=21.7.0->Scrapy)\n",
      "  Downloading incremental-24.7.2-py3-none-any.whl.metadata (8.1 kB)\n",
      "Requirement already satisfied: typing-extensions>=4.2.0 in /usr/local/lib/python3.9/site-packages (from Twisted>=21.7.0->Scrapy) (4.12.2)\n",
      "Requirement already satisfied: setuptools in /usr/local/lib/python3.9/site-packages (from zope.interface>=5.1.0->Scrapy) (74.1.2)\n",
      "Requirement already satisfied: idna in /usr/local/lib/python3.9/site-packages (from tldextract->Scrapy) (3.10)\n",
      "Requirement already satisfied: requests>=2.1.0 in /usr/local/lib/python3.9/site-packages (from tldextract->Scrapy) (2.32.3)\n",
      "Collecting requests-file>=1.4 (from tldextract->Scrapy)\n",
      "  Downloading requests_file-2.1.0-py2.py3-none-any.whl.metadata (1.7 kB)\n",
      "Collecting filelock>=3.0.8 (from tldextract->Scrapy)\n",
      "  Downloading filelock-3.16.1-py3-none-any.whl.metadata (2.9 kB)\n",
      "Requirement already satisfied: pycparser in /usr/local/lib/python3.9/site-packages (from cffi>=1.12->cryptography>=37.0.0->Scrapy) (2.22)\n",
      "Requirement already satisfied: tomli in /usr/local/lib/python3.9/site-packages (from incremental>=24.7.0->Twisted>=21.7.0->Scrapy) (2.0.2)\n",
      "Requirement already satisfied: charset-normalizer<4,>=2 in /usr/local/lib/python3.9/site-packages (from requests>=2.1.0->tldextract->Scrapy) (3.4.0)\n",
      "Requirement already satisfied: urllib3<3,>=1.21.1 in /usr/local/lib/python3.9/site-packages (from requests>=2.1.0->tldextract->Scrapy) (2.2.3)\n",
      "Requirement already satisfied: certifi>=2017.4.17 in /usr/local/lib/python3.9/site-packages (from requests>=2.1.0->tldextract->Scrapy) (2024.8.30)\n",
      "Downloading Scrapy-2.12.0-py2.py3-none-any.whl (311 kB)\n",
      "Downloading cryptography-44.0.0-cp39-abi3-macosx_10_9_universal2.whl (6.5 MB)\n",
      "\u001b[2K   \u001b[90m━━━━━━━━━━━━━━━━━━━━━━━━━━━━━━━━━━━━━━━━\u001b[0m \u001b[32m6.5/6.5 MB\u001b[0m \u001b[31m2.7 MB/s\u001b[0m eta \u001b[36m0:00:00\u001b[0ma \u001b[36m0:00:01\u001b[0m\n",
      "\u001b[?25hDownloading cssselect-1.2.0-py2.py3-none-any.whl (18 kB)\n",
      "Downloading itemadapter-0.10.0-py3-none-any.whl (11 kB)\n",
      "Downloading itemloaders-1.3.2-py3-none-any.whl (12 kB)\n",
      "Downloading lxml-5.3.0-cp39-cp39-macosx_10_9_x86_64.whl (4.4 MB)\n",
      "\u001b[2K   \u001b[90m━━━━━━━━━━━━━━━━━━━━━━━━━━━━━━━━━━━━━━━━\u001b[0m \u001b[32m4.4/4.4 MB\u001b[0m \u001b[31m3.0 MB/s\u001b[0m eta \u001b[36m0:00:00\u001b[0ma \u001b[36m0:00:01\u001b[0m\n",
      "\u001b[?25hDownloading parsel-1.9.1-py2.py3-none-any.whl (17 kB)\n",
      "Downloading Protego-0.3.1-py2.py3-none-any.whl (8.5 kB)\n",
      "Downloading PyDispatcher-2.0.7-py3-none-any.whl (12 kB)\n",
      "Downloading pyOpenSSL-24.3.0-py3-none-any.whl (56 kB)\n",
      "Downloading queuelib-1.7.0-py2.py3-none-any.whl (13 kB)\n",
      "Downloading service_identity-24.2.0-py3-none-any.whl (11 kB)\n",
      "Downloading twisted-24.11.0-py3-none-any.whl (3.2 MB)\n",
      "\u001b[2K   \u001b[90m━━━━━━━━━━━━━━━━━━━━━━━━━━━━━━━━━━━━━━━━\u001b[0m \u001b[32m3.2/3.2 MB\u001b[0m \u001b[31m3.0 MB/s\u001b[0m eta \u001b[36m0:00:00\u001b[0m00:01\u001b[0m00:01\u001b[0m\n",
      "\u001b[?25hDownloading w3lib-2.2.1-py3-none-any.whl (21 kB)\n",
      "Downloading zope.interface-7.2-cp39-cp39-macosx_10_9_x86_64.whl (208 kB)\n",
      "Downloading tldextract-5.1.3-py3-none-any.whl (104 kB)\n",
      "Downloading Automat-24.8.1-py3-none-any.whl (42 kB)\n",
      "Downloading constantly-23.10.4-py3-none-any.whl (13 kB)\n",
      "Downloading filelock-3.16.1-py3-none-any.whl (16 kB)\n",
      "Downloading hyperlink-21.0.0-py2.py3-none-any.whl (74 kB)\n",
      "Downloading incremental-24.7.2-py3-none-any.whl (20 kB)\n",
      "Downloading jmespath-1.0.1-py3-none-any.whl (20 kB)\n",
      "Downloading requests_file-2.1.0-py2.py3-none-any.whl (4.2 kB)\n",
      "Downloading pyasn1-0.6.1-py3-none-any.whl (83 kB)\n",
      "Downloading pyasn1_modules-0.4.1-py3-none-any.whl (181 kB)\n",
      "Installing collected packages: PyDispatcher, zope.interface, w3lib, queuelib, pyasn1, protego, lxml, jmespath, itemadapter, incremental, hyperlink, filelock, cssselect, constantly, automat, Twisted, requests-file, pyasn1-modules, parsel, cryptography, tldextract, service-identity, pyOpenSSL, itemloaders, Scrapy\n",
      "\u001b[33m  DEPRECATION: Configuring installation scheme with distutils config files is deprecated and will no longer work in the near future. If you are using a Homebrew or Linuxbrew Python, please see discussion at https://github.com/Homebrew/homebrew-core/issues/76621\u001b[0m\u001b[33m\n",
      "\u001b[0m\u001b[33m  DEPRECATION: Configuring installation scheme with distutils config files is deprecated and will no longer work in the near future. If you are using a Homebrew or Linuxbrew Python, please see discussion at https://github.com/Homebrew/homebrew-core/issues/76621\u001b[0m\u001b[33m\n",
      "\u001b[0m\u001b[33m  DEPRECATION: Configuring installation scheme with distutils config files is deprecated and will no longer work in the near future. If you are using a Homebrew or Linuxbrew Python, please see discussion at https://github.com/Homebrew/homebrew-core/issues/76621\u001b[0m\u001b[33m\n",
      "\u001b[0m\u001b[33m  DEPRECATION: Configuring installation scheme with distutils config files is deprecated and will no longer work in the near future. If you are using a Homebrew or Linuxbrew Python, please see discussion at https://github.com/Homebrew/homebrew-core/issues/76621\u001b[0m\u001b[33m\n",
      "\u001b[0m\u001b[33m  DEPRECATION: Configuring installation scheme with distutils config files is deprecated and will no longer work in the near future. If you are using a Homebrew or Linuxbrew Python, please see discussion at https://github.com/Homebrew/homebrew-core/issues/76621\u001b[0m\u001b[33m\n",
      "\u001b[0m\u001b[33m  DEPRECATION: Configuring installation scheme with distutils config files is deprecated and will no longer work in the near future. If you are using a Homebrew or Linuxbrew Python, please see discussion at https://github.com/Homebrew/homebrew-core/issues/76621\u001b[0m\u001b[33m\n",
      "\u001b[0m\u001b[33m  DEPRECATION: Configuring installation scheme with distutils config files is deprecated and will no longer work in the near future. If you are using a Homebrew or Linuxbrew Python, please see discussion at https://github.com/Homebrew/homebrew-core/issues/76621\u001b[0m\u001b[33m\n",
      "\u001b[0m\u001b[33m  DEPRECATION: Configuring installation scheme with distutils config files is deprecated and will no longer work in the near future. If you are using a Homebrew or Linuxbrew Python, please see discussion at https://github.com/Homebrew/homebrew-core/issues/76621\u001b[0m\u001b[33m\n",
      "\u001b[0m\u001b[33m  DEPRECATION: Configuring installation scheme with distutils config files is deprecated and will no longer work in the near future. If you are using a Homebrew or Linuxbrew Python, please see discussion at https://github.com/Homebrew/homebrew-core/issues/76621\u001b[0m\u001b[33m\n",
      "\u001b[0m\u001b[33m  DEPRECATION: Configuring installation scheme with distutils config files is deprecated and will no longer work in the near future. If you are using a Homebrew or Linuxbrew Python, please see discussion at https://github.com/Homebrew/homebrew-core/issues/76621\u001b[0m\u001b[33m\n",
      "\u001b[0m\u001b[33m  DEPRECATION: Configuring installation scheme with distutils config files is deprecated and will no longer work in the near future. If you are using a Homebrew or Linuxbrew Python, please see discussion at https://github.com/Homebrew/homebrew-core/issues/76621\u001b[0m\u001b[33m\n",
      "\u001b[0m\u001b[33m  DEPRECATION: Configuring installation scheme with distutils config files is deprecated and will no longer work in the near future. If you are using a Homebrew or Linuxbrew Python, please see discussion at https://github.com/Homebrew/homebrew-core/issues/76621\u001b[0m\u001b[33m\n",
      "\u001b[0m\u001b[33m  DEPRECATION: Configuring installation scheme with distutils config files is deprecated and will no longer work in the near future. If you are using a Homebrew or Linuxbrew Python, please see discussion at https://github.com/Homebrew/homebrew-core/issues/76621\u001b[0m\u001b[33m\n",
      "\u001b[0m\u001b[33m  DEPRECATION: Configuring installation scheme with distutils config files is deprecated and will no longer work in the near future. If you are using a Homebrew or Linuxbrew Python, please see discussion at https://github.com/Homebrew/homebrew-core/issues/76621\u001b[0m\u001b[33m\n",
      "\u001b[0m\u001b[33m  DEPRECATION: Configuring installation scheme with distutils config files is deprecated and will no longer work in the near future. If you are using a Homebrew or Linuxbrew Python, please see discussion at https://github.com/Homebrew/homebrew-core/issues/76621\u001b[0m\u001b[33m\n",
      "\u001b[0m\u001b[33m  DEPRECATION: Configuring installation scheme with distutils config files is deprecated and will no longer work in the near future. If you are using a Homebrew or Linuxbrew Python, please see discussion at https://github.com/Homebrew/homebrew-core/issues/76621\u001b[0m\u001b[33m\n",
      "\u001b[0m\u001b[33m  DEPRECATION: Configuring installation scheme with distutils config files is deprecated and will no longer work in the near future. If you are using a Homebrew or Linuxbrew Python, please see discussion at https://github.com/Homebrew/homebrew-core/issues/76621\u001b[0m\u001b[33m\n",
      "\u001b[0m\u001b[33m  DEPRECATION: Configuring installation scheme with distutils config files is deprecated and will no longer work in the near future. If you are using a Homebrew or Linuxbrew Python, please see discussion at https://github.com/Homebrew/homebrew-core/issues/76621\u001b[0m\u001b[33m\n",
      "\u001b[0m\u001b[33m  DEPRECATION: Configuring installation scheme with distutils config files is deprecated and will no longer work in the near future. If you are using a Homebrew or Linuxbrew Python, please see discussion at https://github.com/Homebrew/homebrew-core/issues/76621\u001b[0m\u001b[33m\n",
      "\u001b[0m\u001b[33m  DEPRECATION: Configuring installation scheme with distutils config files is deprecated and will no longer work in the near future. If you are using a Homebrew or Linuxbrew Python, please see discussion at https://github.com/Homebrew/homebrew-core/issues/76621\u001b[0m\u001b[33m\n",
      "\u001b[0m\u001b[33m  DEPRECATION: Configuring installation scheme with distutils config files is deprecated and will no longer work in the near future. If you are using a Homebrew or Linuxbrew Python, please see discussion at https://github.com/Homebrew/homebrew-core/issues/76621\u001b[0m\u001b[33m\n",
      "\u001b[0m\u001b[33m  DEPRECATION: Configuring installation scheme with distutils config files is deprecated and will no longer work in the near future. If you are using a Homebrew or Linuxbrew Python, please see discussion at https://github.com/Homebrew/homebrew-core/issues/76621\u001b[0m\u001b[33m\n",
      "\u001b[0m\u001b[33m  DEPRECATION: Configuring installation scheme with distutils config files is deprecated and will no longer work in the near future. If you are using a Homebrew or Linuxbrew Python, please see discussion at https://github.com/Homebrew/homebrew-core/issues/76621\u001b[0m\u001b[33m\n",
      "\u001b[0m\u001b[33m  DEPRECATION: Configuring installation scheme with distutils config files is deprecated and will no longer work in the near future. If you are using a Homebrew or Linuxbrew Python, please see discussion at https://github.com/Homebrew/homebrew-core/issues/76621\u001b[0m\u001b[33m\n",
      "\u001b[0m\u001b[33m  DEPRECATION: Configuring installation scheme with distutils config files is deprecated and will no longer work in the near future. If you are using a Homebrew or Linuxbrew Python, please see discussion at https://github.com/Homebrew/homebrew-core/issues/76621\u001b[0m\u001b[33m\n",
      "\u001b[0m\u001b[33mDEPRECATION: Configuring installation scheme with distutils config files is deprecated and will no longer work in the near future. If you are using a Homebrew or Linuxbrew Python, please see discussion at https://github.com/Homebrew/homebrew-core/issues/76621\u001b[0m\u001b[33m\n",
      "\u001b[0mSuccessfully installed PyDispatcher-2.0.7 Scrapy-2.12.0 Twisted-24.11.0 automat-24.8.1 constantly-23.10.4 cryptography-44.0.0 cssselect-1.2.0 filelock-3.16.1 hyperlink-21.0.0 incremental-24.7.2 itemadapter-0.10.0 itemloaders-1.3.2 jmespath-1.0.1 lxml-5.3.0 parsel-1.9.1 protego-0.3.1 pyOpenSSL-24.3.0 pyasn1-0.6.1 pyasn1-modules-0.4.1 queuelib-1.7.0 requests-file-2.1.0 service-identity-24.2.0 tldextract-5.1.3 w3lib-2.2.1 zope.interface-7.2\n",
      "\n",
      "\u001b[1m[\u001b[0m\u001b[34;49mnotice\u001b[0m\u001b[1;39;49m]\u001b[0m\u001b[39;49m A new release of pip is available: \u001b[0m\u001b[31;49m24.2\u001b[0m\u001b[39;49m -> \u001b[0m\u001b[32;49m24.3.1\u001b[0m\n",
      "\u001b[1m[\u001b[0m\u001b[34;49mnotice\u001b[0m\u001b[1;39;49m]\u001b[0m\u001b[39;49m To update, run: \u001b[0m\u001b[32;49mpython3.9 -m pip install --upgrade pip\u001b[0m\n"
     ]
    }
   ],
   "source": [
    "#!python3.9 -m pip install Scrapy"
   ]
  },
  {
   "cell_type": "code",
   "execution_count": 1,
   "id": "5195c3c9-ca12-4ac7-932e-f64d8a846c91",
   "metadata": {},
   "outputs": [],
   "source": [
    "from scrapy import Spider\n",
    "from scrapy.selector import Selector\n",
    "from scrapy.http import Request\n",
    "from urllib.parse import urlencode"
   ]
  },
  {
   "cell_type": "code",
   "execution_count": 2,
   "id": "c2c82ec6-ece8-413e-ac11-4059fc895a8a",
   "metadata": {},
   "outputs": [],
   "source": [
    "from scrapy.item import Item, Field\n",
    "\n",
    "class mPage(Item):\n",
    "\ttext = Field()"
   ]
  },
  {
   "cell_type": "code",
   "execution_count": 3,
   "id": "1d1b1c0e-65cc-4bc5-9fcc-719d085b3919",
   "metadata": {},
   "outputs": [],
   "source": [
    "class mSpider(Spider):\n",
    "    name = \"crawl 1\"\n",
    "    allowed_domains = ['proxy.scrapeops.io', \"fanfiction.net\"]\n",
    "    headers = {\"user-agent\": \"Mozilla/5.0 (Linux; Android 6.0; Nexus 5 Build/MRA58N) AppleWebKit/537.36 (KHTML, like Gecko) Chrome/101.0.4951.67 Mobile Safari/537.36\",\n",
    "        \"accept\": \"application/json\",\n",
    "        \"accept-encoding\": \"gzip, deflate, br\",\n",
    "        \"accept-language\": \"en-US,en;q=0.9,en-GB;q=0.8,ar;q=0.7\",\n",
    "        \"cache-control\":\" no-cache\",\n",
    "        \"pragma\": \"no-cache\",\n",
    "        \"referer\": \"https://steamdb.info/graph/\", \n",
    "        \"sec-fetch-dest\": \"empty\",\n",
    "        \"sec-fetch-mode\": \"cors\",\n",
    "        \"sec-fetch-site\": \"same-origin\",\n",
    "        \"x-requested-with\": \"XMLHttpRequest\"}\n",
    "    start_urls = [\n",
    "        \"https://www.fanfiction.net/tv/Sherlock/\"\n",
    "    ]\n",
    "\n",
    "    API_KEY = \"\"\n",
    "    def get_scrapeops_url(self, url):\n",
    "        payload = {'api_key': self.API_KEY, 'url': url}\n",
    "        proxy_url = 'https://proxy.scrapeops.io/v1/?' + urlencode(payload)\n",
    "        return proxy_url\n",
    "\n",
    "    def start_requests(self):\n",
    "        for url in self.start_urls:\n",
    "            proxy_url = self.get_scrapeops_url(url)\n",
    "            yield Request(url=proxy_url, callback=self.parse, headers=self.headers)\n",
    "            \n",
    "    def parse(self, response):\n",
    "        select = Selector(response)\n",
    "        stories = select.css('a.stitle')\n",
    "        for story in stories.xpath('@href').extract():\n",
    "            url = 'https://www.fanfiction.net' + story\n",
    "            proxy_url = self.get_scrapeops_url(url)\n",
    "            yield Request(proxy_url, self.parseStoryPage, headers=self.headers)\n",
    "\n",
    "        # index next page too\n",
    "        next_page = select.xpath('//a[contains(text(), \"Next\")]/@href')\n",
    "        print(len(stories))\n",
    "        if len(next_page) > 0:\n",
    "            next_page_url = 'https://www.fanfiction.net' + next_page[0].extract()\n",
    "            proxy_url = self.get_scrapeops_url(next_page_url)\n",
    "            yield Request(proxy_url, callback=self.parse, headers=self.headers)\n",
    "\n",
    "\n",
    "    def parseStoryPage(self, response):\n",
    "        select = Selector(response)\n",
    "        textnodes = select.css('.storytext p').xpath('text()')\n",
    "        language = ' '.join(select.css('#profile_top .xgray').xpath('text()').extract())\n",
    "        print()\n",
    "        if 'English' in language and len(textnodes) >= 1:\n",
    "            print(response.url)\n",
    "            front = response.url.split(\"%2F\")[:-3]\n",
    "            story_id = int(response.url.split(\"%2F\")[-3])\n",
    "            page_num = int(response.url.split(\"%2F\")[-2])\n",
    "            end = response.url.split(\"%2F\")[-1:]\n",
    "\n",
    "            text = textnodes.extract()\n",
    "            page = mPage()\n",
    "            page['text'] = u'\\n'.join(text)\n",
    "            with open('docs/' + str(story_id) + '.txt', 'a') as txtfile:\n",
    "                unicode_text = page['text'] + u'\\n'#).encode('utf8')\n",
    "                txtfile.write(unicode_text)\n",
    "\n",
    "            _page = '/'.join(front) + '/' + str(story_id) + '/' + str(page_num+1) + '/' + '/'.join(end)\n",
    "            proxy_url = self.get_scrapeops_url(_page)\n",
    "            # crawl the next page\n",
    "            yield Request(url=proxy_url, callback=self.parseStoryPage, headers=self.headers)"
   ]
  },
  {
   "cell_type": "code",
   "execution_count": 4,
   "id": "fa08e386-f29f-4a82-9a9f-9c2ef6427262",
   "metadata": {},
   "outputs": [],
   "source": [
    "from scrapy.crawler import CrawlerProcess"
   ]
  },
  {
   "cell_type": "code",
   "execution_count": 5,
   "id": "856b82fc-71ba-451a-828f-4f288280885f",
   "metadata": {
    "scrolled": true
   },
   "outputs": [
    {
     "name": "stderr",
     "output_type": "stream",
     "text": [
      "2024-12-04 10:36:49 [scrapy.utils.log] INFO: Scrapy 2.12.0 started (bot: scrapybot)\n",
      "2024-12-04 10:36:49 [scrapy.utils.log] INFO: Versions: lxml 5.3.0.0, libxml2 2.12.9, cssselect 1.2.0, parsel 1.9.1, w3lib 2.2.1, Twisted 24.11.0, Python 3.9.20 (main, Nov  6 2024, 15:08:59) - [Clang 12.0.0 (clang-1200.0.32.29)], pyOpenSSL 24.3.0 (OpenSSL 3.4.0 22 Oct 2024), cryptography 44.0.0, Platform macOS-10.15.7-x86_64-i386-64bit\n",
      "2024-12-04 10:36:49 [scrapy.addons] INFO: Enabled addons:\n",
      "[]\n",
      "2024-12-04 10:36:49 [scrapy.utils.log] DEBUG: Using reactor: twisted.internet.selectreactor.SelectReactor\n",
      "2024-12-04 10:36:49 [scrapy.extensions.telnet] INFO: Telnet Password: 5cc74312b262ee37\n",
      "2024-12-04 10:36:49 [scrapy.middleware] INFO: Enabled extensions:\n",
      "['scrapy.extensions.corestats.CoreStats',\n",
      " 'scrapy.extensions.telnet.TelnetConsole',\n",
      " 'scrapy.extensions.memusage.MemoryUsage',\n",
      " 'scrapy.extensions.logstats.LogStats']\n",
      "2024-12-04 10:36:49 [scrapy.crawler] INFO: Overridden settings:\n",
      "{}\n",
      "2024-12-04 10:36:50 [scrapy.middleware] INFO: Enabled downloader middlewares:\n",
      "['scrapy.downloadermiddlewares.offsite.OffsiteMiddleware',\n",
      " 'scrapy.downloadermiddlewares.httpauth.HttpAuthMiddleware',\n",
      " 'scrapy.downloadermiddlewares.downloadtimeout.DownloadTimeoutMiddleware',\n",
      " 'scrapy.downloadermiddlewares.defaultheaders.DefaultHeadersMiddleware',\n",
      " 'scrapy.downloadermiddlewares.useragent.UserAgentMiddleware',\n",
      " 'scrapy.downloadermiddlewares.retry.RetryMiddleware',\n",
      " 'scrapy.downloadermiddlewares.redirect.MetaRefreshMiddleware',\n",
      " 'scrapy.downloadermiddlewares.httpcompression.HttpCompressionMiddleware',\n",
      " 'scrapy.downloadermiddlewares.redirect.RedirectMiddleware',\n",
      " 'scrapy.downloadermiddlewares.cookies.CookiesMiddleware',\n",
      " 'scrapy.downloadermiddlewares.httpproxy.HttpProxyMiddleware',\n",
      " 'scrapy.downloadermiddlewares.stats.DownloaderStats']\n",
      "2024-12-04 10:36:50 [scrapy.middleware] INFO: Enabled spider middlewares:\n",
      "['scrapy.spidermiddlewares.httperror.HttpErrorMiddleware',\n",
      " 'scrapy.spidermiddlewares.referer.RefererMiddleware',\n",
      " 'scrapy.spidermiddlewares.urllength.UrlLengthMiddleware',\n",
      " 'scrapy.spidermiddlewares.depth.DepthMiddleware']\n",
      "2024-12-04 10:36:50 [scrapy.middleware] INFO: Enabled item pipelines:\n",
      "[]\n",
      "2024-12-04 10:36:50 [scrapy.core.engine] INFO: Spider opened\n",
      "2024-12-04 10:36:50 [scrapy.extensions.logstats] INFO: Crawled 0 pages (at 0 pages/min), scraped 0 items (at 0 items/min)\n",
      "2024-12-04 10:36:50 [scrapy.extensions.telnet] INFO: Telnet console listening on 127.0.0.1:6023\n",
      "2024-12-04 10:36:52 [scrapy.core.engine] DEBUG: Crawled (200) <GET https://proxy.scrapeops.io/v1/?api_key=&url=https%3A%2F%2Fwww.fanfiction.net%2Ftv%2FSherlock%2F> (referer: https://steamdb.info/graph/)\n"
     ]
    },
    {
     "name": "stdout",
     "output_type": "stream",
     "text": [
      "25\n"
     ]
    },
    {
     "name": "stderr",
     "output_type": "stream",
     "text": [
      "2024-12-04 10:36:54 [scrapy.core.engine] DEBUG: Crawled (200) <GET https://proxy.scrapeops.io/v1/?api_key=&url=https%3A%2F%2Fwww.fanfiction.net%2Fs%2F14409440%2F1%2FSlumber-in-Transit> (referer: https://steamdb.info/graph/)\n",
      "2024-12-04 10:36:54 [scrapy.core.engine] DEBUG: Crawled (200) <GET https://proxy.scrapeops.io/v1/?api_key=&url=https%3A%2F%2Fwww.fanfiction.net%2Fs%2F14286981%2F1%2FA-Man-From-All-Sides> (referer: https://steamdb.info/graph/)\n",
      "2024-12-04 10:36:54 [scrapy.core.engine] DEBUG: Crawled (200) <GET https://proxy.scrapeops.io/v1/?api_key=&url=https%3A%2F%2Fwww.fanfiction.net%2Fs%2F14411312%2F1%2FThrough-The-Fog-of-Illness> (referer: https://steamdb.info/graph/)\n"
     ]
    },
    {
     "name": "stdout",
     "output_type": "stream",
     "text": [
      "\n",
      "https://proxy.scrapeops.io/v1/?api_key=&url=https%3A%2F%2Fwww.fanfiction.net%2Fs%2F14409440%2F1%2FSlumber-in-Transit\n",
      "\n",
      "https://proxy.scrapeops.io/v1/?api_key=&url=https%3A%2F%2Fwww.fanfiction.net%2Fs%2F14286981%2F1%2FA-Man-From-All-Sides\n"
     ]
    },
    {
     "name": "stderr",
     "output_type": "stream",
     "text": [
      "2024-12-04 10:36:55 [scrapy.core.engine] DEBUG: Crawled (200) <GET https://proxy.scrapeops.io/v1/?api_key=&url=https%3A%2F%2Fwww.fanfiction.net%2Fs%2F14409571%2F1%2FHeat-of-the-Moment> (referer: https://steamdb.info/graph/)\n",
      "2024-12-04 10:36:55 [scrapy.core.engine] DEBUG: Crawled (200) <GET https://proxy.scrapeops.io/v1/?api_key=&url=https%3A%2F%2Fwww.fanfiction.net%2Fs%2F12343696%2F1%2FThere-I-Saw-You-Night> (referer: https://steamdb.info/graph/)\n"
     ]
    },
    {
     "name": "stdout",
     "output_type": "stream",
     "text": [
      "\n",
      "https://proxy.scrapeops.io/v1/?api_key=&url=https%3A%2F%2Fwww.fanfiction.net%2Fs%2F14411312%2F1%2FThrough-The-Fog-of-Illness\n",
      "\n",
      "https://proxy.scrapeops.io/v1/?api_key=&url=https%3A%2F%2Fwww.fanfiction.net%2Fs%2F14409571%2F1%2FHeat-of-the-Moment\n",
      "\n",
      "https://proxy.scrapeops.io/v1/?api_key=&url=https%3A%2F%2Fwww.fanfiction.net%2Fs%2F12343696%2F1%2FThere-I-Saw-You-Night\n"
     ]
    },
    {
     "name": "stderr",
     "output_type": "stream",
     "text": [
      "2024-12-04 10:36:56 [scrapy.core.engine] DEBUG: Crawled (200) <GET https://proxy.scrapeops.io/v1/?api_key=&url=https%3A%2F%2Fwww.fanfiction.net%2Fs%2F12705981%2F1%2FJohnlock-Love> (referer: https://steamdb.info/graph/)\n",
      "2024-12-04 10:36:56 [scrapy.core.engine] DEBUG: Crawled (200) <GET https://proxy.scrapeops.io/v1/?api_key=&url=https%3A%2F%2Fwww.fanfiction.net%2Fs%2F13473506%2F1%2FSurprise> (referer: https://steamdb.info/graph/)\n",
      "2024-12-04 10:36:56 [scrapy.core.engine] DEBUG: Crawled (200) <GET https://proxy.scrapeops.io/v1/?api_key=&url=https%3A%2F%2Fwww.fanfiction.net%2Fs%2F14406713%2F1%2FA-Game-of-Monopoly> (referer: https://steamdb.info/graph/)\n"
     ]
    },
    {
     "name": "stdout",
     "output_type": "stream",
     "text": [
      "\n",
      "https://proxy.scrapeops.io/v1/?api_key=&url=https%3A%2F%2Fwww.fanfiction.net%2Fs%2F12705981%2F1%2FJohnlock-Love\n",
      "\n",
      "https://proxy.scrapeops.io/v1/?api_key=&url=https%3A%2F%2Fwww.fanfiction.net%2Fs%2F13473506%2F1%2FSurprise\n"
     ]
    },
    {
     "name": "stderr",
     "output_type": "stream",
     "text": [
      "2024-12-04 10:36:56 [scrapy.core.engine] DEBUG: Crawled (200) <GET https://proxy.scrapeops.io/v1/?api_key=&url=https%3A%2F%2Fwww.fanfiction.net%2Fs%2F14412444%2F1%2FIn-The-Shadow-of-Danger> (referer: https://steamdb.info/graph/)\n"
     ]
    },
    {
     "name": "stdout",
     "output_type": "stream",
     "text": [
      "\n",
      "https://proxy.scrapeops.io/v1/?api_key=&url=https%3A%2F%2Fwww.fanfiction.net%2Fs%2F14406713%2F1%2FA-Game-of-Monopoly\n",
      "\n",
      "https://proxy.scrapeops.io/v1/?api_key=&url=https%3A%2F%2Fwww.fanfiction.net%2Fs%2F14412444%2F1%2FIn-The-Shadow-of-Danger\n"
     ]
    },
    {
     "name": "stderr",
     "output_type": "stream",
     "text": [
      "2024-12-04 10:36:57 [scrapy.core.engine] DEBUG: Crawled (200) <GET https://proxy.scrapeops.io/v1/?api_key=&url=https%3A%2F%2Fwww.fanfiction.net%2Ftv%2FSherlock%2F%3F%26srt%3D1%26r%3D103%26p%3D2> (referer: https://steamdb.info/graph/)\n"
     ]
    },
    {
     "name": "stdout",
     "output_type": "stream",
     "text": [
      "25\n"
     ]
    },
    {
     "name": "stderr",
     "output_type": "stream",
     "text": [
      "2024-12-04 10:36:57 [scrapy.core.engine] DEBUG: Crawled (200) <GET https://proxy.scrapeops.io/v1/?api_key=&url=https%3A%2F%2Fwww.fanfiction.net%2Fs%2F14406844%2F1%2FThe-Lost-Mind-of-Sherlock-Holmes> (referer: https://steamdb.info/graph/)\n",
      "2024-12-04 10:36:57 [scrapy.core.engine] DEBUG: Crawled (400) <GET https://proxy.scrapeops.io/v1/?api_key=&url=https%3A%2F%2Fproxy.scrapeops.io%2Fv1%2F%3Fapi_key%3D%26url%3Dhttps%253A%2F%2Fwww.fanfiction.net%2Fs%2F14286981%2F2%2FA-Man-From-All-Sides> (referer: https://steamdb.info/graph/)\n",
      "2024-12-04 10:36:57 [scrapy.core.engine] DEBUG: Crawled (400) <GET https://proxy.scrapeops.io/v1/?api_key=&url=https%3A%2F%2Fproxy.scrapeops.io%2Fv1%2F%3Fapi_key%3D%26url%3Dhttps%253A%2F%2Fwww.fanfiction.net%2Fs%2F14411312%2F2%2FThrough-The-Fog-of-Illness> (referer: https://steamdb.info/graph/)\n",
      "2024-12-04 10:36:57 [scrapy.core.engine] DEBUG: Crawled (200) <GET https://proxy.scrapeops.io/v1/?api_key=&url=https%3A%2F%2Fwww.fanfiction.net%2Fs%2F14406852%2F1%2FThe-Fractured-Mind> (referer: https://steamdb.info/graph/)\n",
      "2024-12-04 10:36:57 [scrapy.spidermiddlewares.httperror] INFO: Ignoring response <400 https://proxy.scrapeops.io/v1/?api_key=&url=https%3A%2F%2Fproxy.scrapeops.io%2Fv1%2F%3Fapi_key%3D%26url%3Dhttps%253A%2F%2Fwww.fanfiction.net%2Fs%2F14286981%2F2%2FA-Man-From-All-Sides>: HTTP status code is not handled or not allowed\n",
      "2024-12-04 10:36:57 [scrapy.core.engine] DEBUG: Crawled (400) <GET https://proxy.scrapeops.io/v1/?api_key=&url=https%3A%2F%2Fproxy.scrapeops.io%2Fv1%2F%3Fapi_key%3D%26url%3Dhttps%253A%2F%2Fwww.fanfiction.net%2Fs%2F14409571%2F2%2FHeat-of-the-Moment> (referer: https://steamdb.info/graph/)\n",
      "2024-12-04 10:36:57 [scrapy.spidermiddlewares.httperror] INFO: Ignoring response <400 https://proxy.scrapeops.io/v1/?api_key=&url=https%3A%2F%2Fproxy.scrapeops.io%2Fv1%2F%3Fapi_key%3D%26url%3Dhttps%253A%2F%2Fwww.fanfiction.net%2Fs%2F14411312%2F2%2FThrough-The-Fog-of-Illness>: HTTP status code is not handled or not allowed\n",
      "2024-12-04 10:36:57 [scrapy.core.engine] DEBUG: Crawled (400) <GET https://proxy.scrapeops.io/v1/?api_key=&url=https%3A%2F%2Fproxy.scrapeops.io%2Fv1%2F%3Fapi_key%3D%26url%3Dhttps%253A%2F%2Fwww.fanfiction.net%2Fs%2F12343696%2F2%2FThere-I-Saw-You-Night> (referer: https://steamdb.info/graph/)\n"
     ]
    },
    {
     "name": "stdout",
     "output_type": "stream",
     "text": [
      "\n",
      "https://proxy.scrapeops.io/v1/?api_key=&url=https%3A%2F%2Fwww.fanfiction.net%2Fs%2F14406844%2F1%2FThe-Lost-Mind-of-Sherlock-Holmes\n",
      "\n",
      "https://proxy.scrapeops.io/v1/?api_key=&url=https%3A%2F%2Fwww.fanfiction.net%2Fs%2F14406852%2F1%2FThe-Fractured-Mind\n"
     ]
    },
    {
     "name": "stderr",
     "output_type": "stream",
     "text": [
      "2024-12-04 10:36:58 [scrapy.core.engine] DEBUG: Crawled (400) <GET https://proxy.scrapeops.io/v1/?api_key=&url=https%3A%2F%2Fproxy.scrapeops.io%2Fv1%2F%3Fapi_key%3D%26url%3Dhttps%253A%2F%2Fwww.fanfiction.net%2Fs%2F12705981%2F2%2FJohnlock-Love> (referer: https://steamdb.info/graph/)\n",
      "2024-12-04 10:36:58 [scrapy.spidermiddlewares.httperror] INFO: Ignoring response <400 https://proxy.scrapeops.io/v1/?api_key=&url=https%3A%2F%2Fproxy.scrapeops.io%2Fv1%2F%3Fapi_key%3D%26url%3Dhttps%253A%2F%2Fwww.fanfiction.net%2Fs%2F14409571%2F2%2FHeat-of-the-Moment>: HTTP status code is not handled or not allowed\n",
      "2024-12-04 10:36:58 [scrapy.core.engine] DEBUG: Crawled (400) <GET https://proxy.scrapeops.io/v1/?api_key=&url=https%3A%2F%2Fproxy.scrapeops.io%2Fv1%2F%3Fapi_key%3D%26url%3Dhttps%253A%2F%2Fwww.fanfiction.net%2Fs%2F14409440%2F2%2FSlumber-in-Transit> (referer: https://steamdb.info/graph/)\n",
      "2024-12-04 10:36:58 [scrapy.spidermiddlewares.httperror] INFO: Ignoring response <400 https://proxy.scrapeops.io/v1/?api_key=&url=https%3A%2F%2Fproxy.scrapeops.io%2Fv1%2F%3Fapi_key%3D%26url%3Dhttps%253A%2F%2Fwww.fanfiction.net%2Fs%2F12343696%2F2%2FThere-I-Saw-You-Night>: HTTP status code is not handled or not allowed\n",
      "2024-12-04 10:36:58 [scrapy.core.engine] DEBUG: Crawled (400) <GET https://proxy.scrapeops.io/v1/?api_key=&url=https%3A%2F%2Fproxy.scrapeops.io%2Fv1%2F%3Fapi_key%3D%26url%3Dhttps%253A%2F%2Fwww.fanfiction.net%2Fs%2F14406713%2F2%2FA-Game-of-Monopoly> (referer: https://steamdb.info/graph/)\n",
      "2024-12-04 10:36:58 [scrapy.spidermiddlewares.httperror] INFO: Ignoring response <400 https://proxy.scrapeops.io/v1/?api_key=&url=https%3A%2F%2Fproxy.scrapeops.io%2Fv1%2F%3Fapi_key%3D%26url%3Dhttps%253A%2F%2Fwww.fanfiction.net%2Fs%2F12705981%2F2%2FJohnlock-Love>: HTTP status code is not handled or not allowed\n",
      "2024-12-04 10:36:58 [scrapy.spidermiddlewares.httperror] INFO: Ignoring response <400 https://proxy.scrapeops.io/v1/?api_key=&url=https%3A%2F%2Fproxy.scrapeops.io%2Fv1%2F%3Fapi_key%3D%26url%3Dhttps%253A%2F%2Fwww.fanfiction.net%2Fs%2F14409440%2F2%2FSlumber-in-Transit>: HTTP status code is not handled or not allowed\n",
      "2024-12-04 10:36:58 [scrapy.core.engine] DEBUG: Crawled (400) <GET https://proxy.scrapeops.io/v1/?api_key=&url=https%3A%2F%2Fproxy.scrapeops.io%2Fv1%2F%3Fapi_key%3D%26url%3Dhttps%253A%2F%2Fwww.fanfiction.net%2Fs%2F14412444%2F2%2FIn-The-Shadow-of-Danger> (referer: https://steamdb.info/graph/)\n",
      "2024-12-04 10:36:58 [scrapy.spidermiddlewares.httperror] INFO: Ignoring response <400 https://proxy.scrapeops.io/v1/?api_key=&url=https%3A%2F%2Fproxy.scrapeops.io%2Fv1%2F%3Fapi_key%3D%26url%3Dhttps%253A%2F%2Fwww.fanfiction.net%2Fs%2F14406713%2F2%2FA-Game-of-Monopoly>: HTTP status code is not handled or not allowed\n",
      "2024-12-04 10:36:58 [scrapy.spidermiddlewares.httperror] INFO: Ignoring response <400 https://proxy.scrapeops.io/v1/?api_key=&url=https%3A%2F%2Fproxy.scrapeops.io%2Fv1%2F%3Fapi_key%3D%26url%3Dhttps%253A%2F%2Fwww.fanfiction.net%2Fs%2F14412444%2F2%2FIn-The-Shadow-of-Danger>: HTTP status code is not handled or not allowed\n",
      "2024-12-04 10:36:59 [scrapy.core.engine] DEBUG: Crawled (200) <GET https://proxy.scrapeops.io/v1/?api_key=&url=https%3A%2F%2Fwww.fanfiction.net%2Fs%2F14407102%2F1%2FResurrection-of-Reason> (referer: https://steamdb.info/graph/)\n",
      "2024-12-04 10:36:59 [scrapy.core.engine] DEBUG: Crawled (400) <GET https://proxy.scrapeops.io/v1/?api_key=&url=https%3A%2F%2Fproxy.scrapeops.io%2Fv1%2F%3Fapi_key%3D%26url%3Dhttps%253A%2F%2Fwww.fanfiction.net%2Fs%2F14406844%2F2%2FThe-Lost-Mind-of-Sherlock-Holmes> (referer: https://steamdb.info/graph/)\n",
      "2024-12-04 10:36:59 [scrapy.spidermiddlewares.httperror] INFO: Ignoring response <400 https://proxy.scrapeops.io/v1/?api_key=&url=https%3A%2F%2Fproxy.scrapeops.io%2Fv1%2F%3Fapi_key%3D%26url%3Dhttps%253A%2F%2Fwww.fanfiction.net%2Fs%2F14406844%2F2%2FThe-Lost-Mind-of-Sherlock-Holmes>: HTTP status code is not handled or not allowed\n"
     ]
    },
    {
     "name": "stdout",
     "output_type": "stream",
     "text": [
      "\n"
     ]
    },
    {
     "name": "stderr",
     "output_type": "stream",
     "text": [
      "2024-12-04 10:36:59 [scrapy.core.engine] DEBUG: Crawled (200) <GET https://proxy.scrapeops.io/v1/?api_key=&url=https%3A%2F%2Fwww.fanfiction.net%2Fs%2F14364618%2F1%2FThe-Case-Of-The-Flow-Country> (referer: https://steamdb.info/graph/)\n",
      "2024-12-04 10:36:59 [scrapy.downloadermiddlewares.retry] DEBUG: Retrying <GET https://proxy.scrapeops.io/v1/?api_key=&url=https%3A%2F%2Fwww.fanfiction.net%2Fs%2F14412913%2F1%2FTruly-Madly-Sherlock> (failed 1 times): 429 Unknown Status\n"
     ]
    },
    {
     "name": "stdout",
     "output_type": "stream",
     "text": [
      "\n",
      "https://proxy.scrapeops.io/v1/?api_key=&url=https%3A%2F%2Fwww.fanfiction.net%2Fs%2F14364618%2F1%2FThe-Case-Of-The-Flow-Country\n"
     ]
    },
    {
     "name": "stderr",
     "output_type": "stream",
     "text": [
      "2024-12-04 10:37:00 [scrapy.core.engine] DEBUG: Crawled (200) <GET https://proxy.scrapeops.io/v1/?api_key=&url=https%3A%2F%2Fwww.fanfiction.net%2Ftv%2FSherlock%2F%3F%26srt%3D1%26r%3D103%26p%3D3> (referer: https://steamdb.info/graph/)\n",
      "2024-12-04 10:37:00 [scrapy.core.engine] DEBUG: Crawled (400) <GET https://proxy.scrapeops.io/v1/?api_key=&url=https%3A%2F%2Fproxy.scrapeops.io%2Fv1%2F%3Fapi_key%3D%26url%3Dhttps%253A%2F%2Fwww.fanfiction.net%2Fs%2F14406852%2F2%2FThe-Fractured-Mind> (referer: https://steamdb.info/graph/)\n",
      "2024-12-04 10:37:00 [scrapy.spidermiddlewares.httperror] INFO: Ignoring response <400 https://proxy.scrapeops.io/v1/?api_key=&url=https%3A%2F%2Fproxy.scrapeops.io%2Fv1%2F%3Fapi_key%3D%26url%3Dhttps%253A%2F%2Fwww.fanfiction.net%2Fs%2F14406852%2F2%2FThe-Fractured-Mind>: HTTP status code is not handled or not allowed\n",
      "2024-12-04 10:37:00 [scrapy.downloadermiddlewares.retry] DEBUG: Retrying <GET https://proxy.scrapeops.io/v1/?api_key=&url=https%3A%2F%2Fwww.fanfiction.net%2Fs%2F14406351%2F1%2FThe-Scalpel> (failed 1 times): 429 Unknown Status\n"
     ]
    },
    {
     "name": "stdout",
     "output_type": "stream",
     "text": [
      "25\n"
     ]
    },
    {
     "name": "stderr",
     "output_type": "stream",
     "text": [
      "2024-12-04 10:37:00 [scrapy.core.engine] DEBUG: Crawled (200) <GET https://proxy.scrapeops.io/v1/?api_key=&url=https%3A%2F%2Fwww.fanfiction.net%2Fs%2F14368767%2F1%2FQuelque-chose-cloche> (referer: https://steamdb.info/graph/)\n"
     ]
    },
    {
     "name": "stdout",
     "output_type": "stream",
     "text": [
      "\n"
     ]
    },
    {
     "name": "stderr",
     "output_type": "stream",
     "text": [
      "2024-12-04 10:37:01 [scrapy.core.engine] DEBUG: Crawled (200) <GET https://proxy.scrapeops.io/v1/?api_key=&url=https%3A%2F%2Fwww.fanfiction.net%2Fs%2F14369973%2F1%2FThe-Friendship-We-Share> (referer: https://steamdb.info/graph/)\n"
     ]
    },
    {
     "name": "stdout",
     "output_type": "stream",
     "text": [
      "\n",
      "https://proxy.scrapeops.io/v1/?api_key=&url=https%3A%2F%2Fwww.fanfiction.net%2Fs%2F14369973%2F1%2FThe-Friendship-We-Share\n"
     ]
    },
    {
     "name": "stderr",
     "output_type": "stream",
     "text": [
      "2024-12-04 10:37:02 [scrapy.core.engine] DEBUG: Crawled (200) <GET https://proxy.scrapeops.io/v1/?api_key=&url=https%3A%2F%2Fwww.fanfiction.net%2Fs%2F14369988%2F1%2FL-Artiste-Gel%25C3%25A9> (referer: https://steamdb.info/graph/)\n"
     ]
    },
    {
     "name": "stdout",
     "output_type": "stream",
     "text": [
      "\n"
     ]
    },
    {
     "name": "stderr",
     "output_type": "stream",
     "text": [
      "2024-12-04 10:37:02 [scrapy.core.engine] DEBUG: Crawled (200) <GET https://proxy.scrapeops.io/v1/?api_key=&url=https%3A%2F%2Fwww.fanfiction.net%2Fs%2F14370505%2F1%2FSherlock-n-est-pas-disponible-ce-soir> (referer: https://steamdb.info/graph/)\n"
     ]
    },
    {
     "name": "stdout",
     "output_type": "stream",
     "text": [
      "\n"
     ]
    },
    {
     "name": "stderr",
     "output_type": "stream",
     "text": [
      "2024-12-04 10:37:03 [scrapy.core.engine] DEBUG: Crawled (200) <GET https://proxy.scrapeops.io/v1/?api_key=&url=https%3A%2F%2Fwww.fanfiction.net%2Fs%2F14332454%2F1%2FGrief> (referer: https://steamdb.info/graph/)\n",
      "2024-12-04 10:37:03 [scrapy.core.engine] DEBUG: Crawled (400) <GET https://proxy.scrapeops.io/v1/?api_key=&url=https%3A%2F%2Fproxy.scrapeops.io%2Fv1%2F%3Fapi_key%3D%26url%3Dhttps%253A%2F%2Fwww.fanfiction.net%2Fs%2F14364618%2F2%2FThe-Case-Of-The-Flow-Country> (referer: https://steamdb.info/graph/)\n",
      "2024-12-04 10:37:03 [scrapy.spidermiddlewares.httperror] INFO: Ignoring response <400 https://proxy.scrapeops.io/v1/?api_key=&url=https%3A%2F%2Fproxy.scrapeops.io%2Fv1%2F%3Fapi_key%3D%26url%3Dhttps%253A%2F%2Fwww.fanfiction.net%2Fs%2F14364618%2F2%2FThe-Case-Of-The-Flow-Country>: HTTP status code is not handled or not allowed\n"
     ]
    },
    {
     "name": "stdout",
     "output_type": "stream",
     "text": [
      "\n",
      "https://proxy.scrapeops.io/v1/?api_key=&url=https%3A%2F%2Fwww.fanfiction.net%2Fs%2F14332454%2F1%2FGrief\n"
     ]
    },
    {
     "name": "stderr",
     "output_type": "stream",
     "text": [
      "2024-12-04 10:37:04 [scrapy.core.engine] DEBUG: Crawled (200) <GET https://proxy.scrapeops.io/v1/?api_key=&url=https%3A%2F%2Fwww.fanfiction.net%2Fs%2F14362413%2F1%2F25-BBC-Sherlock-The-Case-of-Archie-Stamford-the-Forger> (referer: https://steamdb.info/graph/)\n"
     ]
    },
    {
     "name": "stdout",
     "output_type": "stream",
     "text": [
      "\n",
      "https://proxy.scrapeops.io/v1/?api_key=&url=https%3A%2F%2Fwww.fanfiction.net%2Fs%2F14362413%2F1%2F25-BBC-Sherlock-The-Case-of-Archie-Stamford-the-Forger\n"
     ]
    },
    {
     "name": "stderr",
     "output_type": "stream",
     "text": [
      "2024-12-04 10:37:05 [scrapy.core.engine] DEBUG: Crawled (200) <GET https://proxy.scrapeops.io/v1/?api_key=&url=https%3A%2F%2Fwww.fanfiction.net%2Fs%2F10880356%2F1%2FShot-Birds-Falling-Fast> (referer: https://steamdb.info/graph/)\n"
     ]
    },
    {
     "name": "stdout",
     "output_type": "stream",
     "text": [
      "\n",
      "https://proxy.scrapeops.io/v1/?api_key=&url=https%3A%2F%2Fwww.fanfiction.net%2Fs%2F10880356%2F1%2FShot-Birds-Falling-Fast\n"
     ]
    },
    {
     "name": "stderr",
     "output_type": "stream",
     "text": [
      "2024-12-04 10:37:05 [scrapy.downloadermiddlewares.retry] DEBUG: Retrying <GET https://proxy.scrapeops.io/v1/?api_key=&url=https%3A%2F%2Fwww.fanfiction.net%2Fs%2F10077349%2F1%2FMelod%25C3%25ADa-de-invierno> (failed 1 times): 429 Unknown Status\n",
      "2024-12-04 10:37:05 [scrapy.core.engine] DEBUG: Crawled (200) <GET https://proxy.scrapeops.io/v1/?api_key=&url=https%3A%2F%2Fwww.fanfiction.net%2Fs%2F9464923%2F1%2FWe-ll-Keep-Running-For-Our-Lives> (referer: https://steamdb.info/graph/)\n",
      "2024-12-04 10:37:05 [scrapy.downloadermiddlewares.retry] DEBUG: Retrying <GET https://proxy.scrapeops.io/v1/?api_key=&url=https%3A%2F%2Fwww.fanfiction.net%2Fs%2F14370317%2F1%2FThe-Real-Hound-of-the-Baskervilles> (failed 1 times): 429 Unknown Status\n",
      "2024-12-04 10:37:05 [scrapy.core.engine] DEBUG: Crawled (400) <GET https://proxy.scrapeops.io/v1/?api_key=&url=https%3A%2F%2Fproxy.scrapeops.io%2Fv1%2F%3Fapi_key%3D%26url%3Dhttps%253A%2F%2Fwww.fanfiction.net%2Fs%2F14369973%2F2%2FThe-Friendship-We-Share> (referer: https://steamdb.info/graph/)\n",
      "2024-12-04 10:37:05 [scrapy.spidermiddlewares.httperror] INFO: Ignoring response <400 https://proxy.scrapeops.io/v1/?api_key=&url=https%3A%2F%2Fproxy.scrapeops.io%2Fv1%2F%3Fapi_key%3D%26url%3Dhttps%253A%2F%2Fwww.fanfiction.net%2Fs%2F14369973%2F2%2FThe-Friendship-We-Share>: HTTP status code is not handled or not allowed\n"
     ]
    },
    {
     "name": "stdout",
     "output_type": "stream",
     "text": [
      "\n",
      "https://proxy.scrapeops.io/v1/?api_key=&url=https%3A%2F%2Fwww.fanfiction.net%2Fs%2F9464923%2F1%2FWe-ll-Keep-Running-For-Our-Lives\n"
     ]
    },
    {
     "name": "stderr",
     "output_type": "stream",
     "text": [
      "2024-12-04 10:37:06 [scrapy.core.engine] DEBUG: Crawled (200) <GET https://proxy.scrapeops.io/v1/?api_key=&url=https%3A%2F%2Fwww.fanfiction.net%2Fs%2F9853170%2F1%2FThough-We-Went-Our-Separate-Ways> (referer: https://steamdb.info/graph/)\n"
     ]
    },
    {
     "name": "stdout",
     "output_type": "stream",
     "text": [
      "\n",
      "https://proxy.scrapeops.io/v1/?api_key=&url=https%3A%2F%2Fwww.fanfiction.net%2Fs%2F9853170%2F1%2FThough-We-Went-Our-Separate-Ways\n"
     ]
    },
    {
     "name": "stderr",
     "output_type": "stream",
     "text": [
      "2024-12-04 10:37:07 [scrapy.core.engine] DEBUG: Crawled (200) <GET https://proxy.scrapeops.io/v1/?api_key=&url=https%3A%2F%2Fwww.fanfiction.net%2Fs%2F14342737%2F1%2FMycoft-s-Gift> (referer: https://steamdb.info/graph/)\n",
      "2024-12-04 10:37:07 [scrapy.core.engine] DEBUG: Crawled (200) <GET https://proxy.scrapeops.io/v1/?api_key=&url=https%3A%2F%2Fwww.fanfiction.net%2Fs%2F14342188%2F1%2FGrace> (referer: https://steamdb.info/graph/)\n",
      "2024-12-04 10:37:07 [scrapy.core.engine] DEBUG: Crawled (400) <GET https://proxy.scrapeops.io/v1/?api_key=&url=https%3A%2F%2Fproxy.scrapeops.io%2Fv1%2F%3Fapi_key%3D%26url%3Dhttps%253A%2F%2Fwww.fanfiction.net%2Fs%2F14332454%2F2%2FGrief> (referer: https://steamdb.info/graph/)\n",
      "2024-12-04 10:37:07 [scrapy.core.engine] DEBUG: Crawled (400) <GET https://proxy.scrapeops.io/v1/?api_key=&url=https%3A%2F%2Fproxy.scrapeops.io%2Fv1%2F%3Fapi_key%3D%26url%3Dhttps%253A%2F%2Fwww.fanfiction.net%2Fs%2F14362413%2F2%2F25-BBC-Sherlock-The-Case-of-Archie-Stamford-the-Forger> (referer: https://steamdb.info/graph/)\n",
      "2024-12-04 10:37:07 [scrapy.spidermiddlewares.httperror] INFO: Ignoring response <400 https://proxy.scrapeops.io/v1/?api_key=&url=https%3A%2F%2Fproxy.scrapeops.io%2Fv1%2F%3Fapi_key%3D%26url%3Dhttps%253A%2F%2Fwww.fanfiction.net%2Fs%2F14332454%2F2%2FGrief>: HTTP status code is not handled or not allowed\n",
      "2024-12-04 10:37:07 [scrapy.core.engine] DEBUG: Crawled (400) <GET https://proxy.scrapeops.io/v1/?api_key=&url=https%3A%2F%2Fproxy.scrapeops.io%2Fv1%2F%3Fapi_key%3D%26url%3Dhttps%253A%2F%2Fwww.fanfiction.net%2Fs%2F10880356%2F2%2FShot-Birds-Falling-Fast> (referer: https://steamdb.info/graph/)\n",
      "2024-12-04 10:37:07 [scrapy.spidermiddlewares.httperror] INFO: Ignoring response <400 https://proxy.scrapeops.io/v1/?api_key=&url=https%3A%2F%2Fproxy.scrapeops.io%2Fv1%2F%3Fapi_key%3D%26url%3Dhttps%253A%2F%2Fwww.fanfiction.net%2Fs%2F14362413%2F2%2F25-BBC-Sherlock-The-Case-of-Archie-Stamford-the-Forger>: HTTP status code is not handled or not allowed\n"
     ]
    },
    {
     "name": "stdout",
     "output_type": "stream",
     "text": [
      "\n",
      "https://proxy.scrapeops.io/v1/?api_key=&url=https%3A%2F%2Fwww.fanfiction.net%2Fs%2F14342737%2F1%2FMycoft-s-Gift\n",
      "\n",
      "https://proxy.scrapeops.io/v1/?api_key=&url=https%3A%2F%2Fwww.fanfiction.net%2Fs%2F14342188%2F1%2FGrace\n"
     ]
    },
    {
     "name": "stderr",
     "output_type": "stream",
     "text": [
      "2024-12-04 10:37:07 [scrapy.spidermiddlewares.httperror] INFO: Ignoring response <400 https://proxy.scrapeops.io/v1/?api_key=&url=https%3A%2F%2Fproxy.scrapeops.io%2Fv1%2F%3Fapi_key%3D%26url%3Dhttps%253A%2F%2Fwww.fanfiction.net%2Fs%2F10880356%2F2%2FShot-Birds-Falling-Fast>: HTTP status code is not handled or not allowed\n",
      "2024-12-04 10:37:07 [scrapy.core.engine] DEBUG: Crawled (200) <GET https://proxy.scrapeops.io/v1/?api_key=&url=https%3A%2F%2Fwww.fanfiction.net%2Ftv%2FSherlock%2F%3F%26srt%3D1%26r%3D103%26p%3D4> (referer: https://steamdb.info/graph/)\n"
     ]
    },
    {
     "name": "stdout",
     "output_type": "stream",
     "text": [
      "25\n"
     ]
    },
    {
     "name": "stderr",
     "output_type": "stream",
     "text": [
      "2024-12-04 10:37:09 [scrapy.core.engine] DEBUG: Crawled (200) <GET https://proxy.scrapeops.io/v1/?api_key=&url=https%3A%2F%2Fwww.fanfiction.net%2Fs%2F13369851%2F1%2FJust-drop-it-John-trilogy> (referer: https://steamdb.info/graph/)\n",
      "2024-12-04 10:37:09 [scrapy.core.engine] DEBUG: Crawled (200) <GET https://proxy.scrapeops.io/v1/?api_key=&url=https%3A%2F%2Fwww.fanfiction.net%2Fs%2F14346631%2F1%2FThe-War-of-the-Rosie> (referer: https://steamdb.info/graph/)\n",
      "2024-12-04 10:37:09 [scrapy.core.engine] DEBUG: Crawled (400) <GET https://proxy.scrapeops.io/v1/?api_key=&url=https%3A%2F%2Fproxy.scrapeops.io%2Fv1%2F%3Fapi_key%3D%26url%3Dhttps%253A%2F%2Fwww.fanfiction.net%2Fs%2F9464923%2F2%2FWe-ll-Keep-Running-For-Our-Lives> (referer: https://steamdb.info/graph/)\n",
      "2024-12-04 10:37:09 [scrapy.core.engine] DEBUG: Crawled (400) <GET https://proxy.scrapeops.io/v1/?api_key=&url=https%3A%2F%2Fproxy.scrapeops.io%2Fv1%2F%3Fapi_key%3D%26url%3Dhttps%253A%2F%2Fwww.fanfiction.net%2Fs%2F9853170%2F2%2FThough-We-Went-Our-Separate-Ways> (referer: https://steamdb.info/graph/)\n",
      "2024-12-04 10:37:09 [scrapy.spidermiddlewares.httperror] INFO: Ignoring response <400 https://proxy.scrapeops.io/v1/?api_key=&url=https%3A%2F%2Fproxy.scrapeops.io%2Fv1%2F%3Fapi_key%3D%26url%3Dhttps%253A%2F%2Fwww.fanfiction.net%2Fs%2F9464923%2F2%2FWe-ll-Keep-Running-For-Our-Lives>: HTTP status code is not handled or not allowed\n",
      "2024-12-04 10:37:09 [scrapy.spidermiddlewares.httperror] INFO: Ignoring response <400 https://proxy.scrapeops.io/v1/?api_key=&url=https%3A%2F%2Fproxy.scrapeops.io%2Fv1%2F%3Fapi_key%3D%26url%3Dhttps%253A%2F%2Fwww.fanfiction.net%2Fs%2F9853170%2F2%2FThough-We-Went-Our-Separate-Ways>: HTTP status code is not handled or not allowed\n"
     ]
    },
    {
     "name": "stdout",
     "output_type": "stream",
     "text": [
      "\n",
      "https://proxy.scrapeops.io/v1/?api_key=&url=https%3A%2F%2Fwww.fanfiction.net%2Fs%2F13369851%2F1%2FJust-drop-it-John-trilogy\n",
      "\n",
      "https://proxy.scrapeops.io/v1/?api_key=&url=https%3A%2F%2Fwww.fanfiction.net%2Fs%2F14346631%2F1%2FThe-War-of-the-Rosie\n"
     ]
    },
    {
     "name": "stderr",
     "output_type": "stream",
     "text": [
      "2024-12-04 10:37:10 [scrapy.downloadermiddlewares.retry] DEBUG: Retrying <GET https://proxy.scrapeops.io/v1/?api_key=&url=https%3A%2F%2Fwww.fanfiction.net%2Fs%2F12813151%2F1%2FWelcome-to-Baker-Street> (failed 1 times): 429 Unknown Status\n",
      "2024-12-04 10:37:11 [scrapy.core.engine] DEBUG: Crawled (200) <GET https://proxy.scrapeops.io/v1/?api_key=&url=https%3A%2F%2Fwww.fanfiction.net%2Fs%2F14349142%2F1%2FMatch> (referer: https://steamdb.info/graph/)\n",
      "2024-12-04 10:37:11 [scrapy.core.engine] DEBUG: Crawled (200) <GET https://proxy.scrapeops.io/v1/?api_key=&url=https%3A%2F%2Fwww.fanfiction.net%2Fs%2F14347999%2F1%2FDe-ce-souvenir-l%25C3%25A0-il-n-est-pas-tr%25C3%25A8s-fier> (referer: https://steamdb.info/graph/)\n",
      "2024-12-04 10:37:11 [scrapy.core.engine] DEBUG: Crawled (400) <GET https://proxy.scrapeops.io/v1/?api_key=&url=https%3A%2F%2Fproxy.scrapeops.io%2Fv1%2F%3Fapi_key%3D%26url%3Dhttps%253A%2F%2Fwww.fanfiction.net%2Fs%2F14342188%2F2%2FGrace> (referer: https://steamdb.info/graph/)\n",
      "2024-12-04 10:37:11 [scrapy.core.engine] DEBUG: Crawled (400) <GET https://proxy.scrapeops.io/v1/?api_key=&url=https%3A%2F%2Fproxy.scrapeops.io%2Fv1%2F%3Fapi_key%3D%26url%3Dhttps%253A%2F%2Fwww.fanfiction.net%2Fs%2F14342737%2F2%2FMycoft-s-Gift> (referer: https://steamdb.info/graph/)\n",
      "2024-12-04 10:37:11 [scrapy.spidermiddlewares.httperror] INFO: Ignoring response <400 https://proxy.scrapeops.io/v1/?api_key=&url=https%3A%2F%2Fproxy.scrapeops.io%2Fv1%2F%3Fapi_key%3D%26url%3Dhttps%253A%2F%2Fwww.fanfiction.net%2Fs%2F14342188%2F2%2FGrace>: HTTP status code is not handled or not allowed\n",
      "2024-12-04 10:37:11 [scrapy.spidermiddlewares.httperror] INFO: Ignoring response <400 https://proxy.scrapeops.io/v1/?api_key=&url=https%3A%2F%2Fproxy.scrapeops.io%2Fv1%2F%3Fapi_key%3D%26url%3Dhttps%253A%2F%2Fwww.fanfiction.net%2Fs%2F14342737%2F2%2FMycoft-s-Gift>: HTTP status code is not handled or not allowed\n",
      "2024-12-04 10:37:11 [scrapy.core.engine] DEBUG: Crawled (200) <GET https://proxy.scrapeops.io/v1/?api_key=&url=https%3A%2F%2Fwww.fanfiction.net%2Fs%2F14348003%2F1%2FAdmission> (referer: https://steamdb.info/graph/)\n"
     ]
    },
    {
     "name": "stdout",
     "output_type": "stream",
     "text": [
      "\n",
      "https://proxy.scrapeops.io/v1/?api_key=&url=https%3A%2F%2Fwww.fanfiction.net%2Fs%2F14349142%2F1%2FMatch\n",
      "\n"
     ]
    },
    {
     "name": "stderr",
     "output_type": "stream",
     "text": [
      "2024-12-04 10:37:11 [scrapy.downloadermiddlewares.retry] DEBUG: Retrying <GET https://proxy.scrapeops.io/v1/?api_key=&url=https%3A%2F%2Fwww.fanfiction.net%2Fs%2F14346323%2F1%2FFour-handed-performance> (failed 1 times): 429 Unknown Status\n"
     ]
    },
    {
     "name": "stdout",
     "output_type": "stream",
     "text": [
      "\n"
     ]
    },
    {
     "name": "stderr",
     "output_type": "stream",
     "text": [
      "2024-12-04 10:37:13 [scrapy.core.engine] DEBUG: Crawled (200) <GET https://proxy.scrapeops.io/v1/?api_key=&url=https%3A%2F%2Fwww.fanfiction.net%2Fs%2F14342740%2F1%2FGlorified-Babysitters> (referer: https://steamdb.info/graph/)\n",
      "2024-12-04 10:37:13 [scrapy.core.engine] DEBUG: Crawled (200) <GET https://proxy.scrapeops.io/v1/?api_key=&url=https%3A%2F%2Fwww.fanfiction.net%2Fs%2F14314958%2F1%2FWatery-Tarts-Throwing-Swords> (referer: https://steamdb.info/graph/)\n",
      "2024-12-04 10:37:13 [scrapy.core.engine] DEBUG: Crawled (400) <GET https://proxy.scrapeops.io/v1/?api_key=&url=https%3A%2F%2Fproxy.scrapeops.io%2Fv1%2F%3Fapi_key%3D%26url%3Dhttps%253A%2F%2Fwww.fanfiction.net%2Fs%2F14346631%2F2%2FThe-War-of-the-Rosie> (referer: https://steamdb.info/graph/)\n",
      "2024-12-04 10:37:13 [scrapy.core.engine] DEBUG: Crawled (400) <GET https://proxy.scrapeops.io/v1/?api_key=&url=https%3A%2F%2Fproxy.scrapeops.io%2Fv1%2F%3Fapi_key%3D%26url%3Dhttps%253A%2F%2Fwww.fanfiction.net%2Fs%2F13369851%2F2%2FJust-drop-it-John-trilogy> (referer: https://steamdb.info/graph/)\n",
      "2024-12-04 10:37:13 [scrapy.spidermiddlewares.httperror] INFO: Ignoring response <400 https://proxy.scrapeops.io/v1/?api_key=&url=https%3A%2F%2Fproxy.scrapeops.io%2Fv1%2F%3Fapi_key%3D%26url%3Dhttps%253A%2F%2Fwww.fanfiction.net%2Fs%2F14346631%2F2%2FThe-War-of-the-Rosie>: HTTP status code is not handled or not allowed\n",
      "2024-12-04 10:37:13 [scrapy.core.engine] DEBUG: Crawled (200) <GET https://proxy.scrapeops.io/v1/?api_key=&url=https%3A%2F%2Fwww.fanfiction.net%2Ftv%2FSherlock%2F%3F%26srt%3D1%26r%3D103%26p%3D5> (referer: https://steamdb.info/graph/)\n",
      "2024-12-04 10:37:13 [scrapy.spidermiddlewares.httperror] INFO: Ignoring response <400 https://proxy.scrapeops.io/v1/?api_key=&url=https%3A%2F%2Fproxy.scrapeops.io%2Fv1%2F%3Fapi_key%3D%26url%3Dhttps%253A%2F%2Fwww.fanfiction.net%2Fs%2F13369851%2F2%2FJust-drop-it-John-trilogy>: HTTP status code is not handled or not allowed\n"
     ]
    },
    {
     "name": "stdout",
     "output_type": "stream",
     "text": [
      "\n",
      "https://proxy.scrapeops.io/v1/?api_key=&url=https%3A%2F%2Fwww.fanfiction.net%2Fs%2F14342740%2F1%2FGlorified-Babysitters\n",
      "\n",
      "https://proxy.scrapeops.io/v1/?api_key=&url=https%3A%2F%2Fwww.fanfiction.net%2Fs%2F14314958%2F1%2FWatery-Tarts-Throwing-Swords\n",
      "25\n"
     ]
    },
    {
     "name": "stderr",
     "output_type": "stream",
     "text": [
      "2024-12-04 10:37:15 [scrapy.core.engine] DEBUG: Crawled (200) <GET https://proxy.scrapeops.io/v1/?api_key=&url=https%3A%2F%2Fwww.fanfiction.net%2Fs%2F14409542%2F1%2FEchoes-of-the-Bridge> (referer: https://steamdb.info/graph/)\n",
      "2024-12-04 10:37:15 [scrapy.core.engine] DEBUG: Crawled (400) <GET https://proxy.scrapeops.io/v1/?api_key=&url=https%3A%2F%2Fproxy.scrapeops.io%2Fv1%2F%3Fapi_key%3D%26url%3Dhttps%253A%2F%2Fwww.fanfiction.net%2Fs%2F14349142%2F2%2FMatch> (referer: https://steamdb.info/graph/)\n",
      "2024-12-04 10:37:15 [scrapy.core.engine] DEBUG: Crawled (200) <GET https://proxy.scrapeops.io/v1/?api_key=&url=https%3A%2F%2Fwww.fanfiction.net%2Fs%2F14236312%2F1%2FBored-at-Baker-Street> (referer: https://steamdb.info/graph/)\n",
      "2024-12-04 10:37:15 [scrapy.spidermiddlewares.httperror] INFO: Ignoring response <400 https://proxy.scrapeops.io/v1/?api_key=&url=https%3A%2F%2Fproxy.scrapeops.io%2Fv1%2F%3Fapi_key%3D%26url%3Dhttps%253A%2F%2Fwww.fanfiction.net%2Fs%2F14349142%2F2%2FMatch>: HTTP status code is not handled or not allowed\n"
     ]
    },
    {
     "name": "stdout",
     "output_type": "stream",
     "text": [
      "\n",
      "https://proxy.scrapeops.io/v1/?api_key=&url=https%3A%2F%2Fwww.fanfiction.net%2Fs%2F14409542%2F1%2FEchoes-of-the-Bridge\n",
      "\n",
      "https://proxy.scrapeops.io/v1/?api_key=&url=https%3A%2F%2Fwww.fanfiction.net%2Fs%2F14236312%2F1%2FBored-at-Baker-Street\n"
     ]
    },
    {
     "name": "stderr",
     "output_type": "stream",
     "text": [
      "2024-12-04 10:37:16 [scrapy.downloadermiddlewares.retry] DEBUG: Retrying <GET https://proxy.scrapeops.io/v1/?api_key=&url=https%3A%2F%2Fwww.fanfiction.net%2Fs%2F14290866%2F1%2FDetective-Buchanan> (failed 1 times): 429 Unknown Status\n",
      "2024-12-04 10:37:16 [scrapy.downloadermiddlewares.retry] DEBUG: Retrying <GET https://proxy.scrapeops.io/v1/?api_key=&url=https%3A%2F%2Fwww.fanfiction.net%2Fs%2F14315348%2F1%2Freminiscing> (failed 1 times): 429 Unknown Status\n",
      "2024-12-04 10:37:17 [scrapy.core.engine] DEBUG: Crawled (200) <GET https://proxy.scrapeops.io/v1/?api_key=&url=https%3A%2F%2Fwww.fanfiction.net%2Fs%2F14316573%2F1%2FHowever-Improbable> (referer: https://steamdb.info/graph/)\n",
      "2024-12-04 10:37:17 [scrapy.core.engine] DEBUG: Crawled (400) <GET https://proxy.scrapeops.io/v1/?api_key=&url=https%3A%2F%2Fproxy.scrapeops.io%2Fv1%2F%3Fapi_key%3D%26url%3Dhttps%253A%2F%2Fwww.fanfiction.net%2Fs%2F14342740%2F2%2FGlorified-Babysitters> (referer: https://steamdb.info/graph/)\n",
      "2024-12-04 10:37:17 [scrapy.spidermiddlewares.httperror] INFO: Ignoring response <400 https://proxy.scrapeops.io/v1/?api_key=&url=https%3A%2F%2Fproxy.scrapeops.io%2Fv1%2F%3Fapi_key%3D%26url%3Dhttps%253A%2F%2Fwww.fanfiction.net%2Fs%2F14342740%2F2%2FGlorified-Babysitters>: HTTP status code is not handled or not allowed\n"
     ]
    },
    {
     "name": "stdout",
     "output_type": "stream",
     "text": [
      "\n",
      "https://proxy.scrapeops.io/v1/?api_key=&url=https%3A%2F%2Fwww.fanfiction.net%2Fs%2F14316573%2F1%2FHowever-Improbable\n"
     ]
    },
    {
     "name": "stderr",
     "output_type": "stream",
     "text": [
      "2024-12-04 10:37:18 [scrapy.core.engine] DEBUG: Crawled (200) <GET https://proxy.scrapeops.io/v1/?api_key=&url=https%3A%2F%2Fwww.fanfiction.net%2Fs%2F14316581%2F1%2FI-Will-Get-You-Well-Sherlock-Come-Hell-Or-High-Water> (referer: https://steamdb.info/graph/)\n",
      "2024-12-04 10:37:18 [scrapy.core.engine] DEBUG: Crawled (400) <GET https://proxy.scrapeops.io/v1/?api_key=&url=https%3A%2F%2Fproxy.scrapeops.io%2Fv1%2F%3Fapi_key%3D%26url%3Dhttps%253A%2F%2Fwww.fanfiction.net%2Fs%2F14314958%2F2%2FWatery-Tarts-Throwing-Swords> (referer: https://steamdb.info/graph/)\n",
      "2024-12-04 10:37:18 [scrapy.spidermiddlewares.httperror] INFO: Ignoring response <400 https://proxy.scrapeops.io/v1/?api_key=&url=https%3A%2F%2Fproxy.scrapeops.io%2Fv1%2F%3Fapi_key%3D%26url%3Dhttps%253A%2F%2Fwww.fanfiction.net%2Fs%2F14314958%2F2%2FWatery-Tarts-Throwing-Swords>: HTTP status code is not handled or not allowed\n"
     ]
    },
    {
     "name": "stdout",
     "output_type": "stream",
     "text": [
      "\n",
      "https://proxy.scrapeops.io/v1/?api_key=&url=https%3A%2F%2Fwww.fanfiction.net%2Fs%2F14316581%2F1%2FI-Will-Get-You-Well-Sherlock-Come-Hell-Or-High-Water\n"
     ]
    },
    {
     "name": "stderr",
     "output_type": "stream",
     "text": [
      "2024-12-04 10:37:19 [scrapy.core.engine] DEBUG: Crawled (200) <GET https://proxy.scrapeops.io/v1/?api_key=&url=https%3A%2F%2Fwww.fanfiction.net%2Fs%2F12709583%2F1%2FMissing-Pieces> (referer: https://steamdb.info/graph/)\n"
     ]
    },
    {
     "name": "stdout",
     "output_type": "stream",
     "text": [
      "\n",
      "https://proxy.scrapeops.io/v1/?api_key=&url=https%3A%2F%2Fwww.fanfiction.net%2Fs%2F12709583%2F1%2FMissing-Pieces\n"
     ]
    },
    {
     "name": "stderr",
     "output_type": "stream",
     "text": [
      "2024-12-04 10:37:20 [scrapy.core.engine] DEBUG: Crawled (200) <GET https://proxy.scrapeops.io/v1/?api_key=&url=https%3A%2F%2Fwww.fanfiction.net%2Ftv%2FSherlock%2F%3F%26srt%3D1%26r%3D103%26p%3D6> (referer: https://steamdb.info/graph/)\n",
      "2024-12-04 10:37:20 [scrapy.core.engine] DEBUG: Crawled (400) <GET https://proxy.scrapeops.io/v1/?api_key=&url=https%3A%2F%2Fproxy.scrapeops.io%2Fv1%2F%3Fapi_key%3D%26url%3Dhttps%253A%2F%2Fwww.fanfiction.net%2Fs%2F14409542%2F2%2FEchoes-of-the-Bridge> (referer: https://steamdb.info/graph/)\n",
      "2024-12-04 10:37:20 [scrapy.spidermiddlewares.httperror] INFO: Ignoring response <400 https://proxy.scrapeops.io/v1/?api_key=&url=https%3A%2F%2Fproxy.scrapeops.io%2Fv1%2F%3Fapi_key%3D%26url%3Dhttps%253A%2F%2Fwww.fanfiction.net%2Fs%2F14409542%2F2%2FEchoes-of-the-Bridge>: HTTP status code is not handled or not allowed\n",
      "2024-12-04 10:37:20 [scrapy.core.engine] DEBUG: Crawled (400) <GET https://proxy.scrapeops.io/v1/?api_key=&url=https%3A%2F%2Fproxy.scrapeops.io%2Fv1%2F%3Fapi_key%3D%26url%3Dhttps%253A%2F%2Fwww.fanfiction.net%2Fs%2F14236312%2F2%2FBored-at-Baker-Street> (referer: https://steamdb.info/graph/)\n",
      "2024-12-04 10:37:20 [scrapy.spidermiddlewares.httperror] INFO: Ignoring response <400 https://proxy.scrapeops.io/v1/?api_key=&url=https%3A%2F%2Fproxy.scrapeops.io%2Fv1%2F%3Fapi_key%3D%26url%3Dhttps%253A%2F%2Fwww.fanfiction.net%2Fs%2F14236312%2F2%2FBored-at-Baker-Street>: HTTP status code is not handled or not allowed\n"
     ]
    },
    {
     "name": "stdout",
     "output_type": "stream",
     "text": [
      "25\n"
     ]
    },
    {
     "name": "stderr",
     "output_type": "stream",
     "text": [
      "2024-12-04 10:37:21 [scrapy.downloadermiddlewares.retry] DEBUG: Retrying <GET https://proxy.scrapeops.io/v1/?api_key=&url=https%3A%2F%2Fwww.fanfiction.net%2Fs%2F14271596%2F1%2FJournal-du-221B> (failed 1 times): 429 Unknown Status\n",
      "2024-12-04 10:37:22 [scrapy.downloadermiddlewares.retry] DEBUG: Retrying <GET https://proxy.scrapeops.io/v1/?api_key=&url=https%3A%2F%2Fwww.fanfiction.net%2Fs%2F13018877%2F1%2FDepression-turned-to-happiness-AKA-Isabella> (failed 1 times): 429 Unknown Status\n",
      "2024-12-04 10:37:22 [scrapy.core.engine] DEBUG: Crawled (200) <GET https://proxy.scrapeops.io/v1/?api_key=&url=https%3A%2F%2Fwww.fanfiction.net%2Fs%2F14279063%2F1%2FLa-D%25C3%25A9claration-du-D%25C3%25A9tective> (referer: https://steamdb.info/graph/)\n",
      "2024-12-04 10:37:22 [scrapy.core.engine] DEBUG: Crawled (400) <GET https://proxy.scrapeops.io/v1/?api_key=&url=https%3A%2F%2Fproxy.scrapeops.io%2Fv1%2F%3Fapi_key%3D%26url%3Dhttps%253A%2F%2Fwww.fanfiction.net%2Fs%2F14316573%2F2%2FHowever-Improbable> (referer: https://steamdb.info/graph/)\n",
      "2024-12-04 10:37:22 [scrapy.spidermiddlewares.httperror] INFO: Ignoring response <400 https://proxy.scrapeops.io/v1/?api_key=&url=https%3A%2F%2Fproxy.scrapeops.io%2Fv1%2F%3Fapi_key%3D%26url%3Dhttps%253A%2F%2Fwww.fanfiction.net%2Fs%2F14316573%2F2%2FHowever-Improbable>: HTTP status code is not handled or not allowed\n"
     ]
    },
    {
     "name": "stdout",
     "output_type": "stream",
     "text": [
      "\n"
     ]
    },
    {
     "name": "stderr",
     "output_type": "stream",
     "text": [
      "2024-12-04 10:37:23 [scrapy.core.engine] DEBUG: Crawled (200) <GET https://proxy.scrapeops.io/v1/?api_key=&url=https%3A%2F%2Fwww.fanfiction.net%2Fs%2F12891873%2F1%2FThe-Genius-s-Weakness> (referer: https://steamdb.info/graph/)\n",
      "2024-12-04 10:37:23 [scrapy.core.engine] DEBUG: Crawled (400) <GET https://proxy.scrapeops.io/v1/?api_key=&url=https%3A%2F%2Fproxy.scrapeops.io%2Fv1%2F%3Fapi_key%3D%26url%3Dhttps%253A%2F%2Fwww.fanfiction.net%2Fs%2F14316581%2F2%2FI-Will-Get-You-Well-Sherlock-Come-Hell-Or-High-Water> (referer: https://steamdb.info/graph/)\n",
      "2024-12-04 10:37:23 [scrapy.core.engine] DEBUG: Crawled (200) <GET https://proxy.scrapeops.io/v1/?api_key=&url=https%3A%2F%2Fwww.fanfiction.net%2Fs%2F14316354%2F1%2FTheNightReaper> (referer: https://steamdb.info/graph/)\n",
      "2024-12-04 10:37:23 [scrapy.core.engine] DEBUG: Crawled (200) <GET https://proxy.scrapeops.io/v1/?api_key=&url=https%3A%2F%2Fwww.fanfiction.net%2Fs%2F14316355%2F1%2FTheNightReaper> (referer: https://steamdb.info/graph/)\n",
      "2024-12-04 10:37:23 [scrapy.core.engine] DEBUG: Crawled (400) <GET https://proxy.scrapeops.io/v1/?api_key=&url=https%3A%2F%2Fproxy.scrapeops.io%2Fv1%2F%3Fapi_key%3D%26url%3Dhttps%253A%2F%2Fwww.fanfiction.net%2Fs%2F12709583%2F2%2FMissing-Pieces> (referer: https://steamdb.info/graph/)\n",
      "2024-12-04 10:37:23 [scrapy.spidermiddlewares.httperror] INFO: Ignoring response <400 https://proxy.scrapeops.io/v1/?api_key=&url=https%3A%2F%2Fproxy.scrapeops.io%2Fv1%2F%3Fapi_key%3D%26url%3Dhttps%253A%2F%2Fwww.fanfiction.net%2Fs%2F14316581%2F2%2FI-Will-Get-You-Well-Sherlock-Come-Hell-Or-High-Water>: HTTP status code is not handled or not allowed\n",
      "2024-12-04 10:37:24 [scrapy.spidermiddlewares.httperror] INFO: Ignoring response <400 https://proxy.scrapeops.io/v1/?api_key=&url=https%3A%2F%2Fproxy.scrapeops.io%2Fv1%2F%3Fapi_key%3D%26url%3Dhttps%253A%2F%2Fwww.fanfiction.net%2Fs%2F12709583%2F2%2FMissing-Pieces>: HTTP status code is not handled or not allowed\n"
     ]
    },
    {
     "name": "stdout",
     "output_type": "stream",
     "text": [
      "\n",
      "https://proxy.scrapeops.io/v1/?api_key=&url=https%3A%2F%2Fwww.fanfiction.net%2Fs%2F12891873%2F1%2FThe-Genius-s-Weakness\n",
      "\n",
      "\n",
      "https://proxy.scrapeops.io/v1/?api_key=&url=https%3A%2F%2Fwww.fanfiction.net%2Fs%2F14316355%2F1%2FTheNightReaper\n"
     ]
    },
    {
     "name": "stderr",
     "output_type": "stream",
     "text": [
      "2024-12-04 10:37:26 [scrapy.core.engine] DEBUG: Crawled (200) <GET https://proxy.scrapeops.io/v1/?api_key=&url=https%3A%2F%2Fwww.fanfiction.net%2Ftv%2FSherlock%2F%3F%26srt%3D1%26r%3D103%26p%3D7> (referer: https://steamdb.info/graph/)\n",
      "2024-12-04 10:37:26 [scrapy.downloadermiddlewares.retry] DEBUG: Retrying <GET https://proxy.scrapeops.io/v1/?api_key=&url=https%3A%2F%2Fwww.fanfiction.net%2Fs%2F12292416%2F1%2FNot-Dead> (failed 1 times): 429 Unknown Status\n",
      "2024-12-04 10:37:26 [scrapy.core.engine] DEBUG: Crawled (200) <GET https://proxy.scrapeops.io/v1/?api_key=&url=https%3A%2F%2Fwww.fanfiction.net%2Fs%2F14248905%2F1%2FALMA-GEMELA-EQUIVOCADA> (referer: https://steamdb.info/graph/)\n"
     ]
    },
    {
     "name": "stdout",
     "output_type": "stream",
     "text": [
      "25\n",
      "\n"
     ]
    },
    {
     "name": "stderr",
     "output_type": "stream",
     "text": [
      "2024-12-04 10:37:27 [scrapy.downloadermiddlewares.retry] DEBUG: Retrying <GET https://proxy.scrapeops.io/v1/?api_key=&url=https%3A%2F%2Fwww.fanfiction.net%2Fs%2F7841395%2F1%2FNo-Choice-At-All> (failed 1 times): 429 Unknown Status\n",
      "2024-12-04 10:37:28 [scrapy.core.engine] DEBUG: Crawled (200) <GET https://proxy.scrapeops.io/v1/?api_key=&url=https%3A%2F%2Fwww.fanfiction.net%2Fs%2F14284190%2F1%2FSherlock-feels-Shitty> (referer: https://steamdb.info/graph/)\n"
     ]
    },
    {
     "name": "stdout",
     "output_type": "stream",
     "text": [
      "\n",
      "https://proxy.scrapeops.io/v1/?api_key=&url=https%3A%2F%2Fwww.fanfiction.net%2Fs%2F14284190%2F1%2FSherlock-feels-Shitty\n"
     ]
    },
    {
     "name": "stderr",
     "output_type": "stream",
     "text": [
      "2024-12-04 10:37:28 [scrapy.core.engine] DEBUG: Crawled (200) <GET https://proxy.scrapeops.io/v1/?api_key=&url=https%3A%2F%2Fwww.fanfiction.net%2Fs%2F13311771%2F1%2F365-dni-z-Mystrade> (referer: https://steamdb.info/graph/)\n"
     ]
    },
    {
     "name": "stdout",
     "output_type": "stream",
     "text": [
      "\n"
     ]
    },
    {
     "name": "stderr",
     "output_type": "stream",
     "text": [
      "2024-12-04 10:37:29 [scrapy.core.engine] DEBUG: Crawled (200) <GET https://proxy.scrapeops.io/v1/?api_key=&url=https%3A%2F%2Fwww.fanfiction.net%2Fs%2F14237516%2F1%2FSoft-silk-is-hard-to-tear> (referer: https://steamdb.info/graph/)\n",
      "2024-12-04 10:37:29 [scrapy.core.engine] DEBUG: Crawled (400) <GET https://proxy.scrapeops.io/v1/?api_key=&url=https%3A%2F%2Fproxy.scrapeops.io%2Fv1%2F%3Fapi_key%3D%26url%3Dhttps%253A%2F%2Fwww.fanfiction.net%2Fs%2F12891873%2F2%2FThe-Genius-s-Weakness> (referer: https://steamdb.info/graph/)\n",
      "2024-12-04 10:37:29 [scrapy.spidermiddlewares.httperror] INFO: Ignoring response <400 https://proxy.scrapeops.io/v1/?api_key=&url=https%3A%2F%2Fproxy.scrapeops.io%2Fv1%2F%3Fapi_key%3D%26url%3Dhttps%253A%2F%2Fwww.fanfiction.net%2Fs%2F12891873%2F2%2FThe-Genius-s-Weakness>: HTTP status code is not handled or not allowed\n"
     ]
    },
    {
     "name": "stdout",
     "output_type": "stream",
     "text": [
      "\n",
      "https://proxy.scrapeops.io/v1/?api_key=&url=https%3A%2F%2Fwww.fanfiction.net%2Fs%2F14237516%2F1%2FSoft-silk-is-hard-to-tear\n"
     ]
    },
    {
     "name": "stderr",
     "output_type": "stream",
     "text": [
      "2024-12-04 10:37:30 [scrapy.core.engine] DEBUG: Crawled (200) <GET https://proxy.scrapeops.io/v1/?api_key=&url=https%3A%2F%2Fwww.fanfiction.net%2Fs%2F12326849%2F1%2FDragons-in-Our-Midst> (referer: https://steamdb.info/graph/)\n",
      "2024-12-04 10:37:30 [scrapy.core.engine] DEBUG: Crawled (400) <GET https://proxy.scrapeops.io/v1/?api_key=&url=https%3A%2F%2Fproxy.scrapeops.io%2Fv1%2F%3Fapi_key%3D%26url%3Dhttps%253A%2F%2Fwww.fanfiction.net%2Fs%2F14316355%2F2%2FTheNightReaper> (referer: https://steamdb.info/graph/)\n",
      "2024-12-04 10:37:31 [scrapy.spidermiddlewares.httperror] INFO: Ignoring response <400 https://proxy.scrapeops.io/v1/?api_key=&url=https%3A%2F%2Fproxy.scrapeops.io%2Fv1%2F%3Fapi_key%3D%26url%3Dhttps%253A%2F%2Fwww.fanfiction.net%2Fs%2F14316355%2F2%2FTheNightReaper>: HTTP status code is not handled or not allowed\n"
     ]
    },
    {
     "name": "stdout",
     "output_type": "stream",
     "text": [
      "\n",
      "https://proxy.scrapeops.io/v1/?api_key=&url=https%3A%2F%2Fwww.fanfiction.net%2Fs%2F12326849%2F1%2FDragons-in-Our-Midst\n"
     ]
    },
    {
     "name": "stderr",
     "output_type": "stream",
     "text": [
      "2024-12-04 10:37:31 [scrapy.core.engine] DEBUG: Crawled (200) <GET https://proxy.scrapeops.io/v1/?api_key=&url=https%3A%2F%2Fwww.fanfiction.net%2Fs%2F14249791%2F1%2FThe-truth-underneath> (referer: https://steamdb.info/graph/)\n"
     ]
    },
    {
     "name": "stdout",
     "output_type": "stream",
     "text": [
      "\n"
     ]
    },
    {
     "name": "stderr",
     "output_type": "stream",
     "text": [
      "2024-12-04 10:37:32 [scrapy.core.engine] DEBUG: Crawled (200) <GET https://proxy.scrapeops.io/v1/?api_key=&url=https%3A%2F%2Fwww.fanfiction.net%2Fs%2F9031073%2F1%2FPour-la-Race-Sup%25C3%25A9rieur> (referer: https://steamdb.info/graph/)\n",
      "2024-12-04 10:37:32 [scrapy.downloadermiddlewares.retry] DEBUG: Retrying <GET https://proxy.scrapeops.io/v1/?api_key=&url=https%3A%2F%2Fwww.fanfiction.net%2Fs%2F14250919%2F1%2FSonglocked-Emerald-Eyes> (failed 1 times): 429 Unknown Status\n",
      "2024-12-04 10:37:32 [scrapy.core.engine] DEBUG: Crawled (200) <GET https://proxy.scrapeops.io/v1/?api_key=&url=https%3A%2F%2Fwww.fanfiction.net%2Fs%2F12631949%2F1%2FEL-MISTERIO-DE-TAURUS> (referer: https://steamdb.info/graph/)\n",
      "2024-12-04 10:37:33 [scrapy.core.engine] DEBUG: Crawled (400) <GET https://proxy.scrapeops.io/v1/?api_key=&url=https%3A%2F%2Fproxy.scrapeops.io%2Fv1%2F%3Fapi_key%3D%26url%3Dhttps%253A%2F%2Fwww.fanfiction.net%2Fs%2F14284190%2F2%2FSherlock-feels-Shitty> (referer: https://steamdb.info/graph/)\n",
      "2024-12-04 10:37:33 [scrapy.core.engine] DEBUG: Crawled (200) <GET https://proxy.scrapeops.io/v1/?api_key=&url=https%3A%2F%2Fwww.fanfiction.net%2Fs%2F14205898%2F1%2FWhen-he-tries-really-hard-he-is-kind> (referer: https://steamdb.info/graph/)\n",
      "2024-12-04 10:37:33 [scrapy.spidermiddlewares.httperror] INFO: Ignoring response <400 https://proxy.scrapeops.io/v1/?api_key=&url=https%3A%2F%2Fproxy.scrapeops.io%2Fv1%2F%3Fapi_key%3D%26url%3Dhttps%253A%2F%2Fwww.fanfiction.net%2Fs%2F14284190%2F2%2FSherlock-feels-Shitty>: HTTP status code is not handled or not allowed\n",
      "2024-12-04 10:37:33 [scrapy.core.engine] DEBUG: Crawled (400) <GET https://proxy.scrapeops.io/v1/?api_key=&url=https%3A%2F%2Fproxy.scrapeops.io%2Fv1%2F%3Fapi_key%3D%26url%3Dhttps%253A%2F%2Fwww.fanfiction.net%2Fs%2F14237516%2F2%2FSoft-silk-is-hard-to-tear> (referer: https://steamdb.info/graph/)\n"
     ]
    },
    {
     "name": "stdout",
     "output_type": "stream",
     "text": [
      "\n",
      "\n",
      "\n",
      "https://proxy.scrapeops.io/v1/?api_key=&url=https%3A%2F%2Fwww.fanfiction.net%2Fs%2F14205898%2F1%2FWhen-he-tries-really-hard-he-is-kind\n"
     ]
    },
    {
     "name": "stderr",
     "output_type": "stream",
     "text": [
      "2024-12-04 10:37:33 [scrapy.spidermiddlewares.httperror] INFO: Ignoring response <400 https://proxy.scrapeops.io/v1/?api_key=&url=https%3A%2F%2Fproxy.scrapeops.io%2Fv1%2F%3Fapi_key%3D%26url%3Dhttps%253A%2F%2Fwww.fanfiction.net%2Fs%2F14237516%2F2%2FSoft-silk-is-hard-to-tear>: HTTP status code is not handled or not allowed\n",
      "2024-12-04 10:37:33 [scrapy.downloadermiddlewares.retry] DEBUG: Retrying <GET https://proxy.scrapeops.io/v1/?api_key=&url=https%3A%2F%2Fwww.fanfiction.net%2Fs%2F14251901%2F1%2FL-Echapatoire> (failed 1 times): 429 Unknown Status\n",
      "2024-12-04 10:37:33 [scrapy.core.engine] DEBUG: Crawled (200) <GET https://proxy.scrapeops.io/v1/?api_key=&url=https%3A%2F%2Fwww.fanfiction.net%2Ftv%2FSherlock%2F%3F%26srt%3D1%26r%3D103%26p%3D8> (referer: https://steamdb.info/graph/)\n",
      "2024-12-04 10:37:33 [scrapy.core.engine] DEBUG: Crawled (400) <GET https://proxy.scrapeops.io/v1/?api_key=&url=https%3A%2F%2Fproxy.scrapeops.io%2Fv1%2F%3Fapi_key%3D%26url%3Dhttps%253A%2F%2Fwww.fanfiction.net%2Fs%2F12326849%2F2%2FDragons-in-Our-Midst> (referer: https://steamdb.info/graph/)\n",
      "2024-12-04 10:37:33 [scrapy.spidermiddlewares.httperror] INFO: Ignoring response <400 https://proxy.scrapeops.io/v1/?api_key=&url=https%3A%2F%2Fproxy.scrapeops.io%2Fv1%2F%3Fapi_key%3D%26url%3Dhttps%253A%2F%2Fwww.fanfiction.net%2Fs%2F12326849%2F2%2FDragons-in-Our-Midst>: HTTP status code is not handled or not allowed\n"
     ]
    },
    {
     "name": "stdout",
     "output_type": "stream",
     "text": [
      "25\n"
     ]
    },
    {
     "name": "stderr",
     "output_type": "stream",
     "text": [
      "2024-12-04 10:37:34 [scrapy.core.engine] DEBUG: Crawled (200) <GET https://proxy.scrapeops.io/v1/?api_key=&url=https%3A%2F%2Fwww.fanfiction.net%2Fs%2F14193323%2F1%2FWhen-words-alone-remain> (referer: https://steamdb.info/graph/)\n"
     ]
    },
    {
     "name": "stdout",
     "output_type": "stream",
     "text": [
      "\n",
      "https://proxy.scrapeops.io/v1/?api_key=&url=https%3A%2F%2Fwww.fanfiction.net%2Fs%2F14193323%2F1%2FWhen-words-alone-remain\n"
     ]
    },
    {
     "name": "stderr",
     "output_type": "stream",
     "text": [
      "2024-12-04 10:37:35 [scrapy.core.engine] DEBUG: Crawled (200) <GET https://proxy.scrapeops.io/v1/?api_key=&url=https%3A%2F%2Fwww.fanfiction.net%2Fs%2F14208132%2F1%2FDirty-Voice> (referer: https://steamdb.info/graph/)\n",
      "2024-12-04 10:37:35 [scrapy.core.engine] DEBUG: Crawled (200) <GET https://proxy.scrapeops.io/v1/?api_key=&url=https%3A%2F%2Fwww.fanfiction.net%2Fs%2F11140632%2F1%2FDon-t-leave-it-too-late> (referer: https://steamdb.info/graph/)\n",
      "2024-12-04 10:37:35 [scrapy.core.engine] DEBUG: Crawled (200) <GET https://proxy.scrapeops.io/v1/?api_key=&url=https%3A%2F%2Fwww.fanfiction.net%2Fs%2F14215124%2F1%2FUna-sola-se%25C3%25B1al> (referer: https://steamdb.info/graph/)\n"
     ]
    },
    {
     "name": "stdout",
     "output_type": "stream",
     "text": [
      "\n",
      "\n",
      "https://proxy.scrapeops.io/v1/?api_key=&url=https%3A%2F%2Fwww.fanfiction.net%2Fs%2F11140632%2F1%2FDon-t-leave-it-too-late\n"
     ]
    },
    {
     "name": "stderr",
     "output_type": "stream",
     "text": [
      "2024-12-04 10:37:35 [scrapy.core.engine] DEBUG: Crawled (200) <GET https://proxy.scrapeops.io/v1/?api_key=&url=https%3A%2F%2Fwww.fanfiction.net%2Fs%2F14406865%2F1%2FThe-Weight-of-Shadows> (referer: https://steamdb.info/graph/)\n"
     ]
    },
    {
     "name": "stdout",
     "output_type": "stream",
     "text": [
      "\n"
     ]
    },
    {
     "name": "stderr",
     "output_type": "stream",
     "text": [
      "2024-12-04 10:37:35 [scrapy.core.engine] DEBUG: Crawled (400) <GET https://proxy.scrapeops.io/v1/?api_key=&url=https%3A%2F%2Fproxy.scrapeops.io%2Fv1%2F%3Fapi_key%3D%26url%3Dhttps%253A%2F%2Fwww.fanfiction.net%2Fs%2F14205898%2F2%2FWhen-he-tries-really-hard-he-is-kind> (referer: https://steamdb.info/graph/)\n",
      "2024-12-04 10:37:35 [scrapy.spidermiddlewares.httperror] INFO: Ignoring response <400 https://proxy.scrapeops.io/v1/?api_key=&url=https%3A%2F%2Fproxy.scrapeops.io%2Fv1%2F%3Fapi_key%3D%26url%3Dhttps%253A%2F%2Fwww.fanfiction.net%2Fs%2F14205898%2F2%2FWhen-he-tries-really-hard-he-is-kind>: HTTP status code is not handled or not allowed\n"
     ]
    },
    {
     "name": "stdout",
     "output_type": "stream",
     "text": [
      "\n",
      "https://proxy.scrapeops.io/v1/?api_key=&url=https%3A%2F%2Fwww.fanfiction.net%2Fs%2F14406865%2F1%2FThe-Weight-of-Shadows\n"
     ]
    },
    {
     "name": "stderr",
     "output_type": "stream",
     "text": [
      "2024-12-04 10:37:35 [scrapy.core.engine] DEBUG: Crawled (200) <GET https://proxy.scrapeops.io/v1/?api_key=&url=https%3A%2F%2Fwww.fanfiction.net%2Fs%2F14406873%2F1%2FShadows-of-Justice> (referer: https://steamdb.info/graph/)\n"
     ]
    },
    {
     "name": "stdout",
     "output_type": "stream",
     "text": [
      "\n",
      "https://proxy.scrapeops.io/v1/?api_key=&url=https%3A%2F%2Fwww.fanfiction.net%2Fs%2F14406873%2F1%2FShadows-of-Justice\n"
     ]
    },
    {
     "name": "stderr",
     "output_type": "stream",
     "text": [
      "2024-12-04 10:37:36 [scrapy.core.engine] DEBUG: Crawled (200) <GET https://proxy.scrapeops.io/v1/?api_key=&url=https%3A%2F%2Fwww.fanfiction.net%2Fs%2F14223124%2F1%2FJohn-15-13> (referer: https://steamdb.info/graph/)\n",
      "2024-12-04 10:37:36 [scrapy.core.engine] DEBUG: Crawled (200) <GET https://proxy.scrapeops.io/v1/?api_key=&url=https%3A%2F%2Fwww.fanfiction.net%2Fs%2F14226288%2F1%2FSecond-Thoughts-About-John> (referer: https://steamdb.info/graph/)\n"
     ]
    },
    {
     "name": "stdout",
     "output_type": "stream",
     "text": [
      "\n",
      "https://proxy.scrapeops.io/v1/?api_key=&url=https%3A%2F%2Fwww.fanfiction.net%2Fs%2F14223124%2F1%2FJohn-15-13\n",
      "\n",
      "https://proxy.scrapeops.io/v1/?api_key=&url=https%3A%2F%2Fwww.fanfiction.net%2Fs%2F14226288%2F1%2FSecond-Thoughts-About-John\n"
     ]
    },
    {
     "name": "stderr",
     "output_type": "stream",
     "text": [
      "2024-12-04 10:37:37 [scrapy.core.engine] DEBUG: Crawled (200) <GET https://proxy.scrapeops.io/v1/?api_key=&url=https%3A%2F%2Fwww.fanfiction.net%2Fs%2F14230453%2F1%2FA-King-s-Coronation> (referer: https://steamdb.info/graph/)\n",
      "2024-12-04 10:37:37 [scrapy.core.engine] DEBUG: Crawled (200) <GET https://proxy.scrapeops.io/v1/?api_key=&url=https%3A%2F%2Fwww.fanfiction.net%2Fs%2F14215333%2F1%2FHaremos-esto-juntos> (referer: https://steamdb.info/graph/)\n",
      "2024-12-04 10:37:37 [scrapy.core.engine] DEBUG: Crawled (200) <GET https://proxy.scrapeops.io/v1/?api_key=&url=https%3A%2F%2Fwww.fanfiction.net%2Fs%2F14228059%2F1%2FBord-de-mer> (referer: https://steamdb.info/graph/)\n",
      "2024-12-04 10:37:37 [scrapy.core.engine] DEBUG: Crawled (400) <GET https://proxy.scrapeops.io/v1/?api_key=&url=https%3A%2F%2Fproxy.scrapeops.io%2Fv1%2F%3Fapi_key%3D%26url%3Dhttps%253A%2F%2Fwww.fanfiction.net%2Fs%2F14193323%2F2%2FWhen-words-alone-remain> (referer: https://steamdb.info/graph/)\n",
      "2024-12-04 10:37:37 [scrapy.core.engine] DEBUG: Crawled (200) <GET https://proxy.scrapeops.io/v1/?api_key=&url=https%3A%2F%2Fwww.fanfiction.net%2Fs%2F14124814%2F1%2FLove-is-blind> (referer: https://steamdb.info/graph/)\n",
      "2024-12-04 10:37:37 [scrapy.core.engine] DEBUG: Crawled (400) <GET https://proxy.scrapeops.io/v1/?api_key=&url=https%3A%2F%2Fproxy.scrapeops.io%2Fv1%2F%3Fapi_key%3D%26url%3Dhttps%253A%2F%2Fwww.fanfiction.net%2Fs%2F11140632%2F2%2FDon-t-leave-it-too-late> (referer: https://steamdb.info/graph/)\n",
      "2024-12-04 10:37:37 [scrapy.spidermiddlewares.httperror] INFO: Ignoring response <400 https://proxy.scrapeops.io/v1/?api_key=&url=https%3A%2F%2Fproxy.scrapeops.io%2Fv1%2F%3Fapi_key%3D%26url%3Dhttps%253A%2F%2Fwww.fanfiction.net%2Fs%2F14193323%2F2%2FWhen-words-alone-remain>: HTTP status code is not handled or not allowed\n"
     ]
    },
    {
     "name": "stdout",
     "output_type": "stream",
     "text": [
      "\n",
      "https://proxy.scrapeops.io/v1/?api_key=&url=https%3A%2F%2Fwww.fanfiction.net%2Fs%2F14230453%2F1%2FA-King-s-Coronation\n",
      "\n",
      "\n",
      "\n",
      "https://proxy.scrapeops.io/v1/?api_key=&url=https%3A%2F%2Fwww.fanfiction.net%2Fs%2F14124814%2F1%2FLove-is-blind\n"
     ]
    },
    {
     "name": "stderr",
     "output_type": "stream",
     "text": [
      "2024-12-04 10:37:38 [scrapy.core.engine] DEBUG: Crawled (400) <GET https://proxy.scrapeops.io/v1/?api_key=&url=https%3A%2F%2Fproxy.scrapeops.io%2Fv1%2F%3Fapi_key%3D%26url%3Dhttps%253A%2F%2Fwww.fanfiction.net%2Fs%2F14406865%2F2%2FThe-Weight-of-Shadows> (referer: https://steamdb.info/graph/)\n",
      "2024-12-04 10:37:38 [scrapy.spidermiddlewares.httperror] INFO: Ignoring response <400 https://proxy.scrapeops.io/v1/?api_key=&url=https%3A%2F%2Fproxy.scrapeops.io%2Fv1%2F%3Fapi_key%3D%26url%3Dhttps%253A%2F%2Fwww.fanfiction.net%2Fs%2F11140632%2F2%2FDon-t-leave-it-too-late>: HTTP status code is not handled or not allowed\n",
      "2024-12-04 10:37:38 [scrapy.core.engine] DEBUG: Crawled (400) <GET https://proxy.scrapeops.io/v1/?api_key=&url=https%3A%2F%2Fproxy.scrapeops.io%2Fv1%2F%3Fapi_key%3D%26url%3Dhttps%253A%2F%2Fwww.fanfiction.net%2Fs%2F14406873%2F2%2FShadows-of-Justice> (referer: https://steamdb.info/graph/)\n",
      "2024-12-04 10:37:38 [scrapy.spidermiddlewares.httperror] INFO: Ignoring response <400 https://proxy.scrapeops.io/v1/?api_key=&url=https%3A%2F%2Fproxy.scrapeops.io%2Fv1%2F%3Fapi_key%3D%26url%3Dhttps%253A%2F%2Fwww.fanfiction.net%2Fs%2F14406865%2F2%2FThe-Weight-of-Shadows>: HTTP status code is not handled or not allowed\n",
      "2024-12-04 10:37:38 [scrapy.core.engine] DEBUG: Crawled (400) <GET https://proxy.scrapeops.io/v1/?api_key=&url=https%3A%2F%2Fproxy.scrapeops.io%2Fv1%2F%3Fapi_key%3D%26url%3Dhttps%253A%2F%2Fwww.fanfiction.net%2Fs%2F14223124%2F2%2FJohn-15-13> (referer: https://steamdb.info/graph/)\n",
      "2024-12-04 10:37:38 [scrapy.spidermiddlewares.httperror] INFO: Ignoring response <400 https://proxy.scrapeops.io/v1/?api_key=&url=https%3A%2F%2Fproxy.scrapeops.io%2Fv1%2F%3Fapi_key%3D%26url%3Dhttps%253A%2F%2Fwww.fanfiction.net%2Fs%2F14406873%2F2%2FShadows-of-Justice>: HTTP status code is not handled or not allowed\n",
      "2024-12-04 10:37:38 [scrapy.core.engine] DEBUG: Crawled (400) <GET https://proxy.scrapeops.io/v1/?api_key=&url=https%3A%2F%2Fproxy.scrapeops.io%2Fv1%2F%3Fapi_key%3D%26url%3Dhttps%253A%2F%2Fwww.fanfiction.net%2Fs%2F14226288%2F2%2FSecond-Thoughts-About-John> (referer: https://steamdb.info/graph/)\n",
      "2024-12-04 10:37:38 [scrapy.spidermiddlewares.httperror] INFO: Ignoring response <400 https://proxy.scrapeops.io/v1/?api_key=&url=https%3A%2F%2Fproxy.scrapeops.io%2Fv1%2F%3Fapi_key%3D%26url%3Dhttps%253A%2F%2Fwww.fanfiction.net%2Fs%2F14223124%2F2%2FJohn-15-13>: HTTP status code is not handled or not allowed\n",
      "2024-12-04 10:37:38 [scrapy.downloadermiddlewares.retry] DEBUG: Retrying <GET https://proxy.scrapeops.io/v1/?api_key=&url=https%3A%2F%2Fwww.fanfiction.net%2Fs%2F14211631%2F1%2FLe-jour-d-apr%25C3%25A8s> (failed 1 times): 429 Unknown Status\n",
      "2024-12-04 10:37:38 [scrapy.spidermiddlewares.httperror] INFO: Ignoring response <400 https://proxy.scrapeops.io/v1/?api_key=&url=https%3A%2F%2Fproxy.scrapeops.io%2Fv1%2F%3Fapi_key%3D%26url%3Dhttps%253A%2F%2Fwww.fanfiction.net%2Fs%2F14226288%2F2%2FSecond-Thoughts-About-John>: HTTP status code is not handled or not allowed\n",
      "2024-12-04 10:37:38 [scrapy.core.engine] DEBUG: Crawled (200) <GET https://proxy.scrapeops.io/v1/?api_key=&url=https%3A%2F%2Fwww.fanfiction.net%2Fs%2F14235246%2F1%2FQuelque-chose-de-nouveau> (referer: https://steamdb.info/graph/)\n",
      "2024-12-04 10:37:38 [scrapy.downloadermiddlewares.retry] DEBUG: Retrying <GET https://proxy.scrapeops.io/v1/?api_key=&url=https%3A%2F%2Fwww.fanfiction.net%2Fs%2F14219350%2F1%2FThe-Perks-of-a-Broken-Mind-Palace> (failed 1 times): 429 Unknown Status\n",
      "2024-12-04 10:37:38 [scrapy.core.engine] DEBUG: Crawled (400) <GET https://proxy.scrapeops.io/v1/?api_key=&url=https%3A%2F%2Fproxy.scrapeops.io%2Fv1%2F%3Fapi_key%3D%26url%3Dhttps%253A%2F%2Fwww.fanfiction.net%2Fs%2F14230453%2F2%2FA-King-s-Coronation> (referer: https://steamdb.info/graph/)\n",
      "2024-12-04 10:37:38 [scrapy.spidermiddlewares.httperror] INFO: Ignoring response <400 https://proxy.scrapeops.io/v1/?api_key=&url=https%3A%2F%2Fproxy.scrapeops.io%2Fv1%2F%3Fapi_key%3D%26url%3Dhttps%253A%2F%2Fwww.fanfiction.net%2Fs%2F14230453%2F2%2FA-King-s-Coronation>: HTTP status code is not handled or not allowed\n",
      "2024-12-04 10:37:38 [scrapy.core.engine] DEBUG: Crawled (200) <GET https://proxy.scrapeops.io/v1/?api_key=&url=https%3A%2F%2Fwww.fanfiction.net%2Ftv%2FSherlock%2F%3F%26srt%3D1%26r%3D103%26p%3D9> (referer: https://steamdb.info/graph/)\n"
     ]
    },
    {
     "name": "stdout",
     "output_type": "stream",
     "text": [
      "\n"
     ]
    },
    {
     "name": "stderr",
     "output_type": "stream",
     "text": [
      "2024-12-04 10:37:39 [scrapy.core.engine] DEBUG: Crawled (400) <GET https://proxy.scrapeops.io/v1/?api_key=&url=https%3A%2F%2Fproxy.scrapeops.io%2Fv1%2F%3Fapi_key%3D%26url%3Dhttps%253A%2F%2Fwww.fanfiction.net%2Fs%2F14124814%2F2%2FLove-is-blind> (referer: https://steamdb.info/graph/)\n",
      "2024-12-04 10:37:39 [scrapy.spidermiddlewares.httperror] INFO: Ignoring response <400 https://proxy.scrapeops.io/v1/?api_key=&url=https%3A%2F%2Fproxy.scrapeops.io%2Fv1%2F%3Fapi_key%3D%26url%3Dhttps%253A%2F%2Fwww.fanfiction.net%2Fs%2F14124814%2F2%2FLove-is-blind>: HTTP status code is not handled or not allowed\n"
     ]
    },
    {
     "name": "stdout",
     "output_type": "stream",
     "text": [
      "25\n"
     ]
    },
    {
     "name": "stderr",
     "output_type": "stream",
     "text": [
      "2024-12-04 10:37:39 [scrapy.core.engine] DEBUG: Crawled (200) <GET https://proxy.scrapeops.io/v1/?api_key=&url=https%3A%2F%2Fwww.fanfiction.net%2Fs%2F14172863%2F1%2FThe-proof-of-the-casserole-is-in-the-parsley> (referer: https://steamdb.info/graph/)\n"
     ]
    },
    {
     "name": "stdout",
     "output_type": "stream",
     "text": [
      "\n",
      "https://proxy.scrapeops.io/v1/?api_key=&url=https%3A%2F%2Fwww.fanfiction.net%2Fs%2F14172863%2F1%2FThe-proof-of-the-casserole-is-in-the-parsley\n"
     ]
    },
    {
     "name": "stderr",
     "output_type": "stream",
     "text": [
      "2024-12-04 10:37:40 [scrapy.core.engine] DEBUG: Crawled (200) <GET https://proxy.scrapeops.io/v1/?api_key=&url=https%3A%2F%2Fwww.fanfiction.net%2Fs%2F14175196%2F1%2FDid-I-Do-This-to-You> (referer: https://steamdb.info/graph/)\n",
      "2024-12-04 10:37:40 [scrapy.core.engine] DEBUG: Crawled (200) <GET https://proxy.scrapeops.io/v1/?api_key=&url=https%3A%2F%2Fwww.fanfiction.net%2Fs%2F14174922%2F1%2FOn-Shuffle> (referer: https://steamdb.info/graph/)\n",
      "2024-12-04 10:37:40 [scrapy.core.engine] DEBUG: Crawled (200) <GET https://proxy.scrapeops.io/v1/?api_key=&url=https%3A%2F%2Fwww.fanfiction.net%2Fs%2F13922778%2F1%2FThe-Fall-of-Man> (referer: https://steamdb.info/graph/)\n",
      "2024-12-04 10:37:40 [scrapy.core.engine] DEBUG: Crawled (200) <GET https://proxy.scrapeops.io/v1/?api_key=&url=https%3A%2F%2Fwww.fanfiction.net%2Fs%2F14175467%2F1%2FPerhaps-he-also-cared> (referer: https://steamdb.info/graph/)\n"
     ]
    },
    {
     "name": "stdout",
     "output_type": "stream",
     "text": [
      "\n",
      "https://proxy.scrapeops.io/v1/?api_key=&url=https%3A%2F%2Fwww.fanfiction.net%2Fs%2F14175196%2F1%2FDid-I-Do-This-to-You\n",
      "\n",
      "https://proxy.scrapeops.io/v1/?api_key=&url=https%3A%2F%2Fwww.fanfiction.net%2Fs%2F14174922%2F1%2FOn-Shuffle\n",
      "\n",
      "https://proxy.scrapeops.io/v1/?api_key=&url=https%3A%2F%2Fwww.fanfiction.net%2Fs%2F13922778%2F1%2FThe-Fall-of-Man\n",
      "\n",
      "https://proxy.scrapeops.io/v1/?api_key=&url=https%3A%2F%2Fwww.fanfiction.net%2Fs%2F14175467%2F1%2FPerhaps-he-also-cared\n"
     ]
    },
    {
     "name": "stderr",
     "output_type": "stream",
     "text": [
      "2024-12-04 10:37:40 [scrapy.core.engine] DEBUG: Crawled (200) <GET https://proxy.scrapeops.io/v1/?api_key=&url=https%3A%2F%2Fwww.fanfiction.net%2Fs%2F14177713%2F1%2FTattoos-are-like-cherries> (referer: https://steamdb.info/graph/)\n"
     ]
    },
    {
     "name": "stdout",
     "output_type": "stream",
     "text": [
      "\n",
      "https://proxy.scrapeops.io/v1/?api_key=&url=https%3A%2F%2Fwww.fanfiction.net%2Fs%2F14177713%2F1%2FTattoos-are-like-cherries\n"
     ]
    },
    {
     "name": "stderr",
     "output_type": "stream",
     "text": [
      "2024-12-04 10:37:41 [scrapy.core.engine] DEBUG: Crawled (200) <GET https://proxy.scrapeops.io/v1/?api_key=&url=https%3A%2F%2Fwww.fanfiction.net%2Fs%2F14184925%2F1%2FVice-Versa> (referer: https://steamdb.info/graph/)\n",
      "2024-12-04 10:37:42 [scrapy.core.engine] DEBUG: Crawled (200) <GET https://proxy.scrapeops.io/v1/?api_key=&url=https%3A%2F%2Fwww.fanfiction.net%2Fs%2F14184905%2F1%2FNo-More-Clouded-Smiles> (referer: https://steamdb.info/graph/)\n"
     ]
    },
    {
     "name": "stdout",
     "output_type": "stream",
     "text": [
      "\n",
      "https://proxy.scrapeops.io/v1/?api_key=&url=https%3A%2F%2Fwww.fanfiction.net%2Fs%2F14184925%2F1%2FVice-Versa\n",
      "\n",
      "https://proxy.scrapeops.io/v1/?api_key=&url=https%3A%2F%2Fwww.fanfiction.net%2Fs%2F14184905%2F1%2FNo-More-Clouded-Smiles\n"
     ]
    },
    {
     "name": "stderr",
     "output_type": "stream",
     "text": [
      "2024-12-04 10:37:42 [scrapy.core.engine] DEBUG: Crawled (200) <GET https://proxy.scrapeops.io/v1/?api_key=&url=https%3A%2F%2Fwww.fanfiction.net%2Fs%2F14186513%2F1%2FBut-They-Almost-Did> (referer: https://steamdb.info/graph/)\n",
      "2024-12-04 10:37:42 [scrapy.core.engine] DEBUG: Crawled (200) <GET https://proxy.scrapeops.io/v1/?api_key=&url=https%3A%2F%2Fwww.fanfiction.net%2Fs%2F12510777%2F1%2FCaged> (referer: https://steamdb.info/graph/)\n",
      "2024-12-04 10:37:42 [scrapy.core.engine] DEBUG: Crawled (400) <GET https://proxy.scrapeops.io/v1/?api_key=&url=https%3A%2F%2Fproxy.scrapeops.io%2Fv1%2F%3Fapi_key%3D%26url%3Dhttps%253A%2F%2Fwww.fanfiction.net%2Fs%2F14172863%2F2%2FThe-proof-of-the-casserole-is-in-the-parsley> (referer: https://steamdb.info/graph/)\n",
      "2024-12-04 10:37:42 [scrapy.spidermiddlewares.httperror] INFO: Ignoring response <400 https://proxy.scrapeops.io/v1/?api_key=&url=https%3A%2F%2Fproxy.scrapeops.io%2Fv1%2F%3Fapi_key%3D%26url%3Dhttps%253A%2F%2Fwww.fanfiction.net%2Fs%2F14172863%2F2%2FThe-proof-of-the-casserole-is-in-the-parsley>: HTTP status code is not handled or not allowed\n"
     ]
    },
    {
     "name": "stdout",
     "output_type": "stream",
     "text": [
      "\n",
      "https://proxy.scrapeops.io/v1/?api_key=&url=https%3A%2F%2Fwww.fanfiction.net%2Fs%2F14186513%2F1%2FBut-They-Almost-Did\n",
      "\n",
      "https://proxy.scrapeops.io/v1/?api_key=&url=https%3A%2F%2Fwww.fanfiction.net%2Fs%2F12510777%2F1%2FCaged\n"
     ]
    },
    {
     "name": "stderr",
     "output_type": "stream",
     "text": [
      "2024-12-04 10:37:43 [scrapy.downloadermiddlewares.retry] DEBUG: Retrying <GET https://proxy.scrapeops.io/v1/?api_key=&url=https%3A%2F%2Fwww.fanfiction.net%2Fs%2F14176732%2F1%2FThor-Bridge-Problems> (failed 1 times): 429 Unknown Status\n",
      "2024-12-04 10:37:43 [scrapy.core.engine] DEBUG: Crawled (400) <GET https://proxy.scrapeops.io/v1/?api_key=&url=https%3A%2F%2Fproxy.scrapeops.io%2Fv1%2F%3Fapi_key%3D%26url%3Dhttps%253A%2F%2Fwww.fanfiction.net%2Fs%2F14174922%2F2%2FOn-Shuffle> (referer: https://steamdb.info/graph/)\n",
      "2024-12-04 10:37:43 [scrapy.core.engine] DEBUG: Crawled (200) <GET https://proxy.scrapeops.io/v1/?api_key=&url=https%3A%2F%2Fwww.fanfiction.net%2Ftv%2FSherlock%2F%3F%26srt%3D1%26r%3D103%26p%3D10> (referer: https://steamdb.info/graph/)\n",
      "2024-12-04 10:37:43 [scrapy.core.engine] DEBUG: Crawled (400) <GET https://proxy.scrapeops.io/v1/?api_key=&url=https%3A%2F%2Fproxy.scrapeops.io%2Fv1%2F%3Fapi_key%3D%26url%3Dhttps%253A%2F%2Fwww.fanfiction.net%2Fs%2F14175196%2F2%2FDid-I-Do-This-to-You> (referer: https://steamdb.info/graph/)\n",
      "2024-12-04 10:37:43 [scrapy.spidermiddlewares.httperror] INFO: Ignoring response <400 https://proxy.scrapeops.io/v1/?api_key=&url=https%3A%2F%2Fproxy.scrapeops.io%2Fv1%2F%3Fapi_key%3D%26url%3Dhttps%253A%2F%2Fwww.fanfiction.net%2Fs%2F14174922%2F2%2FOn-Shuffle>: HTTP status code is not handled or not allowed\n",
      "2024-12-04 10:37:43 [scrapy.core.engine] DEBUG: Crawled (400) <GET https://proxy.scrapeops.io/v1/?api_key=&url=https%3A%2F%2Fproxy.scrapeops.io%2Fv1%2F%3Fapi_key%3D%26url%3Dhttps%253A%2F%2Fwww.fanfiction.net%2Fs%2F14175467%2F2%2FPerhaps-he-also-cared> (referer: https://steamdb.info/graph/)\n",
      "2024-12-04 10:37:43 [scrapy.spidermiddlewares.httperror] INFO: Ignoring response <400 https://proxy.scrapeops.io/v1/?api_key=&url=https%3A%2F%2Fproxy.scrapeops.io%2Fv1%2F%3Fapi_key%3D%26url%3Dhttps%253A%2F%2Fwww.fanfiction.net%2Fs%2F14175196%2F2%2FDid-I-Do-This-to-You>: HTTP status code is not handled or not allowed\n",
      "2024-12-04 10:37:43 [scrapy.core.engine] DEBUG: Crawled (400) <GET https://proxy.scrapeops.io/v1/?api_key=&url=https%3A%2F%2Fproxy.scrapeops.io%2Fv1%2F%3Fapi_key%3D%26url%3Dhttps%253A%2F%2Fwww.fanfiction.net%2Fs%2F14177713%2F2%2FTattoos-are-like-cherries> (referer: https://steamdb.info/graph/)\n",
      "2024-12-04 10:37:43 [scrapy.core.engine] DEBUG: Crawled (200) <GET https://proxy.scrapeops.io/v1/?api_key=&url=https%3A%2F%2Fwww.fanfiction.net%2Fs%2F14183922%2F1%2FEtology-is-confusing> (referer: https://steamdb.info/graph/)\n",
      "2024-12-04 10:37:44 [scrapy.core.engine] DEBUG: Crawled (400) <GET https://proxy.scrapeops.io/v1/?api_key=&url=https%3A%2F%2Fproxy.scrapeops.io%2Fv1%2F%3Fapi_key%3D%26url%3Dhttps%253A%2F%2Fwww.fanfiction.net%2Fs%2F13922778%2F2%2FThe-Fall-of-Man> (referer: https://steamdb.info/graph/)\n",
      "2024-12-04 10:37:44 [scrapy.core.engine] DEBUG: Crawled (400) <GET https://proxy.scrapeops.io/v1/?api_key=&url=https%3A%2F%2Fproxy.scrapeops.io%2Fv1%2F%3Fapi_key%3D%26url%3Dhttps%253A%2F%2Fwww.fanfiction.net%2Fs%2F14184925%2F2%2FVice-Versa> (referer: https://steamdb.info/graph/)\n",
      "2024-12-04 10:37:44 [scrapy.spidermiddlewares.httperror] INFO: Ignoring response <400 https://proxy.scrapeops.io/v1/?api_key=&url=https%3A%2F%2Fproxy.scrapeops.io%2Fv1%2F%3Fapi_key%3D%26url%3Dhttps%253A%2F%2Fwww.fanfiction.net%2Fs%2F14175467%2F2%2FPerhaps-he-also-cared>: HTTP status code is not handled or not allowed\n",
      "2024-12-04 10:37:44 [scrapy.core.engine] DEBUG: Crawled (400) <GET https://proxy.scrapeops.io/v1/?api_key=&url=https%3A%2F%2Fproxy.scrapeops.io%2Fv1%2F%3Fapi_key%3D%26url%3Dhttps%253A%2F%2Fwww.fanfiction.net%2Fs%2F14184905%2F2%2FNo-More-Clouded-Smiles> (referer: https://steamdb.info/graph/)\n",
      "2024-12-04 10:37:44 [scrapy.spidermiddlewares.httperror] INFO: Ignoring response <400 https://proxy.scrapeops.io/v1/?api_key=&url=https%3A%2F%2Fproxy.scrapeops.io%2Fv1%2F%3Fapi_key%3D%26url%3Dhttps%253A%2F%2Fwww.fanfiction.net%2Fs%2F14177713%2F2%2FTattoos-are-like-cherries>: HTTP status code is not handled or not allowed\n",
      "2024-12-04 10:37:44 [scrapy.core.engine] DEBUG: Crawled (200) <GET https://proxy.scrapeops.io/v1/?api_key=&url=https%3A%2F%2Fwww.fanfiction.net%2Fs%2F14194554%2F1%2FSomewhere-Only-We-Know> (referer: https://steamdb.info/graph/)\n"
     ]
    },
    {
     "name": "stdout",
     "output_type": "stream",
     "text": [
      "25\n",
      "\n",
      "https://proxy.scrapeops.io/v1/?api_key=&url=https%3A%2F%2Fwww.fanfiction.net%2Fs%2F14183922%2F1%2FEtology-is-confusing\n"
     ]
    },
    {
     "name": "stderr",
     "output_type": "stream",
     "text": [
      "2024-12-04 10:37:44 [scrapy.spidermiddlewares.httperror] INFO: Ignoring response <400 https://proxy.scrapeops.io/v1/?api_key=&url=https%3A%2F%2Fproxy.scrapeops.io%2Fv1%2F%3Fapi_key%3D%26url%3Dhttps%253A%2F%2Fwww.fanfiction.net%2Fs%2F13922778%2F2%2FThe-Fall-of-Man>: HTTP status code is not handled or not allowed\n",
      "2024-12-04 10:37:44 [scrapy.spidermiddlewares.httperror] INFO: Ignoring response <400 https://proxy.scrapeops.io/v1/?api_key=&url=https%3A%2F%2Fproxy.scrapeops.io%2Fv1%2F%3Fapi_key%3D%26url%3Dhttps%253A%2F%2Fwww.fanfiction.net%2Fs%2F14184925%2F2%2FVice-Versa>: HTTP status code is not handled or not allowed\n",
      "2024-12-04 10:37:44 [scrapy.core.engine] DEBUG: Crawled (400) <GET https://proxy.scrapeops.io/v1/?api_key=&url=https%3A%2F%2Fproxy.scrapeops.io%2Fv1%2F%3Fapi_key%3D%26url%3Dhttps%253A%2F%2Fwww.fanfiction.net%2Fs%2F12510777%2F2%2FCaged> (referer: https://steamdb.info/graph/)\n",
      "2024-12-04 10:37:44 [scrapy.spidermiddlewares.httperror] INFO: Ignoring response <400 https://proxy.scrapeops.io/v1/?api_key=&url=https%3A%2F%2Fproxy.scrapeops.io%2Fv1%2F%3Fapi_key%3D%26url%3Dhttps%253A%2F%2Fwww.fanfiction.net%2Fs%2F14184905%2F2%2FNo-More-Clouded-Smiles>: HTTP status code is not handled or not allowed\n",
      "2024-12-04 10:37:44 [scrapy.core.engine] DEBUG: Crawled (400) <GET https://proxy.scrapeops.io/v1/?api_key=&url=https%3A%2F%2Fproxy.scrapeops.io%2Fv1%2F%3Fapi_key%3D%26url%3Dhttps%253A%2F%2Fwww.fanfiction.net%2Fs%2F14186513%2F2%2FBut-They-Almost-Did> (referer: https://steamdb.info/graph/)\n",
      "2024-12-04 10:37:44 [scrapy.spidermiddlewares.httperror] INFO: Ignoring response <400 https://proxy.scrapeops.io/v1/?api_key=&url=https%3A%2F%2Fproxy.scrapeops.io%2Fv1%2F%3Fapi_key%3D%26url%3Dhttps%253A%2F%2Fwww.fanfiction.net%2Fs%2F12510777%2F2%2FCaged>: HTTP status code is not handled or not allowed\n",
      "2024-12-04 10:37:44 [scrapy.downloadermiddlewares.retry] DEBUG: Retrying <GET https://proxy.scrapeops.io/v1/?api_key=&url=https%3A%2F%2Fwww.fanfiction.net%2Fs%2F14182247%2F1%2FWill-you-marry-me-too-Johnlock> (failed 1 times): 429 Unknown Status\n",
      "2024-12-04 10:37:44 [scrapy.spidermiddlewares.httperror] INFO: Ignoring response <400 https://proxy.scrapeops.io/v1/?api_key=&url=https%3A%2F%2Fproxy.scrapeops.io%2Fv1%2F%3Fapi_key%3D%26url%3Dhttps%253A%2F%2Fwww.fanfiction.net%2Fs%2F14186513%2F2%2FBut-They-Almost-Did>: HTTP status code is not handled or not allowed\n"
     ]
    },
    {
     "name": "stdout",
     "output_type": "stream",
     "text": [
      "\n",
      "https://proxy.scrapeops.io/v1/?api_key=&url=https%3A%2F%2Fwww.fanfiction.net%2Fs%2F14194554%2F1%2FSomewhere-Only-We-Know\n"
     ]
    },
    {
     "name": "stderr",
     "output_type": "stream",
     "text": [
      "2024-12-04 10:37:44 [scrapy.core.engine] DEBUG: Crawled (200) <GET https://proxy.scrapeops.io/v1/?api_key=&url=https%3A%2F%2Fwww.fanfiction.net%2Fs%2F13811251%2F1%2FCrossing-Realms> (referer: https://steamdb.info/graph/)\n",
      "2024-12-04 10:37:44 [scrapy.core.engine] DEBUG: Crawled (200) <GET https://proxy.scrapeops.io/v1/?api_key=&url=https%3A%2F%2Fwww.fanfiction.net%2Fs%2F14193319%2F1%2FChemical-synthesis-reaction> (referer: https://steamdb.info/graph/)\n"
     ]
    },
    {
     "name": "stdout",
     "output_type": "stream",
     "text": [
      "\n",
      "https://proxy.scrapeops.io/v1/?api_key=&url=https%3A%2F%2Fwww.fanfiction.net%2Fs%2F13811251%2F1%2FCrossing-Realms\n",
      "\n",
      "https://proxy.scrapeops.io/v1/?api_key=&url=https%3A%2F%2Fwww.fanfiction.net%2Fs%2F14193319%2F1%2FChemical-synthesis-reaction\n"
     ]
    },
    {
     "name": "stderr",
     "output_type": "stream",
     "text": [
      "2024-12-04 10:37:45 [scrapy.core.engine] DEBUG: Crawled (200) <GET https://proxy.scrapeops.io/v1/?api_key=&url=https%3A%2F%2Fwww.fanfiction.net%2Fs%2F14145842%2F1%2FYour-Hand-in-My-Hand> (referer: https://steamdb.info/graph/)\n",
      "2024-12-04 10:37:45 [scrapy.core.engine] DEBUG: Crawled (200) <GET https://proxy.scrapeops.io/v1/?api_key=&url=https%3A%2F%2Fwww.fanfiction.net%2Fs%2F12661674%2F1%2FHere> (referer: https://steamdb.info/graph/)\n",
      "2024-12-04 10:37:45 [scrapy.core.engine] DEBUG: Crawled (200) <GET https://proxy.scrapeops.io/v1/?api_key=&url=https%3A%2F%2Fwww.fanfiction.net%2Ftv%2FSherlock%2F%3F%26srt%3D1%26r%3D103%26p%3D11> (referer: https://steamdb.info/graph/)\n"
     ]
    },
    {
     "name": "stdout",
     "output_type": "stream",
     "text": [
      "\n",
      "https://proxy.scrapeops.io/v1/?api_key=&url=https%3A%2F%2Fwww.fanfiction.net%2Fs%2F14145842%2F1%2FYour-Hand-in-My-Hand\n",
      "\n",
      "https://proxy.scrapeops.io/v1/?api_key=&url=https%3A%2F%2Fwww.fanfiction.net%2Fs%2F12661674%2F1%2FHere\n",
      "25\n"
     ]
    },
    {
     "name": "stderr",
     "output_type": "stream",
     "text": [
      "2024-12-04 10:37:46 [scrapy.core.engine] DEBUG: Crawled (200) <GET https://proxy.scrapeops.io/v1/?api_key=&url=https%3A%2F%2Fwww.fanfiction.net%2Fs%2F13966422%2F1%2FProtecting-His-Family> (referer: https://steamdb.info/graph/)\n",
      "2024-12-04 10:37:46 [scrapy.core.engine] DEBUG: Crawled (200) <GET https://proxy.scrapeops.io/v1/?api_key=&url=https%3A%2F%2Fwww.fanfiction.net%2Fs%2F9517749%2F1%2FThe-Making-of-Moriarty> (referer: https://steamdb.info/graph/)\n",
      "2024-12-04 10:37:46 [scrapy.core.engine] DEBUG: Crawled (200) <GET https://proxy.scrapeops.io/v1/?api_key=&url=https%3A%2F%2Fwww.fanfiction.net%2Fs%2F14105949%2F1%2FWho-Am-I> (referer: https://steamdb.info/graph/)\n",
      "2024-12-04 10:37:46 [scrapy.core.engine] DEBUG: Crawled (400) <GET https://proxy.scrapeops.io/v1/?api_key=&url=https%3A%2F%2Fproxy.scrapeops.io%2Fv1%2F%3Fapi_key%3D%26url%3Dhttps%253A%2F%2Fwww.fanfiction.net%2Fs%2F14183922%2F2%2FEtology-is-confusing> (referer: https://steamdb.info/graph/)\n",
      "2024-12-04 10:37:46 [scrapy.core.engine] DEBUG: Crawled (400) <GET https://proxy.scrapeops.io/v1/?api_key=&url=https%3A%2F%2Fproxy.scrapeops.io%2Fv1%2F%3Fapi_key%3D%26url%3Dhttps%253A%2F%2Fwww.fanfiction.net%2Fs%2F14194554%2F2%2FSomewhere-Only-We-Know> (referer: https://steamdb.info/graph/)\n",
      "2024-12-04 10:37:46 [scrapy.spidermiddlewares.httperror] INFO: Ignoring response <400 https://proxy.scrapeops.io/v1/?api_key=&url=https%3A%2F%2Fproxy.scrapeops.io%2Fv1%2F%3Fapi_key%3D%26url%3Dhttps%253A%2F%2Fwww.fanfiction.net%2Fs%2F14183922%2F2%2FEtology-is-confusing>: HTTP status code is not handled or not allowed\n",
      "2024-12-04 10:37:46 [scrapy.spidermiddlewares.httperror] INFO: Ignoring response <400 https://proxy.scrapeops.io/v1/?api_key=&url=https%3A%2F%2Fproxy.scrapeops.io%2Fv1%2F%3Fapi_key%3D%26url%3Dhttps%253A%2F%2Fwww.fanfiction.net%2Fs%2F14194554%2F2%2FSomewhere-Only-We-Know>: HTTP status code is not handled or not allowed\n"
     ]
    },
    {
     "name": "stdout",
     "output_type": "stream",
     "text": [
      "\n",
      "https://proxy.scrapeops.io/v1/?api_key=&url=https%3A%2F%2Fwww.fanfiction.net%2Fs%2F13966422%2F1%2FProtecting-His-Family\n",
      "\n",
      "https://proxy.scrapeops.io/v1/?api_key=&url=https%3A%2F%2Fwww.fanfiction.net%2Fs%2F9517749%2F1%2FThe-Making-of-Moriarty\n",
      "\n",
      "https://proxy.scrapeops.io/v1/?api_key=&url=https%3A%2F%2Fwww.fanfiction.net%2Fs%2F14105949%2F1%2FWho-Am-I\n"
     ]
    },
    {
     "name": "stderr",
     "output_type": "stream",
     "text": [
      "2024-12-04 10:37:47 [scrapy.core.engine] DEBUG: Crawled (200) <GET https://proxy.scrapeops.io/v1/?api_key=&url=https%3A%2F%2Fwww.fanfiction.net%2Fs%2F14118933%2F1%2FDouble-Take> (referer: https://steamdb.info/graph/)\n",
      "2024-12-04 10:37:47 [scrapy.core.engine] DEBUG: Crawled (200) <GET https://proxy.scrapeops.io/v1/?api_key=&url=https%3A%2F%2Fwww.fanfiction.net%2Fs%2F14121358%2F1%2FI-Shall-Believe> (referer: https://steamdb.info/graph/)\n",
      "2024-12-04 10:37:47 [scrapy.core.engine] DEBUG: Crawled (400) <GET https://proxy.scrapeops.io/v1/?api_key=&url=https%3A%2F%2Fproxy.scrapeops.io%2Fv1%2F%3Fapi_key%3D%26url%3Dhttps%253A%2F%2Fwww.fanfiction.net%2Fs%2F14193319%2F2%2FChemical-synthesis-reaction> (referer: https://steamdb.info/graph/)\n",
      "2024-12-04 10:37:47 [scrapy.core.engine] DEBUG: Crawled (400) <GET https://proxy.scrapeops.io/v1/?api_key=&url=https%3A%2F%2Fproxy.scrapeops.io%2Fv1%2F%3Fapi_key%3D%26url%3Dhttps%253A%2F%2Fwww.fanfiction.net%2Fs%2F13811251%2F2%2FCrossing-Realms> (referer: https://steamdb.info/graph/)\n",
      "2024-12-04 10:37:47 [scrapy.spidermiddlewares.httperror] INFO: Ignoring response <400 https://proxy.scrapeops.io/v1/?api_key=&url=https%3A%2F%2Fproxy.scrapeops.io%2Fv1%2F%3Fapi_key%3D%26url%3Dhttps%253A%2F%2Fwww.fanfiction.net%2Fs%2F14193319%2F2%2FChemical-synthesis-reaction>: HTTP status code is not handled or not allowed\n",
      "2024-12-04 10:37:47 [scrapy.spidermiddlewares.httperror] INFO: Ignoring response <400 https://proxy.scrapeops.io/v1/?api_key=&url=https%3A%2F%2Fproxy.scrapeops.io%2Fv1%2F%3Fapi_key%3D%26url%3Dhttps%253A%2F%2Fwww.fanfiction.net%2Fs%2F13811251%2F2%2FCrossing-Realms>: HTTP status code is not handled or not allowed\n",
      "2024-12-04 10:37:47 [scrapy.core.engine] DEBUG: Crawled (200) <GET https://proxy.scrapeops.io/v1/?api_key=&url=https%3A%2F%2Fwww.fanfiction.net%2Fs%2F14123169%2F1%2FJ-ai-commis-un-assassinat> (referer: https://steamdb.info/graph/)\n"
     ]
    },
    {
     "name": "stdout",
     "output_type": "stream",
     "text": [
      "\n",
      "https://proxy.scrapeops.io/v1/?api_key=&url=https%3A%2F%2Fwww.fanfiction.net%2Fs%2F14118933%2F1%2FDouble-Take\n",
      "\n",
      "https://proxy.scrapeops.io/v1/?api_key=&url=https%3A%2F%2Fwww.fanfiction.net%2Fs%2F14121358%2F1%2FI-Shall-Believe\n",
      "\n"
     ]
    },
    {
     "name": "stderr",
     "output_type": "stream",
     "text": [
      "2024-12-04 10:37:48 [scrapy.core.engine] DEBUG: Crawled (200) <GET https://proxy.scrapeops.io/v1/?api_key=&url=https%3A%2F%2Fwww.fanfiction.net%2Fs%2F14122104%2F1%2FTetov%25C3%25A1n%25C3%25AD-proklat%25C4%259B-n%25C3%25ADzko-u-pasu> (referer: https://steamdb.info/graph/)\n",
      "2024-12-04 10:37:48 [scrapy.core.engine] DEBUG: Crawled (200) <GET https://proxy.scrapeops.io/v1/?api_key=&url=https%3A%2F%2Fwww.fanfiction.net%2Fs%2F14121860%2F1%2FThe-East-Wind-Has-Blown-Pick-Up-the-Pieces> (referer: https://steamdb.info/graph/)\n",
      "2024-12-04 10:37:48 [scrapy.core.engine] DEBUG: Crawled (200) <GET https://proxy.scrapeops.io/v1/?api_key=&url=https%3A%2F%2Fwww.fanfiction.net%2Fs%2F9366767%2F1%2FI-Am-What-I-Am> (referer: https://steamdb.info/graph/)\n"
     ]
    },
    {
     "name": "stdout",
     "output_type": "stream",
     "text": [
      "\n",
      "\n",
      "https://proxy.scrapeops.io/v1/?api_key=&url=https%3A%2F%2Fwww.fanfiction.net%2Fs%2F14121860%2F1%2FThe-East-Wind-Has-Blown-Pick-Up-the-Pieces\n",
      "\n",
      "https://proxy.scrapeops.io/v1/?api_key=&url=https%3A%2F%2Fwww.fanfiction.net%2Fs%2F9366767%2F1%2FI-Am-What-I-Am\n"
     ]
    },
    {
     "name": "stderr",
     "output_type": "stream",
     "text": [
      "2024-12-04 10:37:49 [scrapy.downloadermiddlewares.retry] DEBUG: Retrying <GET https://proxy.scrapeops.io/v1/?api_key=&url=https%3A%2F%2Fwww.fanfiction.net%2Fs%2F14117878%2F1%2FHeavy-Breathing-Johnlock> (failed 1 times): 429 Unknown Status\n",
      "2024-12-04 10:37:49 [scrapy.core.engine] DEBUG: Crawled (200) <GET https://proxy.scrapeops.io/v1/?api_key=&url=https%3A%2F%2Fwww.fanfiction.net%2Fs%2F8794590%2F1%2FGot-My-Eye-On-You> (referer: https://steamdb.info/graph/)\n",
      "2024-12-04 10:37:49 [scrapy.downloadermiddlewares.retry] DEBUG: Retrying <GET https://proxy.scrapeops.io/v1/?api_key=&url=https%3A%2F%2Fwww.fanfiction.net%2Fs%2F14117944%2F1%2FAbout-Bloody-Time> (failed 1 times): 429 Unknown Status\n",
      "2024-12-04 10:37:49 [scrapy.core.engine] DEBUG: Crawled (200) <GET https://proxy.scrapeops.io/v1/?api_key=&url=https%3A%2F%2Fwww.fanfiction.net%2Fs%2F14096328%2F1%2FAlways-At-The-Best-Time> (referer: https://steamdb.info/graph/)\n",
      "2024-12-04 10:37:49 [scrapy.core.engine] DEBUG: Crawled (200) <GET https://proxy.scrapeops.io/v1/?api_key=&url=https%3A%2F%2Fwww.fanfiction.net%2Ftv%2FSherlock%2F%3F%26srt%3D1%26r%3D103%26p%3D12> (referer: https://steamdb.info/graph/)\n",
      "2024-12-04 10:37:49 [scrapy.core.engine] DEBUG: Crawled (400) <GET https://proxy.scrapeops.io/v1/?api_key=&url=https%3A%2F%2Fproxy.scrapeops.io%2Fv1%2F%3Fapi_key%3D%26url%3Dhttps%253A%2F%2Fwww.fanfiction.net%2Fs%2F14105949%2F2%2FWho-Am-I> (referer: https://steamdb.info/graph/)\n",
      "2024-12-04 10:37:49 [scrapy.core.engine] DEBUG: Crawled (400) <GET https://proxy.scrapeops.io/v1/?api_key=&url=https%3A%2F%2Fproxy.scrapeops.io%2Fv1%2F%3Fapi_key%3D%26url%3Dhttps%253A%2F%2Fwww.fanfiction.net%2Fs%2F9517749%2F2%2FThe-Making-of-Moriarty> (referer: https://steamdb.info/graph/)\n",
      "2024-12-04 10:37:49 [scrapy.core.engine] DEBUG: Crawled (400) <GET https://proxy.scrapeops.io/v1/?api_key=&url=https%3A%2F%2Fproxy.scrapeops.io%2Fv1%2F%3Fapi_key%3D%26url%3Dhttps%253A%2F%2Fwww.fanfiction.net%2Fs%2F14118933%2F2%2FDouble-Take> (referer: https://steamdb.info/graph/)\n",
      "2024-12-04 10:37:49 [scrapy.core.engine] DEBUG: Crawled (400) <GET https://proxy.scrapeops.io/v1/?api_key=&url=https%3A%2F%2Fproxy.scrapeops.io%2Fv1%2F%3Fapi_key%3D%26url%3Dhttps%253A%2F%2Fwww.fanfiction.net%2Fs%2F13966422%2F2%2FProtecting-His-Family> (referer: https://steamdb.info/graph/)\n",
      "2024-12-04 10:37:49 [scrapy.core.engine] DEBUG: Crawled (400) <GET https://proxy.scrapeops.io/v1/?api_key=&url=https%3A%2F%2Fproxy.scrapeops.io%2Fv1%2F%3Fapi_key%3D%26url%3Dhttps%253A%2F%2Fwww.fanfiction.net%2Fs%2F14121358%2F2%2FI-Shall-Believe> (referer: https://steamdb.info/graph/)\n",
      "2024-12-04 10:37:49 [scrapy.spidermiddlewares.httperror] INFO: Ignoring response <400 https://proxy.scrapeops.io/v1/?api_key=&url=https%3A%2F%2Fproxy.scrapeops.io%2Fv1%2F%3Fapi_key%3D%26url%3Dhttps%253A%2F%2Fwww.fanfiction.net%2Fs%2F14105949%2F2%2FWho-Am-I>: HTTP status code is not handled or not allowed\n",
      "2024-12-04 10:37:49 [scrapy.spidermiddlewares.httperror] INFO: Ignoring response <400 https://proxy.scrapeops.io/v1/?api_key=&url=https%3A%2F%2Fproxy.scrapeops.io%2Fv1%2F%3Fapi_key%3D%26url%3Dhttps%253A%2F%2Fwww.fanfiction.net%2Fs%2F9517749%2F2%2FThe-Making-of-Moriarty>: HTTP status code is not handled or not allowed\n",
      "2024-12-04 10:37:49 [scrapy.spidermiddlewares.httperror] INFO: Ignoring response <400 https://proxy.scrapeops.io/v1/?api_key=&url=https%3A%2F%2Fproxy.scrapeops.io%2Fv1%2F%3Fapi_key%3D%26url%3Dhttps%253A%2F%2Fwww.fanfiction.net%2Fs%2F14118933%2F2%2FDouble-Take>: HTTP status code is not handled or not allowed\n",
      "2024-12-04 10:37:49 [scrapy.core.engine] DEBUG: Crawled (400) <GET https://proxy.scrapeops.io/v1/?api_key=&url=https%3A%2F%2Fproxy.scrapeops.io%2Fv1%2F%3Fapi_key%3D%26url%3Dhttps%253A%2F%2Fwww.fanfiction.net%2Fs%2F14121860%2F2%2FThe-East-Wind-Has-Blown-Pick-Up-the-Pieces> (referer: https://steamdb.info/graph/)\n",
      "2024-12-04 10:37:49 [scrapy.spidermiddlewares.httperror] INFO: Ignoring response <400 https://proxy.scrapeops.io/v1/?api_key=&url=https%3A%2F%2Fproxy.scrapeops.io%2Fv1%2F%3Fapi_key%3D%26url%3Dhttps%253A%2F%2Fwww.fanfiction.net%2Fs%2F13966422%2F2%2FProtecting-His-Family>: HTTP status code is not handled or not allowed\n",
      "2024-12-04 10:37:49 [scrapy.core.engine] DEBUG: Crawled (400) <GET https://proxy.scrapeops.io/v1/?api_key=&url=https%3A%2F%2Fproxy.scrapeops.io%2Fv1%2F%3Fapi_key%3D%26url%3Dhttps%253A%2F%2Fwww.fanfiction.net%2Fs%2F9366767%2F2%2FI-Am-What-I-Am> (referer: https://steamdb.info/graph/)\n",
      "2024-12-04 10:37:49 [scrapy.spidermiddlewares.httperror] INFO: Ignoring response <400 https://proxy.scrapeops.io/v1/?api_key=&url=https%3A%2F%2Fproxy.scrapeops.io%2Fv1%2F%3Fapi_key%3D%26url%3Dhttps%253A%2F%2Fwww.fanfiction.net%2Fs%2F14121358%2F2%2FI-Shall-Believe>: HTTP status code is not handled or not allowed\n"
     ]
    },
    {
     "name": "stdout",
     "output_type": "stream",
     "text": [
      "\n",
      "https://proxy.scrapeops.io/v1/?api_key=&url=https%3A%2F%2Fwww.fanfiction.net%2Fs%2F8794590%2F1%2FGot-My-Eye-On-You\n",
      "\n",
      "https://proxy.scrapeops.io/v1/?api_key=&url=https%3A%2F%2Fwww.fanfiction.net%2Fs%2F14096328%2F1%2FAlways-At-The-Best-Time\n",
      "25\n"
     ]
    },
    {
     "name": "stderr",
     "output_type": "stream",
     "text": [
      "2024-12-04 10:37:50 [scrapy.spidermiddlewares.httperror] INFO: Ignoring response <400 https://proxy.scrapeops.io/v1/?api_key=&url=https%3A%2F%2Fproxy.scrapeops.io%2Fv1%2F%3Fapi_key%3D%26url%3Dhttps%253A%2F%2Fwww.fanfiction.net%2Fs%2F14121860%2F2%2FThe-East-Wind-Has-Blown-Pick-Up-the-Pieces>: HTTP status code is not handled or not allowed\n",
      "2024-12-04 10:37:50 [scrapy.spidermiddlewares.httperror] INFO: Ignoring response <400 https://proxy.scrapeops.io/v1/?api_key=&url=https%3A%2F%2Fproxy.scrapeops.io%2Fv1%2F%3Fapi_key%3D%26url%3Dhttps%253A%2F%2Fwww.fanfiction.net%2Fs%2F9366767%2F2%2FI-Am-What-I-Am>: HTTP status code is not handled or not allowed\n",
      "2024-12-04 10:37:50 [scrapy.extensions.logstats] INFO: Crawled 165 pages (at 165 pages/min), scraped 0 items (at 0 items/min)\n",
      "2024-12-04 10:37:50 [scrapy.core.engine] DEBUG: Crawled (200) <GET https://proxy.scrapeops.io/v1/?api_key=&url=https%3A%2F%2Fwww.fanfiction.net%2Fs%2F14096452%2F1%2FWaiting-On-You> (referer: https://steamdb.info/graph/)\n",
      "2024-12-04 10:37:50 [scrapy.core.engine] DEBUG: Crawled (200) <GET https://proxy.scrapeops.io/v1/?api_key=&url=https%3A%2F%2Fwww.fanfiction.net%2Fs%2F14096383%2F1%2FMoving-Day> (referer: https://steamdb.info/graph/)\n"
     ]
    },
    {
     "name": "stdout",
     "output_type": "stream",
     "text": [
      "\n",
      "https://proxy.scrapeops.io/v1/?api_key=&url=https%3A%2F%2Fwww.fanfiction.net%2Fs%2F14096452%2F1%2FWaiting-On-You\n",
      "\n",
      "https://proxy.scrapeops.io/v1/?api_key=&url=https%3A%2F%2Fwww.fanfiction.net%2Fs%2F14096383%2F1%2FMoving-Day\n"
     ]
    },
    {
     "name": "stderr",
     "output_type": "stream",
     "text": [
      "2024-12-04 10:37:51 [scrapy.core.engine] DEBUG: Crawled (200) <GET https://proxy.scrapeops.io/v1/?api_key=&url=https%3A%2F%2Fwww.fanfiction.net%2Fs%2F14096462%2F1%2FUnbearable> (referer: https://steamdb.info/graph/)\n",
      "2024-12-04 10:37:51 [scrapy.core.engine] DEBUG: Crawled (400) <GET https://proxy.scrapeops.io/v1/?api_key=&url=https%3A%2F%2Fproxy.scrapeops.io%2Fv1%2F%3Fapi_key%3D%26url%3Dhttps%253A%2F%2Fwww.fanfiction.net%2Fs%2F8794590%2F2%2FGot-My-Eye-On-You> (referer: https://steamdb.info/graph/)\n",
      "2024-12-04 10:37:51 [scrapy.spidermiddlewares.httperror] INFO: Ignoring response <400 https://proxy.scrapeops.io/v1/?api_key=&url=https%3A%2F%2Fproxy.scrapeops.io%2Fv1%2F%3Fapi_key%3D%26url%3Dhttps%253A%2F%2Fwww.fanfiction.net%2Fs%2F8794590%2F2%2FGot-My-Eye-On-You>: HTTP status code is not handled or not allowed\n",
      "2024-12-04 10:37:51 [scrapy.core.engine] DEBUG: Crawled (200) <GET https://proxy.scrapeops.io/v1/?api_key=&url=https%3A%2F%2Fwww.fanfiction.net%2Fs%2F14074564%2F1%2FHotels-and-Holmes> (referer: https://steamdb.info/graph/)\n"
     ]
    },
    {
     "name": "stdout",
     "output_type": "stream",
     "text": [
      "\n",
      "https://proxy.scrapeops.io/v1/?api_key=&url=https%3A%2F%2Fwww.fanfiction.net%2Fs%2F14096462%2F1%2FUnbearable\n"
     ]
    },
    {
     "name": "stderr",
     "output_type": "stream",
     "text": [
      "2024-12-04 10:37:51 [scrapy.core.engine] DEBUG: Crawled (200) <GET https://proxy.scrapeops.io/v1/?api_key=&url=https%3A%2F%2Fwww.fanfiction.net%2Fs%2F14088716%2F1%2FTo-Mend-the-Broken> (referer: https://steamdb.info/graph/)\n",
      "2024-12-04 10:37:51 [scrapy.core.engine] DEBUG: Crawled (400) <GET https://proxy.scrapeops.io/v1/?api_key=&url=https%3A%2F%2Fproxy.scrapeops.io%2Fv1%2F%3Fapi_key%3D%26url%3Dhttps%253A%2F%2Fwww.fanfiction.net%2Fs%2F14096328%2F2%2FAlways-At-The-Best-Time> (referer: https://steamdb.info/graph/)\n",
      "2024-12-04 10:37:51 [scrapy.core.engine] DEBUG: Crawled (200) <GET https://proxy.scrapeops.io/v1/?api_key=&url=https%3A%2F%2Fwww.fanfiction.net%2Fs%2F14100017%2F1%2FAfter-ILY1-It-s-not-worth-fighting> (referer: https://steamdb.info/graph/)\n",
      "2024-12-04 10:37:51 [scrapy.core.engine] DEBUG: Crawled (200) <GET https://proxy.scrapeops.io/v1/?api_key=&url=https%3A%2F%2Fwww.fanfiction.net%2Fs%2F10538202%2F1%2FLying-is-a-Game> (referer: https://steamdb.info/graph/)\n",
      "2024-12-04 10:37:51 [scrapy.spidermiddlewares.httperror] INFO: Ignoring response <400 https://proxy.scrapeops.io/v1/?api_key=&url=https%3A%2F%2Fproxy.scrapeops.io%2Fv1%2F%3Fapi_key%3D%26url%3Dhttps%253A%2F%2Fwww.fanfiction.net%2Fs%2F14096328%2F2%2FAlways-At-The-Best-Time>: HTTP status code is not handled or not allowed\n"
     ]
    },
    {
     "name": "stdout",
     "output_type": "stream",
     "text": [
      "\n",
      "https://proxy.scrapeops.io/v1/?api_key=&url=https%3A%2F%2Fwww.fanfiction.net%2Fs%2F14074564%2F1%2FHotels-and-Holmes\n",
      "\n",
      "https://proxy.scrapeops.io/v1/?api_key=&url=https%3A%2F%2Fwww.fanfiction.net%2Fs%2F14088716%2F1%2FTo-Mend-the-Broken\n",
      "\n",
      "https://proxy.scrapeops.io/v1/?api_key=&url=https%3A%2F%2Fwww.fanfiction.net%2Fs%2F14100017%2F1%2FAfter-ILY1-It-s-not-worth-fighting\n",
      "\n",
      "https://proxy.scrapeops.io/v1/?api_key=&url=https%3A%2F%2Fwww.fanfiction.net%2Fs%2F10538202%2F1%2FLying-is-a-Game\n"
     ]
    },
    {
     "name": "stderr",
     "output_type": "stream",
     "text": [
      "2024-12-04 10:37:52 [scrapy.core.engine] DEBUG: Crawled (200) <GET https://proxy.scrapeops.io/v1/?api_key=&url=https%3A%2F%2Fwww.fanfiction.net%2Fs%2F14054238%2F1%2FFallout> (referer: https://steamdb.info/graph/)\n",
      "2024-12-04 10:37:52 [scrapy.core.engine] DEBUG: Crawled (400) <GET https://proxy.scrapeops.io/v1/?api_key=&url=https%3A%2F%2Fproxy.scrapeops.io%2Fv1%2F%3Fapi_key%3D%26url%3Dhttps%253A%2F%2Fwww.fanfiction.net%2Fs%2F14096452%2F2%2FWaiting-On-You> (referer: https://steamdb.info/graph/)\n",
      "2024-12-04 10:37:52 [scrapy.core.engine] DEBUG: Crawled (400) <GET https://proxy.scrapeops.io/v1/?api_key=&url=https%3A%2F%2Fproxy.scrapeops.io%2Fv1%2F%3Fapi_key%3D%26url%3Dhttps%253A%2F%2Fwww.fanfiction.net%2Fs%2F14096383%2F2%2FMoving-Day> (referer: https://steamdb.info/graph/)\n",
      "2024-12-04 10:37:52 [scrapy.spidermiddlewares.httperror] INFO: Ignoring response <400 https://proxy.scrapeops.io/v1/?api_key=&url=https%3A%2F%2Fproxy.scrapeops.io%2Fv1%2F%3Fapi_key%3D%26url%3Dhttps%253A%2F%2Fwww.fanfiction.net%2Fs%2F14096452%2F2%2FWaiting-On-You>: HTTP status code is not handled or not allowed\n",
      "2024-12-04 10:37:52 [scrapy.spidermiddlewares.httperror] INFO: Ignoring response <400 https://proxy.scrapeops.io/v1/?api_key=&url=https%3A%2F%2Fproxy.scrapeops.io%2Fv1%2F%3Fapi_key%3D%26url%3Dhttps%253A%2F%2Fwww.fanfiction.net%2Fs%2F14096383%2F2%2FMoving-Day>: HTTP status code is not handled or not allowed\n",
      "2024-12-04 10:37:52 [scrapy.core.engine] DEBUG: Crawled (400) <GET https://proxy.scrapeops.io/v1/?api_key=&url=https%3A%2F%2Fproxy.scrapeops.io%2Fv1%2F%3Fapi_key%3D%26url%3Dhttps%253A%2F%2Fwww.fanfiction.net%2Fs%2F14096462%2F2%2FUnbearable> (referer: https://steamdb.info/graph/)\n"
     ]
    },
    {
     "name": "stdout",
     "output_type": "stream",
     "text": [
      "\n",
      "https://proxy.scrapeops.io/v1/?api_key=&url=https%3A%2F%2Fwww.fanfiction.net%2Fs%2F14054238%2F1%2FFallout\n"
     ]
    },
    {
     "name": "stderr",
     "output_type": "stream",
     "text": [
      "2024-12-04 10:37:52 [scrapy.spidermiddlewares.httperror] INFO: Ignoring response <400 https://proxy.scrapeops.io/v1/?api_key=&url=https%3A%2F%2Fproxy.scrapeops.io%2Fv1%2F%3Fapi_key%3D%26url%3Dhttps%253A%2F%2Fwww.fanfiction.net%2Fs%2F14096462%2F2%2FUnbearable>: HTTP status code is not handled or not allowed\n",
      "2024-12-04 10:37:53 [scrapy.core.engine] DEBUG: Crawled (200) <GET https://proxy.scrapeops.io/v1/?api_key=&url=https%3A%2F%2Fwww.fanfiction.net%2Fs%2F14086902%2F1%2FSherlock-and-Qwendolyn> (referer: https://steamdb.info/graph/)\n",
      "2024-12-04 10:37:53 [scrapy.core.engine] DEBUG: Crawled (200) <GET https://proxy.scrapeops.io/v1/?api_key=&url=https%3A%2F%2Fwww.fanfiction.net%2Fs%2F14068127%2F1%2FAn-Outsider-s-Perspective> (referer: https://steamdb.info/graph/)\n",
      "2024-12-04 10:37:53 [scrapy.core.engine] DEBUG: Crawled (400) <GET https://proxy.scrapeops.io/v1/?api_key=&url=https%3A%2F%2Fproxy.scrapeops.io%2Fv1%2F%3Fapi_key%3D%26url%3Dhttps%253A%2F%2Fwww.fanfiction.net%2Fs%2F14074564%2F2%2FHotels-and-Holmes> (referer: https://steamdb.info/graph/)\n",
      "2024-12-04 10:37:53 [scrapy.core.engine] DEBUG: Crawled (200) <GET https://proxy.scrapeops.io/v1/?api_key=&url=https%3A%2F%2Fwww.fanfiction.net%2Fs%2F14057581%2F1%2FSherlolly-Appreciation-Week-2022> (referer: https://steamdb.info/graph/)\n",
      "2024-12-04 10:37:53 [scrapy.core.engine] DEBUG: Crawled (200) <GET https://proxy.scrapeops.io/v1/?api_key=&url=https%3A%2F%2Fwww.fanfiction.net%2Ftv%2FSherlock%2F%3F%26srt%3D1%26r%3D103%26p%3D13> (referer: https://steamdb.info/graph/)\n",
      "2024-12-04 10:37:53 [scrapy.spidermiddlewares.httperror] INFO: Ignoring response <400 https://proxy.scrapeops.io/v1/?api_key=&url=https%3A%2F%2Fproxy.scrapeops.io%2Fv1%2F%3Fapi_key%3D%26url%3Dhttps%253A%2F%2Fwww.fanfiction.net%2Fs%2F14074564%2F2%2FHotels-and-Holmes>: HTTP status code is not handled or not allowed\n",
      "2024-12-04 10:37:53 [scrapy.core.engine] DEBUG: Crawled (400) <GET https://proxy.scrapeops.io/v1/?api_key=&url=https%3A%2F%2Fproxy.scrapeops.io%2Fv1%2F%3Fapi_key%3D%26url%3Dhttps%253A%2F%2Fwww.fanfiction.net%2Fs%2F10538202%2F2%2FLying-is-a-Game> (referer: https://steamdb.info/graph/)\n"
     ]
    },
    {
     "name": "stdout",
     "output_type": "stream",
     "text": [
      "\n",
      "https://proxy.scrapeops.io/v1/?api_key=&url=https%3A%2F%2Fwww.fanfiction.net%2Fs%2F14086902%2F1%2FSherlock-and-Qwendolyn\n",
      "\n",
      "https://proxy.scrapeops.io/v1/?api_key=&url=https%3A%2F%2Fwww.fanfiction.net%2Fs%2F14068127%2F1%2FAn-Outsider-s-Perspective\n",
      "\n",
      "https://proxy.scrapeops.io/v1/?api_key=&url=https%3A%2F%2Fwww.fanfiction.net%2Fs%2F14057581%2F1%2FSherlolly-Appreciation-Week-2022\n",
      "25\n"
     ]
    },
    {
     "name": "stderr",
     "output_type": "stream",
     "text": [
      "2024-12-04 10:37:53 [scrapy.core.engine] DEBUG: Crawled (400) <GET https://proxy.scrapeops.io/v1/?api_key=&url=https%3A%2F%2Fproxy.scrapeops.io%2Fv1%2F%3Fapi_key%3D%26url%3Dhttps%253A%2F%2Fwww.fanfiction.net%2Fs%2F14100017%2F2%2FAfter-ILY1-It-s-not-worth-fighting> (referer: https://steamdb.info/graph/)\n",
      "2024-12-04 10:37:53 [scrapy.spidermiddlewares.httperror] INFO: Ignoring response <400 https://proxy.scrapeops.io/v1/?api_key=&url=https%3A%2F%2Fproxy.scrapeops.io%2Fv1%2F%3Fapi_key%3D%26url%3Dhttps%253A%2F%2Fwww.fanfiction.net%2Fs%2F10538202%2F2%2FLying-is-a-Game>: HTTP status code is not handled or not allowed\n",
      "2024-12-04 10:37:53 [scrapy.core.engine] DEBUG: Crawled (400) <GET https://proxy.scrapeops.io/v1/?api_key=&url=https%3A%2F%2Fproxy.scrapeops.io%2Fv1%2F%3Fapi_key%3D%26url%3Dhttps%253A%2F%2Fwww.fanfiction.net%2Fs%2F14054238%2F2%2FFallout> (referer: https://steamdb.info/graph/)\n",
      "2024-12-04 10:37:53 [scrapy.spidermiddlewares.httperror] INFO: Ignoring response <400 https://proxy.scrapeops.io/v1/?api_key=&url=https%3A%2F%2Fproxy.scrapeops.io%2Fv1%2F%3Fapi_key%3D%26url%3Dhttps%253A%2F%2Fwww.fanfiction.net%2Fs%2F14100017%2F2%2FAfter-ILY1-It-s-not-worth-fighting>: HTTP status code is not handled or not allowed\n",
      "2024-12-04 10:37:53 [scrapy.core.engine] DEBUG: Crawled (400) <GET https://proxy.scrapeops.io/v1/?api_key=&url=https%3A%2F%2Fproxy.scrapeops.io%2Fv1%2F%3Fapi_key%3D%26url%3Dhttps%253A%2F%2Fwww.fanfiction.net%2Fs%2F14088716%2F2%2FTo-Mend-the-Broken> (referer: https://steamdb.info/graph/)\n",
      "2024-12-04 10:37:53 [scrapy.spidermiddlewares.httperror] INFO: Ignoring response <400 https://proxy.scrapeops.io/v1/?api_key=&url=https%3A%2F%2Fproxy.scrapeops.io%2Fv1%2F%3Fapi_key%3D%26url%3Dhttps%253A%2F%2Fwww.fanfiction.net%2Fs%2F14054238%2F2%2FFallout>: HTTP status code is not handled or not allowed\n",
      "2024-12-04 10:37:54 [scrapy.spidermiddlewares.httperror] INFO: Ignoring response <400 https://proxy.scrapeops.io/v1/?api_key=&url=https%3A%2F%2Fproxy.scrapeops.io%2Fv1%2F%3Fapi_key%3D%26url%3Dhttps%253A%2F%2Fwww.fanfiction.net%2Fs%2F14088716%2F2%2FTo-Mend-the-Broken>: HTTP status code is not handled or not allowed\n",
      "2024-12-04 10:37:54 [scrapy.core.engine] DEBUG: Crawled (200) <GET https://proxy.scrapeops.io/v1/?api_key=&url=https%3A%2F%2Fwww.fanfiction.net%2Fs%2F14074341%2F1%2FJe-l-ai-d%25C3%25A9test%25C3%25A9e-%25C3%25A0-la-seconde-o%25C3%25B9-je-l-ai-vue> (referer: https://steamdb.info/graph/)\n",
      "2024-12-04 10:37:54 [scrapy.core.engine] DEBUG: Crawled (200) <GET https://proxy.scrapeops.io/v1/?api_key=&url=https%3A%2F%2Fwww.fanfiction.net%2Fs%2F13899933%2F1%2FThe-Sherlock-Collection> (referer: https://steamdb.info/graph/)\n",
      "2024-12-04 10:37:54 [scrapy.core.engine] DEBUG: Crawled (400) <GET https://proxy.scrapeops.io/v1/?api_key=&url=https%3A%2F%2Fproxy.scrapeops.io%2Fv1%2F%3Fapi_key%3D%26url%3Dhttps%253A%2F%2Fwww.fanfiction.net%2Fs%2F14068127%2F2%2FAn-Outsider-s-Perspective> (referer: https://steamdb.info/graph/)\n",
      "2024-12-04 10:37:54 [scrapy.core.engine] DEBUG: Crawled (400) <GET https://proxy.scrapeops.io/v1/?api_key=&url=https%3A%2F%2Fproxy.scrapeops.io%2Fv1%2F%3Fapi_key%3D%26url%3Dhttps%253A%2F%2Fwww.fanfiction.net%2Fs%2F14086902%2F2%2FSherlock-and-Qwendolyn> (referer: https://steamdb.info/graph/)\n",
      "2024-12-04 10:37:54 [scrapy.spidermiddlewares.httperror] INFO: Ignoring response <400 https://proxy.scrapeops.io/v1/?api_key=&url=https%3A%2F%2Fproxy.scrapeops.io%2Fv1%2F%3Fapi_key%3D%26url%3Dhttps%253A%2F%2Fwww.fanfiction.net%2Fs%2F14068127%2F2%2FAn-Outsider-s-Perspective>: HTTP status code is not handled or not allowed\n"
     ]
    },
    {
     "name": "stdout",
     "output_type": "stream",
     "text": [
      "\n",
      "\n",
      "https://proxy.scrapeops.io/v1/?api_key=&url=https%3A%2F%2Fwww.fanfiction.net%2Fs%2F13899933%2F1%2FThe-Sherlock-Collection\n"
     ]
    },
    {
     "name": "stderr",
     "output_type": "stream",
     "text": [
      "2024-12-04 10:37:54 [scrapy.spidermiddlewares.httperror] INFO: Ignoring response <400 https://proxy.scrapeops.io/v1/?api_key=&url=https%3A%2F%2Fproxy.scrapeops.io%2Fv1%2F%3Fapi_key%3D%26url%3Dhttps%253A%2F%2Fwww.fanfiction.net%2Fs%2F14086902%2F2%2FSherlock-and-Qwendolyn>: HTTP status code is not handled or not allowed\n",
      "2024-12-04 10:37:55 [scrapy.core.engine] DEBUG: Crawled (200) <GET https://proxy.scrapeops.io/v1/?api_key=&url=https%3A%2F%2Fwww.fanfiction.net%2Fs%2F14077062%2F1%2FThe-Microwave-Incident> (referer: https://steamdb.info/graph/)\n",
      "2024-12-04 10:37:55 [scrapy.downloadermiddlewares.retry] DEBUG: Retrying <GET https://proxy.scrapeops.io/v1/?api_key=&url=https%3A%2F%2Fwww.fanfiction.net%2Fs%2F8848694%2F1%2FLost-in-Sherlock> (failed 1 times): 429 Unknown Status\n",
      "2024-12-04 10:37:55 [scrapy.core.engine] DEBUG: Crawled (200) <GET https://proxy.scrapeops.io/v1/?api_key=&url=https%3A%2F%2Fwww.fanfiction.net%2Fs%2F14074805%2F1%2FChaos-and-Confusion> (referer: https://steamdb.info/graph/)\n",
      "2024-12-04 10:37:55 [scrapy.downloadermiddlewares.retry] DEBUG: Retrying <GET https://proxy.scrapeops.io/v1/?api_key=&url=https%3A%2F%2Fwww.fanfiction.net%2Fs%2F11246692%2F1%2FArrangements> (failed 1 times): 429 Unknown Status\n"
     ]
    },
    {
     "name": "stdout",
     "output_type": "stream",
     "text": [
      "\n",
      "https://proxy.scrapeops.io/v1/?api_key=&url=https%3A%2F%2Fwww.fanfiction.net%2Fs%2F14077062%2F1%2FThe-Microwave-Incident\n",
      "\n",
      "https://proxy.scrapeops.io/v1/?api_key=&url=https%3A%2F%2Fwww.fanfiction.net%2Fs%2F14074805%2F1%2FChaos-and-Confusion\n"
     ]
    },
    {
     "name": "stderr",
     "output_type": "stream",
     "text": [
      "2024-12-04 10:37:55 [scrapy.core.engine] DEBUG: Crawled (200) <GET https://proxy.scrapeops.io/v1/?api_key=&url=https%3A%2F%2Fwww.fanfiction.net%2Fs%2F12824407%2F1%2FRepeat-After-Me> (referer: https://steamdb.info/graph/)\n"
     ]
    },
    {
     "name": "stdout",
     "output_type": "stream",
     "text": [
      "\n",
      "https://proxy.scrapeops.io/v1/?api_key=&url=https%3A%2F%2Fwww.fanfiction.net%2Fs%2F12824407%2F1%2FRepeat-After-Me\n"
     ]
    },
    {
     "name": "stderr",
     "output_type": "stream",
     "text": [
      "2024-12-04 10:37:56 [scrapy.core.engine] DEBUG: Crawled (200) <GET https://proxy.scrapeops.io/v1/?api_key=&url=https%3A%2F%2Fwww.fanfiction.net%2Fs%2F14081265%2F1%2FSherlock-Timeline> (referer: https://steamdb.info/graph/)\n",
      "2024-12-04 10:37:56 [scrapy.core.engine] DEBUG: Crawled (200) <GET https://proxy.scrapeops.io/v1/?api_key=&url=https%3A%2F%2Fwww.fanfiction.net%2Fs%2F14081262%2F1%2FDeadly-Intentions> (referer: https://steamdb.info/graph/)\n",
      "2024-12-04 10:37:56 [scrapy.core.engine] DEBUG: Crawled (200) <GET https://proxy.scrapeops.io/v1/?api_key=&url=https%3A%2F%2Fwww.fanfiction.net%2Fs%2F13752725%2F1%2FThe-Special-Someone> (referer: https://steamdb.info/graph/)\n",
      "2024-12-04 10:37:56 [scrapy.core.engine] DEBUG: Crawled (400) <GET https://proxy.scrapeops.io/v1/?api_key=&url=https%3A%2F%2Fproxy.scrapeops.io%2Fv1%2F%3Fapi_key%3D%26url%3Dhttps%253A%2F%2Fwww.fanfiction.net%2Fs%2F13899933%2F2%2FThe-Sherlock-Collection> (referer: https://steamdb.info/graph/)\n"
     ]
    },
    {
     "name": "stdout",
     "output_type": "stream",
     "text": [
      "\n",
      "https://proxy.scrapeops.io/v1/?api_key=&url=https%3A%2F%2Fwww.fanfiction.net%2Fs%2F14081265%2F1%2FSherlock-Timeline\n",
      "\n",
      "https://proxy.scrapeops.io/v1/?api_key=&url=https%3A%2F%2Fwww.fanfiction.net%2Fs%2F14081262%2F1%2FDeadly-Intentions\n",
      "\n",
      "https://proxy.scrapeops.io/v1/?api_key=&url=https%3A%2F%2Fwww.fanfiction.net%2Fs%2F13752725%2F1%2FThe-Special-Someone\n"
     ]
    },
    {
     "name": "stderr",
     "output_type": "stream",
     "text": [
      "2024-12-04 10:37:56 [scrapy.spidermiddlewares.httperror] INFO: Ignoring response <400 https://proxy.scrapeops.io/v1/?api_key=&url=https%3A%2F%2Fproxy.scrapeops.io%2Fv1%2F%3Fapi_key%3D%26url%3Dhttps%253A%2F%2Fwww.fanfiction.net%2Fs%2F13899933%2F2%2FThe-Sherlock-Collection>: HTTP status code is not handled or not allowed\n",
      "2024-12-04 10:37:57 [scrapy.core.engine] DEBUG: Crawled (200) <GET https://proxy.scrapeops.io/v1/?api_key=&url=https%3A%2F%2Fwww.fanfiction.net%2Fs%2F14082698%2F1%2FLe-sacrifice-de-Rosamund-Mary-Watson> (referer: https://steamdb.info/graph/)\n",
      "2024-12-04 10:37:57 [scrapy.core.engine] DEBUG: Crawled (200) <GET https://proxy.scrapeops.io/v1/?api_key=&url=https%3A%2F%2Fwww.fanfiction.net%2Ftv%2FSherlock%2F%3F%26srt%3D1%26r%3D103%26p%3D14> (referer: https://steamdb.info/graph/)\n",
      "2024-12-04 10:37:57 [scrapy.core.engine] DEBUG: Crawled (400) <GET https://proxy.scrapeops.io/v1/?api_key=&url=https%3A%2F%2Fproxy.scrapeops.io%2Fv1%2F%3Fapi_key%3D%26url%3Dhttps%253A%2F%2Fwww.fanfiction.net%2Fs%2F14077062%2F2%2FThe-Microwave-Incident> (referer: https://steamdb.info/graph/)\n",
      "2024-12-04 10:37:57 [scrapy.core.engine] DEBUG: Crawled (200) <GET https://proxy.scrapeops.io/v1/?api_key=&url=https%3A%2F%2Fwww.fanfiction.net%2Fs%2F14053938%2F1%2FYou-Will> (referer: https://steamdb.info/graph/)\n"
     ]
    },
    {
     "name": "stdout",
     "output_type": "stream",
     "text": [
      "\n",
      "25\n"
     ]
    },
    {
     "name": "stderr",
     "output_type": "stream",
     "text": [
      "2024-12-04 10:37:57 [scrapy.spidermiddlewares.httperror] INFO: Ignoring response <400 https://proxy.scrapeops.io/v1/?api_key=&url=https%3A%2F%2Fproxy.scrapeops.io%2Fv1%2F%3Fapi_key%3D%26url%3Dhttps%253A%2F%2Fwww.fanfiction.net%2Fs%2F14077062%2F2%2FThe-Microwave-Incident>: HTTP status code is not handled or not allowed\n",
      "2024-12-04 10:37:57 [scrapy.core.engine] DEBUG: Crawled (400) <GET https://proxy.scrapeops.io/v1/?api_key=&url=https%3A%2F%2Fproxy.scrapeops.io%2Fv1%2F%3Fapi_key%3D%26url%3Dhttps%253A%2F%2Fwww.fanfiction.net%2Fs%2F14074805%2F2%2FChaos-and-Confusion> (referer: https://steamdb.info/graph/)\n",
      "2024-12-04 10:37:57 [scrapy.spidermiddlewares.httperror] INFO: Ignoring response <400 https://proxy.scrapeops.io/v1/?api_key=&url=https%3A%2F%2Fproxy.scrapeops.io%2Fv1%2F%3Fapi_key%3D%26url%3Dhttps%253A%2F%2Fwww.fanfiction.net%2Fs%2F14074805%2F2%2FChaos-and-Confusion>: HTTP status code is not handled or not allowed\n",
      "2024-12-04 10:37:57 [scrapy.core.engine] DEBUG: Crawled (400) <GET https://proxy.scrapeops.io/v1/?api_key=&url=https%3A%2F%2Fproxy.scrapeops.io%2Fv1%2F%3Fapi_key%3D%26url%3Dhttps%253A%2F%2Fwww.fanfiction.net%2Fs%2F12824407%2F2%2FRepeat-After-Me> (referer: https://steamdb.info/graph/)\n"
     ]
    },
    {
     "name": "stdout",
     "output_type": "stream",
     "text": [
      "\n",
      "https://proxy.scrapeops.io/v1/?api_key=&url=https%3A%2F%2Fwww.fanfiction.net%2Fs%2F14053938%2F1%2FYou-Will\n"
     ]
    },
    {
     "name": "stderr",
     "output_type": "stream",
     "text": [
      "2024-12-04 10:37:57 [scrapy.spidermiddlewares.httperror] INFO: Ignoring response <400 https://proxy.scrapeops.io/v1/?api_key=&url=https%3A%2F%2Fproxy.scrapeops.io%2Fv1%2F%3Fapi_key%3D%26url%3Dhttps%253A%2F%2Fwww.fanfiction.net%2Fs%2F12824407%2F2%2FRepeat-After-Me>: HTTP status code is not handled or not allowed\n",
      "2024-12-04 10:37:58 [scrapy.core.engine] DEBUG: Crawled (200) <GET https://proxy.scrapeops.io/v1/?api_key=&url=https%3A%2F%2Fwww.fanfiction.net%2Fs%2F14052397%2F1%2FSherlolly-Appreciation-Week-2022> (referer: https://steamdb.info/graph/)\n",
      "2024-12-04 10:37:58 [scrapy.core.engine] DEBUG: Crawled (200) <GET https://proxy.scrapeops.io/v1/?api_key=&url=https%3A%2F%2Fwww.fanfiction.net%2Fs%2F13342841%2F1%2FThe-Investigation-of-Missing-Margaret-Holmes> (referer: https://steamdb.info/graph/)\n",
      "2024-12-04 10:37:58 [scrapy.core.engine] DEBUG: Crawled (400) <GET https://proxy.scrapeops.io/v1/?api_key=&url=https%3A%2F%2Fproxy.scrapeops.io%2Fv1%2F%3Fapi_key%3D%26url%3Dhttps%253A%2F%2Fwww.fanfiction.net%2Fs%2F14081262%2F2%2FDeadly-Intentions> (referer: https://steamdb.info/graph/)\n",
      "2024-12-04 10:37:58 [scrapy.core.engine] DEBUG: Crawled (400) <GET https://proxy.scrapeops.io/v1/?api_key=&url=https%3A%2F%2Fproxy.scrapeops.io%2Fv1%2F%3Fapi_key%3D%26url%3Dhttps%253A%2F%2Fwww.fanfiction.net%2Fs%2F13752725%2F2%2FThe-Special-Someone> (referer: https://steamdb.info/graph/)\n",
      "2024-12-04 10:37:58 [scrapy.spidermiddlewares.httperror] INFO: Ignoring response <400 https://proxy.scrapeops.io/v1/?api_key=&url=https%3A%2F%2Fproxy.scrapeops.io%2Fv1%2F%3Fapi_key%3D%26url%3Dhttps%253A%2F%2Fwww.fanfiction.net%2Fs%2F14081262%2F2%2FDeadly-Intentions>: HTTP status code is not handled or not allowed\n",
      "2024-12-04 10:37:58 [scrapy.core.engine] DEBUG: Crawled (400) <GET https://proxy.scrapeops.io/v1/?api_key=&url=https%3A%2F%2Fproxy.scrapeops.io%2Fv1%2F%3Fapi_key%3D%26url%3Dhttps%253A%2F%2Fwww.fanfiction.net%2Fs%2F14081265%2F2%2FSherlock-Timeline> (referer: https://steamdb.info/graph/)\n",
      "2024-12-04 10:37:58 [scrapy.spidermiddlewares.httperror] INFO: Ignoring response <400 https://proxy.scrapeops.io/v1/?api_key=&url=https%3A%2F%2Fproxy.scrapeops.io%2Fv1%2F%3Fapi_key%3D%26url%3Dhttps%253A%2F%2Fwww.fanfiction.net%2Fs%2F13752725%2F2%2FThe-Special-Someone>: HTTP status code is not handled or not allowed\n"
     ]
    },
    {
     "name": "stdout",
     "output_type": "stream",
     "text": [
      "\n",
      "https://proxy.scrapeops.io/v1/?api_key=&url=https%3A%2F%2Fwww.fanfiction.net%2Fs%2F14052397%2F1%2FSherlolly-Appreciation-Week-2022\n",
      "\n",
      "https://proxy.scrapeops.io/v1/?api_key=&url=https%3A%2F%2Fwww.fanfiction.net%2Fs%2F13342841%2F1%2FThe-Investigation-of-Missing-Margaret-Holmes\n"
     ]
    },
    {
     "name": "stderr",
     "output_type": "stream",
     "text": [
      "2024-12-04 10:37:58 [scrapy.spidermiddlewares.httperror] INFO: Ignoring response <400 https://proxy.scrapeops.io/v1/?api_key=&url=https%3A%2F%2Fproxy.scrapeops.io%2Fv1%2F%3Fapi_key%3D%26url%3Dhttps%253A%2F%2Fwww.fanfiction.net%2Fs%2F14081265%2F2%2FSherlock-Timeline>: HTTP status code is not handled or not allowed\n",
      "2024-12-04 10:37:59 [scrapy.core.engine] DEBUG: Crawled (200) <GET https://proxy.scrapeops.io/v1/?api_key=&url=https%3A%2F%2Fwww.fanfiction.net%2Fs%2F14057321%2F1%2FEveryone-needs-someone-to-love-and-I-choose-you> (referer: https://steamdb.info/graph/)\n",
      "2024-12-04 10:37:59 [scrapy.core.engine] DEBUG: Crawled (200) <GET https://proxy.scrapeops.io/v1/?api_key=&url=https%3A%2F%2Fwww.fanfiction.net%2Fs%2F14052508%2F1%2FSherlolly-Appreciation-Week-2022> (referer: https://steamdb.info/graph/)\n",
      "2024-12-04 10:37:59 [scrapy.core.engine] DEBUG: Crawled (200) <GET https://proxy.scrapeops.io/v1/?api_key=&url=https%3A%2F%2Fwww.fanfiction.net%2Fs%2F12683524%2F1%2FHis-Favorite-Melody> (referer: https://steamdb.info/graph/)\n",
      "2024-12-04 10:37:59 [scrapy.core.engine] DEBUG: Crawled (400) <GET https://proxy.scrapeops.io/v1/?api_key=&url=https%3A%2F%2Fproxy.scrapeops.io%2Fv1%2F%3Fapi_key%3D%26url%3Dhttps%253A%2F%2Fwww.fanfiction.net%2Fs%2F14053938%2F2%2FYou-Will> (referer: https://steamdb.info/graph/)\n"
     ]
    },
    {
     "name": "stdout",
     "output_type": "stream",
     "text": [
      "\n",
      "https://proxy.scrapeops.io/v1/?api_key=&url=https%3A%2F%2Fwww.fanfiction.net%2Fs%2F14057321%2F1%2FEveryone-needs-someone-to-love-and-I-choose-you\n",
      "\n",
      "https://proxy.scrapeops.io/v1/?api_key=&url=https%3A%2F%2Fwww.fanfiction.net%2Fs%2F14052508%2F1%2FSherlolly-Appreciation-Week-2022\n",
      "\n",
      "https://proxy.scrapeops.io/v1/?api_key=&url=https%3A%2F%2Fwww.fanfiction.net%2Fs%2F12683524%2F1%2FHis-Favorite-Melody\n"
     ]
    },
    {
     "name": "stderr",
     "output_type": "stream",
     "text": [
      "2024-12-04 10:37:59 [scrapy.spidermiddlewares.httperror] INFO: Ignoring response <400 https://proxy.scrapeops.io/v1/?api_key=&url=https%3A%2F%2Fproxy.scrapeops.io%2Fv1%2F%3Fapi_key%3D%26url%3Dhttps%253A%2F%2Fwww.fanfiction.net%2Fs%2F14053938%2F2%2FYou-Will>: HTTP status code is not handled or not allowed\n",
      "2024-12-04 10:37:59 [scrapy.core.engine] DEBUG: Crawled (200) <GET https://proxy.scrapeops.io/v1/?api_key=&url=https%3A%2F%2Fwww.fanfiction.net%2Fs%2F14057571%2F1%2FHuman-Skin> (referer: https://steamdb.info/graph/)\n"
     ]
    },
    {
     "name": "stdout",
     "output_type": "stream",
     "text": [
      "\n",
      "https://proxy.scrapeops.io/v1/?api_key=&url=https%3A%2F%2Fwww.fanfiction.net%2Fs%2F14057571%2F1%2FHuman-Skin\n"
     ]
    },
    {
     "name": "stderr",
     "output_type": "stream",
     "text": [
      "2024-12-04 10:38:00 [scrapy.downloadermiddlewares.retry] DEBUG: Retrying <GET https://proxy.scrapeops.io/v1/?api_key=&url=https%3A%2F%2Fwww.fanfiction.net%2Fs%2F14053723%2F1%2FTwisted-Tuesday> (failed 1 times): 429 Unknown Status\n",
      "2024-12-04 10:38:00 [scrapy.downloadermiddlewares.retry] DEBUG: Retrying <GET https://proxy.scrapeops.io/v1/?api_key=&url=https%3A%2F%2Fwww.fanfiction.net%2Fs%2F14055001%2F1%2FRedbeard-For-Real> (failed 1 times): 429 Unknown Status\n",
      "2024-12-04 10:38:00 [scrapy.core.engine] DEBUG: Crawled (400) <GET https://proxy.scrapeops.io/v1/?api_key=&url=https%3A%2F%2Fproxy.scrapeops.io%2Fv1%2F%3Fapi_key%3D%26url%3Dhttps%253A%2F%2Fwww.fanfiction.net%2Fs%2F13342841%2F2%2FThe-Investigation-of-Missing-Margaret-Holmes> (referer: https://steamdb.info/graph/)\n",
      "2024-12-04 10:38:00 [scrapy.core.engine] DEBUG: Crawled (200) <GET https://proxy.scrapeops.io/v1/?api_key=&url=https%3A%2F%2Fwww.fanfiction.net%2Fs%2F14039338%2F1%2FFirst-kisses> (referer: https://steamdb.info/graph/)\n",
      "2024-12-04 10:38:01 [scrapy.core.engine] DEBUG: Crawled (400) <GET https://proxy.scrapeops.io/v1/?api_key=&url=https%3A%2F%2Fproxy.scrapeops.io%2Fv1%2F%3Fapi_key%3D%26url%3Dhttps%253A%2F%2Fwww.fanfiction.net%2Fs%2F14052397%2F2%2FSherlolly-Appreciation-Week-2022> (referer: https://steamdb.info/graph/)\n",
      "2024-12-04 10:38:01 [scrapy.spidermiddlewares.httperror] INFO: Ignoring response <400 https://proxy.scrapeops.io/v1/?api_key=&url=https%3A%2F%2Fproxy.scrapeops.io%2Fv1%2F%3Fapi_key%3D%26url%3Dhttps%253A%2F%2Fwww.fanfiction.net%2Fs%2F13342841%2F2%2FThe-Investigation-of-Missing-Margaret-Holmes>: HTTP status code is not handled or not allowed\n",
      "2024-12-04 10:38:01 [scrapy.spidermiddlewares.httperror] INFO: Ignoring response <400 https://proxy.scrapeops.io/v1/?api_key=&url=https%3A%2F%2Fproxy.scrapeops.io%2Fv1%2F%3Fapi_key%3D%26url%3Dhttps%253A%2F%2Fwww.fanfiction.net%2Fs%2F14052397%2F2%2FSherlolly-Appreciation-Week-2022>: HTTP status code is not handled or not allowed\n",
      "2024-12-04 10:38:01 [scrapy.core.engine] DEBUG: Crawled (200) <GET https://proxy.scrapeops.io/v1/?api_key=&url=https%3A%2F%2Fwww.fanfiction.net%2Fs%2F14038784%2F1%2FThe-Ties-That-Bind> (referer: https://steamdb.info/graph/)\n",
      "2024-12-04 10:38:01 [scrapy.core.engine] DEBUG: Crawled (200) <GET https://proxy.scrapeops.io/v1/?api_key=&url=https%3A%2F%2Fwww.fanfiction.net%2Ftv%2FSherlock%2F%3F%26srt%3D1%26r%3D103%26p%3D15> (referer: https://steamdb.info/graph/)\n",
      "2024-12-04 10:38:01 [scrapy.core.engine] DEBUG: Crawled (400) <GET https://proxy.scrapeops.io/v1/?api_key=&url=https%3A%2F%2Fproxy.scrapeops.io%2Fv1%2F%3Fapi_key%3D%26url%3Dhttps%253A%2F%2Fwww.fanfiction.net%2Fs%2F14052508%2F2%2FSherlolly-Appreciation-Week-2022> (referer: https://steamdb.info/graph/)\n"
     ]
    },
    {
     "name": "stdout",
     "output_type": "stream",
     "text": [
      "\n",
      "https://proxy.scrapeops.io/v1/?api_key=&url=https%3A%2F%2Fwww.fanfiction.net%2Fs%2F14039338%2F1%2FFirst-kisses\n"
     ]
    },
    {
     "name": "stderr",
     "output_type": "stream",
     "text": [
      "2024-12-04 10:38:01 [scrapy.core.engine] DEBUG: Crawled (200) <GET https://proxy.scrapeops.io/v1/?api_key=&url=https%3A%2F%2Fwww.fanfiction.net%2Fs%2F14045018%2F1%2Fi-m-afraid-i-might-die-for-you-now> (referer: https://steamdb.info/graph/)\n",
      "2024-12-04 10:38:01 [scrapy.core.engine] DEBUG: Crawled (400) <GET https://proxy.scrapeops.io/v1/?api_key=&url=https%3A%2F%2Fproxy.scrapeops.io%2Fv1%2F%3Fapi_key%3D%26url%3Dhttps%253A%2F%2Fwww.fanfiction.net%2Fs%2F14057321%2F2%2FEveryone-needs-someone-to-love-and-I-choose-you> (referer: https://steamdb.info/graph/)\n",
      "2024-12-04 10:38:01 [scrapy.core.engine] DEBUG: Crawled (400) <GET https://proxy.scrapeops.io/v1/?api_key=&url=https%3A%2F%2Fproxy.scrapeops.io%2Fv1%2F%3Fapi_key%3D%26url%3Dhttps%253A%2F%2Fwww.fanfiction.net%2Fs%2F12683524%2F2%2FHis-Favorite-Melody> (referer: https://steamdb.info/graph/)\n",
      "2024-12-04 10:38:01 [scrapy.spidermiddlewares.httperror] INFO: Ignoring response <400 https://proxy.scrapeops.io/v1/?api_key=&url=https%3A%2F%2Fproxy.scrapeops.io%2Fv1%2F%3Fapi_key%3D%26url%3Dhttps%253A%2F%2Fwww.fanfiction.net%2Fs%2F14052508%2F2%2FSherlolly-Appreciation-Week-2022>: HTTP status code is not handled or not allowed\n",
      "2024-12-04 10:38:01 [scrapy.core.engine] DEBUG: Crawled (200) <GET https://proxy.scrapeops.io/v1/?api_key=&url=https%3A%2F%2Fwww.fanfiction.net%2Fs%2F14039966%2F1%2FTease> (referer: https://steamdb.info/graph/)\n",
      "2024-12-04 10:38:01 [scrapy.core.engine] DEBUG: Crawled (400) <GET https://proxy.scrapeops.io/v1/?api_key=&url=https%3A%2F%2Fproxy.scrapeops.io%2Fv1%2F%3Fapi_key%3D%26url%3Dhttps%253A%2F%2Fwww.fanfiction.net%2Fs%2F14057571%2F2%2FHuman-Skin> (referer: https://steamdb.info/graph/)\n",
      "2024-12-04 10:38:01 [scrapy.spidermiddlewares.httperror] INFO: Ignoring response <400 https://proxy.scrapeops.io/v1/?api_key=&url=https%3A%2F%2Fproxy.scrapeops.io%2Fv1%2F%3Fapi_key%3D%26url%3Dhttps%253A%2F%2Fwww.fanfiction.net%2Fs%2F14057321%2F2%2FEveryone-needs-someone-to-love-and-I-choose-you>: HTTP status code is not handled or not allowed\n",
      "2024-12-04 10:38:01 [scrapy.spidermiddlewares.httperror] INFO: Ignoring response <400 https://proxy.scrapeops.io/v1/?api_key=&url=https%3A%2F%2Fproxy.scrapeops.io%2Fv1%2F%3Fapi_key%3D%26url%3Dhttps%253A%2F%2Fwww.fanfiction.net%2Fs%2F12683524%2F2%2FHis-Favorite-Melody>: HTTP status code is not handled or not allowed\n"
     ]
    },
    {
     "name": "stdout",
     "output_type": "stream",
     "text": [
      "\n",
      "https://proxy.scrapeops.io/v1/?api_key=&url=https%3A%2F%2Fwww.fanfiction.net%2Fs%2F14038784%2F1%2FThe-Ties-That-Bind\n",
      "25\n",
      "\n",
      "https://proxy.scrapeops.io/v1/?api_key=&url=https%3A%2F%2Fwww.fanfiction.net%2Fs%2F14045018%2F1%2Fi-m-afraid-i-might-die-for-you-now\n",
      "\n",
      "https://proxy.scrapeops.io/v1/?api_key=&url=https%3A%2F%2Fwww.fanfiction.net%2Fs%2F14039966%2F1%2FTease\n"
     ]
    },
    {
     "name": "stderr",
     "output_type": "stream",
     "text": [
      "2024-12-04 10:38:01 [scrapy.spidermiddlewares.httperror] INFO: Ignoring response <400 https://proxy.scrapeops.io/v1/?api_key=&url=https%3A%2F%2Fproxy.scrapeops.io%2Fv1%2F%3Fapi_key%3D%26url%3Dhttps%253A%2F%2Fwww.fanfiction.net%2Fs%2F14057571%2F2%2FHuman-Skin>: HTTP status code is not handled or not allowed\n",
      "2024-12-04 10:38:02 [scrapy.core.engine] DEBUG: Crawled (200) <GET https://proxy.scrapeops.io/v1/?api_key=&url=https%3A%2F%2Fwww.fanfiction.net%2Fs%2F14056917%2F1%2FJohnlock-Sentiment-is-a-chemical-defect-found-in-the-losing-side> (referer: https://steamdb.info/graph/)\n",
      "2024-12-04 10:38:02 [scrapy.core.engine] DEBUG: Crawled (400) <GET https://proxy.scrapeops.io/v1/?api_key=&url=https%3A%2F%2Fproxy.scrapeops.io%2Fv1%2F%3Fapi_key%3D%26url%3Dhttps%253A%2F%2Fwww.fanfiction.net%2Fs%2F14039338%2F2%2FFirst-kisses> (referer: https://steamdb.info/graph/)\n",
      "2024-12-04 10:38:02 [scrapy.spidermiddlewares.httperror] INFO: Ignoring response <400 https://proxy.scrapeops.io/v1/?api_key=&url=https%3A%2F%2Fproxy.scrapeops.io%2Fv1%2F%3Fapi_key%3D%26url%3Dhttps%253A%2F%2Fwww.fanfiction.net%2Fs%2F14039338%2F2%2FFirst-kisses>: HTTP status code is not handled or not allowed\n"
     ]
    },
    {
     "name": "stdout",
     "output_type": "stream",
     "text": [
      "\n",
      "https://proxy.scrapeops.io/v1/?api_key=&url=https%3A%2F%2Fwww.fanfiction.net%2Fs%2F14056917%2F1%2FJohnlock-Sentiment-is-a-chemical-defect-found-in-the-losing-side\n"
     ]
    },
    {
     "name": "stderr",
     "output_type": "stream",
     "text": [
      "2024-12-04 10:38:03 [scrapy.core.engine] DEBUG: Crawled (200) <GET https://proxy.scrapeops.io/v1/?api_key=&url=https%3A%2F%2Fwww.fanfiction.net%2Fs%2F14032818%2F1%2FA-Study-in-Separation> (referer: https://steamdb.info/graph/)\n",
      "2024-12-04 10:38:03 [scrapy.core.engine] DEBUG: Crawled (200) <GET https://proxy.scrapeops.io/v1/?api_key=&url=https%3A%2F%2Fwww.fanfiction.net%2Fs%2F14041987%2F1%2FThere-And-Back-Again> (referer: https://steamdb.info/graph/)\n",
      "2024-12-04 10:38:03 [scrapy.core.engine] DEBUG: Crawled (200) <GET https://proxy.scrapeops.io/v1/?api_key=&url=https%3A%2F%2Fwww.fanfiction.net%2Fs%2F14041764%2F1%2FLife-in-the-Shadows> (referer: https://steamdb.info/graph/)\n",
      "2024-12-04 10:38:03 [scrapy.core.engine] DEBUG: Crawled (400) <GET https://proxy.scrapeops.io/v1/?api_key=&url=https%3A%2F%2Fproxy.scrapeops.io%2Fv1%2F%3Fapi_key%3D%26url%3Dhttps%253A%2F%2Fwww.fanfiction.net%2Fs%2F14038784%2F2%2FThe-Ties-That-Bind> (referer: https://steamdb.info/graph/)\n",
      "2024-12-04 10:38:03 [scrapy.core.engine] DEBUG: Crawled (200) <GET https://proxy.scrapeops.io/v1/?api_key=&url=https%3A%2F%2Fwww.fanfiction.net%2Fs%2F14040146%2F1%2FWild-Nights> (referer: https://steamdb.info/graph/)\n",
      "2024-12-04 10:38:03 [scrapy.spidermiddlewares.httperror] INFO: Ignoring response <400 https://proxy.scrapeops.io/v1/?api_key=&url=https%3A%2F%2Fproxy.scrapeops.io%2Fv1%2F%3Fapi_key%3D%26url%3Dhttps%253A%2F%2Fwww.fanfiction.net%2Fs%2F14038784%2F2%2FThe-Ties-That-Bind>: HTTP status code is not handled or not allowed\n"
     ]
    },
    {
     "name": "stdout",
     "output_type": "stream",
     "text": [
      "\n",
      "https://proxy.scrapeops.io/v1/?api_key=&url=https%3A%2F%2Fwww.fanfiction.net%2Fs%2F14032818%2F1%2FA-Study-in-Separation\n",
      "\n",
      "https://proxy.scrapeops.io/v1/?api_key=&url=https%3A%2F%2Fwww.fanfiction.net%2Fs%2F14041987%2F1%2FThere-And-Back-Again\n",
      "\n",
      "https://proxy.scrapeops.io/v1/?api_key=&url=https%3A%2F%2Fwww.fanfiction.net%2Fs%2F14041764%2F1%2FLife-in-the-Shadows\n",
      "\n",
      "https://proxy.scrapeops.io/v1/?api_key=&url=https%3A%2F%2Fwww.fanfiction.net%2Fs%2F14040146%2F1%2FWild-Nights\n"
     ]
    },
    {
     "name": "stderr",
     "output_type": "stream",
     "text": [
      "2024-12-04 10:38:04 [scrapy.core.engine] DEBUG: Crawled (200) <GET https://proxy.scrapeops.io/v1/?api_key=&url=https%3A%2F%2Fwww.fanfiction.net%2Fs%2F11160012%2F1%2FJane-Watson-Army-Doctor> (referer: https://steamdb.info/graph/)\n",
      "2024-12-04 10:38:05 [scrapy.core.engine] DEBUG: Crawled (400) <GET https://proxy.scrapeops.io/v1/?api_key=&url=https%3A%2F%2Fproxy.scrapeops.io%2Fv1%2F%3Fapi_key%3D%26url%3Dhttps%253A%2F%2Fwww.fanfiction.net%2Fs%2F14045018%2F2%2Fi-m-afraid-i-might-die-for-you-now> (referer: https://steamdb.info/graph/)\n",
      "2024-12-04 10:38:05 [scrapy.core.engine] DEBUG: Crawled (400) <GET https://proxy.scrapeops.io/v1/?api_key=&url=https%3A%2F%2Fproxy.scrapeops.io%2Fv1%2F%3Fapi_key%3D%26url%3Dhttps%253A%2F%2Fwww.fanfiction.net%2Fs%2F14039966%2F2%2FTease> (referer: https://steamdb.info/graph/)\n",
      "2024-12-04 10:38:05 [scrapy.spidermiddlewares.httperror] INFO: Ignoring response <400 https://proxy.scrapeops.io/v1/?api_key=&url=https%3A%2F%2Fproxy.scrapeops.io%2Fv1%2F%3Fapi_key%3D%26url%3Dhttps%253A%2F%2Fwww.fanfiction.net%2Fs%2F14045018%2F2%2Fi-m-afraid-i-might-die-for-you-now>: HTTP status code is not handled or not allowed\n",
      "2024-12-04 10:38:05 [scrapy.core.engine] DEBUG: Crawled (200) <GET https://proxy.scrapeops.io/v1/?api_key=&url=https%3A%2F%2Fwww.fanfiction.net%2Fs%2F14043097%2F1%2FThe-Aubergine-Incident> (referer: https://steamdb.info/graph/)\n",
      "2024-12-04 10:38:05 [scrapy.spidermiddlewares.httperror] INFO: Ignoring response <400 https://proxy.scrapeops.io/v1/?api_key=&url=https%3A%2F%2Fproxy.scrapeops.io%2Fv1%2F%3Fapi_key%3D%26url%3Dhttps%253A%2F%2Fwww.fanfiction.net%2Fs%2F14039966%2F2%2FTease>: HTTP status code is not handled or not allowed\n"
     ]
    },
    {
     "name": "stdout",
     "output_type": "stream",
     "text": [
      "\n",
      "https://proxy.scrapeops.io/v1/?api_key=&url=https%3A%2F%2Fwww.fanfiction.net%2Fs%2F11160012%2F1%2FJane-Watson-Army-Doctor\n"
     ]
    },
    {
     "name": "stderr",
     "output_type": "stream",
     "text": [
      "2024-12-04 10:38:05 [scrapy.core.engine] DEBUG: Crawled (400) <GET https://proxy.scrapeops.io/v1/?api_key=&url=https%3A%2F%2Fproxy.scrapeops.io%2Fv1%2F%3Fapi_key%3D%26url%3Dhttps%253A%2F%2Fwww.fanfiction.net%2Fs%2F14056917%2F2%2FJohnlock-Sentiment-is-a-chemical-defect-found-in-the-losing-side> (referer: https://steamdb.info/graph/)\n",
      "2024-12-04 10:38:05 [scrapy.core.engine] DEBUG: Crawled (200) <GET https://proxy.scrapeops.io/v1/?api_key=&url=https%3A%2F%2Fwww.fanfiction.net%2Fs%2F14042247%2F1%2FDearest-Molly> (referer: https://steamdb.info/graph/)\n",
      "2024-12-04 10:38:05 [scrapy.spidermiddlewares.httperror] INFO: Ignoring response <400 https://proxy.scrapeops.io/v1/?api_key=&url=https%3A%2F%2Fproxy.scrapeops.io%2Fv1%2F%3Fapi_key%3D%26url%3Dhttps%253A%2F%2Fwww.fanfiction.net%2Fs%2F14056917%2F2%2FJohnlock-Sentiment-is-a-chemical-defect-found-in-the-losing-side>: HTTP status code is not handled or not allowed\n"
     ]
    },
    {
     "name": "stdout",
     "output_type": "stream",
     "text": [
      "\n",
      "https://proxy.scrapeops.io/v1/?api_key=&url=https%3A%2F%2Fwww.fanfiction.net%2Fs%2F14043097%2F1%2FThe-Aubergine-Incident\n",
      "\n",
      "https://proxy.scrapeops.io/v1/?api_key=&url=https%3A%2F%2Fwww.fanfiction.net%2Fs%2F14042247%2F1%2FDearest-Molly\n"
     ]
    },
    {
     "name": "stderr",
     "output_type": "stream",
     "text": [
      "2024-12-04 10:38:05 [scrapy.core.engine] DEBUG: Crawled (200) <GET https://proxy.scrapeops.io/v1/?api_key=&url=https%3A%2F%2Fwww.fanfiction.net%2Ftv%2FSherlock%2F%3F%26srt%3D1%26r%3D103%26p%3D16> (referer: https://steamdb.info/graph/)\n",
      "2024-12-04 10:38:05 [scrapy.core.engine] DEBUG: Crawled (400) <GET https://proxy.scrapeops.io/v1/?api_key=&url=https%3A%2F%2Fproxy.scrapeops.io%2Fv1%2F%3Fapi_key%3D%26url%3Dhttps%253A%2F%2Fwww.fanfiction.net%2Fs%2F14032818%2F2%2FA-Study-in-Separation> (referer: https://steamdb.info/graph/)\n",
      "2024-12-04 10:38:05 [scrapy.downloadermiddlewares.retry] DEBUG: Retrying <GET https://proxy.scrapeops.io/v1/?api_key=&url=https%3A%2F%2Fwww.fanfiction.net%2Fs%2F14040143%2F1%2FWillow-and-Ebony> (failed 1 times): 429 Unknown Status\n",
      "2024-12-04 10:38:05 [scrapy.core.engine] DEBUG: Crawled (400) <GET https://proxy.scrapeops.io/v1/?api_key=&url=https%3A%2F%2Fproxy.scrapeops.io%2Fv1%2F%3Fapi_key%3D%26url%3Dhttps%253A%2F%2Fwww.fanfiction.net%2Fs%2F14041987%2F2%2FThere-And-Back-Again> (referer: https://steamdb.info/graph/)\n",
      "2024-12-04 10:38:05 [scrapy.spidermiddlewares.httperror] INFO: Ignoring response <400 https://proxy.scrapeops.io/v1/?api_key=&url=https%3A%2F%2Fproxy.scrapeops.io%2Fv1%2F%3Fapi_key%3D%26url%3Dhttps%253A%2F%2Fwww.fanfiction.net%2Fs%2F14032818%2F2%2FA-Study-in-Separation>: HTTP status code is not handled or not allowed\n",
      "2024-12-04 10:38:05 [scrapy.core.engine] DEBUG: Crawled (400) <GET https://proxy.scrapeops.io/v1/?api_key=&url=https%3A%2F%2Fproxy.scrapeops.io%2Fv1%2F%3Fapi_key%3D%26url%3Dhttps%253A%2F%2Fwww.fanfiction.net%2Fs%2F14040146%2F2%2FWild-Nights> (referer: https://steamdb.info/graph/)\n",
      "2024-12-04 10:38:05 [scrapy.core.engine] DEBUG: Crawled (400) <GET https://proxy.scrapeops.io/v1/?api_key=&url=https%3A%2F%2Fproxy.scrapeops.io%2Fv1%2F%3Fapi_key%3D%26url%3Dhttps%253A%2F%2Fwww.fanfiction.net%2Fs%2F14041764%2F2%2FLife-in-the-Shadows> (referer: https://steamdb.info/graph/)\n",
      "2024-12-04 10:38:05 [scrapy.spidermiddlewares.httperror] INFO: Ignoring response <400 https://proxy.scrapeops.io/v1/?api_key=&url=https%3A%2F%2Fproxy.scrapeops.io%2Fv1%2F%3Fapi_key%3D%26url%3Dhttps%253A%2F%2Fwww.fanfiction.net%2Fs%2F14041987%2F2%2FThere-And-Back-Again>: HTTP status code is not handled or not allowed\n"
     ]
    },
    {
     "name": "stdout",
     "output_type": "stream",
     "text": [
      "25\n"
     ]
    },
    {
     "name": "stderr",
     "output_type": "stream",
     "text": [
      "2024-12-04 10:38:05 [scrapy.spidermiddlewares.httperror] INFO: Ignoring response <400 https://proxy.scrapeops.io/v1/?api_key=&url=https%3A%2F%2Fproxy.scrapeops.io%2Fv1%2F%3Fapi_key%3D%26url%3Dhttps%253A%2F%2Fwww.fanfiction.net%2Fs%2F14040146%2F2%2FWild-Nights>: HTTP status code is not handled or not allowed\n",
      "2024-12-04 10:38:05 [scrapy.core.engine] DEBUG: Crawled (400) <GET https://proxy.scrapeops.io/v1/?api_key=&url=https%3A%2F%2Fproxy.scrapeops.io%2Fv1%2F%3Fapi_key%3D%26url%3Dhttps%253A%2F%2Fwww.fanfiction.net%2Fs%2F11160012%2F2%2FJane-Watson-Army-Doctor> (referer: https://steamdb.info/graph/)\n",
      "2024-12-04 10:38:06 [scrapy.spidermiddlewares.httperror] INFO: Ignoring response <400 https://proxy.scrapeops.io/v1/?api_key=&url=https%3A%2F%2Fproxy.scrapeops.io%2Fv1%2F%3Fapi_key%3D%26url%3Dhttps%253A%2F%2Fwww.fanfiction.net%2Fs%2F14041764%2F2%2FLife-in-the-Shadows>: HTTP status code is not handled or not allowed\n",
      "2024-12-04 10:38:06 [scrapy.spidermiddlewares.httperror] INFO: Ignoring response <400 https://proxy.scrapeops.io/v1/?api_key=&url=https%3A%2F%2Fproxy.scrapeops.io%2Fv1%2F%3Fapi_key%3D%26url%3Dhttps%253A%2F%2Fwww.fanfiction.net%2Fs%2F11160012%2F2%2FJane-Watson-Army-Doctor>: HTTP status code is not handled or not allowed\n",
      "2024-12-04 10:38:06 [scrapy.core.engine] DEBUG: Crawled (200) <GET https://proxy.scrapeops.io/v1/?api_key=&url=https%3A%2F%2Fwww.fanfiction.net%2Fs%2F14034685%2F1%2FA-Study-in-Cats> (referer: https://steamdb.info/graph/)\n",
      "2024-12-04 10:38:06 [scrapy.core.engine] DEBUG: Crawled (400) <GET https://proxy.scrapeops.io/v1/?api_key=&url=https%3A%2F%2Fproxy.scrapeops.io%2Fv1%2F%3Fapi_key%3D%26url%3Dhttps%253A%2F%2Fwww.fanfiction.net%2Fs%2F14043097%2F2%2FThe-Aubergine-Incident> (referer: https://steamdb.info/graph/)\n",
      "2024-12-04 10:38:06 [scrapy.core.engine] DEBUG: Crawled (200) <GET https://proxy.scrapeops.io/v1/?api_key=&url=https%3A%2F%2Fwww.fanfiction.net%2Fs%2F14023664%2F1%2FSanta-Claus> (referer: https://steamdb.info/graph/)\n",
      "2024-12-04 10:38:06 [scrapy.core.engine] DEBUG: Crawled (400) <GET https://proxy.scrapeops.io/v1/?api_key=&url=https%3A%2F%2Fproxy.scrapeops.io%2Fv1%2F%3Fapi_key%3D%26url%3Dhttps%253A%2F%2Fwww.fanfiction.net%2Fs%2F14042247%2F2%2FDearest-Molly> (referer: https://steamdb.info/graph/)\n",
      "2024-12-04 10:38:06 [scrapy.spidermiddlewares.httperror] INFO: Ignoring response <400 https://proxy.scrapeops.io/v1/?api_key=&url=https%3A%2F%2Fproxy.scrapeops.io%2Fv1%2F%3Fapi_key%3D%26url%3Dhttps%253A%2F%2Fwww.fanfiction.net%2Fs%2F14043097%2F2%2FThe-Aubergine-Incident>: HTTP status code is not handled or not allowed\n",
      "2024-12-04 10:38:06 [scrapy.spidermiddlewares.httperror] INFO: Ignoring response <400 https://proxy.scrapeops.io/v1/?api_key=&url=https%3A%2F%2Fproxy.scrapeops.io%2Fv1%2F%3Fapi_key%3D%26url%3Dhttps%253A%2F%2Fwww.fanfiction.net%2Fs%2F14042247%2F2%2FDearest-Molly>: HTTP status code is not handled or not allowed\n"
     ]
    },
    {
     "name": "stdout",
     "output_type": "stream",
     "text": [
      "\n",
      "https://proxy.scrapeops.io/v1/?api_key=&url=https%3A%2F%2Fwww.fanfiction.net%2Fs%2F14034685%2F1%2FA-Study-in-Cats\n",
      "\n",
      "https://proxy.scrapeops.io/v1/?api_key=&url=https%3A%2F%2Fwww.fanfiction.net%2Fs%2F14023664%2F1%2FSanta-Claus\n"
     ]
    },
    {
     "name": "stderr",
     "output_type": "stream",
     "text": [
      "2024-12-04 10:38:06 [scrapy.downloadermiddlewares.retry] DEBUG: Retrying <GET https://proxy.scrapeops.io/v1/?api_key=&url=https%3A%2F%2Fwww.fanfiction.net%2Fs%2F14020504%2F1%2FLe-Papa-No%25C3%25ABl> (failed 1 times): 429 Unknown Status\n",
      "2024-12-04 10:38:07 [scrapy.core.engine] DEBUG: Crawled (200) <GET https://proxy.scrapeops.io/v1/?api_key=&url=https%3A%2F%2Fwww.fanfiction.net%2Fs%2F14027784%2F1%2FSe-D%25C3%25A9tendre-Apr%25C3%25A8s-Une-Mauvaise-Journ%25C3%25A9e> (referer: https://steamdb.info/graph/)\n",
      "2024-12-04 10:38:07 [scrapy.core.engine] DEBUG: Crawled (200) <GET https://proxy.scrapeops.io/v1/?api_key=&url=https%3A%2F%2Fwww.fanfiction.net%2Fs%2F14027200%2F1%2FI-Knew-You-Were-Trouble> (referer: https://steamdb.info/graph/)\n",
      "2024-12-04 10:38:07 [scrapy.core.engine] DEBUG: Crawled (200) <GET https://proxy.scrapeops.io/v1/?api_key=&url=https%3A%2F%2Fwww.fanfiction.net%2Fs%2F14028224%2F1%2FI-Stayed-Anyway> (referer: https://steamdb.info/graph/)\n"
     ]
    },
    {
     "name": "stdout",
     "output_type": "stream",
     "text": [
      "\n",
      "\n",
      "https://proxy.scrapeops.io/v1/?api_key=&url=https%3A%2F%2Fwww.fanfiction.net%2Fs%2F14027200%2F1%2FI-Knew-You-Were-Trouble\n",
      "\n",
      "https://proxy.scrapeops.io/v1/?api_key=&url=https%3A%2F%2Fwww.fanfiction.net%2Fs%2F14028224%2F1%2FI-Stayed-Anyway\n"
     ]
    },
    {
     "name": "stderr",
     "output_type": "stream",
     "text": [
      "2024-12-04 10:38:07 [scrapy.core.engine] DEBUG: Crawled (200) <GET https://proxy.scrapeops.io/v1/?api_key=&url=https%3A%2F%2Fwww.fanfiction.net%2Fs%2F14028470%2F1%2FShe-ll-Catch-You> (referer: https://steamdb.info/graph/)\n"
     ]
    },
    {
     "name": "stdout",
     "output_type": "stream",
     "text": [
      "\n",
      "https://proxy.scrapeops.io/v1/?api_key=&url=https%3A%2F%2Fwww.fanfiction.net%2Fs%2F14028470%2F1%2FShe-ll-Catch-You\n"
     ]
    },
    {
     "name": "stderr",
     "output_type": "stream",
     "text": [
      "2024-12-04 10:38:08 [scrapy.core.engine] DEBUG: Crawled (200) <GET https://proxy.scrapeops.io/v1/?api_key=&url=https%3A%2F%2Fwww.fanfiction.net%2Ftv%2FSherlock%2F%3F%26srt%3D1%26r%3D103%26p%3D17> (referer: https://steamdb.info/graph/)\n",
      "2024-12-04 10:38:08 [scrapy.core.engine] DEBUG: Crawled (200) <GET https://proxy.scrapeops.io/v1/?api_key=&url=https%3A%2F%2Fwww.fanfiction.net%2Fs%2F14010783%2F1%2FL-amoureux-du-P%25C3%25A8re-No%25C3%25ABl> (referer: https://steamdb.info/graph/)\n"
     ]
    },
    {
     "name": "stdout",
     "output_type": "stream",
     "text": [
      "25\n"
     ]
    },
    {
     "name": "stderr",
     "output_type": "stream",
     "text": [
      "2024-12-04 10:38:08 [scrapy.core.engine] DEBUG: Crawled (400) <GET https://proxy.scrapeops.io/v1/?api_key=&url=https%3A%2F%2Fproxy.scrapeops.io%2Fv1%2F%3Fapi_key%3D%26url%3Dhttps%253A%2F%2Fwww.fanfiction.net%2Fs%2F14034685%2F2%2FA-Study-in-Cats> (referer: https://steamdb.info/graph/)\n",
      "2024-12-04 10:38:09 [scrapy.spidermiddlewares.httperror] INFO: Ignoring response <400 https://proxy.scrapeops.io/v1/?api_key=&url=https%3A%2F%2Fproxy.scrapeops.io%2Fv1%2F%3Fapi_key%3D%26url%3Dhttps%253A%2F%2Fwww.fanfiction.net%2Fs%2F14034685%2F2%2FA-Study-in-Cats>: HTTP status code is not handled or not allowed\n"
     ]
    },
    {
     "name": "stdout",
     "output_type": "stream",
     "text": [
      "\n"
     ]
    },
    {
     "name": "stderr",
     "output_type": "stream",
     "text": [
      "2024-12-04 10:38:09 [scrapy.core.engine] DEBUG: Crawled (200) <GET https://proxy.scrapeops.io/v1/?api_key=&url=https%3A%2F%2Fwww.fanfiction.net%2Fs%2F14010494%2F1%2FBah-Humbug> (referer: https://steamdb.info/graph/)\n",
      "2024-12-04 10:38:09 [scrapy.core.engine] DEBUG: Crawled (200) <GET https://proxy.scrapeops.io/v1/?api_key=&url=https%3A%2F%2Fwww.fanfiction.net%2Fs%2F14012718%2F1%2FRozdzieleni> (referer: https://steamdb.info/graph/)\n",
      "2024-12-04 10:38:09 [scrapy.core.engine] DEBUG: Crawled (400) <GET https://proxy.scrapeops.io/v1/?api_key=&url=https%3A%2F%2Fproxy.scrapeops.io%2Fv1%2F%3Fapi_key%3D%26url%3Dhttps%253A%2F%2Fwww.fanfiction.net%2Fs%2F14023664%2F2%2FSanta-Claus> (referer: https://steamdb.info/graph/)\n",
      "2024-12-04 10:38:09 [scrapy.spidermiddlewares.httperror] INFO: Ignoring response <400 https://proxy.scrapeops.io/v1/?api_key=&url=https%3A%2F%2Fproxy.scrapeops.io%2Fv1%2F%3Fapi_key%3D%26url%3Dhttps%253A%2F%2Fwww.fanfiction.net%2Fs%2F14023664%2F2%2FSanta-Claus>: HTTP status code is not handled or not allowed\n"
     ]
    },
    {
     "name": "stdout",
     "output_type": "stream",
     "text": [
      "\n",
      "https://proxy.scrapeops.io/v1/?api_key=&url=https%3A%2F%2Fwww.fanfiction.net%2Fs%2F14010494%2F1%2FBah-Humbug\n",
      "\n"
     ]
    },
    {
     "name": "stderr",
     "output_type": "stream",
     "text": [
      "2024-12-04 10:38:10 [scrapy.core.engine] DEBUG: Crawled (200) <GET https://proxy.scrapeops.io/v1/?api_key=&url=https%3A%2F%2Fwww.fanfiction.net%2Fs%2F12704951%2F1%2FUltra-Infirmitatibus-Meis> (referer: https://steamdb.info/graph/)\n",
      "2024-12-04 10:38:10 [scrapy.core.engine] DEBUG: Crawled (400) <GET https://proxy.scrapeops.io/v1/?api_key=&url=https%3A%2F%2Fproxy.scrapeops.io%2Fv1%2F%3Fapi_key%3D%26url%3Dhttps%253A%2F%2Fwww.fanfiction.net%2Fs%2F14027200%2F2%2FI-Knew-You-Were-Trouble> (referer: https://steamdb.info/graph/)\n",
      "2024-12-04 10:38:10 [scrapy.core.engine] DEBUG: Crawled (200) <GET https://proxy.scrapeops.io/v1/?api_key=&url=https%3A%2F%2Fwww.fanfiction.net%2Fs%2F9893077%2F1%2FLove-Everlasting> (referer: https://steamdb.info/graph/)\n",
      "2024-12-04 10:38:10 [scrapy.core.engine] DEBUG: Crawled (400) <GET https://proxy.scrapeops.io/v1/?api_key=&url=https%3A%2F%2Fproxy.scrapeops.io%2Fv1%2F%3Fapi_key%3D%26url%3Dhttps%253A%2F%2Fwww.fanfiction.net%2Fs%2F14028224%2F2%2FI-Stayed-Anyway> (referer: https://steamdb.info/graph/)\n",
      "2024-12-04 10:38:10 [scrapy.spidermiddlewares.httperror] INFO: Ignoring response <400 https://proxy.scrapeops.io/v1/?api_key=&url=https%3A%2F%2Fproxy.scrapeops.io%2Fv1%2F%3Fapi_key%3D%26url%3Dhttps%253A%2F%2Fwww.fanfiction.net%2Fs%2F14027200%2F2%2FI-Knew-You-Were-Trouble>: HTTP status code is not handled or not allowed\n",
      "2024-12-04 10:38:10 [scrapy.core.engine] DEBUG: Crawled (400) <GET https://proxy.scrapeops.io/v1/?api_key=&url=https%3A%2F%2Fproxy.scrapeops.io%2Fv1%2F%3Fapi_key%3D%26url%3Dhttps%253A%2F%2Fwww.fanfiction.net%2Fs%2F14028470%2F2%2FShe-ll-Catch-You> (referer: https://steamdb.info/graph/)\n",
      "2024-12-04 10:38:11 [scrapy.spidermiddlewares.httperror] INFO: Ignoring response <400 https://proxy.scrapeops.io/v1/?api_key=&url=https%3A%2F%2Fproxy.scrapeops.io%2Fv1%2F%3Fapi_key%3D%26url%3Dhttps%253A%2F%2Fwww.fanfiction.net%2Fs%2F14028224%2F2%2FI-Stayed-Anyway>: HTTP status code is not handled or not allowed\n"
     ]
    },
    {
     "name": "stdout",
     "output_type": "stream",
     "text": [
      "\n",
      "https://proxy.scrapeops.io/v1/?api_key=&url=https%3A%2F%2Fwww.fanfiction.net%2Fs%2F12704951%2F1%2FUltra-Infirmitatibus-Meis\n",
      "\n",
      "https://proxy.scrapeops.io/v1/?api_key=&url=https%3A%2F%2Fwww.fanfiction.net%2Fs%2F9893077%2F1%2FLove-Everlasting\n"
     ]
    },
    {
     "name": "stderr",
     "output_type": "stream",
     "text": [
      "2024-12-04 10:38:11 [scrapy.spidermiddlewares.httperror] INFO: Ignoring response <400 https://proxy.scrapeops.io/v1/?api_key=&url=https%3A%2F%2Fproxy.scrapeops.io%2Fv1%2F%3Fapi_key%3D%26url%3Dhttps%253A%2F%2Fwww.fanfiction.net%2Fs%2F14028470%2F2%2FShe-ll-Catch-You>: HTTP status code is not handled or not allowed\n",
      "2024-12-04 10:38:11 [scrapy.downloadermiddlewares.retry] DEBUG: Retrying <GET https://proxy.scrapeops.io/v1/?api_key=&url=https%3A%2F%2Fwww.fanfiction.net%2Fs%2F14029317%2F1%2FA-Drunken-Mind-Speaks-The-Sober-Heart> (failed 1 times): 429 Unknown Status\n",
      "2024-12-04 10:38:11 [scrapy.core.engine] DEBUG: Crawled (200) <GET https://proxy.scrapeops.io/v1/?api_key=&url=https%3A%2F%2Fwww.fanfiction.net%2Fs%2F14016915%2F1%2Fall-our-years-apart-lead-us-to-the-one-today> (referer: https://steamdb.info/graph/)\n",
      "2024-12-04 10:38:11 [scrapy.core.engine] DEBUG: Crawled (200) <GET https://proxy.scrapeops.io/v1/?api_key=&url=https%3A%2F%2Fwww.fanfiction.net%2Fs%2F13449581%2F1%2FHermaphrodite> (referer: https://steamdb.info/graph/)\n",
      "2024-12-04 10:38:11 [scrapy.core.engine] DEBUG: Crawled (200) <GET https://proxy.scrapeops.io/v1/?api_key=&url=https%3A%2F%2Fwww.fanfiction.net%2Fs%2F13966264%2F1%2FMizjoely-s-Flufftober-2021-Fics> (referer: https://steamdb.info/graph/)\n",
      "2024-12-04 10:38:11 [scrapy.core.engine] DEBUG: Crawled (400) <GET https://proxy.scrapeops.io/v1/?api_key=&url=https%3A%2F%2Fproxy.scrapeops.io%2Fv1%2F%3Fapi_key%3D%26url%3Dhttps%253A%2F%2Fwww.fanfiction.net%2Fs%2F14010494%2F2%2FBah-Humbug> (referer: https://steamdb.info/graph/)\n"
     ]
    },
    {
     "name": "stdout",
     "output_type": "stream",
     "text": [
      "\n",
      "https://proxy.scrapeops.io/v1/?api_key=&url=https%3A%2F%2Fwww.fanfiction.net%2Fs%2F14016915%2F1%2Fall-our-years-apart-lead-us-to-the-one-today\n"
     ]
    },
    {
     "name": "stderr",
     "output_type": "stream",
     "text": [
      "2024-12-04 10:38:11 [scrapy.downloadermiddlewares.retry] DEBUG: Retrying <GET https://proxy.scrapeops.io/v1/?api_key=&url=https%3A%2F%2Fwww.fanfiction.net%2Fs%2F14010100%2F1%2FSpostrzegawczy-outsiderzy> (failed 1 times): 429 Unknown Status\n",
      "2024-12-04 10:38:11 [scrapy.core.engine] DEBUG: Crawled (400) <GET https://proxy.scrapeops.io/v1/?api_key=&url=https%3A%2F%2Fproxy.scrapeops.io%2Fv1%2F%3Fapi_key%3D%26url%3Dhttps%253A%2F%2Fwww.fanfiction.net%2Fs%2F12704951%2F2%2FUltra-Infirmitatibus-Meis> (referer: https://steamdb.info/graph/)\n",
      "2024-12-04 10:38:11 [scrapy.spidermiddlewares.httperror] INFO: Ignoring response <400 https://proxy.scrapeops.io/v1/?api_key=&url=https%3A%2F%2Fproxy.scrapeops.io%2Fv1%2F%3Fapi_key%3D%26url%3Dhttps%253A%2F%2Fwww.fanfiction.net%2Fs%2F14010494%2F2%2FBah-Humbug>: HTTP status code is not handled or not allowed\n",
      "2024-12-04 10:38:12 [scrapy.spidermiddlewares.httperror] INFO: Ignoring response <400 https://proxy.scrapeops.io/v1/?api_key=&url=https%3A%2F%2Fproxy.scrapeops.io%2Fv1%2F%3Fapi_key%3D%26url%3Dhttps%253A%2F%2Fwww.fanfiction.net%2Fs%2F12704951%2F2%2FUltra-Infirmitatibus-Meis>: HTTP status code is not handled or not allowed\n"
     ]
    },
    {
     "name": "stdout",
     "output_type": "stream",
     "text": [
      "\n",
      "https://proxy.scrapeops.io/v1/?api_key=&url=https%3A%2F%2Fwww.fanfiction.net%2Fs%2F13449581%2F1%2FHermaphrodite\n",
      "\n",
      "https://proxy.scrapeops.io/v1/?api_key=&url=https%3A%2F%2Fwww.fanfiction.net%2Fs%2F13966264%2F1%2FMizjoely-s-Flufftober-2021-Fics\n"
     ]
    },
    {
     "name": "stderr",
     "output_type": "stream",
     "text": [
      "2024-12-04 10:38:13 [scrapy.core.engine] DEBUG: Crawled (200) <GET https://proxy.scrapeops.io/v1/?api_key=&url=https%3A%2F%2Fwww.fanfiction.net%2Fs%2F13970849%2F1%2FThe-A-Z-of-Revenge-or-why-people-shouldn-t-abduct-John-Watson> (referer: https://steamdb.info/graph/)\n",
      "2024-12-04 10:38:13 [scrapy.core.engine] DEBUG: Crawled (200) <GET https://proxy.scrapeops.io/v1/?api_key=&url=https%3A%2F%2Fwww.fanfiction.net%2Ftv%2FSherlock%2F%3F%26srt%3D1%26r%3D103%26p%3D18> (referer: https://steamdb.info/graph/)\n",
      "2024-12-04 10:38:13 [scrapy.core.engine] DEBUG: Crawled (400) <GET https://proxy.scrapeops.io/v1/?api_key=&url=https%3A%2F%2Fproxy.scrapeops.io%2Fv1%2F%3Fapi_key%3D%26url%3Dhttps%253A%2F%2Fwww.fanfiction.net%2Fs%2F9893077%2F2%2FLove-Everlasting> (referer: https://steamdb.info/graph/)\n",
      "2024-12-04 10:38:13 [scrapy.spidermiddlewares.httperror] INFO: Ignoring response <400 https://proxy.scrapeops.io/v1/?api_key=&url=https%3A%2F%2Fproxy.scrapeops.io%2Fv1%2F%3Fapi_key%3D%26url%3Dhttps%253A%2F%2Fwww.fanfiction.net%2Fs%2F9893077%2F2%2FLove-Everlasting>: HTTP status code is not handled or not allowed\n"
     ]
    },
    {
     "name": "stdout",
     "output_type": "stream",
     "text": [
      "\n",
      "https://proxy.scrapeops.io/v1/?api_key=&url=https%3A%2F%2Fwww.fanfiction.net%2Fs%2F13970849%2F1%2FThe-A-Z-of-Revenge-or-why-people-shouldn-t-abduct-John-Watson\n",
      "25\n"
     ]
    },
    {
     "name": "stderr",
     "output_type": "stream",
     "text": [
      "2024-12-04 10:38:14 [scrapy.core.engine] DEBUG: Crawled (200) <GET https://proxy.scrapeops.io/v1/?api_key=&url=https%3A%2F%2Fwww.fanfiction.net%2Fs%2F13862165%2F1%2FTe-elijo-a-ti> (referer: https://steamdb.info/graph/)\n",
      "2024-12-04 10:38:14 [scrapy.core.engine] DEBUG: Crawled (400) <GET https://proxy.scrapeops.io/v1/?api_key=&url=https%3A%2F%2Fproxy.scrapeops.io%2Fv1%2F%3Fapi_key%3D%26url%3Dhttps%253A%2F%2Fwww.fanfiction.net%2Fs%2F14016915%2F2%2Fall-our-years-apart-lead-us-to-the-one-today> (referer: https://steamdb.info/graph/)\n",
      "2024-12-04 10:38:14 [scrapy.spidermiddlewares.httperror] INFO: Ignoring response <400 https://proxy.scrapeops.io/v1/?api_key=&url=https%3A%2F%2Fproxy.scrapeops.io%2Fv1%2F%3Fapi_key%3D%26url%3Dhttps%253A%2F%2Fwww.fanfiction.net%2Fs%2F14016915%2F2%2Fall-our-years-apart-lead-us-to-the-one-today>: HTTP status code is not handled or not allowed\n"
     ]
    },
    {
     "name": "stdout",
     "output_type": "stream",
     "text": [
      "\n"
     ]
    },
    {
     "name": "stderr",
     "output_type": "stream",
     "text": [
      "2024-12-04 10:38:14 [scrapy.core.engine] DEBUG: Crawled (200) <GET https://proxy.scrapeops.io/v1/?api_key=&url=https%3A%2F%2Fwww.fanfiction.net%2Fs%2F14002548%2F1%2FThe-World-s-only-Private-Consulting-Detective> (referer: https://steamdb.info/graph/)\n",
      "2024-12-04 10:38:14 [scrapy.core.engine] DEBUG: Crawled (200) <GET https://proxy.scrapeops.io/v1/?api_key=&url=https%3A%2F%2Fwww.fanfiction.net%2Fs%2F13660870%2F1%2FThe-Broken-Dream> (referer: https://steamdb.info/graph/)\n",
      "2024-12-04 10:38:15 [scrapy.core.engine] DEBUG: Crawled (400) <GET https://proxy.scrapeops.io/v1/?api_key=&url=https%3A%2F%2Fproxy.scrapeops.io%2Fv1%2F%3Fapi_key%3D%26url%3Dhttps%253A%2F%2Fwww.fanfiction.net%2Fs%2F13449581%2F2%2FHermaphrodite> (referer: https://steamdb.info/graph/)\n",
      "2024-12-04 10:38:15 [scrapy.core.engine] DEBUG: Crawled (400) <GET https://proxy.scrapeops.io/v1/?api_key=&url=https%3A%2F%2Fproxy.scrapeops.io%2Fv1%2F%3Fapi_key%3D%26url%3Dhttps%253A%2F%2Fwww.fanfiction.net%2Fs%2F13966264%2F2%2FMizjoely-s-Flufftober-2021-Fics> (referer: https://steamdb.info/graph/)\n"
     ]
    },
    {
     "name": "stdout",
     "output_type": "stream",
     "text": [
      "\n",
      "https://proxy.scrapeops.io/v1/?api_key=&url=https%3A%2F%2Fwww.fanfiction.net%2Fs%2F14002548%2F1%2FThe-World-s-only-Private-Consulting-Detective\n",
      "\n",
      "https://proxy.scrapeops.io/v1/?api_key=&url=https%3A%2F%2Fwww.fanfiction.net%2Fs%2F13660870%2F1%2FThe-Broken-Dream\n"
     ]
    },
    {
     "name": "stderr",
     "output_type": "stream",
     "text": [
      "2024-12-04 10:38:15 [scrapy.spidermiddlewares.httperror] INFO: Ignoring response <400 https://proxy.scrapeops.io/v1/?api_key=&url=https%3A%2F%2Fproxy.scrapeops.io%2Fv1%2F%3Fapi_key%3D%26url%3Dhttps%253A%2F%2Fwww.fanfiction.net%2Fs%2F13449581%2F2%2FHermaphrodite>: HTTP status code is not handled or not allowed\n",
      "2024-12-04 10:38:15 [scrapy.spidermiddlewares.httperror] INFO: Ignoring response <400 https://proxy.scrapeops.io/v1/?api_key=&url=https%3A%2F%2Fproxy.scrapeops.io%2Fv1%2F%3Fapi_key%3D%26url%3Dhttps%253A%2F%2Fwww.fanfiction.net%2Fs%2F13966264%2F2%2FMizjoely-s-Flufftober-2021-Fics>: HTTP status code is not handled or not allowed\n",
      "2024-12-04 10:38:15 [scrapy.core.engine] DEBUG: Crawled (200) <GET https://proxy.scrapeops.io/v1/?api_key=&url=https%3A%2F%2Fwww.fanfiction.net%2Fs%2F13997392%2F1%2FBelieve-Me> (referer: https://steamdb.info/graph/)\n"
     ]
    },
    {
     "name": "stdout",
     "output_type": "stream",
     "text": [
      "\n",
      "https://proxy.scrapeops.io/v1/?api_key=&url=https%3A%2F%2Fwww.fanfiction.net%2Fs%2F13997392%2F1%2FBelieve-Me\n"
     ]
    },
    {
     "name": "stderr",
     "output_type": "stream",
     "text": [
      "2024-12-04 10:38:15 [scrapy.core.engine] DEBUG: Crawled (200) <GET https://proxy.scrapeops.io/v1/?api_key=&url=https%3A%2F%2Fwww.fanfiction.net%2Fs%2F13997444%2F1%2FMon-fr%25C3%25A8re-ma-faiblesse> (referer: https://steamdb.info/graph/)\n",
      "2024-12-04 10:38:16 [scrapy.core.engine] DEBUG: Crawled (400) <GET https://proxy.scrapeops.io/v1/?api_key=&url=https%3A%2F%2Fproxy.scrapeops.io%2Fv1%2F%3Fapi_key%3D%26url%3Dhttps%253A%2F%2Fwww.fanfiction.net%2Fs%2F13970849%2F2%2FThe-A-Z-of-Revenge-or-why-people-shouldn-t-abduct-John-Watson> (referer: https://steamdb.info/graph/)\n",
      "2024-12-04 10:38:16 [scrapy.spidermiddlewares.httperror] INFO: Ignoring response <400 https://proxy.scrapeops.io/v1/?api_key=&url=https%3A%2F%2Fproxy.scrapeops.io%2Fv1%2F%3Fapi_key%3D%26url%3Dhttps%253A%2F%2Fwww.fanfiction.net%2Fs%2F13970849%2F2%2FThe-A-Z-of-Revenge-or-why-people-shouldn-t-abduct-John-Watson>: HTTP status code is not handled or not allowed\n"
     ]
    },
    {
     "name": "stdout",
     "output_type": "stream",
     "text": [
      "\n"
     ]
    },
    {
     "name": "stderr",
     "output_type": "stream",
     "text": [
      "2024-12-04 10:38:16 [scrapy.downloadermiddlewares.retry] DEBUG: Retrying <GET https://proxy.scrapeops.io/v1/?api_key=&url=https%3A%2F%2Fwww.fanfiction.net%2Fs%2F13997334%2F1%2FThe-Dying-Lying-Detective> (failed 1 times): 429 Unknown Status\n",
      "2024-12-04 10:38:16 [scrapy.core.engine] DEBUG: Crawled (200) <GET https://proxy.scrapeops.io/v1/?api_key=&url=https%3A%2F%2Fwww.fanfiction.net%2Fs%2F14002781%2F1%2FPracownicy-Scotland-Yardu-dowiedzieli-si%25C4%2599> (referer: https://steamdb.info/graph/)\n"
     ]
    },
    {
     "name": "stdout",
     "output_type": "stream",
     "text": [
      "\n"
     ]
    },
    {
     "name": "stderr",
     "output_type": "stream",
     "text": [
      "2024-12-04 10:38:17 [scrapy.core.engine] DEBUG: Crawled (200) <GET https://proxy.scrapeops.io/v1/?api_key=&url=https%3A%2F%2Fwww.fanfiction.net%2Fs%2F13090545%2F1%2FTo-A-Great-Mind-Nothing-Is-Little> (referer: https://steamdb.info/graph/)\n",
      "2024-12-04 10:38:17 [scrapy.downloadermiddlewares.retry] DEBUG: Retrying <GET https://proxy.scrapeops.io/v1/?api_key=&url=https%3A%2F%2Fwww.fanfiction.net%2Fs%2F13999345%2F1%2FA-Study-In-Opposites> (failed 1 times): 429 Unknown Status\n",
      "2024-12-04 10:38:17 [scrapy.core.engine] DEBUG: Crawled (200) <GET https://proxy.scrapeops.io/v1/?api_key=&url=https%3A%2F%2Fwww.fanfiction.net%2Fs%2F13929823%2F1%2FNomen-Omen> (referer: https://steamdb.info/graph/)\n",
      "2024-12-04 10:38:17 [scrapy.core.engine] DEBUG: Crawled (400) <GET https://proxy.scrapeops.io/v1/?api_key=&url=https%3A%2F%2Fproxy.scrapeops.io%2Fv1%2F%3Fapi_key%3D%26url%3Dhttps%253A%2F%2Fwww.fanfiction.net%2Fs%2F14002548%2F2%2FThe-World-s-only-Private-Consulting-Detective> (referer: https://steamdb.info/graph/)\n",
      "2024-12-04 10:38:17 [scrapy.core.engine] DEBUG: Crawled (400) <GET https://proxy.scrapeops.io/v1/?api_key=&url=https%3A%2F%2Fproxy.scrapeops.io%2Fv1%2F%3Fapi_key%3D%26url%3Dhttps%253A%2F%2Fwww.fanfiction.net%2Fs%2F13660870%2F2%2FThe-Broken-Dream> (referer: https://steamdb.info/graph/)\n",
      "2024-12-04 10:38:17 [scrapy.spidermiddlewares.httperror] INFO: Ignoring response <400 https://proxy.scrapeops.io/v1/?api_key=&url=https%3A%2F%2Fproxy.scrapeops.io%2Fv1%2F%3Fapi_key%3D%26url%3Dhttps%253A%2F%2Fwww.fanfiction.net%2Fs%2F14002548%2F2%2FThe-World-s-only-Private-Consulting-Detective>: HTTP status code is not handled or not allowed\n",
      "2024-12-04 10:38:17 [scrapy.core.engine] DEBUG: Crawled (400) <GET https://proxy.scrapeops.io/v1/?api_key=&url=https%3A%2F%2Fproxy.scrapeops.io%2Fv1%2F%3Fapi_key%3D%26url%3Dhttps%253A%2F%2Fwww.fanfiction.net%2Fs%2F13997392%2F2%2FBelieve-Me> (referer: https://steamdb.info/graph/)\n",
      "2024-12-04 10:38:17 [scrapy.spidermiddlewares.httperror] INFO: Ignoring response <400 https://proxy.scrapeops.io/v1/?api_key=&url=https%3A%2F%2Fproxy.scrapeops.io%2Fv1%2F%3Fapi_key%3D%26url%3Dhttps%253A%2F%2Fwww.fanfiction.net%2Fs%2F13660870%2F2%2FThe-Broken-Dream>: HTTP status code is not handled or not allowed\n"
     ]
    },
    {
     "name": "stdout",
     "output_type": "stream",
     "text": [
      "\n",
      "https://proxy.scrapeops.io/v1/?api_key=&url=https%3A%2F%2Fwww.fanfiction.net%2Fs%2F13090545%2F1%2FTo-A-Great-Mind-Nothing-Is-Little\n",
      "\n",
      "https://proxy.scrapeops.io/v1/?api_key=&url=https%3A%2F%2Fwww.fanfiction.net%2Fs%2F13929823%2F1%2FNomen-Omen\n"
     ]
    },
    {
     "name": "stderr",
     "output_type": "stream",
     "text": [
      "2024-12-04 10:38:17 [scrapy.core.engine] DEBUG: Crawled (200) <GET https://proxy.scrapeops.io/v1/?api_key=&url=https%3A%2F%2Fwww.fanfiction.net%2Fs%2F13997917%2F1%2FL-Amour-Fraternel> (referer: https://steamdb.info/graph/)\n",
      "2024-12-04 10:38:17 [scrapy.spidermiddlewares.httperror] INFO: Ignoring response <400 https://proxy.scrapeops.io/v1/?api_key=&url=https%3A%2F%2Fproxy.scrapeops.io%2Fv1%2F%3Fapi_key%3D%26url%3Dhttps%253A%2F%2Fwww.fanfiction.net%2Fs%2F13997392%2F2%2FBelieve-Me>: HTTP status code is not handled or not allowed\n"
     ]
    },
    {
     "name": "stdout",
     "output_type": "stream",
     "text": [
      "\n"
     ]
    },
    {
     "name": "stderr",
     "output_type": "stream",
     "text": [
      "2024-12-04 10:38:18 [scrapy.core.engine] DEBUG: Crawled (200) <GET https://proxy.scrapeops.io/v1/?api_key=&url=https%3A%2F%2Fwww.fanfiction.net%2Ftv%2FSherlock%2F%3F%26srt%3D1%26r%3D103%26p%3D19> (referer: https://steamdb.info/graph/)\n",
      "2024-12-04 10:38:18 [scrapy.core.engine] DEBUG: Crawled (200) <GET https://proxy.scrapeops.io/v1/?api_key=&url=https%3A%2F%2Fwww.fanfiction.net%2Fs%2F13980053%2F1%2FWell-Deserved-Rest-for-the-Brilliant> (referer: https://steamdb.info/graph/)\n",
      "2024-12-04 10:38:18 [scrapy.core.engine] DEBUG: Crawled (200) <GET https://proxy.scrapeops.io/v1/?api_key=&url=https%3A%2F%2Fwww.fanfiction.net%2Fs%2F14002861%2F1%2FMy-Love-Song-To-You> (referer: https://steamdb.info/graph/)\n"
     ]
    },
    {
     "name": "stdout",
     "output_type": "stream",
     "text": [
      "25\n",
      "\n",
      "https://proxy.scrapeops.io/v1/?api_key=&url=https%3A%2F%2Fwww.fanfiction.net%2Fs%2F13980053%2F1%2FWell-Deserved-Rest-for-the-Brilliant\n",
      "\n",
      "https://proxy.scrapeops.io/v1/?api_key=&url=https%3A%2F%2Fwww.fanfiction.net%2Fs%2F14002861%2F1%2FMy-Love-Song-To-You\n"
     ]
    },
    {
     "name": "stderr",
     "output_type": "stream",
     "text": [
      "2024-12-04 10:38:19 [scrapy.core.engine] DEBUG: Crawled (200) <GET https://proxy.scrapeops.io/v1/?api_key=&url=https%3A%2F%2Fwww.fanfiction.net%2Fs%2F13981368%2F1%2FThe-Head-The-Heart-Are-Caught-In-Between> (referer: https://steamdb.info/graph/)\n",
      "2024-12-04 10:38:19 [scrapy.core.engine] DEBUG: Crawled (200) <GET https://proxy.scrapeops.io/v1/?api_key=&url=https%3A%2F%2Fwww.fanfiction.net%2Fs%2F13981553%2F1%2FRest-for-the-soul> (referer: https://steamdb.info/graph/)\n"
     ]
    },
    {
     "name": "stdout",
     "output_type": "stream",
     "text": [
      "\n",
      "https://proxy.scrapeops.io/v1/?api_key=&url=https%3A%2F%2Fwww.fanfiction.net%2Fs%2F13981368%2F1%2FThe-Head-The-Heart-Are-Caught-In-Between\n",
      "\n",
      "https://proxy.scrapeops.io/v1/?api_key=&url=https%3A%2F%2Fwww.fanfiction.net%2Fs%2F13981553%2F1%2FRest-for-the-soul\n"
     ]
    },
    {
     "name": "stderr",
     "output_type": "stream",
     "text": [
      "2024-12-04 10:38:19 [scrapy.core.engine] DEBUG: Crawled (200) <GET https://proxy.scrapeops.io/v1/?api_key=&url=https%3A%2F%2Fwww.fanfiction.net%2Fs%2F13982418%2F1%2FMash> (referer: https://steamdb.info/graph/)\n",
      "2024-12-04 10:38:20 [scrapy.core.engine] DEBUG: Crawled (400) <GET https://proxy.scrapeops.io/v1/?api_key=&url=https%3A%2F%2Fproxy.scrapeops.io%2Fv1%2F%3Fapi_key%3D%26url%3Dhttps%253A%2F%2Fwww.fanfiction.net%2Fs%2F13090545%2F2%2FTo-A-Great-Mind-Nothing-Is-Little> (referer: https://steamdb.info/graph/)\n",
      "2024-12-04 10:38:20 [scrapy.core.engine] DEBUG: Crawled (200) <GET https://proxy.scrapeops.io/v1/?api_key=&url=https%3A%2F%2Fwww.fanfiction.net%2Fs%2F13983328%2F1%2FEven-Pathologists-Are-Afraid-of-Something> (referer: https://steamdb.info/graph/)\n",
      "2024-12-04 10:38:20 [scrapy.core.engine] DEBUG: Crawled (400) <GET https://proxy.scrapeops.io/v1/?api_key=&url=https%3A%2F%2Fproxy.scrapeops.io%2Fv1%2F%3Fapi_key%3D%26url%3Dhttps%253A%2F%2Fwww.fanfiction.net%2Fs%2F13929823%2F2%2FNomen-Omen> (referer: https://steamdb.info/graph/)\n",
      "2024-12-04 10:38:20 [scrapy.spidermiddlewares.httperror] INFO: Ignoring response <400 https://proxy.scrapeops.io/v1/?api_key=&url=https%3A%2F%2Fproxy.scrapeops.io%2Fv1%2F%3Fapi_key%3D%26url%3Dhttps%253A%2F%2Fwww.fanfiction.net%2Fs%2F13090545%2F2%2FTo-A-Great-Mind-Nothing-Is-Little>: HTTP status code is not handled or not allowed\n",
      "2024-12-04 10:38:20 [scrapy.spidermiddlewares.httperror] INFO: Ignoring response <400 https://proxy.scrapeops.io/v1/?api_key=&url=https%3A%2F%2Fproxy.scrapeops.io%2Fv1%2F%3Fapi_key%3D%26url%3Dhttps%253A%2F%2Fwww.fanfiction.net%2Fs%2F13929823%2F2%2FNomen-Omen>: HTTP status code is not handled or not allowed\n"
     ]
    },
    {
     "name": "stdout",
     "output_type": "stream",
     "text": [
      "\n",
      "https://proxy.scrapeops.io/v1/?api_key=&url=https%3A%2F%2Fwww.fanfiction.net%2Fs%2F13982418%2F1%2FMash\n",
      "\n",
      "https://proxy.scrapeops.io/v1/?api_key=&url=https%3A%2F%2Fwww.fanfiction.net%2Fs%2F13983328%2F1%2FEven-Pathologists-Are-Afraid-of-Something\n"
     ]
    },
    {
     "name": "stderr",
     "output_type": "stream",
     "text": [
      "2024-12-04 10:38:20 [scrapy.core.engine] DEBUG: Crawled (200) <GET https://proxy.scrapeops.io/v1/?api_key=&url=https%3A%2F%2Fwww.fanfiction.net%2Fs%2F13983244%2F1%2FLoved-You-Then-Love-You-Still-Always-Have-Always-Will> (referer: https://steamdb.info/graph/)\n"
     ]
    },
    {
     "name": "stdout",
     "output_type": "stream",
     "text": [
      "\n",
      "https://proxy.scrapeops.io/v1/?api_key=&url=https%3A%2F%2Fwww.fanfiction.net%2Fs%2F13983244%2F1%2FLoved-You-Then-Love-You-Still-Always-Have-Always-Will\n"
     ]
    },
    {
     "name": "stderr",
     "output_type": "stream",
     "text": [
      "2024-12-04 10:38:21 [scrapy.core.engine] DEBUG: Crawled (200) <GET https://proxy.scrapeops.io/v1/?api_key=&url=https%3A%2F%2Fwww.fanfiction.net%2Fs%2F13983732%2F1%2FBlood> (referer: https://steamdb.info/graph/)\n",
      "2024-12-04 10:38:21 [scrapy.downloadermiddlewares.retry] DEBUG: Retrying <GET https://proxy.scrapeops.io/v1/?api_key=&url=https%3A%2F%2Fwww.fanfiction.net%2Fs%2F13980868%2F1%2FVeilleur-TRANSLATION-of-Adalas> (failed 1 times): 429 Unknown Status\n",
      "2024-12-04 10:38:21 [scrapy.core.engine] DEBUG: Crawled (200) <GET https://proxy.scrapeops.io/v1/?api_key=&url=https%3A%2F%2Fwww.fanfiction.net%2Fs%2F13986254%2F1%2FVampire-Lock> (referer: https://steamdb.info/graph/)\n",
      "2024-12-04 10:38:21 [scrapy.core.engine] DEBUG: Crawled (400) <GET https://proxy.scrapeops.io/v1/?api_key=&url=https%3A%2F%2Fproxy.scrapeops.io%2Fv1%2F%3Fapi_key%3D%26url%3Dhttps%253A%2F%2Fwww.fanfiction.net%2Fs%2F14002861%2F2%2FMy-Love-Song-To-You> (referer: https://steamdb.info/graph/)\n"
     ]
    },
    {
     "name": "stdout",
     "output_type": "stream",
     "text": [
      "\n",
      "https://proxy.scrapeops.io/v1/?api_key=&url=https%3A%2F%2Fwww.fanfiction.net%2Fs%2F13983732%2F1%2FBlood\n"
     ]
    },
    {
     "name": "stderr",
     "output_type": "stream",
     "text": [
      "2024-12-04 10:38:21 [scrapy.core.engine] DEBUG: Crawled (200) <GET https://proxy.scrapeops.io/v1/?api_key=&url=https%3A%2F%2Fwww.fanfiction.net%2Fs%2F13986712%2F1%2FA-Holmes-Family-Halloween> (referer: https://steamdb.info/graph/)\n",
      "2024-12-04 10:38:21 [scrapy.core.engine] DEBUG: Crawled (400) <GET https://proxy.scrapeops.io/v1/?api_key=&url=https%3A%2F%2Fproxy.scrapeops.io%2Fv1%2F%3Fapi_key%3D%26url%3Dhttps%253A%2F%2Fwww.fanfiction.net%2Fs%2F13980053%2F2%2FWell-Deserved-Rest-for-the-Brilliant> (referer: https://steamdb.info/graph/)\n",
      "2024-12-04 10:38:21 [scrapy.core.engine] DEBUG: Crawled (400) <GET https://proxy.scrapeops.io/v1/?api_key=&url=https%3A%2F%2Fproxy.scrapeops.io%2Fv1%2F%3Fapi_key%3D%26url%3Dhttps%253A%2F%2Fwww.fanfiction.net%2Fs%2F13981553%2F2%2FRest-for-the-soul> (referer: https://steamdb.info/graph/)\n",
      "2024-12-04 10:38:21 [scrapy.core.engine] DEBUG: Crawled (200) <GET https://proxy.scrapeops.io/v1/?api_key=&url=https%3A%2F%2Fwww.fanfiction.net%2Fs%2F9823295%2F1%2FDos-libras-de-m%25C3%25A1s> (referer: https://steamdb.info/graph/)\n",
      "2024-12-04 10:38:21 [scrapy.core.engine] DEBUG: Crawled (400) <GET https://proxy.scrapeops.io/v1/?api_key=&url=https%3A%2F%2Fproxy.scrapeops.io%2Fv1%2F%3Fapi_key%3D%26url%3Dhttps%253A%2F%2Fwww.fanfiction.net%2Fs%2F13981368%2F2%2FThe-Head-The-Heart-Are-Caught-In-Between> (referer: https://steamdb.info/graph/)\n",
      "2024-12-04 10:38:21 [scrapy.spidermiddlewares.httperror] INFO: Ignoring response <400 https://proxy.scrapeops.io/v1/?api_key=&url=https%3A%2F%2Fproxy.scrapeops.io%2Fv1%2F%3Fapi_key%3D%26url%3Dhttps%253A%2F%2Fwww.fanfiction.net%2Fs%2F14002861%2F2%2FMy-Love-Song-To-You>: HTTP status code is not handled or not allowed\n",
      "2024-12-04 10:38:21 [scrapy.core.engine] DEBUG: Crawled (400) <GET https://proxy.scrapeops.io/v1/?api_key=&url=https%3A%2F%2Fproxy.scrapeops.io%2Fv1%2F%3Fapi_key%3D%26url%3Dhttps%253A%2F%2Fwww.fanfiction.net%2Fs%2F13982418%2F2%2FMash> (referer: https://steamdb.info/graph/)\n",
      "2024-12-04 10:38:21 [scrapy.spidermiddlewares.httperror] INFO: Ignoring response <400 https://proxy.scrapeops.io/v1/?api_key=&url=https%3A%2F%2Fproxy.scrapeops.io%2Fv1%2F%3Fapi_key%3D%26url%3Dhttps%253A%2F%2Fwww.fanfiction.net%2Fs%2F13980053%2F2%2FWell-Deserved-Rest-for-the-Brilliant>: HTTP status code is not handled or not allowed\n",
      "2024-12-04 10:38:21 [scrapy.spidermiddlewares.httperror] INFO: Ignoring response <400 https://proxy.scrapeops.io/v1/?api_key=&url=https%3A%2F%2Fproxy.scrapeops.io%2Fv1%2F%3Fapi_key%3D%26url%3Dhttps%253A%2F%2Fwww.fanfiction.net%2Fs%2F13981553%2F2%2FRest-for-the-soul>: HTTP status code is not handled or not allowed\n",
      "2024-12-04 10:38:21 [scrapy.core.engine] DEBUG: Crawled (200) <GET https://proxy.scrapeops.io/v1/?api_key=&url=https%3A%2F%2Fwww.fanfiction.net%2Fs%2F13358994%2F1%2FThe-Emotional-Children-Wattpad-Exclusive-for-One-Calendar-Year> (referer: https://steamdb.info/graph/)\n",
      "2024-12-04 10:38:22 [scrapy.core.engine] DEBUG: Crawled (400) <GET https://proxy.scrapeops.io/v1/?api_key=&url=https%3A%2F%2Fproxy.scrapeops.io%2Fv1%2F%3Fapi_key%3D%26url%3Dhttps%253A%2F%2Fwww.fanfiction.net%2Fs%2F13983244%2F2%2FLoved-You-Then-Love-You-Still-Always-Have-Always-Will> (referer: https://steamdb.info/graph/)\n",
      "2024-12-04 10:38:22 [scrapy.spidermiddlewares.httperror] INFO: Ignoring response <400 https://proxy.scrapeops.io/v1/?api_key=&url=https%3A%2F%2Fproxy.scrapeops.io%2Fv1%2F%3Fapi_key%3D%26url%3Dhttps%253A%2F%2Fwww.fanfiction.net%2Fs%2F13981368%2F2%2FThe-Head-The-Heart-Are-Caught-In-Between>: HTTP status code is not handled or not allowed\n",
      "2024-12-04 10:38:22 [scrapy.core.engine] DEBUG: Crawled (400) <GET https://proxy.scrapeops.io/v1/?api_key=&url=https%3A%2F%2Fproxy.scrapeops.io%2Fv1%2F%3Fapi_key%3D%26url%3Dhttps%253A%2F%2Fwww.fanfiction.net%2Fs%2F13983328%2F2%2FEven-Pathologists-Are-Afraid-of-Something> (referer: https://steamdb.info/graph/)\n",
      "2024-12-04 10:38:22 [scrapy.core.engine] DEBUG: Crawled (400) <GET https://proxy.scrapeops.io/v1/?api_key=&url=https%3A%2F%2Fproxy.scrapeops.io%2Fv1%2F%3Fapi_key%3D%26url%3Dhttps%253A%2F%2Fwww.fanfiction.net%2Fs%2F13983732%2F2%2FBlood> (referer: https://steamdb.info/graph/)\n",
      "2024-12-04 10:38:22 [scrapy.spidermiddlewares.httperror] INFO: Ignoring response <400 https://proxy.scrapeops.io/v1/?api_key=&url=https%3A%2F%2Fproxy.scrapeops.io%2Fv1%2F%3Fapi_key%3D%26url%3Dhttps%253A%2F%2Fwww.fanfiction.net%2Fs%2F13982418%2F2%2FMash>: HTTP status code is not handled or not allowed\n"
     ]
    },
    {
     "name": "stdout",
     "output_type": "stream",
     "text": [
      "\n",
      "\n",
      "https://proxy.scrapeops.io/v1/?api_key=&url=https%3A%2F%2Fwww.fanfiction.net%2Fs%2F13986712%2F1%2FA-Holmes-Family-Halloween\n",
      "\n",
      "\n",
      "https://proxy.scrapeops.io/v1/?api_key=&url=https%3A%2F%2Fwww.fanfiction.net%2Fs%2F13358994%2F1%2FThe-Emotional-Children-Wattpad-Exclusive-for-One-Calendar-Year\n"
     ]
    },
    {
     "name": "stderr",
     "output_type": "stream",
     "text": [
      "2024-12-04 10:38:22 [scrapy.spidermiddlewares.httperror] INFO: Ignoring response <400 https://proxy.scrapeops.io/v1/?api_key=&url=https%3A%2F%2Fproxy.scrapeops.io%2Fv1%2F%3Fapi_key%3D%26url%3Dhttps%253A%2F%2Fwww.fanfiction.net%2Fs%2F13983244%2F2%2FLoved-You-Then-Love-You-Still-Always-Have-Always-Will>: HTTP status code is not handled or not allowed\n",
      "2024-12-04 10:38:22 [scrapy.spidermiddlewares.httperror] INFO: Ignoring response <400 https://proxy.scrapeops.io/v1/?api_key=&url=https%3A%2F%2Fproxy.scrapeops.io%2Fv1%2F%3Fapi_key%3D%26url%3Dhttps%253A%2F%2Fwww.fanfiction.net%2Fs%2F13983328%2F2%2FEven-Pathologists-Are-Afraid-of-Something>: HTTP status code is not handled or not allowed\n",
      "2024-12-04 10:38:22 [scrapy.spidermiddlewares.httperror] INFO: Ignoring response <400 https://proxy.scrapeops.io/v1/?api_key=&url=https%3A%2F%2Fproxy.scrapeops.io%2Fv1%2F%3Fapi_key%3D%26url%3Dhttps%253A%2F%2Fwww.fanfiction.net%2Fs%2F13983732%2F2%2FBlood>: HTTP status code is not handled or not allowed\n",
      "2024-12-04 10:38:22 [scrapy.downloadermiddlewares.retry] DEBUG: Retrying <GET https://proxy.scrapeops.io/v1/?api_key=&url=https%3A%2F%2Fwww.fanfiction.net%2Fs%2F13981745%2F1%2FHalloween-at-221B> (failed 1 times): 429 Unknown Status\n",
      "2024-12-04 10:38:23 [scrapy.core.engine] DEBUG: Crawled (200) <GET https://proxy.scrapeops.io/v1/?api_key=&url=https%3A%2F%2Fwww.fanfiction.net%2Fs%2F13938020%2F1%2FRest-In-The-Sweetest-of-Peace-Mrs-Martha-Hudson> (referer: https://steamdb.info/graph/)\n"
     ]
    },
    {
     "name": "stdout",
     "output_type": "stream",
     "text": [
      "\n",
      "https://proxy.scrapeops.io/v1/?api_key=&url=https%3A%2F%2Fwww.fanfiction.net%2Fs%2F13938020%2F1%2FRest-In-The-Sweetest-of-Peace-Mrs-Martha-Hudson\n"
     ]
    },
    {
     "name": "stderr",
     "output_type": "stream",
     "text": [
      "2024-12-04 10:38:23 [scrapy.core.engine] DEBUG: Crawled (200) <GET https://proxy.scrapeops.io/v1/?api_key=&url=https%3A%2F%2Fwww.fanfiction.net%2Fs%2F13968407%2F1%2FBleeding-Hearts> (referer: https://steamdb.info/graph/)\n",
      "2024-12-04 10:38:23 [scrapy.core.engine] DEBUG: Crawled (200) <GET https://proxy.scrapeops.io/v1/?api_key=&url=https%3A%2F%2Fwww.fanfiction.net%2Fs%2F13969436%2F1%2FGingernuts-and-Honey-Buns> (referer: https://steamdb.info/graph/)\n",
      "2024-12-04 10:38:23 [scrapy.core.engine] DEBUG: Crawled (400) <GET https://proxy.scrapeops.io/v1/?api_key=&url=https%3A%2F%2Fproxy.scrapeops.io%2Fv1%2F%3Fapi_key%3D%26url%3Dhttps%253A%2F%2Fwww.fanfiction.net%2Fs%2F13986712%2F2%2FA-Holmes-Family-Halloween> (referer: https://steamdb.info/graph/)\n",
      "2024-12-04 10:38:23 [scrapy.core.engine] DEBUG: Crawled (200) <GET https://proxy.scrapeops.io/v1/?api_key=&url=https%3A%2F%2Fwww.fanfiction.net%2Fs%2F13969476%2F1%2FRevisited-Message> (referer: https://steamdb.info/graph/)\n",
      "2024-12-04 10:38:23 [scrapy.spidermiddlewares.httperror] INFO: Ignoring response <400 https://proxy.scrapeops.io/v1/?api_key=&url=https%3A%2F%2Fproxy.scrapeops.io%2Fv1%2F%3Fapi_key%3D%26url%3Dhttps%253A%2F%2Fwww.fanfiction.net%2Fs%2F13986712%2F2%2FA-Holmes-Family-Halloween>: HTTP status code is not handled or not allowed\n"
     ]
    },
    {
     "name": "stdout",
     "output_type": "stream",
     "text": [
      "\n",
      "https://proxy.scrapeops.io/v1/?api_key=&url=https%3A%2F%2Fwww.fanfiction.net%2Fs%2F13968407%2F1%2FBleeding-Hearts\n",
      "\n",
      "https://proxy.scrapeops.io/v1/?api_key=&url=https%3A%2F%2Fwww.fanfiction.net%2Fs%2F13969436%2F1%2FGingernuts-and-Honey-Buns\n",
      "\n",
      "https://proxy.scrapeops.io/v1/?api_key=&url=https%3A%2F%2Fwww.fanfiction.net%2Fs%2F13969476%2F1%2FRevisited-Message\n"
     ]
    },
    {
     "name": "stderr",
     "output_type": "stream",
     "text": [
      "2024-12-04 10:38:24 [scrapy.core.engine] DEBUG: Crawled (200) <GET https://proxy.scrapeops.io/v1/?api_key=&url=https%3A%2F%2Fwww.fanfiction.net%2Fs%2F13967688%2F1%2FI-Find-Warmth-In-Your-Arms-Like-The-Sunrise-On-Our-Faces> (referer: https://steamdb.info/graph/)\n"
     ]
    },
    {
     "name": "stdout",
     "output_type": "stream",
     "text": [
      "\n",
      "https://proxy.scrapeops.io/v1/?api_key=&url=https%3A%2F%2Fwww.fanfiction.net%2Fs%2F13967688%2F1%2FI-Find-Warmth-In-Your-Arms-Like-The-Sunrise-On-Our-Faces\n"
     ]
    },
    {
     "name": "stderr",
     "output_type": "stream",
     "text": [
      "2024-12-04 10:38:25 [scrapy.core.engine] DEBUG: Crawled (200) <GET https://proxy.scrapeops.io/v1/?api_key=&url=https%3A%2F%2Fwww.fanfiction.net%2Fs%2F13971242%2F1%2FIt-Should-Have-Been-Me> (referer: https://steamdb.info/graph/)\n",
      "2024-12-04 10:38:25 [scrapy.core.engine] DEBUG: Crawled (200) <GET https://proxy.scrapeops.io/v1/?api_key=&url=https%3A%2F%2Fwww.fanfiction.net%2Fs%2F13971725%2F1%2FThe-Love-of-A-Daughter> (referer: https://steamdb.info/graph/)\n",
      "2024-12-04 10:38:25 [scrapy.core.engine] DEBUG: Crawled (400) <GET https://proxy.scrapeops.io/v1/?api_key=&url=https%3A%2F%2Fproxy.scrapeops.io%2Fv1%2F%3Fapi_key%3D%26url%3Dhttps%253A%2F%2Fwww.fanfiction.net%2Fs%2F13358994%2F2%2FThe-Emotional-Children-Wattpad-Exclusive-for-One-Calendar-Year> (referer: https://steamdb.info/graph/)\n"
     ]
    },
    {
     "name": "stdout",
     "output_type": "stream",
     "text": [
      "\n",
      "https://proxy.scrapeops.io/v1/?api_key=&url=https%3A%2F%2Fwww.fanfiction.net%2Fs%2F13971242%2F1%2FIt-Should-Have-Been-Me\n"
     ]
    },
    {
     "name": "stderr",
     "output_type": "stream",
     "text": [
      "2024-12-04 10:38:25 [scrapy.core.engine] DEBUG: Crawled (200) <GET https://proxy.scrapeops.io/v1/?api_key=&url=https%3A%2F%2Fwww.fanfiction.net%2Fs%2F13971894%2F1%2FMastermind> (referer: https://steamdb.info/graph/)\n",
      "2024-12-04 10:38:25 [scrapy.spidermiddlewares.httperror] INFO: Ignoring response <400 https://proxy.scrapeops.io/v1/?api_key=&url=https%3A%2F%2Fproxy.scrapeops.io%2Fv1%2F%3Fapi_key%3D%26url%3Dhttps%253A%2F%2Fwww.fanfiction.net%2Fs%2F13358994%2F2%2FThe-Emotional-Children-Wattpad-Exclusive-for-One-Calendar-Year>: HTTP status code is not handled or not allowed\n",
      "2024-12-04 10:38:25 [scrapy.core.engine] DEBUG: Crawled (400) <GET https://proxy.scrapeops.io/v1/?api_key=&url=https%3A%2F%2Fproxy.scrapeops.io%2Fv1%2F%3Fapi_key%3D%26url%3Dhttps%253A%2F%2Fwww.fanfiction.net%2Fs%2F13938020%2F2%2FRest-In-The-Sweetest-of-Peace-Mrs-Martha-Hudson> (referer: https://steamdb.info/graph/)\n"
     ]
    },
    {
     "name": "stdout",
     "output_type": "stream",
     "text": [
      "\n",
      "https://proxy.scrapeops.io/v1/?api_key=&url=https%3A%2F%2Fwww.fanfiction.net%2Fs%2F13971725%2F1%2FThe-Love-of-A-Daughter\n",
      "\n",
      "https://proxy.scrapeops.io/v1/?api_key=&url=https%3A%2F%2Fwww.fanfiction.net%2Fs%2F13971894%2F1%2FMastermind\n"
     ]
    },
    {
     "name": "stderr",
     "output_type": "stream",
     "text": [
      "2024-12-04 10:38:25 [scrapy.spidermiddlewares.httperror] INFO: Ignoring response <400 https://proxy.scrapeops.io/v1/?api_key=&url=https%3A%2F%2Fproxy.scrapeops.io%2Fv1%2F%3Fapi_key%3D%26url%3Dhttps%253A%2F%2Fwww.fanfiction.net%2Fs%2F13938020%2F2%2FRest-In-The-Sweetest-of-Peace-Mrs-Martha-Hudson>: HTTP status code is not handled or not allowed\n",
      "2024-12-04 10:38:26 [scrapy.core.engine] DEBUG: Crawled (200) <GET https://proxy.scrapeops.io/v1/?api_key=&url=https%3A%2F%2Fwww.fanfiction.net%2Fs%2F13972058%2F1%2FAll-About-Mary> (referer: https://steamdb.info/graph/)\n",
      "2024-12-04 10:38:26 [scrapy.core.engine] DEBUG: Crawled (400) <GET https://proxy.scrapeops.io/v1/?api_key=&url=https%3A%2F%2Fproxy.scrapeops.io%2Fv1%2F%3Fapi_key%3D%26url%3Dhttps%253A%2F%2Fwww.fanfiction.net%2Fs%2F13968407%2F2%2FBleeding-Hearts> (referer: https://steamdb.info/graph/)\n",
      "2024-12-04 10:38:26 [scrapy.core.engine] DEBUG: Crawled (400) <GET https://proxy.scrapeops.io/v1/?api_key=&url=https%3A%2F%2Fproxy.scrapeops.io%2Fv1%2F%3Fapi_key%3D%26url%3Dhttps%253A%2F%2Fwww.fanfiction.net%2Fs%2F13969436%2F2%2FGingernuts-and-Honey-Buns> (referer: https://steamdb.info/graph/)\n",
      "2024-12-04 10:38:26 [scrapy.spidermiddlewares.httperror] INFO: Ignoring response <400 https://proxy.scrapeops.io/v1/?api_key=&url=https%3A%2F%2Fproxy.scrapeops.io%2Fv1%2F%3Fapi_key%3D%26url%3Dhttps%253A%2F%2Fwww.fanfiction.net%2Fs%2F13968407%2F2%2FBleeding-Hearts>: HTTP status code is not handled or not allowed\n",
      "2024-12-04 10:38:26 [scrapy.core.engine] DEBUG: Crawled (400) <GET https://proxy.scrapeops.io/v1/?api_key=&url=https%3A%2F%2Fproxy.scrapeops.io%2Fv1%2F%3Fapi_key%3D%26url%3Dhttps%253A%2F%2Fwww.fanfiction.net%2Fs%2F13969476%2F2%2FRevisited-Message> (referer: https://steamdb.info/graph/)\n",
      "2024-12-04 10:38:26 [scrapy.spidermiddlewares.httperror] INFO: Ignoring response <400 https://proxy.scrapeops.io/v1/?api_key=&url=https%3A%2F%2Fproxy.scrapeops.io%2Fv1%2F%3Fapi_key%3D%26url%3Dhttps%253A%2F%2Fwww.fanfiction.net%2Fs%2F13969436%2F2%2FGingernuts-and-Honey-Buns>: HTTP status code is not handled or not allowed\n",
      "2024-12-04 10:38:26 [scrapy.core.engine] DEBUG: Crawled (200) <GET https://proxy.scrapeops.io/v1/?api_key=&url=https%3A%2F%2Fwww.fanfiction.net%2Fs%2F13981355%2F1%2FThe-Joys-of-Knitting> (referer: https://steamdb.info/graph/)\n",
      "2024-12-04 10:38:26 [scrapy.core.engine] DEBUG: Crawled (200) <GET https://proxy.scrapeops.io/v1/?api_key=&url=https%3A%2F%2Fwww.fanfiction.net%2Fs%2F13972067%2F1%2FThe-Importance-of-Family> (referer: https://steamdb.info/graph/)\n"
     ]
    },
    {
     "name": "stdout",
     "output_type": "stream",
     "text": [
      "\n",
      "https://proxy.scrapeops.io/v1/?api_key=&url=https%3A%2F%2Fwww.fanfiction.net%2Fs%2F13972058%2F1%2FAll-About-Mary\n"
     ]
    },
    {
     "name": "stderr",
     "output_type": "stream",
     "text": [
      "2024-12-04 10:38:26 [scrapy.core.engine] DEBUG: Crawled (400) <GET https://proxy.scrapeops.io/v1/?api_key=&url=https%3A%2F%2Fproxy.scrapeops.io%2Fv1%2F%3Fapi_key%3D%26url%3Dhttps%253A%2F%2Fwww.fanfiction.net%2Fs%2F13967688%2F2%2FI-Find-Warmth-In-Your-Arms-Like-The-Sunrise-On-Our-Faces> (referer: https://steamdb.info/graph/)\n",
      "2024-12-04 10:38:26 [scrapy.spidermiddlewares.httperror] INFO: Ignoring response <400 https://proxy.scrapeops.io/v1/?api_key=&url=https%3A%2F%2Fproxy.scrapeops.io%2Fv1%2F%3Fapi_key%3D%26url%3Dhttps%253A%2F%2Fwww.fanfiction.net%2Fs%2F13969476%2F2%2FRevisited-Message>: HTTP status code is not handled or not allowed\n",
      "2024-12-04 10:38:26 [scrapy.core.engine] DEBUG: Crawled (400) <GET https://proxy.scrapeops.io/v1/?api_key=&url=https%3A%2F%2Fproxy.scrapeops.io%2Fv1%2F%3Fapi_key%3D%26url%3Dhttps%253A%2F%2Fwww.fanfiction.net%2Fs%2F13971242%2F2%2FIt-Should-Have-Been-Me> (referer: https://steamdb.info/graph/)\n",
      "2024-12-04 10:38:26 [scrapy.core.engine] DEBUG: Crawled (400) <GET https://proxy.scrapeops.io/v1/?api_key=&url=https%3A%2F%2Fproxy.scrapeops.io%2Fv1%2F%3Fapi_key%3D%26url%3Dhttps%253A%2F%2Fwww.fanfiction.net%2Fs%2F13971725%2F2%2FThe-Love-of-A-Daughter> (referer: https://steamdb.info/graph/)\n",
      "2024-12-04 10:38:26 [scrapy.spidermiddlewares.httperror] INFO: Ignoring response <400 https://proxy.scrapeops.io/v1/?api_key=&url=https%3A%2F%2Fproxy.scrapeops.io%2Fv1%2F%3Fapi_key%3D%26url%3Dhttps%253A%2F%2Fwww.fanfiction.net%2Fs%2F13967688%2F2%2FI-Find-Warmth-In-Your-Arms-Like-The-Sunrise-On-Our-Faces>: HTTP status code is not handled or not allowed\n",
      "2024-12-04 10:38:27 [scrapy.spidermiddlewares.httperror] INFO: Ignoring response <400 https://proxy.scrapeops.io/v1/?api_key=&url=https%3A%2F%2Fproxy.scrapeops.io%2Fv1%2F%3Fapi_key%3D%26url%3Dhttps%253A%2F%2Fwww.fanfiction.net%2Fs%2F13971242%2F2%2FIt-Should-Have-Been-Me>: HTTP status code is not handled or not allowed\n",
      "2024-12-04 10:38:27 [scrapy.core.engine] DEBUG: Crawled (400) <GET https://proxy.scrapeops.io/v1/?api_key=&url=https%3A%2F%2Fproxy.scrapeops.io%2Fv1%2F%3Fapi_key%3D%26url%3Dhttps%253A%2F%2Fwww.fanfiction.net%2Fs%2F13971894%2F2%2FMastermind> (referer: https://steamdb.info/graph/)\n",
      "2024-12-04 10:38:27 [scrapy.spidermiddlewares.httperror] INFO: Ignoring response <400 https://proxy.scrapeops.io/v1/?api_key=&url=https%3A%2F%2Fproxy.scrapeops.io%2Fv1%2F%3Fapi_key%3D%26url%3Dhttps%253A%2F%2Fwww.fanfiction.net%2Fs%2F13971725%2F2%2FThe-Love-of-A-Daughter>: HTTP status code is not handled or not allowed\n"
     ]
    },
    {
     "name": "stdout",
     "output_type": "stream",
     "text": [
      "\n",
      "https://proxy.scrapeops.io/v1/?api_key=&url=https%3A%2F%2Fwww.fanfiction.net%2Fs%2F13981355%2F1%2FThe-Joys-of-Knitting\n",
      "\n",
      "https://proxy.scrapeops.io/v1/?api_key=&url=https%3A%2F%2Fwww.fanfiction.net%2Fs%2F13972067%2F1%2FThe-Importance-of-Family\n"
     ]
    },
    {
     "name": "stderr",
     "output_type": "stream",
     "text": [
      "2024-12-04 10:38:27 [scrapy.spidermiddlewares.httperror] INFO: Ignoring response <400 https://proxy.scrapeops.io/v1/?api_key=&url=https%3A%2F%2Fproxy.scrapeops.io%2Fv1%2F%3Fapi_key%3D%26url%3Dhttps%253A%2F%2Fwww.fanfiction.net%2Fs%2F13971894%2F2%2FMastermind>: HTTP status code is not handled or not allowed\n",
      "2024-12-04 10:38:27 [scrapy.core.engine] DEBUG: Crawled (200) <GET https://proxy.scrapeops.io/v1/?api_key=&url=https%3A%2F%2Fwww.fanfiction.net%2Fs%2F13973205%2F1%2FDr-Zombie-Hooper> (referer: https://steamdb.info/graph/)\n",
      "2024-12-04 10:38:27 [scrapy.core.engine] DEBUG: Crawled (400) <GET https://proxy.scrapeops.io/v1/?api_key=&url=https%3A%2F%2Fproxy.scrapeops.io%2Fv1%2F%3Fapi_key%3D%26url%3Dhttps%253A%2F%2Fwww.fanfiction.net%2Fs%2F13972058%2F2%2FAll-About-Mary> (referer: https://steamdb.info/graph/)\n",
      "2024-12-04 10:38:27 [scrapy.spidermiddlewares.httperror] INFO: Ignoring response <400 https://proxy.scrapeops.io/v1/?api_key=&url=https%3A%2F%2Fproxy.scrapeops.io%2Fv1%2F%3Fapi_key%3D%26url%3Dhttps%253A%2F%2Fwww.fanfiction.net%2Fs%2F13972058%2F2%2FAll-About-Mary>: HTTP status code is not handled or not allowed\n",
      "2024-12-04 10:38:27 [scrapy.downloadermiddlewares.retry] DEBUG: Retrying <GET https://proxy.scrapeops.io/v1/?api_key=&url=https%3A%2F%2Fwww.fanfiction.net%2Fs%2F13970032%2F1%2FBest-Friends-Forever> (failed 1 times): 429 Unknown Status\n"
     ]
    },
    {
     "name": "stdout",
     "output_type": "stream",
     "text": [
      "\n",
      "https://proxy.scrapeops.io/v1/?api_key=&url=https%3A%2F%2Fwww.fanfiction.net%2Fs%2F13973205%2F1%2FDr-Zombie-Hooper\n"
     ]
    },
    {
     "name": "stderr",
     "output_type": "stream",
     "text": [
      "2024-12-04 10:38:27 [scrapy.core.engine] DEBUG: Crawled (200) <GET https://proxy.scrapeops.io/v1/?api_key=&url=https%3A%2F%2Fwww.fanfiction.net%2Fs%2F13973096%2F1%2FThe-Moment-Everything-Changed> (referer: https://steamdb.info/graph/)\n"
     ]
    },
    {
     "name": "stdout",
     "output_type": "stream",
     "text": [
      "\n",
      "https://proxy.scrapeops.io/v1/?api_key=&url=https%3A%2F%2Fwww.fanfiction.net%2Fs%2F13973096%2F1%2FThe-Moment-Everything-Changed\n"
     ]
    },
    {
     "name": "stderr",
     "output_type": "stream",
     "text": [
      "2024-12-04 10:38:28 [scrapy.downloadermiddlewares.retry] DEBUG: Retrying <GET https://proxy.scrapeops.io/v1/?api_key=&url=https%3A%2F%2Fwww.fanfiction.net%2Fs%2F13971010%2F1%2FDuly-Noted> (failed 1 times): 429 Unknown Status\n",
      "2024-12-04 10:38:28 [scrapy.core.engine] DEBUG: Crawled (200) <GET https://proxy.scrapeops.io/v1/?api_key=&url=https%3A%2F%2Fwww.fanfiction.net%2Fs%2F13973889%2F1%2FA-Hard-Day-s-Night> (referer: https://steamdb.info/graph/)\n"
     ]
    },
    {
     "name": "stdout",
     "output_type": "stream",
     "text": [
      "\n",
      "https://proxy.scrapeops.io/v1/?api_key=&url=https%3A%2F%2Fwww.fanfiction.net%2Fs%2F13973889%2F1%2FA-Hard-Day-s-Night\n"
     ]
    },
    {
     "name": "stderr",
     "output_type": "stream",
     "text": [
      "2024-12-04 10:38:29 [scrapy.core.engine] DEBUG: Crawled (200) <GET https://proxy.scrapeops.io/v1/?api_key=&url=https%3A%2F%2Fwww.fanfiction.net%2Fs%2F13974650%2F1%2FOh-Molly> (referer: https://steamdb.info/graph/)\n",
      "2024-12-04 10:38:29 [scrapy.core.engine] DEBUG: Crawled (400) <GET https://proxy.scrapeops.io/v1/?api_key=&url=https%3A%2F%2Fproxy.scrapeops.io%2Fv1%2F%3Fapi_key%3D%26url%3Dhttps%253A%2F%2Fwww.fanfiction.net%2Fs%2F13972067%2F2%2FThe-Importance-of-Family> (referer: https://steamdb.info/graph/)\n",
      "2024-12-04 10:38:29 [scrapy.core.engine] DEBUG: Crawled (400) <GET https://proxy.scrapeops.io/v1/?api_key=&url=https%3A%2F%2Fproxy.scrapeops.io%2Fv1%2F%3Fapi_key%3D%26url%3Dhttps%253A%2F%2Fwww.fanfiction.net%2Fs%2F13981355%2F2%2FThe-Joys-of-Knitting> (referer: https://steamdb.info/graph/)\n",
      "2024-12-04 10:38:29 [scrapy.core.engine] DEBUG: Crawled (200) <GET https://proxy.scrapeops.io/v1/?api_key=&url=https%3A%2F%2Fwww.fanfiction.net%2Fs%2F13597161%2F1%2FJourney-to-a-New-Home> (referer: https://steamdb.info/graph/)\n",
      "2024-12-04 10:38:29 [scrapy.spidermiddlewares.httperror] INFO: Ignoring response <400 https://proxy.scrapeops.io/v1/?api_key=&url=https%3A%2F%2Fproxy.scrapeops.io%2Fv1%2F%3Fapi_key%3D%26url%3Dhttps%253A%2F%2Fwww.fanfiction.net%2Fs%2F13972067%2F2%2FThe-Importance-of-Family>: HTTP status code is not handled or not allowed\n",
      "2024-12-04 10:38:29 [scrapy.spidermiddlewares.httperror] INFO: Ignoring response <400 https://proxy.scrapeops.io/v1/?api_key=&url=https%3A%2F%2Fproxy.scrapeops.io%2Fv1%2F%3Fapi_key%3D%26url%3Dhttps%253A%2F%2Fwww.fanfiction.net%2Fs%2F13981355%2F2%2FThe-Joys-of-Knitting>: HTTP status code is not handled or not allowed\n"
     ]
    },
    {
     "name": "stdout",
     "output_type": "stream",
     "text": [
      "\n",
      "https://proxy.scrapeops.io/v1/?api_key=&url=https%3A%2F%2Fwww.fanfiction.net%2Fs%2F13974650%2F1%2FOh-Molly\n",
      "\n",
      "https://proxy.scrapeops.io/v1/?api_key=&url=https%3A%2F%2Fwww.fanfiction.net%2Fs%2F13597161%2F1%2FJourney-to-a-New-Home\n"
     ]
    },
    {
     "name": "stderr",
     "output_type": "stream",
     "text": [
      "2024-12-04 10:38:29 [scrapy.core.engine] DEBUG: Crawled (200) <GET https://proxy.scrapeops.io/v1/?api_key=&url=https%3A%2F%2Fwww.fanfiction.net%2Fs%2F13974952%2F1%2FThe-Sweetest-Sign> (referer: https://steamdb.info/graph/)\n",
      "2024-12-04 10:38:29 [scrapy.core.engine] DEBUG: Crawled (400) <GET https://proxy.scrapeops.io/v1/?api_key=&url=https%3A%2F%2Fproxy.scrapeops.io%2Fv1%2F%3Fapi_key%3D%26url%3Dhttps%253A%2F%2Fwww.fanfiction.net%2Fs%2F13973205%2F2%2FDr-Zombie-Hooper> (referer: https://steamdb.info/graph/)\n",
      "2024-12-04 10:38:29 [scrapy.core.engine] DEBUG: Crawled (200) <GET https://proxy.scrapeops.io/v1/?api_key=&url=https%3A%2F%2Fwww.fanfiction.net%2Fs%2F13976097%2F1%2FPrincesses-and-Superheroes-of-the-Holmes> (referer: https://steamdb.info/graph/)\n",
      "2024-12-04 10:38:29 [scrapy.spidermiddlewares.httperror] INFO: Ignoring response <400 https://proxy.scrapeops.io/v1/?api_key=&url=https%3A%2F%2Fproxy.scrapeops.io%2Fv1%2F%3Fapi_key%3D%26url%3Dhttps%253A%2F%2Fwww.fanfiction.net%2Fs%2F13973205%2F2%2FDr-Zombie-Hooper>: HTTP status code is not handled or not allowed\n",
      "2024-12-04 10:38:29 [scrapy.core.engine] DEBUG: Crawled (400) <GET https://proxy.scrapeops.io/v1/?api_key=&url=https%3A%2F%2Fproxy.scrapeops.io%2Fv1%2F%3Fapi_key%3D%26url%3Dhttps%253A%2F%2Fwww.fanfiction.net%2Fs%2F13973096%2F2%2FThe-Moment-Everything-Changed> (referer: https://steamdb.info/graph/)\n"
     ]
    },
    {
     "name": "stdout",
     "output_type": "stream",
     "text": [
      "\n",
      "https://proxy.scrapeops.io/v1/?api_key=&url=https%3A%2F%2Fwww.fanfiction.net%2Fs%2F13974952%2F1%2FThe-Sweetest-Sign\n",
      "\n",
      "https://proxy.scrapeops.io/v1/?api_key=&url=https%3A%2F%2Fwww.fanfiction.net%2Fs%2F13976097%2F1%2FPrincesses-and-Superheroes-of-the-Holmes\n"
     ]
    },
    {
     "name": "stderr",
     "output_type": "stream",
     "text": [
      "2024-12-04 10:38:29 [scrapy.spidermiddlewares.httperror] INFO: Ignoring response <400 https://proxy.scrapeops.io/v1/?api_key=&url=https%3A%2F%2Fproxy.scrapeops.io%2Fv1%2F%3Fapi_key%3D%26url%3Dhttps%253A%2F%2Fwww.fanfiction.net%2Fs%2F13973096%2F2%2FThe-Moment-Everything-Changed>: HTTP status code is not handled or not allowed\n",
      "2024-12-04 10:38:30 [scrapy.core.engine] DEBUG: Crawled (200) <GET https://proxy.scrapeops.io/v1/?api_key=&url=https%3A%2F%2Fwww.fanfiction.net%2Fs%2F13977308%2F1%2FPatched-Up> (referer: https://steamdb.info/graph/)\n",
      "2024-12-04 10:38:30 [scrapy.core.engine] DEBUG: Crawled (400) <GET https://proxy.scrapeops.io/v1/?api_key=&url=https%3A%2F%2Fproxy.scrapeops.io%2Fv1%2F%3Fapi_key%3D%26url%3Dhttps%253A%2F%2Fwww.fanfiction.net%2Fs%2F13973889%2F2%2FA-Hard-Day-s-Night> (referer: https://steamdb.info/graph/)\n",
      "2024-12-04 10:38:30 [scrapy.spidermiddlewares.httperror] INFO: Ignoring response <400 https://proxy.scrapeops.io/v1/?api_key=&url=https%3A%2F%2Fproxy.scrapeops.io%2Fv1%2F%3Fapi_key%3D%26url%3Dhttps%253A%2F%2Fwww.fanfiction.net%2Fs%2F13973889%2F2%2FA-Hard-Day-s-Night>: HTTP status code is not handled or not allowed\n"
     ]
    },
    {
     "name": "stdout",
     "output_type": "stream",
     "text": [
      "\n",
      "https://proxy.scrapeops.io/v1/?api_key=&url=https%3A%2F%2Fwww.fanfiction.net%2Fs%2F13977308%2F1%2FPatched-Up\n"
     ]
    },
    {
     "name": "stderr",
     "output_type": "stream",
     "text": [
      "2024-12-04 10:38:31 [scrapy.core.engine] DEBUG: Crawled (200) <GET https://proxy.scrapeops.io/v1/?api_key=&url=https%3A%2F%2Fwww.fanfiction.net%2Fs%2F13979744%2F1%2FHomecoming> (referer: https://steamdb.info/graph/)\n",
      "2024-12-04 10:38:31 [scrapy.core.engine] DEBUG: Crawled (200) <GET https://proxy.scrapeops.io/v1/?api_key=&url=https%3A%2F%2Fwww.fanfiction.net%2Fs%2F13978575%2F1%2FHis-Worst-Fear> (referer: https://steamdb.info/graph/)\n",
      "2024-12-04 10:38:31 [scrapy.core.engine] DEBUG: Crawled (400) <GET https://proxy.scrapeops.io/v1/?api_key=&url=https%3A%2F%2Fproxy.scrapeops.io%2Fv1%2F%3Fapi_key%3D%26url%3Dhttps%253A%2F%2Fwww.fanfiction.net%2Fs%2F13974650%2F2%2FOh-Molly> (referer: https://steamdb.info/graph/)\n",
      "2024-12-04 10:38:31 [scrapy.core.engine] DEBUG: Crawled (200) <GET https://proxy.scrapeops.io/v1/?api_key=&url=https%3A%2F%2Fwww.fanfiction.net%2Fs%2F13978498%2F1%2FHands-On-Hands-Off> (referer: https://steamdb.info/graph/)\n",
      "2024-12-04 10:38:31 [scrapy.spidermiddlewares.httperror] INFO: Ignoring response <400 https://proxy.scrapeops.io/v1/?api_key=&url=https%3A%2F%2Fproxy.scrapeops.io%2Fv1%2F%3Fapi_key%3D%26url%3Dhttps%253A%2F%2Fwww.fanfiction.net%2Fs%2F13974650%2F2%2FOh-Molly>: HTTP status code is not handled or not allowed\n",
      "2024-12-04 10:38:31 [scrapy.core.engine] DEBUG: Crawled (400) <GET https://proxy.scrapeops.io/v1/?api_key=&url=https%3A%2F%2Fproxy.scrapeops.io%2Fv1%2F%3Fapi_key%3D%26url%3Dhttps%253A%2F%2Fwww.fanfiction.net%2Fs%2F13597161%2F2%2FJourney-to-a-New-Home> (referer: https://steamdb.info/graph/)\n",
      "2024-12-04 10:38:31 [scrapy.core.engine] DEBUG: Crawled (400) <GET https://proxy.scrapeops.io/v1/?api_key=&url=https%3A%2F%2Fproxy.scrapeops.io%2Fv1%2F%3Fapi_key%3D%26url%3Dhttps%253A%2F%2Fwww.fanfiction.net%2Fs%2F13974952%2F2%2FThe-Sweetest-Sign> (referer: https://steamdb.info/graph/)\n",
      "2024-12-04 10:38:31 [scrapy.spidermiddlewares.httperror] INFO: Ignoring response <400 https://proxy.scrapeops.io/v1/?api_key=&url=https%3A%2F%2Fproxy.scrapeops.io%2Fv1%2F%3Fapi_key%3D%26url%3Dhttps%253A%2F%2Fwww.fanfiction.net%2Fs%2F13597161%2F2%2FJourney-to-a-New-Home>: HTTP status code is not handled or not allowed\n"
     ]
    },
    {
     "name": "stdout",
     "output_type": "stream",
     "text": [
      "\n",
      "https://proxy.scrapeops.io/v1/?api_key=&url=https%3A%2F%2Fwww.fanfiction.net%2Fs%2F13979744%2F1%2FHomecoming\n",
      "\n",
      "https://proxy.scrapeops.io/v1/?api_key=&url=https%3A%2F%2Fwww.fanfiction.net%2Fs%2F13978575%2F1%2FHis-Worst-Fear\n",
      "\n",
      "https://proxy.scrapeops.io/v1/?api_key=&url=https%3A%2F%2Fwww.fanfiction.net%2Fs%2F13978498%2F1%2FHands-On-Hands-Off\n"
     ]
    },
    {
     "name": "stderr",
     "output_type": "stream",
     "text": [
      "2024-12-04 10:38:31 [scrapy.spidermiddlewares.httperror] INFO: Ignoring response <400 https://proxy.scrapeops.io/v1/?api_key=&url=https%3A%2F%2Fproxy.scrapeops.io%2Fv1%2F%3Fapi_key%3D%26url%3Dhttps%253A%2F%2Fwww.fanfiction.net%2Fs%2F13974952%2F2%2FThe-Sweetest-Sign>: HTTP status code is not handled or not allowed\n",
      "2024-12-04 10:38:31 [scrapy.core.engine] DEBUG: Crawled (200) <GET https://proxy.scrapeops.io/v1/?api_key=&url=https%3A%2F%2Fwww.fanfiction.net%2Ftv%2FSherlock%2F%3F%26srt%3D1%26r%3D103%26p%3D20> (referer: https://steamdb.info/graph/)\n",
      "2024-12-04 10:38:32 [scrapy.core.engine] DEBUG: Crawled (400) <GET https://proxy.scrapeops.io/v1/?api_key=&url=https%3A%2F%2Fproxy.scrapeops.io%2Fv1%2F%3Fapi_key%3D%26url%3Dhttps%253A%2F%2Fwww.fanfiction.net%2Fs%2F13976097%2F2%2FPrincesses-and-Superheroes-of-the-Holmes> (referer: https://steamdb.info/graph/)\n",
      "2024-12-04 10:38:32 [scrapy.spidermiddlewares.httperror] INFO: Ignoring response <400 https://proxy.scrapeops.io/v1/?api_key=&url=https%3A%2F%2Fproxy.scrapeops.io%2Fv1%2F%3Fapi_key%3D%26url%3Dhttps%253A%2F%2Fwww.fanfiction.net%2Fs%2F13976097%2F2%2FPrincesses-and-Superheroes-of-the-Holmes>: HTTP status code is not handled or not allowed\n"
     ]
    },
    {
     "name": "stdout",
     "output_type": "stream",
     "text": [
      "25\n"
     ]
    },
    {
     "name": "stderr",
     "output_type": "stream",
     "text": [
      "2024-12-04 10:38:32 [scrapy.core.engine] DEBUG: Crawled (200) <GET https://proxy.scrapeops.io/v1/?api_key=&url=https%3A%2F%2Fwww.fanfiction.net%2Fs%2F13510811%2F1%2FJohn-the-Seeing-Eye-Dog> (referer: https://steamdb.info/graph/)\n",
      "2024-12-04 10:38:32 [scrapy.core.engine] DEBUG: Crawled (200) <GET https://proxy.scrapeops.io/v1/?api_key=&url=https%3A%2F%2Fwww.fanfiction.net%2Fs%2F13979991%2F1%2FThe-Storm-Before-The-Calm> (referer: https://steamdb.info/graph/)\n",
      "2024-12-04 10:38:32 [scrapy.core.engine] DEBUG: Crawled (400) <GET https://proxy.scrapeops.io/v1/?api_key=&url=https%3A%2F%2Fproxy.scrapeops.io%2Fv1%2F%3Fapi_key%3D%26url%3Dhttps%253A%2F%2Fwww.fanfiction.net%2Fs%2F13977308%2F2%2FPatched-Up> (referer: https://steamdb.info/graph/)\n",
      "2024-12-04 10:38:32 [scrapy.spidermiddlewares.httperror] INFO: Ignoring response <400 https://proxy.scrapeops.io/v1/?api_key=&url=https%3A%2F%2Fproxy.scrapeops.io%2Fv1%2F%3Fapi_key%3D%26url%3Dhttps%253A%2F%2Fwww.fanfiction.net%2Fs%2F13977308%2F2%2FPatched-Up>: HTTP status code is not handled or not allowed\n"
     ]
    },
    {
     "name": "stdout",
     "output_type": "stream",
     "text": [
      "\n",
      "https://proxy.scrapeops.io/v1/?api_key=&url=https%3A%2F%2Fwww.fanfiction.net%2Fs%2F13510811%2F1%2FJohn-the-Seeing-Eye-Dog\n",
      "\n",
      "https://proxy.scrapeops.io/v1/?api_key=&url=https%3A%2F%2Fwww.fanfiction.net%2Fs%2F13979991%2F1%2FThe-Storm-Before-The-Calm\n"
     ]
    },
    {
     "name": "stderr",
     "output_type": "stream",
     "text": [
      "2024-12-04 10:38:33 [scrapy.downloadermiddlewares.retry] DEBUG: Retrying <GET https://proxy.scrapeops.io/v1/?api_key=&url=https%3A%2F%2Fwww.fanfiction.net%2Fs%2F13976098%2F1%2FPink-Carnations> (failed 1 times): 429 Unknown Status\n",
      "2024-12-04 10:38:33 [scrapy.core.engine] DEBUG: Crawled (200) <GET https://proxy.scrapeops.io/v1/?api_key=&url=https%3A%2F%2Fwww.fanfiction.net%2Fs%2F13984097%2F1%2FTall-Stories> (referer: https://steamdb.info/graph/)\n",
      "2024-12-04 10:38:33 [scrapy.core.engine] DEBUG: Crawled (400) <GET https://proxy.scrapeops.io/v1/?api_key=&url=https%3A%2F%2Fproxy.scrapeops.io%2Fv1%2F%3Fapi_key%3D%26url%3Dhttps%253A%2F%2Fwww.fanfiction.net%2Fs%2F13978575%2F2%2FHis-Worst-Fear> (referer: https://steamdb.info/graph/)\n",
      "2024-12-04 10:38:33 [scrapy.core.engine] DEBUG: Crawled (400) <GET https://proxy.scrapeops.io/v1/?api_key=&url=https%3A%2F%2Fproxy.scrapeops.io%2Fv1%2F%3Fapi_key%3D%26url%3Dhttps%253A%2F%2Fwww.fanfiction.net%2Fs%2F13979744%2F2%2FHomecoming> (referer: https://steamdb.info/graph/)\n",
      "2024-12-04 10:38:33 [scrapy.spidermiddlewares.httperror] INFO: Ignoring response <400 https://proxy.scrapeops.io/v1/?api_key=&url=https%3A%2F%2Fproxy.scrapeops.io%2Fv1%2F%3Fapi_key%3D%26url%3Dhttps%253A%2F%2Fwww.fanfiction.net%2Fs%2F13978575%2F2%2FHis-Worst-Fear>: HTTP status code is not handled or not allowed\n",
      "2024-12-04 10:38:33 [scrapy.core.engine] DEBUG: Crawled (400) <GET https://proxy.scrapeops.io/v1/?api_key=&url=https%3A%2F%2Fproxy.scrapeops.io%2Fv1%2F%3Fapi_key%3D%26url%3Dhttps%253A%2F%2Fwww.fanfiction.net%2Fs%2F13978498%2F2%2FHands-On-Hands-Off> (referer: https://steamdb.info/graph/)\n",
      "2024-12-04 10:38:33 [scrapy.spidermiddlewares.httperror] INFO: Ignoring response <400 https://proxy.scrapeops.io/v1/?api_key=&url=https%3A%2F%2Fproxy.scrapeops.io%2Fv1%2F%3Fapi_key%3D%26url%3Dhttps%253A%2F%2Fwww.fanfiction.net%2Fs%2F13979744%2F2%2FHomecoming>: HTTP status code is not handled or not allowed\n",
      "2024-12-04 10:38:33 [scrapy.spidermiddlewares.httperror] INFO: Ignoring response <400 https://proxy.scrapeops.io/v1/?api_key=&url=https%3A%2F%2Fproxy.scrapeops.io%2Fv1%2F%3Fapi_key%3D%26url%3Dhttps%253A%2F%2Fwww.fanfiction.net%2Fs%2F13978498%2F2%2FHands-On-Hands-Off>: HTTP status code is not handled or not allowed\n"
     ]
    },
    {
     "name": "stdout",
     "output_type": "stream",
     "text": [
      "\n",
      "https://proxy.scrapeops.io/v1/?api_key=&url=https%3A%2F%2Fwww.fanfiction.net%2Fs%2F13984097%2F1%2FTall-Stories\n"
     ]
    },
    {
     "name": "stderr",
     "output_type": "stream",
     "text": [
      "2024-12-04 10:38:33 [scrapy.downloadermiddlewares.retry] DEBUG: Retrying <GET https://proxy.scrapeops.io/v1/?api_key=&url=https%3A%2F%2Fwww.fanfiction.net%2Fs%2F13977275%2F1%2FSecond-Chances> (failed 1 times): 429 Unknown Status\n",
      "2024-12-04 10:38:33 [scrapy.core.engine] DEBUG: Crawled (200) <GET https://proxy.scrapeops.io/v1/?api_key=&url=https%3A%2F%2Fwww.fanfiction.net%2Fs%2F13857013%2F1%2FNouvelles-holm%25C3%25A9siennes> (referer: https://steamdb.info/graph/)\n",
      "2024-12-04 10:38:34 [scrapy.core.engine] DEBUG: Crawled (200) <GET https://proxy.scrapeops.io/v1/?api_key=&url=https%3A%2F%2Fwww.fanfiction.net%2Fs%2F10644566%2F1%2FThe-Present> (referer: https://steamdb.info/graph/)\n"
     ]
    },
    {
     "name": "stdout",
     "output_type": "stream",
     "text": [
      "\n",
      "\n",
      "https://proxy.scrapeops.io/v1/?api_key=&url=https%3A%2F%2Fwww.fanfiction.net%2Fs%2F10644566%2F1%2FThe-Present\n"
     ]
    },
    {
     "name": "stderr",
     "output_type": "stream",
     "text": [
      "2024-12-04 10:38:34 [scrapy.core.engine] DEBUG: Crawled (200) <GET https://proxy.scrapeops.io/v1/?api_key=&url=https%3A%2F%2Fwww.fanfiction.net%2Fs%2F13992067%2F1%2FSapere-Aude> (referer: https://steamdb.info/graph/)\n",
      "2024-12-04 10:38:34 [scrapy.core.engine] DEBUG: Crawled (400) <GET https://proxy.scrapeops.io/v1/?api_key=&url=https%3A%2F%2Fproxy.scrapeops.io%2Fv1%2F%3Fapi_key%3D%26url%3Dhttps%253A%2F%2Fwww.fanfiction.net%2Fs%2F13979991%2F2%2FThe-Storm-Before-The-Calm> (referer: https://steamdb.info/graph/)\n",
      "2024-12-04 10:38:34 [scrapy.core.engine] DEBUG: Crawled (400) <GET https://proxy.scrapeops.io/v1/?api_key=&url=https%3A%2F%2Fproxy.scrapeops.io%2Fv1%2F%3Fapi_key%3D%26url%3Dhttps%253A%2F%2Fwww.fanfiction.net%2Fs%2F13510811%2F2%2FJohn-the-Seeing-Eye-Dog> (referer: https://steamdb.info/graph/)\n",
      "2024-12-04 10:38:34 [scrapy.spidermiddlewares.httperror] INFO: Ignoring response <400 https://proxy.scrapeops.io/v1/?api_key=&url=https%3A%2F%2Fproxy.scrapeops.io%2Fv1%2F%3Fapi_key%3D%26url%3Dhttps%253A%2F%2Fwww.fanfiction.net%2Fs%2F13979991%2F2%2FThe-Storm-Before-The-Calm>: HTTP status code is not handled or not allowed\n",
      "2024-12-04 10:38:34 [scrapy.spidermiddlewares.httperror] INFO: Ignoring response <400 https://proxy.scrapeops.io/v1/?api_key=&url=https%3A%2F%2Fproxy.scrapeops.io%2Fv1%2F%3Fapi_key%3D%26url%3Dhttps%253A%2F%2Fwww.fanfiction.net%2Fs%2F13510811%2F2%2FJohn-the-Seeing-Eye-Dog>: HTTP status code is not handled or not allowed\n"
     ]
    },
    {
     "name": "stdout",
     "output_type": "stream",
     "text": [
      "\n",
      "https://proxy.scrapeops.io/v1/?api_key=&url=https%3A%2F%2Fwww.fanfiction.net%2Fs%2F13992067%2F1%2FSapere-Aude\n"
     ]
    },
    {
     "name": "stderr",
     "output_type": "stream",
     "text": [
      "2024-12-04 10:38:35 [scrapy.core.engine] DEBUG: Crawled (200) <GET https://proxy.scrapeops.io/v1/?api_key=&url=https%3A%2F%2Fwww.fanfiction.net%2Fs%2F13987161%2F1%2FHis-Lionheart> (referer: https://steamdb.info/graph/)\n",
      "2024-12-04 10:38:35 [scrapy.core.engine] DEBUG: Crawled (400) <GET https://proxy.scrapeops.io/v1/?api_key=&url=https%3A%2F%2Fproxy.scrapeops.io%2Fv1%2F%3Fapi_key%3D%26url%3Dhttps%253A%2F%2Fwww.fanfiction.net%2Fs%2F13984097%2F2%2FTall-Stories> (referer: https://steamdb.info/graph/)\n",
      "2024-12-04 10:38:35 [scrapy.spidermiddlewares.httperror] INFO: Ignoring response <400 https://proxy.scrapeops.io/v1/?api_key=&url=https%3A%2F%2Fproxy.scrapeops.io%2Fv1%2F%3Fapi_key%3D%26url%3Dhttps%253A%2F%2Fwww.fanfiction.net%2Fs%2F13984097%2F2%2FTall-Stories>: HTTP status code is not handled or not allowed\n",
      "2024-12-04 10:38:35 [scrapy.core.engine] DEBUG: Crawled (200) <GET https://proxy.scrapeops.io/v1/?api_key=&url=https%3A%2F%2Fwww.fanfiction.net%2Ftv%2FSherlock%2F%3F%26srt%3D1%26r%3D103%26p%3D21> (referer: https://steamdb.info/graph/)\n"
     ]
    },
    {
     "name": "stdout",
     "output_type": "stream",
     "text": [
      "\n",
      "https://proxy.scrapeops.io/v1/?api_key=&url=https%3A%2F%2Fwww.fanfiction.net%2Fs%2F13987161%2F1%2FHis-Lionheart\n"
     ]
    },
    {
     "name": "stderr",
     "output_type": "stream",
     "text": [
      "2024-12-04 10:38:35 [scrapy.core.engine] DEBUG: Crawled (200) <GET https://proxy.scrapeops.io/v1/?api_key=&url=https%3A%2F%2Fwww.fanfiction.net%2Fs%2F13992326%2F1%2FEnd-Times> (referer: https://steamdb.info/graph/)\n",
      "2024-12-04 10:38:36 [scrapy.core.engine] DEBUG: Crawled (200) <GET https://proxy.scrapeops.io/v1/?api_key=&url=https%3A%2F%2Fwww.fanfiction.net%2Fs%2F13948273%2F1%2FShock> (referer: https://steamdb.info/graph/)\n"
     ]
    },
    {
     "name": "stdout",
     "output_type": "stream",
     "text": [
      "25\n",
      "\n",
      "https://proxy.scrapeops.io/v1/?api_key=&url=https%3A%2F%2Fwww.fanfiction.net%2Fs%2F13992326%2F1%2FEnd-Times\n",
      "\n",
      "https://proxy.scrapeops.io/v1/?api_key=&url=https%3A%2F%2Fwww.fanfiction.net%2Fs%2F13948273%2F1%2FShock\n"
     ]
    },
    {
     "name": "stderr",
     "output_type": "stream",
     "text": [
      "2024-12-04 10:38:36 [scrapy.core.engine] DEBUG: Crawled (200) <GET https://proxy.scrapeops.io/v1/?api_key=&url=https%3A%2F%2Fwww.fanfiction.net%2Fs%2F11819566%2F1%2FMytheamore> (referer: https://steamdb.info/graph/)\n",
      "2024-12-04 10:38:36 [scrapy.core.engine] DEBUG: Crawled (400) <GET https://proxy.scrapeops.io/v1/?api_key=&url=https%3A%2F%2Fproxy.scrapeops.io%2Fv1%2F%3Fapi_key%3D%26url%3Dhttps%253A%2F%2Fwww.fanfiction.net%2Fs%2F10644566%2F2%2FThe-Present> (referer: https://steamdb.info/graph/)\n",
      "2024-12-04 10:38:36 [scrapy.spidermiddlewares.httperror] INFO: Ignoring response <400 https://proxy.scrapeops.io/v1/?api_key=&url=https%3A%2F%2Fproxy.scrapeops.io%2Fv1%2F%3Fapi_key%3D%26url%3Dhttps%253A%2F%2Fwww.fanfiction.net%2Fs%2F10644566%2F2%2FThe-Present>: HTTP status code is not handled or not allowed\n"
     ]
    },
    {
     "name": "stdout",
     "output_type": "stream",
     "text": [
      "\n",
      "https://proxy.scrapeops.io/v1/?api_key=&url=https%3A%2F%2Fwww.fanfiction.net%2Fs%2F11819566%2F1%2FMytheamore\n"
     ]
    },
    {
     "name": "stderr",
     "output_type": "stream",
     "text": [
      "2024-12-04 10:38:37 [scrapy.core.engine] DEBUG: Crawled (200) <GET https://proxy.scrapeops.io/v1/?api_key=&url=https%3A%2F%2Fwww.fanfiction.net%2Fs%2F13380284%2F1%2FFa%25C3%25A7ade> (referer: https://steamdb.info/graph/)\n",
      "2024-12-04 10:38:37 [scrapy.core.engine] DEBUG: Crawled (400) <GET https://proxy.scrapeops.io/v1/?api_key=&url=https%3A%2F%2Fproxy.scrapeops.io%2Fv1%2F%3Fapi_key%3D%26url%3Dhttps%253A%2F%2Fwww.fanfiction.net%2Fs%2F13992067%2F2%2FSapere-Aude> (referer: https://steamdb.info/graph/)\n",
      "2024-12-04 10:38:37 [scrapy.core.engine] DEBUG: Crawled (200) <GET https://proxy.scrapeops.io/v1/?api_key=&url=https%3A%2F%2Fwww.fanfiction.net%2Fs%2F13950637%2F1%2FYou-always-see-me> (referer: https://steamdb.info/graph/)\n",
      "2024-12-04 10:38:37 [scrapy.spidermiddlewares.httperror] INFO: Ignoring response <400 https://proxy.scrapeops.io/v1/?api_key=&url=https%3A%2F%2Fproxy.scrapeops.io%2Fv1%2F%3Fapi_key%3D%26url%3Dhttps%253A%2F%2Fwww.fanfiction.net%2Fs%2F13992067%2F2%2FSapere-Aude>: HTTP status code is not handled or not allowed\n",
      "2024-12-04 10:38:37 [scrapy.core.engine] DEBUG: Crawled (200) <GET https://proxy.scrapeops.io/v1/?api_key=&url=https%3A%2F%2Fwww.fanfiction.net%2Fs%2F13949768%2F1%2FBurning-Skies-and-Flaring-Desires> (referer: https://steamdb.info/graph/)\n"
     ]
    },
    {
     "name": "stdout",
     "output_type": "stream",
     "text": [
      "\n",
      "https://proxy.scrapeops.io/v1/?api_key=&url=https%3A%2F%2Fwww.fanfiction.net%2Fs%2F13380284%2F1%2FFa%25C3%25A7ade\n",
      "\n",
      "https://proxy.scrapeops.io/v1/?api_key=&url=https%3A%2F%2Fwww.fanfiction.net%2Fs%2F13950637%2F1%2FYou-always-see-me\n"
     ]
    },
    {
     "name": "stderr",
     "output_type": "stream",
     "text": [
      "2024-12-04 10:38:37 [scrapy.core.engine] DEBUG: Crawled (400) <GET https://proxy.scrapeops.io/v1/?api_key=&url=https%3A%2F%2Fproxy.scrapeops.io%2Fv1%2F%3Fapi_key%3D%26url%3Dhttps%253A%2F%2Fwww.fanfiction.net%2Fs%2F13987161%2F2%2FHis-Lionheart> (referer: https://steamdb.info/graph/)\n",
      "2024-12-04 10:38:38 [scrapy.spidermiddlewares.httperror] INFO: Ignoring response <400 https://proxy.scrapeops.io/v1/?api_key=&url=https%3A%2F%2Fproxy.scrapeops.io%2Fv1%2F%3Fapi_key%3D%26url%3Dhttps%253A%2F%2Fwww.fanfiction.net%2Fs%2F13987161%2F2%2FHis-Lionheart>: HTTP status code is not handled or not allowed\n"
     ]
    },
    {
     "name": "stdout",
     "output_type": "stream",
     "text": [
      "\n",
      "https://proxy.scrapeops.io/v1/?api_key=&url=https%3A%2F%2Fwww.fanfiction.net%2Fs%2F13949768%2F1%2FBurning-Skies-and-Flaring-Desires\n"
     ]
    },
    {
     "name": "stderr",
     "output_type": "stream",
     "text": [
      "2024-12-04 10:38:38 [scrapy.downloadermiddlewares.retry] DEBUG: Retrying <GET https://proxy.scrapeops.io/v1/?api_key=&url=https%3A%2F%2Fwww.fanfiction.net%2Fs%2F13994527%2F1%2FChoices> (failed 1 times): 429 Unknown Status\n",
      "2024-12-04 10:38:38 [scrapy.core.engine] DEBUG: Crawled (400) <GET https://proxy.scrapeops.io/v1/?api_key=&url=https%3A%2F%2Fproxy.scrapeops.io%2Fv1%2F%3Fapi_key%3D%26url%3Dhttps%253A%2F%2Fwww.fanfiction.net%2Fs%2F13992326%2F2%2FEnd-Times> (referer: https://steamdb.info/graph/)\n",
      "2024-12-04 10:38:38 [scrapy.core.engine] DEBUG: Crawled (200) <GET https://proxy.scrapeops.io/v1/?api_key=&url=https%3A%2F%2Fwww.fanfiction.net%2Fs%2F13938284%2F1%2FSomeone-To-Watch-Over-Me> (referer: https://steamdb.info/graph/)\n",
      "2024-12-04 10:38:38 [scrapy.core.engine] DEBUG: Crawled (400) <GET https://proxy.scrapeops.io/v1/?api_key=&url=https%3A%2F%2Fproxy.scrapeops.io%2Fv1%2F%3Fapi_key%3D%26url%3Dhttps%253A%2F%2Fwww.fanfiction.net%2Fs%2F13948273%2F2%2FShock> (referer: https://steamdb.info/graph/)\n",
      "2024-12-04 10:38:38 [scrapy.spidermiddlewares.httperror] INFO: Ignoring response <400 https://proxy.scrapeops.io/v1/?api_key=&url=https%3A%2F%2Fproxy.scrapeops.io%2Fv1%2F%3Fapi_key%3D%26url%3Dhttps%253A%2F%2Fwww.fanfiction.net%2Fs%2F13992326%2F2%2FEnd-Times>: HTTP status code is not handled or not allowed\n",
      "2024-12-04 10:38:38 [scrapy.core.engine] DEBUG: Crawled (400) <GET https://proxy.scrapeops.io/v1/?api_key=&url=https%3A%2F%2Fproxy.scrapeops.io%2Fv1%2F%3Fapi_key%3D%26url%3Dhttps%253A%2F%2Fwww.fanfiction.net%2Fs%2F11819566%2F2%2FMytheamore> (referer: https://steamdb.info/graph/)\n",
      "2024-12-04 10:38:38 [scrapy.spidermiddlewares.httperror] INFO: Ignoring response <400 https://proxy.scrapeops.io/v1/?api_key=&url=https%3A%2F%2Fproxy.scrapeops.io%2Fv1%2F%3Fapi_key%3D%26url%3Dhttps%253A%2F%2Fwww.fanfiction.net%2Fs%2F13948273%2F2%2FShock>: HTTP status code is not handled or not allowed\n",
      "2024-12-04 10:38:38 [scrapy.spidermiddlewares.httperror] INFO: Ignoring response <400 https://proxy.scrapeops.io/v1/?api_key=&url=https%3A%2F%2Fproxy.scrapeops.io%2Fv1%2F%3Fapi_key%3D%26url%3Dhttps%253A%2F%2Fwww.fanfiction.net%2Fs%2F11819566%2F2%2FMytheamore>: HTTP status code is not handled or not allowed\n"
     ]
    },
    {
     "name": "stdout",
     "output_type": "stream",
     "text": [
      "\n",
      "https://proxy.scrapeops.io/v1/?api_key=&url=https%3A%2F%2Fwww.fanfiction.net%2Fs%2F13938284%2F1%2FSomeone-To-Watch-Over-Me\n"
     ]
    },
    {
     "name": "stderr",
     "output_type": "stream",
     "text": [
      "2024-12-04 10:38:39 [scrapy.downloadermiddlewares.retry] DEBUG: Retrying <GET https://proxy.scrapeops.io/v1/?api_key=&url=https%3A%2F%2Fwww.fanfiction.net%2Fs%2F13648539%2F1%2FObsession> (failed 1 times): 429 Unknown Status\n",
      "2024-12-04 10:38:39 [scrapy.core.engine] DEBUG: Crawled (400) <GET https://proxy.scrapeops.io/v1/?api_key=&url=https%3A%2F%2Fproxy.scrapeops.io%2Fv1%2F%3Fapi_key%3D%26url%3Dhttps%253A%2F%2Fwww.fanfiction.net%2Fs%2F13380284%2F2%2FFa%2525C3%2525A7ade> (referer: https://steamdb.info/graph/)\n",
      "2024-12-04 10:38:39 [scrapy.core.engine] DEBUG: Crawled (400) <GET https://proxy.scrapeops.io/v1/?api_key=&url=https%3A%2F%2Fproxy.scrapeops.io%2Fv1%2F%3Fapi_key%3D%26url%3Dhttps%253A%2F%2Fwww.fanfiction.net%2Fs%2F13950637%2F2%2FYou-always-see-me> (referer: https://steamdb.info/graph/)\n",
      "2024-12-04 10:38:39 [scrapy.spidermiddlewares.httperror] INFO: Ignoring response <400 https://proxy.scrapeops.io/v1/?api_key=&url=https%3A%2F%2Fproxy.scrapeops.io%2Fv1%2F%3Fapi_key%3D%26url%3Dhttps%253A%2F%2Fwww.fanfiction.net%2Fs%2F13380284%2F2%2FFa%2525C3%2525A7ade>: HTTP status code is not handled or not allowed\n",
      "2024-12-04 10:38:39 [scrapy.core.engine] DEBUG: Crawled (400) <GET https://proxy.scrapeops.io/v1/?api_key=&url=https%3A%2F%2Fproxy.scrapeops.io%2Fv1%2F%3Fapi_key%3D%26url%3Dhttps%253A%2F%2Fwww.fanfiction.net%2Fs%2F13949768%2F2%2FBurning-Skies-and-Flaring-Desires> (referer: https://steamdb.info/graph/)\n",
      "2024-12-04 10:38:39 [scrapy.spidermiddlewares.httperror] INFO: Ignoring response <400 https://proxy.scrapeops.io/v1/?api_key=&url=https%3A%2F%2Fproxy.scrapeops.io%2Fv1%2F%3Fapi_key%3D%26url%3Dhttps%253A%2F%2Fwww.fanfiction.net%2Fs%2F13950637%2F2%2FYou-always-see-me>: HTTP status code is not handled or not allowed\n",
      "2024-12-04 10:38:39 [scrapy.core.engine] DEBUG: Crawled (200) <GET https://proxy.scrapeops.io/v1/?api_key=&url=https%3A%2F%2Fwww.fanfiction.net%2Ftv%2FSherlock%2F%3F%26srt%3D1%26r%3D103%26p%3D22> (referer: https://steamdb.info/graph/)\n",
      "2024-12-04 10:38:39 [scrapy.spidermiddlewares.httperror] INFO: Ignoring response <400 https://proxy.scrapeops.io/v1/?api_key=&url=https%3A%2F%2Fproxy.scrapeops.io%2Fv1%2F%3Fapi_key%3D%26url%3Dhttps%253A%2F%2Fwww.fanfiction.net%2Fs%2F13949768%2F2%2FBurning-Skies-and-Flaring-Desires>: HTTP status code is not handled or not allowed\n",
      "2024-12-04 10:38:39 [scrapy.core.engine] DEBUG: Crawled (200) <GET https://proxy.scrapeops.io/v1/?api_key=&url=https%3A%2F%2Fwww.fanfiction.net%2Fs%2F13886342%2F1%2FTaking-A-Stand> (referer: https://steamdb.info/graph/)\n"
     ]
    },
    {
     "name": "stdout",
     "output_type": "stream",
     "text": [
      "25\n",
      "\n",
      "https://proxy.scrapeops.io/v1/?api_key=&url=https%3A%2F%2Fwww.fanfiction.net%2Fs%2F13886342%2F1%2FTaking-A-Stand\n"
     ]
    },
    {
     "name": "stderr",
     "output_type": "stream",
     "text": [
      "2024-12-04 10:38:40 [scrapy.core.engine] DEBUG: Crawled (200) <GET https://proxy.scrapeops.io/v1/?api_key=&url=https%3A%2F%2Fwww.fanfiction.net%2Fs%2F13928097%2F1%2FHe-Didn-t-Believe-It> (referer: https://steamdb.info/graph/)\n"
     ]
    },
    {
     "name": "stdout",
     "output_type": "stream",
     "text": [
      "\n",
      "https://proxy.scrapeops.io/v1/?api_key=&url=https%3A%2F%2Fwww.fanfiction.net%2Fs%2F13928097%2F1%2FHe-Didn-t-Believe-It\n"
     ]
    },
    {
     "name": "stderr",
     "output_type": "stream",
     "text": [
      "2024-12-04 10:38:40 [scrapy.core.engine] DEBUG: Crawled (200) <GET https://proxy.scrapeops.io/v1/?api_key=&url=https%3A%2F%2Fwww.fanfiction.net%2Fs%2F13956664%2F1%2FSt-Barts-Hospital-2011> (referer: https://steamdb.info/graph/)\n",
      "2024-12-04 10:38:41 [scrapy.core.engine] DEBUG: Crawled (400) <GET https://proxy.scrapeops.io/v1/?api_key=&url=https%3A%2F%2Fproxy.scrapeops.io%2Fv1%2F%3Fapi_key%3D%26url%3Dhttps%253A%2F%2Fwww.fanfiction.net%2Fs%2F13938284%2F2%2FSomeone-To-Watch-Over-Me> (referer: https://steamdb.info/graph/)\n",
      "2024-12-04 10:38:41 [scrapy.core.engine] DEBUG: Crawled (200) <GET https://proxy.scrapeops.io/v1/?api_key=&url=https%3A%2F%2Fwww.fanfiction.net%2Fs%2F13815272%2F1%2FSherlock-One-shots> (referer: https://steamdb.info/graph/)\n",
      "2024-12-04 10:38:41 [scrapy.spidermiddlewares.httperror] INFO: Ignoring response <400 https://proxy.scrapeops.io/v1/?api_key=&url=https%3A%2F%2Fproxy.scrapeops.io%2Fv1%2F%3Fapi_key%3D%26url%3Dhttps%253A%2F%2Fwww.fanfiction.net%2Fs%2F13938284%2F2%2FSomeone-To-Watch-Over-Me>: HTTP status code is not handled or not allowed\n"
     ]
    },
    {
     "name": "stdout",
     "output_type": "stream",
     "text": [
      "\n",
      "https://proxy.scrapeops.io/v1/?api_key=&url=https%3A%2F%2Fwww.fanfiction.net%2Fs%2F13956664%2F1%2FSt-Barts-Hospital-2011\n",
      "\n",
      "https://proxy.scrapeops.io/v1/?api_key=&url=https%3A%2F%2Fwww.fanfiction.net%2Fs%2F13815272%2F1%2FSherlock-One-shots\n"
     ]
    },
    {
     "name": "stderr",
     "output_type": "stream",
     "text": [
      "2024-12-04 10:38:41 [scrapy.core.engine] DEBUG: Crawled (200) <GET https://proxy.scrapeops.io/v1/?api_key=&url=https%3A%2F%2Fwww.fanfiction.net%2Fs%2F13929590%2F1%2FOn-The-Rooftop-Of-Bart-s> (referer: https://steamdb.info/graph/)\n"
     ]
    },
    {
     "name": "stdout",
     "output_type": "stream",
     "text": [
      "\n",
      "https://proxy.scrapeops.io/v1/?api_key=&url=https%3A%2F%2Fwww.fanfiction.net%2Fs%2F13929590%2F1%2FOn-The-Rooftop-Of-Bart-s\n"
     ]
    },
    {
     "name": "stderr",
     "output_type": "stream",
     "text": [
      "2024-12-04 10:38:43 [scrapy.core.engine] DEBUG: Crawled (200) <GET https://proxy.scrapeops.io/v1/?api_key=&url=https%3A%2F%2Fwww.fanfiction.net%2Fs%2F13936222%2F1%2FStricken> (referer: https://steamdb.info/graph/)\n",
      "2024-12-04 10:38:43 [scrapy.core.engine] DEBUG: Crawled (200) <GET https://proxy.scrapeops.io/v1/?api_key=&url=https%3A%2F%2Fwww.fanfiction.net%2Fs%2F13645610%2F1%2FFar-From-Home-The-Blind-Banker> (referer: https://steamdb.info/graph/)\n"
     ]
    },
    {
     "name": "stdout",
     "output_type": "stream",
     "text": [
      "\n",
      "https://proxy.scrapeops.io/v1/?api_key=&url=https%3A%2F%2Fwww.fanfiction.net%2Fs%2F13936222%2F1%2FStricken\n",
      "\n",
      "https://proxy.scrapeops.io/v1/?api_key=&url=https%3A%2F%2Fwww.fanfiction.net%2Fs%2F13645610%2F1%2FFar-From-Home-The-Blind-Banker\n"
     ]
    },
    {
     "name": "stderr",
     "output_type": "stream",
     "text": [
      "2024-12-04 10:38:43 [scrapy.core.engine] DEBUG: Crawled (200) <GET https://proxy.scrapeops.io/v1/?api_key=&url=https%3A%2F%2Fwww.fanfiction.net%2Fs%2F13936181%2F1%2FIt-s-Not-You-Who-ll-Miss-It> (referer: https://steamdb.info/graph/)\n"
     ]
    },
    {
     "name": "stdout",
     "output_type": "stream",
     "text": [
      "\n",
      "https://proxy.scrapeops.io/v1/?api_key=&url=https%3A%2F%2Fwww.fanfiction.net%2Fs%2F13936181%2F1%2FIt-s-Not-You-Who-ll-Miss-It\n"
     ]
    },
    {
     "name": "stderr",
     "output_type": "stream",
     "text": [
      "2024-12-04 10:38:44 [scrapy.downloadermiddlewares.retry] DEBUG: Retrying <GET https://proxy.scrapeops.io/v1/?api_key=&url=https%3A%2F%2Fwww.fanfiction.net%2Fs%2F13929505%2F1%2FBabysitting-in-Progress> (failed 1 times): 429 Unknown Status\n",
      "2024-12-04 10:38:44 [scrapy.core.engine] DEBUG: Crawled (200) <GET https://proxy.scrapeops.io/v1/?api_key=&url=https%3A%2F%2Fwww.fanfiction.net%2Fs%2F13937280%2F1%2FNightmares-and-Consequences> (referer: https://steamdb.info/graph/)\n",
      "2024-12-04 10:38:44 [scrapy.core.engine] DEBUG: Crawled (400) <GET https://proxy.scrapeops.io/v1/?api_key=&url=https%3A%2F%2Fproxy.scrapeops.io%2Fv1%2F%3Fapi_key%3D%26url%3Dhttps%253A%2F%2Fwww.fanfiction.net%2Fs%2F13928097%2F2%2FHe-Didn-t-Believe-It> (referer: https://steamdb.info/graph/)\n",
      "2024-12-04 10:38:44 [scrapy.core.engine] DEBUG: Crawled (400) <GET https://proxy.scrapeops.io/v1/?api_key=&url=https%3A%2F%2Fproxy.scrapeops.io%2Fv1%2F%3Fapi_key%3D%26url%3Dhttps%253A%2F%2Fwww.fanfiction.net%2Fs%2F13886342%2F2%2FTaking-A-Stand> (referer: https://steamdb.info/graph/)\n",
      "2024-12-04 10:38:44 [scrapy.spidermiddlewares.httperror] INFO: Ignoring response <400 https://proxy.scrapeops.io/v1/?api_key=&url=https%3A%2F%2Fproxy.scrapeops.io%2Fv1%2F%3Fapi_key%3D%26url%3Dhttps%253A%2F%2Fwww.fanfiction.net%2Fs%2F13928097%2F2%2FHe-Didn-t-Believe-It>: HTTP status code is not handled or not allowed\n",
      "2024-12-04 10:38:44 [scrapy.core.engine] DEBUG: Crawled (400) <GET https://proxy.scrapeops.io/v1/?api_key=&url=https%3A%2F%2Fproxy.scrapeops.io%2Fv1%2F%3Fapi_key%3D%26url%3Dhttps%253A%2F%2Fwww.fanfiction.net%2Fs%2F13956664%2F2%2FSt-Barts-Hospital-2011> (referer: https://steamdb.info/graph/)\n",
      "2024-12-04 10:38:44 [scrapy.spidermiddlewares.httperror] INFO: Ignoring response <400 https://proxy.scrapeops.io/v1/?api_key=&url=https%3A%2F%2Fproxy.scrapeops.io%2Fv1%2F%3Fapi_key%3D%26url%3Dhttps%253A%2F%2Fwww.fanfiction.net%2Fs%2F13886342%2F2%2FTaking-A-Stand>: HTTP status code is not handled or not allowed\n",
      "2024-12-04 10:38:44 [scrapy.core.engine] DEBUG: Crawled (400) <GET https://proxy.scrapeops.io/v1/?api_key=&url=https%3A%2F%2Fproxy.scrapeops.io%2Fv1%2F%3Fapi_key%3D%26url%3Dhttps%253A%2F%2Fwww.fanfiction.net%2Fs%2F13815272%2F2%2FSherlock-One-shots> (referer: https://steamdb.info/graph/)\n",
      "2024-12-04 10:38:44 [scrapy.spidermiddlewares.httperror] INFO: Ignoring response <400 https://proxy.scrapeops.io/v1/?api_key=&url=https%3A%2F%2Fproxy.scrapeops.io%2Fv1%2F%3Fapi_key%3D%26url%3Dhttps%253A%2F%2Fwww.fanfiction.net%2Fs%2F13956664%2F2%2FSt-Barts-Hospital-2011>: HTTP status code is not handled or not allowed\n"
     ]
    },
    {
     "name": "stdout",
     "output_type": "stream",
     "text": [
      "\n",
      "https://proxy.scrapeops.io/v1/?api_key=&url=https%3A%2F%2Fwww.fanfiction.net%2Fs%2F13937280%2F1%2FNightmares-and-Consequences\n"
     ]
    },
    {
     "name": "stderr",
     "output_type": "stream",
     "text": [
      "2024-12-04 10:38:44 [scrapy.spidermiddlewares.httperror] INFO: Ignoring response <400 https://proxy.scrapeops.io/v1/?api_key=&url=https%3A%2F%2Fproxy.scrapeops.io%2Fv1%2F%3Fapi_key%3D%26url%3Dhttps%253A%2F%2Fwww.fanfiction.net%2Fs%2F13815272%2F2%2FSherlock-One-shots>: HTTP status code is not handled or not allowed\n",
      "2024-12-04 10:38:44 [scrapy.core.engine] DEBUG: Crawled (400) <GET https://proxy.scrapeops.io/v1/?api_key=&url=https%3A%2F%2Fproxy.scrapeops.io%2Fv1%2F%3Fapi_key%3D%26url%3Dhttps%253A%2F%2Fwww.fanfiction.net%2Fs%2F13929590%2F2%2FOn-The-Rooftop-Of-Bart-s> (referer: https://steamdb.info/graph/)\n",
      "2024-12-04 10:38:44 [scrapy.spidermiddlewares.httperror] INFO: Ignoring response <400 https://proxy.scrapeops.io/v1/?api_key=&url=https%3A%2F%2Fproxy.scrapeops.io%2Fv1%2F%3Fapi_key%3D%26url%3Dhttps%253A%2F%2Fwww.fanfiction.net%2Fs%2F13929590%2F2%2FOn-The-Rooftop-Of-Bart-s>: HTTP status code is not handled or not allowed\n",
      "2024-12-04 10:38:45 [scrapy.downloadermiddlewares.retry] DEBUG: Retrying <GET https://proxy.scrapeops.io/v1/?api_key=&url=https%3A%2F%2Fwww.fanfiction.net%2Fs%2F13934046%2F1%2FA-New-Year> (failed 1 times): 429 Unknown Status\n",
      "2024-12-04 10:38:45 [scrapy.core.engine] DEBUG: Crawled (400) <GET https://proxy.scrapeops.io/v1/?api_key=&url=https%3A%2F%2Fproxy.scrapeops.io%2Fv1%2F%3Fapi_key%3D%26url%3Dhttps%253A%2F%2Fwww.fanfiction.net%2Fs%2F13645610%2F2%2FFar-From-Home-The-Blind-Banker> (referer: https://steamdb.info/graph/)\n",
      "2024-12-04 10:38:45 [scrapy.core.engine] DEBUG: Crawled (200) <GET https://proxy.scrapeops.io/v1/?api_key=&url=https%3A%2F%2Fwww.fanfiction.net%2Fs%2F13938246%2F1%2FReunions> (referer: https://steamdb.info/graph/)\n",
      "2024-12-04 10:38:45 [scrapy.core.engine] DEBUG: Crawled (400) <GET https://proxy.scrapeops.io/v1/?api_key=&url=https%3A%2F%2Fproxy.scrapeops.io%2Fv1%2F%3Fapi_key%3D%26url%3Dhttps%253A%2F%2Fwww.fanfiction.net%2Fs%2F13936181%2F2%2FIt-s-Not-You-Who-ll-Miss-It> (referer: https://steamdb.info/graph/)\n",
      "2024-12-04 10:38:45 [scrapy.spidermiddlewares.httperror] INFO: Ignoring response <400 https://proxy.scrapeops.io/v1/?api_key=&url=https%3A%2F%2Fproxy.scrapeops.io%2Fv1%2F%3Fapi_key%3D%26url%3Dhttps%253A%2F%2Fwww.fanfiction.net%2Fs%2F13645610%2F2%2FFar-From-Home-The-Blind-Banker>: HTTP status code is not handled or not allowed\n",
      "2024-12-04 10:38:45 [scrapy.core.engine] DEBUG: Crawled (400) <GET https://proxy.scrapeops.io/v1/?api_key=&url=https%3A%2F%2Fproxy.scrapeops.io%2Fv1%2F%3Fapi_key%3D%26url%3Dhttps%253A%2F%2Fwww.fanfiction.net%2Fs%2F13936222%2F2%2FStricken> (referer: https://steamdb.info/graph/)\n",
      "2024-12-04 10:38:45 [scrapy.spidermiddlewares.httperror] INFO: Ignoring response <400 https://proxy.scrapeops.io/v1/?api_key=&url=https%3A%2F%2Fproxy.scrapeops.io%2Fv1%2F%3Fapi_key%3D%26url%3Dhttps%253A%2F%2Fwww.fanfiction.net%2Fs%2F13936181%2F2%2FIt-s-Not-You-Who-ll-Miss-It>: HTTP status code is not handled or not allowed\n",
      "2024-12-04 10:38:45 [scrapy.spidermiddlewares.httperror] INFO: Ignoring response <400 https://proxy.scrapeops.io/v1/?api_key=&url=https%3A%2F%2Fproxy.scrapeops.io%2Fv1%2F%3Fapi_key%3D%26url%3Dhttps%253A%2F%2Fwww.fanfiction.net%2Fs%2F13936222%2F2%2FStricken>: HTTP status code is not handled or not allowed\n"
     ]
    },
    {
     "name": "stdout",
     "output_type": "stream",
     "text": [
      "\n",
      "https://proxy.scrapeops.io/v1/?api_key=&url=https%3A%2F%2Fwww.fanfiction.net%2Fs%2F13938246%2F1%2FReunions\n"
     ]
    },
    {
     "name": "stderr",
     "output_type": "stream",
     "text": [
      "2024-12-04 10:38:45 [scrapy.core.engine] DEBUG: Crawled (200) <GET https://proxy.scrapeops.io/v1/?api_key=&url=https%3A%2F%2Fwww.fanfiction.net%2Fs%2F13916903%2F1%2FA-Nightmare> (referer: https://steamdb.info/graph/)\n",
      "2024-12-04 10:38:46 [scrapy.core.engine] DEBUG: Crawled (200) <GET https://proxy.scrapeops.io/v1/?api_key=&url=https%3A%2F%2Fwww.fanfiction.net%2Ftv%2FSherlock%2F%3F%26srt%3D1%26r%3D103%26p%3D23> (referer: https://steamdb.info/graph/)\n",
      "2024-12-04 10:38:46 [scrapy.core.engine] DEBUG: Crawled (400) <GET https://proxy.scrapeops.io/v1/?api_key=&url=https%3A%2F%2Fproxy.scrapeops.io%2Fv1%2F%3Fapi_key%3D%26url%3Dhttps%253A%2F%2Fwww.fanfiction.net%2Fs%2F13937280%2F2%2FNightmares-and-Consequences> (referer: https://steamdb.info/graph/)\n",
      "2024-12-04 10:38:46 [scrapy.spidermiddlewares.httperror] INFO: Ignoring response <400 https://proxy.scrapeops.io/v1/?api_key=&url=https%3A%2F%2Fproxy.scrapeops.io%2Fv1%2F%3Fapi_key%3D%26url%3Dhttps%253A%2F%2Fwww.fanfiction.net%2Fs%2F13937280%2F2%2FNightmares-and-Consequences>: HTTP status code is not handled or not allowed\n"
     ]
    },
    {
     "name": "stdout",
     "output_type": "stream",
     "text": [
      "\n",
      "https://proxy.scrapeops.io/v1/?api_key=&url=https%3A%2F%2Fwww.fanfiction.net%2Fs%2F13916903%2F1%2FA-Nightmare\n",
      "25\n"
     ]
    },
    {
     "name": "stderr",
     "output_type": "stream",
     "text": [
      "2024-12-04 10:38:47 [scrapy.core.engine] DEBUG: Crawled (200) <GET https://proxy.scrapeops.io/v1/?api_key=&url=https%3A%2F%2Fwww.fanfiction.net%2Fs%2F13917686%2F1%2FAnd-Forget-About-Everything> (referer: https://steamdb.info/graph/)\n"
     ]
    },
    {
     "name": "stdout",
     "output_type": "stream",
     "text": [
      "\n",
      "https://proxy.scrapeops.io/v1/?api_key=&url=https%3A%2F%2Fwww.fanfiction.net%2Fs%2F13917686%2F1%2FAnd-Forget-About-Everything\n"
     ]
    },
    {
     "name": "stderr",
     "output_type": "stream",
     "text": [
      "2024-12-04 10:38:48 [scrapy.core.engine] DEBUG: Crawled (200) <GET https://proxy.scrapeops.io/v1/?api_key=&url=https%3A%2F%2Fwww.fanfiction.net%2Fs%2F13919555%2F1%2FMatchsticks> (referer: https://steamdb.info/graph/)\n",
      "2024-12-04 10:38:48 [scrapy.core.engine] DEBUG: Crawled (200) <GET https://proxy.scrapeops.io/v1/?api_key=&url=https%3A%2F%2Fwww.fanfiction.net%2Fs%2F13919558%2F1%2FMight-Tell-You-Tonight> (referer: https://steamdb.info/graph/)\n"
     ]
    },
    {
     "name": "stdout",
     "output_type": "stream",
     "text": [
      "\n",
      "https://proxy.scrapeops.io/v1/?api_key=&url=https%3A%2F%2Fwww.fanfiction.net%2Fs%2F13919555%2F1%2FMatchsticks\n",
      "\n",
      "https://proxy.scrapeops.io/v1/?api_key=&url=https%3A%2F%2Fwww.fanfiction.net%2Fs%2F13919558%2F1%2FMight-Tell-You-Tonight\n"
     ]
    },
    {
     "name": "stderr",
     "output_type": "stream",
     "text": [
      "2024-12-04 10:38:48 [scrapy.core.engine] DEBUG: Crawled (200) <GET https://proxy.scrapeops.io/v1/?api_key=&url=https%3A%2F%2Fwww.fanfiction.net%2Fs%2F13989630%2F1%2FThree-becomes-none-in-the-end> (referer: https://steamdb.info/graph/)\n"
     ]
    },
    {
     "name": "stdout",
     "output_type": "stream",
     "text": [
      "\n",
      "https://proxy.scrapeops.io/v1/?api_key=&url=https%3A%2F%2Fwww.fanfiction.net%2Fs%2F13989630%2F1%2FThree-becomes-none-in-the-end\n"
     ]
    },
    {
     "name": "stderr",
     "output_type": "stream",
     "text": [
      "2024-12-04 10:38:48 [scrapy.core.engine] DEBUG: Crawled (200) <GET https://proxy.scrapeops.io/v1/?api_key=&url=https%3A%2F%2Fwww.fanfiction.net%2Fs%2F13937955%2F1%2FMolly-Hooper-Winner-of-Awards-and-Sherlock-s-Heart> (referer: https://steamdb.info/graph/)\n",
      "2024-12-04 10:38:48 [scrapy.core.engine] DEBUG: Crawled (200) <GET https://proxy.scrapeops.io/v1/?api_key=&url=https%3A%2F%2Fwww.fanfiction.net%2Fs%2F13919565%2F1%2FSentiment> (referer: https://steamdb.info/graph/)\n",
      "2024-12-04 10:38:48 [scrapy.core.engine] DEBUG: Crawled (400) <GET https://proxy.scrapeops.io/v1/?api_key=&url=https%3A%2F%2Fproxy.scrapeops.io%2Fv1%2F%3Fapi_key%3D%26url%3Dhttps%253A%2F%2Fwww.fanfiction.net%2Fs%2F13938246%2F2%2FReunions> (referer: https://steamdb.info/graph/)\n"
     ]
    },
    {
     "name": "stdout",
     "output_type": "stream",
     "text": [
      "\n",
      "https://proxy.scrapeops.io/v1/?api_key=&url=https%3A%2F%2Fwww.fanfiction.net%2Fs%2F13937955%2F1%2FMolly-Hooper-Winner-of-Awards-and-Sherlock-s-Heart\n",
      "\n",
      "https://proxy.scrapeops.io/v1/?api_key=&url=https%3A%2F%2Fwww.fanfiction.net%2Fs%2F13919565%2F1%2FSentiment\n"
     ]
    },
    {
     "name": "stderr",
     "output_type": "stream",
     "text": [
      "2024-12-04 10:38:49 [scrapy.spidermiddlewares.httperror] INFO: Ignoring response <400 https://proxy.scrapeops.io/v1/?api_key=&url=https%3A%2F%2Fproxy.scrapeops.io%2Fv1%2F%3Fapi_key%3D%26url%3Dhttps%253A%2F%2Fwww.fanfiction.net%2Fs%2F13938246%2F2%2FReunions>: HTTP status code is not handled or not allowed\n",
      "2024-12-04 10:38:49 [scrapy.downloadermiddlewares.retry] DEBUG: Retrying <GET https://proxy.scrapeops.io/v1/?api_key=&url=https%3A%2F%2Fwww.fanfiction.net%2Fs%2F13917002%2F1%2FThe-Similarities-Between-Love-And-Death> (failed 1 times): 429 Unknown Status\n",
      "2024-12-04 10:38:50 [scrapy.extensions.logstats] INFO: Crawled 414 pages (at 249 pages/min), scraped 0 items (at 0 items/min)\n",
      "2024-12-04 10:38:50 [scrapy.core.engine] DEBUG: Crawled (200) <GET https://proxy.scrapeops.io/v1/?api_key=&url=https%3A%2F%2Fwww.fanfiction.net%2Fs%2F13920853%2F1%2FTrust-Me-I-m-a-Doctor> (referer: https://steamdb.info/graph/)\n",
      "2024-12-04 10:38:50 [scrapy.downloadermiddlewares.retry] DEBUG: Retrying <GET https://proxy.scrapeops.io/v1/?api_key=&url=https%3A%2F%2Fwww.fanfiction.net%2Fs%2F12741901%2F1%2FIf-I-Still-Had-Your-Love> (failed 1 times): 429 Unknown Status\n",
      "2024-12-04 10:38:50 [scrapy.core.engine] DEBUG: Crawled (200) <GET https://proxy.scrapeops.io/v1/?api_key=&url=https%3A%2F%2Fwww.fanfiction.net%2Fs%2F13921898%2F1%2Fi-ve-always-run-after-the-beat-of-your-heart> (referer: https://steamdb.info/graph/)\n",
      "2024-12-04 10:38:50 [scrapy.core.engine] DEBUG: Crawled (400) <GET https://proxy.scrapeops.io/v1/?api_key=&url=https%3A%2F%2Fproxy.scrapeops.io%2Fv1%2F%3Fapi_key%3D%26url%3Dhttps%253A%2F%2Fwww.fanfiction.net%2Fs%2F13917686%2F2%2FAnd-Forget-About-Everything> (referer: https://steamdb.info/graph/)\n"
     ]
    },
    {
     "name": "stdout",
     "output_type": "stream",
     "text": [
      "\n",
      "https://proxy.scrapeops.io/v1/?api_key=&url=https%3A%2F%2Fwww.fanfiction.net%2Fs%2F13920853%2F1%2FTrust-Me-I-m-a-Doctor\n",
      "\n",
      "https://proxy.scrapeops.io/v1/?api_key=&url=https%3A%2F%2Fwww.fanfiction.net%2Fs%2F13921898%2F1%2Fi-ve-always-run-after-the-beat-of-your-heart\n"
     ]
    },
    {
     "name": "stderr",
     "output_type": "stream",
     "text": [
      "2024-12-04 10:38:50 [scrapy.core.engine] DEBUG: Crawled (200) <GET https://proxy.scrapeops.io/v1/?api_key=&url=https%3A%2F%2Fwww.fanfiction.net%2Fs%2F13853485%2F1%2FRoom-for-More> (referer: https://steamdb.info/graph/)\n",
      "2024-12-04 10:38:50 [scrapy.core.engine] DEBUG: Crawled (400) <GET https://proxy.scrapeops.io/v1/?api_key=&url=https%3A%2F%2Fproxy.scrapeops.io%2Fv1%2F%3Fapi_key%3D%26url%3Dhttps%253A%2F%2Fwww.fanfiction.net%2Fs%2F13919558%2F2%2FMight-Tell-You-Tonight> (referer: https://steamdb.info/graph/)\n",
      "2024-12-04 10:38:50 [scrapy.spidermiddlewares.httperror] INFO: Ignoring response <400 https://proxy.scrapeops.io/v1/?api_key=&url=https%3A%2F%2Fproxy.scrapeops.io%2Fv1%2F%3Fapi_key%3D%26url%3Dhttps%253A%2F%2Fwww.fanfiction.net%2Fs%2F13917686%2F2%2FAnd-Forget-About-Everything>: HTTP status code is not handled or not allowed\n",
      "2024-12-04 10:38:50 [scrapy.core.engine] DEBUG: Crawled (400) <GET https://proxy.scrapeops.io/v1/?api_key=&url=https%3A%2F%2Fproxy.scrapeops.io%2Fv1%2F%3Fapi_key%3D%26url%3Dhttps%253A%2F%2Fwww.fanfiction.net%2Fs%2F13989630%2F2%2FThree-becomes-none-in-the-end> (referer: https://steamdb.info/graph/)\n",
      "2024-12-04 10:38:50 [scrapy.core.engine] DEBUG: Crawled (400) <GET https://proxy.scrapeops.io/v1/?api_key=&url=https%3A%2F%2Fproxy.scrapeops.io%2Fv1%2F%3Fapi_key%3D%26url%3Dhttps%253A%2F%2Fwww.fanfiction.net%2Fs%2F13919555%2F2%2FMatchsticks> (referer: https://steamdb.info/graph/)\n",
      "2024-12-04 10:38:50 [scrapy.spidermiddlewares.httperror] INFO: Ignoring response <400 https://proxy.scrapeops.io/v1/?api_key=&url=https%3A%2F%2Fproxy.scrapeops.io%2Fv1%2F%3Fapi_key%3D%26url%3Dhttps%253A%2F%2Fwww.fanfiction.net%2Fs%2F13919558%2F2%2FMight-Tell-You-Tonight>: HTTP status code is not handled or not allowed\n",
      "2024-12-04 10:38:50 [scrapy.core.engine] DEBUG: Crawled (400) <GET https://proxy.scrapeops.io/v1/?api_key=&url=https%3A%2F%2Fproxy.scrapeops.io%2Fv1%2F%3Fapi_key%3D%26url%3Dhttps%253A%2F%2Fwww.fanfiction.net%2Fs%2F13919565%2F2%2FSentiment> (referer: https://steamdb.info/graph/)\n",
      "2024-12-04 10:38:50 [scrapy.spidermiddlewares.httperror] INFO: Ignoring response <400 https://proxy.scrapeops.io/v1/?api_key=&url=https%3A%2F%2Fproxy.scrapeops.io%2Fv1%2F%3Fapi_key%3D%26url%3Dhttps%253A%2F%2Fwww.fanfiction.net%2Fs%2F13989630%2F2%2FThree-becomes-none-in-the-end>: HTTP status code is not handled or not allowed\n",
      "2024-12-04 10:38:50 [scrapy.spidermiddlewares.httperror] INFO: Ignoring response <400 https://proxy.scrapeops.io/v1/?api_key=&url=https%3A%2F%2Fproxy.scrapeops.io%2Fv1%2F%3Fapi_key%3D%26url%3Dhttps%253A%2F%2Fwww.fanfiction.net%2Fs%2F13919555%2F2%2FMatchsticks>: HTTP status code is not handled or not allowed\n",
      "2024-12-04 10:38:50 [scrapy.core.engine] DEBUG: Crawled (400) <GET https://proxy.scrapeops.io/v1/?api_key=&url=https%3A%2F%2Fproxy.scrapeops.io%2Fv1%2F%3Fapi_key%3D%26url%3Dhttps%253A%2F%2Fwww.fanfiction.net%2Fs%2F13937955%2F2%2FMolly-Hooper-Winner-of-Awards-and-Sherlock-s-Heart> (referer: https://steamdb.info/graph/)\n",
      "2024-12-04 10:38:51 [scrapy.spidermiddlewares.httperror] INFO: Ignoring response <400 https://proxy.scrapeops.io/v1/?api_key=&url=https%3A%2F%2Fproxy.scrapeops.io%2Fv1%2F%3Fapi_key%3D%26url%3Dhttps%253A%2F%2Fwww.fanfiction.net%2Fs%2F13919565%2F2%2FSentiment>: HTTP status code is not handled or not allowed\n",
      "2024-12-04 10:38:51 [scrapy.core.engine] DEBUG: Crawled (400) <GET https://proxy.scrapeops.io/v1/?api_key=&url=https%3A%2F%2Fproxy.scrapeops.io%2Fv1%2F%3Fapi_key%3D%26url%3Dhttps%253A%2F%2Fwww.fanfiction.net%2Fs%2F13920853%2F2%2FTrust-Me-I-m-a-Doctor> (referer: https://steamdb.info/graph/)\n",
      "2024-12-04 10:38:51 [scrapy.spidermiddlewares.httperror] INFO: Ignoring response <400 https://proxy.scrapeops.io/v1/?api_key=&url=https%3A%2F%2Fproxy.scrapeops.io%2Fv1%2F%3Fapi_key%3D%26url%3Dhttps%253A%2F%2Fwww.fanfiction.net%2Fs%2F13937955%2F2%2FMolly-Hooper-Winner-of-Awards-and-Sherlock-s-Heart>: HTTP status code is not handled or not allowed\n"
     ]
    },
    {
     "name": "stdout",
     "output_type": "stream",
     "text": [
      "\n",
      "https://proxy.scrapeops.io/v1/?api_key=&url=https%3A%2F%2Fwww.fanfiction.net%2Fs%2F13853485%2F1%2FRoom-for-More\n"
     ]
    },
    {
     "name": "stderr",
     "output_type": "stream",
     "text": [
      "2024-12-04 10:38:51 [scrapy.spidermiddlewares.httperror] INFO: Ignoring response <400 https://proxy.scrapeops.io/v1/?api_key=&url=https%3A%2F%2Fproxy.scrapeops.io%2Fv1%2F%3Fapi_key%3D%26url%3Dhttps%253A%2F%2Fwww.fanfiction.net%2Fs%2F13920853%2F2%2FTrust-Me-I-m-a-Doctor>: HTTP status code is not handled or not allowed\n",
      "2024-12-04 10:38:51 [scrapy.core.engine] DEBUG: Crawled (200) <GET https://proxy.scrapeops.io/v1/?api_key=&url=https%3A%2F%2Fwww.fanfiction.net%2Fs%2F13920297%2F1%2FHard-to-Swallow> (referer: https://steamdb.info/graph/)\n"
     ]
    },
    {
     "name": "stdout",
     "output_type": "stream",
     "text": [
      "\n",
      "https://proxy.scrapeops.io/v1/?api_key=&url=https%3A%2F%2Fwww.fanfiction.net%2Fs%2F13920297%2F1%2FHard-to-Swallow\n"
     ]
    },
    {
     "name": "stderr",
     "output_type": "stream",
     "text": [
      "2024-12-04 10:38:52 [scrapy.core.engine] DEBUG: Crawled (200) <GET https://proxy.scrapeops.io/v1/?api_key=&url=https%3A%2F%2Fwww.fanfiction.net%2Ftv%2FSherlock%2F%3F%26srt%3D1%26r%3D103%26p%3D24> (referer: https://steamdb.info/graph/)\n",
      "2024-12-04 10:38:52 [scrapy.core.engine] DEBUG: Crawled (400) <GET https://proxy.scrapeops.io/v1/?api_key=&url=https%3A%2F%2Fproxy.scrapeops.io%2Fv1%2F%3Fapi_key%3D%26url%3Dhttps%253A%2F%2Fwww.fanfiction.net%2Fs%2F13921898%2F2%2Fi-ve-always-run-after-the-beat-of-your-heart> (referer: https://steamdb.info/graph/)\n",
      "2024-12-04 10:38:52 [scrapy.spidermiddlewares.httperror] INFO: Ignoring response <400 https://proxy.scrapeops.io/v1/?api_key=&url=https%3A%2F%2Fproxy.scrapeops.io%2Fv1%2F%3Fapi_key%3D%26url%3Dhttps%253A%2F%2Fwww.fanfiction.net%2Fs%2F13921898%2F2%2Fi-ve-always-run-after-the-beat-of-your-heart>: HTTP status code is not handled or not allowed\n"
     ]
    },
    {
     "name": "stdout",
     "output_type": "stream",
     "text": [
      "25\n"
     ]
    },
    {
     "name": "stderr",
     "output_type": "stream",
     "text": [
      "2024-12-04 10:38:53 [scrapy.core.engine] DEBUG: Crawled (200) <GET https://proxy.scrapeops.io/v1/?api_key=&url=https%3A%2F%2Fwww.fanfiction.net%2Fs%2F13900643%2F1%2FIf-You-Need-Me> (referer: https://steamdb.info/graph/)\n",
      "2024-12-04 10:38:53 [scrapy.core.engine] DEBUG: Crawled (200) <GET https://proxy.scrapeops.io/v1/?api_key=&url=https%3A%2F%2Fwww.fanfiction.net%2Fs%2F13902785%2F1%2FOriginal-Cliffhanger-Shorts> (referer: https://steamdb.info/graph/)\n"
     ]
    },
    {
     "name": "stdout",
     "output_type": "stream",
     "text": [
      "\n",
      "https://proxy.scrapeops.io/v1/?api_key=&url=https%3A%2F%2Fwww.fanfiction.net%2Fs%2F13900643%2F1%2FIf-You-Need-Me\n",
      "\n",
      "https://proxy.scrapeops.io/v1/?api_key=&url=https%3A%2F%2Fwww.fanfiction.net%2Fs%2F13902785%2F1%2FOriginal-Cliffhanger-Shorts\n"
     ]
    },
    {
     "name": "stderr",
     "output_type": "stream",
     "text": [
      "2024-12-04 10:38:54 [scrapy.core.engine] DEBUG: Crawled (200) <GET https://proxy.scrapeops.io/v1/?api_key=&url=https%3A%2F%2Fwww.fanfiction.net%2Fs%2F13895431%2F1%2FTaken-and-broken> (referer: https://steamdb.info/graph/)\n",
      "2024-12-04 10:38:54 [scrapy.downloadermiddlewares.retry] DEBUG: Retrying <GET https://proxy.scrapeops.io/v1/?api_key=&url=https%3A%2F%2Fwww.fanfiction.net%2Fs%2F13352833%2F1%2FA-slap-on-the-wrist> (failed 1 times): 429 Unknown Status\n",
      "2024-12-04 10:38:55 [scrapy.core.engine] DEBUG: Crawled (400) <GET https://proxy.scrapeops.io/v1/?api_key=&url=https%3A%2F%2Fproxy.scrapeops.io%2Fv1%2F%3Fapi_key%3D%26url%3Dhttps%253A%2F%2Fwww.fanfiction.net%2Fs%2F13853485%2F2%2FRoom-for-More> (referer: https://steamdb.info/graph/)\n",
      "2024-12-04 10:38:55 [scrapy.spidermiddlewares.httperror] INFO: Ignoring response <400 https://proxy.scrapeops.io/v1/?api_key=&url=https%3A%2F%2Fproxy.scrapeops.io%2Fv1%2F%3Fapi_key%3D%26url%3Dhttps%253A%2F%2Fwww.fanfiction.net%2Fs%2F13853485%2F2%2FRoom-for-More>: HTTP status code is not handled or not allowed\n",
      "2024-12-04 10:38:55 [scrapy.core.engine] DEBUG: Crawled (200) <GET https://proxy.scrapeops.io/v1/?api_key=&url=https%3A%2F%2Fwww.fanfiction.net%2Fs%2F13903968%2F1%2FA-day-for-wonders> (referer: https://steamdb.info/graph/)\n"
     ]
    },
    {
     "name": "stdout",
     "output_type": "stream",
     "text": [
      "\n",
      "https://proxy.scrapeops.io/v1/?api_key=&url=https%3A%2F%2Fwww.fanfiction.net%2Fs%2F13895431%2F1%2FTaken-and-broken\n",
      "\n",
      "https://proxy.scrapeops.io/v1/?api_key=&url=https%3A%2F%2Fwww.fanfiction.net%2Fs%2F13903968%2F1%2FA-day-for-wonders\n"
     ]
    },
    {
     "name": "stderr",
     "output_type": "stream",
     "text": [
      "2024-12-04 10:38:55 [scrapy.core.engine] DEBUG: Crawled (200) <GET https://proxy.scrapeops.io/v1/?api_key=&url=https%3A%2F%2Fwww.fanfiction.net%2Fs%2F11822916%2F1%2FDinner-Date> (referer: https://steamdb.info/graph/)\n",
      "2024-12-04 10:38:55 [scrapy.core.engine] DEBUG: Crawled (400) <GET https://proxy.scrapeops.io/v1/?api_key=&url=https%3A%2F%2Fproxy.scrapeops.io%2Fv1%2F%3Fapi_key%3D%26url%3Dhttps%253A%2F%2Fwww.fanfiction.net%2Fs%2F13920297%2F2%2FHard-to-Swallow> (referer: https://steamdb.info/graph/)\n",
      "2024-12-04 10:38:55 [scrapy.spidermiddlewares.httperror] INFO: Ignoring response <400 https://proxy.scrapeops.io/v1/?api_key=&url=https%3A%2F%2Fproxy.scrapeops.io%2Fv1%2F%3Fapi_key%3D%26url%3Dhttps%253A%2F%2Fwww.fanfiction.net%2Fs%2F13920297%2F2%2FHard-to-Swallow>: HTTP status code is not handled or not allowed\n"
     ]
    },
    {
     "name": "stdout",
     "output_type": "stream",
     "text": [
      "\n",
      "https://proxy.scrapeops.io/v1/?api_key=&url=https%3A%2F%2Fwww.fanfiction.net%2Fs%2F11822916%2F1%2FDinner-Date\n"
     ]
    },
    {
     "name": "stderr",
     "output_type": "stream",
     "text": [
      "2024-12-04 10:38:56 [scrapy.downloadermiddlewares.retry] DEBUG: Retrying <GET https://proxy.scrapeops.io/v1/?api_key=&url=https%3A%2F%2Fwww.fanfiction.net%2Fs%2F13902124%2F1%2FSo-Many-Words-Unsaid> (failed 1 times): 429 Unknown Status\n",
      "2024-12-04 10:38:56 [scrapy.core.engine] DEBUG: Crawled (200) <GET https://proxy.scrapeops.io/v1/?api_key=&url=https%3A%2F%2Fwww.fanfiction.net%2Fs%2F13903340%2F1%2FLet-Him-Go-Johnlock> (referer: https://steamdb.info/graph/)\n",
      "2024-12-04 10:38:56 [scrapy.core.engine] DEBUG: Crawled (400) <GET https://proxy.scrapeops.io/v1/?api_key=&url=https%3A%2F%2Fproxy.scrapeops.io%2Fv1%2F%3Fapi_key%3D%26url%3Dhttps%253A%2F%2Fwww.fanfiction.net%2Fs%2F13900643%2F2%2FIf-You-Need-Me> (referer: https://steamdb.info/graph/)\n",
      "2024-12-04 10:38:57 [scrapy.core.engine] DEBUG: Crawled (400) <GET https://proxy.scrapeops.io/v1/?api_key=&url=https%3A%2F%2Fproxy.scrapeops.io%2Fv1%2F%3Fapi_key%3D%26url%3Dhttps%253A%2F%2Fwww.fanfiction.net%2Fs%2F13902785%2F2%2FOriginal-Cliffhanger-Shorts> (referer: https://steamdb.info/graph/)\n",
      "2024-12-04 10:38:57 [scrapy.spidermiddlewares.httperror] INFO: Ignoring response <400 https://proxy.scrapeops.io/v1/?api_key=&url=https%3A%2F%2Fproxy.scrapeops.io%2Fv1%2F%3Fapi_key%3D%26url%3Dhttps%253A%2F%2Fwww.fanfiction.net%2Fs%2F13900643%2F2%2FIf-You-Need-Me>: HTTP status code is not handled or not allowed\n",
      "2024-12-04 10:38:57 [scrapy.spidermiddlewares.httperror] INFO: Ignoring response <400 https://proxy.scrapeops.io/v1/?api_key=&url=https%3A%2F%2Fproxy.scrapeops.io%2Fv1%2F%3Fapi_key%3D%26url%3Dhttps%253A%2F%2Fwww.fanfiction.net%2Fs%2F13902785%2F2%2FOriginal-Cliffhanger-Shorts>: HTTP status code is not handled or not allowed\n",
      "2024-12-04 10:38:57 [scrapy.core.engine] DEBUG: Crawled (200) <GET https://proxy.scrapeops.io/v1/?api_key=&url=https%3A%2F%2Fwww.fanfiction.net%2Fs%2F13904785%2F1%2FIf-You-Cross-Her-You-Cross-Me> (referer: https://steamdb.info/graph/)\n"
     ]
    },
    {
     "name": "stdout",
     "output_type": "stream",
     "text": [
      "\n",
      "\n",
      "https://proxy.scrapeops.io/v1/?api_key=&url=https%3A%2F%2Fwww.fanfiction.net%2Fs%2F13904785%2F1%2FIf-You-Cross-Her-You-Cross-Me\n"
     ]
    },
    {
     "name": "stderr",
     "output_type": "stream",
     "text": [
      "2024-12-04 10:38:57 [scrapy.core.engine] DEBUG: Crawled (200) <GET https://proxy.scrapeops.io/v1/?api_key=&url=https%3A%2F%2Fwww.fanfiction.net%2Fs%2F13709491%2F1%2FBienvenue-%25C3%25A0-Londres> (referer: https://steamdb.info/graph/)\n",
      "2024-12-04 10:38:57 [scrapy.core.engine] DEBUG: Crawled (200) <GET https://proxy.scrapeops.io/v1/?api_key=&url=https%3A%2F%2Fwww.fanfiction.net%2Fs%2F13905984%2F1%2FPartnerships> (referer: https://steamdb.info/graph/)\n",
      "2024-12-04 10:38:57 [scrapy.core.engine] DEBUG: Crawled (400) <GET https://proxy.scrapeops.io/v1/?api_key=&url=https%3A%2F%2Fproxy.scrapeops.io%2Fv1%2F%3Fapi_key%3D%26url%3Dhttps%253A%2F%2Fwww.fanfiction.net%2Fs%2F13895431%2F2%2FTaken-and-broken> (referer: https://steamdb.info/graph/)\n",
      "2024-12-04 10:38:58 [scrapy.core.engine] DEBUG: Crawled (400) <GET https://proxy.scrapeops.io/v1/?api_key=&url=https%3A%2F%2Fproxy.scrapeops.io%2Fv1%2F%3Fapi_key%3D%26url%3Dhttps%253A%2F%2Fwww.fanfiction.net%2Fs%2F13903968%2F2%2FA-day-for-wonders> (referer: https://steamdb.info/graph/)\n",
      "2024-12-04 10:38:58 [scrapy.spidermiddlewares.httperror] INFO: Ignoring response <400 https://proxy.scrapeops.io/v1/?api_key=&url=https%3A%2F%2Fproxy.scrapeops.io%2Fv1%2F%3Fapi_key%3D%26url%3Dhttps%253A%2F%2Fwww.fanfiction.net%2Fs%2F13895431%2F2%2FTaken-and-broken>: HTTP status code is not handled or not allowed\n",
      "2024-12-04 10:38:58 [scrapy.core.engine] DEBUG: Crawled (400) <GET https://proxy.scrapeops.io/v1/?api_key=&url=https%3A%2F%2Fproxy.scrapeops.io%2Fv1%2F%3Fapi_key%3D%26url%3Dhttps%253A%2F%2Fwww.fanfiction.net%2Fs%2F11822916%2F2%2FDinner-Date> (referer: https://steamdb.info/graph/)\n",
      "2024-12-04 10:38:58 [scrapy.spidermiddlewares.httperror] INFO: Ignoring response <400 https://proxy.scrapeops.io/v1/?api_key=&url=https%3A%2F%2Fproxy.scrapeops.io%2Fv1%2F%3Fapi_key%3D%26url%3Dhttps%253A%2F%2Fwww.fanfiction.net%2Fs%2F13903968%2F2%2FA-day-for-wonders>: HTTP status code is not handled or not allowed\n"
     ]
    },
    {
     "name": "stdout",
     "output_type": "stream",
     "text": [
      "\n",
      "\n",
      "https://proxy.scrapeops.io/v1/?api_key=&url=https%3A%2F%2Fwww.fanfiction.net%2Fs%2F13905984%2F1%2FPartnerships\n"
     ]
    },
    {
     "name": "stderr",
     "output_type": "stream",
     "text": [
      "2024-12-04 10:38:58 [scrapy.spidermiddlewares.httperror] INFO: Ignoring response <400 https://proxy.scrapeops.io/v1/?api_key=&url=https%3A%2F%2Fproxy.scrapeops.io%2Fv1%2F%3Fapi_key%3D%26url%3Dhttps%253A%2F%2Fwww.fanfiction.net%2Fs%2F11822916%2F2%2FDinner-Date>: HTTP status code is not handled or not allowed\n",
      "2024-12-04 10:38:58 [scrapy.core.engine] DEBUG: Crawled (200) <GET https://proxy.scrapeops.io/v1/?api_key=&url=https%3A%2F%2Fwww.fanfiction.net%2Fs%2F13884002%2F1%2FSherlock-Jak-m%25C3%25B3g%25C5%2582by-zako%25C5%2584czy%25C4%2587-si%25C4%2599-po-3-sezonie-Moja-wersja> (referer: https://steamdb.info/graph/)\n",
      "2024-12-04 10:38:58 [scrapy.core.engine] DEBUG: Crawled (200) <GET https://proxy.scrapeops.io/v1/?api_key=&url=https%3A%2F%2Fwww.fanfiction.net%2Fs%2F13919642%2F1%2FThe-Skull> (referer: https://steamdb.info/graph/)\n"
     ]
    },
    {
     "name": "stdout",
     "output_type": "stream",
     "text": [
      "\n",
      "\n",
      "https://proxy.scrapeops.io/v1/?api_key=&url=https%3A%2F%2Fwww.fanfiction.net%2Fs%2F13919642%2F1%2FThe-Skull\n"
     ]
    },
    {
     "name": "stderr",
     "output_type": "stream",
     "text": [
      "2024-12-04 10:38:59 [scrapy.core.engine] DEBUG: Crawled (200) <GET https://proxy.scrapeops.io/v1/?api_key=&url=https%3A%2F%2Fwww.fanfiction.net%2Fs%2F13870809%2F1%2FOversurveillance> (referer: https://steamdb.info/graph/)\n",
      "2024-12-04 10:38:59 [scrapy.core.engine] DEBUG: Crawled (200) <GET https://proxy.scrapeops.io/v1/?api_key=&url=https%3A%2F%2Fwww.fanfiction.net%2Fs%2F13883064%2F1%2FElouise> (referer: https://steamdb.info/graph/)\n",
      "2024-12-04 10:38:59 [scrapy.core.engine] DEBUG: Crawled (400) <GET https://proxy.scrapeops.io/v1/?api_key=&url=https%3A%2F%2Fproxy.scrapeops.io%2Fv1%2F%3Fapi_key%3D%26url%3Dhttps%253A%2F%2Fwww.fanfiction.net%2Fs%2F13904785%2F2%2FIf-You-Cross-Her-You-Cross-Me> (referer: https://steamdb.info/graph/)\n",
      "2024-12-04 10:38:59 [scrapy.spidermiddlewares.httperror] INFO: Ignoring response <400 https://proxy.scrapeops.io/v1/?api_key=&url=https%3A%2F%2Fproxy.scrapeops.io%2Fv1%2F%3Fapi_key%3D%26url%3Dhttps%253A%2F%2Fwww.fanfiction.net%2Fs%2F13904785%2F2%2FIf-You-Cross-Her-You-Cross-Me>: HTTP status code is not handled or not allowed\n"
     ]
    },
    {
     "name": "stdout",
     "output_type": "stream",
     "text": [
      "\n",
      "https://proxy.scrapeops.io/v1/?api_key=&url=https%3A%2F%2Fwww.fanfiction.net%2Fs%2F13870809%2F1%2FOversurveillance\n",
      "\n",
      "https://proxy.scrapeops.io/v1/?api_key=&url=https%3A%2F%2Fwww.fanfiction.net%2Fs%2F13883064%2F1%2FElouise\n"
     ]
    },
    {
     "name": "stderr",
     "output_type": "stream",
     "text": [
      "2024-12-04 10:39:00 [scrapy.core.engine] DEBUG: Crawled (200) <GET https://proxy.scrapeops.io/v1/?api_key=&url=https%3A%2F%2Fwww.fanfiction.net%2Fs%2F13864897%2F1%2FHide-me> (referer: https://steamdb.info/graph/)\n",
      "2024-12-04 10:39:00 [scrapy.downloadermiddlewares.retry] DEBUG: Retrying <GET https://proxy.scrapeops.io/v1/?api_key=&url=https%3A%2F%2Fwww.fanfiction.net%2Fs%2F12289102%2F1%2FNobody-Knows-My-Heart-Like-You> (failed 1 times): 429 Unknown Status\n"
     ]
    },
    {
     "name": "stdout",
     "output_type": "stream",
     "text": [
      "\n",
      "https://proxy.scrapeops.io/v1/?api_key=&url=https%3A%2F%2Fwww.fanfiction.net%2Fs%2F13864897%2F1%2FHide-me\n"
     ]
    },
    {
     "name": "stderr",
     "output_type": "stream",
     "text": [
      "2024-12-04 10:39:01 [scrapy.core.engine] DEBUG: Crawled (200) <GET https://proxy.scrapeops.io/v1/?api_key=&url=https%3A%2F%2Fwww.fanfiction.net%2Fs%2F13776700%2F1%2FReturning-To-You> (referer: https://steamdb.info/graph/)\n",
      "2024-12-04 10:39:01 [scrapy.core.engine] DEBUG: Crawled (400) <GET https://proxy.scrapeops.io/v1/?api_key=&url=https%3A%2F%2Fproxy.scrapeops.io%2Fv1%2F%3Fapi_key%3D%26url%3Dhttps%253A%2F%2Fwww.fanfiction.net%2Fs%2F13905984%2F2%2FPartnerships> (referer: https://steamdb.info/graph/)\n",
      "2024-12-04 10:39:01 [scrapy.spidermiddlewares.httperror] INFO: Ignoring response <400 https://proxy.scrapeops.io/v1/?api_key=&url=https%3A%2F%2Fproxy.scrapeops.io%2Fv1%2F%3Fapi_key%3D%26url%3Dhttps%253A%2F%2Fwww.fanfiction.net%2Fs%2F13905984%2F2%2FPartnerships>: HTTP status code is not handled or not allowed\n"
     ]
    },
    {
     "name": "stdout",
     "output_type": "stream",
     "text": [
      "\n",
      "https://proxy.scrapeops.io/v1/?api_key=&url=https%3A%2F%2Fwww.fanfiction.net%2Fs%2F13776700%2F1%2FReturning-To-You\n"
     ]
    },
    {
     "name": "stderr",
     "output_type": "stream",
     "text": [
      "2024-12-04 10:39:01 [scrapy.downloadermiddlewares.retry] DEBUG: Retrying <GET https://proxy.scrapeops.io/v1/?api_key=&url=https%3A%2F%2Fwww.fanfiction.net%2Ftv%2FSherlock%2F%3F%26srt%3D1%26r%3D103%26p%3D25> (failed 1 times): 429 Unknown Status\n",
      "2024-12-04 10:39:01 [scrapy.core.engine] DEBUG: Crawled (200) <GET https://proxy.scrapeops.io/v1/?api_key=&url=https%3A%2F%2Fwww.fanfiction.net%2Fs%2F13881091%2F1%2FAfter-the-Hound> (referer: https://steamdb.info/graph/)\n",
      "2024-12-04 10:39:01 [scrapy.core.engine] DEBUG: Crawled (400) <GET https://proxy.scrapeops.io/v1/?api_key=&url=https%3A%2F%2Fproxy.scrapeops.io%2Fv1%2F%3Fapi_key%3D%26url%3Dhttps%253A%2F%2Fwww.fanfiction.net%2Fs%2F13919642%2F2%2FThe-Skull> (referer: https://steamdb.info/graph/)\n",
      "2024-12-04 10:39:01 [scrapy.spidermiddlewares.httperror] INFO: Ignoring response <400 https://proxy.scrapeops.io/v1/?api_key=&url=https%3A%2F%2Fproxy.scrapeops.io%2Fv1%2F%3Fapi_key%3D%26url%3Dhttps%253A%2F%2Fwww.fanfiction.net%2Fs%2F13919642%2F2%2FThe-Skull>: HTTP status code is not handled or not allowed\n"
     ]
    },
    {
     "name": "stdout",
     "output_type": "stream",
     "text": [
      "\n",
      "https://proxy.scrapeops.io/v1/?api_key=&url=https%3A%2F%2Fwww.fanfiction.net%2Fs%2F13881091%2F1%2FAfter-the-Hound\n"
     ]
    },
    {
     "name": "stderr",
     "output_type": "stream",
     "text": [
      "2024-12-04 10:39:02 [scrapy.core.engine] DEBUG: Crawled (200) <GET https://proxy.scrapeops.io/v1/?api_key=&url=https%3A%2F%2Fwww.fanfiction.net%2Fs%2F13883993%2F1%2FBeautiful-Boy> (referer: https://steamdb.info/graph/)\n",
      "2024-12-04 10:39:02 [scrapy.core.engine] DEBUG: Crawled (400) <GET https://proxy.scrapeops.io/v1/?api_key=&url=https%3A%2F%2Fproxy.scrapeops.io%2Fv1%2F%3Fapi_key%3D%26url%3Dhttps%253A%2F%2Fwww.fanfiction.net%2Fs%2F13870809%2F2%2FOversurveillance> (referer: https://steamdb.info/graph/)\n",
      "2024-12-04 10:39:02 [scrapy.spidermiddlewares.httperror] INFO: Ignoring response <400 https://proxy.scrapeops.io/v1/?api_key=&url=https%3A%2F%2Fproxy.scrapeops.io%2Fv1%2F%3Fapi_key%3D%26url%3Dhttps%253A%2F%2Fwww.fanfiction.net%2Fs%2F13870809%2F2%2FOversurveillance>: HTTP status code is not handled or not allowed\n",
      "2024-12-04 10:39:02 [scrapy.core.engine] DEBUG: Crawled (400) <GET https://proxy.scrapeops.io/v1/?api_key=&url=https%3A%2F%2Fproxy.scrapeops.io%2Fv1%2F%3Fapi_key%3D%26url%3Dhttps%253A%2F%2Fwww.fanfiction.net%2Fs%2F13883064%2F2%2FElouise> (referer: https://steamdb.info/graph/)\n"
     ]
    },
    {
     "name": "stdout",
     "output_type": "stream",
     "text": [
      "\n",
      "https://proxy.scrapeops.io/v1/?api_key=&url=https%3A%2F%2Fwww.fanfiction.net%2Fs%2F13883993%2F1%2FBeautiful-Boy\n"
     ]
    },
    {
     "name": "stderr",
     "output_type": "stream",
     "text": [
      "2024-12-04 10:39:02 [scrapy.spidermiddlewares.httperror] INFO: Ignoring response <400 https://proxy.scrapeops.io/v1/?api_key=&url=https%3A%2F%2Fproxy.scrapeops.io%2Fv1%2F%3Fapi_key%3D%26url%3Dhttps%253A%2F%2Fwww.fanfiction.net%2Fs%2F13883064%2F2%2FElouise>: HTTP status code is not handled or not allowed\n",
      "2024-12-04 10:39:02 [scrapy.core.engine] DEBUG: Crawled (200) <GET https://proxy.scrapeops.io/v1/?api_key=&url=https%3A%2F%2Fwww.fanfiction.net%2Fs%2F8908467%2F1%2FWedding-Times> (referer: https://steamdb.info/graph/)\n",
      "2024-12-04 10:39:02 [scrapy.core.engine] DEBUG: Crawled (400) <GET https://proxy.scrapeops.io/v1/?api_key=&url=https%3A%2F%2Fproxy.scrapeops.io%2Fv1%2F%3Fapi_key%3D%26url%3Dhttps%253A%2F%2Fwww.fanfiction.net%2Fs%2F13864897%2F2%2FHide-me> (referer: https://steamdb.info/graph/)\n",
      "2024-12-04 10:39:02 [scrapy.spidermiddlewares.httperror] INFO: Ignoring response <400 https://proxy.scrapeops.io/v1/?api_key=&url=https%3A%2F%2Fproxy.scrapeops.io%2Fv1%2F%3Fapi_key%3D%26url%3Dhttps%253A%2F%2Fwww.fanfiction.net%2Fs%2F13864897%2F2%2FHide-me>: HTTP status code is not handled or not allowed\n"
     ]
    },
    {
     "name": "stdout",
     "output_type": "stream",
     "text": [
      "\n",
      "https://proxy.scrapeops.io/v1/?api_key=&url=https%3A%2F%2Fwww.fanfiction.net%2Fs%2F8908467%2F1%2FWedding-Times\n"
     ]
    },
    {
     "name": "stderr",
     "output_type": "stream",
     "text": [
      "2024-12-04 10:39:02 [scrapy.core.engine] DEBUG: Crawled (400) <GET https://proxy.scrapeops.io/v1/?api_key=&url=https%3A%2F%2Fproxy.scrapeops.io%2Fv1%2F%3Fapi_key%3D%26url%3Dhttps%253A%2F%2Fwww.fanfiction.net%2Fs%2F13776700%2F2%2FReturning-To-You> (referer: https://steamdb.info/graph/)\n",
      "2024-12-04 10:39:02 [scrapy.spidermiddlewares.httperror] INFO: Ignoring response <400 https://proxy.scrapeops.io/v1/?api_key=&url=https%3A%2F%2Fproxy.scrapeops.io%2Fv1%2F%3Fapi_key%3D%26url%3Dhttps%253A%2F%2Fwww.fanfiction.net%2Fs%2F13776700%2F2%2FReturning-To-You>: HTTP status code is not handled or not allowed\n",
      "2024-12-04 10:39:03 [scrapy.core.engine] DEBUG: Crawled (200) <GET https://proxy.scrapeops.io/v1/?api_key=&url=https%3A%2F%2Fwww.fanfiction.net%2Fs%2F13890350%2F1%2FI-ll-Never-Leave-you-If-John-Does> (referer: https://steamdb.info/graph/)\n",
      "2024-12-04 10:39:03 [scrapy.core.engine] DEBUG: Crawled (200) <GET https://proxy.scrapeops.io/v1/?api_key=&url=https%3A%2F%2Fwww.fanfiction.net%2Fs%2F13852289%2F1%2FLa-Ni%25C3%25B1a-que-lleg%25C3%25B3-al-221B-de-Baker-Street> (referer: https://steamdb.info/graph/)\n"
     ]
    },
    {
     "name": "stdout",
     "output_type": "stream",
     "text": [
      "\n",
      "https://proxy.scrapeops.io/v1/?api_key=&url=https%3A%2F%2Fwww.fanfiction.net%2Fs%2F13890350%2F1%2FI-ll-Never-Leave-you-If-John-Does\n"
     ]
    },
    {
     "name": "stderr",
     "output_type": "stream",
     "text": [
      "2024-12-04 10:39:03 [scrapy.core.engine] DEBUG: Crawled (400) <GET https://proxy.scrapeops.io/v1/?api_key=&url=https%3A%2F%2Fproxy.scrapeops.io%2Fv1%2F%3Fapi_key%3D%26url%3Dhttps%253A%2F%2Fwww.fanfiction.net%2Fs%2F13881091%2F2%2FAfter-the-Hound> (referer: https://steamdb.info/graph/)\n",
      "2024-12-04 10:39:03 [scrapy.spidermiddlewares.httperror] INFO: Ignoring response <400 https://proxy.scrapeops.io/v1/?api_key=&url=https%3A%2F%2Fproxy.scrapeops.io%2Fv1%2F%3Fapi_key%3D%26url%3Dhttps%253A%2F%2Fwww.fanfiction.net%2Fs%2F13881091%2F2%2FAfter-the-Hound>: HTTP status code is not handled or not allowed\n"
     ]
    },
    {
     "name": "stdout",
     "output_type": "stream",
     "text": [
      "\n"
     ]
    },
    {
     "name": "stderr",
     "output_type": "stream",
     "text": [
      "2024-12-04 10:39:04 [scrapy.core.engine] DEBUG: Crawled (200) <GET https://proxy.scrapeops.io/v1/?api_key=&url=https%3A%2F%2Fwww.fanfiction.net%2Fs%2F13813386%2F1%2FLe-soldat-la-rose-et-le-pirate> (referer: https://steamdb.info/graph/)\n",
      "2024-12-04 10:39:04 [scrapy.core.engine] DEBUG: Crawled (200) <GET https://proxy.scrapeops.io/v1/?api_key=&url=https%3A%2F%2Fwww.fanfiction.net%2Fs%2F13852306%2F1%2FThe-Girl-Who-Arrived-to-221B-Baker-Street> (referer: https://steamdb.info/graph/)\n",
      "2024-12-04 10:39:04 [scrapy.core.engine] DEBUG: Crawled (400) <GET https://proxy.scrapeops.io/v1/?api_key=&url=https%3A%2F%2Fproxy.scrapeops.io%2Fv1%2F%3Fapi_key%3D%26url%3Dhttps%253A%2F%2Fwww.fanfiction.net%2Fs%2F13883993%2F2%2FBeautiful-Boy> (referer: https://steamdb.info/graph/)\n",
      "2024-12-04 10:39:04 [scrapy.spidermiddlewares.httperror] INFO: Ignoring response <400 https://proxy.scrapeops.io/v1/?api_key=&url=https%3A%2F%2Fproxy.scrapeops.io%2Fv1%2F%3Fapi_key%3D%26url%3Dhttps%253A%2F%2Fwww.fanfiction.net%2Fs%2F13883993%2F2%2FBeautiful-Boy>: HTTP status code is not handled or not allowed\n"
     ]
    },
    {
     "name": "stdout",
     "output_type": "stream",
     "text": [
      "\n",
      "\n",
      "https://proxy.scrapeops.io/v1/?api_key=&url=https%3A%2F%2Fwww.fanfiction.net%2Fs%2F13852306%2F1%2FThe-Girl-Who-Arrived-to-221B-Baker-Street\n"
     ]
    },
    {
     "name": "stderr",
     "output_type": "stream",
     "text": [
      "2024-12-04 10:39:04 [scrapy.core.engine] DEBUG: Crawled (200) <GET https://proxy.scrapeops.io/v1/?api_key=&url=https%3A%2F%2Fwww.fanfiction.net%2Fs%2F13903577%2F1%2FThe-Returning-Soldier> (referer: https://steamdb.info/graph/)\n",
      "2024-12-04 10:39:04 [scrapy.core.engine] DEBUG: Crawled (400) <GET https://proxy.scrapeops.io/v1/?api_key=&url=https%3A%2F%2Fproxy.scrapeops.io%2Fv1%2F%3Fapi_key%3D%26url%3Dhttps%253A%2F%2Fwww.fanfiction.net%2Fs%2F8908467%2F2%2FWedding-Times> (referer: https://steamdb.info/graph/)\n",
      "2024-12-04 10:39:05 [scrapy.spidermiddlewares.httperror] INFO: Ignoring response <400 https://proxy.scrapeops.io/v1/?api_key=&url=https%3A%2F%2Fproxy.scrapeops.io%2Fv1%2F%3Fapi_key%3D%26url%3Dhttps%253A%2F%2Fwww.fanfiction.net%2Fs%2F8908467%2F2%2FWedding-Times>: HTTP status code is not handled or not allowed\n"
     ]
    },
    {
     "name": "stdout",
     "output_type": "stream",
     "text": [
      "\n",
      "https://proxy.scrapeops.io/v1/?api_key=&url=https%3A%2F%2Fwww.fanfiction.net%2Fs%2F13903577%2F1%2FThe-Returning-Soldier\n"
     ]
    },
    {
     "name": "stderr",
     "output_type": "stream",
     "text": [
      "2024-12-04 10:39:05 [scrapy.downloadermiddlewares.retry] DEBUG: Retrying <GET https://proxy.scrapeops.io/v1/?api_key=&url=https%3A%2F%2Fwww.fanfiction.net%2Fs%2F13888203%2F1%2FMirror> (failed 1 times): 429 Unknown Status\n",
      "2024-12-04 10:39:05 [scrapy.core.engine] DEBUG: Crawled (200) <GET https://proxy.scrapeops.io/v1/?api_key=&url=https%3A%2F%2Fwww.fanfiction.net%2Fs%2F13891867%2F1%2FYour-Voice> (referer: https://steamdb.info/graph/)\n",
      "2024-12-04 10:39:05 [scrapy.core.engine] DEBUG: Crawled (400) <GET https://proxy.scrapeops.io/v1/?api_key=&url=https%3A%2F%2Fproxy.scrapeops.io%2Fv1%2F%3Fapi_key%3D%26url%3Dhttps%253A%2F%2Fwww.fanfiction.net%2Fs%2F13890350%2F2%2FI-ll-Never-Leave-you-If-John-Does> (referer: https://steamdb.info/graph/)\n",
      "2024-12-04 10:39:05 [scrapy.spidermiddlewares.httperror] INFO: Ignoring response <400 https://proxy.scrapeops.io/v1/?api_key=&url=https%3A%2F%2Fproxy.scrapeops.io%2Fv1%2F%3Fapi_key%3D%26url%3Dhttps%253A%2F%2Fwww.fanfiction.net%2Fs%2F13890350%2F2%2FI-ll-Never-Leave-you-If-John-Does>: HTTP status code is not handled or not allowed\n",
      "2024-12-04 10:39:05 [scrapy.core.engine] DEBUG: Crawled (200) <GET https://proxy.scrapeops.io/v1/?api_key=&url=https%3A%2F%2Fwww.fanfiction.net%2Fs%2F13891876%2F1%2FStill-Not-Alone> (referer: https://steamdb.info/graph/)\n"
     ]
    },
    {
     "name": "stdout",
     "output_type": "stream",
     "text": [
      "\n",
      "https://proxy.scrapeops.io/v1/?api_key=&url=https%3A%2F%2Fwww.fanfiction.net%2Fs%2F13891867%2F1%2FYour-Voice\n",
      "\n",
      "https://proxy.scrapeops.io/v1/?api_key=&url=https%3A%2F%2Fwww.fanfiction.net%2Fs%2F13891876%2F1%2FStill-Not-Alone\n"
     ]
    },
    {
     "name": "stderr",
     "output_type": "stream",
     "text": [
      "2024-12-04 10:39:06 [scrapy.core.engine] DEBUG: Crawled (200) <GET https://proxy.scrapeops.io/v1/?api_key=&url=https%3A%2F%2Fwww.fanfiction.net%2Fs%2F8662104%2F1%2FL-ange-aux-ailes-bris%25C3%25A9es> (referer: https://steamdb.info/graph/)\n",
      "2024-12-04 10:39:06 [scrapy.core.engine] DEBUG: Crawled (200) <GET https://proxy.scrapeops.io/v1/?api_key=&url=https%3A%2F%2Fwww.fanfiction.net%2Fs%2F13818545%2F1%2FBroken-Bones-and-Broken-Homes> (referer: https://steamdb.info/graph/)\n"
     ]
    },
    {
     "name": "stdout",
     "output_type": "stream",
     "text": [
      "\n",
      "\n",
      "https://proxy.scrapeops.io/v1/?api_key=&url=https%3A%2F%2Fwww.fanfiction.net%2Fs%2F13818545%2F1%2FBroken-Bones-and-Broken-Homes\n"
     ]
    },
    {
     "name": "stderr",
     "output_type": "stream",
     "text": [
      "2024-12-04 10:39:06 [scrapy.core.engine] DEBUG: Crawled (200) <GET https://proxy.scrapeops.io/v1/?api_key=&url=https%3A%2F%2Fwww.fanfiction.net%2Fs%2F13829768%2F1%2FOtterly-Ridiculous> (referer: https://steamdb.info/graph/)\n",
      "2024-12-04 10:39:07 [scrapy.core.engine] DEBUG: Crawled (400) <GET https://proxy.scrapeops.io/v1/?api_key=&url=https%3A%2F%2Fproxy.scrapeops.io%2Fv1%2F%3Fapi_key%3D%26url%3Dhttps%253A%2F%2Fwww.fanfiction.net%2Fs%2F13852306%2F2%2FThe-Girl-Who-Arrived-to-221B-Baker-Street> (referer: https://steamdb.info/graph/)\n",
      "2024-12-04 10:39:07 [scrapy.core.engine] DEBUG: Crawled (400) <GET https://proxy.scrapeops.io/v1/?api_key=&url=https%3A%2F%2Fproxy.scrapeops.io%2Fv1%2F%3Fapi_key%3D%26url%3Dhttps%253A%2F%2Fwww.fanfiction.net%2Fs%2F13903577%2F2%2FThe-Returning-Soldier> (referer: https://steamdb.info/graph/)\n",
      "2024-12-04 10:39:07 [scrapy.spidermiddlewares.httperror] INFO: Ignoring response <400 https://proxy.scrapeops.io/v1/?api_key=&url=https%3A%2F%2Fproxy.scrapeops.io%2Fv1%2F%3Fapi_key%3D%26url%3Dhttps%253A%2F%2Fwww.fanfiction.net%2Fs%2F13852306%2F2%2FThe-Girl-Who-Arrived-to-221B-Baker-Street>: HTTP status code is not handled or not allowed\n",
      "2024-12-04 10:39:07 [scrapy.spidermiddlewares.httperror] INFO: Ignoring response <400 https://proxy.scrapeops.io/v1/?api_key=&url=https%3A%2F%2Fproxy.scrapeops.io%2Fv1%2F%3Fapi_key%3D%26url%3Dhttps%253A%2F%2Fwww.fanfiction.net%2Fs%2F13903577%2F2%2FThe-Returning-Soldier>: HTTP status code is not handled or not allowed\n"
     ]
    },
    {
     "name": "stdout",
     "output_type": "stream",
     "text": [
      "\n",
      "https://proxy.scrapeops.io/v1/?api_key=&url=https%3A%2F%2Fwww.fanfiction.net%2Fs%2F13829768%2F1%2FOtterly-Ridiculous\n"
     ]
    },
    {
     "name": "stderr",
     "output_type": "stream",
     "text": [
      "2024-12-04 10:39:07 [scrapy.core.engine] DEBUG: Crawled (200) <GET https://proxy.scrapeops.io/v1/?api_key=&url=https%3A%2F%2Fwww.fanfiction.net%2Fs%2F13877288%2F1%2FPrequel-to-The-Syncode> (referer: https://steamdb.info/graph/)\n"
     ]
    },
    {
     "name": "stdout",
     "output_type": "stream",
     "text": [
      "\n",
      "https://proxy.scrapeops.io/v1/?api_key=&url=https%3A%2F%2Fwww.fanfiction.net%2Fs%2F13877288%2F1%2FPrequel-to-The-Syncode\n"
     ]
    },
    {
     "name": "stderr",
     "output_type": "stream",
     "text": [
      "2024-12-04 10:39:07 [scrapy.core.engine] DEBUG: Crawled (200) <GET https://proxy.scrapeops.io/v1/?api_key=&url=https%3A%2F%2Fwww.fanfiction.net%2Fs%2F13897134%2F1%2FLoving-Lestrade> (referer: https://steamdb.info/graph/)\n"
     ]
    },
    {
     "name": "stdout",
     "output_type": "stream",
     "text": [
      "\n",
      "https://proxy.scrapeops.io/v1/?api_key=&url=https%3A%2F%2Fwww.fanfiction.net%2Fs%2F13897134%2F1%2FLoving-Lestrade\n"
     ]
    },
    {
     "name": "stderr",
     "output_type": "stream",
     "text": [
      "2024-12-04 10:39:08 [scrapy.downloadermiddlewares.retry] DEBUG: Retrying <GET https://proxy.scrapeops.io/v1/?api_key=&url=https%3A%2F%2Fwww.fanfiction.net%2Fs%2F13891843%2F1%2FIrreplaceable> (failed 1 times): 429 Unknown Status\n",
      "2024-12-04 10:39:08 [scrapy.core.engine] DEBUG: Crawled (400) <GET https://proxy.scrapeops.io/v1/?api_key=&url=https%3A%2F%2Fproxy.scrapeops.io%2Fv1%2F%3Fapi_key%3D%26url%3Dhttps%253A%2F%2Fwww.fanfiction.net%2Fs%2F13891867%2F2%2FYour-Voice> (referer: https://steamdb.info/graph/)\n",
      "2024-12-04 10:39:08 [scrapy.core.engine] DEBUG: Crawled (400) <GET https://proxy.scrapeops.io/v1/?api_key=&url=https%3A%2F%2Fproxy.scrapeops.io%2Fv1%2F%3Fapi_key%3D%26url%3Dhttps%253A%2F%2Fwww.fanfiction.net%2Fs%2F13891876%2F2%2FStill-Not-Alone> (referer: https://steamdb.info/graph/)\n",
      "2024-12-04 10:39:08 [scrapy.spidermiddlewares.httperror] INFO: Ignoring response <400 https://proxy.scrapeops.io/v1/?api_key=&url=https%3A%2F%2Fproxy.scrapeops.io%2Fv1%2F%3Fapi_key%3D%26url%3Dhttps%253A%2F%2Fwww.fanfiction.net%2Fs%2F13891867%2F2%2FYour-Voice>: HTTP status code is not handled or not allowed\n",
      "2024-12-04 10:39:08 [scrapy.spidermiddlewares.httperror] INFO: Ignoring response <400 https://proxy.scrapeops.io/v1/?api_key=&url=https%3A%2F%2Fproxy.scrapeops.io%2Fv1%2F%3Fapi_key%3D%26url%3Dhttps%253A%2F%2Fwww.fanfiction.net%2Fs%2F13891876%2F2%2FStill-Not-Alone>: HTTP status code is not handled or not allowed\n",
      "2024-12-04 10:39:08 [scrapy.core.engine] DEBUG: Crawled (200) <GET https://proxy.scrapeops.io/v1/?api_key=&url=https%3A%2F%2Fwww.fanfiction.net%2Fs%2F13897415%2F1%2FYou-Saved-Me> (referer: https://steamdb.info/graph/)\n",
      "2024-12-04 10:39:08 [scrapy.core.engine] DEBUG: Crawled (400) <GET https://proxy.scrapeops.io/v1/?api_key=&url=https%3A%2F%2Fproxy.scrapeops.io%2Fv1%2F%3Fapi_key%3D%26url%3Dhttps%253A%2F%2Fwww.fanfiction.net%2Fs%2F13818545%2F2%2FBroken-Bones-and-Broken-Homes> (referer: https://steamdb.info/graph/)\n",
      "2024-12-04 10:39:08 [scrapy.spidermiddlewares.httperror] INFO: Ignoring response <400 https://proxy.scrapeops.io/v1/?api_key=&url=https%3A%2F%2Fproxy.scrapeops.io%2Fv1%2F%3Fapi_key%3D%26url%3Dhttps%253A%2F%2Fwww.fanfiction.net%2Fs%2F13818545%2F2%2FBroken-Bones-and-Broken-Homes>: HTTP status code is not handled or not allowed\n",
      "2024-12-04 10:39:08 [scrapy.core.engine] DEBUG: Crawled (200) <GET https://proxy.scrapeops.io/v1/?api_key=&url=https%3A%2F%2Fwww.fanfiction.net%2Fs%2F13908728%2F1%2Fbut-in-the-end-still-this> (referer: https://steamdb.info/graph/)\n"
     ]
    },
    {
     "name": "stdout",
     "output_type": "stream",
     "text": [
      "\n",
      "https://proxy.scrapeops.io/v1/?api_key=&url=https%3A%2F%2Fwww.fanfiction.net%2Fs%2F13897415%2F1%2FYou-Saved-Me\n"
     ]
    },
    {
     "name": "stderr",
     "output_type": "stream",
     "text": [
      "2024-12-04 10:39:08 [scrapy.core.engine] DEBUG: Crawled (400) <GET https://proxy.scrapeops.io/v1/?api_key=&url=https%3A%2F%2Fproxy.scrapeops.io%2Fv1%2F%3Fapi_key%3D%26url%3Dhttps%253A%2F%2Fwww.fanfiction.net%2Fs%2F13829768%2F2%2FOtterly-Ridiculous> (referer: https://steamdb.info/graph/)\n",
      "2024-12-04 10:39:08 [scrapy.spidermiddlewares.httperror] INFO: Ignoring response <400 https://proxy.scrapeops.io/v1/?api_key=&url=https%3A%2F%2Fproxy.scrapeops.io%2Fv1%2F%3Fapi_key%3D%26url%3Dhttps%253A%2F%2Fwww.fanfiction.net%2Fs%2F13829768%2F2%2FOtterly-Ridiculous>: HTTP status code is not handled or not allowed\n",
      "2024-12-04 10:39:09 [scrapy.core.engine] DEBUG: Crawled (200) <GET https://proxy.scrapeops.io/v1/?api_key=&url=https%3A%2F%2Fwww.fanfiction.net%2Fs%2F13829459%2F1%2FOf-Squib-and-Stones> (referer: https://steamdb.info/graph/)\n"
     ]
    },
    {
     "name": "stdout",
     "output_type": "stream",
     "text": [
      "\n",
      "https://proxy.scrapeops.io/v1/?api_key=&url=https%3A%2F%2Fwww.fanfiction.net%2Fs%2F13908728%2F1%2Fbut-in-the-end-still-this\n"
     ]
    },
    {
     "name": "stderr",
     "output_type": "stream",
     "text": [
      "2024-12-04 10:39:09 [scrapy.core.engine] DEBUG: Crawled (400) <GET https://proxy.scrapeops.io/v1/?api_key=&url=https%3A%2F%2Fproxy.scrapeops.io%2Fv1%2F%3Fapi_key%3D%26url%3Dhttps%253A%2F%2Fwww.fanfiction.net%2Fs%2F13877288%2F2%2FPrequel-to-The-Syncode> (referer: https://steamdb.info/graph/)\n",
      "2024-12-04 10:39:09 [scrapy.core.engine] DEBUG: Crawled (200) <GET https://proxy.scrapeops.io/v1/?api_key=&url=https%3A%2F%2Fwww.fanfiction.net%2Fs%2F13874276%2F1%2FThe-Love-She-Found-in-Him> (referer: https://steamdb.info/graph/)\n",
      "2024-12-04 10:39:09 [scrapy.core.engine] DEBUG: Crawled (400) <GET https://proxy.scrapeops.io/v1/?api_key=&url=https%3A%2F%2Fproxy.scrapeops.io%2Fv1%2F%3Fapi_key%3D%26url%3Dhttps%253A%2F%2Fwww.fanfiction.net%2Fs%2F13897134%2F2%2FLoving-Lestrade> (referer: https://steamdb.info/graph/)\n",
      "2024-12-04 10:39:09 [scrapy.spidermiddlewares.httperror] INFO: Ignoring response <400 https://proxy.scrapeops.io/v1/?api_key=&url=https%3A%2F%2Fproxy.scrapeops.io%2Fv1%2F%3Fapi_key%3D%26url%3Dhttps%253A%2F%2Fwww.fanfiction.net%2Fs%2F13877288%2F2%2FPrequel-to-The-Syncode>: HTTP status code is not handled or not allowed\n",
      "2024-12-04 10:39:09 [scrapy.spidermiddlewares.httperror] INFO: Ignoring response <400 https://proxy.scrapeops.io/v1/?api_key=&url=https%3A%2F%2Fproxy.scrapeops.io%2Fv1%2F%3Fapi_key%3D%26url%3Dhttps%253A%2F%2Fwww.fanfiction.net%2Fs%2F13897134%2F2%2FLoving-Lestrade>: HTTP status code is not handled or not allowed\n"
     ]
    },
    {
     "name": "stdout",
     "output_type": "stream",
     "text": [
      "\n",
      "\n",
      "https://proxy.scrapeops.io/v1/?api_key=&url=https%3A%2F%2Fwww.fanfiction.net%2Fs%2F13874276%2F1%2FThe-Love-She-Found-in-Him\n"
     ]
    },
    {
     "name": "stderr",
     "output_type": "stream",
     "text": [
      "2024-12-04 10:39:09 [scrapy.core.engine] DEBUG: Crawled (200) <GET https://proxy.scrapeops.io/v1/?api_key=&url=https%3A%2F%2Fwww.fanfiction.net%2Fs%2F13909643%2F1%2FIn-Turbulent-Waters> (referer: https://steamdb.info/graph/)\n",
      "2024-12-04 10:39:10 [scrapy.core.engine] DEBUG: Crawled (200) <GET https://proxy.scrapeops.io/v1/?api_key=&url=https%3A%2F%2Fwww.fanfiction.net%2Fs%2F13441711%2F1%2FCrashing-Down> (referer: https://steamdb.info/graph/)\n",
      "2024-12-04 10:39:10 [scrapy.core.engine] DEBUG: Crawled (200) <GET https://proxy.scrapeops.io/v1/?api_key=&url=https%3A%2F%2Fwww.fanfiction.net%2Fs%2F13888759%2F1%2FDeath-Series-3-Flying-Burn> (referer: https://steamdb.info/graph/)\n"
     ]
    },
    {
     "name": "stdout",
     "output_type": "stream",
     "text": [
      "\n",
      "https://proxy.scrapeops.io/v1/?api_key=&url=https%3A%2F%2Fwww.fanfiction.net%2Fs%2F13909643%2F1%2FIn-Turbulent-Waters\n"
     ]
    },
    {
     "name": "stderr",
     "output_type": "stream",
     "text": [
      "2024-12-04 10:39:10 [scrapy.core.engine] DEBUG: Crawled (400) <GET https://proxy.scrapeops.io/v1/?api_key=&url=https%3A%2F%2Fproxy.scrapeops.io%2Fv1%2F%3Fapi_key%3D%26url%3Dhttps%253A%2F%2Fwww.fanfiction.net%2Fs%2F13897415%2F2%2FYou-Saved-Me> (referer: https://steamdb.info/graph/)\n",
      "2024-12-04 10:39:10 [scrapy.spidermiddlewares.httperror] INFO: Ignoring response <400 https://proxy.scrapeops.io/v1/?api_key=&url=https%3A%2F%2Fproxy.scrapeops.io%2Fv1%2F%3Fapi_key%3D%26url%3Dhttps%253A%2F%2Fwww.fanfiction.net%2Fs%2F13897415%2F2%2FYou-Saved-Me>: HTTP status code is not handled or not allowed\n"
     ]
    },
    {
     "name": "stdout",
     "output_type": "stream",
     "text": [
      "\n",
      "https://proxy.scrapeops.io/v1/?api_key=&url=https%3A%2F%2Fwww.fanfiction.net%2Fs%2F13441711%2F1%2FCrashing-Down\n",
      "\n",
      "https://proxy.scrapeops.io/v1/?api_key=&url=https%3A%2F%2Fwww.fanfiction.net%2Fs%2F13888759%2F1%2FDeath-Series-3-Flying-Burn\n"
     ]
    },
    {
     "name": "stderr",
     "output_type": "stream",
     "text": [
      "2024-12-04 10:39:11 [scrapy.downloadermiddlewares.retry] DEBUG: Retrying <GET https://proxy.scrapeops.io/v1/?api_key=&url=https%3A%2F%2Fwww.fanfiction.net%2Fs%2F13897321%2F1%2FA-Christmas-Miracle> (failed 1 times): 429 Unknown Status\n",
      "2024-12-04 10:39:11 [scrapy.core.engine] DEBUG: Crawled (200) <GET https://proxy.scrapeops.io/v1/?api_key=&url=https%3A%2F%2Fwww.fanfiction.net%2Fs%2F13911034%2F1%2FNew-tune> (referer: https://steamdb.info/graph/)\n",
      "2024-12-04 10:39:11 [scrapy.core.engine] DEBUG: Crawled (400) <GET https://proxy.scrapeops.io/v1/?api_key=&url=https%3A%2F%2Fproxy.scrapeops.io%2Fv1%2F%3Fapi_key%3D%26url%3Dhttps%253A%2F%2Fwww.fanfiction.net%2Fs%2F13908728%2F2%2Fbut-in-the-end-still-this> (referer: https://steamdb.info/graph/)\n",
      "2024-12-04 10:39:11 [scrapy.spidermiddlewares.httperror] INFO: Ignoring response <400 https://proxy.scrapeops.io/v1/?api_key=&url=https%3A%2F%2Fproxy.scrapeops.io%2Fv1%2F%3Fapi_key%3D%26url%3Dhttps%253A%2F%2Fwww.fanfiction.net%2Fs%2F13908728%2F2%2Fbut-in-the-end-still-this>: HTTP status code is not handled or not allowed\n"
     ]
    },
    {
     "name": "stdout",
     "output_type": "stream",
     "text": [
      "\n",
      "https://proxy.scrapeops.io/v1/?api_key=&url=https%3A%2F%2Fwww.fanfiction.net%2Fs%2F13911034%2F1%2FNew-tune\n"
     ]
    },
    {
     "name": "stderr",
     "output_type": "stream",
     "text": [
      "2024-12-04 10:39:11 [scrapy.core.engine] DEBUG: Crawled (200) <GET https://proxy.scrapeops.io/v1/?api_key=&url=https%3A%2F%2Fwww.fanfiction.net%2Fs%2F13907441%2F1%2FThe-Mug> (referer: https://steamdb.info/graph/)\n"
     ]
    },
    {
     "name": "stdout",
     "output_type": "stream",
     "text": [
      "\n",
      "https://proxy.scrapeops.io/v1/?api_key=&url=https%3A%2F%2Fwww.fanfiction.net%2Fs%2F13907441%2F1%2FThe-Mug\n"
     ]
    },
    {
     "name": "stderr",
     "output_type": "stream",
     "text": [
      "2024-12-04 10:39:12 [scrapy.core.engine] DEBUG: Crawled (200) <GET https://proxy.scrapeops.io/v1/?api_key=&url=https%3A%2F%2Fwww.fanfiction.net%2Fs%2F13877682%2F1%2FApril-Showers-Bring-May-Flowers> (referer: https://steamdb.info/graph/)\n",
      "2024-12-04 10:39:12 [scrapy.core.engine] DEBUG: Crawled (400) <GET https://proxy.scrapeops.io/v1/?api_key=&url=https%3A%2F%2Fproxy.scrapeops.io%2Fv1%2F%3Fapi_key%3D%26url%3Dhttps%253A%2F%2Fwww.fanfiction.net%2Fs%2F13874276%2F2%2FThe-Love-She-Found-in-Him> (referer: https://steamdb.info/graph/)\n",
      "2024-12-04 10:39:12 [scrapy.core.engine] DEBUG: Crawled (200) <GET https://proxy.scrapeops.io/v1/?api_key=&url=https%3A%2F%2Fwww.fanfiction.net%2Fs%2F13911433%2F1%2FYou-gave-me-the-key-so-I-used-it> (referer: https://steamdb.info/graph/)\n",
      "2024-12-04 10:39:13 [scrapy.core.engine] DEBUG: Crawled (400) <GET https://proxy.scrapeops.io/v1/?api_key=&url=https%3A%2F%2Fproxy.scrapeops.io%2Fv1%2F%3Fapi_key%3D%26url%3Dhttps%253A%2F%2Fwww.fanfiction.net%2Fs%2F13909643%2F2%2FIn-Turbulent-Waters> (referer: https://steamdb.info/graph/)\n",
      "2024-12-04 10:39:13 [scrapy.spidermiddlewares.httperror] INFO: Ignoring response <400 https://proxy.scrapeops.io/v1/?api_key=&url=https%3A%2F%2Fproxy.scrapeops.io%2Fv1%2F%3Fapi_key%3D%26url%3Dhttps%253A%2F%2Fwww.fanfiction.net%2Fs%2F13874276%2F2%2FThe-Love-She-Found-in-Him>: HTTP status code is not handled or not allowed\n",
      "2024-12-04 10:39:13 [scrapy.core.engine] DEBUG: Crawled (400) <GET https://proxy.scrapeops.io/v1/?api_key=&url=https%3A%2F%2Fproxy.scrapeops.io%2Fv1%2F%3Fapi_key%3D%26url%3Dhttps%253A%2F%2Fwww.fanfiction.net%2Fs%2F13916903%2F2%2FA-Nightmare> (referer: https://steamdb.info/graph/)\n",
      "2024-12-04 10:39:13 [scrapy.core.engine] DEBUG: Crawled (400) <GET https://proxy.scrapeops.io/v1/?api_key=&url=https%3A%2F%2Fproxy.scrapeops.io%2Fv1%2F%3Fapi_key%3D%26url%3Dhttps%253A%2F%2Fwww.fanfiction.net%2Fs%2F13441711%2F2%2FCrashing-Down> (referer: https://steamdb.info/graph/)\n",
      "2024-12-04 10:39:13 [scrapy.spidermiddlewares.httperror] INFO: Ignoring response <400 https://proxy.scrapeops.io/v1/?api_key=&url=https%3A%2F%2Fproxy.scrapeops.io%2Fv1%2F%3Fapi_key%3D%26url%3Dhttps%253A%2F%2Fwww.fanfiction.net%2Fs%2F13909643%2F2%2FIn-Turbulent-Waters>: HTTP status code is not handled or not allowed\n",
      "2024-12-04 10:39:13 [scrapy.core.engine] DEBUG: Crawled (400) <GET https://proxy.scrapeops.io/v1/?api_key=&url=https%3A%2F%2Fproxy.scrapeops.io%2Fv1%2F%3Fapi_key%3D%26url%3Dhttps%253A%2F%2Fwww.fanfiction.net%2Fs%2F13888759%2F2%2FDeath-Series-3-Flying-Burn> (referer: https://steamdb.info/graph/)\n"
     ]
    },
    {
     "name": "stdout",
     "output_type": "stream",
     "text": [
      "\n",
      "https://proxy.scrapeops.io/v1/?api_key=&url=https%3A%2F%2Fwww.fanfiction.net%2Fs%2F13877682%2F1%2FApril-Showers-Bring-May-Flowers\n",
      "\n"
     ]
    },
    {
     "name": "stderr",
     "output_type": "stream",
     "text": [
      "2024-12-04 10:39:13 [scrapy.spidermiddlewares.httperror] INFO: Ignoring response <400 https://proxy.scrapeops.io/v1/?api_key=&url=https%3A%2F%2Fproxy.scrapeops.io%2Fv1%2F%3Fapi_key%3D%26url%3Dhttps%253A%2F%2Fwww.fanfiction.net%2Fs%2F13916903%2F2%2FA-Nightmare>: HTTP status code is not handled or not allowed\n",
      "2024-12-04 10:39:13 [scrapy.core.engine] DEBUG: Crawled (200) <GET https://proxy.scrapeops.io/v1/?api_key=&url=https%3A%2F%2Fwww.fanfiction.net%2Fs%2F13915270%2F1%2F5-Times-Sherlock-Helped-Rosie> (referer: https://steamdb.info/graph/)\n",
      "2024-12-04 10:39:13 [scrapy.spidermiddlewares.httperror] INFO: Ignoring response <400 https://proxy.scrapeops.io/v1/?api_key=&url=https%3A%2F%2Fproxy.scrapeops.io%2Fv1%2F%3Fapi_key%3D%26url%3Dhttps%253A%2F%2Fwww.fanfiction.net%2Fs%2F13441711%2F2%2FCrashing-Down>: HTTP status code is not handled or not allowed\n",
      "2024-12-04 10:39:13 [scrapy.spidermiddlewares.httperror] INFO: Ignoring response <400 https://proxy.scrapeops.io/v1/?api_key=&url=https%3A%2F%2Fproxy.scrapeops.io%2Fv1%2F%3Fapi_key%3D%26url%3Dhttps%253A%2F%2Fwww.fanfiction.net%2Fs%2F13888759%2F2%2FDeath-Series-3-Flying-Burn>: HTTP status code is not handled or not allowed\n",
      "2024-12-04 10:39:13 [scrapy.core.engine] DEBUG: Crawled (400) <GET https://proxy.scrapeops.io/v1/?api_key=&url=https%3A%2F%2Fproxy.scrapeops.io%2Fv1%2F%3Fapi_key%3D%26url%3Dhttps%253A%2F%2Fwww.fanfiction.net%2Fs%2F13911034%2F2%2FNew-tune> (referer: https://steamdb.info/graph/)\n",
      "2024-12-04 10:39:13 [scrapy.core.engine] DEBUG: Crawled (400) <GET https://proxy.scrapeops.io/v1/?api_key=&url=https%3A%2F%2Fproxy.scrapeops.io%2Fv1%2F%3Fapi_key%3D%26url%3Dhttps%253A%2F%2Fwww.fanfiction.net%2Fs%2F13907441%2F2%2FThe-Mug> (referer: https://steamdb.info/graph/)\n",
      "2024-12-04 10:39:13 [scrapy.spidermiddlewares.httperror] INFO: Ignoring response <400 https://proxy.scrapeops.io/v1/?api_key=&url=https%3A%2F%2Fproxy.scrapeops.io%2Fv1%2F%3Fapi_key%3D%26url%3Dhttps%253A%2F%2Fwww.fanfiction.net%2Fs%2F13911034%2F2%2FNew-tune>: HTTP status code is not handled or not allowed\n"
     ]
    },
    {
     "name": "stdout",
     "output_type": "stream",
     "text": [
      "\n",
      "https://proxy.scrapeops.io/v1/?api_key=&url=https%3A%2F%2Fwww.fanfiction.net%2Fs%2F13915270%2F1%2F5-Times-Sherlock-Helped-Rosie\n"
     ]
    },
    {
     "name": "stderr",
     "output_type": "stream",
     "text": [
      "2024-12-04 10:39:13 [scrapy.spidermiddlewares.httperror] INFO: Ignoring response <400 https://proxy.scrapeops.io/v1/?api_key=&url=https%3A%2F%2Fproxy.scrapeops.io%2Fv1%2F%3Fapi_key%3D%26url%3Dhttps%253A%2F%2Fwww.fanfiction.net%2Fs%2F13907441%2F2%2FThe-Mug>: HTTP status code is not handled or not allowed\n",
      "2024-12-04 10:39:14 [scrapy.core.engine] DEBUG: Crawled (200) <GET https://proxy.scrapeops.io/v1/?api_key=&url=https%3A%2F%2Fwww.fanfiction.net%2Fs%2F13915915%2F1%2FChristmas-Cheer> (referer: https://steamdb.info/graph/)\n",
      "2024-12-04 10:39:14 [scrapy.core.engine] DEBUG: Crawled (200) <GET https://proxy.scrapeops.io/v1/?api_key=&url=https%3A%2F%2Fwww.fanfiction.net%2Fs%2F13922481%2F1%2FUne-enqu%25C3%25AAte> (referer: https://steamdb.info/graph/)\n",
      "2024-12-04 10:39:14 [scrapy.core.engine] DEBUG: Crawled (400) <GET https://proxy.scrapeops.io/v1/?api_key=&url=https%3A%2F%2Fproxy.scrapeops.io%2Fv1%2F%3Fapi_key%3D%26url%3Dhttps%253A%2F%2Fwww.fanfiction.net%2Fs%2F13877682%2F2%2FApril-Showers-Bring-May-Flowers> (referer: https://steamdb.info/graph/)\n",
      "2024-12-04 10:39:14 [scrapy.spidermiddlewares.httperror] INFO: Ignoring response <400 https://proxy.scrapeops.io/v1/?api_key=&url=https%3A%2F%2Fproxy.scrapeops.io%2Fv1%2F%3Fapi_key%3D%26url%3Dhttps%253A%2F%2Fwww.fanfiction.net%2Fs%2F13877682%2F2%2FApril-Showers-Bring-May-Flowers>: HTTP status code is not handled or not allowed\n",
      "2024-12-04 10:39:14 [scrapy.downloadermiddlewares.retry] DEBUG: Retrying <GET https://proxy.scrapeops.io/v1/?api_key=&url=https%3A%2F%2Fwww.fanfiction.net%2Fs%2F12590929%2F1%2FDC-s-Sherlock-Drabbles> (failed 1 times): 429 Unknown Status\n"
     ]
    },
    {
     "name": "stdout",
     "output_type": "stream",
     "text": [
      "\n",
      "https://proxy.scrapeops.io/v1/?api_key=&url=https%3A%2F%2Fwww.fanfiction.net%2Fs%2F13915915%2F1%2FChristmas-Cheer\n",
      "\n"
     ]
    },
    {
     "name": "stderr",
     "output_type": "stream",
     "text": [
      "2024-12-04 10:39:15 [scrapy.core.engine] DEBUG: Crawled (200) <GET https://proxy.scrapeops.io/v1/?api_key=&url=https%3A%2F%2Fwww.fanfiction.net%2Fs%2F13922726%2F1%2FIts-Now-or-Never> (referer: https://steamdb.info/graph/)\n"
     ]
    },
    {
     "name": "stdout",
     "output_type": "stream",
     "text": [
      "\n",
      "https://proxy.scrapeops.io/v1/?api_key=&url=https%3A%2F%2Fwww.fanfiction.net%2Fs%2F13922726%2F1%2FIts-Now-or-Never\n"
     ]
    },
    {
     "name": "stderr",
     "output_type": "stream",
     "text": [
      "2024-12-04 10:39:16 [scrapy.downloadermiddlewares.retry] DEBUG: Retrying <GET https://proxy.scrapeops.io/v1/?api_key=&url=https%3A%2F%2Fwww.fanfiction.net%2Fs%2F13915344%2F1%2FI-once-knew-a-pirate> (failed 1 times): 429 Unknown Status\n",
      "2024-12-04 10:39:16 [scrapy.core.engine] DEBUG: Crawled (200) <GET https://proxy.scrapeops.io/v1/?api_key=&url=https%3A%2F%2Fwww.fanfiction.net%2Fs%2F9990846%2F1%2FAuld-Lang-Syne> (referer: https://steamdb.info/graph/)\n",
      "2024-12-04 10:39:16 [scrapy.core.engine] DEBUG: Crawled (400) <GET https://proxy.scrapeops.io/v1/?api_key=&url=https%3A%2F%2Fproxy.scrapeops.io%2Fv1%2F%3Fapi_key%3D%26url%3Dhttps%253A%2F%2Fwww.fanfiction.net%2Fs%2F13915270%2F2%2F5-Times-Sherlock-Helped-Rosie> (referer: https://steamdb.info/graph/)\n",
      "2024-12-04 10:39:16 [scrapy.spidermiddlewares.httperror] INFO: Ignoring response <400 https://proxy.scrapeops.io/v1/?api_key=&url=https%3A%2F%2Fproxy.scrapeops.io%2Fv1%2F%3Fapi_key%3D%26url%3Dhttps%253A%2F%2Fwww.fanfiction.net%2Fs%2F13915270%2F2%2F5-Times-Sherlock-Helped-Rosie>: HTTP status code is not handled or not allowed\n"
     ]
    },
    {
     "name": "stdout",
     "output_type": "stream",
     "text": [
      "\n",
      "https://proxy.scrapeops.io/v1/?api_key=&url=https%3A%2F%2Fwww.fanfiction.net%2Fs%2F9990846%2F1%2FAuld-Lang-Syne\n"
     ]
    },
    {
     "name": "stderr",
     "output_type": "stream",
     "text": [
      "2024-12-04 10:39:16 [scrapy.core.engine] DEBUG: Crawled (200) <GET https://proxy.scrapeops.io/v1/?api_key=&url=https%3A%2F%2Fwww.fanfiction.net%2Fs%2F13923413%2F1%2FNot-a-Secret-Santa> (referer: https://steamdb.info/graph/)\n"
     ]
    },
    {
     "name": "stdout",
     "output_type": "stream",
     "text": [
      "\n",
      "https://proxy.scrapeops.io/v1/?api_key=&url=https%3A%2F%2Fwww.fanfiction.net%2Fs%2F13923413%2F1%2FNot-a-Secret-Santa\n"
     ]
    },
    {
     "name": "stderr",
     "output_type": "stream",
     "text": [
      "2024-12-04 10:39:17 [scrapy.core.engine] DEBUG: Crawled (200) <GET https://proxy.scrapeops.io/v1/?api_key=&url=https%3A%2F%2Fwww.fanfiction.net%2Fs%2F13924941%2F1%2FGiven-Me-Back-My-Life> (referer: https://steamdb.info/graph/)\n"
     ]
    },
    {
     "name": "stdout",
     "output_type": "stream",
     "text": [
      "\n",
      "https://proxy.scrapeops.io/v1/?api_key=&url=https%3A%2F%2Fwww.fanfiction.net%2Fs%2F13924941%2F1%2FGiven-Me-Back-My-Life\n"
     ]
    },
    {
     "name": "stderr",
     "output_type": "stream",
     "text": [
      "2024-12-04 10:39:18 [scrapy.core.engine] DEBUG: Crawled (200) <GET https://proxy.scrapeops.io/v1/?api_key=&url=https%3A%2F%2Fwww.fanfiction.net%2Fs%2F13925763%2F1%2FMolly-Hooper-s-Best-Worst-Day> (referer: https://steamdb.info/graph/)\n",
      "2024-12-04 10:39:18 [scrapy.core.engine] DEBUG: Crawled (200) <GET https://proxy.scrapeops.io/v1/?api_key=&url=https%3A%2F%2Fwww.fanfiction.net%2Fs%2F12943880%2F1%2FSherlock-Leah-and-the-London-Gangsters-EP-1> (referer: https://steamdb.info/graph/)\n",
      "2024-12-04 10:39:18 [scrapy.core.engine] DEBUG: Crawled (400) <GET https://proxy.scrapeops.io/v1/?api_key=&url=https%3A%2F%2Fproxy.scrapeops.io%2Fv1%2F%3Fapi_key%3D%26url%3Dhttps%253A%2F%2Fwww.fanfiction.net%2Fs%2F13915915%2F2%2FChristmas-Cheer> (referer: https://steamdb.info/graph/)\n",
      "2024-12-04 10:39:18 [scrapy.spidermiddlewares.httperror] INFO: Ignoring response <400 https://proxy.scrapeops.io/v1/?api_key=&url=https%3A%2F%2Fproxy.scrapeops.io%2Fv1%2F%3Fapi_key%3D%26url%3Dhttps%253A%2F%2Fwww.fanfiction.net%2Fs%2F13915915%2F2%2FChristmas-Cheer>: HTTP status code is not handled or not allowed\n"
     ]
    },
    {
     "name": "stdout",
     "output_type": "stream",
     "text": [
      "\n",
      "https://proxy.scrapeops.io/v1/?api_key=&url=https%3A%2F%2Fwww.fanfiction.net%2Fs%2F13925763%2F1%2FMolly-Hooper-s-Best-Worst-Day\n",
      "\n",
      "https://proxy.scrapeops.io/v1/?api_key=&url=https%3A%2F%2Fwww.fanfiction.net%2Fs%2F12943880%2F1%2FSherlock-Leah-and-the-London-Gangsters-EP-1\n"
     ]
    },
    {
     "name": "stderr",
     "output_type": "stream",
     "text": [
      "2024-12-04 10:39:19 [scrapy.core.engine] DEBUG: Crawled (200) <GET https://proxy.scrapeops.io/v1/?api_key=&url=https%3A%2F%2Fwww.fanfiction.net%2Fs%2F13926830%2F1%2FThe-Call-Aftermath> (referer: https://steamdb.info/graph/)\n",
      "2024-12-04 10:39:19 [scrapy.core.engine] DEBUG: Crawled (400) <GET https://proxy.scrapeops.io/v1/?api_key=&url=https%3A%2F%2Fproxy.scrapeops.io%2Fv1%2F%3Fapi_key%3D%26url%3Dhttps%253A%2F%2Fwww.fanfiction.net%2Fs%2F13922726%2F2%2FIts-Now-or-Never> (referer: https://steamdb.info/graph/)\n",
      "2024-12-04 10:39:19 [scrapy.core.engine] DEBUG: Crawled (200) <GET https://proxy.scrapeops.io/v1/?api_key=&url=https%3A%2F%2Fwww.fanfiction.net%2Fs%2F13187013%2F1%2FA-Journey-through-Molly-s-Diary> (referer: https://steamdb.info/graph/)\n",
      "2024-12-04 10:39:19 [scrapy.spidermiddlewares.httperror] INFO: Ignoring response <400 https://proxy.scrapeops.io/v1/?api_key=&url=https%3A%2F%2Fproxy.scrapeops.io%2Fv1%2F%3Fapi_key%3D%26url%3Dhttps%253A%2F%2Fwww.fanfiction.net%2Fs%2F13922726%2F2%2FIts-Now-or-Never>: HTTP status code is not handled or not allowed\n"
     ]
    },
    {
     "name": "stdout",
     "output_type": "stream",
     "text": [
      "\n",
      "https://proxy.scrapeops.io/v1/?api_key=&url=https%3A%2F%2Fwww.fanfiction.net%2Fs%2F13926830%2F1%2FThe-Call-Aftermath\n",
      "\n",
      "https://proxy.scrapeops.io/v1/?api_key=&url=https%3A%2F%2Fwww.fanfiction.net%2Fs%2F13187013%2F1%2FA-Journey-through-Molly-s-Diary\n"
     ]
    },
    {
     "name": "stderr",
     "output_type": "stream",
     "text": [
      "2024-12-04 10:39:19 [scrapy.core.engine] DEBUG: Crawled (200) <GET https://proxy.scrapeops.io/v1/?api_key=&url=https%3A%2F%2Fwww.fanfiction.net%2Fs%2F13911351%2F1%2FJust-The-Way-You-Are> (referer: https://steamdb.info/graph/)\n",
      "2024-12-04 10:39:19 [scrapy.core.engine] DEBUG: Crawled (400) <GET https://proxy.scrapeops.io/v1/?api_key=&url=https%3A%2F%2Fproxy.scrapeops.io%2Fv1%2F%3Fapi_key%3D%26url%3Dhttps%253A%2F%2Fwww.fanfiction.net%2Fs%2F9990846%2F2%2FAuld-Lang-Syne> (referer: https://steamdb.info/graph/)\n",
      "2024-12-04 10:39:19 [scrapy.core.engine] DEBUG: Crawled (400) <GET https://proxy.scrapeops.io/v1/?api_key=&url=https%3A%2F%2Fproxy.scrapeops.io%2Fv1%2F%3Fapi_key%3D%26url%3Dhttps%253A%2F%2Fwww.fanfiction.net%2Fs%2F13923413%2F2%2FNot-a-Secret-Santa> (referer: https://steamdb.info/graph/)\n",
      "2024-12-04 10:39:19 [scrapy.spidermiddlewares.httperror] INFO: Ignoring response <400 https://proxy.scrapeops.io/v1/?api_key=&url=https%3A%2F%2Fproxy.scrapeops.io%2Fv1%2F%3Fapi_key%3D%26url%3Dhttps%253A%2F%2Fwww.fanfiction.net%2Fs%2F9990846%2F2%2FAuld-Lang-Syne>: HTTP status code is not handled or not allowed\n",
      "2024-12-04 10:39:19 [scrapy.core.engine] DEBUG: Crawled (400) <GET https://proxy.scrapeops.io/v1/?api_key=&url=https%3A%2F%2Fproxy.scrapeops.io%2Fv1%2F%3Fapi_key%3D%26url%3Dhttps%253A%2F%2Fwww.fanfiction.net%2Fs%2F13924941%2F2%2FGiven-Me-Back-My-Life> (referer: https://steamdb.info/graph/)\n",
      "2024-12-04 10:39:19 [scrapy.spidermiddlewares.httperror] INFO: Ignoring response <400 https://proxy.scrapeops.io/v1/?api_key=&url=https%3A%2F%2Fproxy.scrapeops.io%2Fv1%2F%3Fapi_key%3D%26url%3Dhttps%253A%2F%2Fwww.fanfiction.net%2Fs%2F13923413%2F2%2FNot-a-Secret-Santa>: HTTP status code is not handled or not allowed\n"
     ]
    },
    {
     "name": "stdout",
     "output_type": "stream",
     "text": [
      "\n",
      "https://proxy.scrapeops.io/v1/?api_key=&url=https%3A%2F%2Fwww.fanfiction.net%2Fs%2F13911351%2F1%2FJust-The-Way-You-Are\n"
     ]
    },
    {
     "name": "stderr",
     "output_type": "stream",
     "text": [
      "2024-12-04 10:39:20 [scrapy.spidermiddlewares.httperror] INFO: Ignoring response <400 https://proxy.scrapeops.io/v1/?api_key=&url=https%3A%2F%2Fproxy.scrapeops.io%2Fv1%2F%3Fapi_key%3D%26url%3Dhttps%253A%2F%2Fwww.fanfiction.net%2Fs%2F13924941%2F2%2FGiven-Me-Back-My-Life>: HTTP status code is not handled or not allowed\n",
      "2024-12-04 10:39:20 [scrapy.downloadermiddlewares.retry] DEBUG: Retrying <GET https://proxy.scrapeops.io/v1/?api_key=&url=https%3A%2F%2Fwww.fanfiction.net%2Fs%2F12481768%2F1%2FTea-and-Texting> (failed 1 times): 429 Unknown Status\n",
      "2024-12-04 10:39:20 [scrapy.core.engine] DEBUG: Crawled (200) <GET https://proxy.scrapeops.io/v1/?api_key=&url=https%3A%2F%2Fwww.fanfiction.net%2Fs%2F12579608%2F1%2FSeven-Texts> (referer: https://steamdb.info/graph/)\n",
      "2024-12-04 10:39:20 [scrapy.core.engine] DEBUG: Crawled (400) <GET https://proxy.scrapeops.io/v1/?api_key=&url=https%3A%2F%2Fproxy.scrapeops.io%2Fv1%2F%3Fapi_key%3D%26url%3Dhttps%253A%2F%2Fwww.fanfiction.net%2Fs%2F12943880%2F2%2FSherlock-Leah-and-the-London-Gangsters-EP-1> (referer: https://steamdb.info/graph/)\n",
      "2024-12-04 10:39:20 [scrapy.core.engine] DEBUG: Crawled (400) <GET https://proxy.scrapeops.io/v1/?api_key=&url=https%3A%2F%2Fproxy.scrapeops.io%2Fv1%2F%3Fapi_key%3D%26url%3Dhttps%253A%2F%2Fwww.fanfiction.net%2Fs%2F13925763%2F2%2FMolly-Hooper-s-Best-Worst-Day> (referer: https://steamdb.info/graph/)\n",
      "2024-12-04 10:39:20 [scrapy.spidermiddlewares.httperror] INFO: Ignoring response <400 https://proxy.scrapeops.io/v1/?api_key=&url=https%3A%2F%2Fproxy.scrapeops.io%2Fv1%2F%3Fapi_key%3D%26url%3Dhttps%253A%2F%2Fwww.fanfiction.net%2Fs%2F12943880%2F2%2FSherlock-Leah-and-the-London-Gangsters-EP-1>: HTTP status code is not handled or not allowed\n",
      "2024-12-04 10:39:20 [scrapy.core.engine] DEBUG: Crawled (400) <GET https://proxy.scrapeops.io/v1/?api_key=&url=https%3A%2F%2Fproxy.scrapeops.io%2Fv1%2F%3Fapi_key%3D%26url%3Dhttps%253A%2F%2Fwww.fanfiction.net%2Fs%2F13926830%2F2%2FThe-Call-Aftermath> (referer: https://steamdb.info/graph/)\n",
      "2024-12-04 10:39:20 [scrapy.spidermiddlewares.httperror] INFO: Ignoring response <400 https://proxy.scrapeops.io/v1/?api_key=&url=https%3A%2F%2Fproxy.scrapeops.io%2Fv1%2F%3Fapi_key%3D%26url%3Dhttps%253A%2F%2Fwww.fanfiction.net%2Fs%2F13925763%2F2%2FMolly-Hooper-s-Best-Worst-Day>: HTTP status code is not handled or not allowed\n"
     ]
    },
    {
     "name": "stdout",
     "output_type": "stream",
     "text": [
      "\n"
     ]
    },
    {
     "name": "stderr",
     "output_type": "stream",
     "text": [
      "2024-12-04 10:39:20 [scrapy.spidermiddlewares.httperror] INFO: Ignoring response <400 https://proxy.scrapeops.io/v1/?api_key=&url=https%3A%2F%2Fproxy.scrapeops.io%2Fv1%2F%3Fapi_key%3D%26url%3Dhttps%253A%2F%2Fwww.fanfiction.net%2Fs%2F13926830%2F2%2FThe-Call-Aftermath>: HTTP status code is not handled or not allowed\n",
      "2024-12-04 10:39:20 [scrapy.core.engine] DEBUG: Crawled (400) <GET https://proxy.scrapeops.io/v1/?api_key=&url=https%3A%2F%2Fproxy.scrapeops.io%2Fv1%2F%3Fapi_key%3D%26url%3Dhttps%253A%2F%2Fwww.fanfiction.net%2Fs%2F13187013%2F2%2FA-Journey-through-Molly-s-Diary> (referer: https://steamdb.info/graph/)\n",
      "2024-12-04 10:39:20 [scrapy.core.engine] DEBUG: Crawled (200) <GET https://proxy.scrapeops.io/v1/?api_key=&url=https%3A%2F%2Fwww.fanfiction.net%2Fs%2F13939393%2F1%2FPlease-Don-t-Leave-Us> (referer: https://steamdb.info/graph/)\n",
      "2024-12-04 10:39:20 [scrapy.spidermiddlewares.httperror] INFO: Ignoring response <400 https://proxy.scrapeops.io/v1/?api_key=&url=https%3A%2F%2Fproxy.scrapeops.io%2Fv1%2F%3Fapi_key%3D%26url%3Dhttps%253A%2F%2Fwww.fanfiction.net%2Fs%2F13187013%2F2%2FA-Journey-through-Molly-s-Diary>: HTTP status code is not handled or not allowed\n",
      "2024-12-04 10:39:21 [scrapy.core.engine] DEBUG: Crawled (400) <GET https://proxy.scrapeops.io/v1/?api_key=&url=https%3A%2F%2Fproxy.scrapeops.io%2Fv1%2F%3Fapi_key%3D%26url%3Dhttps%253A%2F%2Fwww.fanfiction.net%2Fs%2F13911351%2F2%2FJust-The-Way-You-Are> (referer: https://steamdb.info/graph/)\n",
      "2024-12-04 10:39:21 [scrapy.spidermiddlewares.httperror] INFO: Ignoring response <400 https://proxy.scrapeops.io/v1/?api_key=&url=https%3A%2F%2Fproxy.scrapeops.io%2Fv1%2F%3Fapi_key%3D%26url%3Dhttps%253A%2F%2Fwww.fanfiction.net%2Fs%2F13911351%2F2%2FJust-The-Way-You-Are>: HTTP status code is not handled or not allowed\n"
     ]
    },
    {
     "name": "stdout",
     "output_type": "stream",
     "text": [
      "\n",
      "https://proxy.scrapeops.io/v1/?api_key=&url=https%3A%2F%2Fwww.fanfiction.net%2Fs%2F13939393%2F1%2FPlease-Don-t-Leave-Us\n"
     ]
    },
    {
     "name": "stderr",
     "output_type": "stream",
     "text": [
      "2024-12-04 10:39:21 [scrapy.core.engine] DEBUG: Crawled (200) <GET https://proxy.scrapeops.io/v1/?api_key=&url=https%3A%2F%2Fwww.fanfiction.net%2Fs%2F9337373%2F1%2FJust-Checking> (referer: https://steamdb.info/graph/)\n"
     ]
    },
    {
     "name": "stdout",
     "output_type": "stream",
     "text": [
      "\n",
      "https://proxy.scrapeops.io/v1/?api_key=&url=https%3A%2F%2Fwww.fanfiction.net%2Fs%2F9337373%2F1%2FJust-Checking\n"
     ]
    },
    {
     "name": "stderr",
     "output_type": "stream",
     "text": [
      "2024-12-04 10:39:22 [scrapy.downloadermiddlewares.retry] DEBUG: Retrying <GET https://proxy.scrapeops.io/v1/?api_key=&url=https%3A%2F%2Fwww.fanfiction.net%2Fs%2F13926663%2F1%2FWhen-The-Demons-Walked> (failed 1 times): 429 Unknown Status\n",
      "2024-12-04 10:39:22 [scrapy.core.engine] DEBUG: Crawled (200) <GET https://proxy.scrapeops.io/v1/?api_key=&url=https%3A%2F%2Fwww.fanfiction.net%2Fs%2F13798809%2F1%2FYou-have-465-unread-messages> (referer: https://steamdb.info/graph/)\n"
     ]
    },
    {
     "name": "stdout",
     "output_type": "stream",
     "text": [
      "\n",
      "https://proxy.scrapeops.io/v1/?api_key=&url=https%3A%2F%2Fwww.fanfiction.net%2Fs%2F13798809%2F1%2FYou-have-465-unread-messages\n"
     ]
    },
    {
     "name": "stderr",
     "output_type": "stream",
     "text": [
      "2024-12-04 10:39:23 [scrapy.core.engine] DEBUG: Crawled (200) <GET https://proxy.scrapeops.io/v1/?api_key=&url=https%3A%2F%2Fwww.fanfiction.net%2Fs%2F13942920%2F1%2FTrust-the-bees> (referer: https://steamdb.info/graph/)\n",
      "2024-12-04 10:39:23 [scrapy.core.engine] DEBUG: Crawled (200) <GET https://proxy.scrapeops.io/v1/?api_key=&url=https%3A%2F%2Fwww.fanfiction.net%2Fs%2F13845992%2F1%2FThe-Question-of-Faith-in-Baskerville> (referer: https://steamdb.info/graph/)\n"
     ]
    },
    {
     "name": "stdout",
     "output_type": "stream",
     "text": [
      "\n",
      "https://proxy.scrapeops.io/v1/?api_key=&url=https%3A%2F%2Fwww.fanfiction.net%2Fs%2F13942920%2F1%2FTrust-the-bees\n",
      "\n",
      "https://proxy.scrapeops.io/v1/?api_key=&url=https%3A%2F%2Fwww.fanfiction.net%2Fs%2F13845992%2F1%2FThe-Question-of-Faith-in-Baskerville\n"
     ]
    },
    {
     "name": "stderr",
     "output_type": "stream",
     "text": [
      "2024-12-04 10:39:23 [scrapy.core.engine] DEBUG: Crawled (200) <GET https://proxy.scrapeops.io/v1/?api_key=&url=https%3A%2F%2Fwww.fanfiction.net%2Fs%2F13944099%2F1%2FA-Battle-with-Depression-Lori-s-Story> (referer: https://steamdb.info/graph/)\n"
     ]
    },
    {
     "name": "stdout",
     "output_type": "stream",
     "text": [
      "\n",
      "https://proxy.scrapeops.io/v1/?api_key=&url=https%3A%2F%2Fwww.fanfiction.net%2Fs%2F13944099%2F1%2FA-Battle-with-Depression-Lori-s-Story\n"
     ]
    },
    {
     "name": "stderr",
     "output_type": "stream",
     "text": [
      "2024-12-04 10:39:24 [scrapy.core.engine] DEBUG: Crawled (200) <GET https://proxy.scrapeops.io/v1/?api_key=&url=https%3A%2F%2Fwww.fanfiction.net%2Fs%2F13939179%2F1%2FEngland-Would-Fall> (referer: https://steamdb.info/graph/)\n",
      "2024-12-04 10:39:24 [scrapy.core.engine] DEBUG: Crawled (200) <GET https://proxy.scrapeops.io/v1/?api_key=&url=https%3A%2F%2Fwww.fanfiction.net%2Fs%2F13839513%2F1%2FSAW-2021-Collection> (referer: https://steamdb.info/graph/)\n"
     ]
    },
    {
     "name": "stdout",
     "output_type": "stream",
     "text": [
      "\n",
      "https://proxy.scrapeops.io/v1/?api_key=&url=https%3A%2F%2Fwww.fanfiction.net%2Fs%2F13939179%2F1%2FEngland-Would-Fall\n",
      "\n",
      "https://proxy.scrapeops.io/v1/?api_key=&url=https%3A%2F%2Fwww.fanfiction.net%2Fs%2F13839513%2F1%2FSAW-2021-Collection\n"
     ]
    },
    {
     "name": "stderr",
     "output_type": "stream",
     "text": [
      "2024-12-04 10:39:24 [scrapy.core.engine] DEBUG: Crawled (200) <GET https://proxy.scrapeops.io/v1/?api_key=&url=https%3A%2F%2Fwww.fanfiction.net%2Fs%2F13945260%2F1%2FIbelieveinsherlock> (referer: https://steamdb.info/graph/)\n",
      "2024-12-04 10:39:24 [scrapy.core.engine] DEBUG: Crawled (400) <GET https://proxy.scrapeops.io/v1/?api_key=&url=https%3A%2F%2Fproxy.scrapeops.io%2Fv1%2F%3Fapi_key%3D%26url%3Dhttps%253A%2F%2Fwww.fanfiction.net%2Fs%2F13939393%2F2%2FPlease-Don-t-Leave-Us> (referer: https://steamdb.info/graph/)\n",
      "2024-12-04 10:39:25 [scrapy.core.engine] DEBUG: Crawled (200) <GET https://proxy.scrapeops.io/v1/?api_key=&url=https%3A%2F%2Fwww.fanfiction.net%2Fs%2F13842233%2F1%2FPractical-About-Death> (referer: https://steamdb.info/graph/)\n",
      "2024-12-04 10:39:25 [scrapy.core.engine] DEBUG: Crawled (400) <GET https://proxy.scrapeops.io/v1/?api_key=&url=https%3A%2F%2Fproxy.scrapeops.io%2Fv1%2F%3Fapi_key%3D%26url%3Dhttps%253A%2F%2Fwww.fanfiction.net%2Fs%2F9337373%2F2%2FJust-Checking> (referer: https://steamdb.info/graph/)\n",
      "2024-12-04 10:39:25 [scrapy.spidermiddlewares.httperror] INFO: Ignoring response <400 https://proxy.scrapeops.io/v1/?api_key=&url=https%3A%2F%2Fproxy.scrapeops.io%2Fv1%2F%3Fapi_key%3D%26url%3Dhttps%253A%2F%2Fwww.fanfiction.net%2Fs%2F13939393%2F2%2FPlease-Don-t-Leave-Us>: HTTP status code is not handled or not allowed\n",
      "2024-12-04 10:39:25 [scrapy.core.engine] DEBUG: Crawled (400) <GET https://proxy.scrapeops.io/v1/?api_key=&url=https%3A%2F%2Fproxy.scrapeops.io%2Fv1%2F%3Fapi_key%3D%26url%3Dhttps%253A%2F%2Fwww.fanfiction.net%2Fs%2F13798809%2F2%2FYou-have-465-unread-messages> (referer: https://steamdb.info/graph/)\n",
      "2024-12-04 10:39:25 [scrapy.spidermiddlewares.httperror] INFO: Ignoring response <400 https://proxy.scrapeops.io/v1/?api_key=&url=https%3A%2F%2Fproxy.scrapeops.io%2Fv1%2F%3Fapi_key%3D%26url%3Dhttps%253A%2F%2Fwww.fanfiction.net%2Fs%2F9337373%2F2%2FJust-Checking>: HTTP status code is not handled or not allowed\n"
     ]
    },
    {
     "name": "stdout",
     "output_type": "stream",
     "text": [
      "\n",
      "https://proxy.scrapeops.io/v1/?api_key=&url=https%3A%2F%2Fwww.fanfiction.net%2Fs%2F13945260%2F1%2FIbelieveinsherlock\n",
      "\n",
      "https://proxy.scrapeops.io/v1/?api_key=&url=https%3A%2F%2Fwww.fanfiction.net%2Fs%2F13842233%2F1%2FPractical-About-Death\n"
     ]
    },
    {
     "name": "stderr",
     "output_type": "stream",
     "text": [
      "2024-12-04 10:39:25 [scrapy.spidermiddlewares.httperror] INFO: Ignoring response <400 https://proxy.scrapeops.io/v1/?api_key=&url=https%3A%2F%2Fproxy.scrapeops.io%2Fv1%2F%3Fapi_key%3D%26url%3Dhttps%253A%2F%2Fwww.fanfiction.net%2Fs%2F13798809%2F2%2FYou-have-465-unread-messages>: HTTP status code is not handled or not allowed\n",
      "2024-12-04 10:39:25 [scrapy.downloadermiddlewares.retry] DEBUG: Retrying <GET https://proxy.scrapeops.io/v1/?api_key=&url=https%3A%2F%2Fwww.fanfiction.net%2Fs%2F12939424%2F1%2FWhat-If> (failed 1 times): 429 Unknown Status\n",
      "2024-12-04 10:39:25 [scrapy.core.engine] DEBUG: Crawled (400) <GET https://proxy.scrapeops.io/v1/?api_key=&url=https%3A%2F%2Fproxy.scrapeops.io%2Fv1%2F%3Fapi_key%3D%26url%3Dhttps%253A%2F%2Fwww.fanfiction.net%2Fs%2F13845992%2F2%2FThe-Question-of-Faith-in-Baskerville> (referer: https://steamdb.info/graph/)\n",
      "2024-12-04 10:39:25 [scrapy.spidermiddlewares.httperror] INFO: Ignoring response <400 https://proxy.scrapeops.io/v1/?api_key=&url=https%3A%2F%2Fproxy.scrapeops.io%2Fv1%2F%3Fapi_key%3D%26url%3Dhttps%253A%2F%2Fwww.fanfiction.net%2Fs%2F13845992%2F2%2FThe-Question-of-Faith-in-Baskerville>: HTTP status code is not handled or not allowed\n",
      "2024-12-04 10:39:25 [scrapy.core.engine] DEBUG: Crawled (400) <GET https://proxy.scrapeops.io/v1/?api_key=&url=https%3A%2F%2Fproxy.scrapeops.io%2Fv1%2F%3Fapi_key%3D%26url%3Dhttps%253A%2F%2Fwww.fanfiction.net%2Fs%2F13944099%2F2%2FA-Battle-with-Depression-Lori-s-Story> (referer: https://steamdb.info/graph/)\n",
      "2024-12-04 10:39:25 [scrapy.core.engine] DEBUG: Crawled (400) <GET https://proxy.scrapeops.io/v1/?api_key=&url=https%3A%2F%2Fproxy.scrapeops.io%2Fv1%2F%3Fapi_key%3D%26url%3Dhttps%253A%2F%2Fwww.fanfiction.net%2Fs%2F13942920%2F2%2FTrust-the-bees> (referer: https://steamdb.info/graph/)\n",
      "2024-12-04 10:39:25 [scrapy.spidermiddlewares.httperror] INFO: Ignoring response <400 https://proxy.scrapeops.io/v1/?api_key=&url=https%3A%2F%2Fproxy.scrapeops.io%2Fv1%2F%3Fapi_key%3D%26url%3Dhttps%253A%2F%2Fwww.fanfiction.net%2Fs%2F13944099%2F2%2FA-Battle-with-Depression-Lori-s-Story>: HTTP status code is not handled or not allowed\n",
      "2024-12-04 10:39:25 [scrapy.core.engine] DEBUG: Crawled (400) <GET https://proxy.scrapeops.io/v1/?api_key=&url=https%3A%2F%2Fproxy.scrapeops.io%2Fv1%2F%3Fapi_key%3D%26url%3Dhttps%253A%2F%2Fwww.fanfiction.net%2Fs%2F13839513%2F2%2FSAW-2021-Collection> (referer: https://steamdb.info/graph/)\n",
      "2024-12-04 10:39:25 [scrapy.spidermiddlewares.httperror] INFO: Ignoring response <400 https://proxy.scrapeops.io/v1/?api_key=&url=https%3A%2F%2Fproxy.scrapeops.io%2Fv1%2F%3Fapi_key%3D%26url%3Dhttps%253A%2F%2Fwww.fanfiction.net%2Fs%2F13942920%2F2%2FTrust-the-bees>: HTTP status code is not handled or not allowed\n",
      "2024-12-04 10:39:25 [scrapy.core.engine] DEBUG: Crawled (400) <GET https://proxy.scrapeops.io/v1/?api_key=&url=https%3A%2F%2Fproxy.scrapeops.io%2Fv1%2F%3Fapi_key%3D%26url%3Dhttps%253A%2F%2Fwww.fanfiction.net%2Fs%2F13939179%2F2%2FEngland-Would-Fall> (referer: https://steamdb.info/graph/)\n",
      "2024-12-04 10:39:25 [scrapy.spidermiddlewares.httperror] INFO: Ignoring response <400 https://proxy.scrapeops.io/v1/?api_key=&url=https%3A%2F%2Fproxy.scrapeops.io%2Fv1%2F%3Fapi_key%3D%26url%3Dhttps%253A%2F%2Fwww.fanfiction.net%2Fs%2F13839513%2F2%2FSAW-2021-Collection>: HTTP status code is not handled or not allowed\n",
      "2024-12-04 10:39:25 [scrapy.core.engine] DEBUG: Crawled (200) <GET https://proxy.scrapeops.io/v1/?api_key=&url=https%3A%2F%2Fwww.fanfiction.net%2Fs%2F12776836%2F1%2FMe-Moriarty-and-a-Kidnap> (referer: https://steamdb.info/graph/)\n",
      "2024-12-04 10:39:25 [scrapy.core.engine] DEBUG: Crawled (400) <GET https://proxy.scrapeops.io/v1/?api_key=&url=https%3A%2F%2Fproxy.scrapeops.io%2Fv1%2F%3Fapi_key%3D%26url%3Dhttps%253A%2F%2Fwww.fanfiction.net%2Fs%2F13945260%2F2%2FIbelieveinsherlock> (referer: https://steamdb.info/graph/)\n",
      "2024-12-04 10:39:25 [scrapy.spidermiddlewares.httperror] INFO: Ignoring response <400 https://proxy.scrapeops.io/v1/?api_key=&url=https%3A%2F%2Fproxy.scrapeops.io%2Fv1%2F%3Fapi_key%3D%26url%3Dhttps%253A%2F%2Fwww.fanfiction.net%2Fs%2F13939179%2F2%2FEngland-Would-Fall>: HTTP status code is not handled or not allowed\n",
      "2024-12-04 10:39:26 [scrapy.core.engine] DEBUG: Crawled (200) <GET https://proxy.scrapeops.io/v1/?api_key=&url=https%3A%2F%2Fwww.fanfiction.net%2Fs%2F13946825%2F1%2FThe-Gem-of-Baskerville> (referer: https://steamdb.info/graph/)\n",
      "2024-12-04 10:39:26 [scrapy.spidermiddlewares.httperror] INFO: Ignoring response <400 https://proxy.scrapeops.io/v1/?api_key=&url=https%3A%2F%2Fproxy.scrapeops.io%2Fv1%2F%3Fapi_key%3D%26url%3Dhttps%253A%2F%2Fwww.fanfiction.net%2Fs%2F13945260%2F2%2FIbelieveinsherlock>: HTTP status code is not handled or not allowed\n",
      "2024-12-04 10:39:26 [scrapy.core.engine] DEBUG: Crawled (400) <GET https://proxy.scrapeops.io/v1/?api_key=&url=https%3A%2F%2Fproxy.scrapeops.io%2Fv1%2F%3Fapi_key%3D%26url%3Dhttps%253A%2F%2Fwww.fanfiction.net%2Fs%2F13842233%2F2%2FPractical-About-Death> (referer: https://steamdb.info/graph/)\n",
      "2024-12-04 10:39:26 [scrapy.spidermiddlewares.httperror] INFO: Ignoring response <400 https://proxy.scrapeops.io/v1/?api_key=&url=https%3A%2F%2Fproxy.scrapeops.io%2Fv1%2F%3Fapi_key%3D%26url%3Dhttps%253A%2F%2Fwww.fanfiction.net%2Fs%2F13842233%2F2%2FPractical-About-Death>: HTTP status code is not handled or not allowed\n",
      "2024-12-04 10:39:26 [scrapy.core.engine] DEBUG: Crawled (200) <GET https://proxy.scrapeops.io/v1/?api_key=&url=https%3A%2F%2Fwww.fanfiction.net%2Fs%2F13943162%2F1%2FAtrapado-en-el-tiempo> (referer: https://steamdb.info/graph/)\n"
     ]
    },
    {
     "name": "stdout",
     "output_type": "stream",
     "text": [
      "\n",
      "https://proxy.scrapeops.io/v1/?api_key=&url=https%3A%2F%2Fwww.fanfiction.net%2Fs%2F12776836%2F1%2FMe-Moriarty-and-a-Kidnap\n",
      "\n",
      "https://proxy.scrapeops.io/v1/?api_key=&url=https%3A%2F%2Fwww.fanfiction.net%2Fs%2F13946825%2F1%2FThe-Gem-of-Baskerville\n",
      "\n"
     ]
    },
    {
     "name": "stderr",
     "output_type": "stream",
     "text": [
      "2024-12-04 10:39:26 [scrapy.core.engine] DEBUG: Crawled (200) <GET https://proxy.scrapeops.io/v1/?api_key=&url=https%3A%2F%2Fwww.fanfiction.net%2Fs%2F13914165%2F1%2FMore-Than-You-Know> (referer: https://steamdb.info/graph/)\n",
      "2024-12-04 10:39:26 [scrapy.core.engine] DEBUG: Crawled (200) <GET https://proxy.scrapeops.io/v1/?api_key=&url=https%3A%2F%2Fwww.fanfiction.net%2Fs%2F13514399%2F1%2FSherlock-Holmes-The-Adventures-of-the-Basement-Neighbor> (referer: https://steamdb.info/graph/)\n"
     ]
    },
    {
     "name": "stdout",
     "output_type": "stream",
     "text": [
      "\n",
      "https://proxy.scrapeops.io/v1/?api_key=&url=https%3A%2F%2Fwww.fanfiction.net%2Fs%2F13914165%2F1%2FMore-Than-You-Know\n",
      "\n",
      "https://proxy.scrapeops.io/v1/?api_key=&url=https%3A%2F%2Fwww.fanfiction.net%2Fs%2F13514399%2F1%2FSherlock-Holmes-The-Adventures-of-the-Basement-Neighbor\n"
     ]
    },
    {
     "name": "stderr",
     "output_type": "stream",
     "text": [
      "2024-12-04 10:39:27 [scrapy.downloadermiddlewares.retry] DEBUG: Retrying <GET https://proxy.scrapeops.io/v1/?api_key=&url=https%3A%2F%2Fwww.fanfiction.net%2Fs%2F13759580%2F1%2FThe-moment-I-realized> (failed 1 times): 429 Unknown Status\n",
      "2024-12-04 10:39:27 [scrapy.core.engine] DEBUG: Crawled (200) <GET https://proxy.scrapeops.io/v1/?api_key=&url=https%3A%2F%2Fwww.fanfiction.net%2Fs%2F13958768%2F1%2FCelebration> (referer: https://steamdb.info/graph/)\n",
      "2024-12-04 10:39:28 [scrapy.core.engine] DEBUG: Crawled (200) <GET https://proxy.scrapeops.io/v1/?api_key=&url=https%3A%2F%2Fwww.fanfiction.net%2Fs%2F13961530%2F1%2FThe-noble-violin> (referer: https://steamdb.info/graph/)\n"
     ]
    },
    {
     "name": "stdout",
     "output_type": "stream",
     "text": [
      "\n",
      "https://proxy.scrapeops.io/v1/?api_key=&url=https%3A%2F%2Fwww.fanfiction.net%2Fs%2F13958768%2F1%2FCelebration\n",
      "\n",
      "https://proxy.scrapeops.io/v1/?api_key=&url=https%3A%2F%2Fwww.fanfiction.net%2Fs%2F13961530%2F1%2FThe-noble-violin\n"
     ]
    },
    {
     "name": "stderr",
     "output_type": "stream",
     "text": [
      "2024-12-04 10:39:28 [scrapy.core.engine] DEBUG: Crawled (200) <GET https://proxy.scrapeops.io/v1/?api_key=&url=https%3A%2F%2Fwww.fanfiction.net%2Fs%2F13955940%2F1%2FThe-Whitechapel-horror-and-Sherlock-Holmes> (referer: https://steamdb.info/graph/)\n",
      "2024-12-04 10:39:28 [scrapy.core.engine] DEBUG: Crawled (200) <GET https://proxy.scrapeops.io/v1/?api_key=&url=https%3A%2F%2Fwww.fanfiction.net%2Fs%2F13929756%2F1%2FWhen-Sense-and-Sentiment-Align> (referer: https://steamdb.info/graph/)\n",
      "2024-12-04 10:39:28 [scrapy.core.engine] DEBUG: Crawled (400) <GET https://proxy.scrapeops.io/v1/?api_key=&url=https%3A%2F%2Fproxy.scrapeops.io%2Fv1%2F%3Fapi_key%3D%26url%3Dhttps%253A%2F%2Fwww.fanfiction.net%2Fs%2F12776836%2F2%2FMe-Moriarty-and-a-Kidnap> (referer: https://steamdb.info/graph/)\n",
      "2024-12-04 10:39:28 [scrapy.core.engine] DEBUG: Crawled (200) <GET https://proxy.scrapeops.io/v1/?api_key=&url=https%3A%2F%2Fwww.fanfiction.net%2Fs%2F13964477%2F1%2FDon-t-Kiss-and-Tell> (referer: https://steamdb.info/graph/)\n",
      "2024-12-04 10:39:28 [scrapy.core.engine] DEBUG: Crawled (400) <GET https://proxy.scrapeops.io/v1/?api_key=&url=https%3A%2F%2Fproxy.scrapeops.io%2Fv1%2F%3Fapi_key%3D%26url%3Dhttps%253A%2F%2Fwww.fanfiction.net%2Fs%2F13946825%2F2%2FThe-Gem-of-Baskerville> (referer: https://steamdb.info/graph/)\n",
      "2024-12-04 10:39:28 [scrapy.spidermiddlewares.httperror] INFO: Ignoring response <400 https://proxy.scrapeops.io/v1/?api_key=&url=https%3A%2F%2Fproxy.scrapeops.io%2Fv1%2F%3Fapi_key%3D%26url%3Dhttps%253A%2F%2Fwww.fanfiction.net%2Fs%2F12776836%2F2%2FMe-Moriarty-and-a-Kidnap>: HTTP status code is not handled or not allowed\n",
      "2024-12-04 10:39:28 [scrapy.core.engine] DEBUG: Crawled (400) <GET https://proxy.scrapeops.io/v1/?api_key=&url=https%3A%2F%2Fproxy.scrapeops.io%2Fv1%2F%3Fapi_key%3D%26url%3Dhttps%253A%2F%2Fwww.fanfiction.net%2Fs%2F13914165%2F2%2FMore-Than-You-Know> (referer: https://steamdb.info/graph/)\n",
      "2024-12-04 10:39:28 [scrapy.spidermiddlewares.httperror] INFO: Ignoring response <400 https://proxy.scrapeops.io/v1/?api_key=&url=https%3A%2F%2Fproxy.scrapeops.io%2Fv1%2F%3Fapi_key%3D%26url%3Dhttps%253A%2F%2Fwww.fanfiction.net%2Fs%2F13946825%2F2%2FThe-Gem-of-Baskerville>: HTTP status code is not handled or not allowed\n"
     ]
    },
    {
     "name": "stdout",
     "output_type": "stream",
     "text": [
      "\n",
      "https://proxy.scrapeops.io/v1/?api_key=&url=https%3A%2F%2Fwww.fanfiction.net%2Fs%2F13955940%2F1%2FThe-Whitechapel-horror-and-Sherlock-Holmes\n",
      "\n",
      "https://proxy.scrapeops.io/v1/?api_key=&url=https%3A%2F%2Fwww.fanfiction.net%2Fs%2F13929756%2F1%2FWhen-Sense-and-Sentiment-Align\n",
      "\n",
      "https://proxy.scrapeops.io/v1/?api_key=&url=https%3A%2F%2Fwww.fanfiction.net%2Fs%2F13964477%2F1%2FDon-t-Kiss-and-Tell\n"
     ]
    },
    {
     "name": "stderr",
     "output_type": "stream",
     "text": [
      "2024-12-04 10:39:29 [scrapy.spidermiddlewares.httperror] INFO: Ignoring response <400 https://proxy.scrapeops.io/v1/?api_key=&url=https%3A%2F%2Fproxy.scrapeops.io%2Fv1%2F%3Fapi_key%3D%26url%3Dhttps%253A%2F%2Fwww.fanfiction.net%2Fs%2F13914165%2F2%2FMore-Than-You-Know>: HTTP status code is not handled or not allowed\n",
      "2024-12-04 10:39:29 [scrapy.core.engine] DEBUG: Crawled (400) <GET https://proxy.scrapeops.io/v1/?api_key=&url=https%3A%2F%2Fproxy.scrapeops.io%2Fv1%2F%3Fapi_key%3D%26url%3Dhttps%253A%2F%2Fwww.fanfiction.net%2Fs%2F13514399%2F2%2FSherlock-Holmes-The-Adventures-of-the-Basement-Neighbor> (referer: https://steamdb.info/graph/)\n",
      "2024-12-04 10:39:29 [scrapy.spidermiddlewares.httperror] INFO: Ignoring response <400 https://proxy.scrapeops.io/v1/?api_key=&url=https%3A%2F%2Fproxy.scrapeops.io%2Fv1%2F%3Fapi_key%3D%26url%3Dhttps%253A%2F%2Fwww.fanfiction.net%2Fs%2F13514399%2F2%2FSherlock-Holmes-The-Adventures-of-the-Basement-Neighbor>: HTTP status code is not handled or not allowed\n",
      "2024-12-04 10:39:29 [scrapy.core.engine] DEBUG: Crawled (200) <GET https://proxy.scrapeops.io/v1/?api_key=&url=https%3A%2F%2Fwww.fanfiction.net%2Fs%2F13966017%2F1%2FUnmasked-Attraction> (referer: https://steamdb.info/graph/)\n",
      "2024-12-04 10:39:29 [scrapy.core.engine] DEBUG: Crawled (400) <GET https://proxy.scrapeops.io/v1/?api_key=&url=https%3A%2F%2Fproxy.scrapeops.io%2Fv1%2F%3Fapi_key%3D%26url%3Dhttps%253A%2F%2Fwww.fanfiction.net%2Fs%2F13958768%2F2%2FCelebration> (referer: https://steamdb.info/graph/)\n",
      "2024-12-04 10:39:29 [scrapy.spidermiddlewares.httperror] INFO: Ignoring response <400 https://proxy.scrapeops.io/v1/?api_key=&url=https%3A%2F%2Fproxy.scrapeops.io%2Fv1%2F%3Fapi_key%3D%26url%3Dhttps%253A%2F%2Fwww.fanfiction.net%2Fs%2F13958768%2F2%2FCelebration>: HTTP status code is not handled or not allowed\n",
      "2024-12-04 10:39:29 [scrapy.core.engine] DEBUG: Crawled (400) <GET https://proxy.scrapeops.io/v1/?api_key=&url=https%3A%2F%2Fproxy.scrapeops.io%2Fv1%2F%3Fapi_key%3D%26url%3Dhttps%253A%2F%2Fwww.fanfiction.net%2Fs%2F13961530%2F2%2FThe-noble-violin> (referer: https://steamdb.info/graph/)\n"
     ]
    },
    {
     "name": "stdout",
     "output_type": "stream",
     "text": [
      "\n",
      "https://proxy.scrapeops.io/v1/?api_key=&url=https%3A%2F%2Fwww.fanfiction.net%2Fs%2F13966017%2F1%2FUnmasked-Attraction\n"
     ]
    },
    {
     "name": "stderr",
     "output_type": "stream",
     "text": [
      "2024-12-04 10:39:29 [scrapy.spidermiddlewares.httperror] INFO: Ignoring response <400 https://proxy.scrapeops.io/v1/?api_key=&url=https%3A%2F%2Fproxy.scrapeops.io%2Fv1%2F%3Fapi_key%3D%26url%3Dhttps%253A%2F%2Fwww.fanfiction.net%2Fs%2F13961530%2F2%2FThe-noble-violin>: HTTP status code is not handled or not allowed\n",
      "2024-12-04 10:39:30 [scrapy.core.engine] DEBUG: Crawled (200) <GET https://proxy.scrapeops.io/v1/?api_key=&url=https%3A%2F%2Fwww.fanfiction.net%2Fs%2F13966647%2F1%2FDomesticated-Husband-Girl-Dad> (referer: https://steamdb.info/graph/)\n"
     ]
    },
    {
     "name": "stdout",
     "output_type": "stream",
     "text": [
      "\n",
      "https://proxy.scrapeops.io/v1/?api_key=&url=https%3A%2F%2Fwww.fanfiction.net%2Fs%2F13966647%2F1%2FDomesticated-Husband-Girl-Dad\n"
     ]
    },
    {
     "name": "stderr",
     "output_type": "stream",
     "text": [
      "2024-12-04 10:39:30 [scrapy.core.engine] DEBUG: Crawled (200) <GET https://proxy.scrapeops.io/v1/?api_key=&url=https%3A%2F%2Fwww.fanfiction.net%2Fs%2F13966729%2F1%2FThe-Scared-Detective> (referer: https://steamdb.info/graph/)\n",
      "2024-12-04 10:39:30 [scrapy.core.engine] DEBUG: Crawled (200) <GET https://proxy.scrapeops.io/v1/?api_key=&url=https%3A%2F%2Fwww.fanfiction.net%2Fs%2F13967578%2F1%2FThe-Sparks-of-Friendship-and-Love> (referer: https://steamdb.info/graph/)\n",
      "2024-12-04 10:39:31 [scrapy.core.engine] DEBUG: Crawled (400) <GET https://proxy.scrapeops.io/v1/?api_key=&url=https%3A%2F%2Fproxy.scrapeops.io%2Fv1%2F%3Fapi_key%3D%26url%3Dhttps%253A%2F%2Fwww.fanfiction.net%2Fs%2F13929756%2F2%2FWhen-Sense-and-Sentiment-Align> (referer: https://steamdb.info/graph/)\n",
      "2024-12-04 10:39:31 [scrapy.core.engine] DEBUG: Crawled (400) <GET https://proxy.scrapeops.io/v1/?api_key=&url=https%3A%2F%2Fproxy.scrapeops.io%2Fv1%2F%3Fapi_key%3D%26url%3Dhttps%253A%2F%2Fwww.fanfiction.net%2Fs%2F13955940%2F2%2FThe-Whitechapel-horror-and-Sherlock-Holmes> (referer: https://steamdb.info/graph/)\n",
      "2024-12-04 10:39:31 [scrapy.core.engine] DEBUG: Crawled (200) <GET https://proxy.scrapeops.io/v1/?api_key=&url=https%3A%2F%2Fwww.fanfiction.net%2Fs%2F13966756%2F1%2FI-Am-Not-There-I-Do-Not-Sleep> (referer: https://steamdb.info/graph/)\n",
      "2024-12-04 10:39:31 [scrapy.core.engine] DEBUG: Crawled (400) <GET https://proxy.scrapeops.io/v1/?api_key=&url=https%3A%2F%2Fproxy.scrapeops.io%2Fv1%2F%3Fapi_key%3D%26url%3Dhttps%253A%2F%2Fwww.fanfiction.net%2Fs%2F13964477%2F2%2FDon-t-Kiss-and-Tell> (referer: https://steamdb.info/graph/)\n",
      "2024-12-04 10:39:31 [scrapy.spidermiddlewares.httperror] INFO: Ignoring response <400 https://proxy.scrapeops.io/v1/?api_key=&url=https%3A%2F%2Fproxy.scrapeops.io%2Fv1%2F%3Fapi_key%3D%26url%3Dhttps%253A%2F%2Fwww.fanfiction.net%2Fs%2F13929756%2F2%2FWhen-Sense-and-Sentiment-Align>: HTTP status code is not handled or not allowed\n",
      "2024-12-04 10:39:31 [scrapy.spidermiddlewares.httperror] INFO: Ignoring response <400 https://proxy.scrapeops.io/v1/?api_key=&url=https%3A%2F%2Fproxy.scrapeops.io%2Fv1%2F%3Fapi_key%3D%26url%3Dhttps%253A%2F%2Fwww.fanfiction.net%2Fs%2F13955940%2F2%2FThe-Whitechapel-horror-and-Sherlock-Holmes>: HTTP status code is not handled or not allowed\n",
      "2024-12-04 10:39:31 [scrapy.core.engine] DEBUG: Crawled (400) <GET https://proxy.scrapeops.io/v1/?api_key=&url=https%3A%2F%2Fproxy.scrapeops.io%2Fv1%2F%3Fapi_key%3D%26url%3Dhttps%253A%2F%2Fwww.fanfiction.net%2Fs%2F13966017%2F2%2FUnmasked-Attraction> (referer: https://steamdb.info/graph/)\n",
      "2024-12-04 10:39:31 [scrapy.spidermiddlewares.httperror] INFO: Ignoring response <400 https://proxy.scrapeops.io/v1/?api_key=&url=https%3A%2F%2Fproxy.scrapeops.io%2Fv1%2F%3Fapi_key%3D%26url%3Dhttps%253A%2F%2Fwww.fanfiction.net%2Fs%2F13964477%2F2%2FDon-t-Kiss-and-Tell>: HTTP status code is not handled or not allowed\n"
     ]
    },
    {
     "name": "stdout",
     "output_type": "stream",
     "text": [
      "\n",
      "https://proxy.scrapeops.io/v1/?api_key=&url=https%3A%2F%2Fwww.fanfiction.net%2Fs%2F13966729%2F1%2FThe-Scared-Detective\n",
      "\n",
      "https://proxy.scrapeops.io/v1/?api_key=&url=https%3A%2F%2Fwww.fanfiction.net%2Fs%2F13967578%2F1%2FThe-Sparks-of-Friendship-and-Love\n",
      "\n",
      "https://proxy.scrapeops.io/v1/?api_key=&url=https%3A%2F%2Fwww.fanfiction.net%2Fs%2F13966756%2F1%2FI-Am-Not-There-I-Do-Not-Sleep\n"
     ]
    },
    {
     "name": "stderr",
     "output_type": "stream",
     "text": [
      "2024-12-04 10:39:31 [scrapy.spidermiddlewares.httperror] INFO: Ignoring response <400 https://proxy.scrapeops.io/v1/?api_key=&url=https%3A%2F%2Fproxy.scrapeops.io%2Fv1%2F%3Fapi_key%3D%26url%3Dhttps%253A%2F%2Fwww.fanfiction.net%2Fs%2F13966017%2F2%2FUnmasked-Attraction>: HTTP status code is not handled or not allowed\n",
      "2024-12-04 10:39:31 [scrapy.downloadermiddlewares.retry] DEBUG: Retrying <GET https://proxy.scrapeops.io/v1/?api_key=&url=https%3A%2F%2Fwww.fanfiction.net%2Fs%2F13964411%2F1%2FWhy-Me> (failed 1 times): 429 Unknown Status\n",
      "2024-12-04 10:39:31 [scrapy.core.engine] DEBUG: Crawled (200) <GET https://proxy.scrapeops.io/v1/?api_key=&url=https%3A%2F%2Fwww.fanfiction.net%2Fs%2F13898381%2F1%2FSherlock-Challenge> (referer: https://steamdb.info/graph/)\n",
      "2024-12-04 10:39:31 [scrapy.core.engine] DEBUG: Crawled (400) <GET https://proxy.scrapeops.io/v1/?api_key=&url=https%3A%2F%2Fproxy.scrapeops.io%2Fv1%2F%3Fapi_key%3D%26url%3Dhttps%253A%2F%2Fwww.fanfiction.net%2Fs%2F13966647%2F2%2FDomesticated-Husband-Girl-Dad> (referer: https://steamdb.info/graph/)\n",
      "2024-12-04 10:39:31 [scrapy.spidermiddlewares.httperror] INFO: Ignoring response <400 https://proxy.scrapeops.io/v1/?api_key=&url=https%3A%2F%2Fproxy.scrapeops.io%2Fv1%2F%3Fapi_key%3D%26url%3Dhttps%253A%2F%2Fwww.fanfiction.net%2Fs%2F13966647%2F2%2FDomesticated-Husband-Girl-Dad>: HTTP status code is not handled or not allowed\n"
     ]
    },
    {
     "name": "stdout",
     "output_type": "stream",
     "text": [
      "\n",
      "https://proxy.scrapeops.io/v1/?api_key=&url=https%3A%2F%2Fwww.fanfiction.net%2Fs%2F13898381%2F1%2FSherlock-Challenge\n"
     ]
    },
    {
     "name": "stderr",
     "output_type": "stream",
     "text": [
      "2024-12-04 10:39:32 [scrapy.core.engine] DEBUG: Crawled (200) <GET https://proxy.scrapeops.io/v1/?api_key=&url=https%3A%2F%2Fwww.fanfiction.net%2Fs%2F13979667%2F1%2FThe-case-of-Lestrade-s-had-enough> (referer: https://steamdb.info/graph/)\n",
      "2024-12-04 10:39:32 [scrapy.downloadermiddlewares.retry] DEBUG: Retrying <GET https://proxy.scrapeops.io/v1/?api_key=&url=https%3A%2F%2Fwww.fanfiction.net%2Fs%2F13965799%2F1%2FStuffed-With-Fluff> (failed 1 times): 429 Unknown Status\n",
      "2024-12-04 10:39:32 [scrapy.core.engine] DEBUG: Crawled (400) <GET https://proxy.scrapeops.io/v1/?api_key=&url=https%3A%2F%2Fproxy.scrapeops.io%2Fv1%2F%3Fapi_key%3D%26url%3Dhttps%253A%2F%2Fwww.fanfiction.net%2Fs%2F13966729%2F2%2FThe-Scared-Detective> (referer: https://steamdb.info/graph/)\n",
      "2024-12-04 10:39:32 [scrapy.core.engine] DEBUG: Crawled (200) <GET https://proxy.scrapeops.io/v1/?api_key=&url=https%3A%2F%2Fwww.fanfiction.net%2Fs%2F14005582%2F1%2FSticks-and-Stones-May-Break-My-Bones-And-Words-Definitely-Hurt-Me> (referer: https://steamdb.info/graph/)\n",
      "2024-12-04 10:39:32 [scrapy.core.engine] DEBUG: Crawled (400) <GET https://proxy.scrapeops.io/v1/?api_key=&url=https%3A%2F%2Fproxy.scrapeops.io%2Fv1%2F%3Fapi_key%3D%26url%3Dhttps%253A%2F%2Fwww.fanfiction.net%2Fs%2F13967578%2F2%2FThe-Sparks-of-Friendship-and-Love> (referer: https://steamdb.info/graph/)\n",
      "2024-12-04 10:39:32 [scrapy.spidermiddlewares.httperror] INFO: Ignoring response <400 https://proxy.scrapeops.io/v1/?api_key=&url=https%3A%2F%2Fproxy.scrapeops.io%2Fv1%2F%3Fapi_key%3D%26url%3Dhttps%253A%2F%2Fwww.fanfiction.net%2Fs%2F13966729%2F2%2FThe-Scared-Detective>: HTTP status code is not handled or not allowed\n"
     ]
    },
    {
     "name": "stdout",
     "output_type": "stream",
     "text": [
      "\n",
      "https://proxy.scrapeops.io/v1/?api_key=&url=https%3A%2F%2Fwww.fanfiction.net%2Fs%2F13979667%2F1%2FThe-case-of-Lestrade-s-had-enough\n",
      "\n",
      "https://proxy.scrapeops.io/v1/?api_key=&url=https%3A%2F%2Fwww.fanfiction.net%2Fs%2F14005582%2F1%2FSticks-and-Stones-May-Break-My-Bones-And-Words-Definitely-Hurt-Me\n"
     ]
    },
    {
     "name": "stderr",
     "output_type": "stream",
     "text": [
      "2024-12-04 10:39:32 [scrapy.spidermiddlewares.httperror] INFO: Ignoring response <400 https://proxy.scrapeops.io/v1/?api_key=&url=https%3A%2F%2Fproxy.scrapeops.io%2Fv1%2F%3Fapi_key%3D%26url%3Dhttps%253A%2F%2Fwww.fanfiction.net%2Fs%2F13967578%2F2%2FThe-Sparks-of-Friendship-and-Love>: HTTP status code is not handled or not allowed\n",
      "2024-12-04 10:39:33 [scrapy.core.engine] DEBUG: Crawled (200) <GET https://proxy.scrapeops.io/v1/?api_key=&url=https%3A%2F%2Fwww.fanfiction.net%2Fs%2F13952094%2F1%2FDeath-Series-4-Price-Of-Death> (referer: https://steamdb.info/graph/)\n",
      "2024-12-04 10:39:33 [scrapy.core.engine] DEBUG: Crawled (200) <GET https://proxy.scrapeops.io/v1/?api_key=&url=https%3A%2F%2Fwww.fanfiction.net%2Fs%2F14005033%2F1%2FOutside-Looking-In> (referer: https://steamdb.info/graph/)\n",
      "2024-12-04 10:39:33 [scrapy.core.engine] DEBUG: Crawled (400) <GET https://proxy.scrapeops.io/v1/?api_key=&url=https%3A%2F%2Fproxy.scrapeops.io%2Fv1%2F%3Fapi_key%3D%26url%3Dhttps%253A%2F%2Fwww.fanfiction.net%2Fs%2F13966756%2F2%2FI-Am-Not-There-I-Do-Not-Sleep> (referer: https://steamdb.info/graph/)\n",
      "2024-12-04 10:39:33 [scrapy.spidermiddlewares.httperror] INFO: Ignoring response <400 https://proxy.scrapeops.io/v1/?api_key=&url=https%3A%2F%2Fproxy.scrapeops.io%2Fv1%2F%3Fapi_key%3D%26url%3Dhttps%253A%2F%2Fwww.fanfiction.net%2Fs%2F13966756%2F2%2FI-Am-Not-There-I-Do-Not-Sleep>: HTTP status code is not handled or not allowed\n"
     ]
    },
    {
     "name": "stdout",
     "output_type": "stream",
     "text": [
      "\n",
      "https://proxy.scrapeops.io/v1/?api_key=&url=https%3A%2F%2Fwww.fanfiction.net%2Fs%2F13952094%2F1%2FDeath-Series-4-Price-Of-Death\n",
      "\n",
      "https://proxy.scrapeops.io/v1/?api_key=&url=https%3A%2F%2Fwww.fanfiction.net%2Fs%2F14005033%2F1%2FOutside-Looking-In\n"
     ]
    },
    {
     "name": "stderr",
     "output_type": "stream",
     "text": [
      "2024-12-04 10:39:33 [scrapy.core.engine] DEBUG: Crawled (200) <GET https://proxy.scrapeops.io/v1/?api_key=&url=https%3A%2F%2Fwww.fanfiction.net%2Fs%2F14006060%2F1%2FA-Grave-Discovery> (referer: https://steamdb.info/graph/)\n",
      "2024-12-04 10:39:33 [scrapy.core.engine] DEBUG: Crawled (400) <GET https://proxy.scrapeops.io/v1/?api_key=&url=https%3A%2F%2Fproxy.scrapeops.io%2Fv1%2F%3Fapi_key%3D%26url%3Dhttps%253A%2F%2Fwww.fanfiction.net%2Fs%2F13898381%2F2%2FSherlock-Challenge> (referer: https://steamdb.info/graph/)\n",
      "2024-12-04 10:39:34 [scrapy.spidermiddlewares.httperror] INFO: Ignoring response <400 https://proxy.scrapeops.io/v1/?api_key=&url=https%3A%2F%2Fproxy.scrapeops.io%2Fv1%2F%3Fapi_key%3D%26url%3Dhttps%253A%2F%2Fwww.fanfiction.net%2Fs%2F13898381%2F2%2FSherlock-Challenge>: HTTP status code is not handled or not allowed\n",
      "2024-12-04 10:39:34 [scrapy.core.engine] DEBUG: Crawled (200) <GET https://proxy.scrapeops.io/v1/?api_key=&url=https%3A%2F%2Fwww.fanfiction.net%2Fs%2F13957594%2F1%2FOf-Sweat-Sociopathy-Scars-and-Secrets> (referer: https://steamdb.info/graph/)\n"
     ]
    },
    {
     "name": "stdout",
     "output_type": "stream",
     "text": [
      "\n",
      "https://proxy.scrapeops.io/v1/?api_key=&url=https%3A%2F%2Fwww.fanfiction.net%2Fs%2F14006060%2F1%2FA-Grave-Discovery\n"
     ]
    },
    {
     "name": "stderr",
     "output_type": "stream",
     "text": [
      "2024-12-04 10:39:34 [scrapy.core.engine] DEBUG: Crawled (400) <GET https://proxy.scrapeops.io/v1/?api_key=&url=https%3A%2F%2Fproxy.scrapeops.io%2Fv1%2F%3Fapi_key%3D%26url%3Dhttps%253A%2F%2Fwww.fanfiction.net%2Fs%2F13979667%2F2%2FThe-case-of-Lestrade-s-had-enough> (referer: https://steamdb.info/graph/)\n",
      "2024-12-04 10:39:34 [scrapy.core.engine] DEBUG: Crawled (200) <GET https://proxy.scrapeops.io/v1/?api_key=&url=https%3A%2F%2Fwww.fanfiction.net%2Fs%2F14007035%2F1%2FR%25C3%25A9ception> (referer: https://steamdb.info/graph/)\n",
      "2024-12-04 10:39:34 [scrapy.spidermiddlewares.httperror] INFO: Ignoring response <400 https://proxy.scrapeops.io/v1/?api_key=&url=https%3A%2F%2Fproxy.scrapeops.io%2Fv1%2F%3Fapi_key%3D%26url%3Dhttps%253A%2F%2Fwww.fanfiction.net%2Fs%2F13979667%2F2%2FThe-case-of-Lestrade-s-had-enough>: HTTP status code is not handled or not allowed\n",
      "2024-12-04 10:39:34 [scrapy.core.engine] DEBUG: Crawled (200) <GET https://proxy.scrapeops.io/v1/?api_key=&url=https%3A%2F%2Fwww.fanfiction.net%2Fs%2F13991724%2F1%2FFull-Circle> (referer: https://steamdb.info/graph/)\n"
     ]
    },
    {
     "name": "stdout",
     "output_type": "stream",
     "text": [
      "\n",
      "https://proxy.scrapeops.io/v1/?api_key=&url=https%3A%2F%2Fwww.fanfiction.net%2Fs%2F13957594%2F1%2FOf-Sweat-Sociopathy-Scars-and-Secrets\n",
      "\n"
     ]
    },
    {
     "name": "stderr",
     "output_type": "stream",
     "text": [
      "2024-12-04 10:39:34 [scrapy.core.engine] DEBUG: Crawled (400) <GET https://proxy.scrapeops.io/v1/?api_key=&url=https%3A%2F%2Fproxy.scrapeops.io%2Fv1%2F%3Fapi_key%3D%26url%3Dhttps%253A%2F%2Fwww.fanfiction.net%2Fs%2F14005582%2F2%2FSticks-and-Stones-May-Break-My-Bones-And-Words-Definitely-Hurt-Me> (referer: https://steamdb.info/graph/)\n",
      "2024-12-04 10:39:34 [scrapy.spidermiddlewares.httperror] INFO: Ignoring response <400 https://proxy.scrapeops.io/v1/?api_key=&url=https%3A%2F%2Fproxy.scrapeops.io%2Fv1%2F%3Fapi_key%3D%26url%3Dhttps%253A%2F%2Fwww.fanfiction.net%2Fs%2F14005582%2F2%2FSticks-and-Stones-May-Break-My-Bones-And-Words-Definitely-Hurt-Me>: HTTP status code is not handled or not allowed\n"
     ]
    },
    {
     "name": "stdout",
     "output_type": "stream",
     "text": [
      "\n",
      "https://proxy.scrapeops.io/v1/?api_key=&url=https%3A%2F%2Fwww.fanfiction.net%2Fs%2F13991724%2F1%2FFull-Circle\n"
     ]
    },
    {
     "name": "stderr",
     "output_type": "stream",
     "text": [
      "2024-12-04 10:39:35 [scrapy.core.engine] DEBUG: Crawled (200) <GET https://proxy.scrapeops.io/v1/?api_key=&url=https%3A%2F%2Fwww.fanfiction.net%2Fs%2F13935822%2F1%2FThe-Scientist> (referer: https://steamdb.info/graph/)\n"
     ]
    },
    {
     "name": "stdout",
     "output_type": "stream",
     "text": [
      "\n",
      "https://proxy.scrapeops.io/v1/?api_key=&url=https%3A%2F%2Fwww.fanfiction.net%2Fs%2F13935822%2F1%2FThe-Scientist\n"
     ]
    },
    {
     "name": "stderr",
     "output_type": "stream",
     "text": [
      "2024-12-04 10:39:35 [scrapy.core.engine] DEBUG: Crawled (200) <GET https://proxy.scrapeops.io/v1/?api_key=&url=https%3A%2F%2Fwww.fanfiction.net%2Fs%2F14008994%2F1%2FUnder-the-Shape-of-Dessert> (referer: https://steamdb.info/graph/)\n",
      "2024-12-04 10:39:35 [scrapy.core.engine] DEBUG: Crawled (400) <GET https://proxy.scrapeops.io/v1/?api_key=&url=https%3A%2F%2Fproxy.scrapeops.io%2Fv1%2F%3Fapi_key%3D%26url%3Dhttps%253A%2F%2Fwww.fanfiction.net%2Fs%2F14005033%2F2%2FOutside-Looking-In> (referer: https://steamdb.info/graph/)\n",
      "2024-12-04 10:39:35 [scrapy.core.engine] DEBUG: Crawled (400) <GET https://proxy.scrapeops.io/v1/?api_key=&url=https%3A%2F%2Fproxy.scrapeops.io%2Fv1%2F%3Fapi_key%3D%26url%3Dhttps%253A%2F%2Fwww.fanfiction.net%2Fs%2F13952094%2F2%2FDeath-Series-4-Price-Of-Death> (referer: https://steamdb.info/graph/)\n",
      "2024-12-04 10:39:35 [scrapy.spidermiddlewares.httperror] INFO: Ignoring response <400 https://proxy.scrapeops.io/v1/?api_key=&url=https%3A%2F%2Fproxy.scrapeops.io%2Fv1%2F%3Fapi_key%3D%26url%3Dhttps%253A%2F%2Fwww.fanfiction.net%2Fs%2F14005033%2F2%2FOutside-Looking-In>: HTTP status code is not handled or not allowed\n",
      "2024-12-04 10:39:35 [scrapy.core.engine] DEBUG: Crawled (400) <GET https://proxy.scrapeops.io/v1/?api_key=&url=https%3A%2F%2Fproxy.scrapeops.io%2Fv1%2F%3Fapi_key%3D%26url%3Dhttps%253A%2F%2Fwww.fanfiction.net%2Fs%2F14006060%2F2%2FA-Grave-Discovery> (referer: https://steamdb.info/graph/)\n",
      "2024-12-04 10:39:35 [scrapy.spidermiddlewares.httperror] INFO: Ignoring response <400 https://proxy.scrapeops.io/v1/?api_key=&url=https%3A%2F%2Fproxy.scrapeops.io%2Fv1%2F%3Fapi_key%3D%26url%3Dhttps%253A%2F%2Fwww.fanfiction.net%2Fs%2F13952094%2F2%2FDeath-Series-4-Price-Of-Death>: HTTP status code is not handled or not allowed\n"
     ]
    },
    {
     "name": "stdout",
     "output_type": "stream",
     "text": [
      "\n",
      "https://proxy.scrapeops.io/v1/?api_key=&url=https%3A%2F%2Fwww.fanfiction.net%2Fs%2F14008994%2F1%2FUnder-the-Shape-of-Dessert\n"
     ]
    },
    {
     "name": "stderr",
     "output_type": "stream",
     "text": [
      "2024-12-04 10:39:35 [scrapy.spidermiddlewares.httperror] INFO: Ignoring response <400 https://proxy.scrapeops.io/v1/?api_key=&url=https%3A%2F%2Fproxy.scrapeops.io%2Fv1%2F%3Fapi_key%3D%26url%3Dhttps%253A%2F%2Fwww.fanfiction.net%2Fs%2F14006060%2F2%2FA-Grave-Discovery>: HTTP status code is not handled or not allowed\n",
      "2024-12-04 10:39:35 [scrapy.core.engine] DEBUG: Crawled (200) <GET https://proxy.scrapeops.io/v1/?api_key=&url=https%3A%2F%2Fwww.fanfiction.net%2Fs%2F14009802%2F1%2FEmotional-Context> (referer: https://steamdb.info/graph/)\n",
      "2024-12-04 10:39:36 [scrapy.core.engine] DEBUG: Crawled (400) <GET https://proxy.scrapeops.io/v1/?api_key=&url=https%3A%2F%2Fproxy.scrapeops.io%2Fv1%2F%3Fapi_key%3D%26url%3Dhttps%253A%2F%2Fwww.fanfiction.net%2Fs%2F13957594%2F2%2FOf-Sweat-Sociopathy-Scars-and-Secrets> (referer: https://steamdb.info/graph/)\n",
      "2024-12-04 10:39:36 [scrapy.spidermiddlewares.httperror] INFO: Ignoring response <400 https://proxy.scrapeops.io/v1/?api_key=&url=https%3A%2F%2Fproxy.scrapeops.io%2Fv1%2F%3Fapi_key%3D%26url%3Dhttps%253A%2F%2Fwww.fanfiction.net%2Fs%2F13957594%2F2%2FOf-Sweat-Sociopathy-Scars-and-Secrets>: HTTP status code is not handled or not allowed\n",
      "2024-12-04 10:39:36 [scrapy.core.engine] DEBUG: Crawled (200) <GET https://proxy.scrapeops.io/v1/?api_key=&url=https%3A%2F%2Fwww.fanfiction.net%2Fs%2F14018502%2F1%2FEverything> (referer: https://steamdb.info/graph/)\n"
     ]
    },
    {
     "name": "stdout",
     "output_type": "stream",
     "text": [
      "\n",
      "https://proxy.scrapeops.io/v1/?api_key=&url=https%3A%2F%2Fwww.fanfiction.net%2Fs%2F14009802%2F1%2FEmotional-Context\n"
     ]
    },
    {
     "name": "stderr",
     "output_type": "stream",
     "text": [
      "2024-12-04 10:39:36 [scrapy.core.engine] DEBUG: Crawled (200) <GET https://proxy.scrapeops.io/v1/?api_key=&url=https%3A%2F%2Fwww.fanfiction.net%2Fs%2F14009850%2F1%2FThe-Unexpected-Envelope-A-Christmas-Story> (referer: https://steamdb.info/graph/)\n",
      "2024-12-04 10:39:36 [scrapy.core.engine] DEBUG: Crawled (400) <GET https://proxy.scrapeops.io/v1/?api_key=&url=https%3A%2F%2Fproxy.scrapeops.io%2Fv1%2F%3Fapi_key%3D%26url%3Dhttps%253A%2F%2Fwww.fanfiction.net%2Fs%2F13991724%2F2%2FFull-Circle> (referer: https://steamdb.info/graph/)\n",
      "2024-12-04 10:39:36 [scrapy.core.engine] DEBUG: Crawled (400) <GET https://proxy.scrapeops.io/v1/?api_key=&url=https%3A%2F%2Fproxy.scrapeops.io%2Fv1%2F%3Fapi_key%3D%26url%3Dhttps%253A%2F%2Fwww.fanfiction.net%2Fs%2F13935822%2F2%2FThe-Scientist> (referer: https://steamdb.info/graph/)\n",
      "2024-12-04 10:39:36 [scrapy.spidermiddlewares.httperror] INFO: Ignoring response <400 https://proxy.scrapeops.io/v1/?api_key=&url=https%3A%2F%2Fproxy.scrapeops.io%2Fv1%2F%3Fapi_key%3D%26url%3Dhttps%253A%2F%2Fwww.fanfiction.net%2Fs%2F13991724%2F2%2FFull-Circle>: HTTP status code is not handled or not allowed\n"
     ]
    },
    {
     "name": "stdout",
     "output_type": "stream",
     "text": [
      "\n",
      "https://proxy.scrapeops.io/v1/?api_key=&url=https%3A%2F%2Fwww.fanfiction.net%2Fs%2F14018502%2F1%2FEverything\n",
      "\n",
      "https://proxy.scrapeops.io/v1/?api_key=&url=https%3A%2F%2Fwww.fanfiction.net%2Fs%2F14009850%2F1%2FThe-Unexpected-Envelope-A-Christmas-Story\n"
     ]
    },
    {
     "name": "stderr",
     "output_type": "stream",
     "text": [
      "2024-12-04 10:39:36 [scrapy.core.engine] DEBUG: Crawled (200) <GET https://proxy.scrapeops.io/v1/?api_key=&url=https%3A%2F%2Fwww.fanfiction.net%2Fs%2F14018647%2F1%2F%25D0%2593%25D1%2580%25D0%25B0%25D0%25B2%25D0%25B8%25D1%2582%25D0%25B0%25D1%2586%25D0%25B8%25D0%25BE%25D0%25BD%25D0%25BD%25D1%258B%25D0%25B9-%25D1%2580%25D0%25B5%25D0%25B7%25D0%25BE%25D0%25BD%25D0%25B0%25D0%25BD%25D1%2581> (referer: https://steamdb.info/graph/)\n",
      "2024-12-04 10:39:36 [scrapy.downloadermiddlewares.retry] DEBUG: Retrying <GET https://proxy.scrapeops.io/v1/?api_key=&url=https%3A%2F%2Fwww.fanfiction.net%2Fs%2F14006619%2F1%2FRelax> (failed 1 times): 429 Unknown Status\n",
      "2024-12-04 10:39:36 [scrapy.spidermiddlewares.httperror] INFO: Ignoring response <400 https://proxy.scrapeops.io/v1/?api_key=&url=https%3A%2F%2Fproxy.scrapeops.io%2Fv1%2F%3Fapi_key%3D%26url%3Dhttps%253A%2F%2Fwww.fanfiction.net%2Fs%2F13935822%2F2%2FThe-Scientist>: HTTP status code is not handled or not allowed\n",
      "2024-12-04 10:39:36 [scrapy.core.engine] DEBUG: Crawled (400) <GET https://proxy.scrapeops.io/v1/?api_key=&url=https%3A%2F%2Fproxy.scrapeops.io%2Fv1%2F%3Fapi_key%3D%26url%3Dhttps%253A%2F%2Fwww.fanfiction.net%2Fs%2F14008994%2F2%2FUnder-the-Shape-of-Dessert> (referer: https://steamdb.info/graph/)\n",
      "2024-12-04 10:39:36 [scrapy.spidermiddlewares.httperror] INFO: Ignoring response <400 https://proxy.scrapeops.io/v1/?api_key=&url=https%3A%2F%2Fproxy.scrapeops.io%2Fv1%2F%3Fapi_key%3D%26url%3Dhttps%253A%2F%2Fwww.fanfiction.net%2Fs%2F14008994%2F2%2FUnder-the-Shape-of-Dessert>: HTTP status code is not handled or not allowed\n"
     ]
    },
    {
     "name": "stdout",
     "output_type": "stream",
     "text": [
      "\n"
     ]
    },
    {
     "name": "stderr",
     "output_type": "stream",
     "text": [
      "2024-12-04 10:39:37 [scrapy.core.engine] DEBUG: Crawled (200) <GET https://proxy.scrapeops.io/v1/?api_key=&url=https%3A%2F%2Fwww.fanfiction.net%2Fs%2F14020441%2F1%2FWhat-About-Us> (referer: https://steamdb.info/graph/)\n",
      "2024-12-04 10:39:37 [scrapy.core.engine] DEBUG: Crawled (200) <GET https://proxy.scrapeops.io/v1/?api_key=&url=https%3A%2F%2Fwww.fanfiction.net%2Fs%2F14021582%2F1%2FCiao> (referer: https://steamdb.info/graph/)\n",
      "2024-12-04 10:39:38 [scrapy.core.engine] DEBUG: Crawled (400) <GET https://proxy.scrapeops.io/v1/?api_key=&url=https%3A%2F%2Fproxy.scrapeops.io%2Fv1%2F%3Fapi_key%3D%26url%3Dhttps%253A%2F%2Fwww.fanfiction.net%2Fs%2F14009802%2F2%2FEmotional-Context> (referer: https://steamdb.info/graph/)\n",
      "2024-12-04 10:39:38 [scrapy.core.engine] DEBUG: Crawled (200) <GET https://proxy.scrapeops.io/v1/?api_key=&url=https%3A%2F%2Fwww.fanfiction.net%2Fs%2F11718191%2F1%2FBackground-Check> (referer: https://steamdb.info/graph/)\n",
      "2024-12-04 10:39:38 [scrapy.spidermiddlewares.httperror] INFO: Ignoring response <400 https://proxy.scrapeops.io/v1/?api_key=&url=https%3A%2F%2Fproxy.scrapeops.io%2Fv1%2F%3Fapi_key%3D%26url%3Dhttps%253A%2F%2Fwww.fanfiction.net%2Fs%2F14009802%2F2%2FEmotional-Context>: HTTP status code is not handled or not allowed\n",
      "2024-12-04 10:39:38 [scrapy.core.engine] DEBUG: Crawled (400) <GET https://proxy.scrapeops.io/v1/?api_key=&url=https%3A%2F%2Fproxy.scrapeops.io%2Fv1%2F%3Fapi_key%3D%26url%3Dhttps%253A%2F%2Fwww.fanfiction.net%2Fs%2F14018502%2F2%2FEverything> (referer: https://steamdb.info/graph/)\n",
      "2024-12-04 10:39:38 [scrapy.core.engine] DEBUG: Crawled (200) <GET https://proxy.scrapeops.io/v1/?api_key=&url=https%3A%2F%2Fwww.fanfiction.net%2Fs%2F14020911%2F1%2FThe-Call> (referer: https://steamdb.info/graph/)\n"
     ]
    },
    {
     "name": "stdout",
     "output_type": "stream",
     "text": [
      "\n",
      "https://proxy.scrapeops.io/v1/?api_key=&url=https%3A%2F%2Fwww.fanfiction.net%2Fs%2F14020441%2F1%2FWhat-About-Us\n",
      "\n",
      "\n",
      "https://proxy.scrapeops.io/v1/?api_key=&url=https%3A%2F%2Fwww.fanfiction.net%2Fs%2F11718191%2F1%2FBackground-Check\n"
     ]
    },
    {
     "name": "stderr",
     "output_type": "stream",
     "text": [
      "2024-12-04 10:39:38 [scrapy.core.engine] DEBUG: Crawled (400) <GET https://proxy.scrapeops.io/v1/?api_key=&url=https%3A%2F%2Fproxy.scrapeops.io%2Fv1%2F%3Fapi_key%3D%26url%3Dhttps%253A%2F%2Fwww.fanfiction.net%2Fs%2F14009850%2F2%2FThe-Unexpected-Envelope-A-Christmas-Story> (referer: https://steamdb.info/graph/)\n",
      "2024-12-04 10:39:38 [scrapy.spidermiddlewares.httperror] INFO: Ignoring response <400 https://proxy.scrapeops.io/v1/?api_key=&url=https%3A%2F%2Fproxy.scrapeops.io%2Fv1%2F%3Fapi_key%3D%26url%3Dhttps%253A%2F%2Fwww.fanfiction.net%2Fs%2F14018502%2F2%2FEverything>: HTTP status code is not handled or not allowed\n",
      "2024-12-04 10:39:38 [scrapy.spidermiddlewares.httperror] INFO: Ignoring response <400 https://proxy.scrapeops.io/v1/?api_key=&url=https%3A%2F%2Fproxy.scrapeops.io%2Fv1%2F%3Fapi_key%3D%26url%3Dhttps%253A%2F%2Fwww.fanfiction.net%2Fs%2F14009850%2F2%2FThe-Unexpected-Envelope-A-Christmas-Story>: HTTP status code is not handled or not allowed\n"
     ]
    },
    {
     "name": "stdout",
     "output_type": "stream",
     "text": [
      "\n",
      "https://proxy.scrapeops.io/v1/?api_key=&url=https%3A%2F%2Fwww.fanfiction.net%2Fs%2F14020911%2F1%2FThe-Call\n"
     ]
    },
    {
     "name": "stderr",
     "output_type": "stream",
     "text": [
      "2024-12-04 10:39:38 [scrapy.downloadermiddlewares.retry] DEBUG: Retrying <GET https://proxy.scrapeops.io/v1/?api_key=&url=https%3A%2F%2Fwww.fanfiction.net%2Fs%2F13584596%2F1%2FFamily-Ties> (failed 1 times): 429 Unknown Status\n",
      "2024-12-04 10:39:38 [scrapy.core.engine] DEBUG: Crawled (200) <GET https://proxy.scrapeops.io/v1/?api_key=&url=https%3A%2F%2Fwww.fanfiction.net%2Fs%2F14021975%2F1%2FThe-Door> (referer: https://steamdb.info/graph/)\n",
      "2024-12-04 10:39:39 [scrapy.core.engine] DEBUG: Crawled (200) <GET https://proxy.scrapeops.io/v1/?api_key=&url=https%3A%2F%2Fwww.fanfiction.net%2Fs%2F14020438%2F1%2FOut-in-the-Cold> (referer: https://steamdb.info/graph/)\n"
     ]
    },
    {
     "name": "stdout",
     "output_type": "stream",
     "text": [
      "\n",
      "https://proxy.scrapeops.io/v1/?api_key=&url=https%3A%2F%2Fwww.fanfiction.net%2Fs%2F14021975%2F1%2FThe-Door\n",
      "\n",
      "https://proxy.scrapeops.io/v1/?api_key=&url=https%3A%2F%2Fwww.fanfiction.net%2Fs%2F14020438%2F1%2FOut-in-the-Cold\n"
     ]
    },
    {
     "name": "stderr",
     "output_type": "stream",
     "text": [
      "2024-12-04 10:39:39 [scrapy.core.engine] DEBUG: Crawled (200) <GET https://proxy.scrapeops.io/v1/?api_key=&url=https%3A%2F%2Fwww.fanfiction.net%2Fs%2F14022798%2F1%2FIt-s-always-been-true> (referer: https://steamdb.info/graph/)\n"
     ]
    },
    {
     "name": "stdout",
     "output_type": "stream",
     "text": [
      "\n",
      "https://proxy.scrapeops.io/v1/?api_key=&url=https%3A%2F%2Fwww.fanfiction.net%2Fs%2F14022798%2F1%2FIt-s-always-been-true\n"
     ]
    },
    {
     "name": "stderr",
     "output_type": "stream",
     "text": [
      "2024-12-04 10:39:40 [scrapy.core.engine] DEBUG: Crawled (200) <GET https://proxy.scrapeops.io/v1/?api_key=&url=https%3A%2F%2Fwww.fanfiction.net%2Fs%2F14022454%2F1%2FNot-only-Twelfth-Night> (referer: https://steamdb.info/graph/)\n",
      "2024-12-04 10:39:40 [scrapy.core.engine] DEBUG: Crawled (400) <GET https://proxy.scrapeops.io/v1/?api_key=&url=https%3A%2F%2Fproxy.scrapeops.io%2Fv1%2F%3Fapi_key%3D%26url%3Dhttps%253A%2F%2Fwww.fanfiction.net%2Fs%2F14020441%2F2%2FWhat-About-Us> (referer: https://steamdb.info/graph/)\n",
      "2024-12-04 10:39:40 [scrapy.core.engine] DEBUG: Crawled (200) <GET https://proxy.scrapeops.io/v1/?api_key=&url=https%3A%2F%2Fwww.fanfiction.net%2Fs%2F14002098%2F1%2F24-BBC-Sherlock-Almost-Christmas> (referer: https://steamdb.info/graph/)\n",
      "2024-12-04 10:39:40 [scrapy.spidermiddlewares.httperror] INFO: Ignoring response <400 https://proxy.scrapeops.io/v1/?api_key=&url=https%3A%2F%2Fproxy.scrapeops.io%2Fv1%2F%3Fapi_key%3D%26url%3Dhttps%253A%2F%2Fwww.fanfiction.net%2Fs%2F14020441%2F2%2FWhat-About-Us>: HTTP status code is not handled or not allowed\n",
      "2024-12-04 10:39:40 [scrapy.core.engine] DEBUG: Crawled (400) <GET https://proxy.scrapeops.io/v1/?api_key=&url=https%3A%2F%2Fproxy.scrapeops.io%2Fv1%2F%3Fapi_key%3D%26url%3Dhttps%253A%2F%2Fwww.fanfiction.net%2Fs%2F11718191%2F2%2FBackground-Check> (referer: https://steamdb.info/graph/)\n"
     ]
    },
    {
     "name": "stdout",
     "output_type": "stream",
     "text": [
      "\n",
      "https://proxy.scrapeops.io/v1/?api_key=&url=https%3A%2F%2Fwww.fanfiction.net%2Fs%2F14022454%2F1%2FNot-only-Twelfth-Night\n",
      "\n",
      "https://proxy.scrapeops.io/v1/?api_key=&url=https%3A%2F%2Fwww.fanfiction.net%2Fs%2F14002098%2F1%2F24-BBC-Sherlock-Almost-Christmas\n"
     ]
    },
    {
     "name": "stderr",
     "output_type": "stream",
     "text": [
      "2024-12-04 10:39:40 [scrapy.spidermiddlewares.httperror] INFO: Ignoring response <400 https://proxy.scrapeops.io/v1/?api_key=&url=https%3A%2F%2Fproxy.scrapeops.io%2Fv1%2F%3Fapi_key%3D%26url%3Dhttps%253A%2F%2Fwww.fanfiction.net%2Fs%2F11718191%2F2%2FBackground-Check>: HTTP status code is not handled or not allowed\n",
      "2024-12-04 10:39:40 [scrapy.core.engine] DEBUG: Crawled (200) <GET https://proxy.scrapeops.io/v1/?api_key=&url=https%3A%2F%2Fwww.fanfiction.net%2Fs%2F13033154%2F1%2FComatose> (referer: https://steamdb.info/graph/)\n",
      "2024-12-04 10:39:40 [scrapy.core.engine] DEBUG: Crawled (400) <GET https://proxy.scrapeops.io/v1/?api_key=&url=https%3A%2F%2Fproxy.scrapeops.io%2Fv1%2F%3Fapi_key%3D%26url%3Dhttps%253A%2F%2Fwww.fanfiction.net%2Fs%2F14020911%2F2%2FThe-Call> (referer: https://steamdb.info/graph/)\n",
      "2024-12-04 10:39:40 [scrapy.core.engine] DEBUG: Crawled (200) <GET https://proxy.scrapeops.io/v1/?api_key=&url=https%3A%2F%2Fwww.fanfiction.net%2Fs%2F14026436%2F1%2FI-Can-t-Make-You-Love-Me> (referer: https://steamdb.info/graph/)\n",
      "2024-12-04 10:39:40 [scrapy.spidermiddlewares.httperror] INFO: Ignoring response <400 https://proxy.scrapeops.io/v1/?api_key=&url=https%3A%2F%2Fproxy.scrapeops.io%2Fv1%2F%3Fapi_key%3D%26url%3Dhttps%253A%2F%2Fwww.fanfiction.net%2Fs%2F14020911%2F2%2FThe-Call>: HTTP status code is not handled or not allowed\n",
      "2024-12-04 10:39:40 [scrapy.core.engine] DEBUG: Crawled (400) <GET https://proxy.scrapeops.io/v1/?api_key=&url=https%3A%2F%2Fproxy.scrapeops.io%2Fv1%2F%3Fapi_key%3D%26url%3Dhttps%253A%2F%2Fwww.fanfiction.net%2Fs%2F14021975%2F2%2FThe-Door> (referer: https://steamdb.info/graph/)\n"
     ]
    },
    {
     "name": "stdout",
     "output_type": "stream",
     "text": [
      "\n",
      "https://proxy.scrapeops.io/v1/?api_key=&url=https%3A%2F%2Fwww.fanfiction.net%2Fs%2F13033154%2F1%2FComatose\n",
      "\n",
      "https://proxy.scrapeops.io/v1/?api_key=&url=https%3A%2F%2Fwww.fanfiction.net%2Fs%2F14026436%2F1%2FI-Can-t-Make-You-Love-Me\n"
     ]
    },
    {
     "name": "stderr",
     "output_type": "stream",
     "text": [
      "2024-12-04 10:39:40 [scrapy.core.engine] DEBUG: Crawled (400) <GET https://proxy.scrapeops.io/v1/?api_key=&url=https%3A%2F%2Fproxy.scrapeops.io%2Fv1%2F%3Fapi_key%3D%26url%3Dhttps%253A%2F%2Fwww.fanfiction.net%2Fs%2F14020438%2F2%2FOut-in-the-Cold> (referer: https://steamdb.info/graph/)\n",
      "2024-12-04 10:39:40 [scrapy.spidermiddlewares.httperror] INFO: Ignoring response <400 https://proxy.scrapeops.io/v1/?api_key=&url=https%3A%2F%2Fproxy.scrapeops.io%2Fv1%2F%3Fapi_key%3D%26url%3Dhttps%253A%2F%2Fwww.fanfiction.net%2Fs%2F14021975%2F2%2FThe-Door>: HTTP status code is not handled or not allowed\n",
      "2024-12-04 10:39:41 [scrapy.core.engine] DEBUG: Crawled (200) <GET https://proxy.scrapeops.io/v1/?api_key=&url=https%3A%2F%2Fwww.fanfiction.net%2Fs%2F13875943%2F1%2FMary-Mia> (referer: https://steamdb.info/graph/)\n",
      "2024-12-04 10:39:41 [scrapy.core.engine] DEBUG: Crawled (400) <GET https://proxy.scrapeops.io/v1/?api_key=&url=https%3A%2F%2Fproxy.scrapeops.io%2Fv1%2F%3Fapi_key%3D%26url%3Dhttps%253A%2F%2Fwww.fanfiction.net%2Fs%2F14022798%2F2%2FIt-s-always-been-true> (referer: https://steamdb.info/graph/)\n",
      "2024-12-04 10:39:41 [scrapy.spidermiddlewares.httperror] INFO: Ignoring response <400 https://proxy.scrapeops.io/v1/?api_key=&url=https%3A%2F%2Fproxy.scrapeops.io%2Fv1%2F%3Fapi_key%3D%26url%3Dhttps%253A%2F%2Fwww.fanfiction.net%2Fs%2F14020438%2F2%2FOut-in-the-Cold>: HTTP status code is not handled or not allowed\n",
      "2024-12-04 10:39:41 [scrapy.core.engine] DEBUG: Crawled (400) <GET https://proxy.scrapeops.io/v1/?api_key=&url=https%3A%2F%2Fproxy.scrapeops.io%2Fv1%2F%3Fapi_key%3D%26url%3Dhttps%253A%2F%2Fwww.fanfiction.net%2Fs%2F14022454%2F2%2FNot-only-Twelfth-Night> (referer: https://steamdb.info/graph/)\n",
      "2024-12-04 10:39:41 [scrapy.spidermiddlewares.httperror] INFO: Ignoring response <400 https://proxy.scrapeops.io/v1/?api_key=&url=https%3A%2F%2Fproxy.scrapeops.io%2Fv1%2F%3Fapi_key%3D%26url%3Dhttps%253A%2F%2Fwww.fanfiction.net%2Fs%2F14022798%2F2%2FIt-s-always-been-true>: HTTP status code is not handled or not allowed\n",
      "2024-12-04 10:39:41 [scrapy.spidermiddlewares.httperror] INFO: Ignoring response <400 https://proxy.scrapeops.io/v1/?api_key=&url=https%3A%2F%2Fproxy.scrapeops.io%2Fv1%2F%3Fapi_key%3D%26url%3Dhttps%253A%2F%2Fwww.fanfiction.net%2Fs%2F14022454%2F2%2FNot-only-Twelfth-Night>: HTTP status code is not handled or not allowed\n"
     ]
    },
    {
     "name": "stdout",
     "output_type": "stream",
     "text": [
      "\n",
      "https://proxy.scrapeops.io/v1/?api_key=&url=https%3A%2F%2Fwww.fanfiction.net%2Fs%2F13875943%2F1%2FMary-Mia\n"
     ]
    },
    {
     "name": "stderr",
     "output_type": "stream",
     "text": [
      "2024-12-04 10:39:41 [scrapy.core.engine] DEBUG: Crawled (200) <GET https://proxy.scrapeops.io/v1/?api_key=&url=https%3A%2F%2Fwww.fanfiction.net%2Fs%2F14029701%2F1%2FThat-s-The-Tea> (referer: https://steamdb.info/graph/)\n",
      "2024-12-04 10:39:41 [scrapy.core.engine] DEBUG: Crawled (400) <GET https://proxy.scrapeops.io/v1/?api_key=&url=https%3A%2F%2Fproxy.scrapeops.io%2Fv1%2F%3Fapi_key%3D%26url%3Dhttps%253A%2F%2Fwww.fanfiction.net%2Fs%2F14002098%2F2%2F24-BBC-Sherlock-Almost-Christmas> (referer: https://steamdb.info/graph/)\n",
      "2024-12-04 10:39:41 [scrapy.spidermiddlewares.httperror] INFO: Ignoring response <400 https://proxy.scrapeops.io/v1/?api_key=&url=https%3A%2F%2Fproxy.scrapeops.io%2Fv1%2F%3Fapi_key%3D%26url%3Dhttps%253A%2F%2Fwww.fanfiction.net%2Fs%2F14002098%2F2%2F24-BBC-Sherlock-Almost-Christmas>: HTTP status code is not handled or not allowed\n",
      "2024-12-04 10:39:41 [scrapy.downloadermiddlewares.retry] DEBUG: Retrying <GET https://proxy.scrapeops.io/v1/?api_key=&url=https%3A%2F%2Fwww.fanfiction.net%2Fs%2F14022361%2F1%2FRussian-Roulette> (failed 1 times): 429 Unknown Status\n",
      "2024-12-04 10:39:41 [scrapy.core.engine] DEBUG: Crawled (400) <GET https://proxy.scrapeops.io/v1/?api_key=&url=https%3A%2F%2Fproxy.scrapeops.io%2Fv1%2F%3Fapi_key%3D%26url%3Dhttps%253A%2F%2Fwww.fanfiction.net%2Fs%2F13033154%2F2%2FComatose> (referer: https://steamdb.info/graph/)\n"
     ]
    },
    {
     "name": "stdout",
     "output_type": "stream",
     "text": [
      "\n",
      "https://proxy.scrapeops.io/v1/?api_key=&url=https%3A%2F%2Fwww.fanfiction.net%2Fs%2F14029701%2F1%2FThat-s-The-Tea\n"
     ]
    },
    {
     "name": "stderr",
     "output_type": "stream",
     "text": [
      "2024-12-04 10:39:41 [scrapy.core.engine] DEBUG: Crawled (200) <GET https://proxy.scrapeops.io/v1/?api_key=&url=https%3A%2F%2Fwww.fanfiction.net%2Fs%2F14029977%2F1%2FPink-String-And-Sealing-Wax> (referer: https://steamdb.info/graph/)\n",
      "2024-12-04 10:39:42 [scrapy.spidermiddlewares.httperror] INFO: Ignoring response <400 https://proxy.scrapeops.io/v1/?api_key=&url=https%3A%2F%2Fproxy.scrapeops.io%2Fv1%2F%3Fapi_key%3D%26url%3Dhttps%253A%2F%2Fwww.fanfiction.net%2Fs%2F13033154%2F2%2FComatose>: HTTP status code is not handled or not allowed\n",
      "2024-12-04 10:39:42 [scrapy.core.engine] DEBUG: Crawled (400) <GET https://proxy.scrapeops.io/v1/?api_key=&url=https%3A%2F%2Fproxy.scrapeops.io%2Fv1%2F%3Fapi_key%3D%26url%3Dhttps%253A%2F%2Fwww.fanfiction.net%2Fs%2F14026436%2F2%2FI-Can-t-Make-You-Love-Me> (referer: https://steamdb.info/graph/)\n",
      "2024-12-04 10:39:42 [scrapy.spidermiddlewares.httperror] INFO: Ignoring response <400 https://proxy.scrapeops.io/v1/?api_key=&url=https%3A%2F%2Fproxy.scrapeops.io%2Fv1%2F%3Fapi_key%3D%26url%3Dhttps%253A%2F%2Fwww.fanfiction.net%2Fs%2F14026436%2F2%2FI-Can-t-Make-You-Love-Me>: HTTP status code is not handled or not allowed\n"
     ]
    },
    {
     "name": "stdout",
     "output_type": "stream",
     "text": [
      "\n",
      "https://proxy.scrapeops.io/v1/?api_key=&url=https%3A%2F%2Fwww.fanfiction.net%2Fs%2F14029977%2F1%2FPink-String-And-Sealing-Wax\n"
     ]
    },
    {
     "name": "stderr",
     "output_type": "stream",
     "text": [
      "2024-12-04 10:39:42 [scrapy.core.engine] DEBUG: Crawled (200) <GET https://proxy.scrapeops.io/v1/?api_key=&url=https%3A%2F%2Fwww.fanfiction.net%2Fs%2F14032162%2F1%2FConflagration> (referer: https://steamdb.info/graph/)\n",
      "2024-12-04 10:39:42 [scrapy.core.engine] DEBUG: Crawled (200) <GET https://proxy.scrapeops.io/v1/?api_key=&url=https%3A%2F%2Fwww.fanfiction.net%2Fs%2F14030968%2F1%2FLate> (referer: https://steamdb.info/graph/)\n",
      "2024-12-04 10:39:42 [scrapy.core.engine] DEBUG: Crawled (400) <GET https://proxy.scrapeops.io/v1/?api_key=&url=https%3A%2F%2Fproxy.scrapeops.io%2Fv1%2F%3Fapi_key%3D%26url%3Dhttps%253A%2F%2Fwww.fanfiction.net%2Fs%2F13875943%2F2%2FMary-Mia> (referer: https://steamdb.info/graph/)\n",
      "2024-12-04 10:39:42 [scrapy.spidermiddlewares.httperror] INFO: Ignoring response <400 https://proxy.scrapeops.io/v1/?api_key=&url=https%3A%2F%2Fproxy.scrapeops.io%2Fv1%2F%3Fapi_key%3D%26url%3Dhttps%253A%2F%2Fwww.fanfiction.net%2Fs%2F13875943%2F2%2FMary-Mia>: HTTP status code is not handled or not allowed\n"
     ]
    },
    {
     "name": "stdout",
     "output_type": "stream",
     "text": [
      "\n",
      "https://proxy.scrapeops.io/v1/?api_key=&url=https%3A%2F%2Fwww.fanfiction.net%2Fs%2F14032162%2F1%2FConflagration\n",
      "\n",
      "https://proxy.scrapeops.io/v1/?api_key=&url=https%3A%2F%2Fwww.fanfiction.net%2Fs%2F14030968%2F1%2FLate\n"
     ]
    },
    {
     "name": "stderr",
     "output_type": "stream",
     "text": [
      "2024-12-04 10:39:42 [scrapy.core.engine] DEBUG: Crawled (200) <GET https://proxy.scrapeops.io/v1/?api_key=&url=https%3A%2F%2Fwww.fanfiction.net%2Fs%2F13980071%2F1%2FThe-Return> (referer: https://steamdb.info/graph/)\n",
      "2024-12-04 10:39:43 [scrapy.core.engine] DEBUG: Crawled (200) <GET https://proxy.scrapeops.io/v1/?api_key=&url=https%3A%2F%2Fwww.fanfiction.net%2Fs%2F14032517%2F1%2FTell-Me> (referer: https://steamdb.info/graph/)\n",
      "2024-12-04 10:39:43 [scrapy.core.engine] DEBUG: Crawled (400) <GET https://proxy.scrapeops.io/v1/?api_key=&url=https%3A%2F%2Fproxy.scrapeops.io%2Fv1%2F%3Fapi_key%3D%26url%3Dhttps%253A%2F%2Fwww.fanfiction.net%2Fs%2F14029701%2F2%2FThat-s-The-Tea> (referer: https://steamdb.info/graph/)\n",
      "2024-12-04 10:39:43 [scrapy.spidermiddlewares.httperror] INFO: Ignoring response <400 https://proxy.scrapeops.io/v1/?api_key=&url=https%3A%2F%2Fproxy.scrapeops.io%2Fv1%2F%3Fapi_key%3D%26url%3Dhttps%253A%2F%2Fwww.fanfiction.net%2Fs%2F14029701%2F2%2FThat-s-The-Tea>: HTTP status code is not handled or not allowed\n"
     ]
    },
    {
     "name": "stdout",
     "output_type": "stream",
     "text": [
      "\n",
      "https://proxy.scrapeops.io/v1/?api_key=&url=https%3A%2F%2Fwww.fanfiction.net%2Fs%2F13980071%2F1%2FThe-Return\n",
      "\n",
      "https://proxy.scrapeops.io/v1/?api_key=&url=https%3A%2F%2Fwww.fanfiction.net%2Fs%2F14032517%2F1%2FTell-Me\n"
     ]
    },
    {
     "name": "stderr",
     "output_type": "stream",
     "text": [
      "2024-12-04 10:39:43 [scrapy.downloadermiddlewares.retry] DEBUG: Retrying <GET https://proxy.scrapeops.io/v1/?api_key=&url=https%3A%2F%2Fwww.fanfiction.net%2Fs%2F14025519%2F1%2FTypical-Sherlock> (failed 1 times): 429 Unknown Status\n",
      "2024-12-04 10:39:43 [scrapy.core.engine] DEBUG: Crawled (200) <GET https://proxy.scrapeops.io/v1/?api_key=&url=https%3A%2F%2Fwww.fanfiction.net%2Fs%2F14033742%2F1%2FFinally-Bloody-Optional> (referer: https://steamdb.info/graph/)\n"
     ]
    },
    {
     "name": "stdout",
     "output_type": "stream",
     "text": [
      "\n",
      "https://proxy.scrapeops.io/v1/?api_key=&url=https%3A%2F%2Fwww.fanfiction.net%2Fs%2F14033742%2F1%2FFinally-Bloody-Optional\n"
     ]
    },
    {
     "name": "stderr",
     "output_type": "stream",
     "text": [
      "2024-12-04 10:39:44 [scrapy.core.engine] DEBUG: Crawled (200) <GET https://proxy.scrapeops.io/v1/?api_key=&url=https%3A%2F%2Fwww.fanfiction.net%2Fs%2F14035625%2F1%2FAristotle-and-the-Art-of-Friendship> (referer: https://steamdb.info/graph/)\n",
      "2024-12-04 10:39:44 [scrapy.core.engine] DEBUG: Crawled (400) <GET https://proxy.scrapeops.io/v1/?api_key=&url=https%3A%2F%2Fproxy.scrapeops.io%2Fv1%2F%3Fapi_key%3D%26url%3Dhttps%253A%2F%2Fwww.fanfiction.net%2Fs%2F14029977%2F2%2FPink-String-And-Sealing-Wax> (referer: https://steamdb.info/graph/)\n",
      "2024-12-04 10:39:44 [scrapy.core.engine] DEBUG: Crawled (400) <GET https://proxy.scrapeops.io/v1/?api_key=&url=https%3A%2F%2Fproxy.scrapeops.io%2Fv1%2F%3Fapi_key%3D%26url%3Dhttps%253A%2F%2Fwww.fanfiction.net%2Fs%2F14032162%2F2%2FConflagration> (referer: https://steamdb.info/graph/)\n",
      "2024-12-04 10:39:44 [scrapy.spidermiddlewares.httperror] INFO: Ignoring response <400 https://proxy.scrapeops.io/v1/?api_key=&url=https%3A%2F%2Fproxy.scrapeops.io%2Fv1%2F%3Fapi_key%3D%26url%3Dhttps%253A%2F%2Fwww.fanfiction.net%2Fs%2F14029977%2F2%2FPink-String-And-Sealing-Wax>: HTTP status code is not handled or not allowed\n",
      "2024-12-04 10:39:44 [scrapy.core.engine] DEBUG: Crawled (200) <GET https://proxy.scrapeops.io/v1/?api_key=&url=https%3A%2F%2Fwww.fanfiction.net%2Fs%2F14034847%2F1%2FYou-Ruin-Me> (referer: https://steamdb.info/graph/)\n",
      "2024-12-04 10:39:45 [scrapy.spidermiddlewares.httperror] INFO: Ignoring response <400 https://proxy.scrapeops.io/v1/?api_key=&url=https%3A%2F%2Fproxy.scrapeops.io%2Fv1%2F%3Fapi_key%3D%26url%3Dhttps%253A%2F%2Fwww.fanfiction.net%2Fs%2F14032162%2F2%2FConflagration>: HTTP status code is not handled or not allowed\n"
     ]
    },
    {
     "name": "stdout",
     "output_type": "stream",
     "text": [
      "\n",
      "https://proxy.scrapeops.io/v1/?api_key=&url=https%3A%2F%2Fwww.fanfiction.net%2Fs%2F14035625%2F1%2FAristotle-and-the-Art-of-Friendship\n"
     ]
    },
    {
     "name": "stderr",
     "output_type": "stream",
     "text": [
      "2024-12-04 10:39:45 [scrapy.core.engine] DEBUG: Crawled (400) <GET https://proxy.scrapeops.io/v1/?api_key=&url=https%3A%2F%2Fproxy.scrapeops.io%2Fv1%2F%3Fapi_key%3D%26url%3Dhttps%253A%2F%2Fwww.fanfiction.net%2Fs%2F14030968%2F2%2FLate> (referer: https://steamdb.info/graph/)\n",
      "2024-12-04 10:39:45 [scrapy.spidermiddlewares.httperror] INFO: Ignoring response <400 https://proxy.scrapeops.io/v1/?api_key=&url=https%3A%2F%2Fproxy.scrapeops.io%2Fv1%2F%3Fapi_key%3D%26url%3Dhttps%253A%2F%2Fwww.fanfiction.net%2Fs%2F14030968%2F2%2FLate>: HTTP status code is not handled or not allowed\n"
     ]
    },
    {
     "name": "stdout",
     "output_type": "stream",
     "text": [
      "\n",
      "https://proxy.scrapeops.io/v1/?api_key=&url=https%3A%2F%2Fwww.fanfiction.net%2Fs%2F14034847%2F1%2FYou-Ruin-Me\n"
     ]
    },
    {
     "name": "stderr",
     "output_type": "stream",
     "text": [
      "2024-12-04 10:39:45 [scrapy.core.engine] DEBUG: Crawled (200) <GET https://proxy.scrapeops.io/v1/?api_key=&url=https%3A%2F%2Fwww.fanfiction.net%2Fs%2F14036857%2F1%2FEven-the-dead-knew> (referer: https://steamdb.info/graph/)\n",
      "2024-12-04 10:39:45 [scrapy.core.engine] DEBUG: Crawled (400) <GET https://proxy.scrapeops.io/v1/?api_key=&url=https%3A%2F%2Fproxy.scrapeops.io%2Fv1%2F%3Fapi_key%3D%26url%3Dhttps%253A%2F%2Fwww.fanfiction.net%2Fs%2F13980071%2F2%2FThe-Return> (referer: https://steamdb.info/graph/)\n",
      "2024-12-04 10:39:45 [scrapy.core.engine] DEBUG: Crawled (400) <GET https://proxy.scrapeops.io/v1/?api_key=&url=https%3A%2F%2Fproxy.scrapeops.io%2Fv1%2F%3Fapi_key%3D%26url%3Dhttps%253A%2F%2Fwww.fanfiction.net%2Fs%2F14032517%2F2%2FTell-Me> (referer: https://steamdb.info/graph/)\n",
      "2024-12-04 10:39:45 [scrapy.spidermiddlewares.httperror] INFO: Ignoring response <400 https://proxy.scrapeops.io/v1/?api_key=&url=https%3A%2F%2Fproxy.scrapeops.io%2Fv1%2F%3Fapi_key%3D%26url%3Dhttps%253A%2F%2Fwww.fanfiction.net%2Fs%2F13980071%2F2%2FThe-Return>: HTTP status code is not handled or not allowed\n",
      "2024-12-04 10:39:45 [scrapy.spidermiddlewares.httperror] INFO: Ignoring response <400 https://proxy.scrapeops.io/v1/?api_key=&url=https%3A%2F%2Fproxy.scrapeops.io%2Fv1%2F%3Fapi_key%3D%26url%3Dhttps%253A%2F%2Fwww.fanfiction.net%2Fs%2F14032517%2F2%2FTell-Me>: HTTP status code is not handled or not allowed\n"
     ]
    },
    {
     "name": "stdout",
     "output_type": "stream",
     "text": [
      "\n",
      "https://proxy.scrapeops.io/v1/?api_key=&url=https%3A%2F%2Fwww.fanfiction.net%2Fs%2F14036857%2F1%2FEven-the-dead-knew\n"
     ]
    },
    {
     "name": "stderr",
     "output_type": "stream",
     "text": [
      "2024-12-04 10:39:45 [scrapy.core.engine] DEBUG: Crawled (200) <GET https://proxy.scrapeops.io/v1/?api_key=&url=https%3A%2F%2Fwww.fanfiction.net%2Fs%2F13735849%2F1%2FHow-Worlds-Collide> (referer: https://steamdb.info/graph/)\n",
      "2024-12-04 10:39:45 [scrapy.core.engine] DEBUG: Crawled (400) <GET https://proxy.scrapeops.io/v1/?api_key=&url=https%3A%2F%2Fproxy.scrapeops.io%2Fv1%2F%3Fapi_key%3D%26url%3Dhttps%253A%2F%2Fwww.fanfiction.net%2Fs%2F14033742%2F2%2FFinally-Bloody-Optional> (referer: https://steamdb.info/graph/)\n",
      "2024-12-04 10:39:45 [scrapy.spidermiddlewares.httperror] INFO: Ignoring response <400 https://proxy.scrapeops.io/v1/?api_key=&url=https%3A%2F%2Fproxy.scrapeops.io%2Fv1%2F%3Fapi_key%3D%26url%3Dhttps%253A%2F%2Fwww.fanfiction.net%2Fs%2F14033742%2F2%2FFinally-Bloody-Optional>: HTTP status code is not handled or not allowed\n"
     ]
    },
    {
     "name": "stdout",
     "output_type": "stream",
     "text": [
      "\n",
      "https://proxy.scrapeops.io/v1/?api_key=&url=https%3A%2F%2Fwww.fanfiction.net%2Fs%2F13735849%2F1%2FHow-Worlds-Collide\n"
     ]
    },
    {
     "name": "stderr",
     "output_type": "stream",
     "text": [
      "2024-12-04 10:39:46 [scrapy.core.engine] DEBUG: Crawled (200) <GET https://proxy.scrapeops.io/v1/?api_key=&url=https%3A%2F%2Fwww.fanfiction.net%2Fs%2F14035671%2F1%2FA-Word-For-It> (referer: https://steamdb.info/graph/)\n",
      "2024-12-04 10:39:46 [scrapy.core.engine] DEBUG: Crawled (400) <GET https://proxy.scrapeops.io/v1/?api_key=&url=https%3A%2F%2Fproxy.scrapeops.io%2Fv1%2F%3Fapi_key%3D%26url%3Dhttps%253A%2F%2Fwww.fanfiction.net%2Fs%2F14035625%2F2%2FAristotle-and-the-Art-of-Friendship> (referer: https://steamdb.info/graph/)\n",
      "2024-12-04 10:39:46 [scrapy.core.engine] DEBUG: Crawled (200) <GET https://proxy.scrapeops.io/v1/?api_key=&url=https%3A%2F%2Fwww.fanfiction.net%2Fs%2F14035898%2F1%2FExtraordinary> (referer: https://steamdb.info/graph/)\n",
      "2024-12-04 10:39:46 [scrapy.spidermiddlewares.httperror] INFO: Ignoring response <400 https://proxy.scrapeops.io/v1/?api_key=&url=https%3A%2F%2Fproxy.scrapeops.io%2Fv1%2F%3Fapi_key%3D%26url%3Dhttps%253A%2F%2Fwww.fanfiction.net%2Fs%2F14035625%2F2%2FAristotle-and-the-Art-of-Friendship>: HTTP status code is not handled or not allowed\n",
      "2024-12-04 10:39:46 [scrapy.core.engine] DEBUG: Crawled (200) <GET https://proxy.scrapeops.io/v1/?api_key=&url=https%3A%2F%2Fwww.fanfiction.net%2Fs%2F14037299%2F1%2FOf-Burnt-Jumpers-and-Caesium-137> (referer: https://steamdb.info/graph/)\n"
     ]
    },
    {
     "name": "stdout",
     "output_type": "stream",
     "text": [
      "\n",
      "https://proxy.scrapeops.io/v1/?api_key=&url=https%3A%2F%2Fwww.fanfiction.net%2Fs%2F14035671%2F1%2FA-Word-For-It\n",
      "\n",
      "https://proxy.scrapeops.io/v1/?api_key=&url=https%3A%2F%2Fwww.fanfiction.net%2Fs%2F14035898%2F1%2FExtraordinary\n"
     ]
    },
    {
     "name": "stderr",
     "output_type": "stream",
     "text": [
      "2024-12-04 10:39:46 [scrapy.core.engine] DEBUG: Crawled (400) <GET https://proxy.scrapeops.io/v1/?api_key=&url=https%3A%2F%2Fproxy.scrapeops.io%2Fv1%2F%3Fapi_key%3D%26url%3Dhttps%253A%2F%2Fwww.fanfiction.net%2Fs%2F14034847%2F2%2FYou-Ruin-Me> (referer: https://steamdb.info/graph/)\n",
      "2024-12-04 10:39:46 [scrapy.spidermiddlewares.httperror] INFO: Ignoring response <400 https://proxy.scrapeops.io/v1/?api_key=&url=https%3A%2F%2Fproxy.scrapeops.io%2Fv1%2F%3Fapi_key%3D%26url%3Dhttps%253A%2F%2Fwww.fanfiction.net%2Fs%2F14034847%2F2%2FYou-Ruin-Me>: HTTP status code is not handled or not allowed\n"
     ]
    },
    {
     "name": "stdout",
     "output_type": "stream",
     "text": [
      "\n",
      "https://proxy.scrapeops.io/v1/?api_key=&url=https%3A%2F%2Fwww.fanfiction.net%2Fs%2F14037299%2F1%2FOf-Burnt-Jumpers-and-Caesium-137\n"
     ]
    },
    {
     "name": "stderr",
     "output_type": "stream",
     "text": [
      "2024-12-04 10:39:47 [scrapy.core.engine] DEBUG: Crawled (200) <GET https://proxy.scrapeops.io/v1/?api_key=&url=https%3A%2F%2Fwww.fanfiction.net%2Fs%2F14000583%2F1%2FGetting-The-Message> (referer: https://steamdb.info/graph/)\n",
      "2024-12-04 10:39:47 [scrapy.downloadermiddlewares.retry] DEBUG: Retrying <GET https://proxy.scrapeops.io/v1/?api_key=&url=https%3A%2F%2Fwww.fanfiction.net%2Fs%2F14034254%2F1%2FGrandmaster> (failed 1 times): 429 Unknown Status\n",
      "2024-12-04 10:39:47 [scrapy.core.engine] DEBUG: Crawled (400) <GET https://proxy.scrapeops.io/v1/?api_key=&url=https%3A%2F%2Fproxy.scrapeops.io%2Fv1%2F%3Fapi_key%3D%26url%3Dhttps%253A%2F%2Fwww.fanfiction.net%2Fs%2F14036857%2F2%2FEven-the-dead-knew> (referer: https://steamdb.info/graph/)\n",
      "2024-12-04 10:39:47 [scrapy.spidermiddlewares.httperror] INFO: Ignoring response <400 https://proxy.scrapeops.io/v1/?api_key=&url=https%3A%2F%2Fproxy.scrapeops.io%2Fv1%2F%3Fapi_key%3D%26url%3Dhttps%253A%2F%2Fwww.fanfiction.net%2Fs%2F14036857%2F2%2FEven-the-dead-knew>: HTTP status code is not handled or not allowed\n"
     ]
    },
    {
     "name": "stdout",
     "output_type": "stream",
     "text": [
      "\n",
      "https://proxy.scrapeops.io/v1/?api_key=&url=https%3A%2F%2Fwww.fanfiction.net%2Fs%2F14000583%2F1%2FGetting-The-Message\n"
     ]
    },
    {
     "name": "stderr",
     "output_type": "stream",
     "text": [
      "2024-12-04 10:39:48 [scrapy.core.engine] DEBUG: Crawled (200) <GET https://proxy.scrapeops.io/v1/?api_key=&url=https%3A%2F%2Fwww.fanfiction.net%2Fs%2F13483744%2F1%2FThe-Adventures-of-Rosie-Watson-and-Alex-Lestrade-Holmes> (referer: https://steamdb.info/graph/)\n",
      "2024-12-04 10:39:48 [scrapy.core.engine] DEBUG: Crawled (400) <GET https://proxy.scrapeops.io/v1/?api_key=&url=https%3A%2F%2Fproxy.scrapeops.io%2Fv1%2F%3Fapi_key%3D%26url%3Dhttps%253A%2F%2Fwww.fanfiction.net%2Fs%2F13735849%2F2%2FHow-Worlds-Collide> (referer: https://steamdb.info/graph/)\n",
      "2024-12-04 10:39:48 [scrapy.spidermiddlewares.httperror] INFO: Ignoring response <400 https://proxy.scrapeops.io/v1/?api_key=&url=https%3A%2F%2Fproxy.scrapeops.io%2Fv1%2F%3Fapi_key%3D%26url%3Dhttps%253A%2F%2Fwww.fanfiction.net%2Fs%2F13735849%2F2%2FHow-Worlds-Collide>: HTTP status code is not handled or not allowed\n"
     ]
    },
    {
     "name": "stdout",
     "output_type": "stream",
     "text": [
      "\n",
      "https://proxy.scrapeops.io/v1/?api_key=&url=https%3A%2F%2Fwww.fanfiction.net%2Fs%2F13483744%2F1%2FThe-Adventures-of-Rosie-Watson-and-Alex-Lestrade-Holmes\n"
     ]
    },
    {
     "name": "stderr",
     "output_type": "stream",
     "text": [
      "2024-12-04 10:39:48 [scrapy.core.engine] DEBUG: Crawled (200) <GET https://proxy.scrapeops.io/v1/?api_key=&url=https%3A%2F%2Fwww.fanfiction.net%2Fs%2F14045021%2F1%2Fauld-lang-syne> (referer: https://steamdb.info/graph/)\n",
      "2024-12-04 10:39:48 [scrapy.core.engine] DEBUG: Crawled (400) <GET https://proxy.scrapeops.io/v1/?api_key=&url=https%3A%2F%2Fproxy.scrapeops.io%2Fv1%2F%3Fapi_key%3D%26url%3Dhttps%253A%2F%2Fwww.fanfiction.net%2Fs%2F14035671%2F2%2FA-Word-For-It> (referer: https://steamdb.info/graph/)\n",
      "2024-12-04 10:39:49 [scrapy.core.engine] DEBUG: Crawled (200) <GET https://proxy.scrapeops.io/v1/?api_key=&url=https%3A%2F%2Fwww.fanfiction.net%2Fs%2F14044572%2F1%2FLitmus-Test> (referer: https://steamdb.info/graph/)\n",
      "2024-12-04 10:39:49 [scrapy.core.engine] DEBUG: Crawled (400) <GET https://proxy.scrapeops.io/v1/?api_key=&url=https%3A%2F%2Fproxy.scrapeops.io%2Fv1%2F%3Fapi_key%3D%26url%3Dhttps%253A%2F%2Fwww.fanfiction.net%2Fs%2F14035898%2F2%2FExtraordinary> (referer: https://steamdb.info/graph/)\n",
      "2024-12-04 10:39:49 [scrapy.spidermiddlewares.httperror] INFO: Ignoring response <400 https://proxy.scrapeops.io/v1/?api_key=&url=https%3A%2F%2Fproxy.scrapeops.io%2Fv1%2F%3Fapi_key%3D%26url%3Dhttps%253A%2F%2Fwww.fanfiction.net%2Fs%2F14035671%2F2%2FA-Word-For-It>: HTTP status code is not handled or not allowed\n",
      "2024-12-04 10:39:49 [scrapy.core.engine] DEBUG: Crawled (400) <GET https://proxy.scrapeops.io/v1/?api_key=&url=https%3A%2F%2Fproxy.scrapeops.io%2Fv1%2F%3Fapi_key%3D%26url%3Dhttps%253A%2F%2Fwww.fanfiction.net%2Fs%2F14037299%2F2%2FOf-Burnt-Jumpers-and-Caesium-137> (referer: https://steamdb.info/graph/)\n",
      "2024-12-04 10:39:49 [scrapy.spidermiddlewares.httperror] INFO: Ignoring response <400 https://proxy.scrapeops.io/v1/?api_key=&url=https%3A%2F%2Fproxy.scrapeops.io%2Fv1%2F%3Fapi_key%3D%26url%3Dhttps%253A%2F%2Fwww.fanfiction.net%2Fs%2F14035898%2F2%2FExtraordinary>: HTTP status code is not handled or not allowed\n"
     ]
    },
    {
     "name": "stdout",
     "output_type": "stream",
     "text": [
      "\n",
      "https://proxy.scrapeops.io/v1/?api_key=&url=https%3A%2F%2Fwww.fanfiction.net%2Fs%2F14045021%2F1%2Fauld-lang-syne\n",
      "\n",
      "https://proxy.scrapeops.io/v1/?api_key=&url=https%3A%2F%2Fwww.fanfiction.net%2Fs%2F14044572%2F1%2FLitmus-Test\n"
     ]
    },
    {
     "name": "stderr",
     "output_type": "stream",
     "text": [
      "2024-12-04 10:39:49 [scrapy.spidermiddlewares.httperror] INFO: Ignoring response <400 https://proxy.scrapeops.io/v1/?api_key=&url=https%3A%2F%2Fproxy.scrapeops.io%2Fv1%2F%3Fapi_key%3D%26url%3Dhttps%253A%2F%2Fwww.fanfiction.net%2Fs%2F14037299%2F2%2FOf-Burnt-Jumpers-and-Caesium-137>: HTTP status code is not handled or not allowed\n",
      "2024-12-04 10:39:49 [scrapy.core.engine] DEBUG: Crawled (200) <GET https://proxy.scrapeops.io/v1/?api_key=&url=https%3A%2F%2Fwww.fanfiction.net%2Fs%2F14045028%2F1%2Falmost> (referer: https://steamdb.info/graph/)\n"
     ]
    },
    {
     "name": "stdout",
     "output_type": "stream",
     "text": [
      "\n",
      "https://proxy.scrapeops.io/v1/?api_key=&url=https%3A%2F%2Fwww.fanfiction.net%2Fs%2F14045028%2F1%2Falmost\n"
     ]
    },
    {
     "name": "stderr",
     "output_type": "stream",
     "text": [
      "2024-12-04 10:39:49 [scrapy.core.engine] DEBUG: Crawled (200) <GET https://proxy.scrapeops.io/v1/?api_key=&url=https%3A%2F%2Fwww.fanfiction.net%2Fs%2F14045024%2F1%2Fbirthday> (referer: https://steamdb.info/graph/)\n",
      "2024-12-04 10:39:49 [scrapy.core.engine] DEBUG: Crawled (400) <GET https://proxy.scrapeops.io/v1/?api_key=&url=https%3A%2F%2Fproxy.scrapeops.io%2Fv1%2F%3Fapi_key%3D%26url%3Dhttps%253A%2F%2Fwww.fanfiction.net%2Fs%2F14000583%2F2%2FGetting-The-Message> (referer: https://steamdb.info/graph/)\n",
      "2024-12-04 10:39:50 [scrapy.extensions.logstats] INFO: Crawled 663 pages (at 249 pages/min), scraped 0 items (at 0 items/min)\n",
      "2024-12-04 10:39:50 [scrapy.spidermiddlewares.httperror] INFO: Ignoring response <400 https://proxy.scrapeops.io/v1/?api_key=&url=https%3A%2F%2Fproxy.scrapeops.io%2Fv1%2F%3Fapi_key%3D%26url%3Dhttps%253A%2F%2Fwww.fanfiction.net%2Fs%2F14000583%2F2%2FGetting-The-Message>: HTTP status code is not handled or not allowed\n"
     ]
    },
    {
     "name": "stdout",
     "output_type": "stream",
     "text": [
      "\n",
      "https://proxy.scrapeops.io/v1/?api_key=&url=https%3A%2F%2Fwww.fanfiction.net%2Fs%2F14045024%2F1%2Fbirthday\n"
     ]
    },
    {
     "name": "stderr",
     "output_type": "stream",
     "text": [
      "2024-12-04 10:39:50 [scrapy.downloadermiddlewares.retry] DEBUG: Retrying <GET https://proxy.scrapeops.io/v1/?api_key=&url=https%3A%2F%2Fwww.fanfiction.net%2Fs%2F13809390%2F1%2FDisguised-Overload> (failed 1 times): 429 Unknown Status\n",
      "2024-12-04 10:39:50 [scrapy.core.engine] DEBUG: Crawled (400) <GET https://proxy.scrapeops.io/v1/?api_key=&url=https%3A%2F%2Fproxy.scrapeops.io%2Fv1%2F%3Fapi_key%3D%26url%3Dhttps%253A%2F%2Fwww.fanfiction.net%2Fs%2F13483744%2F2%2FThe-Adventures-of-Rosie-Watson-and-Alex-Lestrade-Holmes> (referer: https://steamdb.info/graph/)\n",
      "2024-12-04 10:39:50 [scrapy.spidermiddlewares.httperror] INFO: Ignoring response <400 https://proxy.scrapeops.io/v1/?api_key=&url=https%3A%2F%2Fproxy.scrapeops.io%2Fv1%2F%3Fapi_key%3D%26url%3Dhttps%253A%2F%2Fwww.fanfiction.net%2Fs%2F13483744%2F2%2FThe-Adventures-of-Rosie-Watson-and-Alex-Lestrade-Holmes>: HTTP status code is not handled or not allowed\n",
      "2024-12-04 10:39:51 [scrapy.core.engine] DEBUG: Crawled (200) <GET https://proxy.scrapeops.io/v1/?api_key=&url=https%3A%2F%2Fwww.fanfiction.net%2Fs%2F14051727%2F1%2FHamish-Mycroft-Holmes-Watson-Johnlock-fic> (referer: https://steamdb.info/graph/)\n",
      "2024-12-04 10:39:51 [scrapy.core.engine] DEBUG: Crawled (400) <GET https://proxy.scrapeops.io/v1/?api_key=&url=https%3A%2F%2Fproxy.scrapeops.io%2Fv1%2F%3Fapi_key%3D%26url%3Dhttps%253A%2F%2Fwww.fanfiction.net%2Fs%2F14045021%2F2%2Fauld-lang-syne> (referer: https://steamdb.info/graph/)\n",
      "2024-12-04 10:39:51 [scrapy.spidermiddlewares.httperror] INFO: Ignoring response <400 https://proxy.scrapeops.io/v1/?api_key=&url=https%3A%2F%2Fproxy.scrapeops.io%2Fv1%2F%3Fapi_key%3D%26url%3Dhttps%253A%2F%2Fwww.fanfiction.net%2Fs%2F14045021%2F2%2Fauld-lang-syne>: HTTP status code is not handled or not allowed\n"
     ]
    },
    {
     "name": "stdout",
     "output_type": "stream",
     "text": [
      "\n",
      "https://proxy.scrapeops.io/v1/?api_key=&url=https%3A%2F%2Fwww.fanfiction.net%2Fs%2F14051727%2F1%2FHamish-Mycroft-Holmes-Watson-Johnlock-fic\n"
     ]
    },
    {
     "name": "stderr",
     "output_type": "stream",
     "text": [
      "2024-12-04 10:39:51 [scrapy.core.engine] DEBUG: Crawled (200) <GET https://proxy.scrapeops.io/v1/?api_key=&url=https%3A%2F%2Fwww.fanfiction.net%2Fs%2F14053476%2F1%2FPatagonia-Orchid> (referer: https://steamdb.info/graph/)\n",
      "2024-12-04 10:39:51 [scrapy.core.engine] DEBUG: Crawled (200) <GET https://proxy.scrapeops.io/v1/?api_key=&url=https%3A%2F%2Fwww.fanfiction.net%2Fs%2F14051396%2F1%2FThe-Defence-Mechanism> (referer: https://steamdb.info/graph/)\n",
      "2024-12-04 10:39:52 [scrapy.core.engine] DEBUG: Crawled (400) <GET https://proxy.scrapeops.io/v1/?api_key=&url=https%3A%2F%2Fproxy.scrapeops.io%2Fv1%2F%3Fapi_key%3D%26url%3Dhttps%253A%2F%2Fwww.fanfiction.net%2Fs%2F14044572%2F2%2FLitmus-Test> (referer: https://steamdb.info/graph/)\n",
      "2024-12-04 10:39:52 [scrapy.core.engine] DEBUG: Crawled (400) <GET https://proxy.scrapeops.io/v1/?api_key=&url=https%3A%2F%2Fproxy.scrapeops.io%2Fv1%2F%3Fapi_key%3D%26url%3Dhttps%253A%2F%2Fwww.fanfiction.net%2Fs%2F14045028%2F2%2Falmost> (referer: https://steamdb.info/graph/)\n",
      "2024-12-04 10:39:52 [scrapy.spidermiddlewares.httperror] INFO: Ignoring response <400 https://proxy.scrapeops.io/v1/?api_key=&url=https%3A%2F%2Fproxy.scrapeops.io%2Fv1%2F%3Fapi_key%3D%26url%3Dhttps%253A%2F%2Fwww.fanfiction.net%2Fs%2F14044572%2F2%2FLitmus-Test>: HTTP status code is not handled or not allowed\n",
      "2024-12-04 10:39:52 [scrapy.spidermiddlewares.httperror] INFO: Ignoring response <400 https://proxy.scrapeops.io/v1/?api_key=&url=https%3A%2F%2Fproxy.scrapeops.io%2Fv1%2F%3Fapi_key%3D%26url%3Dhttps%253A%2F%2Fwww.fanfiction.net%2Fs%2F14045028%2F2%2Falmost>: HTTP status code is not handled or not allowed\n"
     ]
    },
    {
     "name": "stdout",
     "output_type": "stream",
     "text": [
      "\n",
      "https://proxy.scrapeops.io/v1/?api_key=&url=https%3A%2F%2Fwww.fanfiction.net%2Fs%2F14053476%2F1%2FPatagonia-Orchid\n",
      "\n",
      "https://proxy.scrapeops.io/v1/?api_key=&url=https%3A%2F%2Fwww.fanfiction.net%2Fs%2F14051396%2F1%2FThe-Defence-Mechanism\n"
     ]
    },
    {
     "name": "stderr",
     "output_type": "stream",
     "text": [
      "2024-12-04 10:39:52 [scrapy.core.engine] DEBUG: Crawled (200) <GET https://proxy.scrapeops.io/v1/?api_key=&url=https%3A%2F%2Fwww.fanfiction.net%2Fs%2F14048008%2F1%2FHalf-Gone> (referer: https://steamdb.info/graph/)\n",
      "2024-12-04 10:39:52 [scrapy.core.engine] DEBUG: Crawled (400) <GET https://proxy.scrapeops.io/v1/?api_key=&url=https%3A%2F%2Fproxy.scrapeops.io%2Fv1%2F%3Fapi_key%3D%26url%3Dhttps%253A%2F%2Fwww.fanfiction.net%2Fs%2F14045024%2F2%2Fbirthday> (referer: https://steamdb.info/graph/)\n",
      "2024-12-04 10:39:52 [scrapy.downloadermiddlewares.retry] DEBUG: Retrying <GET https://proxy.scrapeops.io/v1/?api_key=&url=https%3A%2F%2Fwww.fanfiction.net%2Fs%2F14046500%2F1%2FLemon-and-Cheese> (failed 1 times): 429 Unknown Status\n",
      "2024-12-04 10:39:52 [scrapy.spidermiddlewares.httperror] INFO: Ignoring response <400 https://proxy.scrapeops.io/v1/?api_key=&url=https%3A%2F%2Fproxy.scrapeops.io%2Fv1%2F%3Fapi_key%3D%26url%3Dhttps%253A%2F%2Fwww.fanfiction.net%2Fs%2F14045024%2F2%2Fbirthday>: HTTP status code is not handled or not allowed\n"
     ]
    },
    {
     "name": "stdout",
     "output_type": "stream",
     "text": [
      "\n",
      "https://proxy.scrapeops.io/v1/?api_key=&url=https%3A%2F%2Fwww.fanfiction.net%2Fs%2F14048008%2F1%2FHalf-Gone\n"
     ]
    },
    {
     "name": "stderr",
     "output_type": "stream",
     "text": [
      "2024-12-04 10:39:53 [scrapy.core.engine] DEBUG: Crawled (200) <GET https://proxy.scrapeops.io/v1/?api_key=&url=https%3A%2F%2Fwww.fanfiction.net%2Fs%2F14059879%2F1%2FC%25C3%25A1i-ch%25E1%25BA%25BFt-c%25E1%25BB%25A7a-Achilles> (referer: https://steamdb.info/graph/)\n",
      "2024-12-04 10:39:53 [scrapy.core.engine] DEBUG: Crawled (400) <GET https://proxy.scrapeops.io/v1/?api_key=&url=https%3A%2F%2Fproxy.scrapeops.io%2Fv1%2F%3Fapi_key%3D%26url%3Dhttps%253A%2F%2Fwww.fanfiction.net%2Fs%2F14051727%2F2%2FHamish-Mycroft-Holmes-Watson-Johnlock-fic> (referer: https://steamdb.info/graph/)\n",
      "2024-12-04 10:39:53 [scrapy.spidermiddlewares.httperror] INFO: Ignoring response <400 https://proxy.scrapeops.io/v1/?api_key=&url=https%3A%2F%2Fproxy.scrapeops.io%2Fv1%2F%3Fapi_key%3D%26url%3Dhttps%253A%2F%2Fwww.fanfiction.net%2Fs%2F14051727%2F2%2FHamish-Mycroft-Holmes-Watson-Johnlock-fic>: HTTP status code is not handled or not allowed\n"
     ]
    },
    {
     "name": "stdout",
     "output_type": "stream",
     "text": [
      "\n"
     ]
    },
    {
     "name": "stderr",
     "output_type": "stream",
     "text": [
      "2024-12-04 10:39:54 [scrapy.core.engine] DEBUG: Crawled (200) <GET https://proxy.scrapeops.io/v1/?api_key=&url=https%3A%2F%2Fwww.fanfiction.net%2Fs%2F14060539%2F1%2FIt-s-Different> (referer: https://steamdb.info/graph/)\n",
      "2024-12-04 10:39:54 [scrapy.core.engine] DEBUG: Crawled (200) <GET https://proxy.scrapeops.io/v1/?api_key=&url=https%3A%2F%2Fwww.fanfiction.net%2Fs%2F14061857%2F1%2FUnfortunate-Circumstances> (referer: https://steamdb.info/graph/)\n",
      "2024-12-04 10:39:54 [scrapy.core.engine] DEBUG: Crawled (200) <GET https://proxy.scrapeops.io/v1/?api_key=&url=https%3A%2F%2Fwww.fanfiction.net%2Fs%2F13803716%2F1%2FRegarding-Favorite-Cousins> (referer: https://steamdb.info/graph/)\n",
      "2024-12-04 10:39:54 [scrapy.core.engine] DEBUG: Crawled (400) <GET https://proxy.scrapeops.io/v1/?api_key=&url=https%3A%2F%2Fproxy.scrapeops.io%2Fv1%2F%3Fapi_key%3D%26url%3Dhttps%253A%2F%2Fwww.fanfiction.net%2Fs%2F14053476%2F2%2FPatagonia-Orchid> (referer: https://steamdb.info/graph/)\n",
      "2024-12-04 10:39:54 [scrapy.core.engine] DEBUG: Crawled (400) <GET https://proxy.scrapeops.io/v1/?api_key=&url=https%3A%2F%2Fproxy.scrapeops.io%2Fv1%2F%3Fapi_key%3D%26url%3Dhttps%253A%2F%2Fwww.fanfiction.net%2Fs%2F14051396%2F2%2FThe-Defence-Mechanism> (referer: https://steamdb.info/graph/)\n"
     ]
    },
    {
     "name": "stdout",
     "output_type": "stream",
     "text": [
      "\n",
      "https://proxy.scrapeops.io/v1/?api_key=&url=https%3A%2F%2Fwww.fanfiction.net%2Fs%2F14060539%2F1%2FIt-s-Different\n",
      "\n",
      "https://proxy.scrapeops.io/v1/?api_key=&url=https%3A%2F%2Fwww.fanfiction.net%2Fs%2F14061857%2F1%2FUnfortunate-Circumstances\n",
      "\n",
      "https://proxy.scrapeops.io/v1/?api_key=&url=https%3A%2F%2Fwww.fanfiction.net%2Fs%2F13803716%2F1%2FRegarding-Favorite-Cousins\n"
     ]
    },
    {
     "name": "stderr",
     "output_type": "stream",
     "text": [
      "2024-12-04 10:39:54 [scrapy.spidermiddlewares.httperror] INFO: Ignoring response <400 https://proxy.scrapeops.io/v1/?api_key=&url=https%3A%2F%2Fproxy.scrapeops.io%2Fv1%2F%3Fapi_key%3D%26url%3Dhttps%253A%2F%2Fwww.fanfiction.net%2Fs%2F14053476%2F2%2FPatagonia-Orchid>: HTTP status code is not handled or not allowed\n",
      "2024-12-04 10:39:54 [scrapy.spidermiddlewares.httperror] INFO: Ignoring response <400 https://proxy.scrapeops.io/v1/?api_key=&url=https%3A%2F%2Fproxy.scrapeops.io%2Fv1%2F%3Fapi_key%3D%26url%3Dhttps%253A%2F%2Fwww.fanfiction.net%2Fs%2F14051396%2F2%2FThe-Defence-Mechanism>: HTTP status code is not handled or not allowed\n",
      "2024-12-04 10:39:55 [scrapy.downloadermiddlewares.retry] DEBUG: Retrying <GET https://proxy.scrapeops.io/v1/?api_key=&url=https%3A%2F%2Fwww.fanfiction.net%2Fs%2F14016505%2F1%2FAfter-the-Fall> (failed 1 times): 429 Unknown Status\n",
      "2024-12-04 10:39:55 [scrapy.core.engine] DEBUG: Crawled (200) <GET https://proxy.scrapeops.io/v1/?api_key=&url=https%3A%2F%2Fwww.fanfiction.net%2Fs%2F14057567%2F1%2FA-Testament-of-Trauma> (referer: https://steamdb.info/graph/)\n",
      "2024-12-04 10:39:55 [scrapy.core.engine] DEBUG: Crawled (400) <GET https://proxy.scrapeops.io/v1/?api_key=&url=https%3A%2F%2Fproxy.scrapeops.io%2Fv1%2F%3Fapi_key%3D%26url%3Dhttps%253A%2F%2Fwww.fanfiction.net%2Fs%2F14048008%2F2%2FHalf-Gone> (referer: https://steamdb.info/graph/)\n",
      "2024-12-04 10:39:55 [scrapy.spidermiddlewares.httperror] INFO: Ignoring response <400 https://proxy.scrapeops.io/v1/?api_key=&url=https%3A%2F%2Fproxy.scrapeops.io%2Fv1%2F%3Fapi_key%3D%26url%3Dhttps%253A%2F%2Fwww.fanfiction.net%2Fs%2F14048008%2F2%2FHalf-Gone>: HTTP status code is not handled or not allowed\n"
     ]
    },
    {
     "name": "stdout",
     "output_type": "stream",
     "text": [
      "\n",
      "https://proxy.scrapeops.io/v1/?api_key=&url=https%3A%2F%2Fwww.fanfiction.net%2Fs%2F14057567%2F1%2FA-Testament-of-Trauma\n"
     ]
    },
    {
     "name": "stderr",
     "output_type": "stream",
     "text": [
      "2024-12-04 10:39:56 [scrapy.core.engine] DEBUG: Crawled (200) <GET https://proxy.scrapeops.io/v1/?api_key=&url=https%3A%2F%2Fwww.fanfiction.net%2Fs%2F14065662%2F1%2FReturn-to-the-Light> (referer: https://steamdb.info/graph/)\n",
      "2024-12-04 10:39:56 [scrapy.core.engine] DEBUG: Crawled (200) <GET https://proxy.scrapeops.io/v1/?api_key=&url=https%3A%2F%2Fwww.fanfiction.net%2Fs%2F13741400%2F1%2FMusic-Says-it-Better> (referer: https://steamdb.info/graph/)\n",
      "2024-12-04 10:39:56 [scrapy.core.engine] DEBUG: Crawled (400) <GET https://proxy.scrapeops.io/v1/?api_key=&url=https%3A%2F%2Fproxy.scrapeops.io%2Fv1%2F%3Fapi_key%3D%26url%3Dhttps%253A%2F%2Fwww.fanfiction.net%2Fs%2F14060539%2F2%2FIt-s-Different> (referer: https://steamdb.info/graph/)\n"
     ]
    },
    {
     "name": "stdout",
     "output_type": "stream",
     "text": [
      "\n",
      "https://proxy.scrapeops.io/v1/?api_key=&url=https%3A%2F%2Fwww.fanfiction.net%2Fs%2F14065662%2F1%2FReturn-to-the-Light\n",
      "\n",
      "https://proxy.scrapeops.io/v1/?api_key=&url=https%3A%2F%2Fwww.fanfiction.net%2Fs%2F13741400%2F1%2FMusic-Says-it-Better\n"
     ]
    },
    {
     "name": "stderr",
     "output_type": "stream",
     "text": [
      "2024-12-04 10:39:56 [scrapy.spidermiddlewares.httperror] INFO: Ignoring response <400 https://proxy.scrapeops.io/v1/?api_key=&url=https%3A%2F%2Fproxy.scrapeops.io%2Fv1%2F%3Fapi_key%3D%26url%3Dhttps%253A%2F%2Fwww.fanfiction.net%2Fs%2F14060539%2F2%2FIt-s-Different>: HTTP status code is not handled or not allowed\n",
      "2024-12-04 10:39:57 [scrapy.core.engine] DEBUG: Crawled (200) <GET https://proxy.scrapeops.io/v1/?api_key=&url=https%3A%2F%2Fwww.fanfiction.net%2Fs%2F14061863%2F1%2FJohnlock-One-Shot> (referer: https://steamdb.info/graph/)\n",
      "2024-12-04 10:39:57 [scrapy.downloadermiddlewares.retry] DEBUG: Retrying <GET https://proxy.scrapeops.io/v1/?api_key=&url=https%3A%2F%2Fwww.fanfiction.net%2Fs%2F14062950%2F1%2FUltimatum> (failed 1 times): 429 Unknown Status\n",
      "2024-12-04 10:39:57 [scrapy.core.engine] DEBUG: Crawled (400) <GET https://proxy.scrapeops.io/v1/?api_key=&url=https%3A%2F%2Fproxy.scrapeops.io%2Fv1%2F%3Fapi_key%3D%26url%3Dhttps%253A%2F%2Fwww.fanfiction.net%2Fs%2F14061857%2F2%2FUnfortunate-Circumstances> (referer: https://steamdb.info/graph/)\n"
     ]
    },
    {
     "name": "stdout",
     "output_type": "stream",
     "text": [
      "\n",
      "https://proxy.scrapeops.io/v1/?api_key=&url=https%3A%2F%2Fwww.fanfiction.net%2Fs%2F14061863%2F1%2FJohnlock-One-Shot\n"
     ]
    },
    {
     "name": "stderr",
     "output_type": "stream",
     "text": [
      "2024-12-04 10:39:57 [scrapy.core.engine] DEBUG: Crawled (400) <GET https://proxy.scrapeops.io/v1/?api_key=&url=https%3A%2F%2Fproxy.scrapeops.io%2Fv1%2F%3Fapi_key%3D%26url%3Dhttps%253A%2F%2Fwww.fanfiction.net%2Fs%2F13803716%2F2%2FRegarding-Favorite-Cousins> (referer: https://steamdb.info/graph/)\n",
      "2024-12-04 10:39:57 [scrapy.spidermiddlewares.httperror] INFO: Ignoring response <400 https://proxy.scrapeops.io/v1/?api_key=&url=https%3A%2F%2Fproxy.scrapeops.io%2Fv1%2F%3Fapi_key%3D%26url%3Dhttps%253A%2F%2Fwww.fanfiction.net%2Fs%2F14061857%2F2%2FUnfortunate-Circumstances>: HTTP status code is not handled or not allowed\n",
      "2024-12-04 10:39:57 [scrapy.core.engine] DEBUG: Crawled (200) <GET https://proxy.scrapeops.io/v1/?api_key=&url=https%3A%2F%2Fwww.fanfiction.net%2Fs%2F14072128%2F1%2FAfter-Sherrinford> (referer: https://steamdb.info/graph/)\n",
      "2024-12-04 10:39:57 [scrapy.core.engine] DEBUG: Crawled (400) <GET https://proxy.scrapeops.io/v1/?api_key=&url=https%3A%2F%2Fproxy.scrapeops.io%2Fv1%2F%3Fapi_key%3D%26url%3Dhttps%253A%2F%2Fwww.fanfiction.net%2Fs%2F14057581%2F2%2FSherlolly-Appreciation-Week-2022> (referer: https://steamdb.info/graph/)\n",
      "2024-12-04 10:39:57 [scrapy.spidermiddlewares.httperror] INFO: Ignoring response <400 https://proxy.scrapeops.io/v1/?api_key=&url=https%3A%2F%2Fproxy.scrapeops.io%2Fv1%2F%3Fapi_key%3D%26url%3Dhttps%253A%2F%2Fwww.fanfiction.net%2Fs%2F13803716%2F2%2FRegarding-Favorite-Cousins>: HTTP status code is not handled or not allowed\n",
      "2024-12-04 10:39:58 [scrapy.core.engine] DEBUG: Crawled (400) <GET https://proxy.scrapeops.io/v1/?api_key=&url=https%3A%2F%2Fproxy.scrapeops.io%2Fv1%2F%3Fapi_key%3D%26url%3Dhttps%253A%2F%2Fwww.fanfiction.net%2Fs%2F14057567%2F2%2FA-Testament-of-Trauma> (referer: https://steamdb.info/graph/)\n",
      "2024-12-04 10:39:58 [scrapy.spidermiddlewares.httperror] INFO: Ignoring response <400 https://proxy.scrapeops.io/v1/?api_key=&url=https%3A%2F%2Fproxy.scrapeops.io%2Fv1%2F%3Fapi_key%3D%26url%3Dhttps%253A%2F%2Fwww.fanfiction.net%2Fs%2F14057581%2F2%2FSherlolly-Appreciation-Week-2022>: HTTP status code is not handled or not allowed\n",
      "2024-12-04 10:39:58 [scrapy.core.engine] DEBUG: Crawled (400) <GET https://proxy.scrapeops.io/v1/?api_key=&url=https%3A%2F%2Fproxy.scrapeops.io%2Fv1%2F%3Fapi_key%3D%26url%3Dhttps%253A%2F%2Fwww.fanfiction.net%2Fs%2F14065662%2F2%2FReturn-to-the-Light> (referer: https://steamdb.info/graph/)\n",
      "2024-12-04 10:39:58 [scrapy.spidermiddlewares.httperror] INFO: Ignoring response <400 https://proxy.scrapeops.io/v1/?api_key=&url=https%3A%2F%2Fproxy.scrapeops.io%2Fv1%2F%3Fapi_key%3D%26url%3Dhttps%253A%2F%2Fwww.fanfiction.net%2Fs%2F14057567%2F2%2FA-Testament-of-Trauma>: HTTP status code is not handled or not allowed\n"
     ]
    },
    {
     "name": "stdout",
     "output_type": "stream",
     "text": [
      "\n",
      "https://proxy.scrapeops.io/v1/?api_key=&url=https%3A%2F%2Fwww.fanfiction.net%2Fs%2F14072128%2F1%2FAfter-Sherrinford\n"
     ]
    },
    {
     "name": "stderr",
     "output_type": "stream",
     "text": [
      "2024-12-04 10:39:58 [scrapy.spidermiddlewares.httperror] INFO: Ignoring response <400 https://proxy.scrapeops.io/v1/?api_key=&url=https%3A%2F%2Fproxy.scrapeops.io%2Fv1%2F%3Fapi_key%3D%26url%3Dhttps%253A%2F%2Fwww.fanfiction.net%2Fs%2F14065662%2F2%2FReturn-to-the-Light>: HTTP status code is not handled or not allowed\n",
      "2024-12-04 10:39:58 [scrapy.core.engine] DEBUG: Crawled (200) <GET https://proxy.scrapeops.io/v1/?api_key=&url=https%3A%2F%2Fwww.fanfiction.net%2Fs%2F14070919%2F1%2FSwimming-With-Sharks> (referer: https://steamdb.info/graph/)\n",
      "2024-12-04 10:39:58 [scrapy.core.engine] DEBUG: Crawled (400) <GET https://proxy.scrapeops.io/v1/?api_key=&url=https%3A%2F%2Fproxy.scrapeops.io%2Fv1%2F%3Fapi_key%3D%26url%3Dhttps%253A%2F%2Fwww.fanfiction.net%2Fs%2F13741400%2F2%2FMusic-Says-it-Better> (referer: https://steamdb.info/graph/)\n",
      "2024-12-04 10:39:58 [scrapy.core.engine] DEBUG: Crawled (400) <GET https://proxy.scrapeops.io/v1/?api_key=&url=https%3A%2F%2Fproxy.scrapeops.io%2Fv1%2F%3Fapi_key%3D%26url%3Dhttps%253A%2F%2Fwww.fanfiction.net%2Fs%2F14061863%2F2%2FJohnlock-One-Shot> (referer: https://steamdb.info/graph/)\n",
      "2024-12-04 10:39:58 [scrapy.spidermiddlewares.httperror] INFO: Ignoring response <400 https://proxy.scrapeops.io/v1/?api_key=&url=https%3A%2F%2Fproxy.scrapeops.io%2Fv1%2F%3Fapi_key%3D%26url%3Dhttps%253A%2F%2Fwww.fanfiction.net%2Fs%2F13741400%2F2%2FMusic-Says-it-Better>: HTTP status code is not handled or not allowed\n",
      "2024-12-04 10:39:58 [scrapy.spidermiddlewares.httperror] INFO: Ignoring response <400 https://proxy.scrapeops.io/v1/?api_key=&url=https%3A%2F%2Fproxy.scrapeops.io%2Fv1%2F%3Fapi_key%3D%26url%3Dhttps%253A%2F%2Fwww.fanfiction.net%2Fs%2F14061863%2F2%2FJohnlock-One-Shot>: HTTP status code is not handled or not allowed\n"
     ]
    },
    {
     "name": "stdout",
     "output_type": "stream",
     "text": [
      "\n",
      "https://proxy.scrapeops.io/v1/?api_key=&url=https%3A%2F%2Fwww.fanfiction.net%2Fs%2F14070919%2F1%2FSwimming-With-Sharks\n"
     ]
    },
    {
     "name": "stderr",
     "output_type": "stream",
     "text": [
      "2024-12-04 10:39:59 [scrapy.core.engine] DEBUG: Crawled (200) <GET https://proxy.scrapeops.io/v1/?api_key=&url=https%3A%2F%2Fwww.fanfiction.net%2Fs%2F14073896%2F1%2FFive-Times-Sherlock-Didn-t-Close-a-Door-and-One-Time-He-Did> (referer: https://steamdb.info/graph/)\n"
     ]
    },
    {
     "name": "stdout",
     "output_type": "stream",
     "text": [
      "\n",
      "https://proxy.scrapeops.io/v1/?api_key=&url=https%3A%2F%2Fwww.fanfiction.net%2Fs%2F14073896%2F1%2FFive-Times-Sherlock-Didn-t-Close-a-Door-and-One-Time-He-Did\n"
     ]
    },
    {
     "name": "stderr",
     "output_type": "stream",
     "text": [
      "2024-12-04 10:40:00 [scrapy.downloadermiddlewares.retry] DEBUG: Retrying <GET https://proxy.scrapeops.io/v1/?api_key=&url=https%3A%2F%2Fwww.fanfiction.net%2Fs%2F14069169%2F1%2FPose-moi-la-question> (failed 1 times): 429 Unknown Status\n",
      "2024-12-04 10:40:01 [scrapy.core.engine] DEBUG: Crawled (200) <GET https://proxy.scrapeops.io/v1/?api_key=&url=https%3A%2F%2Fwww.fanfiction.net%2Fs%2F14047716%2F1%2FThe-Omicron-Variant> (referer: https://steamdb.info/graph/)\n",
      "2024-12-04 10:40:01 [scrapy.core.engine] DEBUG: Crawled (200) <GET https://proxy.scrapeops.io/v1/?api_key=&url=https%3A%2F%2Fwww.fanfiction.net%2Fs%2F14089567%2F1%2FShut-up> (referer: https://steamdb.info/graph/)\n"
     ]
    },
    {
     "name": "stdout",
     "output_type": "stream",
     "text": [
      "\n",
      "https://proxy.scrapeops.io/v1/?api_key=&url=https%3A%2F%2Fwww.fanfiction.net%2Fs%2F14047716%2F1%2FThe-Omicron-Variant\n"
     ]
    },
    {
     "name": "stderr",
     "output_type": "stream",
     "text": [
      "2024-12-04 10:40:02 [scrapy.core.engine] DEBUG: Crawled (400) <GET https://proxy.scrapeops.io/v1/?api_key=&url=https%3A%2F%2Fproxy.scrapeops.io%2Fv1%2F%3Fapi_key%3D%26url%3Dhttps%253A%2F%2Fwww.fanfiction.net%2Fs%2F14072128%2F2%2FAfter-Sherrinford> (referer: https://steamdb.info/graph/)\n",
      "2024-12-04 10:40:02 [scrapy.spidermiddlewares.httperror] INFO: Ignoring response <400 https://proxy.scrapeops.io/v1/?api_key=&url=https%3A%2F%2Fproxy.scrapeops.io%2Fv1%2F%3Fapi_key%3D%26url%3Dhttps%253A%2F%2Fwww.fanfiction.net%2Fs%2F14072128%2F2%2FAfter-Sherrinford>: HTTP status code is not handled or not allowed\n"
     ]
    },
    {
     "name": "stdout",
     "output_type": "stream",
     "text": [
      "\n",
      "https://proxy.scrapeops.io/v1/?api_key=&url=https%3A%2F%2Fwww.fanfiction.net%2Fs%2F14089567%2F1%2FShut-up\n"
     ]
    },
    {
     "name": "stderr",
     "output_type": "stream",
     "text": [
      "2024-12-04 10:40:03 [scrapy.core.engine] DEBUG: Crawled (200) <GET https://proxy.scrapeops.io/v1/?api_key=&url=https%3A%2F%2Fwww.fanfiction.net%2Fs%2F13357991%2F1%2FThe-Return> (referer: https://steamdb.info/graph/)\n",
      "2024-12-04 10:40:03 [scrapy.core.engine] DEBUG: Crawled (200) <GET https://proxy.scrapeops.io/v1/?api_key=&url=https%3A%2F%2Fwww.fanfiction.net%2Fs%2F14032563%2F1%2Ffluffbruary-2022> (referer: https://steamdb.info/graph/)\n",
      "2024-12-04 10:40:03 [scrapy.core.engine] DEBUG: Crawled (200) <GET https://proxy.scrapeops.io/v1/?api_key=&url=https%3A%2F%2Fwww.fanfiction.net%2Fs%2F14087446%2F1%2FA-Place-at-My-Table> (referer: https://steamdb.info/graph/)\n",
      "2024-12-04 10:40:03 [scrapy.downloadermiddlewares.retry] DEBUG: Retrying <GET https://proxy.scrapeops.io/v1/?api_key=&url=https%3A%2F%2Fwww.fanfiction.net%2Fs%2F14071464%2F1%2FGuilty-Until-Proven-Innocent> (failed 1 times): 429 Unknown Status\n"
     ]
    },
    {
     "name": "stdout",
     "output_type": "stream",
     "text": [
      "\n",
      "https://proxy.scrapeops.io/v1/?api_key=&url=https%3A%2F%2Fwww.fanfiction.net%2Fs%2F13357991%2F1%2FThe-Return\n",
      "\n",
      "\n",
      "https://proxy.scrapeops.io/v1/?api_key=&url=https%3A%2F%2Fwww.fanfiction.net%2Fs%2F14087446%2F1%2FA-Place-at-My-Table\n"
     ]
    },
    {
     "name": "stderr",
     "output_type": "stream",
     "text": [
      "2024-12-04 10:40:03 [scrapy.core.engine] DEBUG: Crawled (400) <GET https://proxy.scrapeops.io/v1/?api_key=&url=https%3A%2F%2Fproxy.scrapeops.io%2Fv1%2F%3Fapi_key%3D%26url%3Dhttps%253A%2F%2Fwww.fanfiction.net%2Fs%2F14070919%2F2%2FSwimming-With-Sharks> (referer: https://steamdb.info/graph/)\n",
      "2024-12-04 10:40:03 [scrapy.spidermiddlewares.httperror] INFO: Ignoring response <400 https://proxy.scrapeops.io/v1/?api_key=&url=https%3A%2F%2Fproxy.scrapeops.io%2Fv1%2F%3Fapi_key%3D%26url%3Dhttps%253A%2F%2Fwww.fanfiction.net%2Fs%2F14070919%2F2%2FSwimming-With-Sharks>: HTTP status code is not handled or not allowed\n",
      "2024-12-04 10:40:04 [scrapy.core.engine] DEBUG: Crawled (400) <GET https://proxy.scrapeops.io/v1/?api_key=&url=https%3A%2F%2Fproxy.scrapeops.io%2Fv1%2F%3Fapi_key%3D%26url%3Dhttps%253A%2F%2Fwww.fanfiction.net%2Fs%2F14073896%2F2%2FFive-Times-Sherlock-Didn-t-Close-a-Door-and-One-Time-He-Did> (referer: https://steamdb.info/graph/)\n",
      "2024-12-04 10:40:04 [scrapy.spidermiddlewares.httperror] INFO: Ignoring response <400 https://proxy.scrapeops.io/v1/?api_key=&url=https%3A%2F%2Fproxy.scrapeops.io%2Fv1%2F%3Fapi_key%3D%26url%3Dhttps%253A%2F%2Fwww.fanfiction.net%2Fs%2F14073896%2F2%2FFive-Times-Sherlock-Didn-t-Close-a-Door-and-One-Time-He-Did>: HTTP status code is not handled or not allowed\n",
      "2024-12-04 10:40:04 [scrapy.core.engine] DEBUG: Crawled (200) <GET https://proxy.scrapeops.io/v1/?api_key=&url=https%3A%2F%2Fwww.fanfiction.net%2Fs%2F14091066%2F1%2FMollywhopped> (referer: https://steamdb.info/graph/)\n",
      "2024-12-04 10:40:04 [scrapy.core.engine] DEBUG: Crawled (400) <GET https://proxy.scrapeops.io/v1/?api_key=&url=https%3A%2F%2Fproxy.scrapeops.io%2Fv1%2F%3Fapi_key%3D%26url%3Dhttps%253A%2F%2Fwww.fanfiction.net%2Fs%2F14047716%2F2%2FThe-Omicron-Variant> (referer: https://steamdb.info/graph/)\n",
      "2024-12-04 10:40:04 [scrapy.spidermiddlewares.httperror] INFO: Ignoring response <400 https://proxy.scrapeops.io/v1/?api_key=&url=https%3A%2F%2Fproxy.scrapeops.io%2Fv1%2F%3Fapi_key%3D%26url%3Dhttps%253A%2F%2Fwww.fanfiction.net%2Fs%2F14047716%2F2%2FThe-Omicron-Variant>: HTTP status code is not handled or not allowed\n"
     ]
    },
    {
     "name": "stdout",
     "output_type": "stream",
     "text": [
      "\n",
      "https://proxy.scrapeops.io/v1/?api_key=&url=https%3A%2F%2Fwww.fanfiction.net%2Fs%2F14091066%2F1%2FMollywhopped\n"
     ]
    },
    {
     "name": "stderr",
     "output_type": "stream",
     "text": [
      "2024-12-04 10:40:05 [scrapy.core.engine] DEBUG: Crawled (400) <GET https://proxy.scrapeops.io/v1/?api_key=&url=https%3A%2F%2Fproxy.scrapeops.io%2Fv1%2F%3Fapi_key%3D%26url%3Dhttps%253A%2F%2Fwww.fanfiction.net%2Fs%2F14089567%2F2%2FShut-up> (referer: https://steamdb.info/graph/)\n",
      "2024-12-04 10:40:05 [scrapy.core.engine] DEBUG: Crawled (200) <GET https://proxy.scrapeops.io/v1/?api_key=&url=https%3A%2F%2Fwww.fanfiction.net%2Fs%2F14092843%2F1%2FA-Sherlock-Love-Story> (referer: https://steamdb.info/graph/)\n",
      "2024-12-04 10:40:05 [scrapy.spidermiddlewares.httperror] INFO: Ignoring response <400 https://proxy.scrapeops.io/v1/?api_key=&url=https%3A%2F%2Fproxy.scrapeops.io%2Fv1%2F%3Fapi_key%3D%26url%3Dhttps%253A%2F%2Fwww.fanfiction.net%2Fs%2F14089567%2F2%2FShut-up>: HTTP status code is not handled or not allowed\n"
     ]
    },
    {
     "name": "stdout",
     "output_type": "stream",
     "text": [
      "\n",
      "https://proxy.scrapeops.io/v1/?api_key=&url=https%3A%2F%2Fwww.fanfiction.net%2Fs%2F14092843%2F1%2FA-Sherlock-Love-Story\n"
     ]
    },
    {
     "name": "stderr",
     "output_type": "stream",
     "text": [
      "2024-12-04 10:40:05 [scrapy.core.engine] DEBUG: Crawled (200) <GET https://proxy.scrapeops.io/v1/?api_key=&url=https%3A%2F%2Fwww.fanfiction.net%2Fs%2F12987288%2F1%2F221B-Sherlolly> (referer: https://steamdb.info/graph/)\n"
     ]
    },
    {
     "name": "stdout",
     "output_type": "stream",
     "text": [
      "\n",
      "https://proxy.scrapeops.io/v1/?api_key=&url=https%3A%2F%2Fwww.fanfiction.net%2Fs%2F12987288%2F1%2F221B-Sherlolly\n"
     ]
    },
    {
     "name": "stderr",
     "output_type": "stream",
     "text": [
      "2024-12-04 10:40:05 [scrapy.core.engine] DEBUG: Crawled (200) <GET https://proxy.scrapeops.io/v1/?api_key=&url=https%3A%2F%2Fwww.fanfiction.net%2Fs%2F14091505%2F1%2FMystery-Man-Sherlock> (referer: https://steamdb.info/graph/)\n",
      "2024-12-04 10:40:05 [scrapy.core.engine] DEBUG: Crawled (400) <GET https://proxy.scrapeops.io/v1/?api_key=&url=https%3A%2F%2Fproxy.scrapeops.io%2Fv1%2F%3Fapi_key%3D%26url%3Dhttps%253A%2F%2Fwww.fanfiction.net%2Fs%2F14087446%2F2%2FA-Place-at-My-Table> (referer: https://steamdb.info/graph/)\n",
      "2024-12-04 10:40:05 [scrapy.spidermiddlewares.httperror] INFO: Ignoring response <400 https://proxy.scrapeops.io/v1/?api_key=&url=https%3A%2F%2Fproxy.scrapeops.io%2Fv1%2F%3Fapi_key%3D%26url%3Dhttps%253A%2F%2Fwww.fanfiction.net%2Fs%2F14087446%2F2%2FA-Place-at-My-Table>: HTTP status code is not handled or not allowed\n",
      "2024-12-04 10:40:06 [scrapy.core.engine] DEBUG: Crawled (400) <GET https://proxy.scrapeops.io/v1/?api_key=&url=https%3A%2F%2Fproxy.scrapeops.io%2Fv1%2F%3Fapi_key%3D%26url%3Dhttps%253A%2F%2Fwww.fanfiction.net%2Fs%2F13357991%2F2%2FThe-Return> (referer: https://steamdb.info/graph/)\n"
     ]
    },
    {
     "name": "stdout",
     "output_type": "stream",
     "text": [
      "\n",
      "https://proxy.scrapeops.io/v1/?api_key=&url=https%3A%2F%2Fwww.fanfiction.net%2Fs%2F14091505%2F1%2FMystery-Man-Sherlock\n"
     ]
    },
    {
     "name": "stderr",
     "output_type": "stream",
     "text": [
      "2024-12-04 10:40:06 [scrapy.downloadermiddlewares.retry] DEBUG: Retrying <GET https://proxy.scrapeops.io/v1/?api_key=&url=https%3A%2F%2Fwww.fanfiction.net%2Fs%2F14051538%2F1%2FThe-death-of-Achilles> (failed 1 times): 429 Unknown Status\n",
      "2024-12-04 10:40:06 [scrapy.spidermiddlewares.httperror] INFO: Ignoring response <400 https://proxy.scrapeops.io/v1/?api_key=&url=https%3A%2F%2Fproxy.scrapeops.io%2Fv1%2F%3Fapi_key%3D%26url%3Dhttps%253A%2F%2Fwww.fanfiction.net%2Fs%2F13357991%2F2%2FThe-Return>: HTTP status code is not handled or not allowed\n",
      "2024-12-04 10:40:06 [scrapy.core.engine] DEBUG: Crawled (200) <GET https://proxy.scrapeops.io/v1/?api_key=&url=https%3A%2F%2Fwww.fanfiction.net%2Fs%2F14093593%2F1%2FA-Mulher-no-Sal%25C3%25A3o> (referer: https://steamdb.info/graph/)\n",
      "2024-12-04 10:40:06 [scrapy.core.engine] DEBUG: Crawled (200) <GET https://proxy.scrapeops.io/v1/?api_key=&url=https%3A%2F%2Fwww.fanfiction.net%2Fs%2F12862612%2F1%2FNot-like-other-people> (referer: https://steamdb.info/graph/)\n",
      "2024-12-04 10:40:06 [scrapy.core.engine] DEBUG: Crawled (400) <GET https://proxy.scrapeops.io/v1/?api_key=&url=https%3A%2F%2Fproxy.scrapeops.io%2Fv1%2F%3Fapi_key%3D%26url%3Dhttps%253A%2F%2Fwww.fanfiction.net%2Fs%2F14091066%2F2%2FMollywhopped> (referer: https://steamdb.info/graph/)\n",
      "2024-12-04 10:40:06 [scrapy.spidermiddlewares.httperror] INFO: Ignoring response <400 https://proxy.scrapeops.io/v1/?api_key=&url=https%3A%2F%2Fproxy.scrapeops.io%2Fv1%2F%3Fapi_key%3D%26url%3Dhttps%253A%2F%2Fwww.fanfiction.net%2Fs%2F14091066%2F2%2FMollywhopped>: HTTP status code is not handled or not allowed\n"
     ]
    },
    {
     "name": "stdout",
     "output_type": "stream",
     "text": [
      "\n",
      "\n",
      "https://proxy.scrapeops.io/v1/?api_key=&url=https%3A%2F%2Fwww.fanfiction.net%2Fs%2F12862612%2F1%2FNot-like-other-people\n"
     ]
    },
    {
     "name": "stderr",
     "output_type": "stream",
     "text": [
      "2024-12-04 10:40:06 [scrapy.core.engine] DEBUG: Crawled (200) <GET https://proxy.scrapeops.io/v1/?api_key=&url=https%3A%2F%2Fwww.fanfiction.net%2Fs%2F14093845%2F1%2FNothing-s-gonna-take-you-from-my-side> (referer: https://steamdb.info/graph/)\n",
      "2024-12-04 10:40:07 [scrapy.core.engine] DEBUG: Crawled (400) <GET https://proxy.scrapeops.io/v1/?api_key=&url=https%3A%2F%2Fproxy.scrapeops.io%2Fv1%2F%3Fapi_key%3D%26url%3Dhttps%253A%2F%2Fwww.fanfiction.net%2Fs%2F14092843%2F2%2FA-Sherlock-Love-Story> (referer: https://steamdb.info/graph/)\n",
      "2024-12-04 10:40:07 [scrapy.spidermiddlewares.httperror] INFO: Ignoring response <400 https://proxy.scrapeops.io/v1/?api_key=&url=https%3A%2F%2Fproxy.scrapeops.io%2Fv1%2F%3Fapi_key%3D%26url%3Dhttps%253A%2F%2Fwww.fanfiction.net%2Fs%2F14092843%2F2%2FA-Sherlock-Love-Story>: HTTP status code is not handled or not allowed\n",
      "2024-12-04 10:40:07 [scrapy.core.engine] DEBUG: Crawled (400) <GET https://proxy.scrapeops.io/v1/?api_key=&url=https%3A%2F%2Fproxy.scrapeops.io%2Fv1%2F%3Fapi_key%3D%26url%3Dhttps%253A%2F%2Fwww.fanfiction.net%2Fs%2F12987288%2F2%2F221B-Sherlolly> (referer: https://steamdb.info/graph/)\n",
      "2024-12-04 10:40:07 [scrapy.spidermiddlewares.httperror] INFO: Ignoring response <400 https://proxy.scrapeops.io/v1/?api_key=&url=https%3A%2F%2Fproxy.scrapeops.io%2Fv1%2F%3Fapi_key%3D%26url%3Dhttps%253A%2F%2Fwww.fanfiction.net%2Fs%2F12987288%2F2%2F221B-Sherlolly>: HTTP status code is not handled or not allowed\n"
     ]
    },
    {
     "name": "stdout",
     "output_type": "stream",
     "text": [
      "\n"
     ]
    },
    {
     "name": "stderr",
     "output_type": "stream",
     "text": [
      "2024-12-04 10:40:07 [scrapy.core.engine] DEBUG: Crawled (200) <GET https://proxy.scrapeops.io/v1/?api_key=&url=https%3A%2F%2Fwww.fanfiction.net%2Fs%2F14095807%2F1%2FPlease-Don-t> (referer: https://steamdb.info/graph/)\n",
      "2024-12-04 10:40:08 [scrapy.core.engine] DEBUG: Crawled (400) <GET https://proxy.scrapeops.io/v1/?api_key=&url=https%3A%2F%2Fproxy.scrapeops.io%2Fv1%2F%3Fapi_key%3D%26url%3Dhttps%253A%2F%2Fwww.fanfiction.net%2Fs%2F14091505%2F2%2FMystery-Man-Sherlock> (referer: https://steamdb.info/graph/)\n",
      "2024-12-04 10:40:08 [scrapy.core.engine] DEBUG: Crawled (200) <GET https://proxy.scrapeops.io/v1/?api_key=&url=https%3A%2F%2Fwww.fanfiction.net%2Fs%2F14088013%2F1%2FThe-Storyteller> (referer: https://steamdb.info/graph/)\n",
      "2024-12-04 10:40:08 [scrapy.core.engine] DEBUG: Crawled (200) <GET https://proxy.scrapeops.io/v1/?api_key=&url=https%3A%2F%2Fwww.fanfiction.net%2Fs%2F13826491%2F1%2FSherlock-The-broken-violin> (referer: https://steamdb.info/graph/)\n",
      "2024-12-04 10:40:08 [scrapy.core.engine] DEBUG: Crawled (200) <GET https://proxy.scrapeops.io/v1/?api_key=&url=https%3A%2F%2Fwww.fanfiction.net%2Fs%2F14107624%2F1%2FT%25C5%25B7-ar-y-Mynydd> (referer: https://steamdb.info/graph/)\n",
      "2024-12-04 10:40:08 [scrapy.spidermiddlewares.httperror] INFO: Ignoring response <400 https://proxy.scrapeops.io/v1/?api_key=&url=https%3A%2F%2Fproxy.scrapeops.io%2Fv1%2F%3Fapi_key%3D%26url%3Dhttps%253A%2F%2Fwww.fanfiction.net%2Fs%2F14091505%2F2%2FMystery-Man-Sherlock>: HTTP status code is not handled or not allowed\n"
     ]
    },
    {
     "name": "stdout",
     "output_type": "stream",
     "text": [
      "\n",
      "https://proxy.scrapeops.io/v1/?api_key=&url=https%3A%2F%2Fwww.fanfiction.net%2Fs%2F14095807%2F1%2FPlease-Don-t\n",
      "\n",
      "https://proxy.scrapeops.io/v1/?api_key=&url=https%3A%2F%2Fwww.fanfiction.net%2Fs%2F14088013%2F1%2FThe-Storyteller\n",
      "\n",
      "https://proxy.scrapeops.io/v1/?api_key=&url=https%3A%2F%2Fwww.fanfiction.net%2Fs%2F13826491%2F1%2FSherlock-The-broken-violin\n",
      "\n",
      "https://proxy.scrapeops.io/v1/?api_key=&url=https%3A%2F%2Fwww.fanfiction.net%2Fs%2F14107624%2F1%2FT%25C5%25B7-ar-y-Mynydd\n"
     ]
    },
    {
     "name": "stderr",
     "output_type": "stream",
     "text": [
      "2024-12-04 10:40:09 [scrapy.core.engine] DEBUG: Crawled (200) <GET https://proxy.scrapeops.io/v1/?api_key=&url=https%3A%2F%2Fwww.fanfiction.net%2Fs%2F12294599%2F1%2FUn-gatto-nella-notte> (referer: https://steamdb.info/graph/)\n",
      "2024-12-04 10:40:09 [scrapy.core.engine] DEBUG: Crawled (400) <GET https://proxy.scrapeops.io/v1/?api_key=&url=https%3A%2F%2Fproxy.scrapeops.io%2Fv1%2F%3Fapi_key%3D%26url%3Dhttps%253A%2F%2Fwww.fanfiction.net%2Fs%2F12862612%2F2%2FNot-like-other-people> (referer: https://steamdb.info/graph/)\n",
      "2024-12-04 10:40:09 [scrapy.spidermiddlewares.httperror] INFO: Ignoring response <400 https://proxy.scrapeops.io/v1/?api_key=&url=https%3A%2F%2Fproxy.scrapeops.io%2Fv1%2F%3Fapi_key%3D%26url%3Dhttps%253A%2F%2Fwww.fanfiction.net%2Fs%2F12862612%2F2%2FNot-like-other-people>: HTTP status code is not handled or not allowed\n"
     ]
    },
    {
     "name": "stdout",
     "output_type": "stream",
     "text": [
      "\n"
     ]
    },
    {
     "name": "stderr",
     "output_type": "stream",
     "text": [
      "2024-12-04 10:40:10 [scrapy.core.engine] DEBUG: Crawled (200) <GET https://proxy.scrapeops.io/v1/?api_key=&url=https%3A%2F%2Fwww.fanfiction.net%2Fs%2F14109228%2F1%2FNeglect> (referer: https://steamdb.info/graph/)\n",
      "2024-12-04 10:40:10 [scrapy.core.engine] DEBUG: Crawled (200) <GET https://proxy.scrapeops.io/v1/?api_key=&url=https%3A%2F%2Fwww.fanfiction.net%2Fs%2F14111623%2F1%2FThe-Adventure-of-the-American-Hatchet> (referer: https://steamdb.info/graph/)\n",
      "2024-12-04 10:40:10 [scrapy.core.engine] DEBUG: Crawled (200) <GET https://proxy.scrapeops.io/v1/?api_key=&url=https%3A%2F%2Fwww.fanfiction.net%2Fs%2F9465338%2F1%2FBrothers-Make-the-Best-Friends> (referer: https://steamdb.info/graph/)\n",
      "2024-12-04 10:40:10 [scrapy.core.engine] DEBUG: Crawled (400) <GET https://proxy.scrapeops.io/v1/?api_key=&url=https%3A%2F%2Fproxy.scrapeops.io%2Fv1%2F%3Fapi_key%3D%26url%3Dhttps%253A%2F%2Fwww.fanfiction.net%2Fs%2F14095807%2F2%2FPlease-Don-t> (referer: https://steamdb.info/graph/)\n"
     ]
    },
    {
     "name": "stdout",
     "output_type": "stream",
     "text": [
      "\n",
      "https://proxy.scrapeops.io/v1/?api_key=&url=https%3A%2F%2Fwww.fanfiction.net%2Fs%2F14109228%2F1%2FNeglect\n",
      "\n",
      "https://proxy.scrapeops.io/v1/?api_key=&url=https%3A%2F%2Fwww.fanfiction.net%2Fs%2F14111623%2F1%2FThe-Adventure-of-the-American-Hatchet\n",
      "\n",
      "https://proxy.scrapeops.io/v1/?api_key=&url=https%3A%2F%2Fwww.fanfiction.net%2Fs%2F9465338%2F1%2FBrothers-Make-the-Best-Friends\n"
     ]
    },
    {
     "name": "stderr",
     "output_type": "stream",
     "text": [
      "2024-12-04 10:40:10 [scrapy.spidermiddlewares.httperror] INFO: Ignoring response <400 https://proxy.scrapeops.io/v1/?api_key=&url=https%3A%2F%2Fproxy.scrapeops.io%2Fv1%2F%3Fapi_key%3D%26url%3Dhttps%253A%2F%2Fwww.fanfiction.net%2Fs%2F14095807%2F2%2FPlease-Don-t>: HTTP status code is not handled or not allowed\n",
      "2024-12-04 10:40:11 [scrapy.core.engine] DEBUG: Crawled (200) <GET https://proxy.scrapeops.io/v1/?api_key=&url=https%3A%2F%2Fwww.fanfiction.net%2Fs%2F13899903%2F1%2FThe-Syncode> (referer: https://steamdb.info/graph/)\n",
      "2024-12-04 10:40:11 [scrapy.core.engine] DEBUG: Crawled (400) <GET https://proxy.scrapeops.io/v1/?api_key=&url=https%3A%2F%2Fproxy.scrapeops.io%2Fv1%2F%3Fapi_key%3D%26url%3Dhttps%253A%2F%2Fwww.fanfiction.net%2Fs%2F12661674%2F2%2FHere> (referer: https://steamdb.info/graph/)\n",
      "2024-12-04 10:40:11 [scrapy.core.engine] DEBUG: Crawled (400) <GET https://proxy.scrapeops.io/v1/?api_key=&url=https%3A%2F%2Fproxy.scrapeops.io%2Fv1%2F%3Fapi_key%3D%26url%3Dhttps%253A%2F%2Fwww.fanfiction.net%2Fs%2F14145842%2F2%2FYour-Hand-in-My-Hand> (referer: https://steamdb.info/graph/)\n",
      "2024-12-04 10:40:11 [scrapy.spidermiddlewares.httperror] INFO: Ignoring response <400 https://proxy.scrapeops.io/v1/?api_key=&url=https%3A%2F%2Fproxy.scrapeops.io%2Fv1%2F%3Fapi_key%3D%26url%3Dhttps%253A%2F%2Fwww.fanfiction.net%2Fs%2F12661674%2F2%2FHere>: HTTP status code is not handled or not allowed\n",
      "2024-12-04 10:40:11 [scrapy.core.engine] DEBUG: Crawled (400) <GET https://proxy.scrapeops.io/v1/?api_key=&url=https%3A%2F%2Fproxy.scrapeops.io%2Fv1%2F%3Fapi_key%3D%26url%3Dhttps%253A%2F%2Fwww.fanfiction.net%2Fs%2F14107624%2F2%2FT%2525C5%2525B7-ar-y-Mynydd> (referer: https://steamdb.info/graph/)\n",
      "2024-12-04 10:40:11 [scrapy.spidermiddlewares.httperror] INFO: Ignoring response <400 https://proxy.scrapeops.io/v1/?api_key=&url=https%3A%2F%2Fproxy.scrapeops.io%2Fv1%2F%3Fapi_key%3D%26url%3Dhttps%253A%2F%2Fwww.fanfiction.net%2Fs%2F14145842%2F2%2FYour-Hand-in-My-Hand>: HTTP status code is not handled or not allowed\n"
     ]
    },
    {
     "name": "stdout",
     "output_type": "stream",
     "text": [
      "\n",
      "https://proxy.scrapeops.io/v1/?api_key=&url=https%3A%2F%2Fwww.fanfiction.net%2Fs%2F13899903%2F1%2FThe-Syncode\n"
     ]
    },
    {
     "name": "stderr",
     "output_type": "stream",
     "text": [
      "2024-12-04 10:40:11 [scrapy.core.engine] DEBUG: Crawled (200) <GET https://proxy.scrapeops.io/v1/?api_key=&url=https%3A%2F%2Fwww.fanfiction.net%2Fs%2F14112476%2F1%2FThe-Little-Things> (referer: https://steamdb.info/graph/)\n",
      "2024-12-04 10:40:11 [scrapy.spidermiddlewares.httperror] INFO: Ignoring response <400 https://proxy.scrapeops.io/v1/?api_key=&url=https%3A%2F%2Fproxy.scrapeops.io%2Fv1%2F%3Fapi_key%3D%26url%3Dhttps%253A%2F%2Fwww.fanfiction.net%2Fs%2F14107624%2F2%2FT%2525C5%2525B7-ar-y-Mynydd>: HTTP status code is not handled or not allowed\n",
      "2024-12-04 10:40:11 [scrapy.core.engine] DEBUG: Crawled (400) <GET https://proxy.scrapeops.io/v1/?api_key=&url=https%3A%2F%2Fproxy.scrapeops.io%2Fv1%2F%3Fapi_key%3D%26url%3Dhttps%253A%2F%2Fwww.fanfiction.net%2Fs%2F13826491%2F2%2FSherlock-The-broken-violin> (referer: https://steamdb.info/graph/)\n",
      "2024-12-04 10:40:11 [scrapy.downloadermiddlewares.retry] DEBUG: Retrying <GET https://proxy.scrapeops.io/v1/?api_key=&url=https%3A%2F%2Fwww.fanfiction.net%2Fs%2F13470539%2F1%2FGhost-of-Christmas-Past> (failed 1 times): 429 Unknown Status\n",
      "2024-12-04 10:40:11 [scrapy.core.engine] DEBUG: Crawled (400) <GET https://proxy.scrapeops.io/v1/?api_key=&url=https%3A%2F%2Fproxy.scrapeops.io%2Fv1%2F%3Fapi_key%3D%26url%3Dhttps%253A%2F%2Fwww.fanfiction.net%2Fs%2F14088013%2F2%2FThe-Storyteller> (referer: https://steamdb.info/graph/)\n",
      "2024-12-04 10:40:11 [scrapy.spidermiddlewares.httperror] INFO: Ignoring response <400 https://proxy.scrapeops.io/v1/?api_key=&url=https%3A%2F%2Fproxy.scrapeops.io%2Fv1%2F%3Fapi_key%3D%26url%3Dhttps%253A%2F%2Fwww.fanfiction.net%2Fs%2F13826491%2F2%2FSherlock-The-broken-violin>: HTTP status code is not handled or not allowed\n",
      "2024-12-04 10:40:11 [scrapy.core.engine] DEBUG: Crawled (400) <GET https://proxy.scrapeops.io/v1/?api_key=&url=https%3A%2F%2Fproxy.scrapeops.io%2Fv1%2F%3Fapi_key%3D%26url%3Dhttps%253A%2F%2Fwww.fanfiction.net%2Fs%2F14111623%2F2%2FThe-Adventure-of-the-American-Hatchet> (referer: https://steamdb.info/graph/)\n",
      "2024-12-04 10:40:11 [scrapy.core.engine] DEBUG: Crawled (400) <GET https://proxy.scrapeops.io/v1/?api_key=&url=https%3A%2F%2Fproxy.scrapeops.io%2Fv1%2F%3Fapi_key%3D%26url%3Dhttps%253A%2F%2Fwww.fanfiction.net%2Fs%2F14109228%2F2%2FNeglect> (referer: https://steamdb.info/graph/)\n",
      "2024-12-04 10:40:11 [scrapy.spidermiddlewares.httperror] INFO: Ignoring response <400 https://proxy.scrapeops.io/v1/?api_key=&url=https%3A%2F%2Fproxy.scrapeops.io%2Fv1%2F%3Fapi_key%3D%26url%3Dhttps%253A%2F%2Fwww.fanfiction.net%2Fs%2F14088013%2F2%2FThe-Storyteller>: HTTP status code is not handled or not allowed\n",
      "2024-12-04 10:40:11 [scrapy.core.engine] DEBUG: Crawled (400) <GET https://proxy.scrapeops.io/v1/?api_key=&url=https%3A%2F%2Fproxy.scrapeops.io%2Fv1%2F%3Fapi_key%3D%26url%3Dhttps%253A%2F%2Fwww.fanfiction.net%2Fs%2F9465338%2F2%2FBrothers-Make-the-Best-Friends> (referer: https://steamdb.info/graph/)\n",
      "2024-12-04 10:40:11 [scrapy.spidermiddlewares.httperror] INFO: Ignoring response <400 https://proxy.scrapeops.io/v1/?api_key=&url=https%3A%2F%2Fproxy.scrapeops.io%2Fv1%2F%3Fapi_key%3D%26url%3Dhttps%253A%2F%2Fwww.fanfiction.net%2Fs%2F14111623%2F2%2FThe-Adventure-of-the-American-Hatchet>: HTTP status code is not handled or not allowed\n",
      "2024-12-04 10:40:11 [scrapy.downloadermiddlewares.retry] DEBUG: Retrying <GET https://proxy.scrapeops.io/v1/?api_key=&url=https%3A%2F%2Fwww.fanfiction.net%2Fs%2F14065953%2F1%2FA-Scandal-in-the-World-Of-Goldfish> (failed 1 times): 429 Unknown Status\n",
      "2024-12-04 10:40:11 [scrapy.spidermiddlewares.httperror] INFO: Ignoring response <400 https://proxy.scrapeops.io/v1/?api_key=&url=https%3A%2F%2Fproxy.scrapeops.io%2Fv1%2F%3Fapi_key%3D%26url%3Dhttps%253A%2F%2Fwww.fanfiction.net%2Fs%2F14109228%2F2%2FNeglect>: HTTP status code is not handled or not allowed\n"
     ]
    },
    {
     "name": "stdout",
     "output_type": "stream",
     "text": [
      "\n",
      "https://proxy.scrapeops.io/v1/?api_key=&url=https%3A%2F%2Fwww.fanfiction.net%2Fs%2F14112476%2F1%2FThe-Little-Things\n"
     ]
    },
    {
     "name": "stderr",
     "output_type": "stream",
     "text": [
      "2024-12-04 10:40:11 [scrapy.core.engine] DEBUG: Crawled (400) <GET https://proxy.scrapeops.io/v1/?api_key=&url=https%3A%2F%2Fproxy.scrapeops.io%2Fv1%2F%3Fapi_key%3D%26url%3Dhttps%253A%2F%2Fwww.fanfiction.net%2Fs%2F13899903%2F2%2FThe-Syncode> (referer: https://steamdb.info/graph/)\n",
      "2024-12-04 10:40:11 [scrapy.spidermiddlewares.httperror] INFO: Ignoring response <400 https://proxy.scrapeops.io/v1/?api_key=&url=https%3A%2F%2Fproxy.scrapeops.io%2Fv1%2F%3Fapi_key%3D%26url%3Dhttps%253A%2F%2Fwww.fanfiction.net%2Fs%2F9465338%2F2%2FBrothers-Make-the-Best-Friends>: HTTP status code is not handled or not allowed\n",
      "2024-12-04 10:40:11 [scrapy.spidermiddlewares.httperror] INFO: Ignoring response <400 https://proxy.scrapeops.io/v1/?api_key=&url=https%3A%2F%2Fproxy.scrapeops.io%2Fv1%2F%3Fapi_key%3D%26url%3Dhttps%253A%2F%2Fwww.fanfiction.net%2Fs%2F13899903%2F2%2FThe-Syncode>: HTTP status code is not handled or not allowed\n",
      "2024-12-04 10:40:12 [scrapy.core.engine] DEBUG: Crawled (200) <GET https://proxy.scrapeops.io/v1/?api_key=&url=https%3A%2F%2Fwww.fanfiction.net%2Fs%2F14115869%2F1%2FV%25C5%25A1ude-stejn%25C3%25A9> (referer: https://steamdb.info/graph/)\n"
     ]
    },
    {
     "name": "stdout",
     "output_type": "stream",
     "text": [
      "\n"
     ]
    },
    {
     "name": "stderr",
     "output_type": "stream",
     "text": [
      "2024-12-04 10:40:12 [scrapy.core.engine] DEBUG: Crawled (200) <GET https://proxy.scrapeops.io/v1/?api_key=&url=https%3A%2F%2Fwww.fanfiction.net%2Fs%2F14113936%2F1%2FJohn-s-500-Years> (referer: https://steamdb.info/graph/)\n"
     ]
    },
    {
     "name": "stdout",
     "output_type": "stream",
     "text": [
      "\n",
      "https://proxy.scrapeops.io/v1/?api_key=&url=https%3A%2F%2Fwww.fanfiction.net%2Fs%2F14113936%2F1%2FJohn-s-500-Years\n"
     ]
    },
    {
     "name": "stderr",
     "output_type": "stream",
     "text": [
      "2024-12-04 10:40:13 [scrapy.core.engine] DEBUG: Crawled (200) <GET https://proxy.scrapeops.io/v1/?api_key=&url=https%3A%2F%2Fwww.fanfiction.net%2Fs%2F13920945%2F1%2FSherlock-s-Adventures-Part-1-London> (referer: https://steamdb.info/graph/)\n",
      "2024-12-04 10:40:13 [scrapy.core.engine] DEBUG: Crawled (200) <GET https://proxy.scrapeops.io/v1/?api_key=&url=https%3A%2F%2Fwww.fanfiction.net%2Fs%2F14113043%2F1%2FEt-tandis-que-la-lune-nous-observait> (referer: https://steamdb.info/graph/)\n",
      "2024-12-04 10:40:13 [scrapy.core.engine] DEBUG: Crawled (400) <GET https://proxy.scrapeops.io/v1/?api_key=&url=https%3A%2F%2Fproxy.scrapeops.io%2Fv1%2F%3Fapi_key%3D%26url%3Dhttps%253A%2F%2Fwww.fanfiction.net%2Fs%2F14112476%2F2%2FThe-Little-Things> (referer: https://steamdb.info/graph/)\n",
      "2024-12-04 10:40:13 [scrapy.core.engine] DEBUG: Crawled (200) <GET https://proxy.scrapeops.io/v1/?api_key=&url=https%3A%2F%2Fwww.fanfiction.net%2Fs%2F14125084%2F1%2FLeft-of-Center> (referer: https://steamdb.info/graph/)\n",
      "2024-12-04 10:40:13 [scrapy.spidermiddlewares.httperror] INFO: Ignoring response <400 https://proxy.scrapeops.io/v1/?api_key=&url=https%3A%2F%2Fproxy.scrapeops.io%2Fv1%2F%3Fapi_key%3D%26url%3Dhttps%253A%2F%2Fwww.fanfiction.net%2Fs%2F14112476%2F2%2FThe-Little-Things>: HTTP status code is not handled or not allowed\n",
      "2024-12-04 10:40:13 [scrapy.core.engine] DEBUG: Crawled (200) <GET https://proxy.scrapeops.io/v1/?api_key=&url=https%3A%2F%2Fwww.fanfiction.net%2Fs%2F11797543%2F1%2FJust-drop-it-John-lock-edition> (referer: https://steamdb.info/graph/)\n"
     ]
    },
    {
     "name": "stdout",
     "output_type": "stream",
     "text": [
      "\n",
      "\n",
      "\n",
      "https://proxy.scrapeops.io/v1/?api_key=&url=https%3A%2F%2Fwww.fanfiction.net%2Fs%2F14125084%2F1%2FLeft-of-Center\n",
      "\n",
      "https://proxy.scrapeops.io/v1/?api_key=&url=https%3A%2F%2Fwww.fanfiction.net%2Fs%2F11797543%2F1%2FJust-drop-it-John-lock-edition\n"
     ]
    },
    {
     "name": "stderr",
     "output_type": "stream",
     "text": [
      "2024-12-04 10:40:14 [scrapy.core.engine] DEBUG: Crawled (200) <GET https://proxy.scrapeops.io/v1/?api_key=&url=https%3A%2F%2Fwww.fanfiction.net%2Fs%2F14117223%2F1%2F%25C4%2590%25E1%25BB%25A7-t%25E1%25BB%25B1-do-%25C4%2591%25E1%25BB%2583-d%25C3%25A1m-ch%25E1%25BA%25BFt> (referer: https://steamdb.info/graph/)\n"
     ]
    },
    {
     "name": "stdout",
     "output_type": "stream",
     "text": [
      "\n"
     ]
    },
    {
     "name": "stderr",
     "output_type": "stream",
     "text": [
      "2024-12-04 10:40:15 [scrapy.core.engine] DEBUG: Crawled (200) <GET https://proxy.scrapeops.io/v1/?api_key=&url=https%3A%2F%2Fwww.fanfiction.net%2Fs%2F14116486%2F1%2FThe-liberty-to-die> (referer: https://steamdb.info/graph/)\n",
      "2024-12-04 10:40:15 [scrapy.core.engine] DEBUG: Crawled (200) <GET https://proxy.scrapeops.io/v1/?api_key=&url=https%3A%2F%2Fwww.fanfiction.net%2Fs%2F14134598%2F1%2FI-ll-Tell-You-Tomorrow> (referer: https://steamdb.info/graph/)\n"
     ]
    },
    {
     "name": "stdout",
     "output_type": "stream",
     "text": [
      "\n",
      "https://proxy.scrapeops.io/v1/?api_key=&url=https%3A%2F%2Fwww.fanfiction.net%2Fs%2F14116486%2F1%2FThe-liberty-to-die\n",
      "\n",
      "https://proxy.scrapeops.io/v1/?api_key=&url=https%3A%2F%2Fwww.fanfiction.net%2Fs%2F14134598%2F1%2FI-ll-Tell-You-Tomorrow\n"
     ]
    },
    {
     "name": "stderr",
     "output_type": "stream",
     "text": [
      "2024-12-04 10:40:16 [scrapy.core.engine] DEBUG: Crawled (200) <GET https://proxy.scrapeops.io/v1/?api_key=&url=https%3A%2F%2Fwww.fanfiction.net%2Fs%2F14139598%2F1%2FClou%25C3%25A9-Au-Lit> (referer: https://steamdb.info/graph/)\n",
      "2024-12-04 10:40:16 [scrapy.core.engine] DEBUG: Crawled (200) <GET https://proxy.scrapeops.io/v1/?api_key=&url=https%3A%2F%2Fwww.fanfiction.net%2Fs%2F14139767%2F1%2FJohn-has-a-fever-And-a-bad-day> (referer: https://steamdb.info/graph/)\n",
      "2024-12-04 10:40:16 [scrapy.core.engine] DEBUG: Crawled (400) <GET https://proxy.scrapeops.io/v1/?api_key=&url=https%3A%2F%2Fproxy.scrapeops.io%2Fv1%2F%3Fapi_key%3D%26url%3Dhttps%253A%2F%2Fwww.fanfiction.net%2Fs%2F14113936%2F2%2FJohn-s-500-Years> (referer: https://steamdb.info/graph/)\n",
      "2024-12-04 10:40:16 [scrapy.spidermiddlewares.httperror] INFO: Ignoring response <400 https://proxy.scrapeops.io/v1/?api_key=&url=https%3A%2F%2Fproxy.scrapeops.io%2Fv1%2F%3Fapi_key%3D%26url%3Dhttps%253A%2F%2Fwww.fanfiction.net%2Fs%2F14113936%2F2%2FJohn-s-500-Years>: HTTP status code is not handled or not allowed\n"
     ]
    },
    {
     "name": "stdout",
     "output_type": "stream",
     "text": [
      "\n",
      "\n",
      "https://proxy.scrapeops.io/v1/?api_key=&url=https%3A%2F%2Fwww.fanfiction.net%2Fs%2F14139767%2F1%2FJohn-has-a-fever-And-a-bad-day\n"
     ]
    },
    {
     "name": "stderr",
     "output_type": "stream",
     "text": [
      "2024-12-04 10:40:17 [scrapy.downloadermiddlewares.retry] DEBUG: Retrying <GET https://proxy.scrapeops.io/v1/?api_key=&url=https%3A%2F%2Fwww.fanfiction.net%2Fs%2F14027830%2F1%2FEchoes-from-the-Darkness> (failed 1 times): 429 Unknown Status\n",
      "2024-12-04 10:40:17 [scrapy.downloadermiddlewares.retry] DEBUG: Retrying <GET https://proxy.scrapeops.io/v1/?api_key=&url=https%3A%2F%2Fwww.fanfiction.net%2Fs%2F14131011%2F1%2FBig-Brother> (failed 1 times): 429 Unknown Status\n",
      "2024-12-04 10:40:17 [scrapy.core.engine] DEBUG: Crawled (400) <GET https://proxy.scrapeops.io/v1/?api_key=&url=https%3A%2F%2Fproxy.scrapeops.io%2Fv1%2F%3Fapi_key%3D%26url%3Dhttps%253A%2F%2Fwww.fanfiction.net%2Fs%2F14125084%2F2%2FLeft-of-Center> (referer: https://steamdb.info/graph/)\n",
      "2024-12-04 10:40:17 [scrapy.core.engine] DEBUG: Crawled (200) <GET https://proxy.scrapeops.io/v1/?api_key=&url=https%3A%2F%2Fwww.fanfiction.net%2Fs%2F14123504%2F1%2FJust-Dance> (referer: https://steamdb.info/graph/)\n",
      "2024-12-04 10:40:17 [scrapy.core.engine] DEBUG: Crawled (400) <GET https://proxy.scrapeops.io/v1/?api_key=&url=https%3A%2F%2Fproxy.scrapeops.io%2Fv1%2F%3Fapi_key%3D%26url%3Dhttps%253A%2F%2Fwww.fanfiction.net%2Fs%2F11797543%2F2%2FJust-drop-it-John-lock-edition> (referer: https://steamdb.info/graph/)\n",
      "2024-12-04 10:40:17 [scrapy.spidermiddlewares.httperror] INFO: Ignoring response <400 https://proxy.scrapeops.io/v1/?api_key=&url=https%3A%2F%2Fproxy.scrapeops.io%2Fv1%2F%3Fapi_key%3D%26url%3Dhttps%253A%2F%2Fwww.fanfiction.net%2Fs%2F14125084%2F2%2FLeft-of-Center>: HTTP status code is not handled or not allowed\n",
      "2024-12-04 10:40:17 [scrapy.spidermiddlewares.httperror] INFO: Ignoring response <400 https://proxy.scrapeops.io/v1/?api_key=&url=https%3A%2F%2Fproxy.scrapeops.io%2Fv1%2F%3Fapi_key%3D%26url%3Dhttps%253A%2F%2Fwww.fanfiction.net%2Fs%2F11797543%2F2%2FJust-drop-it-John-lock-edition>: HTTP status code is not handled or not allowed\n"
     ]
    },
    {
     "name": "stdout",
     "output_type": "stream",
     "text": [
      "\n",
      "https://proxy.scrapeops.io/v1/?api_key=&url=https%3A%2F%2Fwww.fanfiction.net%2Fs%2F14123504%2F1%2FJust-Dance\n"
     ]
    },
    {
     "name": "stderr",
     "output_type": "stream",
     "text": [
      "2024-12-04 10:40:18 [scrapy.core.engine] DEBUG: Crawled (200) <GET https://proxy.scrapeops.io/v1/?api_key=&url=https%3A%2F%2Fwww.fanfiction.net%2Fs%2F14136225%2F1%2FThe-End-of-an-Era> (referer: https://steamdb.info/graph/)\n",
      "2024-12-04 10:40:18 [scrapy.core.engine] DEBUG: Crawled (200) <GET https://proxy.scrapeops.io/v1/?api_key=&url=https%3A%2F%2Fwww.fanfiction.net%2Fs%2F14142015%2F1%2FThe-Magician-s-Assistant> (referer: https://steamdb.info/graph/)\n",
      "2024-12-04 10:40:18 [scrapy.core.engine] DEBUG: Crawled (200) <GET https://proxy.scrapeops.io/v1/?api_key=&url=https%3A%2F%2Fwww.fanfiction.net%2Fs%2F14138126%2F1%2FContrebande-et-licorne> (referer: https://steamdb.info/graph/)\n",
      "2024-12-04 10:40:18 [scrapy.core.engine] DEBUG: Crawled (400) <GET https://proxy.scrapeops.io/v1/?api_key=&url=https%3A%2F%2Fproxy.scrapeops.io%2Fv1%2F%3Fapi_key%3D%26url%3Dhttps%253A%2F%2Fwww.fanfiction.net%2Fs%2F14134598%2F2%2FI-ll-Tell-You-Tomorrow> (referer: https://steamdb.info/graph/)\n",
      "2024-12-04 10:40:18 [scrapy.core.engine] DEBUG: Crawled (400) <GET https://proxy.scrapeops.io/v1/?api_key=&url=https%3A%2F%2Fproxy.scrapeops.io%2Fv1%2F%3Fapi_key%3D%26url%3Dhttps%253A%2F%2Fwww.fanfiction.net%2Fs%2F14116486%2F2%2FThe-liberty-to-die> (referer: https://steamdb.info/graph/)\n",
      "2024-12-04 10:40:18 [scrapy.spidermiddlewares.httperror] INFO: Ignoring response <400 https://proxy.scrapeops.io/v1/?api_key=&url=https%3A%2F%2Fproxy.scrapeops.io%2Fv1%2F%3Fapi_key%3D%26url%3Dhttps%253A%2F%2Fwww.fanfiction.net%2Fs%2F14134598%2F2%2FI-ll-Tell-You-Tomorrow>: HTTP status code is not handled or not allowed\n",
      "2024-12-04 10:40:18 [scrapy.spidermiddlewares.httperror] INFO: Ignoring response <400 https://proxy.scrapeops.io/v1/?api_key=&url=https%3A%2F%2Fproxy.scrapeops.io%2Fv1%2F%3Fapi_key%3D%26url%3Dhttps%253A%2F%2Fwww.fanfiction.net%2Fs%2F14116486%2F2%2FThe-liberty-to-die>: HTTP status code is not handled or not allowed\n",
      "2024-12-04 10:40:18 [scrapy.core.engine] DEBUG: Crawled (400) <GET https://proxy.scrapeops.io/v1/?api_key=&url=https%3A%2F%2Fproxy.scrapeops.io%2Fv1%2F%3Fapi_key%3D%26url%3Dhttps%253A%2F%2Fwww.fanfiction.net%2Fs%2F14139767%2F2%2FJohn-has-a-fever-And-a-bad-day> (referer: https://steamdb.info/graph/)\n"
     ]
    },
    {
     "name": "stdout",
     "output_type": "stream",
     "text": [
      "\n",
      "https://proxy.scrapeops.io/v1/?api_key=&url=https%3A%2F%2Fwww.fanfiction.net%2Fs%2F14136225%2F1%2FThe-End-of-an-Era\n",
      "\n",
      "https://proxy.scrapeops.io/v1/?api_key=&url=https%3A%2F%2Fwww.fanfiction.net%2Fs%2F14142015%2F1%2FThe-Magician-s-Assistant\n",
      "\n"
     ]
    },
    {
     "name": "stderr",
     "output_type": "stream",
     "text": [
      "2024-12-04 10:40:18 [scrapy.spidermiddlewares.httperror] INFO: Ignoring response <400 https://proxy.scrapeops.io/v1/?api_key=&url=https%3A%2F%2Fproxy.scrapeops.io%2Fv1%2F%3Fapi_key%3D%26url%3Dhttps%253A%2F%2Fwww.fanfiction.net%2Fs%2F14139767%2F2%2FJohn-has-a-fever-And-a-bad-day>: HTTP status code is not handled or not allowed\n",
      "2024-12-04 10:40:19 [scrapy.core.engine] DEBUG: Crawled (200) <GET https://proxy.scrapeops.io/v1/?api_key=&url=https%3A%2F%2Fwww.fanfiction.net%2Fs%2F13629049%2F1%2FThe-Book-of-Uncommon-Frequencies> (referer: https://steamdb.info/graph/)\n"
     ]
    },
    {
     "name": "stdout",
     "output_type": "stream",
     "text": [
      "\n",
      "https://proxy.scrapeops.io/v1/?api_key=&url=https%3A%2F%2Fwww.fanfiction.net%2Fs%2F13629049%2F1%2FThe-Book-of-Uncommon-Frequencies\n"
     ]
    },
    {
     "name": "stderr",
     "output_type": "stream",
     "text": [
      "2024-12-04 10:40:19 [scrapy.core.engine] DEBUG: Crawled (200) <GET https://proxy.scrapeops.io/v1/?api_key=&url=https%3A%2F%2Fwww.fanfiction.net%2Fs%2F14140155%2F1%2FNot-Boring> (referer: https://steamdb.info/graph/)\n"
     ]
    },
    {
     "name": "stdout",
     "output_type": "stream",
     "text": [
      "\n",
      "https://proxy.scrapeops.io/v1/?api_key=&url=https%3A%2F%2Fwww.fanfiction.net%2Fs%2F14140155%2F1%2FNot-Boring\n"
     ]
    },
    {
     "name": "stderr",
     "output_type": "stream",
     "text": [
      "2024-12-04 10:40:20 [scrapy.core.engine] DEBUG: Crawled (200) <GET https://proxy.scrapeops.io/v1/?api_key=&url=https%3A%2F%2Fwww.fanfiction.net%2Fs%2F14146002%2F1%2FOur-Angel-Rosalind> (referer: https://steamdb.info/graph/)\n",
      "2024-12-04 10:40:20 [scrapy.core.engine] DEBUG: Crawled (200) <GET https://proxy.scrapeops.io/v1/?api_key=&url=https%3A%2F%2Fwww.fanfiction.net%2Fs%2F14152619%2F1%2FUn-Glee-ful> (referer: https://steamdb.info/graph/)\n",
      "2024-12-04 10:40:20 [scrapy.core.engine] DEBUG: Crawled (400) <GET https://proxy.scrapeops.io/v1/?api_key=&url=https%3A%2F%2Fproxy.scrapeops.io%2Fv1%2F%3Fapi_key%3D%26url%3Dhttps%253A%2F%2Fwww.fanfiction.net%2Fs%2F14123504%2F2%2FJust-Dance> (referer: https://steamdb.info/graph/)\n",
      "2024-12-04 10:40:20 [scrapy.spidermiddlewares.httperror] INFO: Ignoring response <400 https://proxy.scrapeops.io/v1/?api_key=&url=https%3A%2F%2Fproxy.scrapeops.io%2Fv1%2F%3Fapi_key%3D%26url%3Dhttps%253A%2F%2Fwww.fanfiction.net%2Fs%2F14123504%2F2%2FJust-Dance>: HTTP status code is not handled or not allowed\n"
     ]
    },
    {
     "name": "stdout",
     "output_type": "stream",
     "text": [
      "\n",
      "https://proxy.scrapeops.io/v1/?api_key=&url=https%3A%2F%2Fwww.fanfiction.net%2Fs%2F14146002%2F1%2FOur-Angel-Rosalind\n",
      "\n",
      "https://proxy.scrapeops.io/v1/?api_key=&url=https%3A%2F%2Fwww.fanfiction.net%2Fs%2F14152619%2F1%2FUn-Glee-ful\n"
     ]
    },
    {
     "name": "stderr",
     "output_type": "stream",
     "text": [
      "2024-12-04 10:40:20 [scrapy.core.engine] DEBUG: Crawled (200) <GET https://proxy.scrapeops.io/v1/?api_key=&url=https%3A%2F%2Fwww.fanfiction.net%2Fs%2F14154440%2F1%2FTo-Burn-The-Heart> (referer: https://steamdb.info/graph/)\n"
     ]
    },
    {
     "name": "stdout",
     "output_type": "stream",
     "text": [
      "\n",
      "https://proxy.scrapeops.io/v1/?api_key=&url=https%3A%2F%2Fwww.fanfiction.net%2Fs%2F14154440%2F1%2FTo-Burn-The-Heart\n"
     ]
    },
    {
     "name": "stderr",
     "output_type": "stream",
     "text": [
      "2024-12-04 10:40:21 [scrapy.core.engine] DEBUG: Crawled (200) <GET https://proxy.scrapeops.io/v1/?api_key=&url=https%3A%2F%2Fwww.fanfiction.net%2Fs%2F14154586%2F1%2FAn-Updated-Sherlock-BBC-Timeline> (referer: https://steamdb.info/graph/)\n",
      "2024-12-04 10:40:21 [scrapy.core.engine] DEBUG: Crawled (200) <GET https://proxy.scrapeops.io/v1/?api_key=&url=https%3A%2F%2Fwww.fanfiction.net%2Fs%2F14154582%2F1%2FWhispers-in-the-Wind> (referer: https://steamdb.info/graph/)\n",
      "2024-12-04 10:40:21 [scrapy.core.engine] DEBUG: Crawled (400) <GET https://proxy.scrapeops.io/v1/?api_key=&url=https%3A%2F%2Fproxy.scrapeops.io%2Fv1%2F%3Fapi_key%3D%26url%3Dhttps%253A%2F%2Fwww.fanfiction.net%2Fs%2F14142015%2F2%2FThe-Magician-s-Assistant> (referer: https://steamdb.info/graph/)\n",
      "2024-12-04 10:40:21 [scrapy.spidermiddlewares.httperror] INFO: Ignoring response <400 https://proxy.scrapeops.io/v1/?api_key=&url=https%3A%2F%2Fproxy.scrapeops.io%2Fv1%2F%3Fapi_key%3D%26url%3Dhttps%253A%2F%2Fwww.fanfiction.net%2Fs%2F14142015%2F2%2FThe-Magician-s-Assistant>: HTTP status code is not handled or not allowed\n",
      "2024-12-04 10:40:21 [scrapy.core.engine] DEBUG: Crawled (400) <GET https://proxy.scrapeops.io/v1/?api_key=&url=https%3A%2F%2Fproxy.scrapeops.io%2Fv1%2F%3Fapi_key%3D%26url%3Dhttps%253A%2F%2Fwww.fanfiction.net%2Fs%2F14136225%2F2%2FThe-End-of-an-Era> (referer: https://steamdb.info/graph/)\n",
      "2024-12-04 10:40:21 [scrapy.core.engine] DEBUG: Crawled (200) <GET https://proxy.scrapeops.io/v1/?api_key=&url=https%3A%2F%2Fwww.fanfiction.net%2Fs%2F13966379%2F1%2FFictober-2021> (referer: https://steamdb.info/graph/)\n"
     ]
    },
    {
     "name": "stdout",
     "output_type": "stream",
     "text": [
      "\n",
      "https://proxy.scrapeops.io/v1/?api_key=&url=https%3A%2F%2Fwww.fanfiction.net%2Fs%2F14154586%2F1%2FAn-Updated-Sherlock-BBC-Timeline\n",
      "\n",
      "https://proxy.scrapeops.io/v1/?api_key=&url=https%3A%2F%2Fwww.fanfiction.net%2Fs%2F14154582%2F1%2FWhispers-in-the-Wind\n"
     ]
    },
    {
     "name": "stderr",
     "output_type": "stream",
     "text": [
      "2024-12-04 10:40:22 [scrapy.spidermiddlewares.httperror] INFO: Ignoring response <400 https://proxy.scrapeops.io/v1/?api_key=&url=https%3A%2F%2Fproxy.scrapeops.io%2Fv1%2F%3Fapi_key%3D%26url%3Dhttps%253A%2F%2Fwww.fanfiction.net%2Fs%2F14136225%2F2%2FThe-End-of-an-Era>: HTTP status code is not handled or not allowed\n",
      "2024-12-04 10:40:22 [scrapy.core.engine] DEBUG: Crawled (400) <GET https://proxy.scrapeops.io/v1/?api_key=&url=https%3A%2F%2Fproxy.scrapeops.io%2Fv1%2F%3Fapi_key%3D%26url%3Dhttps%253A%2F%2Fwww.fanfiction.net%2Fs%2F13629049%2F2%2FThe-Book-of-Uncommon-Frequencies> (referer: https://steamdb.info/graph/)\n",
      "2024-12-04 10:40:22 [scrapy.core.engine] DEBUG: Crawled (400) <GET https://proxy.scrapeops.io/v1/?api_key=&url=https%3A%2F%2Fproxy.scrapeops.io%2Fv1%2F%3Fapi_key%3D%26url%3Dhttps%253A%2F%2Fwww.fanfiction.net%2Fs%2F14140155%2F2%2FNot-Boring> (referer: https://steamdb.info/graph/)\n",
      "2024-12-04 10:40:22 [scrapy.spidermiddlewares.httperror] INFO: Ignoring response <400 https://proxy.scrapeops.io/v1/?api_key=&url=https%3A%2F%2Fproxy.scrapeops.io%2Fv1%2F%3Fapi_key%3D%26url%3Dhttps%253A%2F%2Fwww.fanfiction.net%2Fs%2F13629049%2F2%2FThe-Book-of-Uncommon-Frequencies>: HTTP status code is not handled or not allowed\n",
      "2024-12-04 10:40:22 [scrapy.core.engine] DEBUG: Crawled (400) <GET https://proxy.scrapeops.io/v1/?api_key=&url=https%3A%2F%2Fproxy.scrapeops.io%2Fv1%2F%3Fapi_key%3D%26url%3Dhttps%253A%2F%2Fwww.fanfiction.net%2Fs%2F14146002%2F2%2FOur-Angel-Rosalind> (referer: https://steamdb.info/graph/)\n",
      "2024-12-04 10:40:22 [scrapy.spidermiddlewares.httperror] INFO: Ignoring response <400 https://proxy.scrapeops.io/v1/?api_key=&url=https%3A%2F%2Fproxy.scrapeops.io%2Fv1%2F%3Fapi_key%3D%26url%3Dhttps%253A%2F%2Fwww.fanfiction.net%2Fs%2F14140155%2F2%2FNot-Boring>: HTTP status code is not handled or not allowed\n",
      "2024-12-04 10:40:22 [scrapy.core.engine] DEBUG: Crawled (200) <GET https://proxy.scrapeops.io/v1/?api_key=&url=https%3A%2F%2Fwww.fanfiction.net%2Fs%2F14152399%2F1%2FDangerous-Distraction> (referer: https://steamdb.info/graph/)\n",
      "2024-12-04 10:40:22 [scrapy.core.engine] DEBUG: Crawled (400) <GET https://proxy.scrapeops.io/v1/?api_key=&url=https%3A%2F%2Fproxy.scrapeops.io%2Fv1%2F%3Fapi_key%3D%26url%3Dhttps%253A%2F%2Fwww.fanfiction.net%2Fs%2F14152619%2F2%2FUn-Glee-ful> (referer: https://steamdb.info/graph/)\n"
     ]
    },
    {
     "name": "stdout",
     "output_type": "stream",
     "text": [
      "\n",
      "https://proxy.scrapeops.io/v1/?api_key=&url=https%3A%2F%2Fwww.fanfiction.net%2Fs%2F13966379%2F1%2FFictober-2021\n"
     ]
    },
    {
     "name": "stderr",
     "output_type": "stream",
     "text": [
      "2024-12-04 10:40:22 [scrapy.spidermiddlewares.httperror] INFO: Ignoring response <400 https://proxy.scrapeops.io/v1/?api_key=&url=https%3A%2F%2Fproxy.scrapeops.io%2Fv1%2F%3Fapi_key%3D%26url%3Dhttps%253A%2F%2Fwww.fanfiction.net%2Fs%2F14146002%2F2%2FOur-Angel-Rosalind>: HTTP status code is not handled or not allowed\n",
      "2024-12-04 10:40:22 [scrapy.core.engine] DEBUG: Crawled (200) <GET https://proxy.scrapeops.io/v1/?api_key=&url=https%3A%2F%2Fwww.fanfiction.net%2Fs%2F13980524%2F1%2FRekindled-Ties> (referer: https://steamdb.info/graph/)\n",
      "2024-12-04 10:40:22 [scrapy.downloadermiddlewares.retry] DEBUG: Retrying <GET https://proxy.scrapeops.io/v1/?api_key=&url=https%3A%2F%2Fwww.fanfiction.net%2Fs%2F14145999%2F1%2FDance-into-my-heart> (failed 1 times): 429 Unknown Status\n",
      "2024-12-04 10:40:22 [scrapy.core.engine] DEBUG: Crawled (400) <GET https://proxy.scrapeops.io/v1/?api_key=&url=https%3A%2F%2Fproxy.scrapeops.io%2Fv1%2F%3Fapi_key%3D%26url%3Dhttps%253A%2F%2Fwww.fanfiction.net%2Fs%2F14154440%2F2%2FTo-Burn-The-Heart> (referer: https://steamdb.info/graph/)\n",
      "2024-12-04 10:40:22 [scrapy.spidermiddlewares.httperror] INFO: Ignoring response <400 https://proxy.scrapeops.io/v1/?api_key=&url=https%3A%2F%2Fproxy.scrapeops.io%2Fv1%2F%3Fapi_key%3D%26url%3Dhttps%253A%2F%2Fwww.fanfiction.net%2Fs%2F14152619%2F2%2FUn-Glee-ful>: HTTP status code is not handled or not allowed\n",
      "2024-12-04 10:40:22 [scrapy.core.engine] DEBUG: Crawled (400) <GET https://proxy.scrapeops.io/v1/?api_key=&url=https%3A%2F%2Fproxy.scrapeops.io%2Fv1%2F%3Fapi_key%3D%26url%3Dhttps%253A%2F%2Fwww.fanfiction.net%2Fs%2F14154582%2F2%2FWhispers-in-the-Wind> (referer: https://steamdb.info/graph/)\n",
      "2024-12-04 10:40:22 [scrapy.core.engine] DEBUG: Crawled (400) <GET https://proxy.scrapeops.io/v1/?api_key=&url=https%3A%2F%2Fproxy.scrapeops.io%2Fv1%2F%3Fapi_key%3D%26url%3Dhttps%253A%2F%2Fwww.fanfiction.net%2Fs%2F14154586%2F2%2FAn-Updated-Sherlock-BBC-Timeline> (referer: https://steamdb.info/graph/)\n",
      "2024-12-04 10:40:22 [scrapy.spidermiddlewares.httperror] INFO: Ignoring response <400 https://proxy.scrapeops.io/v1/?api_key=&url=https%3A%2F%2Fproxy.scrapeops.io%2Fv1%2F%3Fapi_key%3D%26url%3Dhttps%253A%2F%2Fwww.fanfiction.net%2Fs%2F14154440%2F2%2FTo-Burn-The-Heart>: HTTP status code is not handled or not allowed\n",
      "2024-12-04 10:40:22 [scrapy.spidermiddlewares.httperror] INFO: Ignoring response <400 https://proxy.scrapeops.io/v1/?api_key=&url=https%3A%2F%2Fproxy.scrapeops.io%2Fv1%2F%3Fapi_key%3D%26url%3Dhttps%253A%2F%2Fwww.fanfiction.net%2Fs%2F14154582%2F2%2FWhispers-in-the-Wind>: HTTP status code is not handled or not allowed\n",
      "2024-12-04 10:40:22 [scrapy.core.engine] DEBUG: Crawled (400) <GET https://proxy.scrapeops.io/v1/?api_key=&url=https%3A%2F%2Fproxy.scrapeops.io%2Fv1%2F%3Fapi_key%3D%26url%3Dhttps%253A%2F%2Fwww.fanfiction.net%2Fs%2F13966379%2F2%2FFictober-2021> (referer: https://steamdb.info/graph/)\n",
      "2024-12-04 10:40:22 [scrapy.spidermiddlewares.httperror] INFO: Ignoring response <400 https://proxy.scrapeops.io/v1/?api_key=&url=https%3A%2F%2Fproxy.scrapeops.io%2Fv1%2F%3Fapi_key%3D%26url%3Dhttps%253A%2F%2Fwww.fanfiction.net%2Fs%2F14154586%2F2%2FAn-Updated-Sherlock-BBC-Timeline>: HTTP status code is not handled or not allowed\n"
     ]
    },
    {
     "name": "stdout",
     "output_type": "stream",
     "text": [
      "\n",
      "https://proxy.scrapeops.io/v1/?api_key=&url=https%3A%2F%2Fwww.fanfiction.net%2Fs%2F14152399%2F1%2FDangerous-Distraction\n",
      "\n",
      "https://proxy.scrapeops.io/v1/?api_key=&url=https%3A%2F%2Fwww.fanfiction.net%2Fs%2F13980524%2F1%2FRekindled-Ties\n"
     ]
    },
    {
     "name": "stderr",
     "output_type": "stream",
     "text": [
      "2024-12-04 10:40:22 [scrapy.downloadermiddlewares.retry] DEBUG: Retrying <GET https://proxy.scrapeops.io/v1/?api_key=&url=https%3A%2F%2Fwww.fanfiction.net%2Fs%2F11146230%2F1%2FFirst-Time-For-Everything> (failed 1 times): 429 Unknown Status\n",
      "2024-12-04 10:40:22 [scrapy.spidermiddlewares.httperror] INFO: Ignoring response <400 https://proxy.scrapeops.io/v1/?api_key=&url=https%3A%2F%2Fproxy.scrapeops.io%2Fv1%2F%3Fapi_key%3D%26url%3Dhttps%253A%2F%2Fwww.fanfiction.net%2Fs%2F13966379%2F2%2FFictober-2021>: HTTP status code is not handled or not allowed\n",
      "2024-12-04 10:40:22 [scrapy.core.engine] DEBUG: Crawled (200) <GET https://proxy.scrapeops.io/v1/?api_key=&url=https%3A%2F%2Fwww.fanfiction.net%2Fs%2F14157356%2F1%2FRemember-Me> (referer: https://steamdb.info/graph/)\n"
     ]
    },
    {
     "name": "stdout",
     "output_type": "stream",
     "text": [
      "\n",
      "https://proxy.scrapeops.io/v1/?api_key=&url=https%3A%2F%2Fwww.fanfiction.net%2Fs%2F14157356%2F1%2FRemember-Me\n"
     ]
    },
    {
     "name": "stderr",
     "output_type": "stream",
     "text": [
      "2024-12-04 10:40:23 [scrapy.core.engine] DEBUG: Crawled (200) <GET https://proxy.scrapeops.io/v1/?api_key=&url=https%3A%2F%2Fwww.fanfiction.net%2Fs%2F14157360%2F1%2FBetter-Together> (referer: https://steamdb.info/graph/)\n",
      "2024-12-04 10:40:23 [scrapy.core.engine] DEBUG: Crawled (200) <GET https://proxy.scrapeops.io/v1/?api_key=&url=https%3A%2F%2Fwww.fanfiction.net%2Fs%2F14157709%2F1%2FStruck-By-Lightning> (referer: https://steamdb.info/graph/)\n",
      "2024-12-04 10:40:24 [scrapy.core.engine] DEBUG: Crawled (200) <GET https://proxy.scrapeops.io/v1/?api_key=&url=https%3A%2F%2Fwww.fanfiction.net%2Fs%2F14157374%2F1%2FThe-Photo> (referer: https://steamdb.info/graph/)\n"
     ]
    },
    {
     "name": "stdout",
     "output_type": "stream",
     "text": [
      "\n",
      "https://proxy.scrapeops.io/v1/?api_key=&url=https%3A%2F%2Fwww.fanfiction.net%2Fs%2F14157360%2F1%2FBetter-Together\n",
      "\n",
      "https://proxy.scrapeops.io/v1/?api_key=&url=https%3A%2F%2Fwww.fanfiction.net%2Fs%2F14157709%2F1%2FStruck-By-Lightning\n"
     ]
    },
    {
     "name": "stderr",
     "output_type": "stream",
     "text": [
      "2024-12-04 10:40:24 [scrapy.core.engine] DEBUG: Crawled (400) <GET https://proxy.scrapeops.io/v1/?api_key=&url=https%3A%2F%2Fproxy.scrapeops.io%2Fv1%2F%3Fapi_key%3D%26url%3Dhttps%253A%2F%2Fwww.fanfiction.net%2Fs%2F14152399%2F2%2FDangerous-Distraction> (referer: https://steamdb.info/graph/)\n",
      "2024-12-04 10:40:24 [scrapy.spidermiddlewares.httperror] INFO: Ignoring response <400 https://proxy.scrapeops.io/v1/?api_key=&url=https%3A%2F%2Fproxy.scrapeops.io%2Fv1%2F%3Fapi_key%3D%26url%3Dhttps%253A%2F%2Fwww.fanfiction.net%2Fs%2F14152399%2F2%2FDangerous-Distraction>: HTTP status code is not handled or not allowed\n"
     ]
    },
    {
     "name": "stdout",
     "output_type": "stream",
     "text": [
      "\n",
      "https://proxy.scrapeops.io/v1/?api_key=&url=https%3A%2F%2Fwww.fanfiction.net%2Fs%2F14157374%2F1%2FThe-Photo\n"
     ]
    },
    {
     "name": "stderr",
     "output_type": "stream",
     "text": [
      "2024-12-04 10:40:24 [scrapy.core.engine] DEBUG: Crawled (200) <GET https://proxy.scrapeops.io/v1/?api_key=&url=https%3A%2F%2Fwww.fanfiction.net%2Fs%2F14160974%2F1%2FAll-in-One-Week> (referer: https://steamdb.info/graph/)\n",
      "2024-12-04 10:40:24 [scrapy.core.engine] DEBUG: Crawled (200) <GET https://proxy.scrapeops.io/v1/?api_key=&url=https%3A%2F%2Fwww.fanfiction.net%2Fs%2F14164291%2F1%2FBreathe> (referer: https://steamdb.info/graph/)\n",
      "2024-12-04 10:40:24 [scrapy.core.engine] DEBUG: Crawled (400) <GET https://proxy.scrapeops.io/v1/?api_key=&url=https%3A%2F%2Fproxy.scrapeops.io%2Fv1%2F%3Fapi_key%3D%26url%3Dhttps%253A%2F%2Fwww.fanfiction.net%2Fs%2F13980524%2F2%2FRekindled-Ties> (referer: https://steamdb.info/graph/)\n",
      "2024-12-04 10:40:24 [scrapy.spidermiddlewares.httperror] INFO: Ignoring response <400 https://proxy.scrapeops.io/v1/?api_key=&url=https%3A%2F%2Fproxy.scrapeops.io%2Fv1%2F%3Fapi_key%3D%26url%3Dhttps%253A%2F%2Fwww.fanfiction.net%2Fs%2F13980524%2F2%2FRekindled-Ties>: HTTP status code is not handled or not allowed\n"
     ]
    },
    {
     "name": "stdout",
     "output_type": "stream",
     "text": [
      "\n",
      "https://proxy.scrapeops.io/v1/?api_key=&url=https%3A%2F%2Fwww.fanfiction.net%2Fs%2F14160974%2F1%2FAll-in-One-Week\n",
      "\n",
      "https://proxy.scrapeops.io/v1/?api_key=&url=https%3A%2F%2Fwww.fanfiction.net%2Fs%2F14164291%2F1%2FBreathe\n"
     ]
    },
    {
     "name": "stderr",
     "output_type": "stream",
     "text": [
      "2024-12-04 10:40:24 [scrapy.core.engine] DEBUG: Crawled (200) <GET https://proxy.scrapeops.io/v1/?api_key=&url=https%3A%2F%2Fwww.fanfiction.net%2Fs%2F14165800%2F1%2FHiperfoco> (referer: https://steamdb.info/graph/)\n"
     ]
    },
    {
     "name": "stdout",
     "output_type": "stream",
     "text": [
      "\n"
     ]
    },
    {
     "name": "stderr",
     "output_type": "stream",
     "text": [
      "2024-12-04 10:40:25 [scrapy.core.engine] DEBUG: Crawled (200) <GET https://proxy.scrapeops.io/v1/?api_key=&url=https%3A%2F%2Fwww.fanfiction.net%2Fs%2F13629683%2F1%2FA-Question-of-Honour-Redux> (referer: https://steamdb.info/graph/)\n",
      "2024-12-04 10:40:25 [scrapy.core.engine] DEBUG: Crawled (200) <GET https://proxy.scrapeops.io/v1/?api_key=&url=https%3A%2F%2Fwww.fanfiction.net%2Fs%2F14169890%2F1%2FSherlock-BBC-Broken-Bow> (referer: https://steamdb.info/graph/)\n",
      "2024-12-04 10:40:25 [scrapy.core.engine] DEBUG: Crawled (400) <GET https://proxy.scrapeops.io/v1/?api_key=&url=https%3A%2F%2Fproxy.scrapeops.io%2Fv1%2F%3Fapi_key%3D%26url%3Dhttps%253A%2F%2Fwww.fanfiction.net%2Fs%2F14157356%2F2%2FRemember-Me> (referer: https://steamdb.info/graph/)\n",
      "2024-12-04 10:40:25 [scrapy.core.engine] DEBUG: Crawled (400) <GET https://proxy.scrapeops.io/v1/?api_key=&url=https%3A%2F%2Fproxy.scrapeops.io%2Fv1%2F%3Fapi_key%3D%26url%3Dhttps%253A%2F%2Fwww.fanfiction.net%2Fs%2F14157709%2F2%2FStruck-By-Lightning> (referer: https://steamdb.info/graph/)\n",
      "2024-12-04 10:40:25 [scrapy.spidermiddlewares.httperror] INFO: Ignoring response <400 https://proxy.scrapeops.io/v1/?api_key=&url=https%3A%2F%2Fproxy.scrapeops.io%2Fv1%2F%3Fapi_key%3D%26url%3Dhttps%253A%2F%2Fwww.fanfiction.net%2Fs%2F14157356%2F2%2FRemember-Me>: HTTP status code is not handled or not allowed\n",
      "2024-12-04 10:40:25 [scrapy.core.engine] DEBUG: Crawled (400) <GET https://proxy.scrapeops.io/v1/?api_key=&url=https%3A%2F%2Fproxy.scrapeops.io%2Fv1%2F%3Fapi_key%3D%26url%3Dhttps%253A%2F%2Fwww.fanfiction.net%2Fs%2F14157360%2F2%2FBetter-Together> (referer: https://steamdb.info/graph/)\n",
      "2024-12-04 10:40:25 [scrapy.spidermiddlewares.httperror] INFO: Ignoring response <400 https://proxy.scrapeops.io/v1/?api_key=&url=https%3A%2F%2Fproxy.scrapeops.io%2Fv1%2F%3Fapi_key%3D%26url%3Dhttps%253A%2F%2Fwww.fanfiction.net%2Fs%2F14157709%2F2%2FStruck-By-Lightning>: HTTP status code is not handled or not allowed\n"
     ]
    },
    {
     "name": "stdout",
     "output_type": "stream",
     "text": [
      "\n",
      "https://proxy.scrapeops.io/v1/?api_key=&url=https%3A%2F%2Fwww.fanfiction.net%2Fs%2F13629683%2F1%2FA-Question-of-Honour-Redux\n",
      "\n",
      "https://proxy.scrapeops.io/v1/?api_key=&url=https%3A%2F%2Fwww.fanfiction.net%2Fs%2F14169890%2F1%2FSherlock-BBC-Broken-Bow\n"
     ]
    },
    {
     "name": "stderr",
     "output_type": "stream",
     "text": [
      "2024-12-04 10:40:25 [scrapy.core.engine] DEBUG: Crawled (400) <GET https://proxy.scrapeops.io/v1/?api_key=&url=https%3A%2F%2Fproxy.scrapeops.io%2Fv1%2F%3Fapi_key%3D%26url%3Dhttps%253A%2F%2Fwww.fanfiction.net%2Fs%2F14157374%2F2%2FThe-Photo> (referer: https://steamdb.info/graph/)\n",
      "2024-12-04 10:40:25 [scrapy.spidermiddlewares.httperror] INFO: Ignoring response <400 https://proxy.scrapeops.io/v1/?api_key=&url=https%3A%2F%2Fproxy.scrapeops.io%2Fv1%2F%3Fapi_key%3D%26url%3Dhttps%253A%2F%2Fwww.fanfiction.net%2Fs%2F14157360%2F2%2FBetter-Together>: HTTP status code is not handled or not allowed\n",
      "2024-12-04 10:40:26 [scrapy.spidermiddlewares.httperror] INFO: Ignoring response <400 https://proxy.scrapeops.io/v1/?api_key=&url=https%3A%2F%2Fproxy.scrapeops.io%2Fv1%2F%3Fapi_key%3D%26url%3Dhttps%253A%2F%2Fwww.fanfiction.net%2Fs%2F14157374%2F2%2FThe-Photo>: HTTP status code is not handled or not allowed\n",
      "2024-12-04 10:40:26 [scrapy.core.engine] DEBUG: Crawled (200) <GET https://proxy.scrapeops.io/v1/?api_key=&url=https%3A%2F%2Fwww.fanfiction.net%2Fs%2F14195608%2F1%2FDon-t-be-Dead-A-Reichenbach-Fall-Poem> (referer: https://steamdb.info/graph/)\n",
      "2024-12-04 10:40:26 [scrapy.core.engine] DEBUG: Crawled (400) <GET https://proxy.scrapeops.io/v1/?api_key=&url=https%3A%2F%2Fproxy.scrapeops.io%2Fv1%2F%3Fapi_key%3D%26url%3Dhttps%253A%2F%2Fwww.fanfiction.net%2Fs%2F14160974%2F2%2FAll-in-One-Week> (referer: https://steamdb.info/graph/)\n",
      "2024-12-04 10:40:26 [scrapy.core.engine] DEBUG: Crawled (400) <GET https://proxy.scrapeops.io/v1/?api_key=&url=https%3A%2F%2Fproxy.scrapeops.io%2Fv1%2F%3Fapi_key%3D%26url%3Dhttps%253A%2F%2Fwww.fanfiction.net%2Fs%2F14164291%2F2%2FBreathe> (referer: https://steamdb.info/graph/)\n",
      "2024-12-04 10:40:26 [scrapy.spidermiddlewares.httperror] INFO: Ignoring response <400 https://proxy.scrapeops.io/v1/?api_key=&url=https%3A%2F%2Fproxy.scrapeops.io%2Fv1%2F%3Fapi_key%3D%26url%3Dhttps%253A%2F%2Fwww.fanfiction.net%2Fs%2F14160974%2F2%2FAll-in-One-Week>: HTTP status code is not handled or not allowed\n",
      "2024-12-04 10:40:26 [scrapy.spidermiddlewares.httperror] INFO: Ignoring response <400 https://proxy.scrapeops.io/v1/?api_key=&url=https%3A%2F%2Fproxy.scrapeops.io%2Fv1%2F%3Fapi_key%3D%26url%3Dhttps%253A%2F%2Fwww.fanfiction.net%2Fs%2F14164291%2F2%2FBreathe>: HTTP status code is not handled or not allowed\n"
     ]
    },
    {
     "name": "stdout",
     "output_type": "stream",
     "text": [
      "\n",
      "https://proxy.scrapeops.io/v1/?api_key=&url=https%3A%2F%2Fwww.fanfiction.net%2Fs%2F14195608%2F1%2FDon-t-be-Dead-A-Reichenbach-Fall-Poem\n"
     ]
    },
    {
     "name": "stderr",
     "output_type": "stream",
     "text": [
      "2024-12-04 10:40:27 [scrapy.core.engine] DEBUG: Crawled (200) <GET https://proxy.scrapeops.io/v1/?api_key=&url=https%3A%2F%2Fwww.fanfiction.net%2Fs%2F14194759%2F1%2FCome-Back> (referer: https://steamdb.info/graph/)\n"
     ]
    },
    {
     "name": "stdout",
     "output_type": "stream",
     "text": [
      "\n"
     ]
    },
    {
     "name": "stderr",
     "output_type": "stream",
     "text": [
      "2024-12-04 10:40:27 [scrapy.core.engine] DEBUG: Crawled (200) <GET https://proxy.scrapeops.io/v1/?api_key=&url=https%3A%2F%2Fwww.fanfiction.net%2Fs%2F13777764%2F1%2FLes-deux-personnes-normales-qu-ils-n-%25C3%25A9taient-pas> (referer: https://steamdb.info/graph/)\n",
      "2024-12-04 10:40:27 [scrapy.downloadermiddlewares.retry] DEBUG: Retrying <GET https://proxy.scrapeops.io/v1/?api_key=&url=https%3A%2F%2Fwww.fanfiction.net%2Fs%2F14167351%2F1%2FGrief> (failed 1 times): 429 Unknown Status\n",
      "2024-12-04 10:40:27 [scrapy.downloadermiddlewares.retry] DEBUG: Retrying <GET https://proxy.scrapeops.io/v1/?api_key=&url=https%3A%2F%2Fwww.fanfiction.net%2Fs%2F14108089%2F1%2FTaken> (failed 1 times): 429 Unknown Status\n",
      "2024-12-04 10:40:27 [scrapy.core.engine] DEBUG: Crawled (400) <GET https://proxy.scrapeops.io/v1/?api_key=&url=https%3A%2F%2Fproxy.scrapeops.io%2Fv1%2F%3Fapi_key%3D%26url%3Dhttps%253A%2F%2Fwww.fanfiction.net%2Fs%2F14169890%2F2%2FSherlock-BBC-Broken-Bow> (referer: https://steamdb.info/graph/)\n",
      "2024-12-04 10:40:27 [scrapy.core.engine] DEBUG: Crawled (400) <GET https://proxy.scrapeops.io/v1/?api_key=&url=https%3A%2F%2Fproxy.scrapeops.io%2Fv1%2F%3Fapi_key%3D%26url%3Dhttps%253A%2F%2Fwww.fanfiction.net%2Fs%2F13629683%2F2%2FA-Question-of-Honour-Redux> (referer: https://steamdb.info/graph/)\n"
     ]
    },
    {
     "name": "stdout",
     "output_type": "stream",
     "text": [
      "\n"
     ]
    },
    {
     "name": "stderr",
     "output_type": "stream",
     "text": [
      "2024-12-04 10:40:27 [scrapy.spidermiddlewares.httperror] INFO: Ignoring response <400 https://proxy.scrapeops.io/v1/?api_key=&url=https%3A%2F%2Fproxy.scrapeops.io%2Fv1%2F%3Fapi_key%3D%26url%3Dhttps%253A%2F%2Fwww.fanfiction.net%2Fs%2F14169890%2F2%2FSherlock-BBC-Broken-Bow>: HTTP status code is not handled or not allowed\n",
      "2024-12-04 10:40:27 [scrapy.core.engine] DEBUG: Crawled (200) <GET https://proxy.scrapeops.io/v1/?api_key=&url=https%3A%2F%2Fwww.fanfiction.net%2Fs%2F14197784%2F1%2FDans-son-palais-int%25C3%25A9rieur> (referer: https://steamdb.info/graph/)\n",
      "2024-12-04 10:40:27 [scrapy.spidermiddlewares.httperror] INFO: Ignoring response <400 https://proxy.scrapeops.io/v1/?api_key=&url=https%3A%2F%2Fproxy.scrapeops.io%2Fv1%2F%3Fapi_key%3D%26url%3Dhttps%253A%2F%2Fwww.fanfiction.net%2Fs%2F13629683%2F2%2FA-Question-of-Honour-Redux>: HTTP status code is not handled or not allowed\n"
     ]
    },
    {
     "name": "stdout",
     "output_type": "stream",
     "text": [
      "\n"
     ]
    },
    {
     "name": "stderr",
     "output_type": "stream",
     "text": [
      "2024-12-04 10:40:28 [scrapy.core.engine] DEBUG: Crawled (200) <GET https://proxy.scrapeops.io/v1/?api_key=&url=https%3A%2F%2Fwww.fanfiction.net%2Fs%2F14124506%2F1%2FUntil-You-Lose-It> (referer: https://steamdb.info/graph/)\n",
      "2024-12-04 10:40:28 [scrapy.core.engine] DEBUG: Crawled (200) <GET https://proxy.scrapeops.io/v1/?api_key=&url=https%3A%2F%2Fwww.fanfiction.net%2Fs%2F14204476%2F1%2FFalling-Starrs-Erlebniss> (referer: https://steamdb.info/graph/)\n",
      "2024-12-04 10:40:28 [scrapy.core.engine] DEBUG: Crawled (400) <GET https://proxy.scrapeops.io/v1/?api_key=&url=https%3A%2F%2Fproxy.scrapeops.io%2Fv1%2F%3Fapi_key%3D%26url%3Dhttps%253A%2F%2Fwww.fanfiction.net%2Fs%2F14195608%2F2%2FDon-t-be-Dead-A-Reichenbach-Fall-Poem> (referer: https://steamdb.info/graph/)\n",
      "2024-12-04 10:40:28 [scrapy.spidermiddlewares.httperror] INFO: Ignoring response <400 https://proxy.scrapeops.io/v1/?api_key=&url=https%3A%2F%2Fproxy.scrapeops.io%2Fv1%2F%3Fapi_key%3D%26url%3Dhttps%253A%2F%2Fwww.fanfiction.net%2Fs%2F14195608%2F2%2FDon-t-be-Dead-A-Reichenbach-Fall-Poem>: HTTP status code is not handled or not allowed\n"
     ]
    },
    {
     "name": "stdout",
     "output_type": "stream",
     "text": [
      "\n",
      "https://proxy.scrapeops.io/v1/?api_key=&url=https%3A%2F%2Fwww.fanfiction.net%2Fs%2F14124506%2F1%2FUntil-You-Lose-It\n",
      "\n",
      "https://proxy.scrapeops.io/v1/?api_key=&url=https%3A%2F%2Fwww.fanfiction.net%2Fs%2F14204476%2F1%2FFalling-Starrs-Erlebniss\n"
     ]
    },
    {
     "name": "stderr",
     "output_type": "stream",
     "text": [
      "2024-12-04 10:40:29 [scrapy.core.engine] DEBUG: Crawled (200) <GET https://proxy.scrapeops.io/v1/?api_key=&url=https%3A%2F%2Fwww.fanfiction.net%2Fs%2F14121001%2F1%2FA-Thousand-Thanks> (referer: https://steamdb.info/graph/)\n",
      "2024-12-04 10:40:29 [scrapy.core.engine] DEBUG: Crawled (200) <GET https://proxy.scrapeops.io/v1/?api_key=&url=https%3A%2F%2Fwww.fanfiction.net%2Fs%2F14236633%2F1%2FA-Surly-Sherly-Sunday> (referer: https://steamdb.info/graph/)\n",
      "2024-12-04 10:40:29 [scrapy.core.engine] DEBUG: Crawled (200) <GET https://proxy.scrapeops.io/v1/?api_key=&url=https%3A%2F%2Fwww.fanfiction.net%2Fs%2F14205404%2F1%2FPygmalion> (referer: https://steamdb.info/graph/)\n"
     ]
    },
    {
     "name": "stdout",
     "output_type": "stream",
     "text": [
      "\n",
      "https://proxy.scrapeops.io/v1/?api_key=&url=https%3A%2F%2Fwww.fanfiction.net%2Fs%2F14121001%2F1%2FA-Thousand-Thanks\n",
      "\n",
      "https://proxy.scrapeops.io/v1/?api_key=&url=https%3A%2F%2Fwww.fanfiction.net%2Fs%2F14236633%2F1%2FA-Surly-Sherly-Sunday\n",
      "\n",
      "https://proxy.scrapeops.io/v1/?api_key=&url=https%3A%2F%2Fwww.fanfiction.net%2Fs%2F14205404%2F1%2FPygmalion\n"
     ]
    },
    {
     "name": "stderr",
     "output_type": "stream",
     "text": [
      "2024-12-04 10:40:30 [scrapy.core.engine] DEBUG: Crawled (200) <GET https://proxy.scrapeops.io/v1/?api_key=&url=https%3A%2F%2Fwww.fanfiction.net%2Fs%2F10638905%2F1%2FThe-Baker-Street-Compendium> (referer: https://steamdb.info/graph/)\n",
      "2024-12-04 10:40:31 [scrapy.core.engine] DEBUG: Crawled (200) <GET https://proxy.scrapeops.io/v1/?api_key=&url=https%3A%2F%2Fwww.fanfiction.net%2Fs%2F13791211%2F1%2FBloody-waterfall-and-violin-fangs> (referer: https://steamdb.info/graph/)\n"
     ]
    },
    {
     "name": "stdout",
     "output_type": "stream",
     "text": [
      "\n",
      "https://proxy.scrapeops.io/v1/?api_key=&url=https%3A%2F%2Fwww.fanfiction.net%2Fs%2F10638905%2F1%2FThe-Baker-Street-Compendium\n"
     ]
    },
    {
     "name": "stderr",
     "output_type": "stream",
     "text": [
      "2024-12-04 10:40:31 [scrapy.core.engine] DEBUG: Crawled (200) <GET https://proxy.scrapeops.io/v1/?api_key=&url=https%3A%2F%2Fwww.fanfiction.net%2Fs%2F14241050%2F1%2Faabbccddeeff> (referer: https://steamdb.info/graph/)\n"
     ]
    },
    {
     "name": "stdout",
     "output_type": "stream",
     "text": [
      "\n",
      "https://proxy.scrapeops.io/v1/?api_key=&url=https%3A%2F%2Fwww.fanfiction.net%2Fs%2F13791211%2F1%2FBloody-waterfall-and-violin-fangs\n",
      "\n",
      "https://proxy.scrapeops.io/v1/?api_key=&url=https%3A%2F%2Fwww.fanfiction.net%2Fs%2F14241050%2F1%2Faabbccddeeff\n"
     ]
    },
    {
     "name": "stderr",
     "output_type": "stream",
     "text": [
      "2024-12-04 10:40:32 [scrapy.core.engine] DEBUG: Crawled (200) <GET https://proxy.scrapeops.io/v1/?api_key=&url=https%3A%2F%2Fwww.fanfiction.net%2Fs%2F14234893%2F1%2FSilent-Shadows-The-Game-is-On> (referer: https://steamdb.info/graph/)\n",
      "2024-12-04 10:40:32 [scrapy.core.engine] DEBUG: Crawled (200) <GET https://proxy.scrapeops.io/v1/?api_key=&url=https%3A%2F%2Fwww.fanfiction.net%2Fs%2F14212783%2F1%2FFour-Dreams-One-Reality> (referer: https://steamdb.info/graph/)\n",
      "2024-12-04 10:40:32 [scrapy.core.engine] DEBUG: Crawled (400) <GET https://proxy.scrapeops.io/v1/?api_key=&url=https%3A%2F%2Fproxy.scrapeops.io%2Fv1%2F%3Fapi_key%3D%26url%3Dhttps%253A%2F%2Fwww.fanfiction.net%2Fs%2F14124506%2F2%2FUntil-You-Lose-It> (referer: https://steamdb.info/graph/)\n",
      "2024-12-04 10:40:32 [scrapy.core.engine] DEBUG: Crawled (400) <GET https://proxy.scrapeops.io/v1/?api_key=&url=https%3A%2F%2Fproxy.scrapeops.io%2Fv1%2F%3Fapi_key%3D%26url%3Dhttps%253A%2F%2Fwww.fanfiction.net%2Fs%2F14204476%2F2%2FFalling-Starrs-Erlebniss> (referer: https://steamdb.info/graph/)\n",
      "2024-12-04 10:40:32 [scrapy.spidermiddlewares.httperror] INFO: Ignoring response <400 https://proxy.scrapeops.io/v1/?api_key=&url=https%3A%2F%2Fproxy.scrapeops.io%2Fv1%2F%3Fapi_key%3D%26url%3Dhttps%253A%2F%2Fwww.fanfiction.net%2Fs%2F14124506%2F2%2FUntil-You-Lose-It>: HTTP status code is not handled or not allowed\n",
      "2024-12-04 10:40:33 [scrapy.core.engine] DEBUG: Crawled (400) <GET https://proxy.scrapeops.io/v1/?api_key=&url=https%3A%2F%2Fproxy.scrapeops.io%2Fv1%2F%3Fapi_key%3D%26url%3Dhttps%253A%2F%2Fwww.fanfiction.net%2Fs%2F14121001%2F2%2FA-Thousand-Thanks> (referer: https://steamdb.info/graph/)\n",
      "2024-12-04 10:40:33 [scrapy.spidermiddlewares.httperror] INFO: Ignoring response <400 https://proxy.scrapeops.io/v1/?api_key=&url=https%3A%2F%2Fproxy.scrapeops.io%2Fv1%2F%3Fapi_key%3D%26url%3Dhttps%253A%2F%2Fwww.fanfiction.net%2Fs%2F14204476%2F2%2FFalling-Starrs-Erlebniss>: HTTP status code is not handled or not allowed\n",
      "2024-12-04 10:40:33 [scrapy.downloadermiddlewares.retry] DEBUG: Retrying <GET https://proxy.scrapeops.io/v1/?api_key=&url=https%3A%2F%2Fwww.fanfiction.net%2Fs%2F14233656%2F1%2FI-m-not-his-thing> (failed 1 times): 429 Unknown Status\n"
     ]
    },
    {
     "name": "stdout",
     "output_type": "stream",
     "text": [
      "\n",
      "https://proxy.scrapeops.io/v1/?api_key=&url=https%3A%2F%2Fwww.fanfiction.net%2Fs%2F14234893%2F1%2FSilent-Shadows-The-Game-is-On\n",
      "\n",
      "https://proxy.scrapeops.io/v1/?api_key=&url=https%3A%2F%2Fwww.fanfiction.net%2Fs%2F14212783%2F1%2FFour-Dreams-One-Reality\n"
     ]
    },
    {
     "name": "stderr",
     "output_type": "stream",
     "text": [
      "2024-12-04 10:40:33 [scrapy.core.engine] DEBUG: Crawled (200) <GET https://proxy.scrapeops.io/v1/?api_key=&url=https%3A%2F%2Fwww.fanfiction.net%2Fs%2F13677919%2F1%2FFour-times-Mycroft-finds-Greg-and-one-time-Greg-finds-Mycroft> (referer: https://steamdb.info/graph/)\n",
      "2024-12-04 10:40:33 [scrapy.core.engine] DEBUG: Crawled (400) <GET https://proxy.scrapeops.io/v1/?api_key=&url=https%3A%2F%2Fproxy.scrapeops.io%2Fv1%2F%3Fapi_key%3D%26url%3Dhttps%253A%2F%2Fwww.fanfiction.net%2Fs%2F14205404%2F2%2FPygmalion> (referer: https://steamdb.info/graph/)\n",
      "2024-12-04 10:40:33 [scrapy.spidermiddlewares.httperror] INFO: Ignoring response <400 https://proxy.scrapeops.io/v1/?api_key=&url=https%3A%2F%2Fproxy.scrapeops.io%2Fv1%2F%3Fapi_key%3D%26url%3Dhttps%253A%2F%2Fwww.fanfiction.net%2Fs%2F14121001%2F2%2FA-Thousand-Thanks>: HTTP status code is not handled or not allowed\n",
      "2024-12-04 10:40:33 [scrapy.downloadermiddlewares.retry] DEBUG: Retrying <GET https://proxy.scrapeops.io/v1/?api_key=&url=https%3A%2F%2Fwww.fanfiction.net%2Fs%2F8946574%2F1%2FRabbit-Song> (failed 1 times): 429 Unknown Status\n",
      "2024-12-04 10:40:33 [scrapy.core.engine] DEBUG: Crawled (400) <GET https://proxy.scrapeops.io/v1/?api_key=&url=https%3A%2F%2Fproxy.scrapeops.io%2Fv1%2F%3Fapi_key%3D%26url%3Dhttps%253A%2F%2Fwww.fanfiction.net%2Fs%2F10638905%2F2%2FThe-Baker-Street-Compendium> (referer: https://steamdb.info/graph/)\n",
      "2024-12-04 10:40:33 [scrapy.core.engine] DEBUG: Crawled (400) <GET https://proxy.scrapeops.io/v1/?api_key=&url=https%3A%2F%2Fproxy.scrapeops.io%2Fv1%2F%3Fapi_key%3D%26url%3Dhttps%253A%2F%2Fwww.fanfiction.net%2Fs%2F14241050%2F2%2Faabbccddeeff> (referer: https://steamdb.info/graph/)\n",
      "2024-12-04 10:40:33 [scrapy.core.engine] DEBUG: Crawled (400) <GET https://proxy.scrapeops.io/v1/?api_key=&url=https%3A%2F%2Fproxy.scrapeops.io%2Fv1%2F%3Fapi_key%3D%26url%3Dhttps%253A%2F%2Fwww.fanfiction.net%2Fs%2F14236633%2F2%2FA-Surly-Sherly-Sunday> (referer: https://steamdb.info/graph/)\n",
      "2024-12-04 10:40:33 [scrapy.spidermiddlewares.httperror] INFO: Ignoring response <400 https://proxy.scrapeops.io/v1/?api_key=&url=https%3A%2F%2Fproxy.scrapeops.io%2Fv1%2F%3Fapi_key%3D%26url%3Dhttps%253A%2F%2Fwww.fanfiction.net%2Fs%2F14205404%2F2%2FPygmalion>: HTTP status code is not handled or not allowed\n",
      "2024-12-04 10:40:33 [scrapy.core.engine] DEBUG: Crawled (400) <GET https://proxy.scrapeops.io/v1/?api_key=&url=https%3A%2F%2Fproxy.scrapeops.io%2Fv1%2F%3Fapi_key%3D%26url%3Dhttps%253A%2F%2Fwww.fanfiction.net%2Fs%2F13791211%2F2%2FBloody-waterfall-and-violin-fangs> (referer: https://steamdb.info/graph/)\n",
      "2024-12-04 10:40:33 [scrapy.spidermiddlewares.httperror] INFO: Ignoring response <400 https://proxy.scrapeops.io/v1/?api_key=&url=https%3A%2F%2Fproxy.scrapeops.io%2Fv1%2F%3Fapi_key%3D%26url%3Dhttps%253A%2F%2Fwww.fanfiction.net%2Fs%2F10638905%2F2%2FThe-Baker-Street-Compendium>: HTTP status code is not handled or not allowed\n",
      "2024-12-04 10:40:33 [scrapy.spidermiddlewares.httperror] INFO: Ignoring response <400 https://proxy.scrapeops.io/v1/?api_key=&url=https%3A%2F%2Fproxy.scrapeops.io%2Fv1%2F%3Fapi_key%3D%26url%3Dhttps%253A%2F%2Fwww.fanfiction.net%2Fs%2F14241050%2F2%2Faabbccddeeff>: HTTP status code is not handled or not allowed\n",
      "2024-12-04 10:40:33 [scrapy.core.engine] DEBUG: Crawled (400) <GET https://proxy.scrapeops.io/v1/?api_key=&url=https%3A%2F%2Fproxy.scrapeops.io%2Fv1%2F%3Fapi_key%3D%26url%3Dhttps%253A%2F%2Fwww.fanfiction.net%2Fs%2F14212783%2F2%2FFour-Dreams-One-Reality> (referer: https://steamdb.info/graph/)\n",
      "2024-12-04 10:40:33 [scrapy.spidermiddlewares.httperror] INFO: Ignoring response <400 https://proxy.scrapeops.io/v1/?api_key=&url=https%3A%2F%2Fproxy.scrapeops.io%2Fv1%2F%3Fapi_key%3D%26url%3Dhttps%253A%2F%2Fwww.fanfiction.net%2Fs%2F14236633%2F2%2FA-Surly-Sherly-Sunday>: HTTP status code is not handled or not allowed\n",
      "2024-12-04 10:40:33 [scrapy.core.engine] DEBUG: Crawled (400) <GET https://proxy.scrapeops.io/v1/?api_key=&url=https%3A%2F%2Fproxy.scrapeops.io%2Fv1%2F%3Fapi_key%3D%26url%3Dhttps%253A%2F%2Fwww.fanfiction.net%2Fs%2F14234893%2F2%2FSilent-Shadows-The-Game-is-On> (referer: https://steamdb.info/graph/)\n",
      "2024-12-04 10:40:33 [scrapy.spidermiddlewares.httperror] INFO: Ignoring response <400 https://proxy.scrapeops.io/v1/?api_key=&url=https%3A%2F%2Fproxy.scrapeops.io%2Fv1%2F%3Fapi_key%3D%26url%3Dhttps%253A%2F%2Fwww.fanfiction.net%2Fs%2F13791211%2F2%2FBloody-waterfall-and-violin-fangs>: HTTP status code is not handled or not allowed\n",
      "2024-12-04 10:40:33 [scrapy.spidermiddlewares.httperror] INFO: Ignoring response <400 https://proxy.scrapeops.io/v1/?api_key=&url=https%3A%2F%2Fproxy.scrapeops.io%2Fv1%2F%3Fapi_key%3D%26url%3Dhttps%253A%2F%2Fwww.fanfiction.net%2Fs%2F14212783%2F2%2FFour-Dreams-One-Reality>: HTTP status code is not handled or not allowed\n"
     ]
    },
    {
     "name": "stdout",
     "output_type": "stream",
     "text": [
      "\n",
      "https://proxy.scrapeops.io/v1/?api_key=&url=https%3A%2F%2Fwww.fanfiction.net%2Fs%2F13677919%2F1%2FFour-times-Mycroft-finds-Greg-and-one-time-Greg-finds-Mycroft\n"
     ]
    },
    {
     "name": "stderr",
     "output_type": "stream",
     "text": [
      "2024-12-04 10:40:33 [scrapy.spidermiddlewares.httperror] INFO: Ignoring response <400 https://proxy.scrapeops.io/v1/?api_key=&url=https%3A%2F%2Fproxy.scrapeops.io%2Fv1%2F%3Fapi_key%3D%26url%3Dhttps%253A%2F%2Fwww.fanfiction.net%2Fs%2F14234893%2F2%2FSilent-Shadows-The-Game-is-On>: HTTP status code is not handled or not allowed\n",
      "2024-12-04 10:40:34 [scrapy.core.engine] DEBUG: Crawled (200) <GET https://proxy.scrapeops.io/v1/?api_key=&url=https%3A%2F%2Fwww.fanfiction.net%2Fs%2F9986974%2F1%2FWoman-s-Best-Friend> (referer: https://steamdb.info/graph/)\n",
      "2024-12-04 10:40:34 [scrapy.core.engine] DEBUG: Crawled (200) <GET https://proxy.scrapeops.io/v1/?api_key=&url=https%3A%2F%2Fwww.fanfiction.net%2Fs%2F14191816%2F1%2F06A-BBC-Sherlock-The-Case-of-the-Tired-Captain> (referer: https://steamdb.info/graph/)\n"
     ]
    },
    {
     "name": "stdout",
     "output_type": "stream",
     "text": [
      "\n",
      "https://proxy.scrapeops.io/v1/?api_key=&url=https%3A%2F%2Fwww.fanfiction.net%2Fs%2F9986974%2F1%2FWoman-s-Best-Friend\n",
      "\n",
      "https://proxy.scrapeops.io/v1/?api_key=&url=https%3A%2F%2Fwww.fanfiction.net%2Fs%2F14191816%2F1%2F06A-BBC-Sherlock-The-Case-of-the-Tired-Captain\n"
     ]
    },
    {
     "name": "stderr",
     "output_type": "stream",
     "text": [
      "2024-12-04 10:40:34 [scrapy.core.engine] DEBUG: Crawled (200) <GET https://proxy.scrapeops.io/v1/?api_key=&url=https%3A%2F%2Fwww.fanfiction.net%2Fs%2F14256548%2F1%2FThere-was-ever-only-one-plot> (referer: https://steamdb.info/graph/)\n"
     ]
    },
    {
     "name": "stdout",
     "output_type": "stream",
     "text": [
      "\n",
      "https://proxy.scrapeops.io/v1/?api_key=&url=https%3A%2F%2Fwww.fanfiction.net%2Fs%2F14256548%2F1%2FThere-was-ever-only-one-plot\n"
     ]
    },
    {
     "name": "stderr",
     "output_type": "stream",
     "text": [
      "2024-12-04 10:40:34 [scrapy.core.engine] DEBUG: Crawled (200) <GET https://proxy.scrapeops.io/v1/?api_key=&url=https%3A%2F%2Fwww.fanfiction.net%2Fs%2F14241468%2F1%2FGod-Save-the-Queen> (referer: https://steamdb.info/graph/)\n"
     ]
    },
    {
     "name": "stdout",
     "output_type": "stream",
     "text": [
      "\n",
      "https://proxy.scrapeops.io/v1/?api_key=&url=https%3A%2F%2Fwww.fanfiction.net%2Fs%2F14241468%2F1%2FGod-Save-the-Queen\n"
     ]
    },
    {
     "name": "stderr",
     "output_type": "stream",
     "text": [
      "2024-12-04 10:40:36 [scrapy.core.engine] DEBUG: Crawled (200) <GET https://proxy.scrapeops.io/v1/?api_key=&url=https%3A%2F%2Fwww.fanfiction.net%2Fs%2F14260669%2F1%2FWe-were-born-to-die> (referer: https://steamdb.info/graph/)\n",
      "2024-12-04 10:40:36 [scrapy.core.engine] DEBUG: Crawled (400) <GET https://proxy.scrapeops.io/v1/?api_key=&url=https%3A%2F%2Fproxy.scrapeops.io%2Fv1%2F%3Fapi_key%3D%26url%3Dhttps%253A%2F%2Fwww.fanfiction.net%2Fs%2F13677919%2F2%2FFour-times-Mycroft-finds-Greg-and-one-time-Greg-finds-Mycroft> (referer: https://steamdb.info/graph/)\n",
      "2024-12-04 10:40:36 [scrapy.core.engine] DEBUG: Crawled (200) <GET https://proxy.scrapeops.io/v1/?api_key=&url=https%3A%2F%2Fwww.fanfiction.net%2Fs%2F13503686%2F1%2F21-BBC-Sherlock-A-Case-of-Separation> (referer: https://steamdb.info/graph/)\n",
      "2024-12-04 10:40:36 [scrapy.spidermiddlewares.httperror] INFO: Ignoring response <400 https://proxy.scrapeops.io/v1/?api_key=&url=https%3A%2F%2Fproxy.scrapeops.io%2Fv1%2F%3Fapi_key%3D%26url%3Dhttps%253A%2F%2Fwww.fanfiction.net%2Fs%2F13677919%2F2%2FFour-times-Mycroft-finds-Greg-and-one-time-Greg-finds-Mycroft>: HTTP status code is not handled or not allowed\n"
     ]
    },
    {
     "name": "stdout",
     "output_type": "stream",
     "text": [
      "\n",
      "https://proxy.scrapeops.io/v1/?api_key=&url=https%3A%2F%2Fwww.fanfiction.net%2Fs%2F14260669%2F1%2FWe-were-born-to-die\n",
      "\n",
      "https://proxy.scrapeops.io/v1/?api_key=&url=https%3A%2F%2Fwww.fanfiction.net%2Fs%2F13503686%2F1%2F21-BBC-Sherlock-A-Case-of-Separation\n"
     ]
    },
    {
     "name": "stderr",
     "output_type": "stream",
     "text": [
      "2024-12-04 10:40:36 [scrapy.core.engine] DEBUG: Crawled (200) <GET https://proxy.scrapeops.io/v1/?api_key=&url=https%3A%2F%2Fwww.fanfiction.net%2Fs%2F13801434%2F1%2FThe-Adventures-of-Sherlock-Holmes-and-his-journalist> (referer: https://steamdb.info/graph/)\n",
      "2024-12-04 10:40:36 [scrapy.core.engine] DEBUG: Crawled (200) <GET https://proxy.scrapeops.io/v1/?api_key=&url=https%3A%2F%2Fwww.fanfiction.net%2Fs%2F13965126%2F1%2FA-Second-Honeymoon-Journey> (referer: https://steamdb.info/graph/)\n"
     ]
    },
    {
     "name": "stdout",
     "output_type": "stream",
     "text": [
      "\n",
      "https://proxy.scrapeops.io/v1/?api_key=&url=https%3A%2F%2Fwww.fanfiction.net%2Fs%2F13801434%2F1%2FThe-Adventures-of-Sherlock-Holmes-and-his-journalist\n",
      "\n",
      "https://proxy.scrapeops.io/v1/?api_key=&url=https%3A%2F%2Fwww.fanfiction.net%2Fs%2F13965126%2F1%2FA-Second-Honeymoon-Journey\n"
     ]
    },
    {
     "name": "stderr",
     "output_type": "stream",
     "text": [
      "2024-12-04 10:40:37 [scrapy.core.engine] DEBUG: Crawled (200) <GET https://proxy.scrapeops.io/v1/?api_key=&url=https%3A%2F%2Fwww.fanfiction.net%2Fs%2F14256524%2F1%2FThe-Reichenbach-Shot-CONCEPT> (referer: https://steamdb.info/graph/)\n",
      "2024-12-04 10:40:37 [scrapy.core.engine] DEBUG: Crawled (200) <GET https://proxy.scrapeops.io/v1/?api_key=&url=https%3A%2F%2Fwww.fanfiction.net%2Fs%2F14266341%2F1%2FThe-beginning-of-the-end> (referer: https://steamdb.info/graph/)\n",
      "2024-12-04 10:40:37 [scrapy.core.engine] DEBUG: Crawled (200) <GET https://proxy.scrapeops.io/v1/?api_key=&url=https%3A%2F%2Fwww.fanfiction.net%2Fs%2F14266347%2F1%2FAlready-too-late> (referer: https://steamdb.info/graph/)\n",
      "2024-12-04 10:40:37 [scrapy.core.engine] DEBUG: Crawled (400) <GET https://proxy.scrapeops.io/v1/?api_key=&url=https%3A%2F%2Fproxy.scrapeops.io%2Fv1%2F%3Fapi_key%3D%26url%3Dhttps%253A%2F%2Fwww.fanfiction.net%2Fs%2F14191816%2F2%2F06A-BBC-Sherlock-The-Case-of-the-Tired-Captain> (referer: https://steamdb.info/graph/)\n"
     ]
    },
    {
     "name": "stdout",
     "output_type": "stream",
     "text": [
      "\n",
      "https://proxy.scrapeops.io/v1/?api_key=&url=https%3A%2F%2Fwww.fanfiction.net%2Fs%2F14256524%2F1%2FThe-Reichenbach-Shot-CONCEPT\n",
      "\n",
      "https://proxy.scrapeops.io/v1/?api_key=&url=https%3A%2F%2Fwww.fanfiction.net%2Fs%2F14266341%2F1%2FThe-beginning-of-the-end\n"
     ]
    },
    {
     "name": "stderr",
     "output_type": "stream",
     "text": [
      "2024-12-04 10:40:37 [scrapy.core.engine] DEBUG: Crawled (400) <GET https://proxy.scrapeops.io/v1/?api_key=&url=https%3A%2F%2Fproxy.scrapeops.io%2Fv1%2F%3Fapi_key%3D%26url%3Dhttps%253A%2F%2Fwww.fanfiction.net%2Fs%2F14256548%2F2%2FThere-was-ever-only-one-plot> (referer: https://steamdb.info/graph/)\n",
      "2024-12-04 10:40:37 [scrapy.core.engine] DEBUG: Crawled (200) <GET https://proxy.scrapeops.io/v1/?api_key=&url=https%3A%2F%2Fwww.fanfiction.net%2Fs%2F14255181%2F1%2FLuminous> (referer: https://steamdb.info/graph/)\n",
      "2024-12-04 10:40:37 [scrapy.spidermiddlewares.httperror] INFO: Ignoring response <400 https://proxy.scrapeops.io/v1/?api_key=&url=https%3A%2F%2Fproxy.scrapeops.io%2Fv1%2F%3Fapi_key%3D%26url%3Dhttps%253A%2F%2Fwww.fanfiction.net%2Fs%2F14191816%2F2%2F06A-BBC-Sherlock-The-Case-of-the-Tired-Captain>: HTTP status code is not handled or not allowed\n",
      "2024-12-04 10:40:37 [scrapy.core.engine] DEBUG: Crawled (400) <GET https://proxy.scrapeops.io/v1/?api_key=&url=https%3A%2F%2Fproxy.scrapeops.io%2Fv1%2F%3Fapi_key%3D%26url%3Dhttps%253A%2F%2Fwww.fanfiction.net%2Fs%2F14241468%2F2%2FGod-Save-the-Queen> (referer: https://steamdb.info/graph/)\n",
      "2024-12-04 10:40:38 [scrapy.core.engine] DEBUG: Crawled (400) <GET https://proxy.scrapeops.io/v1/?api_key=&url=https%3A%2F%2Fproxy.scrapeops.io%2Fv1%2F%3Fapi_key%3D%26url%3Dhttps%253A%2F%2Fwww.fanfiction.net%2Fs%2F9986974%2F2%2FWoman-s-Best-Friend> (referer: https://steamdb.info/graph/)\n",
      "2024-12-04 10:40:38 [scrapy.spidermiddlewares.httperror] INFO: Ignoring response <400 https://proxy.scrapeops.io/v1/?api_key=&url=https%3A%2F%2Fproxy.scrapeops.io%2Fv1%2F%3Fapi_key%3D%26url%3Dhttps%253A%2F%2Fwww.fanfiction.net%2Fs%2F14256548%2F2%2FThere-was-ever-only-one-plot>: HTTP status code is not handled or not allowed\n",
      "2024-12-04 10:40:38 [scrapy.core.engine] DEBUG: Crawled (400) <GET https://proxy.scrapeops.io/v1/?api_key=&url=https%3A%2F%2Fproxy.scrapeops.io%2Fv1%2F%3Fapi_key%3D%26url%3Dhttps%253A%2F%2Fwww.fanfiction.net%2Fs%2F14260669%2F2%2FWe-were-born-to-die> (referer: https://steamdb.info/graph/)\n",
      "2024-12-04 10:40:38 [scrapy.core.engine] DEBUG: Crawled (400) <GET https://proxy.scrapeops.io/v1/?api_key=&url=https%3A%2F%2Fproxy.scrapeops.io%2Fv1%2F%3Fapi_key%3D%26url%3Dhttps%253A%2F%2Fwww.fanfiction.net%2Fs%2F13503686%2F2%2F21-BBC-Sherlock-A-Case-of-Separation> (referer: https://steamdb.info/graph/)\n",
      "2024-12-04 10:40:38 [scrapy.spidermiddlewares.httperror] INFO: Ignoring response <400 https://proxy.scrapeops.io/v1/?api_key=&url=https%3A%2F%2Fproxy.scrapeops.io%2Fv1%2F%3Fapi_key%3D%26url%3Dhttps%253A%2F%2Fwww.fanfiction.net%2Fs%2F14241468%2F2%2FGod-Save-the-Queen>: HTTP status code is not handled or not allowed\n",
      "2024-12-04 10:40:38 [scrapy.spidermiddlewares.httperror] INFO: Ignoring response <400 https://proxy.scrapeops.io/v1/?api_key=&url=https%3A%2F%2Fproxy.scrapeops.io%2Fv1%2F%3Fapi_key%3D%26url%3Dhttps%253A%2F%2Fwww.fanfiction.net%2Fs%2F9986974%2F2%2FWoman-s-Best-Friend>: HTTP status code is not handled or not allowed\n",
      "2024-12-04 10:40:38 [scrapy.core.engine] DEBUG: Crawled (400) <GET https://proxy.scrapeops.io/v1/?api_key=&url=https%3A%2F%2Fproxy.scrapeops.io%2Fv1%2F%3Fapi_key%3D%26url%3Dhttps%253A%2F%2Fwww.fanfiction.net%2Fs%2F13965126%2F2%2FA-Second-Honeymoon-Journey> (referer: https://steamdb.info/graph/)\n",
      "2024-12-04 10:40:38 [scrapy.spidermiddlewares.httperror] INFO: Ignoring response <400 https://proxy.scrapeops.io/v1/?api_key=&url=https%3A%2F%2Fproxy.scrapeops.io%2Fv1%2F%3Fapi_key%3D%26url%3Dhttps%253A%2F%2Fwww.fanfiction.net%2Fs%2F14260669%2F2%2FWe-were-born-to-die>: HTTP status code is not handled or not allowed\n"
     ]
    },
    {
     "name": "stdout",
     "output_type": "stream",
     "text": [
      "\n",
      "https://proxy.scrapeops.io/v1/?api_key=&url=https%3A%2F%2Fwww.fanfiction.net%2Fs%2F14266347%2F1%2FAlready-too-late\n",
      "\n",
      "https://proxy.scrapeops.io/v1/?api_key=&url=https%3A%2F%2Fwww.fanfiction.net%2Fs%2F14255181%2F1%2FLuminous\n"
     ]
    },
    {
     "name": "stderr",
     "output_type": "stream",
     "text": [
      "2024-12-04 10:40:38 [scrapy.core.engine] DEBUG: Crawled (400) <GET https://proxy.scrapeops.io/v1/?api_key=&url=https%3A%2F%2Fproxy.scrapeops.io%2Fv1%2F%3Fapi_key%3D%26url%3Dhttps%253A%2F%2Fwww.fanfiction.net%2Fs%2F14256524%2F2%2FThe-Reichenbach-Shot-CONCEPT> (referer: https://steamdb.info/graph/)\n",
      "2024-12-04 10:40:38 [scrapy.spidermiddlewares.httperror] INFO: Ignoring response <400 https://proxy.scrapeops.io/v1/?api_key=&url=https%3A%2F%2Fproxy.scrapeops.io%2Fv1%2F%3Fapi_key%3D%26url%3Dhttps%253A%2F%2Fwww.fanfiction.net%2Fs%2F13503686%2F2%2F21-BBC-Sherlock-A-Case-of-Separation>: HTTP status code is not handled or not allowed\n",
      "2024-12-04 10:40:38 [scrapy.core.engine] DEBUG: Crawled (400) <GET https://proxy.scrapeops.io/v1/?api_key=&url=https%3A%2F%2Fproxy.scrapeops.io%2Fv1%2F%3Fapi_key%3D%26url%3Dhttps%253A%2F%2Fwww.fanfiction.net%2Fs%2F13801434%2F2%2FThe-Adventures-of-Sherlock-Holmes-and-his-journalist> (referer: https://steamdb.info/graph/)\n",
      "2024-12-04 10:40:38 [scrapy.spidermiddlewares.httperror] INFO: Ignoring response <400 https://proxy.scrapeops.io/v1/?api_key=&url=https%3A%2F%2Fproxy.scrapeops.io%2Fv1%2F%3Fapi_key%3D%26url%3Dhttps%253A%2F%2Fwww.fanfiction.net%2Fs%2F13965126%2F2%2FA-Second-Honeymoon-Journey>: HTTP status code is not handled or not allowed\n",
      "2024-12-04 10:40:38 [scrapy.spidermiddlewares.httperror] INFO: Ignoring response <400 https://proxy.scrapeops.io/v1/?api_key=&url=https%3A%2F%2Fproxy.scrapeops.io%2Fv1%2F%3Fapi_key%3D%26url%3Dhttps%253A%2F%2Fwww.fanfiction.net%2Fs%2F14256524%2F2%2FThe-Reichenbach-Shot-CONCEPT>: HTTP status code is not handled or not allowed\n",
      "2024-12-04 10:40:38 [scrapy.core.engine] DEBUG: Crawled (400) <GET https://proxy.scrapeops.io/v1/?api_key=&url=https%3A%2F%2Fproxy.scrapeops.io%2Fv1%2F%3Fapi_key%3D%26url%3Dhttps%253A%2F%2Fwww.fanfiction.net%2Fs%2F14266341%2F2%2FThe-beginning-of-the-end> (referer: https://steamdb.info/graph/)\n",
      "2024-12-04 10:40:38 [scrapy.spidermiddlewares.httperror] INFO: Ignoring response <400 https://proxy.scrapeops.io/v1/?api_key=&url=https%3A%2F%2Fproxy.scrapeops.io%2Fv1%2F%3Fapi_key%3D%26url%3Dhttps%253A%2F%2Fwww.fanfiction.net%2Fs%2F13801434%2F2%2FThe-Adventures-of-Sherlock-Holmes-and-his-journalist>: HTTP status code is not handled or not allowed\n",
      "2024-12-04 10:40:38 [scrapy.spidermiddlewares.httperror] INFO: Ignoring response <400 https://proxy.scrapeops.io/v1/?api_key=&url=https%3A%2F%2Fproxy.scrapeops.io%2Fv1%2F%3Fapi_key%3D%26url%3Dhttps%253A%2F%2Fwww.fanfiction.net%2Fs%2F14266341%2F2%2FThe-beginning-of-the-end>: HTTP status code is not handled or not allowed\n",
      "2024-12-04 10:40:38 [scrapy.downloadermiddlewares.retry] DEBUG: Retrying <GET https://proxy.scrapeops.io/v1/?api_key=&url=https%3A%2F%2Fwww.fanfiction.net%2Fs%2F14259336%2F1%2FBond-Night> (failed 1 times): 429 Unknown Status\n",
      "2024-12-04 10:40:38 [scrapy.downloadermiddlewares.retry] DEBUG: Retrying <GET https://proxy.scrapeops.io/v1/?api_key=&url=https%3A%2F%2Fwww.fanfiction.net%2Fs%2F14259452%2F1%2FSimple-Logic> (failed 1 times): 429 Unknown Status\n",
      "2024-12-04 10:40:38 [scrapy.core.engine] DEBUG: Crawled (400) <GET https://proxy.scrapeops.io/v1/?api_key=&url=https%3A%2F%2Fproxy.scrapeops.io%2Fv1%2F%3Fapi_key%3D%26url%3Dhttps%253A%2F%2Fwww.fanfiction.net%2Fs%2F14266347%2F2%2FAlready-too-late> (referer: https://steamdb.info/graph/)\n",
      "2024-12-04 10:40:38 [scrapy.core.engine] DEBUG: Crawled (200) <GET https://proxy.scrapeops.io/v1/?api_key=&url=https%3A%2F%2Fwww.fanfiction.net%2Fs%2F14268278%2F1%2FIt-is-what-it-is> (referer: https://steamdb.info/graph/)\n",
      "2024-12-04 10:40:38 [scrapy.spidermiddlewares.httperror] INFO: Ignoring response <400 https://proxy.scrapeops.io/v1/?api_key=&url=https%3A%2F%2Fproxy.scrapeops.io%2Fv1%2F%3Fapi_key%3D%26url%3Dhttps%253A%2F%2Fwww.fanfiction.net%2Fs%2F14266347%2F2%2FAlready-too-late>: HTTP status code is not handled or not allowed\n",
      "2024-12-04 10:40:38 [scrapy.core.engine] DEBUG: Crawled (400) <GET https://proxy.scrapeops.io/v1/?api_key=&url=https%3A%2F%2Fproxy.scrapeops.io%2Fv1%2F%3Fapi_key%3D%26url%3Dhttps%253A%2F%2Fwww.fanfiction.net%2Fs%2F14255181%2F2%2FLuminous> (referer: https://steamdb.info/graph/)\n",
      "2024-12-04 10:40:38 [scrapy.core.engine] DEBUG: Crawled (200) <GET https://proxy.scrapeops.io/v1/?api_key=&url=https%3A%2F%2Fwww.fanfiction.net%2Fs%2F14270794%2F1%2FCome-to-grief-Series-3-What-did-he-say-to-you> (referer: https://steamdb.info/graph/)\n",
      "2024-12-04 10:40:38 [scrapy.spidermiddlewares.httperror] INFO: Ignoring response <400 https://proxy.scrapeops.io/v1/?api_key=&url=https%3A%2F%2Fproxy.scrapeops.io%2Fv1%2F%3Fapi_key%3D%26url%3Dhttps%253A%2F%2Fwww.fanfiction.net%2Fs%2F14255181%2F2%2FLuminous>: HTTP status code is not handled or not allowed\n"
     ]
    },
    {
     "name": "stdout",
     "output_type": "stream",
     "text": [
      "\n",
      "https://proxy.scrapeops.io/v1/?api_key=&url=https%3A%2F%2Fwww.fanfiction.net%2Fs%2F14268278%2F1%2FIt-is-what-it-is\n",
      "\n",
      "https://proxy.scrapeops.io/v1/?api_key=&url=https%3A%2F%2Fwww.fanfiction.net%2Fs%2F14270794%2F1%2FCome-to-grief-Series-3-What-did-he-say-to-you\n"
     ]
    },
    {
     "name": "stderr",
     "output_type": "stream",
     "text": [
      "2024-12-04 10:40:39 [scrapy.core.engine] DEBUG: Crawled (200) <GET https://proxy.scrapeops.io/v1/?api_key=&url=https%3A%2F%2Fwww.fanfiction.net%2Fs%2F14271277%2F1%2FLe-Gouvernement-et-l-Inspecteur> (referer: https://steamdb.info/graph/)\n"
     ]
    },
    {
     "name": "stdout",
     "output_type": "stream",
     "text": [
      "\n"
     ]
    },
    {
     "name": "stderr",
     "output_type": "stream",
     "text": [
      "2024-12-04 10:40:39 [scrapy.core.engine] DEBUG: Crawled (200) <GET https://proxy.scrapeops.io/v1/?api_key=&url=https%3A%2F%2Fwww.fanfiction.net%2Fs%2F11087906%2F1%2FOh-It-s-You> (referer: https://steamdb.info/graph/)\n"
     ]
    },
    {
     "name": "stdout",
     "output_type": "stream",
     "text": [
      "\n",
      "https://proxy.scrapeops.io/v1/?api_key=&url=https%3A%2F%2Fwww.fanfiction.net%2Fs%2F11087906%2F1%2FOh-It-s-You\n"
     ]
    },
    {
     "name": "stderr",
     "output_type": "stream",
     "text": [
      "2024-12-04 10:40:40 [scrapy.core.engine] DEBUG: Crawled (200) <GET https://proxy.scrapeops.io/v1/?api_key=&url=https%3A%2F%2Fwww.fanfiction.net%2Fs%2F14245194%2F1%2FCome-to-grief-Series-1-Come-to-Grief> (referer: https://steamdb.info/graph/)\n"
     ]
    },
    {
     "name": "stdout",
     "output_type": "stream",
     "text": [
      "\n",
      "https://proxy.scrapeops.io/v1/?api_key=&url=https%3A%2F%2Fwww.fanfiction.net%2Fs%2F14245194%2F1%2FCome-to-grief-Series-1-Come-to-Grief\n"
     ]
    },
    {
     "name": "stderr",
     "output_type": "stream",
     "text": [
      "2024-12-04 10:40:40 [scrapy.core.engine] DEBUG: Crawled (200) <GET https://proxy.scrapeops.io/v1/?api_key=&url=https%3A%2F%2Fwww.fanfiction.net%2Fs%2F14284606%2F1%2FScotland-Yard-s-catboy> (referer: https://steamdb.info/graph/)\n",
      "2024-12-04 10:40:40 [scrapy.core.engine] DEBUG: Crawled (200) <GET https://proxy.scrapeops.io/v1/?api_key=&url=https%3A%2F%2Fwww.fanfiction.net%2Fs%2F14284613%2F1%2FMy-Brother-s-Keeper> (referer: https://steamdb.info/graph/)\n"
     ]
    },
    {
     "name": "stdout",
     "output_type": "stream",
     "text": [
      "\n",
      "https://proxy.scrapeops.io/v1/?api_key=&url=https%3A%2F%2Fwww.fanfiction.net%2Fs%2F14284606%2F1%2FScotland-Yard-s-catboy\n",
      "\n",
      "https://proxy.scrapeops.io/v1/?api_key=&url=https%3A%2F%2Fwww.fanfiction.net%2Fs%2F14284613%2F1%2FMy-Brother-s-Keeper\n"
     ]
    },
    {
     "name": "stderr",
     "output_type": "stream",
     "text": [
      "2024-12-04 10:40:41 [scrapy.core.engine] DEBUG: Crawled (200) <GET https://proxy.scrapeops.io/v1/?api_key=&url=https%3A%2F%2Fwww.fanfiction.net%2Fs%2F14284524%2F1%2FLady-In-Black> (referer: https://steamdb.info/graph/)\n"
     ]
    },
    {
     "name": "stdout",
     "output_type": "stream",
     "text": [
      "\n",
      "https://proxy.scrapeops.io/v1/?api_key=&url=https%3A%2F%2Fwww.fanfiction.net%2Fs%2F14284524%2F1%2FLady-In-Black\n"
     ]
    },
    {
     "name": "stderr",
     "output_type": "stream",
     "text": [
      "2024-12-04 10:40:41 [scrapy.core.engine] DEBUG: Crawled (200) <GET https://proxy.scrapeops.io/v1/?api_key=&url=https%3A%2F%2Fwww.fanfiction.net%2Fs%2F14292342%2F1%2FCome-to-grief-Series-4-Cake> (referer: https://steamdb.info/graph/)\n"
     ]
    },
    {
     "name": "stdout",
     "output_type": "stream",
     "text": [
      "\n",
      "https://proxy.scrapeops.io/v1/?api_key=&url=https%3A%2F%2Fwww.fanfiction.net%2Fs%2F14292342%2F1%2FCome-to-grief-Series-4-Cake\n"
     ]
    },
    {
     "name": "stderr",
     "output_type": "stream",
     "text": [
      "2024-12-04 10:40:42 [scrapy.core.engine] DEBUG: Crawled (200) <GET https://proxy.scrapeops.io/v1/?api_key=&url=https%3A%2F%2Fwww.fanfiction.net%2Fs%2F14278605%2F1%2FCome-to-grief-Series-5-Redemption> (referer: https://steamdb.info/graph/)\n",
      "2024-12-04 10:40:42 [scrapy.core.engine] DEBUG: Crawled (200) <GET https://proxy.scrapeops.io/v1/?api_key=&url=https%3A%2F%2Fwww.fanfiction.net%2Fs%2F14297007%2F1%2FFalling> (referer: https://steamdb.info/graph/)\n",
      "2024-12-04 10:40:42 [scrapy.core.engine] DEBUG: Crawled (200) <GET https://proxy.scrapeops.io/v1/?api_key=&url=https%3A%2F%2Fwww.fanfiction.net%2Fs%2F13796787%2F1%2FLet-Him-Go-John-Watson> (referer: https://steamdb.info/graph/)\n",
      "2024-12-04 10:40:42 [scrapy.core.engine] DEBUG: Crawled (400) <GET https://proxy.scrapeops.io/v1/?api_key=&url=https%3A%2F%2Fproxy.scrapeops.io%2Fv1%2F%3Fapi_key%3D%26url%3Dhttps%253A%2F%2Fwww.fanfiction.net%2Fs%2F14268278%2F2%2FIt-is-what-it-is> (referer: https://steamdb.info/graph/)\n",
      "2024-12-04 10:40:42 [scrapy.core.engine] DEBUG: Crawled (400) <GET https://proxy.scrapeops.io/v1/?api_key=&url=https%3A%2F%2Fproxy.scrapeops.io%2Fv1%2F%3Fapi_key%3D%26url%3Dhttps%253A%2F%2Fwww.fanfiction.net%2Fs%2F14270794%2F2%2FCome-to-grief-Series-3-What-did-he-say-to-you> (referer: https://steamdb.info/graph/)\n",
      "2024-12-04 10:40:42 [scrapy.core.engine] DEBUG: Crawled (400) <GET https://proxy.scrapeops.io/v1/?api_key=&url=https%3A%2F%2Fproxy.scrapeops.io%2Fv1%2F%3Fapi_key%3D%26url%3Dhttps%253A%2F%2Fwww.fanfiction.net%2Fs%2F11087906%2F2%2FOh-It-s-You> (referer: https://steamdb.info/graph/)\n",
      "2024-12-04 10:40:42 [scrapy.spidermiddlewares.httperror] INFO: Ignoring response <400 https://proxy.scrapeops.io/v1/?api_key=&url=https%3A%2F%2Fproxy.scrapeops.io%2Fv1%2F%3Fapi_key%3D%26url%3Dhttps%253A%2F%2Fwww.fanfiction.net%2Fs%2F14268278%2F2%2FIt-is-what-it-is>: HTTP status code is not handled or not allowed\n",
      "2024-12-04 10:40:42 [scrapy.core.engine] DEBUG: Crawled (400) <GET https://proxy.scrapeops.io/v1/?api_key=&url=https%3A%2F%2Fproxy.scrapeops.io%2Fv1%2F%3Fapi_key%3D%26url%3Dhttps%253A%2F%2Fwww.fanfiction.net%2Fs%2F14245194%2F2%2FCome-to-grief-Series-1-Come-to-Grief> (referer: https://steamdb.info/graph/)\n",
      "2024-12-04 10:40:42 [scrapy.spidermiddlewares.httperror] INFO: Ignoring response <400 https://proxy.scrapeops.io/v1/?api_key=&url=https%3A%2F%2Fproxy.scrapeops.io%2Fv1%2F%3Fapi_key%3D%26url%3Dhttps%253A%2F%2Fwww.fanfiction.net%2Fs%2F14270794%2F2%2FCome-to-grief-Series-3-What-did-he-say-to-you>: HTTP status code is not handled or not allowed\n",
      "2024-12-04 10:40:43 [scrapy.spidermiddlewares.httperror] INFO: Ignoring response <400 https://proxy.scrapeops.io/v1/?api_key=&url=https%3A%2F%2Fproxy.scrapeops.io%2Fv1%2F%3Fapi_key%3D%26url%3Dhttps%253A%2F%2Fwww.fanfiction.net%2Fs%2F11087906%2F2%2FOh-It-s-You>: HTTP status code is not handled or not allowed\n",
      "2024-12-04 10:40:43 [scrapy.core.engine] DEBUG: Crawled (400) <GET https://proxy.scrapeops.io/v1/?api_key=&url=https%3A%2F%2Fproxy.scrapeops.io%2Fv1%2F%3Fapi_key%3D%26url%3Dhttps%253A%2F%2Fwww.fanfiction.net%2Fs%2F14284613%2F2%2FMy-Brother-s-Keeper> (referer: https://steamdb.info/graph/)\n"
     ]
    },
    {
     "name": "stdout",
     "output_type": "stream",
     "text": [
      "\n",
      "https://proxy.scrapeops.io/v1/?api_key=&url=https%3A%2F%2Fwww.fanfiction.net%2Fs%2F14278605%2F1%2FCome-to-grief-Series-5-Redemption\n",
      "\n",
      "https://proxy.scrapeops.io/v1/?api_key=&url=https%3A%2F%2Fwww.fanfiction.net%2Fs%2F14297007%2F1%2FFalling\n",
      "\n",
      "https://proxy.scrapeops.io/v1/?api_key=&url=https%3A%2F%2Fwww.fanfiction.net%2Fs%2F13796787%2F1%2FLet-Him-Go-John-Watson\n"
     ]
    },
    {
     "name": "stderr",
     "output_type": "stream",
     "text": [
      "2024-12-04 10:40:43 [scrapy.spidermiddlewares.httperror] INFO: Ignoring response <400 https://proxy.scrapeops.io/v1/?api_key=&url=https%3A%2F%2Fproxy.scrapeops.io%2Fv1%2F%3Fapi_key%3D%26url%3Dhttps%253A%2F%2Fwww.fanfiction.net%2Fs%2F14245194%2F2%2FCome-to-grief-Series-1-Come-to-Grief>: HTTP status code is not handled or not allowed\n",
      "2024-12-04 10:40:43 [scrapy.core.engine] DEBUG: Crawled (400) <GET https://proxy.scrapeops.io/v1/?api_key=&url=https%3A%2F%2Fproxy.scrapeops.io%2Fv1%2F%3Fapi_key%3D%26url%3Dhttps%253A%2F%2Fwww.fanfiction.net%2Fs%2F14284524%2F2%2FLady-In-Black> (referer: https://steamdb.info/graph/)\n",
      "2024-12-04 10:40:43 [scrapy.core.engine] DEBUG: Crawled (200) <GET https://proxy.scrapeops.io/v1/?api_key=&url=https%3A%2F%2Fwww.fanfiction.net%2Fs%2F14298625%2F1%2FThe-Game-is-Never-Over> (referer: https://steamdb.info/graph/)\n",
      "2024-12-04 10:40:43 [scrapy.spidermiddlewares.httperror] INFO: Ignoring response <400 https://proxy.scrapeops.io/v1/?api_key=&url=https%3A%2F%2Fproxy.scrapeops.io%2Fv1%2F%3Fapi_key%3D%26url%3Dhttps%253A%2F%2Fwww.fanfiction.net%2Fs%2F14284613%2F2%2FMy-Brother-s-Keeper>: HTTP status code is not handled or not allowed\n",
      "2024-12-04 10:40:43 [scrapy.core.engine] DEBUG: Crawled (400) <GET https://proxy.scrapeops.io/v1/?api_key=&url=https%3A%2F%2Fproxy.scrapeops.io%2Fv1%2F%3Fapi_key%3D%26url%3Dhttps%253A%2F%2Fwww.fanfiction.net%2Fs%2F14292342%2F2%2FCome-to-grief-Series-4-Cake> (referer: https://steamdb.info/graph/)\n",
      "2024-12-04 10:40:43 [scrapy.spidermiddlewares.httperror] INFO: Ignoring response <400 https://proxy.scrapeops.io/v1/?api_key=&url=https%3A%2F%2Fproxy.scrapeops.io%2Fv1%2F%3Fapi_key%3D%26url%3Dhttps%253A%2F%2Fwww.fanfiction.net%2Fs%2F14284524%2F2%2FLady-In-Black>: HTTP status code is not handled or not allowed\n",
      "2024-12-04 10:40:43 [scrapy.core.engine] DEBUG: Crawled (400) <GET https://proxy.scrapeops.io/v1/?api_key=&url=https%3A%2F%2Fproxy.scrapeops.io%2Fv1%2F%3Fapi_key%3D%26url%3Dhttps%253A%2F%2Fwww.fanfiction.net%2Fs%2F14284606%2F2%2FScotland-Yard-s-catboy> (referer: https://steamdb.info/graph/)\n",
      "2024-12-04 10:40:43 [scrapy.spidermiddlewares.httperror] INFO: Ignoring response <400 https://proxy.scrapeops.io/v1/?api_key=&url=https%3A%2F%2Fproxy.scrapeops.io%2Fv1%2F%3Fapi_key%3D%26url%3Dhttps%253A%2F%2Fwww.fanfiction.net%2Fs%2F14292342%2F2%2FCome-to-grief-Series-4-Cake>: HTTP status code is not handled or not allowed\n",
      "2024-12-04 10:40:43 [scrapy.spidermiddlewares.httperror] INFO: Ignoring response <400 https://proxy.scrapeops.io/v1/?api_key=&url=https%3A%2F%2Fproxy.scrapeops.io%2Fv1%2F%3Fapi_key%3D%26url%3Dhttps%253A%2F%2Fwww.fanfiction.net%2Fs%2F14284606%2F2%2FScotland-Yard-s-catboy>: HTTP status code is not handled or not allowed\n"
     ]
    },
    {
     "name": "stdout",
     "output_type": "stream",
     "text": [
      "\n",
      "https://proxy.scrapeops.io/v1/?api_key=&url=https%3A%2F%2Fwww.fanfiction.net%2Fs%2F14298625%2F1%2FThe-Game-is-Never-Over\n"
     ]
    },
    {
     "name": "stderr",
     "output_type": "stream",
     "text": [
      "2024-12-04 10:40:44 [scrapy.downloadermiddlewares.retry] DEBUG: Retrying <GET https://proxy.scrapeops.io/v1/?api_key=&url=https%3A%2F%2Fwww.fanfiction.net%2Fs%2F14284899%2F1%2FIt-s-Not-Too-Late> (failed 1 times): 429 Unknown Status\n",
      "2024-12-04 10:40:44 [scrapy.downloadermiddlewares.retry] DEBUG: Retrying <GET https://proxy.scrapeops.io/v1/?api_key=&url=https%3A%2F%2Fwww.fanfiction.net%2Fs%2F14285071%2F1%2FLa-derni%25C3%25A8re-d%25C3%25A9couverte-de-Sherlock> (failed 1 times): 429 Unknown Status\n",
      "2024-12-04 10:40:44 [scrapy.core.engine] DEBUG: Crawled (200) <GET https://proxy.scrapeops.io/v1/?api_key=&url=https%3A%2F%2Fwww.fanfiction.net%2Fs%2F14300180%2F1%2FConfession> (referer: https://steamdb.info/graph/)\n",
      "2024-12-04 10:40:44 [scrapy.core.engine] DEBUG: Crawled (400) <GET https://proxy.scrapeops.io/v1/?api_key=&url=https%3A%2F%2Fproxy.scrapeops.io%2Fv1%2F%3Fapi_key%3D%26url%3Dhttps%253A%2F%2Fwww.fanfiction.net%2Fs%2F14278605%2F2%2FCome-to-grief-Series-5-Redemption> (referer: https://steamdb.info/graph/)\n",
      "2024-12-04 10:40:44 [scrapy.core.engine] DEBUG: Crawled (400) <GET https://proxy.scrapeops.io/v1/?api_key=&url=https%3A%2F%2Fproxy.scrapeops.io%2Fv1%2F%3Fapi_key%3D%26url%3Dhttps%253A%2F%2Fwww.fanfiction.net%2Fs%2F13796787%2F2%2FLet-Him-Go-John-Watson> (referer: https://steamdb.info/graph/)\n",
      "2024-12-04 10:40:44 [scrapy.spidermiddlewares.httperror] INFO: Ignoring response <400 https://proxy.scrapeops.io/v1/?api_key=&url=https%3A%2F%2Fproxy.scrapeops.io%2Fv1%2F%3Fapi_key%3D%26url%3Dhttps%253A%2F%2Fwww.fanfiction.net%2Fs%2F14278605%2F2%2FCome-to-grief-Series-5-Redemption>: HTTP status code is not handled or not allowed\n",
      "2024-12-04 10:40:44 [scrapy.core.engine] DEBUG: Crawled (400) <GET https://proxy.scrapeops.io/v1/?api_key=&url=https%3A%2F%2Fproxy.scrapeops.io%2Fv1%2F%3Fapi_key%3D%26url%3Dhttps%253A%2F%2Fwww.fanfiction.net%2Fs%2F14297007%2F2%2FFalling> (referer: https://steamdb.info/graph/)\n",
      "2024-12-04 10:40:44 [scrapy.spidermiddlewares.httperror] INFO: Ignoring response <400 https://proxy.scrapeops.io/v1/?api_key=&url=https%3A%2F%2Fproxy.scrapeops.io%2Fv1%2F%3Fapi_key%3D%26url%3Dhttps%253A%2F%2Fwww.fanfiction.net%2Fs%2F13796787%2F2%2FLet-Him-Go-John-Watson>: HTTP status code is not handled or not allowed\n",
      "2024-12-04 10:40:44 [scrapy.spidermiddlewares.httperror] INFO: Ignoring response <400 https://proxy.scrapeops.io/v1/?api_key=&url=https%3A%2F%2Fproxy.scrapeops.io%2Fv1%2F%3Fapi_key%3D%26url%3Dhttps%253A%2F%2Fwww.fanfiction.net%2Fs%2F14297007%2F2%2FFalling>: HTTP status code is not handled or not allowed\n"
     ]
    },
    {
     "name": "stdout",
     "output_type": "stream",
     "text": [
      "\n",
      "https://proxy.scrapeops.io/v1/?api_key=&url=https%3A%2F%2Fwww.fanfiction.net%2Fs%2F14300180%2F1%2FConfession\n"
     ]
    },
    {
     "name": "stderr",
     "output_type": "stream",
     "text": [
      "2024-12-04 10:40:44 [scrapy.core.engine] DEBUG: Crawled (200) <GET https://proxy.scrapeops.io/v1/?api_key=&url=https%3A%2F%2Fwww.fanfiction.net%2Fs%2F8650329%2F1%2FDe-l-autre-c%25C3%25B4t%25C3%25A9> (referer: https://steamdb.info/graph/)\n"
     ]
    },
    {
     "name": "stdout",
     "output_type": "stream",
     "text": [
      "\n"
     ]
    },
    {
     "name": "stderr",
     "output_type": "stream",
     "text": [
      "2024-12-04 10:40:45 [scrapy.core.engine] DEBUG: Crawled (200) <GET https://proxy.scrapeops.io/v1/?api_key=&url=https%3A%2F%2Fwww.fanfiction.net%2Fs%2F13313349%2F1%2FHidden-Truths> (referer: https://steamdb.info/graph/)\n"
     ]
    },
    {
     "name": "stdout",
     "output_type": "stream",
     "text": [
      "\n",
      "https://proxy.scrapeops.io/v1/?api_key=&url=https%3A%2F%2Fwww.fanfiction.net%2Fs%2F13313349%2F1%2FHidden-Truths\n"
     ]
    },
    {
     "name": "stderr",
     "output_type": "stream",
     "text": [
      "2024-12-04 10:40:45 [scrapy.core.engine] DEBUG: Crawled (200) <GET https://proxy.scrapeops.io/v1/?api_key=&url=https%3A%2F%2Fwww.fanfiction.net%2Fs%2F14295309%2F1%2FThe-Curio-Cabinet> (referer: https://steamdb.info/graph/)\n",
      "2024-12-04 10:40:45 [scrapy.core.engine] DEBUG: Crawled (200) <GET https://proxy.scrapeops.io/v1/?api_key=&url=https%3A%2F%2Fwww.fanfiction.net%2Fs%2F14299095%2F1%2FReasoning-Reasons> (referer: https://steamdb.info/graph/)\n",
      "2024-12-04 10:40:45 [scrapy.core.engine] DEBUG: Crawled (400) <GET https://proxy.scrapeops.io/v1/?api_key=&url=https%3A%2F%2Fproxy.scrapeops.io%2Fv1%2F%3Fapi_key%3D%26url%3Dhttps%253A%2F%2Fwww.fanfiction.net%2Fs%2F14298625%2F2%2FThe-Game-is-Never-Over> (referer: https://steamdb.info/graph/)\n",
      "2024-12-04 10:40:45 [scrapy.core.engine] DEBUG: Crawled (200) <GET https://proxy.scrapeops.io/v1/?api_key=&url=https%3A%2F%2Fwww.fanfiction.net%2Fs%2F8534381%2F1%2FIt-s-Not-Polite-to-Throw-People-out-of-Windows> (referer: https://steamdb.info/graph/)\n",
      "2024-12-04 10:40:45 [scrapy.spidermiddlewares.httperror] INFO: Ignoring response <400 https://proxy.scrapeops.io/v1/?api_key=&url=https%3A%2F%2Fproxy.scrapeops.io%2Fv1%2F%3Fapi_key%3D%26url%3Dhttps%253A%2F%2Fwww.fanfiction.net%2Fs%2F14298625%2F2%2FThe-Game-is-Never-Over>: HTTP status code is not handled or not allowed\n"
     ]
    },
    {
     "name": "stdout",
     "output_type": "stream",
     "text": [
      "\n",
      "https://proxy.scrapeops.io/v1/?api_key=&url=https%3A%2F%2Fwww.fanfiction.net%2Fs%2F14295309%2F1%2FThe-Curio-Cabinet\n",
      "\n",
      "https://proxy.scrapeops.io/v1/?api_key=&url=https%3A%2F%2Fwww.fanfiction.net%2Fs%2F14299095%2F1%2FReasoning-Reasons\n",
      "\n",
      "https://proxy.scrapeops.io/v1/?api_key=&url=https%3A%2F%2Fwww.fanfiction.net%2Fs%2F8534381%2F1%2FIt-s-Not-Polite-to-Throw-People-out-of-Windows\n"
     ]
    },
    {
     "name": "stderr",
     "output_type": "stream",
     "text": [
      "2024-12-04 10:40:46 [scrapy.core.engine] DEBUG: Crawled (200) <GET https://proxy.scrapeops.io/v1/?api_key=&url=https%3A%2F%2Fwww.fanfiction.net%2Fs%2F14306567%2F1%2FSherlock-Finds-ViewVisitor-Stats-Missing-Tries-to-Find-Support> (referer: https://steamdb.info/graph/)\n"
     ]
    },
    {
     "name": "stdout",
     "output_type": "stream",
     "text": [
      "\n",
      "https://proxy.scrapeops.io/v1/?api_key=&url=https%3A%2F%2Fwww.fanfiction.net%2Fs%2F14306567%2F1%2FSherlock-Finds-ViewVisitor-Stats-Missing-Tries-to-Find-Support\n"
     ]
    },
    {
     "name": "stderr",
     "output_type": "stream",
     "text": [
      "2024-12-04 10:40:47 [scrapy.core.engine] DEBUG: Crawled (200) <GET https://proxy.scrapeops.io/v1/?api_key=&url=https%3A%2F%2Fwww.fanfiction.net%2Fs%2F12527304%2F1%2FThe-Little-Doe-Holmes> (referer: https://steamdb.info/graph/)\n",
      "2024-12-04 10:40:47 [scrapy.core.engine] DEBUG: Crawled (400) <GET https://proxy.scrapeops.io/v1/?api_key=&url=https%3A%2F%2Fproxy.scrapeops.io%2Fv1%2F%3Fapi_key%3D%26url%3Dhttps%253A%2F%2Fwww.fanfiction.net%2Fs%2F14300180%2F2%2FConfession> (referer: https://steamdb.info/graph/)\n",
      "2024-12-04 10:40:47 [scrapy.core.engine] DEBUG: Crawled (200) <GET https://proxy.scrapeops.io/v1/?api_key=&url=https%3A%2F%2Fwww.fanfiction.net%2Fs%2F14322488%2F1%2FConnecting-the-Dots> (referer: https://steamdb.info/graph/)\n",
      "2024-12-04 10:40:47 [scrapy.spidermiddlewares.httperror] INFO: Ignoring response <400 https://proxy.scrapeops.io/v1/?api_key=&url=https%3A%2F%2Fproxy.scrapeops.io%2Fv1%2F%3Fapi_key%3D%26url%3Dhttps%253A%2F%2Fwww.fanfiction.net%2Fs%2F14300180%2F2%2FConfession>: HTTP status code is not handled or not allowed\n",
      "2024-12-04 10:40:47 [scrapy.core.engine] DEBUG: Crawled (200) <GET https://proxy.scrapeops.io/v1/?api_key=&url=https%3A%2F%2Fwww.fanfiction.net%2Fs%2F14002566%2F1%2FThe-Golddigger-and-the-Gigolo> (referer: https://steamdb.info/graph/)\n"
     ]
    },
    {
     "name": "stdout",
     "output_type": "stream",
     "text": [
      "\n",
      "https://proxy.scrapeops.io/v1/?api_key=&url=https%3A%2F%2Fwww.fanfiction.net%2Fs%2F12527304%2F1%2FThe-Little-Doe-Holmes\n",
      "\n",
      "https://proxy.scrapeops.io/v1/?api_key=&url=https%3A%2F%2Fwww.fanfiction.net%2Fs%2F14322488%2F1%2FConnecting-the-Dots\n"
     ]
    },
    {
     "name": "stderr",
     "output_type": "stream",
     "text": [
      "2024-12-04 10:40:47 [scrapy.core.engine] DEBUG: Crawled (400) <GET https://proxy.scrapeops.io/v1/?api_key=&url=https%3A%2F%2Fproxy.scrapeops.io%2Fv1%2F%3Fapi_key%3D%26url%3Dhttps%253A%2F%2Fwww.fanfiction.net%2Fs%2F13313349%2F2%2FHidden-Truths> (referer: https://steamdb.info/graph/)\n",
      "2024-12-04 10:40:47 [scrapy.spidermiddlewares.httperror] INFO: Ignoring response <400 https://proxy.scrapeops.io/v1/?api_key=&url=https%3A%2F%2Fproxy.scrapeops.io%2Fv1%2F%3Fapi_key%3D%26url%3Dhttps%253A%2F%2Fwww.fanfiction.net%2Fs%2F13313349%2F2%2FHidden-Truths>: HTTP status code is not handled or not allowed\n"
     ]
    },
    {
     "name": "stdout",
     "output_type": "stream",
     "text": [
      "\n",
      "https://proxy.scrapeops.io/v1/?api_key=&url=https%3A%2F%2Fwww.fanfiction.net%2Fs%2F14002566%2F1%2FThe-Golddigger-and-the-Gigolo\n"
     ]
    },
    {
     "name": "stderr",
     "output_type": "stream",
     "text": [
      "2024-12-04 10:40:49 [scrapy.core.engine] DEBUG: Crawled (200) <GET https://proxy.scrapeops.io/v1/?api_key=&url=https%3A%2F%2Fwww.fanfiction.net%2Fs%2F14323724%2F1%2FCome-to-grief-Series-1-The-things-that-are-not-spoken-of> (referer: https://steamdb.info/graph/)\n",
      "2024-12-04 10:40:49 [scrapy.core.engine] DEBUG: Crawled (200) <GET https://proxy.scrapeops.io/v1/?api_key=&url=https%3A%2F%2Fwww.fanfiction.net%2Fs%2F14288219%2F1%2FDate-With-A-Holmes> (referer: https://steamdb.info/graph/)\n",
      "2024-12-04 10:40:49 [scrapy.core.engine] DEBUG: Crawled (200) <GET https://proxy.scrapeops.io/v1/?api_key=&url=https%3A%2F%2Fwww.fanfiction.net%2Fs%2F14302559%2F1%2FGirls-Of-Baker-Street-Rewrite> (referer: https://steamdb.info/graph/)\n",
      "2024-12-04 10:40:49 [scrapy.downloadermiddlewares.retry] DEBUG: Retrying <GET https://proxy.scrapeops.io/v1/?api_key=&url=https%3A%2F%2Fwww.fanfiction.net%2Fs%2F14309357%2F1%2FMolly-Hooper-Appreciation-Week-2023-Fics> (failed 1 times): 429 Unknown Status\n",
      "2024-12-04 10:40:49 [scrapy.core.engine] DEBUG: Crawled (200) <GET https://proxy.scrapeops.io/v1/?api_key=&url=https%3A%2F%2Fwww.fanfiction.net%2Fs%2F14334779%2F1%2FThe-worst-doctor-or-the-worst-patient> (referer: https://steamdb.info/graph/)\n",
      "2024-12-04 10:40:49 [scrapy.core.engine] DEBUG: Crawled (400) <GET https://proxy.scrapeops.io/v1/?api_key=&url=https%3A%2F%2Fproxy.scrapeops.io%2Fv1%2F%3Fapi_key%3D%26url%3Dhttps%253A%2F%2Fwww.fanfiction.net%2Fs%2F8534381%2F2%2FIt-s-Not-Polite-to-Throw-People-out-of-Windows> (referer: https://steamdb.info/graph/)\n"
     ]
    },
    {
     "name": "stdout",
     "output_type": "stream",
     "text": [
      "\n",
      "https://proxy.scrapeops.io/v1/?api_key=&url=https%3A%2F%2Fwww.fanfiction.net%2Fs%2F14323724%2F1%2FCome-to-grief-Series-1-The-things-that-are-not-spoken-of\n",
      "\n",
      "https://proxy.scrapeops.io/v1/?api_key=&url=https%3A%2F%2Fwww.fanfiction.net%2Fs%2F14288219%2F1%2FDate-With-A-Holmes\n",
      "\n",
      "https://proxy.scrapeops.io/v1/?api_key=&url=https%3A%2F%2Fwww.fanfiction.net%2Fs%2F14302559%2F1%2FGirls-Of-Baker-Street-Rewrite\n"
     ]
    },
    {
     "name": "stderr",
     "output_type": "stream",
     "text": [
      "2024-12-04 10:40:49 [scrapy.downloadermiddlewares.retry] DEBUG: Retrying <GET https://proxy.scrapeops.io/v1/?api_key=&url=https%3A%2F%2Fwww.fanfiction.net%2Fs%2F14311818%2F1%2FWhat-should-I-do-but-tend> (failed 1 times): 429 Unknown Status\n",
      "2024-12-04 10:40:49 [scrapy.core.engine] DEBUG: Crawled (400) <GET https://proxy.scrapeops.io/v1/?api_key=&url=https%3A%2F%2Fproxy.scrapeops.io%2Fv1%2F%3Fapi_key%3D%26url%3Dhttps%253A%2F%2Fwww.fanfiction.net%2Fs%2F14299095%2F2%2FReasoning-Reasons> (referer: https://steamdb.info/graph/)\n",
      "2024-12-04 10:40:49 [scrapy.core.engine] DEBUG: Crawled (400) <GET https://proxy.scrapeops.io/v1/?api_key=&url=https%3A%2F%2Fproxy.scrapeops.io%2Fv1%2F%3Fapi_key%3D%26url%3Dhttps%253A%2F%2Fwww.fanfiction.net%2Fs%2F14306567%2F2%2FSherlock-Finds-ViewVisitor-Stats-Missing-Tries-to-Find-Support> (referer: https://steamdb.info/graph/)\n",
      "2024-12-04 10:40:49 [scrapy.core.engine] DEBUG: Crawled (400) <GET https://proxy.scrapeops.io/v1/?api_key=&url=https%3A%2F%2Fproxy.scrapeops.io%2Fv1%2F%3Fapi_key%3D%26url%3Dhttps%253A%2F%2Fwww.fanfiction.net%2Fs%2F12527304%2F2%2FThe-Little-Doe-Holmes> (referer: https://steamdb.info/graph/)\n",
      "2024-12-04 10:40:49 [scrapy.spidermiddlewares.httperror] INFO: Ignoring response <400 https://proxy.scrapeops.io/v1/?api_key=&url=https%3A%2F%2Fproxy.scrapeops.io%2Fv1%2F%3Fapi_key%3D%26url%3Dhttps%253A%2F%2Fwww.fanfiction.net%2Fs%2F8534381%2F2%2FIt-s-Not-Polite-to-Throw-People-out-of-Windows>: HTTP status code is not handled or not allowed\n",
      "2024-12-04 10:40:49 [scrapy.core.engine] DEBUG: Crawled (400) <GET https://proxy.scrapeops.io/v1/?api_key=&url=https%3A%2F%2Fproxy.scrapeops.io%2Fv1%2F%3Fapi_key%3D%26url%3Dhttps%253A%2F%2Fwww.fanfiction.net%2Fs%2F14322488%2F2%2FConnecting-the-Dots> (referer: https://steamdb.info/graph/)\n",
      "2024-12-04 10:40:49 [scrapy.core.engine] DEBUG: Crawled (400) <GET https://proxy.scrapeops.io/v1/?api_key=&url=https%3A%2F%2Fproxy.scrapeops.io%2Fv1%2F%3Fapi_key%3D%26url%3Dhttps%253A%2F%2Fwww.fanfiction.net%2Fs%2F14002566%2F2%2FThe-Golddigger-and-the-Gigolo> (referer: https://steamdb.info/graph/)\n",
      "2024-12-04 10:40:49 [scrapy.spidermiddlewares.httperror] INFO: Ignoring response <400 https://proxy.scrapeops.io/v1/?api_key=&url=https%3A%2F%2Fproxy.scrapeops.io%2Fv1%2F%3Fapi_key%3D%26url%3Dhttps%253A%2F%2Fwww.fanfiction.net%2Fs%2F14299095%2F2%2FReasoning-Reasons>: HTTP status code is not handled or not allowed\n",
      "2024-12-04 10:40:49 [scrapy.core.engine] DEBUG: Crawled (400) <GET https://proxy.scrapeops.io/v1/?api_key=&url=https%3A%2F%2Fproxy.scrapeops.io%2Fv1%2F%3Fapi_key%3D%26url%3Dhttps%253A%2F%2Fwww.fanfiction.net%2Fs%2F14295309%2F2%2FThe-Curio-Cabinet> (referer: https://steamdb.info/graph/)\n",
      "2024-12-04 10:40:49 [scrapy.spidermiddlewares.httperror] INFO: Ignoring response <400 https://proxy.scrapeops.io/v1/?api_key=&url=https%3A%2F%2Fproxy.scrapeops.io%2Fv1%2F%3Fapi_key%3D%26url%3Dhttps%253A%2F%2Fwww.fanfiction.net%2Fs%2F14306567%2F2%2FSherlock-Finds-ViewVisitor-Stats-Missing-Tries-to-Find-Support>: HTTP status code is not handled or not allowed\n",
      "2024-12-04 10:40:49 [scrapy.spidermiddlewares.httperror] INFO: Ignoring response <400 https://proxy.scrapeops.io/v1/?api_key=&url=https%3A%2F%2Fproxy.scrapeops.io%2Fv1%2F%3Fapi_key%3D%26url%3Dhttps%253A%2F%2Fwww.fanfiction.net%2Fs%2F12527304%2F2%2FThe-Little-Doe-Holmes>: HTTP status code is not handled or not allowed\n",
      "2024-12-04 10:40:49 [scrapy.core.engine] DEBUG: Crawled (400) <GET https://proxy.scrapeops.io/v1/?api_key=&url=https%3A%2F%2Fproxy.scrapeops.io%2Fv1%2F%3Fapi_key%3D%26url%3Dhttps%253A%2F%2Fwww.fanfiction.net%2Fs%2F14288219%2F2%2FDate-With-A-Holmes> (referer: https://steamdb.info/graph/)\n",
      "2024-12-04 10:40:49 [scrapy.spidermiddlewares.httperror] INFO: Ignoring response <400 https://proxy.scrapeops.io/v1/?api_key=&url=https%3A%2F%2Fproxy.scrapeops.io%2Fv1%2F%3Fapi_key%3D%26url%3Dhttps%253A%2F%2Fwww.fanfiction.net%2Fs%2F14322488%2F2%2FConnecting-the-Dots>: HTTP status code is not handled or not allowed\n",
      "2024-12-04 10:40:49 [scrapy.spidermiddlewares.httperror] INFO: Ignoring response <400 https://proxy.scrapeops.io/v1/?api_key=&url=https%3A%2F%2Fproxy.scrapeops.io%2Fv1%2F%3Fapi_key%3D%26url%3Dhttps%253A%2F%2Fwww.fanfiction.net%2Fs%2F14002566%2F2%2FThe-Golddigger-and-the-Gigolo>: HTTP status code is not handled or not allowed\n",
      "2024-12-04 10:40:49 [scrapy.spidermiddlewares.httperror] INFO: Ignoring response <400 https://proxy.scrapeops.io/v1/?api_key=&url=https%3A%2F%2Fproxy.scrapeops.io%2Fv1%2F%3Fapi_key%3D%26url%3Dhttps%253A%2F%2Fwww.fanfiction.net%2Fs%2F14295309%2F2%2FThe-Curio-Cabinet>: HTTP status code is not handled or not allowed\n"
     ]
    },
    {
     "name": "stdout",
     "output_type": "stream",
     "text": [
      "\n",
      "https://proxy.scrapeops.io/v1/?api_key=&url=https%3A%2F%2Fwww.fanfiction.net%2Fs%2F14334779%2F1%2FThe-worst-doctor-or-the-worst-patient\n"
     ]
    },
    {
     "name": "stderr",
     "output_type": "stream",
     "text": [
      "2024-12-04 10:40:49 [scrapy.core.engine] DEBUG: Crawled (400) <GET https://proxy.scrapeops.io/v1/?api_key=&url=https%3A%2F%2Fproxy.scrapeops.io%2Fv1%2F%3Fapi_key%3D%26url%3Dhttps%253A%2F%2Fwww.fanfiction.net%2Fs%2F14323724%2F2%2FCome-to-grief-Series-1-The-things-that-are-not-spoken-of> (referer: https://steamdb.info/graph/)\n",
      "2024-12-04 10:40:49 [scrapy.spidermiddlewares.httperror] INFO: Ignoring response <400 https://proxy.scrapeops.io/v1/?api_key=&url=https%3A%2F%2Fproxy.scrapeops.io%2Fv1%2F%3Fapi_key%3D%26url%3Dhttps%253A%2F%2Fwww.fanfiction.net%2Fs%2F14288219%2F2%2FDate-With-A-Holmes>: HTTP status code is not handled or not allowed\n",
      "2024-12-04 10:40:49 [scrapy.core.engine] DEBUG: Crawled (400) <GET https://proxy.scrapeops.io/v1/?api_key=&url=https%3A%2F%2Fproxy.scrapeops.io%2Fv1%2F%3Fapi_key%3D%26url%3Dhttps%253A%2F%2Fwww.fanfiction.net%2Fs%2F14302559%2F2%2FGirls-Of-Baker-Street-Rewrite> (referer: https://steamdb.info/graph/)\n",
      "2024-12-04 10:40:49 [scrapy.spidermiddlewares.httperror] INFO: Ignoring response <400 https://proxy.scrapeops.io/v1/?api_key=&url=https%3A%2F%2Fproxy.scrapeops.io%2Fv1%2F%3Fapi_key%3D%26url%3Dhttps%253A%2F%2Fwww.fanfiction.net%2Fs%2F14323724%2F2%2FCome-to-grief-Series-1-The-things-that-are-not-spoken-of>: HTTP status code is not handled or not allowed\n",
      "2024-12-04 10:40:49 [scrapy.spidermiddlewares.httperror] INFO: Ignoring response <400 https://proxy.scrapeops.io/v1/?api_key=&url=https%3A%2F%2Fproxy.scrapeops.io%2Fv1%2F%3Fapi_key%3D%26url%3Dhttps%253A%2F%2Fwww.fanfiction.net%2Fs%2F14302559%2F2%2FGirls-Of-Baker-Street-Rewrite>: HTTP status code is not handled or not allowed\n",
      "2024-12-04 10:40:50 [scrapy.extensions.logstats] INFO: Crawled 903 pages (at 240 pages/min), scraped 0 items (at 0 items/min)\n",
      "2024-12-04 10:40:50 [scrapy.core.engine] DEBUG: Crawled (200) <GET https://proxy.scrapeops.io/v1/?api_key=&url=https%3A%2F%2Fwww.fanfiction.net%2Fs%2F14161305%2F1%2FThe-Unsolvable-Case> (referer: https://steamdb.info/graph/)\n",
      "2024-12-04 10:40:51 [scrapy.core.engine] DEBUG: Crawled (200) <GET https://proxy.scrapeops.io/v1/?api_key=&url=https%3A%2F%2Fwww.fanfiction.net%2Fs%2F14338188%2F1%2FFather-Abilities> (referer: https://steamdb.info/graph/)\n",
      "2024-12-04 10:40:51 [scrapy.core.engine] DEBUG: Crawled (400) <GET https://proxy.scrapeops.io/v1/?api_key=&url=https%3A%2F%2Fproxy.scrapeops.io%2Fv1%2F%3Fapi_key%3D%26url%3Dhttps%253A%2F%2Fwww.fanfiction.net%2Fs%2F14334779%2F2%2FThe-worst-doctor-or-the-worst-patient> (referer: https://steamdb.info/graph/)\n"
     ]
    },
    {
     "name": "stdout",
     "output_type": "stream",
     "text": [
      "\n",
      "https://proxy.scrapeops.io/v1/?api_key=&url=https%3A%2F%2Fwww.fanfiction.net%2Fs%2F14161305%2F1%2FThe-Unsolvable-Case\n",
      "\n",
      "https://proxy.scrapeops.io/v1/?api_key=&url=https%3A%2F%2Fwww.fanfiction.net%2Fs%2F14338188%2F1%2FFather-Abilities\n"
     ]
    },
    {
     "name": "stderr",
     "output_type": "stream",
     "text": [
      "2024-12-04 10:40:51 [scrapy.spidermiddlewares.httperror] INFO: Ignoring response <400 https://proxy.scrapeops.io/v1/?api_key=&url=https%3A%2F%2Fproxy.scrapeops.io%2Fv1%2F%3Fapi_key%3D%26url%3Dhttps%253A%2F%2Fwww.fanfiction.net%2Fs%2F14334779%2F2%2FThe-worst-doctor-or-the-worst-patient>: HTTP status code is not handled or not allowed\n",
      "2024-12-04 10:40:51 [scrapy.core.engine] DEBUG: Crawled (200) <GET https://proxy.scrapeops.io/v1/?api_key=&url=https%3A%2F%2Fwww.fanfiction.net%2Fs%2F14193594%2F1%2FDeath-Becomes-Them> (referer: https://steamdb.info/graph/)\n",
      "2024-12-04 10:40:51 [scrapy.core.engine] DEBUG: Crawled (200) <GET https://proxy.scrapeops.io/v1/?api_key=&url=https%3A%2F%2Fwww.fanfiction.net%2Fs%2F14341115%2F1%2FSherlolly-Appreciation-Week-2024> (referer: https://steamdb.info/graph/)\n"
     ]
    },
    {
     "name": "stdout",
     "output_type": "stream",
     "text": [
      "\n",
      "https://proxy.scrapeops.io/v1/?api_key=&url=https%3A%2F%2Fwww.fanfiction.net%2Fs%2F14193594%2F1%2FDeath-Becomes-Them\n",
      "\n",
      "https://proxy.scrapeops.io/v1/?api_key=&url=https%3A%2F%2Fwww.fanfiction.net%2Fs%2F14341115%2F1%2FSherlolly-Appreciation-Week-2024\n"
     ]
    },
    {
     "name": "stderr",
     "output_type": "stream",
     "text": [
      "2024-12-04 10:40:52 [scrapy.core.engine] DEBUG: Crawled (200) <GET https://proxy.scrapeops.io/v1/?api_key=&url=https%3A%2F%2Fwww.fanfiction.net%2Fs%2F14323844%2F1%2FA-New-Watch> (referer: https://steamdb.info/graph/)\n",
      "2024-12-04 10:40:52 [scrapy.core.engine] DEBUG: Crawled (200) <GET https://proxy.scrapeops.io/v1/?api_key=&url=https%3A%2F%2Fwww.fanfiction.net%2Fs%2F14342729%2F1%2FBAKE-OFF-HOMICIDE-DIVISION> (referer: https://steamdb.info/graph/)\n"
     ]
    },
    {
     "name": "stdout",
     "output_type": "stream",
     "text": [
      "\n",
      "https://proxy.scrapeops.io/v1/?api_key=&url=https%3A%2F%2Fwww.fanfiction.net%2Fs%2F14323844%2F1%2FA-New-Watch\n",
      "\n",
      "https://proxy.scrapeops.io/v1/?api_key=&url=https%3A%2F%2Fwww.fanfiction.net%2Fs%2F14342729%2F1%2FBAKE-OFF-HOMICIDE-DIVISION\n"
     ]
    },
    {
     "name": "stderr",
     "output_type": "stream",
     "text": [
      "2024-12-04 10:40:53 [scrapy.core.engine] DEBUG: Crawled (200) <GET https://proxy.scrapeops.io/v1/?api_key=&url=https%3A%2F%2Fwww.fanfiction.net%2Fs%2F14351063%2F1%2FAnd-all-others-should-you-wish-it> (referer: https://steamdb.info/graph/)\n",
      "2024-12-04 10:40:53 [scrapy.core.engine] DEBUG: Crawled (200) <GET https://proxy.scrapeops.io/v1/?api_key=&url=https%3A%2F%2Fwww.fanfiction.net%2Fs%2F14350989%2F1%2FJohnlock%25E7%2589%2588Speak-Now> (referer: https://steamdb.info/graph/)\n"
     ]
    },
    {
     "name": "stdout",
     "output_type": "stream",
     "text": [
      "\n",
      "https://proxy.scrapeops.io/v1/?api_key=&url=https%3A%2F%2Fwww.fanfiction.net%2Fs%2F14351063%2F1%2FAnd-all-others-should-you-wish-it\n",
      "\n"
     ]
    },
    {
     "name": "stderr",
     "output_type": "stream",
     "text": [
      "2024-12-04 10:40:54 [scrapy.core.engine] DEBUG: Crawled (200) <GET https://proxy.scrapeops.io/v1/?api_key=&url=https%3A%2F%2Fwww.fanfiction.net%2Fs%2F14351069%2F1%2FOverheard> (referer: https://steamdb.info/graph/)\n",
      "2024-12-04 10:40:54 [scrapy.core.engine] DEBUG: Crawled (400) <GET https://proxy.scrapeops.io/v1/?api_key=&url=https%3A%2F%2Fproxy.scrapeops.io%2Fv1%2F%3Fapi_key%3D%26url%3Dhttps%253A%2F%2Fwww.fanfiction.net%2Fs%2F14161305%2F2%2FThe-Unsolvable-Case> (referer: https://steamdb.info/graph/)\n",
      "2024-12-04 10:40:54 [scrapy.core.engine] DEBUG: Crawled (200) <GET https://proxy.scrapeops.io/v1/?api_key=&url=https%3A%2F%2Fwww.fanfiction.net%2Fs%2F14351066%2F1%2FSwing-dancing> (referer: https://steamdb.info/graph/)\n",
      "2024-12-04 10:40:54 [scrapy.core.engine] DEBUG: Crawled (400) <GET https://proxy.scrapeops.io/v1/?api_key=&url=https%3A%2F%2Fproxy.scrapeops.io%2Fv1%2F%3Fapi_key%3D%26url%3Dhttps%253A%2F%2Fwww.fanfiction.net%2Fs%2F14338188%2F2%2FFather-Abilities> (referer: https://steamdb.info/graph/)\n",
      "2024-12-04 10:40:54 [scrapy.spidermiddlewares.httperror] INFO: Ignoring response <400 https://proxy.scrapeops.io/v1/?api_key=&url=https%3A%2F%2Fproxy.scrapeops.io%2Fv1%2F%3Fapi_key%3D%26url%3Dhttps%253A%2F%2Fwww.fanfiction.net%2Fs%2F14161305%2F2%2FThe-Unsolvable-Case>: HTTP status code is not handled or not allowed\n",
      "2024-12-04 10:40:54 [scrapy.core.engine] DEBUG: Crawled (400) <GET https://proxy.scrapeops.io/v1/?api_key=&url=https%3A%2F%2Fproxy.scrapeops.io%2Fv1%2F%3Fapi_key%3D%26url%3Dhttps%253A%2F%2Fwww.fanfiction.net%2Fs%2F14193594%2F2%2FDeath-Becomes-Them> (referer: https://steamdb.info/graph/)\n",
      "2024-12-04 10:40:54 [scrapy.spidermiddlewares.httperror] INFO: Ignoring response <400 https://proxy.scrapeops.io/v1/?api_key=&url=https%3A%2F%2Fproxy.scrapeops.io%2Fv1%2F%3Fapi_key%3D%26url%3Dhttps%253A%2F%2Fwww.fanfiction.net%2Fs%2F14338188%2F2%2FFather-Abilities>: HTTP status code is not handled or not allowed\n"
     ]
    },
    {
     "name": "stdout",
     "output_type": "stream",
     "text": [
      "\n",
      "https://proxy.scrapeops.io/v1/?api_key=&url=https%3A%2F%2Fwww.fanfiction.net%2Fs%2F14351069%2F1%2FOverheard\n",
      "\n",
      "https://proxy.scrapeops.io/v1/?api_key=&url=https%3A%2F%2Fwww.fanfiction.net%2Fs%2F14351066%2F1%2FSwing-dancing\n"
     ]
    },
    {
     "name": "stderr",
     "output_type": "stream",
     "text": [
      "2024-12-04 10:40:54 [scrapy.core.engine] DEBUG: Crawled (400) <GET https://proxy.scrapeops.io/v1/?api_key=&url=https%3A%2F%2Fproxy.scrapeops.io%2Fv1%2F%3Fapi_key%3D%26url%3Dhttps%253A%2F%2Fwww.fanfiction.net%2Fs%2F14341115%2F2%2FSherlolly-Appreciation-Week-2024> (referer: https://steamdb.info/graph/)\n",
      "2024-12-04 10:40:54 [scrapy.spidermiddlewares.httperror] INFO: Ignoring response <400 https://proxy.scrapeops.io/v1/?api_key=&url=https%3A%2F%2Fproxy.scrapeops.io%2Fv1%2F%3Fapi_key%3D%26url%3Dhttps%253A%2F%2Fwww.fanfiction.net%2Fs%2F14193594%2F2%2FDeath-Becomes-Them>: HTTP status code is not handled or not allowed\n",
      "2024-12-04 10:40:54 [scrapy.spidermiddlewares.httperror] INFO: Ignoring response <400 https://proxy.scrapeops.io/v1/?api_key=&url=https%3A%2F%2Fproxy.scrapeops.io%2Fv1%2F%3Fapi_key%3D%26url%3Dhttps%253A%2F%2Fwww.fanfiction.net%2Fs%2F14341115%2F2%2FSherlolly-Appreciation-Week-2024>: HTTP status code is not handled or not allowed\n",
      "2024-12-04 10:40:54 [scrapy.downloadermiddlewares.retry] DEBUG: Retrying <GET https://proxy.scrapeops.io/v1/?api_key=&url=https%3A%2F%2Fwww.fanfiction.net%2Fs%2F14342333%2F1%2FStuck-Underwater> (failed 1 times): 429 Unknown Status\n",
      "2024-12-04 10:40:54 [scrapy.core.engine] DEBUG: Crawled (400) <GET https://proxy.scrapeops.io/v1/?api_key=&url=https%3A%2F%2Fproxy.scrapeops.io%2Fv1%2F%3Fapi_key%3D%26url%3Dhttps%253A%2F%2Fwww.fanfiction.net%2Fs%2F14342729%2F2%2FBAKE-OFF-HOMICIDE-DIVISION> (referer: https://steamdb.info/graph/)\n",
      "2024-12-04 10:40:55 [scrapy.downloadermiddlewares.retry] DEBUG: Retrying <GET https://proxy.scrapeops.io/v1/?api_key=&url=https%3A%2F%2Fwww.fanfiction.net%2Fs%2F13905071%2F1%2FMy-Paper-Heart> (failed 1 times): 429 Unknown Status\n",
      "2024-12-04 10:40:55 [scrapy.core.engine] DEBUG: Crawled (400) <GET https://proxy.scrapeops.io/v1/?api_key=&url=https%3A%2F%2Fproxy.scrapeops.io%2Fv1%2F%3Fapi_key%3D%26url%3Dhttps%253A%2F%2Fwww.fanfiction.net%2Fs%2F14323844%2F2%2FA-New-Watch> (referer: https://steamdb.info/graph/)\n",
      "2024-12-04 10:40:55 [scrapy.spidermiddlewares.httperror] INFO: Ignoring response <400 https://proxy.scrapeops.io/v1/?api_key=&url=https%3A%2F%2Fproxy.scrapeops.io%2Fv1%2F%3Fapi_key%3D%26url%3Dhttps%253A%2F%2Fwww.fanfiction.net%2Fs%2F14342729%2F2%2FBAKE-OFF-HOMICIDE-DIVISION>: HTTP status code is not handled or not allowed\n",
      "2024-12-04 10:40:55 [scrapy.core.engine] DEBUG: Crawled (400) <GET https://proxy.scrapeops.io/v1/?api_key=&url=https%3A%2F%2Fproxy.scrapeops.io%2Fv1%2F%3Fapi_key%3D%26url%3Dhttps%253A%2F%2Fwww.fanfiction.net%2Fs%2F14351063%2F2%2FAnd-all-others-should-you-wish-it> (referer: https://steamdb.info/graph/)\n",
      "2024-12-04 10:40:55 [scrapy.core.engine] DEBUG: Crawled (200) <GET https://proxy.scrapeops.io/v1/?api_key=&url=https%3A%2F%2Fwww.fanfiction.net%2Fs%2F13518962%2F1%2FThe-Soldier-the-Messiah-the-Pariah> (referer: https://steamdb.info/graph/)\n",
      "2024-12-04 10:40:55 [scrapy.spidermiddlewares.httperror] INFO: Ignoring response <400 https://proxy.scrapeops.io/v1/?api_key=&url=https%3A%2F%2Fproxy.scrapeops.io%2Fv1%2F%3Fapi_key%3D%26url%3Dhttps%253A%2F%2Fwww.fanfiction.net%2Fs%2F14323844%2F2%2FA-New-Watch>: HTTP status code is not handled or not allowed\n",
      "2024-12-04 10:40:55 [scrapy.spidermiddlewares.httperror] INFO: Ignoring response <400 https://proxy.scrapeops.io/v1/?api_key=&url=https%3A%2F%2Fproxy.scrapeops.io%2Fv1%2F%3Fapi_key%3D%26url%3Dhttps%253A%2F%2Fwww.fanfiction.net%2Fs%2F14351063%2F2%2FAnd-all-others-should-you-wish-it>: HTTP status code is not handled or not allowed\n",
      "2024-12-04 10:40:55 [scrapy.core.engine] DEBUG: Crawled (400) <GET https://proxy.scrapeops.io/v1/?api_key=&url=https%3A%2F%2Fproxy.scrapeops.io%2Fv1%2F%3Fapi_key%3D%26url%3Dhttps%253A%2F%2Fwww.fanfiction.net%2Fs%2F14351069%2F2%2FOverheard> (referer: https://steamdb.info/graph/)\n",
      "2024-12-04 10:40:55 [scrapy.spidermiddlewares.httperror] INFO: Ignoring response <400 https://proxy.scrapeops.io/v1/?api_key=&url=https%3A%2F%2Fproxy.scrapeops.io%2Fv1%2F%3Fapi_key%3D%26url%3Dhttps%253A%2F%2Fwww.fanfiction.net%2Fs%2F14351069%2F2%2FOverheard>: HTTP status code is not handled or not allowed\n",
      "2024-12-04 10:40:55 [scrapy.core.engine] DEBUG: Crawled (200) <GET https://proxy.scrapeops.io/v1/?api_key=&url=https%3A%2F%2Fwww.fanfiction.net%2Fs%2F14351074%2F1%2FA-Quidditch-lesson> (referer: https://steamdb.info/graph/)\n",
      "2024-12-04 10:40:55 [scrapy.core.engine] DEBUG: Crawled (400) <GET https://proxy.scrapeops.io/v1/?api_key=&url=https%3A%2F%2Fproxy.scrapeops.io%2Fv1%2F%3Fapi_key%3D%26url%3Dhttps%253A%2F%2Fwww.fanfiction.net%2Fs%2F14351066%2F2%2FSwing-dancing> (referer: https://steamdb.info/graph/)\n"
     ]
    },
    {
     "name": "stdout",
     "output_type": "stream",
     "text": [
      "\n",
      "https://proxy.scrapeops.io/v1/?api_key=&url=https%3A%2F%2Fwww.fanfiction.net%2Fs%2F13518962%2F1%2FThe-Soldier-the-Messiah-the-Pariah\n",
      "\n",
      "https://proxy.scrapeops.io/v1/?api_key=&url=https%3A%2F%2Fwww.fanfiction.net%2Fs%2F14351074%2F1%2FA-Quidditch-lesson\n"
     ]
    },
    {
     "name": "stderr",
     "output_type": "stream",
     "text": [
      "2024-12-04 10:40:55 [scrapy.spidermiddlewares.httperror] INFO: Ignoring response <400 https://proxy.scrapeops.io/v1/?api_key=&url=https%3A%2F%2Fproxy.scrapeops.io%2Fv1%2F%3Fapi_key%3D%26url%3Dhttps%253A%2F%2Fwww.fanfiction.net%2Fs%2F14351066%2F2%2FSwing-dancing>: HTTP status code is not handled or not allowed\n",
      "2024-12-04 10:40:56 [scrapy.core.engine] DEBUG: Crawled (200) <GET https://proxy.scrapeops.io/v1/?api_key=&url=https%3A%2F%2Fwww.fanfiction.net%2Fs%2F14355172%2F1%2FI-Love-You> (referer: https://steamdb.info/graph/)\n",
      "2024-12-04 10:40:56 [scrapy.core.engine] DEBUG: Crawled (200) <GET https://proxy.scrapeops.io/v1/?api_key=&url=https%3A%2F%2Fwww.fanfiction.net%2Fs%2F14362770%2F1%2FOut-of-Sorts> (referer: https://steamdb.info/graph/)\n"
     ]
    },
    {
     "name": "stdout",
     "output_type": "stream",
     "text": [
      "\n",
      "https://proxy.scrapeops.io/v1/?api_key=&url=https%3A%2F%2Fwww.fanfiction.net%2Fs%2F14355172%2F1%2FI-Love-You\n",
      "\n",
      "https://proxy.scrapeops.io/v1/?api_key=&url=https%3A%2F%2Fwww.fanfiction.net%2Fs%2F14362770%2F1%2FOut-of-Sorts\n"
     ]
    },
    {
     "name": "stderr",
     "output_type": "stream",
     "text": [
      "2024-12-04 10:40:56 [scrapy.core.engine] DEBUG: Crawled (200) <GET https://proxy.scrapeops.io/v1/?api_key=&url=https%3A%2F%2Fwww.fanfiction.net%2Fs%2F14343268%2F1%2FThe-Coffee-Shop> (referer: https://steamdb.info/graph/)\n"
     ]
    },
    {
     "name": "stdout",
     "output_type": "stream",
     "text": [
      "\n",
      "https://proxy.scrapeops.io/v1/?api_key=&url=https%3A%2F%2Fwww.fanfiction.net%2Fs%2F14343268%2F1%2FThe-Coffee-Shop\n"
     ]
    },
    {
     "name": "stderr",
     "output_type": "stream",
     "text": [
      "2024-12-04 10:40:57 [scrapy.core.engine] DEBUG: Crawled (200) <GET https://proxy.scrapeops.io/v1/?api_key=&url=https%3A%2F%2Fwww.fanfiction.net%2Fs%2F14363152%2F1%2FA-Dream-Deferred> (referer: https://steamdb.info/graph/)\n"
     ]
    },
    {
     "name": "stdout",
     "output_type": "stream",
     "text": [
      "\n",
      "https://proxy.scrapeops.io/v1/?api_key=&url=https%3A%2F%2Fwww.fanfiction.net%2Fs%2F14363152%2F1%2FA-Dream-Deferred\n"
     ]
    },
    {
     "name": "stderr",
     "output_type": "stream",
     "text": [
      "2024-12-04 10:40:58 [scrapy.core.engine] DEBUG: Crawled (200) <GET https://proxy.scrapeops.io/v1/?api_key=&url=https%3A%2F%2Fwww.fanfiction.net%2Fs%2F14375991%2F1%2FIn-July> (referer: https://steamdb.info/graph/)\n",
      "2024-12-04 10:40:58 [scrapy.core.engine] DEBUG: Crawled (200) <GET https://proxy.scrapeops.io/v1/?api_key=&url=https%3A%2F%2Fwww.fanfiction.net%2Fs%2F14332441%2F1%2FFragile-This-Side-Up> (referer: https://steamdb.info/graph/)\n"
     ]
    },
    {
     "name": "stdout",
     "output_type": "stream",
     "text": [
      "\n",
      "https://proxy.scrapeops.io/v1/?api_key=&url=https%3A%2F%2Fwww.fanfiction.net%2Fs%2F14375991%2F1%2FIn-July\n",
      "\n",
      "https://proxy.scrapeops.io/v1/?api_key=&url=https%3A%2F%2Fwww.fanfiction.net%2Fs%2F14332441%2F1%2FFragile-This-Side-Up\n"
     ]
    },
    {
     "name": "stderr",
     "output_type": "stream",
     "text": [
      "2024-12-04 10:40:59 [scrapy.core.engine] DEBUG: Crawled (200) <GET https://proxy.scrapeops.io/v1/?api_key=&url=https%3A%2F%2Fwww.fanfiction.net%2Fs%2F14377831%2F1%2FFriends-Of-Eternity> (referer: https://steamdb.info/graph/)\n",
      "2024-12-04 10:40:59 [scrapy.core.engine] DEBUG: Crawled (400) <GET https://proxy.scrapeops.io/v1/?api_key=&url=https%3A%2F%2Fproxy.scrapeops.io%2Fv1%2F%3Fapi_key%3D%26url%3Dhttps%253A%2F%2Fwww.fanfiction.net%2Fs%2F13518962%2F2%2FThe-Soldier-the-Messiah-the-Pariah> (referer: https://steamdb.info/graph/)\n",
      "2024-12-04 10:40:59 [scrapy.spidermiddlewares.httperror] INFO: Ignoring response <400 https://proxy.scrapeops.io/v1/?api_key=&url=https%3A%2F%2Fproxy.scrapeops.io%2Fv1%2F%3Fapi_key%3D%26url%3Dhttps%253A%2F%2Fwww.fanfiction.net%2Fs%2F13518962%2F2%2FThe-Soldier-the-Messiah-the-Pariah>: HTTP status code is not handled or not allowed\n"
     ]
    },
    {
     "name": "stdout",
     "output_type": "stream",
     "text": [
      "\n",
      "https://proxy.scrapeops.io/v1/?api_key=&url=https%3A%2F%2Fwww.fanfiction.net%2Fs%2F14377831%2F1%2FFriends-Of-Eternity\n"
     ]
    },
    {
     "name": "stderr",
     "output_type": "stream",
     "text": [
      "2024-12-04 10:41:00 [scrapy.core.engine] DEBUG: Crawled (200) <GET https://proxy.scrapeops.io/v1/?api_key=&url=https%3A%2F%2Fwww.fanfiction.net%2Fs%2F10997518%2F1%2FA-First-Time-For-Everything> (referer: https://steamdb.info/graph/)\n",
      "2024-12-04 10:41:00 [scrapy.core.engine] DEBUG: Crawled (400) <GET https://proxy.scrapeops.io/v1/?api_key=&url=https%3A%2F%2Fproxy.scrapeops.io%2Fv1%2F%3Fapi_key%3D%26url%3Dhttps%253A%2F%2Fwww.fanfiction.net%2Fs%2F14351074%2F2%2FA-Quidditch-lesson> (referer: https://steamdb.info/graph/)\n",
      "2024-12-04 10:41:00 [scrapy.spidermiddlewares.httperror] INFO: Ignoring response <400 https://proxy.scrapeops.io/v1/?api_key=&url=https%3A%2F%2Fproxy.scrapeops.io%2Fv1%2F%3Fapi_key%3D%26url%3Dhttps%253A%2F%2Fwww.fanfiction.net%2Fs%2F14351074%2F2%2FA-Quidditch-lesson>: HTTP status code is not handled or not allowed\n",
      "2024-12-04 10:41:00 [scrapy.core.engine] DEBUG: Crawled (400) <GET https://proxy.scrapeops.io/v1/?api_key=&url=https%3A%2F%2Fproxy.scrapeops.io%2Fv1%2F%3Fapi_key%3D%26url%3Dhttps%253A%2F%2Fwww.fanfiction.net%2Fs%2F14355172%2F2%2FI-Love-You> (referer: https://steamdb.info/graph/)\n",
      "2024-12-04 10:41:00 [scrapy.core.engine] DEBUG: Crawled (200) <GET https://proxy.scrapeops.io/v1/?api_key=&url=https%3A%2F%2Fwww.fanfiction.net%2Fs%2F14383961%2F1%2FThe-Line> (referer: https://steamdb.info/graph/)\n",
      "2024-12-04 10:41:00 [scrapy.downloadermiddlewares.retry] DEBUG: Retrying <GET https://proxy.scrapeops.io/v1/?api_key=&url=https%3A%2F%2Fwww.fanfiction.net%2Fs%2F14363522%2F1%2FThe-Science-of-Magic-According-to-John-H-Watson> (failed 1 times): 429 Unknown Status\n",
      "2024-12-04 10:41:00 [scrapy.core.engine] DEBUG: Crawled (400) <GET https://proxy.scrapeops.io/v1/?api_key=&url=https%3A%2F%2Fproxy.scrapeops.io%2Fv1%2F%3Fapi_key%3D%26url%3Dhttps%253A%2F%2Fwww.fanfiction.net%2Fs%2F14362770%2F2%2FOut-of-Sorts> (referer: https://steamdb.info/graph/)\n",
      "2024-12-04 10:41:00 [scrapy.spidermiddlewares.httperror] INFO: Ignoring response <400 https://proxy.scrapeops.io/v1/?api_key=&url=https%3A%2F%2Fproxy.scrapeops.io%2Fv1%2F%3Fapi_key%3D%26url%3Dhttps%253A%2F%2Fwww.fanfiction.net%2Fs%2F14355172%2F2%2FI-Love-You>: HTTP status code is not handled or not allowed\n"
     ]
    },
    {
     "name": "stdout",
     "output_type": "stream",
     "text": [
      "\n",
      "https://proxy.scrapeops.io/v1/?api_key=&url=https%3A%2F%2Fwww.fanfiction.net%2Fs%2F10997518%2F1%2FA-First-Time-For-Everything\n"
     ]
    },
    {
     "name": "stderr",
     "output_type": "stream",
     "text": [
      "2024-12-04 10:41:00 [scrapy.core.engine] DEBUG: Crawled (400) <GET https://proxy.scrapeops.io/v1/?api_key=&url=https%3A%2F%2Fproxy.scrapeops.io%2Fv1%2F%3Fapi_key%3D%26url%3Dhttps%253A%2F%2Fwww.fanfiction.net%2Fs%2F14343268%2F2%2FThe-Coffee-Shop> (referer: https://steamdb.info/graph/)\n",
      "2024-12-04 10:41:00 [scrapy.core.engine] DEBUG: Crawled (400) <GET https://proxy.scrapeops.io/v1/?api_key=&url=https%3A%2F%2Fproxy.scrapeops.io%2Fv1%2F%3Fapi_key%3D%26url%3Dhttps%253A%2F%2Fwww.fanfiction.net%2Fs%2F14363152%2F2%2FA-Dream-Deferred> (referer: https://steamdb.info/graph/)\n",
      "2024-12-04 10:41:00 [scrapy.spidermiddlewares.httperror] INFO: Ignoring response <400 https://proxy.scrapeops.io/v1/?api_key=&url=https%3A%2F%2Fproxy.scrapeops.io%2Fv1%2F%3Fapi_key%3D%26url%3Dhttps%253A%2F%2Fwww.fanfiction.net%2Fs%2F14362770%2F2%2FOut-of-Sorts>: HTTP status code is not handled or not allowed\n",
      "2024-12-04 10:41:00 [scrapy.core.engine] DEBUG: Crawled (400) <GET https://proxy.scrapeops.io/v1/?api_key=&url=https%3A%2F%2Fproxy.scrapeops.io%2Fv1%2F%3Fapi_key%3D%26url%3Dhttps%253A%2F%2Fwww.fanfiction.net%2Fs%2F14332441%2F2%2FFragile-This-Side-Up> (referer: https://steamdb.info/graph/)\n",
      "2024-12-04 10:41:00 [scrapy.spidermiddlewares.httperror] INFO: Ignoring response <400 https://proxy.scrapeops.io/v1/?api_key=&url=https%3A%2F%2Fproxy.scrapeops.io%2Fv1%2F%3Fapi_key%3D%26url%3Dhttps%253A%2F%2Fwww.fanfiction.net%2Fs%2F14343268%2F2%2FThe-Coffee-Shop>: HTTP status code is not handled or not allowed\n",
      "2024-12-04 10:41:00 [scrapy.core.engine] DEBUG: Crawled (400) <GET https://proxy.scrapeops.io/v1/?api_key=&url=https%3A%2F%2Fproxy.scrapeops.io%2Fv1%2F%3Fapi_key%3D%26url%3Dhttps%253A%2F%2Fwww.fanfiction.net%2Fs%2F14375991%2F2%2FIn-July> (referer: https://steamdb.info/graph/)\n",
      "2024-12-04 10:41:00 [scrapy.spidermiddlewares.httperror] INFO: Ignoring response <400 https://proxy.scrapeops.io/v1/?api_key=&url=https%3A%2F%2Fproxy.scrapeops.io%2Fv1%2F%3Fapi_key%3D%26url%3Dhttps%253A%2F%2Fwww.fanfiction.net%2Fs%2F14363152%2F2%2FA-Dream-Deferred>: HTTP status code is not handled or not allowed\n",
      "2024-12-04 10:41:00 [scrapy.downloadermiddlewares.retry] DEBUG: Retrying <GET https://proxy.scrapeops.io/v1/?api_key=&url=https%3A%2F%2Fwww.fanfiction.net%2Fs%2F9974848%2F1%2FTwo-Brothers-and-a-Sister> (failed 1 times): 429 Unknown Status\n",
      "2024-12-04 10:41:00 [scrapy.core.engine] DEBUG: Crawled (400) <GET https://proxy.scrapeops.io/v1/?api_key=&url=https%3A%2F%2Fproxy.scrapeops.io%2Fv1%2F%3Fapi_key%3D%26url%3Dhttps%253A%2F%2Fwww.fanfiction.net%2Fs%2F14377831%2F2%2FFriends-Of-Eternity> (referer: https://steamdb.info/graph/)\n",
      "2024-12-04 10:41:00 [scrapy.spidermiddlewares.httperror] INFO: Ignoring response <400 https://proxy.scrapeops.io/v1/?api_key=&url=https%3A%2F%2Fproxy.scrapeops.io%2Fv1%2F%3Fapi_key%3D%26url%3Dhttps%253A%2F%2Fwww.fanfiction.net%2Fs%2F14332441%2F2%2FFragile-This-Side-Up>: HTTP status code is not handled or not allowed\n"
     ]
    },
    {
     "name": "stdout",
     "output_type": "stream",
     "text": [
      "\n",
      "https://proxy.scrapeops.io/v1/?api_key=&url=https%3A%2F%2Fwww.fanfiction.net%2Fs%2F14383961%2F1%2FThe-Line\n"
     ]
    },
    {
     "name": "stderr",
     "output_type": "stream",
     "text": [
      "2024-12-04 10:41:00 [scrapy.spidermiddlewares.httperror] INFO: Ignoring response <400 https://proxy.scrapeops.io/v1/?api_key=&url=https%3A%2F%2Fproxy.scrapeops.io%2Fv1%2F%3Fapi_key%3D%26url%3Dhttps%253A%2F%2Fwww.fanfiction.net%2Fs%2F14375991%2F2%2FIn-July>: HTTP status code is not handled or not allowed\n",
      "2024-12-04 10:41:00 [scrapy.core.engine] DEBUG: Crawled (400) <GET https://proxy.scrapeops.io/v1/?api_key=&url=https%3A%2F%2Fproxy.scrapeops.io%2Fv1%2F%3Fapi_key%3D%26url%3Dhttps%253A%2F%2Fwww.fanfiction.net%2Fs%2F10997518%2F2%2FA-First-Time-For-Everything> (referer: https://steamdb.info/graph/)\n",
      "2024-12-04 10:41:00 [scrapy.spidermiddlewares.httperror] INFO: Ignoring response <400 https://proxy.scrapeops.io/v1/?api_key=&url=https%3A%2F%2Fproxy.scrapeops.io%2Fv1%2F%3Fapi_key%3D%26url%3Dhttps%253A%2F%2Fwww.fanfiction.net%2Fs%2F14377831%2F2%2FFriends-Of-Eternity>: HTTP status code is not handled or not allowed\n",
      "2024-12-04 10:41:00 [scrapy.spidermiddlewares.httperror] INFO: Ignoring response <400 https://proxy.scrapeops.io/v1/?api_key=&url=https%3A%2F%2Fproxy.scrapeops.io%2Fv1%2F%3Fapi_key%3D%26url%3Dhttps%253A%2F%2Fwww.fanfiction.net%2Fs%2F10997518%2F2%2FA-First-Time-For-Everything>: HTTP status code is not handled or not allowed\n",
      "2024-12-04 10:41:00 [scrapy.core.engine] DEBUG: Crawled (200) <GET https://proxy.scrapeops.io/v1/?api_key=&url=https%3A%2F%2Fwww.fanfiction.net%2Fs%2F14385613%2F1%2FHis-Second-Love> (referer: https://steamdb.info/graph/)\n"
     ]
    },
    {
     "name": "stdout",
     "output_type": "stream",
     "text": [
      "\n",
      "https://proxy.scrapeops.io/v1/?api_key=&url=https%3A%2F%2Fwww.fanfiction.net%2Fs%2F14385613%2F1%2FHis-Second-Love\n"
     ]
    },
    {
     "name": "stderr",
     "output_type": "stream",
     "text": [
      "2024-12-04 10:41:02 [scrapy.core.engine] DEBUG: Crawled (200) <GET https://proxy.scrapeops.io/v1/?api_key=&url=https%3A%2F%2Fwww.fanfiction.net%2Fs%2F14385886%2F1%2FBet-on-the-Wrong-Hearse> (referer: https://steamdb.info/graph/)\n"
     ]
    },
    {
     "name": "stdout",
     "output_type": "stream",
     "text": [
      "\n",
      "https://proxy.scrapeops.io/v1/?api_key=&url=https%3A%2F%2Fwww.fanfiction.net%2Fs%2F14385886%2F1%2FBet-on-the-Wrong-Hearse\n"
     ]
    },
    {
     "name": "stderr",
     "output_type": "stream",
     "text": [
      "2024-12-04 10:41:02 [scrapy.core.engine] DEBUG: Crawled (200) <GET https://proxy.scrapeops.io/v1/?api_key=&url=https%3A%2F%2Fwww.fanfiction.net%2Fs%2F14397743%2F1%2FCome-to-grief-Series-8-The-Bothy> (referer: https://steamdb.info/graph/)\n",
      "2024-12-04 10:41:02 [scrapy.core.engine] DEBUG: Crawled (400) <GET https://proxy.scrapeops.io/v1/?api_key=&url=https%3A%2F%2Fproxy.scrapeops.io%2Fv1%2F%3Fapi_key%3D%26url%3Dhttps%253A%2F%2Fwww.fanfiction.net%2Fs%2F14383961%2F2%2FThe-Line> (referer: https://steamdb.info/graph/)\n",
      "2024-12-04 10:41:02 [scrapy.spidermiddlewares.httperror] INFO: Ignoring response <400 https://proxy.scrapeops.io/v1/?api_key=&url=https%3A%2F%2Fproxy.scrapeops.io%2Fv1%2F%3Fapi_key%3D%26url%3Dhttps%253A%2F%2Fwww.fanfiction.net%2Fs%2F14383961%2F2%2FThe-Line>: HTTP status code is not handled or not allowed\n"
     ]
    },
    {
     "name": "stdout",
     "output_type": "stream",
     "text": [
      "\n",
      "https://proxy.scrapeops.io/v1/?api_key=&url=https%3A%2F%2Fwww.fanfiction.net%2Fs%2F14397743%2F1%2FCome-to-grief-Series-8-The-Bothy\n"
     ]
    },
    {
     "name": "stderr",
     "output_type": "stream",
     "text": [
      "2024-12-04 10:41:04 [scrapy.core.engine] DEBUG: Crawled (200) <GET https://proxy.scrapeops.io/v1/?api_key=&url=https%3A%2F%2Fwww.fanfiction.net%2Fs%2F14406704%2F1%2FShadows-of-Grief> (referer: https://steamdb.info/graph/)\n",
      "2024-12-04 10:41:04 [scrapy.core.engine] DEBUG: Crawled (400) <GET https://proxy.scrapeops.io/v1/?api_key=&url=https%3A%2F%2Fproxy.scrapeops.io%2Fv1%2F%3Fapi_key%3D%26url%3Dhttps%253A%2F%2Fwww.fanfiction.net%2Fs%2F13473506%2F2%2FSurprise> (referer: https://steamdb.info/graph/)\n",
      "2024-12-04 10:41:04 [scrapy.core.engine] DEBUG: Crawled (200) <GET https://proxy.scrapeops.io/v1/?api_key=&url=https%3A%2F%2Fwww.fanfiction.net%2Fs%2F14405002%2F1%2FYou-Deserve-The-World> (referer: https://steamdb.info/graph/)\n",
      "2024-12-04 10:41:04 [scrapy.spidermiddlewares.httperror] INFO: Ignoring response <400 https://proxy.scrapeops.io/v1/?api_key=&url=https%3A%2F%2Fproxy.scrapeops.io%2Fv1%2F%3Fapi_key%3D%26url%3Dhttps%253A%2F%2Fwww.fanfiction.net%2Fs%2F13473506%2F2%2FSurprise>: HTTP status code is not handled or not allowed\n"
     ]
    },
    {
     "name": "stdout",
     "output_type": "stream",
     "text": [
      "\n",
      "https://proxy.scrapeops.io/v1/?api_key=&url=https%3A%2F%2Fwww.fanfiction.net%2Fs%2F14406704%2F1%2FShadows-of-Grief\n",
      "\n",
      "https://proxy.scrapeops.io/v1/?api_key=&url=https%3A%2F%2Fwww.fanfiction.net%2Fs%2F14405002%2F1%2FYou-Deserve-The-World\n"
     ]
    },
    {
     "name": "stderr",
     "output_type": "stream",
     "text": [
      "2024-12-04 10:41:05 [scrapy.core.engine] DEBUG: Crawled (200) <GET https://proxy.scrapeops.io/v1/?api_key=&url=https%3A%2F%2Fwww.fanfiction.net%2Fs%2F14323030%2F1%2FDer-kunstfertige-Handwerker> (referer: https://steamdb.info/graph/)\n",
      "2024-12-04 10:41:05 [scrapy.core.engine] DEBUG: Crawled (200) <GET https://proxy.scrapeops.io/v1/?api_key=&url=https%3A%2F%2Fwww.fanfiction.net%2Fs%2F14407546%2F1%2FThe-Enigma-of-the-Heart> (referer: https://steamdb.info/graph/)\n"
     ]
    },
    {
     "name": "stdout",
     "output_type": "stream",
     "text": [
      "\n"
     ]
    },
    {
     "name": "stderr",
     "output_type": "stream",
     "text": [
      "2024-12-04 10:41:05 [scrapy.downloadermiddlewares.retry] DEBUG: Retrying <GET https://proxy.scrapeops.io/v1/?api_key=&url=https%3A%2F%2Fwww.fanfiction.net%2Fs%2F14063463%2F1%2FA-Cold-Case> (failed 1 times): 429 Unknown Status\n",
      "2024-12-04 10:41:05 [scrapy.core.engine] DEBUG: Crawled (200) <GET https://proxy.scrapeops.io/v1/?api_key=&url=https%3A%2F%2Fwww.fanfiction.net%2Fs%2F14407115%2F1%2FA-Race-Against-Time> (referer: https://steamdb.info/graph/)\n",
      "2024-12-04 10:41:05 [scrapy.core.engine] DEBUG: Crawled (400) <GET https://proxy.scrapeops.io/v1/?api_key=&url=https%3A%2F%2Fproxy.scrapeops.io%2Fv1%2F%3Fapi_key%3D%26url%3Dhttps%253A%2F%2Fwww.fanfiction.net%2Fs%2F14385613%2F2%2FHis-Second-Love> (referer: https://steamdb.info/graph/)\n"
     ]
    },
    {
     "name": "stdout",
     "output_type": "stream",
     "text": [
      "\n",
      "https://proxy.scrapeops.io/v1/?api_key=&url=https%3A%2F%2Fwww.fanfiction.net%2Fs%2F14407546%2F1%2FThe-Enigma-of-the-Heart\n"
     ]
    },
    {
     "name": "stderr",
     "output_type": "stream",
     "text": [
      "2024-12-04 10:41:06 [scrapy.downloadermiddlewares.retry] DEBUG: Retrying <GET https://proxy.scrapeops.io/v1/?api_key=&url=https%3A%2F%2Fwww.fanfiction.net%2Fs%2F12733109%2F1%2FThe-Chemist> (failed 1 times): 429 Unknown Status\n",
      "2024-12-04 10:41:06 [scrapy.core.engine] DEBUG: Crawled (400) <GET https://proxy.scrapeops.io/v1/?api_key=&url=https%3A%2F%2Fproxy.scrapeops.io%2Fv1%2F%3Fapi_key%3D%26url%3Dhttps%253A%2F%2Fwww.fanfiction.net%2Fs%2F14385886%2F2%2FBet-on-the-Wrong-Hearse> (referer: https://steamdb.info/graph/)\n",
      "2024-12-04 10:41:06 [scrapy.spidermiddlewares.httperror] INFO: Ignoring response <400 https://proxy.scrapeops.io/v1/?api_key=&url=https%3A%2F%2Fproxy.scrapeops.io%2Fv1%2F%3Fapi_key%3D%26url%3Dhttps%253A%2F%2Fwww.fanfiction.net%2Fs%2F14385613%2F2%2FHis-Second-Love>: HTTP status code is not handled or not allowed\n",
      "2024-12-04 10:41:06 [scrapy.core.engine] DEBUG: Crawled (400) <GET https://proxy.scrapeops.io/v1/?api_key=&url=https%3A%2F%2Fproxy.scrapeops.io%2Fv1%2F%3Fapi_key%3D%26url%3Dhttps%253A%2F%2Fwww.fanfiction.net%2Fs%2F14397743%2F2%2FCome-to-grief-Series-8-The-Bothy> (referer: https://steamdb.info/graph/)\n",
      "2024-12-04 10:41:06 [scrapy.spidermiddlewares.httperror] INFO: Ignoring response <400 https://proxy.scrapeops.io/v1/?api_key=&url=https%3A%2F%2Fproxy.scrapeops.io%2Fv1%2F%3Fapi_key%3D%26url%3Dhttps%253A%2F%2Fwww.fanfiction.net%2Fs%2F14385886%2F2%2FBet-on-the-Wrong-Hearse>: HTTP status code is not handled or not allowed\n",
      "2024-12-04 10:41:06 [scrapy.core.engine] DEBUG: Crawled (400) <GET https://proxy.scrapeops.io/v1/?api_key=&url=https%3A%2F%2Fproxy.scrapeops.io%2Fv1%2F%3Fapi_key%3D%26url%3Dhttps%253A%2F%2Fwww.fanfiction.net%2Fs%2F14406704%2F2%2FShadows-of-Grief> (referer: https://steamdb.info/graph/)\n",
      "2024-12-04 10:41:06 [scrapy.spidermiddlewares.httperror] INFO: Ignoring response <400 https://proxy.scrapeops.io/v1/?api_key=&url=https%3A%2F%2Fproxy.scrapeops.io%2Fv1%2F%3Fapi_key%3D%26url%3Dhttps%253A%2F%2Fwww.fanfiction.net%2Fs%2F14397743%2F2%2FCome-to-grief-Series-8-The-Bothy>: HTTP status code is not handled or not allowed\n"
     ]
    },
    {
     "name": "stdout",
     "output_type": "stream",
     "text": [
      "\n",
      "https://proxy.scrapeops.io/v1/?api_key=&url=https%3A%2F%2Fwww.fanfiction.net%2Fs%2F14407115%2F1%2FA-Race-Against-Time\n"
     ]
    },
    {
     "name": "stderr",
     "output_type": "stream",
     "text": [
      "2024-12-04 10:41:06 [scrapy.spidermiddlewares.httperror] INFO: Ignoring response <400 https://proxy.scrapeops.io/v1/?api_key=&url=https%3A%2F%2Fproxy.scrapeops.io%2Fv1%2F%3Fapi_key%3D%26url%3Dhttps%253A%2F%2Fwww.fanfiction.net%2Fs%2F14406704%2F2%2FShadows-of-Grief>: HTTP status code is not handled or not allowed\n",
      "2024-12-04 10:41:06 [scrapy.core.engine] DEBUG: Crawled (400) <GET https://proxy.scrapeops.io/v1/?api_key=&url=https%3A%2F%2Fproxy.scrapeops.io%2Fv1%2F%3Fapi_key%3D%26url%3Dhttps%253A%2F%2Fwww.fanfiction.net%2Fs%2F14405002%2F2%2FYou-Deserve-The-World> (referer: https://steamdb.info/graph/)\n",
      "2024-12-04 10:41:06 [scrapy.spidermiddlewares.httperror] INFO: Ignoring response <400 https://proxy.scrapeops.io/v1/?api_key=&url=https%3A%2F%2Fproxy.scrapeops.io%2Fv1%2F%3Fapi_key%3D%26url%3Dhttps%253A%2F%2Fwww.fanfiction.net%2Fs%2F14405002%2F2%2FYou-Deserve-The-World>: HTTP status code is not handled or not allowed\n",
      "2024-12-04 10:41:07 [scrapy.core.engine] DEBUG: Crawled (200) <GET https://proxy.scrapeops.io/v1/?api_key=&url=https%3A%2F%2Fwww.fanfiction.net%2Fs%2F14408039%2F1%2FA-Christmas-Deduction> (referer: https://steamdb.info/graph/)\n",
      "2024-12-04 10:41:07 [scrapy.core.engine] DEBUG: Crawled (200) <GET https://proxy.scrapeops.io/v1/?api_key=&url=https%3A%2F%2Fwww.fanfiction.net%2Fs%2F14346935%2F1%2FJust-drop-it-John-tetrad> (referer: https://steamdb.info/graph/)\n",
      "2024-12-04 10:41:07 [scrapy.core.engine] DEBUG: Crawled (400) <GET https://proxy.scrapeops.io/v1/?api_key=&url=https%3A%2F%2Fproxy.scrapeops.io%2Fv1%2F%3Fapi_key%3D%26url%3Dhttps%253A%2F%2Fwww.fanfiction.net%2Fs%2F14407546%2F2%2FThe-Enigma-of-the-Heart> (referer: https://steamdb.info/graph/)\n",
      "2024-12-04 10:41:07 [scrapy.spidermiddlewares.httperror] INFO: Ignoring response <400 https://proxy.scrapeops.io/v1/?api_key=&url=https%3A%2F%2Fproxy.scrapeops.io%2Fv1%2F%3Fapi_key%3D%26url%3Dhttps%253A%2F%2Fwww.fanfiction.net%2Fs%2F14407546%2F2%2FThe-Enigma-of-the-Heart>: HTTP status code is not handled or not allowed\n"
     ]
    },
    {
     "name": "stdout",
     "output_type": "stream",
     "text": [
      "\n",
      "https://proxy.scrapeops.io/v1/?api_key=&url=https%3A%2F%2Fwww.fanfiction.net%2Fs%2F14408039%2F1%2FA-Christmas-Deduction\n",
      "\n",
      "https://proxy.scrapeops.io/v1/?api_key=&url=https%3A%2F%2Fwww.fanfiction.net%2Fs%2F14346935%2F1%2FJust-drop-it-John-tetrad\n"
     ]
    },
    {
     "name": "stderr",
     "output_type": "stream",
     "text": [
      "2024-12-04 10:41:07 [scrapy.core.engine] DEBUG: Crawled (200) <GET https://proxy.scrapeops.io/v1/?api_key=&url=https%3A%2F%2Fwww.fanfiction.net%2Fs%2F13662783%2F1%2FEl-arona-de-Rosamound> (referer: https://steamdb.info/graph/)\n"
     ]
    },
    {
     "name": "stdout",
     "output_type": "stream",
     "text": [
      "\n"
     ]
    },
    {
     "name": "stderr",
     "output_type": "stream",
     "text": [
      "2024-12-04 10:41:08 [scrapy.core.engine] DEBUG: Crawled (200) <GET https://proxy.scrapeops.io/v1/?api_key=&url=https%3A%2F%2Fwww.fanfiction.net%2Fs%2F14397576%2F1%2FDid-You-Miss-Me> (referer: https://steamdb.info/graph/)\n"
     ]
    },
    {
     "name": "stdout",
     "output_type": "stream",
     "text": [
      "\n",
      "https://proxy.scrapeops.io/v1/?api_key=&url=https%3A%2F%2Fwww.fanfiction.net%2Fs%2F14397576%2F1%2FDid-You-Miss-Me\n"
     ]
    },
    {
     "name": "stderr",
     "output_type": "stream",
     "text": [
      "2024-12-04 10:41:09 [scrapy.core.engine] DEBUG: Crawled (200) <GET https://proxy.scrapeops.io/v1/?api_key=&url=https%3A%2F%2Fwww.fanfiction.net%2Fs%2F14063463%2F1%2FA-Cold-Case> (referer: https://steamdb.info/graph/)\n",
      "2024-12-04 10:41:09 [scrapy.core.engine] DEBUG: Crawled (400) <GET https://proxy.scrapeops.io/v1/?api_key=&url=https%3A%2F%2Fproxy.scrapeops.io%2Fv1%2F%3Fapi_key%3D%26url%3Dhttps%253A%2F%2Fwww.fanfiction.net%2Fs%2F14407115%2F2%2FA-Race-Against-Time> (referer: https://steamdb.info/graph/)\n",
      "2024-12-04 10:41:09 [scrapy.spidermiddlewares.httperror] INFO: Ignoring response <400 https://proxy.scrapeops.io/v1/?api_key=&url=https%3A%2F%2Fproxy.scrapeops.io%2Fv1%2F%3Fapi_key%3D%26url%3Dhttps%253A%2F%2Fwww.fanfiction.net%2Fs%2F14407115%2F2%2FA-Race-Against-Time>: HTTP status code is not handled or not allowed\n",
      "2024-12-04 10:41:09 [scrapy.core.engine] DEBUG: Crawled (200) <GET https://proxy.scrapeops.io/v1/?api_key=&url=https%3A%2F%2Fwww.fanfiction.net%2Fs%2F9974848%2F1%2FTwo-Brothers-and-a-Sister> (referer: https://steamdb.info/graph/)\n"
     ]
    },
    {
     "name": "stdout",
     "output_type": "stream",
     "text": [
      "\n",
      "https://proxy.scrapeops.io/v1/?api_key=&url=https%3A%2F%2Fwww.fanfiction.net%2Fs%2F14063463%2F1%2FA-Cold-Case\n",
      "\n",
      "https://proxy.scrapeops.io/v1/?api_key=&url=https%3A%2F%2Fwww.fanfiction.net%2Fs%2F9974848%2F1%2FTwo-Brothers-and-a-Sister\n"
     ]
    },
    {
     "name": "stderr",
     "output_type": "stream",
     "text": [
      "2024-12-04 10:41:10 [scrapy.core.engine] DEBUG: Crawled (200) <GET https://proxy.scrapeops.io/v1/?api_key=&url=https%3A%2F%2Fwww.fanfiction.net%2Fs%2F12733109%2F1%2FThe-Chemist> (referer: https://steamdb.info/graph/)\n"
     ]
    },
    {
     "name": "stdout",
     "output_type": "stream",
     "text": [
      "\n",
      "https://proxy.scrapeops.io/v1/?api_key=&url=https%3A%2F%2Fwww.fanfiction.net%2Fs%2F12733109%2F1%2FThe-Chemist\n"
     ]
    },
    {
     "name": "stderr",
     "output_type": "stream",
     "text": [
      "2024-12-04 10:41:11 [scrapy.downloadermiddlewares.retry] DEBUG: Retrying <GET https://proxy.scrapeops.io/v1/?api_key=&url=https%3A%2F%2Fwww.fanfiction.net%2Fs%2F14095730%2F1%2FSherlock-And-The-Mysterious-Holiday-Case> (failed 1 times): 429 Unknown Status\n",
      "2024-12-04 10:41:11 [scrapy.core.engine] DEBUG: Crawled (200) <GET https://proxy.scrapeops.io/v1/?api_key=&url=https%3A%2F%2Fwww.fanfiction.net%2Fs%2F13905071%2F1%2FMy-Paper-Heart> (referer: https://steamdb.info/graph/)\n",
      "2024-12-04 10:41:11 [scrapy.downloadermiddlewares.retry] DEBUG: Retrying <GET https://proxy.scrapeops.io/v1/?api_key=&url=https%3A%2F%2Fwww.fanfiction.net%2Fs%2F14409420%2F1%2FThreads-of-Shadows> (failed 1 times): 429 Unknown Status\n",
      "2024-12-04 10:41:11 [scrapy.core.engine] DEBUG: Crawled (400) <GET https://proxy.scrapeops.io/v1/?api_key=&url=https%3A%2F%2Fproxy.scrapeops.io%2Fv1%2F%3Fapi_key%3D%26url%3Dhttps%253A%2F%2Fwww.fanfiction.net%2Fs%2F14346935%2F2%2FJust-drop-it-John-tetrad> (referer: https://steamdb.info/graph/)\n",
      "2024-12-04 10:41:11 [scrapy.core.engine] DEBUG: Crawled (400) <GET https://proxy.scrapeops.io/v1/?api_key=&url=https%3A%2F%2Fproxy.scrapeops.io%2Fv1%2F%3Fapi_key%3D%26url%3Dhttps%253A%2F%2Fwww.fanfiction.net%2Fs%2F14408039%2F2%2FA-Christmas-Deduction> (referer: https://steamdb.info/graph/)\n",
      "2024-12-04 10:41:11 [scrapy.spidermiddlewares.httperror] INFO: Ignoring response <400 https://proxy.scrapeops.io/v1/?api_key=&url=https%3A%2F%2Fproxy.scrapeops.io%2Fv1%2F%3Fapi_key%3D%26url%3Dhttps%253A%2F%2Fwww.fanfiction.net%2Fs%2F14346935%2F2%2FJust-drop-it-John-tetrad>: HTTP status code is not handled or not allowed\n",
      "2024-12-04 10:41:11 [scrapy.core.engine] DEBUG: Crawled (400) <GET https://proxy.scrapeops.io/v1/?api_key=&url=https%3A%2F%2Fproxy.scrapeops.io%2Fv1%2F%3Fapi_key%3D%26url%3Dhttps%253A%2F%2Fwww.fanfiction.net%2Fs%2F14397576%2F2%2FDid-You-Miss-Me> (referer: https://steamdb.info/graph/)\n",
      "2024-12-04 10:41:11 [scrapy.spidermiddlewares.httperror] INFO: Ignoring response <400 https://proxy.scrapeops.io/v1/?api_key=&url=https%3A%2F%2Fproxy.scrapeops.io%2Fv1%2F%3Fapi_key%3D%26url%3Dhttps%253A%2F%2Fwww.fanfiction.net%2Fs%2F14408039%2F2%2FA-Christmas-Deduction>: HTTP status code is not handled or not allowed\n"
     ]
    },
    {
     "name": "stdout",
     "output_type": "stream",
     "text": [
      "\n",
      "https://proxy.scrapeops.io/v1/?api_key=&url=https%3A%2F%2Fwww.fanfiction.net%2Fs%2F13905071%2F1%2FMy-Paper-Heart\n"
     ]
    },
    {
     "name": "stderr",
     "output_type": "stream",
     "text": [
      "2024-12-04 10:41:11 [scrapy.core.engine] DEBUG: Crawled (200) <GET https://proxy.scrapeops.io/v1/?api_key=&url=https%3A%2F%2Fwww.fanfiction.net%2Fs%2F14342333%2F1%2FStuck-Underwater> (referer: https://steamdb.info/graph/)\n",
      "2024-12-04 10:41:11 [scrapy.spidermiddlewares.httperror] INFO: Ignoring response <400 https://proxy.scrapeops.io/v1/?api_key=&url=https%3A%2F%2Fproxy.scrapeops.io%2Fv1%2F%3Fapi_key%3D%26url%3Dhttps%253A%2F%2Fwww.fanfiction.net%2Fs%2F14397576%2F2%2FDid-You-Miss-Me>: HTTP status code is not handled or not allowed\n",
      "2024-12-04 10:41:12 [scrapy.core.engine] DEBUG: Crawled (400) <GET https://proxy.scrapeops.io/v1/?api_key=&url=https%3A%2F%2Fproxy.scrapeops.io%2Fv1%2F%3Fapi_key%3D%26url%3Dhttps%253A%2F%2Fwww.fanfiction.net%2Fs%2F14063463%2F2%2FA-Cold-Case> (referer: https://steamdb.info/graph/)\n",
      "2024-12-04 10:41:12 [scrapy.core.engine] DEBUG: Crawled (400) <GET https://proxy.scrapeops.io/v1/?api_key=&url=https%3A%2F%2Fproxy.scrapeops.io%2Fv1%2F%3Fapi_key%3D%26url%3Dhttps%253A%2F%2Fwww.fanfiction.net%2Fs%2F9974848%2F2%2FTwo-Brothers-and-a-Sister> (referer: https://steamdb.info/graph/)\n",
      "2024-12-04 10:41:12 [scrapy.spidermiddlewares.httperror] INFO: Ignoring response <400 https://proxy.scrapeops.io/v1/?api_key=&url=https%3A%2F%2Fproxy.scrapeops.io%2Fv1%2F%3Fapi_key%3D%26url%3Dhttps%253A%2F%2Fwww.fanfiction.net%2Fs%2F14063463%2F2%2FA-Cold-Case>: HTTP status code is not handled or not allowed\n",
      "2024-12-04 10:41:12 [scrapy.spidermiddlewares.httperror] INFO: Ignoring response <400 https://proxy.scrapeops.io/v1/?api_key=&url=https%3A%2F%2Fproxy.scrapeops.io%2Fv1%2F%3Fapi_key%3D%26url%3Dhttps%253A%2F%2Fwww.fanfiction.net%2Fs%2F9974848%2F2%2FTwo-Brothers-and-a-Sister>: HTTP status code is not handled or not allowed\n",
      "2024-12-04 10:41:12 [scrapy.core.engine] DEBUG: Crawled (400) <GET https://proxy.scrapeops.io/v1/?api_key=&url=https%3A%2F%2Fproxy.scrapeops.io%2Fv1%2F%3Fapi_key%3D%26url%3Dhttps%253A%2F%2Fwww.fanfiction.net%2Fs%2F12733109%2F2%2FThe-Chemist> (referer: https://steamdb.info/graph/)\n",
      "2024-12-04 10:41:12 [scrapy.core.engine] DEBUG: Crawled (200) <GET https://proxy.scrapeops.io/v1/?api_key=&url=https%3A%2F%2Fwww.fanfiction.net%2Fs%2F14351064%2F1%2FChemistry> (referer: https://steamdb.info/graph/)\n"
     ]
    },
    {
     "name": "stdout",
     "output_type": "stream",
     "text": [
      "\n",
      "https://proxy.scrapeops.io/v1/?api_key=&url=https%3A%2F%2Fwww.fanfiction.net%2Fs%2F14342333%2F1%2FStuck-Underwater\n"
     ]
    },
    {
     "name": "stderr",
     "output_type": "stream",
     "text": [
      "2024-12-04 10:41:12 [scrapy.spidermiddlewares.httperror] INFO: Ignoring response <400 https://proxy.scrapeops.io/v1/?api_key=&url=https%3A%2F%2Fproxy.scrapeops.io%2Fv1%2F%3Fapi_key%3D%26url%3Dhttps%253A%2F%2Fwww.fanfiction.net%2Fs%2F12733109%2F2%2FThe-Chemist>: HTTP status code is not handled or not allowed\n"
     ]
    },
    {
     "name": "stdout",
     "output_type": "stream",
     "text": [
      "\n",
      "https://proxy.scrapeops.io/v1/?api_key=&url=https%3A%2F%2Fwww.fanfiction.net%2Fs%2F14351064%2F1%2FChemistry\n"
     ]
    },
    {
     "name": "stderr",
     "output_type": "stream",
     "text": [
      "2024-12-04 10:41:13 [scrapy.core.engine] DEBUG: Crawled (200) <GET https://proxy.scrapeops.io/v1/?api_key=&url=https%3A%2F%2Fwww.fanfiction.net%2Fs%2F14285071%2F1%2FLa-derni%25C3%25A8re-d%25C3%25A9couverte-de-Sherlock> (referer: https://steamdb.info/graph/)\n",
      "2024-12-04 10:41:13 [scrapy.core.engine] DEBUG: Crawled (400) <GET https://proxy.scrapeops.io/v1/?api_key=&url=https%3A%2F%2Fproxy.scrapeops.io%2Fv1%2F%3Fapi_key%3D%26url%3Dhttps%253A%2F%2Fwww.fanfiction.net%2Fs%2F13905071%2F2%2FMy-Paper-Heart> (referer: https://steamdb.info/graph/)\n",
      "2024-12-04 10:41:13 [scrapy.spidermiddlewares.httperror] INFO: Ignoring response <400 https://proxy.scrapeops.io/v1/?api_key=&url=https%3A%2F%2Fproxy.scrapeops.io%2Fv1%2F%3Fapi_key%3D%26url%3Dhttps%253A%2F%2Fwww.fanfiction.net%2Fs%2F13905071%2F2%2FMy-Paper-Heart>: HTTP status code is not handled or not allowed\n",
      "2024-12-04 10:41:13 [scrapy.core.engine] DEBUG: Crawled (200) <GET https://proxy.scrapeops.io/v1/?api_key=&url=https%3A%2F%2Fwww.fanfiction.net%2Fs%2F14095730%2F1%2FSherlock-And-The-Mysterious-Holiday-Case> (referer: https://steamdb.info/graph/)\n"
     ]
    },
    {
     "name": "stdout",
     "output_type": "stream",
     "text": [
      "\n",
      "\n",
      "https://proxy.scrapeops.io/v1/?api_key=&url=https%3A%2F%2Fwww.fanfiction.net%2Fs%2F14095730%2F1%2FSherlock-And-The-Mysterious-Holiday-Case\n"
     ]
    },
    {
     "name": "stderr",
     "output_type": "stream",
     "text": [
      "2024-12-04 10:41:14 [scrapy.core.engine] DEBUG: Crawled (200) <GET https://proxy.scrapeops.io/v1/?api_key=&url=https%3A%2F%2Fwww.fanfiction.net%2Fs%2F14409430%2F1%2FA-Case-of-Unforeseen-Interruption> (referer: https://steamdb.info/graph/)\n"
     ]
    },
    {
     "name": "stdout",
     "output_type": "stream",
     "text": [
      "\n",
      "https://proxy.scrapeops.io/v1/?api_key=&url=https%3A%2F%2Fwww.fanfiction.net%2Fs%2F14409430%2F1%2FA-Case-of-Unforeseen-Interruption\n"
     ]
    },
    {
     "name": "stderr",
     "output_type": "stream",
     "text": [
      "2024-12-04 10:41:15 [scrapy.core.engine] DEBUG: Crawled (200) <GET https://proxy.scrapeops.io/v1/?api_key=&url=https%3A%2F%2Fwww.fanfiction.net%2Fs%2F14311818%2F1%2FWhat-should-I-do-but-tend> (referer: https://steamdb.info/graph/)\n"
     ]
    },
    {
     "name": "stdout",
     "output_type": "stream",
     "text": [
      "\n",
      "https://proxy.scrapeops.io/v1/?api_key=&url=https%3A%2F%2Fwww.fanfiction.net%2Fs%2F14311818%2F1%2FWhat-should-I-do-but-tend\n"
     ]
    },
    {
     "name": "stderr",
     "output_type": "stream",
     "text": [
      "2024-12-04 10:41:15 [scrapy.core.engine] DEBUG: Crawled (200) <GET https://proxy.scrapeops.io/v1/?api_key=&url=https%3A%2F%2Fwww.fanfiction.net%2Fs%2F14284899%2F1%2FIt-s-Not-Too-Late> (referer: https://steamdb.info/graph/)\n",
      "2024-12-04 10:41:15 [scrapy.core.engine] DEBUG: Crawled (400) <GET https://proxy.scrapeops.io/v1/?api_key=&url=https%3A%2F%2Fproxy.scrapeops.io%2Fv1%2F%3Fapi_key%3D%26url%3Dhttps%253A%2F%2Fwww.fanfiction.net%2Fs%2F14342333%2F2%2FStuck-Underwater> (referer: https://steamdb.info/graph/)\n",
      "2024-12-04 10:41:15 [scrapy.spidermiddlewares.httperror] INFO: Ignoring response <400 https://proxy.scrapeops.io/v1/?api_key=&url=https%3A%2F%2Fproxy.scrapeops.io%2Fv1%2F%3Fapi_key%3D%26url%3Dhttps%253A%2F%2Fwww.fanfiction.net%2Fs%2F14342333%2F2%2FStuck-Underwater>: HTTP status code is not handled or not allowed\n"
     ]
    },
    {
     "name": "stdout",
     "output_type": "stream",
     "text": [
      "\n",
      "https://proxy.scrapeops.io/v1/?api_key=&url=https%3A%2F%2Fwww.fanfiction.net%2Fs%2F14284899%2F1%2FIt-s-Not-Too-Late\n"
     ]
    },
    {
     "name": "stderr",
     "output_type": "stream",
     "text": [
      "2024-12-04 10:41:16 [scrapy.core.engine] DEBUG: Crawled (200) <GET https://proxy.scrapeops.io/v1/?api_key=&url=https%3A%2F%2Fwww.fanfiction.net%2Fs%2F14363522%2F1%2FThe-Science-of-Magic-According-to-John-H-Watson> (referer: https://steamdb.info/graph/)\n"
     ]
    },
    {
     "name": "stdout",
     "output_type": "stream",
     "text": [
      "\n",
      "https://proxy.scrapeops.io/v1/?api_key=&url=https%3A%2F%2Fwww.fanfiction.net%2Fs%2F14363522%2F1%2FThe-Science-of-Magic-According-to-John-H-Watson\n"
     ]
    },
    {
     "name": "stderr",
     "output_type": "stream",
     "text": [
      "2024-12-04 10:41:16 [scrapy.downloadermiddlewares.retry] DEBUG: Retrying <GET https://proxy.scrapeops.io/v1/?api_key=&url=https%3A%2F%2Fwww.fanfiction.net%2Fs%2F14309357%2F1%2FMolly-Hooper-Appreciation-Week-2023-Fics> (failed 2 times): 429 Unknown Status\n",
      "2024-12-04 10:41:16 [scrapy.core.engine] DEBUG: Crawled (400) <GET https://proxy.scrapeops.io/v1/?api_key=&url=https%3A%2F%2Fproxy.scrapeops.io%2Fv1%2F%3Fapi_key%3D%26url%3Dhttps%253A%2F%2Fwww.fanfiction.net%2Fs%2F14351064%2F2%2FChemistry> (referer: https://steamdb.info/graph/)\n",
      "2024-12-04 10:41:16 [scrapy.spidermiddlewares.httperror] INFO: Ignoring response <400 https://proxy.scrapeops.io/v1/?api_key=&url=https%3A%2F%2Fproxy.scrapeops.io%2Fv1%2F%3Fapi_key%3D%26url%3Dhttps%253A%2F%2Fwww.fanfiction.net%2Fs%2F14351064%2F2%2FChemistry>: HTTP status code is not handled or not allowed\n",
      "2024-12-04 10:41:17 [scrapy.core.engine] DEBUG: Crawled (200) <GET https://proxy.scrapeops.io/v1/?api_key=&url=https%3A%2F%2Fwww.fanfiction.net%2Fs%2F8946574%2F1%2FRabbit-Song> (referer: https://steamdb.info/graph/)\n"
     ]
    },
    {
     "name": "stdout",
     "output_type": "stream",
     "text": [
      "\n",
      "https://proxy.scrapeops.io/v1/?api_key=&url=https%3A%2F%2Fwww.fanfiction.net%2Fs%2F8946574%2F1%2FRabbit-Song\n"
     ]
    },
    {
     "name": "stderr",
     "output_type": "stream",
     "text": [
      "2024-12-04 10:41:17 [scrapy.core.engine] DEBUG: Crawled (200) <GET https://proxy.scrapeops.io/v1/?api_key=&url=https%3A%2F%2Fwww.fanfiction.net%2Fs%2F14108089%2F1%2FTaken> (referer: https://steamdb.info/graph/)\n",
      "2024-12-04 10:41:17 [scrapy.core.engine] DEBUG: Crawled (200) <GET https://proxy.scrapeops.io/v1/?api_key=&url=https%3A%2F%2Fwww.fanfiction.net%2Fs%2F14233656%2F1%2FI-m-not-his-thing> (referer: https://steamdb.info/graph/)\n",
      "2024-12-04 10:41:18 [scrapy.core.engine] DEBUG: Crawled (400) <GET https://proxy.scrapeops.io/v1/?api_key=&url=https%3A%2F%2Fproxy.scrapeops.io%2Fv1%2F%3Fapi_key%3D%26url%3Dhttps%253A%2F%2Fwww.fanfiction.net%2Fs%2F14095730%2F2%2FSherlock-And-The-Mysterious-Holiday-Case> (referer: https://steamdb.info/graph/)\n",
      "2024-12-04 10:41:18 [scrapy.core.engine] DEBUG: Crawled (400) <GET https://proxy.scrapeops.io/v1/?api_key=&url=https%3A%2F%2Fproxy.scrapeops.io%2Fv1%2F%3Fapi_key%3D%26url%3Dhttps%253A%2F%2Fwww.fanfiction.net%2Fs%2F14409430%2F2%2FA-Case-of-Unforeseen-Interruption> (referer: https://steamdb.info/graph/)\n",
      "2024-12-04 10:41:18 [scrapy.core.engine] DEBUG: Crawled (400) <GET https://proxy.scrapeops.io/v1/?api_key=&url=https%3A%2F%2Fproxy.scrapeops.io%2Fv1%2F%3Fapi_key%3D%26url%3Dhttps%253A%2F%2Fwww.fanfiction.net%2Fs%2F14311818%2F2%2FWhat-should-I-do-but-tend> (referer: https://steamdb.info/graph/)\n",
      "2024-12-04 10:41:18 [scrapy.spidermiddlewares.httperror] INFO: Ignoring response <400 https://proxy.scrapeops.io/v1/?api_key=&url=https%3A%2F%2Fproxy.scrapeops.io%2Fv1%2F%3Fapi_key%3D%26url%3Dhttps%253A%2F%2Fwww.fanfiction.net%2Fs%2F14095730%2F2%2FSherlock-And-The-Mysterious-Holiday-Case>: HTTP status code is not handled or not allowed\n",
      "2024-12-04 10:41:18 [scrapy.spidermiddlewares.httperror] INFO: Ignoring response <400 https://proxy.scrapeops.io/v1/?api_key=&url=https%3A%2F%2Fproxy.scrapeops.io%2Fv1%2F%3Fapi_key%3D%26url%3Dhttps%253A%2F%2Fwww.fanfiction.net%2Fs%2F14409430%2F2%2FA-Case-of-Unforeseen-Interruption>: HTTP status code is not handled or not allowed\n",
      "2024-12-04 10:41:18 [scrapy.core.engine] DEBUG: Crawled (400) <GET https://proxy.scrapeops.io/v1/?api_key=&url=https%3A%2F%2Fproxy.scrapeops.io%2Fv1%2F%3Fapi_key%3D%26url%3Dhttps%253A%2F%2Fwww.fanfiction.net%2Fs%2F14284899%2F2%2FIt-s-Not-Too-Late> (referer: https://steamdb.info/graph/)\n",
      "2024-12-04 10:41:18 [scrapy.spidermiddlewares.httperror] INFO: Ignoring response <400 https://proxy.scrapeops.io/v1/?api_key=&url=https%3A%2F%2Fproxy.scrapeops.io%2Fv1%2F%3Fapi_key%3D%26url%3Dhttps%253A%2F%2Fwww.fanfiction.net%2Fs%2F14311818%2F2%2FWhat-should-I-do-but-tend>: HTTP status code is not handled or not allowed\n"
     ]
    },
    {
     "name": "stdout",
     "output_type": "stream",
     "text": [
      "\n",
      "https://proxy.scrapeops.io/v1/?api_key=&url=https%3A%2F%2Fwww.fanfiction.net%2Fs%2F14108089%2F1%2FTaken\n",
      "\n",
      "https://proxy.scrapeops.io/v1/?api_key=&url=https%3A%2F%2Fwww.fanfiction.net%2Fs%2F14233656%2F1%2FI-m-not-his-thing\n"
     ]
    },
    {
     "name": "stderr",
     "output_type": "stream",
     "text": [
      "2024-12-04 10:41:18 [scrapy.core.engine] DEBUG: Crawled (400) <GET https://proxy.scrapeops.io/v1/?api_key=&url=https%3A%2F%2Fproxy.scrapeops.io%2Fv1%2F%3Fapi_key%3D%26url%3Dhttps%253A%2F%2Fwww.fanfiction.net%2Fs%2F14363522%2F2%2FThe-Science-of-Magic-According-to-John-H-Watson> (referer: https://steamdb.info/graph/)\n",
      "2024-12-04 10:41:18 [scrapy.spidermiddlewares.httperror] INFO: Ignoring response <400 https://proxy.scrapeops.io/v1/?api_key=&url=https%3A%2F%2Fproxy.scrapeops.io%2Fv1%2F%3Fapi_key%3D%26url%3Dhttps%253A%2F%2Fwww.fanfiction.net%2Fs%2F14284899%2F2%2FIt-s-Not-Too-Late>: HTTP status code is not handled or not allowed\n",
      "2024-12-04 10:41:18 [scrapy.spidermiddlewares.httperror] INFO: Ignoring response <400 https://proxy.scrapeops.io/v1/?api_key=&url=https%3A%2F%2Fproxy.scrapeops.io%2Fv1%2F%3Fapi_key%3D%26url%3Dhttps%253A%2F%2Fwww.fanfiction.net%2Fs%2F14363522%2F2%2FThe-Science-of-Magic-According-to-John-H-Watson>: HTTP status code is not handled or not allowed\n",
      "2024-12-04 10:41:18 [scrapy.core.engine] DEBUG: Crawled (200) <GET https://proxy.scrapeops.io/v1/?api_key=&url=https%3A%2F%2Fwww.fanfiction.net%2Fs%2F14259336%2F1%2FBond-Night> (referer: https://steamdb.info/graph/)\n"
     ]
    },
    {
     "name": "stdout",
     "output_type": "stream",
     "text": [
      "\n",
      "https://proxy.scrapeops.io/v1/?api_key=&url=https%3A%2F%2Fwww.fanfiction.net%2Fs%2F14259336%2F1%2FBond-Night\n"
     ]
    },
    {
     "name": "stderr",
     "output_type": "stream",
     "text": [
      "2024-12-04 10:41:19 [scrapy.downloadermiddlewares.retry] DEBUG: Retrying <GET https://proxy.scrapeops.io/v1/?api_key=&url=https%3A%2F%2Fwww.fanfiction.net%2Fs%2F14259452%2F1%2FSimple-Logic> (failed 2 times): 429 Unknown Status\n",
      "2024-12-04 10:41:19 [scrapy.core.engine] DEBUG: Crawled (400) <GET https://proxy.scrapeops.io/v1/?api_key=&url=https%3A%2F%2Fproxy.scrapeops.io%2Fv1%2F%3Fapi_key%3D%26url%3Dhttps%253A%2F%2Fwww.fanfiction.net%2Fs%2F8946574%2F2%2FRabbit-Song> (referer: https://steamdb.info/graph/)\n",
      "2024-12-04 10:41:19 [scrapy.core.engine] DEBUG: Crawled (200) <GET https://proxy.scrapeops.io/v1/?api_key=&url=https%3A%2F%2Fwww.fanfiction.net%2Fs%2F14398235%2F1%2FLes-voyages-de-l-esprit-par-Umi-Lady-d-Acticiel> (referer: https://steamdb.info/graph/)\n",
      "2024-12-04 10:41:19 [scrapy.spidermiddlewares.httperror] INFO: Ignoring response <400 https://proxy.scrapeops.io/v1/?api_key=&url=https%3A%2F%2Fproxy.scrapeops.io%2Fv1%2F%3Fapi_key%3D%26url%3Dhttps%253A%2F%2Fwww.fanfiction.net%2Fs%2F8946574%2F2%2FRabbit-Song>: HTTP status code is not handled or not allowed\n",
      "2024-12-04 10:41:19 [scrapy.core.engine] DEBUG: Crawled (200) <GET https://proxy.scrapeops.io/v1/?api_key=&url=https%3A%2F%2Fwww.fanfiction.net%2Fs%2F11146230%2F1%2FFirst-Time-For-Everything> (referer: https://steamdb.info/graph/)\n",
      "2024-12-04 10:41:19 [scrapy.core.engine] DEBUG: Crawled (400) <GET https://proxy.scrapeops.io/v1/?api_key=&url=https%3A%2F%2Fproxy.scrapeops.io%2Fv1%2F%3Fapi_key%3D%26url%3Dhttps%253A%2F%2Fwww.fanfiction.net%2Fs%2F14108089%2F2%2FTaken> (referer: https://steamdb.info/graph/)\n",
      "2024-12-04 10:41:19 [scrapy.core.engine] DEBUG: Crawled (400) <GET https://proxy.scrapeops.io/v1/?api_key=&url=https%3A%2F%2Fproxy.scrapeops.io%2Fv1%2F%3Fapi_key%3D%26url%3Dhttps%253A%2F%2Fwww.fanfiction.net%2Fs%2F14233656%2F2%2FI-m-not-his-thing> (referer: https://steamdb.info/graph/)\n"
     ]
    },
    {
     "name": "stdout",
     "output_type": "stream",
     "text": [
      "\n",
      "\n",
      "https://proxy.scrapeops.io/v1/?api_key=&url=https%3A%2F%2Fwww.fanfiction.net%2Fs%2F11146230%2F1%2FFirst-Time-For-Everything\n"
     ]
    },
    {
     "name": "stderr",
     "output_type": "stream",
     "text": [
      "2024-12-04 10:41:19 [scrapy.spidermiddlewares.httperror] INFO: Ignoring response <400 https://proxy.scrapeops.io/v1/?api_key=&url=https%3A%2F%2Fproxy.scrapeops.io%2Fv1%2F%3Fapi_key%3D%26url%3Dhttps%253A%2F%2Fwww.fanfiction.net%2Fs%2F14108089%2F2%2FTaken>: HTTP status code is not handled or not allowed\n",
      "2024-12-04 10:41:19 [scrapy.spidermiddlewares.httperror] INFO: Ignoring response <400 https://proxy.scrapeops.io/v1/?api_key=&url=https%3A%2F%2Fproxy.scrapeops.io%2Fv1%2F%3Fapi_key%3D%26url%3Dhttps%253A%2F%2Fwww.fanfiction.net%2Fs%2F14233656%2F2%2FI-m-not-his-thing>: HTTP status code is not handled or not allowed\n",
      "2024-12-04 10:41:20 [scrapy.core.engine] DEBUG: Crawled (200) <GET https://proxy.scrapeops.io/v1/?api_key=&url=https%3A%2F%2Fwww.fanfiction.net%2Fs%2F14027830%2F1%2FEchoes-from-the-Darkness> (referer: https://steamdb.info/graph/)\n",
      "2024-12-04 10:41:20 [scrapy.core.engine] DEBUG: Crawled (200) <GET https://proxy.scrapeops.io/v1/?api_key=&url=https%3A%2F%2Fwww.fanfiction.net%2Fs%2F14145999%2F1%2FDance-into-my-heart> (referer: https://steamdb.info/graph/)\n"
     ]
    },
    {
     "name": "stdout",
     "output_type": "stream",
     "text": [
      "\n",
      "https://proxy.scrapeops.io/v1/?api_key=&url=https%3A%2F%2Fwww.fanfiction.net%2Fs%2F14027830%2F1%2FEchoes-from-the-Darkness\n",
      "\n",
      "https://proxy.scrapeops.io/v1/?api_key=&url=https%3A%2F%2Fwww.fanfiction.net%2Fs%2F14145999%2F1%2FDance-into-my-heart\n"
     ]
    },
    {
     "name": "stderr",
     "output_type": "stream",
     "text": [
      "2024-12-04 10:41:20 [scrapy.core.engine] DEBUG: Crawled (200) <GET https://proxy.scrapeops.io/v1/?api_key=&url=https%3A%2F%2Fwww.fanfiction.net%2Fs%2F14409420%2F1%2FThreads-of-Shadows> (referer: https://steamdb.info/graph/)\n",
      "2024-12-04 10:41:20 [scrapy.core.engine] DEBUG: Crawled (400) <GET https://proxy.scrapeops.io/v1/?api_key=&url=https%3A%2F%2Fproxy.scrapeops.io%2Fv1%2F%3Fapi_key%3D%26url%3Dhttps%253A%2F%2Fwww.fanfiction.net%2Fs%2F14259336%2F2%2FBond-Night> (referer: https://steamdb.info/graph/)\n",
      "2024-12-04 10:41:20 [scrapy.spidermiddlewares.httperror] INFO: Ignoring response <400 https://proxy.scrapeops.io/v1/?api_key=&url=https%3A%2F%2Fproxy.scrapeops.io%2Fv1%2F%3Fapi_key%3D%26url%3Dhttps%253A%2F%2Fwww.fanfiction.net%2Fs%2F14259336%2F2%2FBond-Night>: HTTP status code is not handled or not allowed\n"
     ]
    },
    {
     "name": "stdout",
     "output_type": "stream",
     "text": [
      "\n",
      "https://proxy.scrapeops.io/v1/?api_key=&url=https%3A%2F%2Fwww.fanfiction.net%2Fs%2F14409420%2F1%2FThreads-of-Shadows\n"
     ]
    },
    {
     "name": "stderr",
     "output_type": "stream",
     "text": [
      "2024-12-04 10:41:20 [scrapy.core.engine] DEBUG: Crawled (200) <GET https://proxy.scrapeops.io/v1/?api_key=&url=https%3A%2F%2Fwww.fanfiction.net%2Fs%2F14065953%2F1%2FA-Scandal-in-the-World-Of-Goldfish> (referer: https://steamdb.info/graph/)\n"
     ]
    },
    {
     "name": "stdout",
     "output_type": "stream",
     "text": [
      "\n",
      "https://proxy.scrapeops.io/v1/?api_key=&url=https%3A%2F%2Fwww.fanfiction.net%2Fs%2F14065953%2F1%2FA-Scandal-in-the-World-Of-Goldfish\n"
     ]
    },
    {
     "name": "stderr",
     "output_type": "stream",
     "text": [
      "2024-12-04 10:41:21 [scrapy.core.engine] DEBUG: Crawled (200) <GET https://proxy.scrapeops.io/v1/?api_key=&url=https%3A%2F%2Fwww.fanfiction.net%2Fs%2F13470539%2F1%2FGhost-of-Christmas-Past> (referer: https://steamdb.info/graph/)\n"
     ]
    },
    {
     "name": "stdout",
     "output_type": "stream",
     "text": [
      "\n",
      "https://proxy.scrapeops.io/v1/?api_key=&url=https%3A%2F%2Fwww.fanfiction.net%2Fs%2F13470539%2F1%2FGhost-of-Christmas-Past\n"
     ]
    },
    {
     "name": "stderr",
     "output_type": "stream",
     "text": [
      "2024-12-04 10:41:22 [scrapy.downloadermiddlewares.retry] DEBUG: Retrying <GET https://proxy.scrapeops.io/v1/?api_key=&url=https%3A%2F%2Fwww.fanfiction.net%2Fs%2F14167351%2F1%2FGrief> (failed 2 times): 429 Unknown Status\n",
      "2024-12-04 10:41:22 [scrapy.core.engine] DEBUG: Crawled (200) <GET https://proxy.scrapeops.io/v1/?api_key=&url=https%3A%2F%2Fwww.fanfiction.net%2Fs%2F14071464%2F1%2FGuilty-Until-Proven-Innocent> (referer: https://steamdb.info/graph/)\n",
      "2024-12-04 10:41:22 [scrapy.core.engine] DEBUG: Crawled (400) <GET https://proxy.scrapeops.io/v1/?api_key=&url=https%3A%2F%2Fproxy.scrapeops.io%2Fv1%2F%3Fapi_key%3D%26url%3Dhttps%253A%2F%2Fwww.fanfiction.net%2Fs%2F11146230%2F2%2FFirst-Time-For-Everything> (referer: https://steamdb.info/graph/)\n",
      "2024-12-04 10:41:22 [scrapy.spidermiddlewares.httperror] INFO: Ignoring response <400 https://proxy.scrapeops.io/v1/?api_key=&url=https%3A%2F%2Fproxy.scrapeops.io%2Fv1%2F%3Fapi_key%3D%26url%3Dhttps%253A%2F%2Fwww.fanfiction.net%2Fs%2F11146230%2F2%2FFirst-Time-For-Everything>: HTTP status code is not handled or not allowed\n",
      "2024-12-04 10:41:22 [scrapy.core.engine] DEBUG: Crawled (200) <GET https://proxy.scrapeops.io/v1/?api_key=&url=https%3A%2F%2Fwww.fanfiction.net%2Fs%2F14069169%2F1%2FPose-moi-la-question> (referer: https://steamdb.info/graph/)\n",
      "2024-12-04 10:41:22 [scrapy.core.engine] DEBUG: Crawled (400) <GET https://proxy.scrapeops.io/v1/?api_key=&url=https%3A%2F%2Fproxy.scrapeops.io%2Fv1%2F%3Fapi_key%3D%26url%3Dhttps%253A%2F%2Fwww.fanfiction.net%2Fs%2F14027830%2F2%2FEchoes-from-the-Darkness> (referer: https://steamdb.info/graph/)\n"
     ]
    },
    {
     "name": "stdout",
     "output_type": "stream",
     "text": [
      "\n",
      "https://proxy.scrapeops.io/v1/?api_key=&url=https%3A%2F%2Fwww.fanfiction.net%2Fs%2F14071464%2F1%2FGuilty-Until-Proven-Innocent\n",
      "\n"
     ]
    },
    {
     "name": "stderr",
     "output_type": "stream",
     "text": [
      "2024-12-04 10:41:22 [scrapy.spidermiddlewares.httperror] INFO: Ignoring response <400 https://proxy.scrapeops.io/v1/?api_key=&url=https%3A%2F%2Fproxy.scrapeops.io%2Fv1%2F%3Fapi_key%3D%26url%3Dhttps%253A%2F%2Fwww.fanfiction.net%2Fs%2F14027830%2F2%2FEchoes-from-the-Darkness>: HTTP status code is not handled or not allowed\n",
      "2024-12-04 10:41:22 [scrapy.core.engine] DEBUG: Crawled (400) <GET https://proxy.scrapeops.io/v1/?api_key=&url=https%3A%2F%2Fproxy.scrapeops.io%2Fv1%2F%3Fapi_key%3D%26url%3Dhttps%253A%2F%2Fwww.fanfiction.net%2Fs%2F14145999%2F2%2FDance-into-my-heart> (referer: https://steamdb.info/graph/)\n",
      "2024-12-04 10:41:22 [scrapy.core.engine] DEBUG: Crawled (400) <GET https://proxy.scrapeops.io/v1/?api_key=&url=https%3A%2F%2Fproxy.scrapeops.io%2Fv1%2F%3Fapi_key%3D%26url%3Dhttps%253A%2F%2Fwww.fanfiction.net%2Fs%2F14409420%2F2%2FThreads-of-Shadows> (referer: https://steamdb.info/graph/)\n",
      "2024-12-04 10:41:22 [scrapy.spidermiddlewares.httperror] INFO: Ignoring response <400 https://proxy.scrapeops.io/v1/?api_key=&url=https%3A%2F%2Fproxy.scrapeops.io%2Fv1%2F%3Fapi_key%3D%26url%3Dhttps%253A%2F%2Fwww.fanfiction.net%2Fs%2F14145999%2F2%2FDance-into-my-heart>: HTTP status code is not handled or not allowed\n",
      "2024-12-04 10:41:22 [scrapy.spidermiddlewares.httperror] INFO: Ignoring response <400 https://proxy.scrapeops.io/v1/?api_key=&url=https%3A%2F%2Fproxy.scrapeops.io%2Fv1%2F%3Fapi_key%3D%26url%3Dhttps%253A%2F%2Fwww.fanfiction.net%2Fs%2F14409420%2F2%2FThreads-of-Shadows>: HTTP status code is not handled or not allowed\n",
      "2024-12-04 10:41:22 [scrapy.core.engine] DEBUG: Crawled (200) <GET https://proxy.scrapeops.io/v1/?api_key=&url=https%3A%2F%2Fwww.fanfiction.net%2Fs%2F14016505%2F1%2FAfter-the-Fall> (referer: https://steamdb.info/graph/)\n",
      "2024-12-04 10:41:23 [scrapy.core.engine] DEBUG: Crawled (400) <GET https://proxy.scrapeops.io/v1/?api_key=&url=https%3A%2F%2Fproxy.scrapeops.io%2Fv1%2F%3Fapi_key%3D%26url%3Dhttps%253A%2F%2Fwww.fanfiction.net%2Fs%2F14065953%2F2%2FA-Scandal-in-the-World-Of-Goldfish> (referer: https://steamdb.info/graph/)\n",
      "2024-12-04 10:41:23 [scrapy.core.engine] DEBUG: Crawled (200) <GET https://proxy.scrapeops.io/v1/?api_key=&url=https%3A%2F%2Fwww.fanfiction.net%2Fs%2F14046500%2F1%2FLemon-and-Cheese> (referer: https://steamdb.info/graph/)\n",
      "2024-12-04 10:41:23 [scrapy.spidermiddlewares.httperror] INFO: Ignoring response <400 https://proxy.scrapeops.io/v1/?api_key=&url=https%3A%2F%2Fproxy.scrapeops.io%2Fv1%2F%3Fapi_key%3D%26url%3Dhttps%253A%2F%2Fwww.fanfiction.net%2Fs%2F14065953%2F2%2FA-Scandal-in-the-World-Of-Goldfish>: HTTP status code is not handled or not allowed\n",
      "2024-12-04 10:41:23 [scrapy.core.engine] DEBUG: Crawled (400) <GET https://proxy.scrapeops.io/v1/?api_key=&url=https%3A%2F%2Fproxy.scrapeops.io%2Fv1%2F%3Fapi_key%3D%26url%3Dhttps%253A%2F%2Fwww.fanfiction.net%2Fs%2F13470539%2F2%2FGhost-of-Christmas-Past> (referer: https://steamdb.info/graph/)\n"
     ]
    },
    {
     "name": "stdout",
     "output_type": "stream",
     "text": [
      "\n",
      "https://proxy.scrapeops.io/v1/?api_key=&url=https%3A%2F%2Fwww.fanfiction.net%2Fs%2F14016505%2F1%2FAfter-the-Fall\n",
      "\n",
      "https://proxy.scrapeops.io/v1/?api_key=&url=https%3A%2F%2Fwww.fanfiction.net%2Fs%2F14046500%2F1%2FLemon-and-Cheese\n"
     ]
    },
    {
     "name": "stderr",
     "output_type": "stream",
     "text": [
      "2024-12-04 10:41:23 [scrapy.spidermiddlewares.httperror] INFO: Ignoring response <400 https://proxy.scrapeops.io/v1/?api_key=&url=https%3A%2F%2Fproxy.scrapeops.io%2Fv1%2F%3Fapi_key%3D%26url%3Dhttps%253A%2F%2Fwww.fanfiction.net%2Fs%2F13470539%2F2%2FGhost-of-Christmas-Past>: HTTP status code is not handled or not allowed\n",
      "2024-12-04 10:41:23 [scrapy.core.engine] DEBUG: Crawled (200) <GET https://proxy.scrapeops.io/v1/?api_key=&url=https%3A%2F%2Fwww.fanfiction.net%2Fs%2F13809390%2F1%2FDisguised-Overload> (referer: https://steamdb.info/graph/)\n",
      "2024-12-04 10:41:24 [scrapy.core.engine] DEBUG: Crawled (400) <GET https://proxy.scrapeops.io/v1/?api_key=&url=https%3A%2F%2Fproxy.scrapeops.io%2Fv1%2F%3Fapi_key%3D%26url%3Dhttps%253A%2F%2Fwww.fanfiction.net%2Fs%2F14071464%2F2%2FGuilty-Until-Proven-Innocent> (referer: https://steamdb.info/graph/)\n",
      "2024-12-04 10:41:24 [scrapy.spidermiddlewares.httperror] INFO: Ignoring response <400 https://proxy.scrapeops.io/v1/?api_key=&url=https%3A%2F%2Fproxy.scrapeops.io%2Fv1%2F%3Fapi_key%3D%26url%3Dhttps%253A%2F%2Fwww.fanfiction.net%2Fs%2F14071464%2F2%2FGuilty-Until-Proven-Innocent>: HTTP status code is not handled or not allowed\n"
     ]
    },
    {
     "name": "stdout",
     "output_type": "stream",
     "text": [
      "\n",
      "https://proxy.scrapeops.io/v1/?api_key=&url=https%3A%2F%2Fwww.fanfiction.net%2Fs%2F13809390%2F1%2FDisguised-Overload\n"
     ]
    },
    {
     "name": "stderr",
     "output_type": "stream",
     "text": [
      "2024-12-04 10:41:24 [scrapy.core.engine] DEBUG: Crawled (200) <GET https://proxy.scrapeops.io/v1/?api_key=&url=https%3A%2F%2Fwww.fanfiction.net%2Fs%2F14034254%2F1%2FGrandmaster> (referer: https://steamdb.info/graph/)\n",
      "2024-12-04 10:41:24 [scrapy.downloadermiddlewares.retry] DEBUG: Retrying <GET https://proxy.scrapeops.io/v1/?api_key=&url=https%3A%2F%2Fwww.fanfiction.net%2Fs%2F14051538%2F1%2FThe-death-of-Achilles> (failed 2 times): 429 Unknown Status\n",
      "2024-12-04 10:41:24 [scrapy.core.engine] DEBUG: Crawled (200) <GET https://proxy.scrapeops.io/v1/?api_key=&url=https%3A%2F%2Fwww.fanfiction.net%2Fs%2F13584596%2F1%2FFamily-Ties> (referer: https://steamdb.info/graph/)\n"
     ]
    },
    {
     "name": "stdout",
     "output_type": "stream",
     "text": [
      "\n",
      "https://proxy.scrapeops.io/v1/?api_key=&url=https%3A%2F%2Fwww.fanfiction.net%2Fs%2F14034254%2F1%2FGrandmaster\n",
      "\n",
      "https://proxy.scrapeops.io/v1/?api_key=&url=https%3A%2F%2Fwww.fanfiction.net%2Fs%2F13584596%2F1%2FFamily-Ties\n"
     ]
    },
    {
     "name": "stderr",
     "output_type": "stream",
     "text": [
      "2024-12-04 10:41:26 [scrapy.core.engine] DEBUG: Crawled (200) <GET https://proxy.scrapeops.io/v1/?api_key=&url=https%3A%2F%2Fwww.fanfiction.net%2Fs%2F14006619%2F1%2FRelax> (referer: https://steamdb.info/graph/)\n"
     ]
    },
    {
     "name": "stdout",
     "output_type": "stream",
     "text": [
      "\n",
      "https://proxy.scrapeops.io/v1/?api_key=&url=https%3A%2F%2Fwww.fanfiction.net%2Fs%2F14006619%2F1%2FRelax\n"
     ]
    },
    {
     "name": "stderr",
     "output_type": "stream",
     "text": [
      "2024-12-04 10:41:26 [scrapy.core.engine] DEBUG: Crawled (200) <GET https://proxy.scrapeops.io/v1/?api_key=&url=https%3A%2F%2Fwww.fanfiction.net%2Fs%2F13965799%2F1%2FStuffed-With-Fluff> (referer: https://steamdb.info/graph/)\n",
      "2024-12-04 10:41:27 [scrapy.core.engine] DEBUG: Crawled (400) <GET https://proxy.scrapeops.io/v1/?api_key=&url=https%3A%2F%2Fproxy.scrapeops.io%2Fv1%2F%3Fapi_key%3D%26url%3Dhttps%253A%2F%2Fwww.fanfiction.net%2Fs%2F14016505%2F2%2FAfter-the-Fall> (referer: https://steamdb.info/graph/)\n",
      "2024-12-04 10:41:27 [scrapy.spidermiddlewares.httperror] INFO: Ignoring response <400 https://proxy.scrapeops.io/v1/?api_key=&url=https%3A%2F%2Fproxy.scrapeops.io%2Fv1%2F%3Fapi_key%3D%26url%3Dhttps%253A%2F%2Fwww.fanfiction.net%2Fs%2F14016505%2F2%2FAfter-the-Fall>: HTTP status code is not handled or not allowed\n"
     ]
    },
    {
     "name": "stdout",
     "output_type": "stream",
     "text": [
      "\n",
      "https://proxy.scrapeops.io/v1/?api_key=&url=https%3A%2F%2Fwww.fanfiction.net%2Fs%2F13965799%2F1%2FStuffed-With-Fluff\n"
     ]
    },
    {
     "name": "stderr",
     "output_type": "stream",
     "text": [
      "2024-12-04 10:41:27 [scrapy.core.engine] DEBUG: Crawled (200) <GET https://proxy.scrapeops.io/v1/?api_key=&url=https%3A%2F%2Fwww.fanfiction.net%2Fs%2F13964411%2F1%2FWhy-Me> (referer: https://steamdb.info/graph/)\n",
      "2024-12-04 10:41:27 [scrapy.core.engine] DEBUG: Crawled (400) <GET https://proxy.scrapeops.io/v1/?api_key=&url=https%3A%2F%2Fproxy.scrapeops.io%2Fv1%2F%3Fapi_key%3D%26url%3Dhttps%253A%2F%2Fwww.fanfiction.net%2Fs%2F14046500%2F2%2FLemon-and-Cheese> (referer: https://steamdb.info/graph/)\n",
      "2024-12-04 10:41:27 [scrapy.spidermiddlewares.httperror] INFO: Ignoring response <400 https://proxy.scrapeops.io/v1/?api_key=&url=https%3A%2F%2Fproxy.scrapeops.io%2Fv1%2F%3Fapi_key%3D%26url%3Dhttps%253A%2F%2Fwww.fanfiction.net%2Fs%2F14046500%2F2%2FLemon-and-Cheese>: HTTP status code is not handled or not allowed\n",
      "2024-12-04 10:41:27 [scrapy.core.engine] DEBUG: Crawled (200) <GET https://proxy.scrapeops.io/v1/?api_key=&url=https%3A%2F%2Fwww.fanfiction.net%2Fs%2F12939424%2F1%2FWhat-If> (referer: https://steamdb.info/graph/)\n",
      "2024-12-04 10:41:27 [scrapy.downloadermiddlewares.retry] DEBUG: Retrying <GET https://proxy.scrapeops.io/v1/?api_key=&url=https%3A%2F%2Fwww.fanfiction.net%2Fs%2F14025519%2F1%2FTypical-Sherlock> (failed 2 times): 429 Unknown Status\n"
     ]
    },
    {
     "name": "stdout",
     "output_type": "stream",
     "text": [
      "\n",
      "https://proxy.scrapeops.io/v1/?api_key=&url=https%3A%2F%2Fwww.fanfiction.net%2Fs%2F13964411%2F1%2FWhy-Me\n"
     ]
    },
    {
     "name": "stderr",
     "output_type": "stream",
     "text": [
      "2024-12-04 10:41:28 [scrapy.core.engine] DEBUG: Crawled (400) <GET https://proxy.scrapeops.io/v1/?api_key=&url=https%3A%2F%2Fproxy.scrapeops.io%2Fv1%2F%3Fapi_key%3D%26url%3Dhttps%253A%2F%2Fwww.fanfiction.net%2Fs%2F13809390%2F2%2FDisguised-Overload> (referer: https://steamdb.info/graph/)\n",
      "2024-12-04 10:41:28 [scrapy.core.engine] DEBUG: Crawled (400) <GET https://proxy.scrapeops.io/v1/?api_key=&url=https%3A%2F%2Fproxy.scrapeops.io%2Fv1%2F%3Fapi_key%3D%26url%3Dhttps%253A%2F%2Fwww.fanfiction.net%2Fs%2F14034254%2F2%2FGrandmaster> (referer: https://steamdb.info/graph/)\n",
      "2024-12-04 10:41:28 [scrapy.spidermiddlewares.httperror] INFO: Ignoring response <400 https://proxy.scrapeops.io/v1/?api_key=&url=https%3A%2F%2Fproxy.scrapeops.io%2Fv1%2F%3Fapi_key%3D%26url%3Dhttps%253A%2F%2Fwww.fanfiction.net%2Fs%2F13809390%2F2%2FDisguised-Overload>: HTTP status code is not handled or not allowed\n",
      "2024-12-04 10:41:28 [scrapy.spidermiddlewares.httperror] INFO: Ignoring response <400 https://proxy.scrapeops.io/v1/?api_key=&url=https%3A%2F%2Fproxy.scrapeops.io%2Fv1%2F%3Fapi_key%3D%26url%3Dhttps%253A%2F%2Fwww.fanfiction.net%2Fs%2F14034254%2F2%2FGrandmaster>: HTTP status code is not handled or not allowed\n",
      "2024-12-04 10:41:28 [scrapy.core.engine] DEBUG: Crawled (400) <GET https://proxy.scrapeops.io/v1/?api_key=&url=https%3A%2F%2Fproxy.scrapeops.io%2Fv1%2F%3Fapi_key%3D%26url%3Dhttps%253A%2F%2Fwww.fanfiction.net%2Fs%2F13584596%2F2%2FFamily-Ties> (referer: https://steamdb.info/graph/)\n"
     ]
    },
    {
     "name": "stdout",
     "output_type": "stream",
     "text": [
      "\n",
      "https://proxy.scrapeops.io/v1/?api_key=&url=https%3A%2F%2Fwww.fanfiction.net%2Fs%2F12939424%2F1%2FWhat-If\n"
     ]
    },
    {
     "name": "stderr",
     "output_type": "stream",
     "text": [
      "2024-12-04 10:41:28 [scrapy.spidermiddlewares.httperror] INFO: Ignoring response <400 https://proxy.scrapeops.io/v1/?api_key=&url=https%3A%2F%2Fproxy.scrapeops.io%2Fv1%2F%3Fapi_key%3D%26url%3Dhttps%253A%2F%2Fwww.fanfiction.net%2Fs%2F13584596%2F2%2FFamily-Ties>: HTTP status code is not handled or not allowed\n",
      "2024-12-04 10:41:28 [scrapy.core.engine] DEBUG: Crawled (400) <GET https://proxy.scrapeops.io/v1/?api_key=&url=https%3A%2F%2Fproxy.scrapeops.io%2Fv1%2F%3Fapi_key%3D%26url%3Dhttps%253A%2F%2Fwww.fanfiction.net%2Fs%2F14006619%2F2%2FRelax> (referer: https://steamdb.info/graph/)\n",
      "2024-12-04 10:41:28 [scrapy.spidermiddlewares.httperror] INFO: Ignoring response <400 https://proxy.scrapeops.io/v1/?api_key=&url=https%3A%2F%2Fproxy.scrapeops.io%2Fv1%2F%3Fapi_key%3D%26url%3Dhttps%253A%2F%2Fwww.fanfiction.net%2Fs%2F14006619%2F2%2FRelax>: HTTP status code is not handled or not allowed\n",
      "2024-12-04 10:41:29 [scrapy.core.engine] DEBUG: Crawled (200) <GET https://proxy.scrapeops.io/v1/?api_key=&url=https%3A%2F%2Fwww.fanfiction.net%2Fs%2F13926663%2F1%2FWhen-The-Demons-Walked> (referer: https://steamdb.info/graph/)\n",
      "2024-12-04 10:41:29 [scrapy.core.engine] DEBUG: Crawled (400) <GET https://proxy.scrapeops.io/v1/?api_key=&url=https%3A%2F%2Fproxy.scrapeops.io%2Fv1%2F%3Fapi_key%3D%26url%3Dhttps%253A%2F%2Fwww.fanfiction.net%2Fs%2F13965799%2F2%2FStuffed-With-Fluff> (referer: https://steamdb.info/graph/)\n",
      "2024-12-04 10:41:29 [scrapy.spidermiddlewares.httperror] INFO: Ignoring response <400 https://proxy.scrapeops.io/v1/?api_key=&url=https%3A%2F%2Fproxy.scrapeops.io%2Fv1%2F%3Fapi_key%3D%26url%3Dhttps%253A%2F%2Fwww.fanfiction.net%2Fs%2F13965799%2F2%2FStuffed-With-Fluff>: HTTP status code is not handled or not allowed\n"
     ]
    },
    {
     "name": "stdout",
     "output_type": "stream",
     "text": [
      "\n",
      "https://proxy.scrapeops.io/v1/?api_key=&url=https%3A%2F%2Fwww.fanfiction.net%2Fs%2F13926663%2F1%2FWhen-The-Demons-Walked\n"
     ]
    },
    {
     "name": "stderr",
     "output_type": "stream",
     "text": [
      "2024-12-04 10:41:30 [scrapy.downloadermiddlewares.retry] DEBUG: Retrying <GET https://proxy.scrapeops.io/v1/?api_key=&url=https%3A%2F%2Fwww.fanfiction.net%2Fs%2F13759580%2F1%2FThe-moment-I-realized> (failed 2 times): 429 Unknown Status\n",
      "2024-12-04 10:41:30 [scrapy.core.engine] DEBUG: Crawled (200) <GET https://proxy.scrapeops.io/v1/?api_key=&url=https%3A%2F%2Fwww.fanfiction.net%2Fs%2F12481768%2F1%2FTea-and-Texting> (referer: https://steamdb.info/graph/)\n",
      "2024-12-04 10:41:30 [scrapy.core.engine] DEBUG: Crawled (200) <GET https://proxy.scrapeops.io/v1/?api_key=&url=https%3A%2F%2Fwww.fanfiction.net%2Fs%2F13915344%2F1%2FI-once-knew-a-pirate> (referer: https://steamdb.info/graph/)\n",
      "2024-12-04 10:41:30 [scrapy.core.engine] DEBUG: Crawled (400) <GET https://proxy.scrapeops.io/v1/?api_key=&url=https%3A%2F%2Fproxy.scrapeops.io%2Fv1%2F%3Fapi_key%3D%26url%3Dhttps%253A%2F%2Fwww.fanfiction.net%2Fs%2F13964411%2F2%2FWhy-Me> (referer: https://steamdb.info/graph/)\n",
      "2024-12-04 10:41:30 [scrapy.core.engine] DEBUG: Crawled (400) <GET https://proxy.scrapeops.io/v1/?api_key=&url=https%3A%2F%2Fproxy.scrapeops.io%2Fv1%2F%3Fapi_key%3D%26url%3Dhttps%253A%2F%2Fwww.fanfiction.net%2Fs%2F12939424%2F2%2FWhat-If> (referer: https://steamdb.info/graph/)\n",
      "2024-12-04 10:41:30 [scrapy.spidermiddlewares.httperror] INFO: Ignoring response <400 https://proxy.scrapeops.io/v1/?api_key=&url=https%3A%2F%2Fproxy.scrapeops.io%2Fv1%2F%3Fapi_key%3D%26url%3Dhttps%253A%2F%2Fwww.fanfiction.net%2Fs%2F13964411%2F2%2FWhy-Me>: HTTP status code is not handled or not allowed\n",
      "2024-12-04 10:41:30 [scrapy.spidermiddlewares.httperror] INFO: Ignoring response <400 https://proxy.scrapeops.io/v1/?api_key=&url=https%3A%2F%2Fproxy.scrapeops.io%2Fv1%2F%3Fapi_key%3D%26url%3Dhttps%253A%2F%2Fwww.fanfiction.net%2Fs%2F12939424%2F2%2FWhat-If>: HTTP status code is not handled or not allowed\n"
     ]
    },
    {
     "name": "stdout",
     "output_type": "stream",
     "text": [
      "\n",
      "\n",
      "https://proxy.scrapeops.io/v1/?api_key=&url=https%3A%2F%2Fwww.fanfiction.net%2Fs%2F13915344%2F1%2FI-once-knew-a-pirate\n"
     ]
    },
    {
     "name": "stderr",
     "output_type": "stream",
     "text": [
      "2024-12-04 10:41:30 [scrapy.core.engine] DEBUG: Crawled (200) <GET https://proxy.scrapeops.io/v1/?api_key=&url=https%3A%2F%2Fwww.fanfiction.net%2Fs%2F14022361%2F1%2FRussian-Roulette> (referer: https://steamdb.info/graph/)\n",
      "2024-12-04 10:41:30 [scrapy.core.engine] DEBUG: Crawled (200) <GET https://proxy.scrapeops.io/v1/?api_key=&url=https%3A%2F%2Fwww.fanfiction.net%2Fs%2F14062950%2F1%2FUltimatum> (referer: https://steamdb.info/graph/)\n"
     ]
    },
    {
     "name": "stdout",
     "output_type": "stream",
     "text": [
      "\n",
      "https://proxy.scrapeops.io/v1/?api_key=&url=https%3A%2F%2Fwww.fanfiction.net%2Fs%2F14022361%2F1%2FRussian-Roulette\n",
      "\n"
     ]
    },
    {
     "name": "stderr",
     "output_type": "stream",
     "text": [
      "2024-12-04 10:41:31 [scrapy.core.engine] DEBUG: Crawled (200) <GET https://proxy.scrapeops.io/v1/?api_key=&url=https%3A%2F%2Fwww.fanfiction.net%2Fs%2F13897321%2F1%2FA-Christmas-Miracle> (referer: https://steamdb.info/graph/)\n",
      "2024-12-04 10:41:31 [scrapy.core.engine] DEBUG: Crawled (400) <GET https://proxy.scrapeops.io/v1/?api_key=&url=https%3A%2F%2Fproxy.scrapeops.io%2Fv1%2F%3Fapi_key%3D%26url%3Dhttps%253A%2F%2Fwww.fanfiction.net%2Fs%2F13926663%2F2%2FWhen-The-Demons-Walked> (referer: https://steamdb.info/graph/)\n",
      "2024-12-04 10:41:31 [scrapy.core.engine] DEBUG: Crawled (200) <GET https://proxy.scrapeops.io/v1/?api_key=&url=https%3A%2F%2Fwww.fanfiction.net%2Fs%2F14131011%2F1%2FBig-Brother> (referer: https://steamdb.info/graph/)\n",
      "2024-12-04 10:41:31 [scrapy.spidermiddlewares.httperror] INFO: Ignoring response <400 https://proxy.scrapeops.io/v1/?api_key=&url=https%3A%2F%2Fproxy.scrapeops.io%2Fv1%2F%3Fapi_key%3D%26url%3Dhttps%253A%2F%2Fwww.fanfiction.net%2Fs%2F13926663%2F2%2FWhen-The-Demons-Walked>: HTTP status code is not handled or not allowed\n",
      "2024-12-04 10:41:32 [scrapy.core.engine] DEBUG: Crawled (200) <GET https://proxy.scrapeops.io/v1/?api_key=&url=https%3A%2F%2Fwww.fanfiction.net%2Fs%2F13891843%2F1%2FIrreplaceable> (referer: https://steamdb.info/graph/)\n"
     ]
    },
    {
     "name": "stdout",
     "output_type": "stream",
     "text": [
      "\n",
      "https://proxy.scrapeops.io/v1/?api_key=&url=https%3A%2F%2Fwww.fanfiction.net%2Fs%2F13897321%2F1%2FA-Christmas-Miracle\n",
      "\n",
      "https://proxy.scrapeops.io/v1/?api_key=&url=https%3A%2F%2Fwww.fanfiction.net%2Fs%2F14131011%2F1%2FBig-Brother\n",
      "\n",
      "https://proxy.scrapeops.io/v1/?api_key=&url=https%3A%2F%2Fwww.fanfiction.net%2Fs%2F13891843%2F1%2FIrreplaceable\n"
     ]
    },
    {
     "name": "stderr",
     "output_type": "stream",
     "text": [
      "2024-12-04 10:41:32 [scrapy.core.engine] DEBUG: Crawled (200) <GET https://proxy.scrapeops.io/v1/?api_key=&url=https%3A%2F%2Fwww.fanfiction.net%2Ftv%2FSherlock%2F%3F%26srt%3D1%26r%3D103%26p%3D25> (referer: https://steamdb.info/graph/)\n",
      "2024-12-04 10:41:32 [scrapy.core.engine] DEBUG: Crawled (200) <GET https://proxy.scrapeops.io/v1/?api_key=&url=https%3A%2F%2Fwww.fanfiction.net%2Fs%2F13888203%2F1%2FMirror> (referer: https://steamdb.info/graph/)\n",
      "2024-12-04 10:41:32 [scrapy.core.engine] DEBUG: Crawled (400) <GET https://proxy.scrapeops.io/v1/?api_key=&url=https%3A%2F%2Fproxy.scrapeops.io%2Fv1%2F%3Fapi_key%3D%26url%3Dhttps%253A%2F%2Fwww.fanfiction.net%2Fs%2F13915344%2F2%2FI-once-knew-a-pirate> (referer: https://steamdb.info/graph/)\n",
      "2024-12-04 10:41:32 [scrapy.spidermiddlewares.httperror] INFO: Ignoring response <400 https://proxy.scrapeops.io/v1/?api_key=&url=https%3A%2F%2Fproxy.scrapeops.io%2Fv1%2F%3Fapi_key%3D%26url%3Dhttps%253A%2F%2Fwww.fanfiction.net%2Fs%2F13915344%2F2%2FI-once-knew-a-pirate>: HTTP status code is not handled or not allowed\n"
     ]
    },
    {
     "name": "stdout",
     "output_type": "stream",
     "text": [
      "25\n",
      "\n",
      "https://proxy.scrapeops.io/v1/?api_key=&url=https%3A%2F%2Fwww.fanfiction.net%2Fs%2F13888203%2F1%2FMirror\n"
     ]
    },
    {
     "name": "stderr",
     "output_type": "stream",
     "text": [
      "2024-12-04 10:41:32 [scrapy.core.engine] DEBUG: Crawled (200) <GET https://proxy.scrapeops.io/v1/?api_key=&url=https%3A%2F%2Fwww.fanfiction.net%2Fs%2F12289102%2F1%2FNobody-Knows-My-Heart-Like-You> (referer: https://steamdb.info/graph/)\n",
      "2024-12-04 10:41:33 [scrapy.core.engine] DEBUG: Crawled (400) <GET https://proxy.scrapeops.io/v1/?api_key=&url=https%3A%2F%2Fproxy.scrapeops.io%2Fv1%2F%3Fapi_key%3D%26url%3Dhttps%253A%2F%2Fwww.fanfiction.net%2Fs%2F14022361%2F2%2FRussian-Roulette> (referer: https://steamdb.info/graph/)\n",
      "2024-12-04 10:41:33 [scrapy.spidermiddlewares.httperror] INFO: Ignoring response <400 https://proxy.scrapeops.io/v1/?api_key=&url=https%3A%2F%2Fproxy.scrapeops.io%2Fv1%2F%3Fapi_key%3D%26url%3Dhttps%253A%2F%2Fwww.fanfiction.net%2Fs%2F14022361%2F2%2FRussian-Roulette>: HTTP status code is not handled or not allowed\n"
     ]
    },
    {
     "name": "stdout",
     "output_type": "stream",
     "text": [
      "\n",
      "https://proxy.scrapeops.io/v1/?api_key=&url=https%3A%2F%2Fwww.fanfiction.net%2Fs%2F12289102%2F1%2FNobody-Knows-My-Heart-Like-You\n"
     ]
    },
    {
     "name": "stderr",
     "output_type": "stream",
     "text": [
      "2024-12-04 10:41:33 [scrapy.downloadermiddlewares.retry] DEBUG: Retrying <GET https://proxy.scrapeops.io/v1/?api_key=&url=https%3A%2F%2Fwww.fanfiction.net%2Fs%2F12590929%2F1%2FDC-s-Sherlock-Drabbles> (failed 2 times): 429 Unknown Status\n",
      "2024-12-04 10:41:33 [scrapy.core.engine] DEBUG: Crawled (200) <GET https://proxy.scrapeops.io/v1/?api_key=&url=https%3A%2F%2Fwww.fanfiction.net%2Fs%2F13917002%2F1%2FThe-Similarities-Between-Love-And-Death> (referer: https://steamdb.info/graph/)\n",
      "2024-12-04 10:41:34 [scrapy.core.engine] DEBUG: Crawled (400) <GET https://proxy.scrapeops.io/v1/?api_key=&url=https%3A%2F%2Fproxy.scrapeops.io%2Fv1%2F%3Fapi_key%3D%26url%3Dhttps%253A%2F%2Fwww.fanfiction.net%2Fs%2F13897321%2F2%2FA-Christmas-Miracle> (referer: https://steamdb.info/graph/)\n",
      "2024-12-04 10:41:34 [scrapy.core.engine] DEBUG: Crawled (200) <GET https://proxy.scrapeops.io/v1/?api_key=&url=https%3A%2F%2Fwww.fanfiction.net%2Fs%2F12741901%2F1%2FIf-I-Still-Had-Your-Love> (referer: https://steamdb.info/graph/)\n",
      "2024-12-04 10:41:34 [scrapy.core.engine] DEBUG: Crawled (400) <GET https://proxy.scrapeops.io/v1/?api_key=&url=https%3A%2F%2Fproxy.scrapeops.io%2Fv1%2F%3Fapi_key%3D%26url%3Dhttps%253A%2F%2Fwww.fanfiction.net%2Fs%2F14131011%2F2%2FBig-Brother> (referer: https://steamdb.info/graph/)\n",
      "2024-12-04 10:41:34 [scrapy.spidermiddlewares.httperror] INFO: Ignoring response <400 https://proxy.scrapeops.io/v1/?api_key=&url=https%3A%2F%2Fproxy.scrapeops.io%2Fv1%2F%3Fapi_key%3D%26url%3Dhttps%253A%2F%2Fwww.fanfiction.net%2Fs%2F13897321%2F2%2FA-Christmas-Miracle>: HTTP status code is not handled or not allowed\n",
      "2024-12-04 10:41:34 [scrapy.core.engine] DEBUG: Crawled (400) <GET https://proxy.scrapeops.io/v1/?api_key=&url=https%3A%2F%2Fproxy.scrapeops.io%2Fv1%2F%3Fapi_key%3D%26url%3Dhttps%253A%2F%2Fwww.fanfiction.net%2Fs%2F13891843%2F2%2FIrreplaceable> (referer: https://steamdb.info/graph/)\n",
      "2024-12-04 10:41:34 [scrapy.spidermiddlewares.httperror] INFO: Ignoring response <400 https://proxy.scrapeops.io/v1/?api_key=&url=https%3A%2F%2Fproxy.scrapeops.io%2Fv1%2F%3Fapi_key%3D%26url%3Dhttps%253A%2F%2Fwww.fanfiction.net%2Fs%2F14131011%2F2%2FBig-Brother>: HTTP status code is not handled or not allowed\n",
      "2024-12-04 10:41:34 [scrapy.spidermiddlewares.httperror] INFO: Ignoring response <400 https://proxy.scrapeops.io/v1/?api_key=&url=https%3A%2F%2Fproxy.scrapeops.io%2Fv1%2F%3Fapi_key%3D%26url%3Dhttps%253A%2F%2Fwww.fanfiction.net%2Fs%2F13891843%2F2%2FIrreplaceable>: HTTP status code is not handled or not allowed\n"
     ]
    },
    {
     "name": "stdout",
     "output_type": "stream",
     "text": [
      "\n",
      "https://proxy.scrapeops.io/v1/?api_key=&url=https%3A%2F%2Fwww.fanfiction.net%2Fs%2F13917002%2F1%2FThe-Similarities-Between-Love-And-Death\n",
      "\n",
      "https://proxy.scrapeops.io/v1/?api_key=&url=https%3A%2F%2Fwww.fanfiction.net%2Fs%2F12741901%2F1%2FIf-I-Still-Had-Your-Love\n"
     ]
    },
    {
     "name": "stderr",
     "output_type": "stream",
     "text": [
      "2024-12-04 10:41:35 [scrapy.core.engine] DEBUG: Crawled (200) <GET https://proxy.scrapeops.io/v1/?api_key=&url=https%3A%2F%2Fwww.fanfiction.net%2Fs%2F13648539%2F1%2FObsession> (referer: https://steamdb.info/graph/)\n",
      "2024-12-04 10:41:35 [scrapy.core.engine] DEBUG: Crawled (400) <GET https://proxy.scrapeops.io/v1/?api_key=&url=https%3A%2F%2Fproxy.scrapeops.io%2Fv1%2F%3Fapi_key%3D%26url%3Dhttps%253A%2F%2Fwww.fanfiction.net%2Fs%2F13888203%2F2%2FMirror> (referer: https://steamdb.info/graph/)\n",
      "2024-12-04 10:41:35 [scrapy.core.engine] DEBUG: Crawled (400) <GET https://proxy.scrapeops.io/v1/?api_key=&url=https%3A%2F%2Fproxy.scrapeops.io%2Fv1%2F%3Fapi_key%3D%26url%3Dhttps%253A%2F%2Fwww.fanfiction.net%2Fs%2F12289102%2F2%2FNobody-Knows-My-Heart-Like-You> (referer: https://steamdb.info/graph/)\n",
      "2024-12-04 10:41:35 [scrapy.spidermiddlewares.httperror] INFO: Ignoring response <400 https://proxy.scrapeops.io/v1/?api_key=&url=https%3A%2F%2Fproxy.scrapeops.io%2Fv1%2F%3Fapi_key%3D%26url%3Dhttps%253A%2F%2Fwww.fanfiction.net%2Fs%2F13888203%2F2%2FMirror>: HTTP status code is not handled or not allowed\n",
      "2024-12-04 10:41:35 [scrapy.spidermiddlewares.httperror] INFO: Ignoring response <400 https://proxy.scrapeops.io/v1/?api_key=&url=https%3A%2F%2Fproxy.scrapeops.io%2Fv1%2F%3Fapi_key%3D%26url%3Dhttps%253A%2F%2Fwww.fanfiction.net%2Fs%2F12289102%2F2%2FNobody-Knows-My-Heart-Like-You>: HTTP status code is not handled or not allowed\n"
     ]
    },
    {
     "name": "stdout",
     "output_type": "stream",
     "text": [
      "\n",
      "https://proxy.scrapeops.io/v1/?api_key=&url=https%3A%2F%2Fwww.fanfiction.net%2Fs%2F13648539%2F1%2FObsession\n"
     ]
    },
    {
     "name": "stderr",
     "output_type": "stream",
     "text": [
      "2024-12-04 10:41:35 [scrapy.downloadermiddlewares.retry] DEBUG: Retrying <GET https://proxy.scrapeops.io/v1/?api_key=&url=https%3A%2F%2Fwww.fanfiction.net%2Fs%2F13902124%2F1%2FSo-Many-Words-Unsaid> (failed 2 times): 429 Unknown Status\n",
      "2024-12-04 10:41:36 [scrapy.core.engine] DEBUG: Crawled (200) <GET https://proxy.scrapeops.io/v1/?api_key=&url=https%3A%2F%2Fwww.fanfiction.net%2Fs%2F13977275%2F1%2FSecond-Chances> (referer: https://steamdb.info/graph/)\n"
     ]
    },
    {
     "name": "stdout",
     "output_type": "stream",
     "text": [
      "\n",
      "https://proxy.scrapeops.io/v1/?api_key=&url=https%3A%2F%2Fwww.fanfiction.net%2Fs%2F13977275%2F1%2FSecond-Chances\n"
     ]
    },
    {
     "name": "stderr",
     "output_type": "stream",
     "text": [
      "2024-12-04 10:41:36 [scrapy.core.engine] DEBUG: Crawled (200) <GET https://proxy.scrapeops.io/v1/?api_key=&url=https%3A%2F%2Fwww.fanfiction.net%2Ftv%2FSherlock%2F%3F%26srt%3D1%26r%3D103%26p%3D26> (referer: https://steamdb.info/graph/)\n",
      "2024-12-04 10:41:36 [scrapy.core.engine] DEBUG: Crawled (200) <GET https://proxy.scrapeops.io/v1/?api_key=&url=https%3A%2F%2Fwww.fanfiction.net%2Fs%2F13929505%2F1%2FBabysitting-in-Progress> (referer: https://steamdb.info/graph/)\n",
      "2024-12-04 10:41:36 [scrapy.core.engine] DEBUG: Crawled (400) <GET https://proxy.scrapeops.io/v1/?api_key=&url=https%3A%2F%2Fproxy.scrapeops.io%2Fv1%2F%3Fapi_key%3D%26url%3Dhttps%253A%2F%2Fwww.fanfiction.net%2Fs%2F13917002%2F2%2FThe-Similarities-Between-Love-And-Death> (referer: https://steamdb.info/graph/)\n",
      "2024-12-04 10:41:36 [scrapy.spidermiddlewares.httperror] INFO: Ignoring response <400 https://proxy.scrapeops.io/v1/?api_key=&url=https%3A%2F%2Fproxy.scrapeops.io%2Fv1%2F%3Fapi_key%3D%26url%3Dhttps%253A%2F%2Fwww.fanfiction.net%2Fs%2F13917002%2F2%2FThe-Similarities-Between-Love-And-Death>: HTTP status code is not handled or not allowed\n"
     ]
    },
    {
     "name": "stdout",
     "output_type": "stream",
     "text": [
      "25\n",
      "\n",
      "https://proxy.scrapeops.io/v1/?api_key=&url=https%3A%2F%2Fwww.fanfiction.net%2Fs%2F13929505%2F1%2FBabysitting-in-Progress\n"
     ]
    },
    {
     "name": "stderr",
     "output_type": "stream",
     "text": [
      "2024-12-04 10:41:37 [scrapy.core.engine] DEBUG: Crawled (200) <GET https://proxy.scrapeops.io/v1/?api_key=&url=https%3A%2F%2Fwww.fanfiction.net%2Fs%2F13828227%2F1%2FWooing-Molly-Hooper> (referer: https://steamdb.info/graph/)\n",
      "2024-12-04 10:41:37 [scrapy.core.engine] DEBUG: Crawled (400) <GET https://proxy.scrapeops.io/v1/?api_key=&url=https%3A%2F%2Fproxy.scrapeops.io%2Fv1%2F%3Fapi_key%3D%26url%3Dhttps%253A%2F%2Fwww.fanfiction.net%2Fs%2F12741901%2F2%2FIf-I-Still-Had-Your-Love> (referer: https://steamdb.info/graph/)\n",
      "2024-12-04 10:41:37 [scrapy.spidermiddlewares.httperror] INFO: Ignoring response <400 https://proxy.scrapeops.io/v1/?api_key=&url=https%3A%2F%2Fproxy.scrapeops.io%2Fv1%2F%3Fapi_key%3D%26url%3Dhttps%253A%2F%2Fwww.fanfiction.net%2Fs%2F12741901%2F2%2FIf-I-Still-Had-Your-Love>: HTTP status code is not handled or not allowed\n"
     ]
    },
    {
     "name": "stdout",
     "output_type": "stream",
     "text": [
      "\n",
      "https://proxy.scrapeops.io/v1/?api_key=&url=https%3A%2F%2Fwww.fanfiction.net%2Fs%2F13828227%2F1%2FWooing-Molly-Hooper\n"
     ]
    },
    {
     "name": "stderr",
     "output_type": "stream",
     "text": [
      "2024-12-04 10:41:38 [scrapy.core.engine] DEBUG: Crawled (200) <GET https://proxy.scrapeops.io/v1/?api_key=&url=https%3A%2F%2Fwww.fanfiction.net%2Fs%2F8802675%2F1%2FThe-Duchess-and-the-Detective> (referer: https://steamdb.info/graph/)\n",
      "2024-12-04 10:41:38 [scrapy.core.engine] DEBUG: Crawled (400) <GET https://proxy.scrapeops.io/v1/?api_key=&url=https%3A%2F%2Fproxy.scrapeops.io%2Fv1%2F%3Fapi_key%3D%26url%3Dhttps%253A%2F%2Fwww.fanfiction.net%2Fs%2F13648539%2F2%2FObsession> (referer: https://steamdb.info/graph/)\n",
      "2024-12-04 10:41:38 [scrapy.spidermiddlewares.httperror] INFO: Ignoring response <400 https://proxy.scrapeops.io/v1/?api_key=&url=https%3A%2F%2Fproxy.scrapeops.io%2Fv1%2F%3Fapi_key%3D%26url%3Dhttps%253A%2F%2Fwww.fanfiction.net%2Fs%2F13648539%2F2%2FObsession>: HTTP status code is not handled or not allowed\n"
     ]
    },
    {
     "name": "stdout",
     "output_type": "stream",
     "text": [
      "\n",
      "https://proxy.scrapeops.io/v1/?api_key=&url=https%3A%2F%2Fwww.fanfiction.net%2Fs%2F8802675%2F1%2FThe-Duchess-and-the-Detective\n"
     ]
    },
    {
     "name": "stderr",
     "output_type": "stream",
     "text": [
      "2024-12-04 10:41:38 [scrapy.downloadermiddlewares.retry] DEBUG: Retrying <GET https://proxy.scrapeops.io/v1/?api_key=&url=https%3A%2F%2Fwww.fanfiction.net%2Fs%2F13994527%2F1%2FChoices> (failed 2 times): 429 Unknown Status\n",
      "2024-12-04 10:41:39 [scrapy.core.engine] DEBUG: Crawled (200) <GET https://proxy.scrapeops.io/v1/?api_key=&url=https%3A%2F%2Fwww.fanfiction.net%2Fs%2F13862071%2F1%2FThe-office> (referer: https://steamdb.info/graph/)\n",
      "2024-12-04 10:41:40 [scrapy.core.engine] DEBUG: Crawled (400) <GET https://proxy.scrapeops.io/v1/?api_key=&url=https%3A%2F%2Fproxy.scrapeops.io%2Fv1%2F%3Fapi_key%3D%26url%3Dhttps%253A%2F%2Fwww.fanfiction.net%2Fs%2F13977275%2F2%2FSecond-Chances> (referer: https://steamdb.info/graph/)\n",
      "2024-12-04 10:41:40 [scrapy.spidermiddlewares.httperror] INFO: Ignoring response <400 https://proxy.scrapeops.io/v1/?api_key=&url=https%3A%2F%2Fproxy.scrapeops.io%2Fv1%2F%3Fapi_key%3D%26url%3Dhttps%253A%2F%2Fwww.fanfiction.net%2Fs%2F13977275%2F2%2FSecond-Chances>: HTTP status code is not handled or not allowed\n"
     ]
    },
    {
     "name": "stdout",
     "output_type": "stream",
     "text": [
      "\n",
      "https://proxy.scrapeops.io/v1/?api_key=&url=https%3A%2F%2Fwww.fanfiction.net%2Fs%2F13862071%2F1%2FThe-office\n"
     ]
    },
    {
     "name": "stderr",
     "output_type": "stream",
     "text": [
      "2024-12-04 10:41:40 [scrapy.core.engine] DEBUG: Crawled (200) <GET https://proxy.scrapeops.io/v1/?api_key=&url=https%3A%2F%2Fwww.fanfiction.net%2Fs%2F13653122%2F1%2FThe-Bakerstreet-Three> (referer: https://steamdb.info/graph/)\n"
     ]
    },
    {
     "name": "stdout",
     "output_type": "stream",
     "text": [
      "\n",
      "https://proxy.scrapeops.io/v1/?api_key=&url=https%3A%2F%2Fwww.fanfiction.net%2Fs%2F13653122%2F1%2FThe-Bakerstreet-Three\n"
     ]
    },
    {
     "name": "stderr",
     "output_type": "stream",
     "text": [
      "2024-12-04 10:41:41 [scrapy.downloadermiddlewares.retry] DEBUG: Retrying <GET https://proxy.scrapeops.io/v1/?api_key=&url=https%3A%2F%2Fwww.fanfiction.net%2Fs%2F13861326%2F1%2FAll-s-Well-That-Ends-Well> (failed 1 times): 429 Unknown Status\n",
      "2024-12-04 10:41:41 [scrapy.core.engine] DEBUG: Crawled (400) <GET https://proxy.scrapeops.io/v1/?api_key=&url=https%3A%2F%2Fproxy.scrapeops.io%2Fv1%2F%3Fapi_key%3D%26url%3Dhttps%253A%2F%2Fwww.fanfiction.net%2Fs%2F13929505%2F2%2FBabysitting-in-Progress> (referer: https://steamdb.info/graph/)\n",
      "2024-12-04 10:41:41 [scrapy.core.engine] DEBUG: Crawled (200) <GET https://proxy.scrapeops.io/v1/?api_key=&url=https%3A%2F%2Fwww.fanfiction.net%2Fs%2F13863468%2F1%2FForever-and-Always-My-Love> (referer: https://steamdb.info/graph/)\n",
      "2024-12-04 10:41:41 [scrapy.spidermiddlewares.httperror] INFO: Ignoring response <400 https://proxy.scrapeops.io/v1/?api_key=&url=https%3A%2F%2Fproxy.scrapeops.io%2Fv1%2F%3Fapi_key%3D%26url%3Dhttps%253A%2F%2Fwww.fanfiction.net%2Fs%2F13929505%2F2%2FBabysitting-in-Progress>: HTTP status code is not handled or not allowed\n",
      "2024-12-04 10:41:41 [scrapy.core.engine] DEBUG: Crawled (400) <GET https://proxy.scrapeops.io/v1/?api_key=&url=https%3A%2F%2Fproxy.scrapeops.io%2Fv1%2F%3Fapi_key%3D%26url%3Dhttps%253A%2F%2Fwww.fanfiction.net%2Fs%2F13828227%2F2%2FWooing-Molly-Hooper> (referer: https://steamdb.info/graph/)\n",
      "2024-12-04 10:41:41 [scrapy.spidermiddlewares.httperror] INFO: Ignoring response <400 https://proxy.scrapeops.io/v1/?api_key=&url=https%3A%2F%2Fproxy.scrapeops.io%2Fv1%2F%3Fapi_key%3D%26url%3Dhttps%253A%2F%2Fwww.fanfiction.net%2Fs%2F13828227%2F2%2FWooing-Molly-Hooper>: HTTP status code is not handled or not allowed\n"
     ]
    },
    {
     "name": "stdout",
     "output_type": "stream",
     "text": [
      "\n",
      "https://proxy.scrapeops.io/v1/?api_key=&url=https%3A%2F%2Fwww.fanfiction.net%2Fs%2F13863468%2F1%2FForever-and-Always-My-Love\n"
     ]
    },
    {
     "name": "stderr",
     "output_type": "stream",
     "text": [
      "2024-12-04 10:41:41 [scrapy.core.engine] DEBUG: Crawled (200) <GET https://proxy.scrapeops.io/v1/?api_key=&url=https%3A%2F%2Fwww.fanfiction.net%2Fs%2F13865224%2F1%2FBusiest-Bees-and-Sweetest-Strawberries> (referer: https://steamdb.info/graph/)\n",
      "2024-12-04 10:41:41 [scrapy.core.engine] DEBUG: Crawled (400) <GET https://proxy.scrapeops.io/v1/?api_key=&url=https%3A%2F%2Fproxy.scrapeops.io%2Fv1%2F%3Fapi_key%3D%26url%3Dhttps%253A%2F%2Fwww.fanfiction.net%2Fs%2F8802675%2F2%2FThe-Duchess-and-the-Detective> (referer: https://steamdb.info/graph/)\n",
      "2024-12-04 10:41:42 [scrapy.core.engine] DEBUG: Crawled (200) <GET https://proxy.scrapeops.io/v1/?api_key=&url=https%3A%2F%2Fwww.fanfiction.net%2Fs%2F13866174%2F1%2FAbandoned-Babes> (referer: https://steamdb.info/graph/)\n",
      "2024-12-04 10:41:42 [scrapy.spidermiddlewares.httperror] INFO: Ignoring response <400 https://proxy.scrapeops.io/v1/?api_key=&url=https%3A%2F%2Fproxy.scrapeops.io%2Fv1%2F%3Fapi_key%3D%26url%3Dhttps%253A%2F%2Fwww.fanfiction.net%2Fs%2F8802675%2F2%2FThe-Duchess-and-the-Detective>: HTTP status code is not handled or not allowed\n"
     ]
    },
    {
     "name": "stdout",
     "output_type": "stream",
     "text": [
      "\n",
      "https://proxy.scrapeops.io/v1/?api_key=&url=https%3A%2F%2Fwww.fanfiction.net%2Fs%2F13865224%2F1%2FBusiest-Bees-and-Sweetest-Strawberries\n",
      "\n",
      "https://proxy.scrapeops.io/v1/?api_key=&url=https%3A%2F%2Fwww.fanfiction.net%2Fs%2F13866174%2F1%2FAbandoned-Babes\n"
     ]
    },
    {
     "name": "stderr",
     "output_type": "stream",
     "text": [
      "2024-12-04 10:41:42 [scrapy.core.engine] DEBUG: Crawled (200) <GET https://proxy.scrapeops.io/v1/?api_key=&url=https%3A%2F%2Fwww.fanfiction.net%2Ftv%2FSherlock%2F%3F%26srt%3D1%26r%3D103%26p%3D27> (referer: https://steamdb.info/graph/)\n",
      "2024-12-04 10:41:42 [scrapy.core.engine] DEBUG: Crawled (400) <GET https://proxy.scrapeops.io/v1/?api_key=&url=https%3A%2F%2Fproxy.scrapeops.io%2Fv1%2F%3Fapi_key%3D%26url%3Dhttps%253A%2F%2Fwww.fanfiction.net%2Fs%2F13862071%2F2%2FThe-office> (referer: https://steamdb.info/graph/)\n",
      "2024-12-04 10:41:42 [scrapy.core.engine] DEBUG: Crawled (400) <GET https://proxy.scrapeops.io/v1/?api_key=&url=https%3A%2F%2Fproxy.scrapeops.io%2Fv1%2F%3Fapi_key%3D%26url%3Dhttps%253A%2F%2Fwww.fanfiction.net%2Fs%2F13653122%2F2%2FThe-Bakerstreet-Three> (referer: https://steamdb.info/graph/)\n",
      "2024-12-04 10:41:42 [scrapy.spidermiddlewares.httperror] INFO: Ignoring response <400 https://proxy.scrapeops.io/v1/?api_key=&url=https%3A%2F%2Fproxy.scrapeops.io%2Fv1%2F%3Fapi_key%3D%26url%3Dhttps%253A%2F%2Fwww.fanfiction.net%2Fs%2F13862071%2F2%2FThe-office>: HTTP status code is not handled or not allowed\n",
      "2024-12-04 10:41:42 [scrapy.spidermiddlewares.httperror] INFO: Ignoring response <400 https://proxy.scrapeops.io/v1/?api_key=&url=https%3A%2F%2Fproxy.scrapeops.io%2Fv1%2F%3Fapi_key%3D%26url%3Dhttps%253A%2F%2Fwww.fanfiction.net%2Fs%2F13653122%2F2%2FThe-Bakerstreet-Three>: HTTP status code is not handled or not allowed\n"
     ]
    },
    {
     "name": "stdout",
     "output_type": "stream",
     "text": [
      "25\n"
     ]
    },
    {
     "name": "stderr",
     "output_type": "stream",
     "text": [
      "2024-12-04 10:41:43 [scrapy.core.engine] DEBUG: Crawled (200) <GET https://proxy.scrapeops.io/v1/?api_key=&url=https%3A%2F%2Fwww.fanfiction.net%2Fs%2F13934046%2F1%2FA-New-Year> (referer: https://steamdb.info/graph/)\n"
     ]
    },
    {
     "name": "stdout",
     "output_type": "stream",
     "text": [
      "\n",
      "https://proxy.scrapeops.io/v1/?api_key=&url=https%3A%2F%2Fwww.fanfiction.net%2Fs%2F13934046%2F1%2FA-New-Year\n"
     ]
    },
    {
     "name": "stderr",
     "output_type": "stream",
     "text": [
      "2024-12-04 10:41:43 [scrapy.core.engine] DEBUG: Crawled (200) <GET https://proxy.scrapeops.io/v1/?api_key=&url=https%3A%2F%2Fwww.fanfiction.net%2Fs%2F13844815%2F1%2FFirst-Christmas> (referer: https://steamdb.info/graph/)\n",
      "2024-12-04 10:41:43 [scrapy.core.engine] DEBUG: Crawled (400) <GET https://proxy.scrapeops.io/v1/?api_key=&url=https%3A%2F%2Fproxy.scrapeops.io%2Fv1%2F%3Fapi_key%3D%26url%3Dhttps%253A%2F%2Fwww.fanfiction.net%2Fs%2F13863468%2F2%2FForever-and-Always-My-Love> (referer: https://steamdb.info/graph/)\n",
      "2024-12-04 10:41:43 [scrapy.spidermiddlewares.httperror] INFO: Ignoring response <400 https://proxy.scrapeops.io/v1/?api_key=&url=https%3A%2F%2Fproxy.scrapeops.io%2Fv1%2F%3Fapi_key%3D%26url%3Dhttps%253A%2F%2Fwww.fanfiction.net%2Fs%2F13863468%2F2%2FForever-and-Always-My-Love>: HTTP status code is not handled or not allowed\n"
     ]
    },
    {
     "name": "stdout",
     "output_type": "stream",
     "text": [
      "\n",
      "https://proxy.scrapeops.io/v1/?api_key=&url=https%3A%2F%2Fwww.fanfiction.net%2Fs%2F13844815%2F1%2FFirst-Christmas\n"
     ]
    },
    {
     "name": "stderr",
     "output_type": "stream",
     "text": [
      "2024-12-04 10:41:43 [scrapy.downloadermiddlewares.retry] DEBUG: Retrying <GET https://proxy.scrapeops.io/v1/?api_key=&url=https%3A%2F%2Fwww.fanfiction.net%2Fs%2F13854944%2F1%2FAssassination> (failed 1 times): 429 Unknown Status\n",
      "2024-12-04 10:41:44 [scrapy.core.engine] DEBUG: Crawled (200) <GET https://proxy.scrapeops.io/v1/?api_key=&url=https%3A%2F%2Fwww.fanfiction.net%2Fs%2F13846545%2F1%2FOf-Course-You-Do> (referer: https://steamdb.info/graph/)\n",
      "2024-12-04 10:41:44 [scrapy.core.engine] DEBUG: Crawled (400) <GET https://proxy.scrapeops.io/v1/?api_key=&url=https%3A%2F%2Fproxy.scrapeops.io%2Fv1%2F%3Fapi_key%3D%26url%3Dhttps%253A%2F%2Fwww.fanfiction.net%2Fs%2F13865224%2F2%2FBusiest-Bees-and-Sweetest-Strawberries> (referer: https://steamdb.info/graph/)\n",
      "2024-12-04 10:41:44 [scrapy.core.engine] DEBUG: Crawled (400) <GET https://proxy.scrapeops.io/v1/?api_key=&url=https%3A%2F%2Fproxy.scrapeops.io%2Fv1%2F%3Fapi_key%3D%26url%3Dhttps%253A%2F%2Fwww.fanfiction.net%2Fs%2F13866174%2F2%2FAbandoned-Babes> (referer: https://steamdb.info/graph/)\n",
      "2024-12-04 10:41:44 [scrapy.spidermiddlewares.httperror] INFO: Ignoring response <400 https://proxy.scrapeops.io/v1/?api_key=&url=https%3A%2F%2Fproxy.scrapeops.io%2Fv1%2F%3Fapi_key%3D%26url%3Dhttps%253A%2F%2Fwww.fanfiction.net%2Fs%2F13865224%2F2%2FBusiest-Bees-and-Sweetest-Strawberries>: HTTP status code is not handled or not allowed\n",
      "2024-12-04 10:41:44 [scrapy.core.engine] DEBUG: Crawled (200) <GET https://proxy.scrapeops.io/v1/?api_key=&url=https%3A%2F%2Fwww.fanfiction.net%2Fs%2F13845481%2F1%2FHaunted-By-the-War> (referer: https://steamdb.info/graph/)\n",
      "2024-12-04 10:41:44 [scrapy.spidermiddlewares.httperror] INFO: Ignoring response <400 https://proxy.scrapeops.io/v1/?api_key=&url=https%3A%2F%2Fproxy.scrapeops.io%2Fv1%2F%3Fapi_key%3D%26url%3Dhttps%253A%2F%2Fwww.fanfiction.net%2Fs%2F13866174%2F2%2FAbandoned-Babes>: HTTP status code is not handled or not allowed\n"
     ]
    },
    {
     "name": "stdout",
     "output_type": "stream",
     "text": [
      "\n",
      "https://proxy.scrapeops.io/v1/?api_key=&url=https%3A%2F%2Fwww.fanfiction.net%2Fs%2F13846545%2F1%2FOf-Course-You-Do\n"
     ]
    },
    {
     "name": "stderr",
     "output_type": "stream",
     "text": [
      "2024-12-04 10:41:44 [scrapy.core.engine] DEBUG: Crawled (200) <GET https://proxy.scrapeops.io/v1/?api_key=&url=https%3A%2F%2Fwww.fanfiction.net%2Fs%2F10433317%2F1%2FBecause-Sherlock-Holmes-Needs-to-Pee-in-a-Jar-Again> (referer: https://steamdb.info/graph/)\n",
      "2024-12-04 10:41:44 [scrapy.core.engine] DEBUG: Crawled (200) <GET https://proxy.scrapeops.io/v1/?api_key=&url=https%3A%2F%2Fwww.fanfiction.net%2Fs%2F12367340%2F1%2FRomeo-and-Juliet> (referer: https://steamdb.info/graph/)\n"
     ]
    },
    {
     "name": "stdout",
     "output_type": "stream",
     "text": [
      "\n",
      "https://proxy.scrapeops.io/v1/?api_key=&url=https%3A%2F%2Fwww.fanfiction.net%2Fs%2F13845481%2F1%2FHaunted-By-the-War\n",
      "\n",
      "https://proxy.scrapeops.io/v1/?api_key=&url=https%3A%2F%2Fwww.fanfiction.net%2Fs%2F10433317%2F1%2FBecause-Sherlock-Holmes-Needs-to-Pee-in-a-Jar-Again\n"
     ]
    },
    {
     "name": "stderr",
     "output_type": "stream",
     "text": [
      "2024-12-04 10:41:45 [scrapy.core.engine] DEBUG: Crawled (400) <GET https://proxy.scrapeops.io/v1/?api_key=&url=https%3A%2F%2Fproxy.scrapeops.io%2Fv1%2F%3Fapi_key%3D%26url%3Dhttps%253A%2F%2Fwww.fanfiction.net%2Fs%2F13934046%2F2%2FA-New-Year> (referer: https://steamdb.info/graph/)\n",
      "2024-12-04 10:41:45 [scrapy.core.engine] DEBUG: Crawled (400) <GET https://proxy.scrapeops.io/v1/?api_key=&url=https%3A%2F%2Fproxy.scrapeops.io%2Fv1%2F%3Fapi_key%3D%26url%3Dhttps%253A%2F%2Fwww.fanfiction.net%2Fs%2F13844815%2F2%2FFirst-Christmas> (referer: https://steamdb.info/graph/)\n",
      "2024-12-04 10:41:45 [scrapy.spidermiddlewares.httperror] INFO: Ignoring response <400 https://proxy.scrapeops.io/v1/?api_key=&url=https%3A%2F%2Fproxy.scrapeops.io%2Fv1%2F%3Fapi_key%3D%26url%3Dhttps%253A%2F%2Fwww.fanfiction.net%2Fs%2F13934046%2F2%2FA-New-Year>: HTTP status code is not handled or not allowed\n",
      "2024-12-04 10:41:45 [scrapy.spidermiddlewares.httperror] INFO: Ignoring response <400 https://proxy.scrapeops.io/v1/?api_key=&url=https%3A%2F%2Fproxy.scrapeops.io%2Fv1%2F%3Fapi_key%3D%26url%3Dhttps%253A%2F%2Fwww.fanfiction.net%2Fs%2F13844815%2F2%2FFirst-Christmas>: HTTP status code is not handled or not allowed\n"
     ]
    },
    {
     "name": "stdout",
     "output_type": "stream",
     "text": [
      "\n",
      "https://proxy.scrapeops.io/v1/?api_key=&url=https%3A%2F%2Fwww.fanfiction.net%2Fs%2F12367340%2F1%2FRomeo-and-Juliet\n"
     ]
    },
    {
     "name": "stderr",
     "output_type": "stream",
     "text": [
      "2024-12-04 10:41:45 [scrapy.core.engine] DEBUG: Crawled (200) <GET https://proxy.scrapeops.io/v1/?api_key=&url=https%3A%2F%2Fwww.fanfiction.net%2Fs%2F13847754%2F1%2FTheir-Own-Electric-Glow> (referer: https://steamdb.info/graph/)\n"
     ]
    },
    {
     "name": "stdout",
     "output_type": "stream",
     "text": [
      "\n",
      "https://proxy.scrapeops.io/v1/?api_key=&url=https%3A%2F%2Fwww.fanfiction.net%2Fs%2F13847754%2F1%2FTheir-Own-Electric-Glow\n"
     ]
    },
    {
     "name": "stderr",
     "output_type": "stream",
     "text": [
      "2024-12-04 10:41:45 [scrapy.core.engine] DEBUG: Crawled (200) <GET https://proxy.scrapeops.io/v1/?api_key=&url=https%3A%2F%2Fwww.fanfiction.net%2Fs%2F13352833%2F1%2FA-slap-on-the-wrist> (referer: https://steamdb.info/graph/)\n"
     ]
    },
    {
     "name": "stdout",
     "output_type": "stream",
     "text": [
      "\n",
      "https://proxy.scrapeops.io/v1/?api_key=&url=https%3A%2F%2Fwww.fanfiction.net%2Fs%2F13352833%2F1%2FA-slap-on-the-wrist\n"
     ]
    },
    {
     "name": "stderr",
     "output_type": "stream",
     "text": [
      "2024-12-04 10:41:46 [scrapy.core.engine] DEBUG: Crawled (200) <GET https://proxy.scrapeops.io/v1/?api_key=&url=https%3A%2F%2Fwww.fanfiction.net%2Fs%2F13823152%2F1%2FThe-Inversion-keep-playing> (referer: https://steamdb.info/graph/)\n",
      "2024-12-04 10:41:46 [scrapy.core.engine] DEBUG: Crawled (400) <GET https://proxy.scrapeops.io/v1/?api_key=&url=https%3A%2F%2Fproxy.scrapeops.io%2Fv1%2F%3Fapi_key%3D%26url%3Dhttps%253A%2F%2Fwww.fanfiction.net%2Fs%2F13846545%2F2%2FOf-Course-You-Do> (referer: https://steamdb.info/graph/)\n",
      "2024-12-04 10:41:46 [scrapy.spidermiddlewares.httperror] INFO: Ignoring response <400 https://proxy.scrapeops.io/v1/?api_key=&url=https%3A%2F%2Fproxy.scrapeops.io%2Fv1%2F%3Fapi_key%3D%26url%3Dhttps%253A%2F%2Fwww.fanfiction.net%2Fs%2F13846545%2F2%2FOf-Course-You-Do>: HTTP status code is not handled or not allowed\n"
     ]
    },
    {
     "name": "stdout",
     "output_type": "stream",
     "text": [
      "\n",
      "https://proxy.scrapeops.io/v1/?api_key=&url=https%3A%2F%2Fwww.fanfiction.net%2Fs%2F13823152%2F1%2FThe-Inversion-keep-playing\n"
     ]
    },
    {
     "name": "stderr",
     "output_type": "stream",
     "text": [
      "2024-12-04 10:41:46 [scrapy.downloadermiddlewares.retry] DEBUG: Retrying <GET https://proxy.scrapeops.io/v1/?api_key=&url=https%3A%2F%2Fwww.fanfiction.net%2Fs%2F13518046%2F1%2FSeven-Days-of-SAW-2020> (failed 1 times): 429 Unknown Status\n",
      "2024-12-04 10:41:46 [scrapy.core.engine] DEBUG: Crawled (200) <GET https://proxy.scrapeops.io/v1/?api_key=&url=https%3A%2F%2Fwww.fanfiction.net%2Ftv%2FSherlock%2F%3F%26srt%3D1%26r%3D103%26p%3D28> (referer: https://steamdb.info/graph/)\n",
      "2024-12-04 10:41:46 [scrapy.core.engine] DEBUG: Crawled (400) <GET https://proxy.scrapeops.io/v1/?api_key=&url=https%3A%2F%2Fproxy.scrapeops.io%2Fv1%2F%3Fapi_key%3D%26url%3Dhttps%253A%2F%2Fwww.fanfiction.net%2Fs%2F13845481%2F2%2FHaunted-By-the-War> (referer: https://steamdb.info/graph/)\n",
      "2024-12-04 10:41:46 [scrapy.core.engine] DEBUG: Crawled (200) <GET https://proxy.scrapeops.io/v1/?api_key=&url=https%3A%2F%2Fwww.fanfiction.net%2Fs%2F13834126%2F1%2FLondon-Marathon> (referer: https://steamdb.info/graph/)\n",
      "2024-12-04 10:41:46 [scrapy.core.engine] DEBUG: Crawled (400) <GET https://proxy.scrapeops.io/v1/?api_key=&url=https%3A%2F%2Fproxy.scrapeops.io%2Fv1%2F%3Fapi_key%3D%26url%3Dhttps%253A%2F%2Fwww.fanfiction.net%2Fs%2F10433317%2F2%2FBecause-Sherlock-Holmes-Needs-to-Pee-in-a-Jar-Again> (referer: https://steamdb.info/graph/)\n",
      "2024-12-04 10:41:47 [scrapy.spidermiddlewares.httperror] INFO: Ignoring response <400 https://proxy.scrapeops.io/v1/?api_key=&url=https%3A%2F%2Fproxy.scrapeops.io%2Fv1%2F%3Fapi_key%3D%26url%3Dhttps%253A%2F%2Fwww.fanfiction.net%2Fs%2F13845481%2F2%2FHaunted-By-the-War>: HTTP status code is not handled or not allowed\n",
      "2024-12-04 10:41:47 [scrapy.core.engine] DEBUG: Crawled (400) <GET https://proxy.scrapeops.io/v1/?api_key=&url=https%3A%2F%2Fproxy.scrapeops.io%2Fv1%2F%3Fapi_key%3D%26url%3Dhttps%253A%2F%2Fwww.fanfiction.net%2Fs%2F12367340%2F2%2FRomeo-and-Juliet> (referer: https://steamdb.info/graph/)\n",
      "2024-12-04 10:41:47 [scrapy.spidermiddlewares.httperror] INFO: Ignoring response <400 https://proxy.scrapeops.io/v1/?api_key=&url=https%3A%2F%2Fproxy.scrapeops.io%2Fv1%2F%3Fapi_key%3D%26url%3Dhttps%253A%2F%2Fwww.fanfiction.net%2Fs%2F10433317%2F2%2FBecause-Sherlock-Holmes-Needs-to-Pee-in-a-Jar-Again>: HTTP status code is not handled or not allowed\n",
      "2024-12-04 10:41:47 [scrapy.core.engine] DEBUG: Crawled (400) <GET https://proxy.scrapeops.io/v1/?api_key=&url=https%3A%2F%2Fproxy.scrapeops.io%2Fv1%2F%3Fapi_key%3D%26url%3Dhttps%253A%2F%2Fwww.fanfiction.net%2Fs%2F13847754%2F2%2FTheir-Own-Electric-Glow> (referer: https://steamdb.info/graph/)\n",
      "2024-12-04 10:41:47 [scrapy.spidermiddlewares.httperror] INFO: Ignoring response <400 https://proxy.scrapeops.io/v1/?api_key=&url=https%3A%2F%2Fproxy.scrapeops.io%2Fv1%2F%3Fapi_key%3D%26url%3Dhttps%253A%2F%2Fwww.fanfiction.net%2Fs%2F12367340%2F2%2FRomeo-and-Juliet>: HTTP status code is not handled or not allowed\n"
     ]
    },
    {
     "name": "stdout",
     "output_type": "stream",
     "text": [
      "25\n",
      "\n",
      "https://proxy.scrapeops.io/v1/?api_key=&url=https%3A%2F%2Fwww.fanfiction.net%2Fs%2F13834126%2F1%2FLondon-Marathon\n"
     ]
    },
    {
     "name": "stderr",
     "output_type": "stream",
     "text": [
      "2024-12-04 10:41:47 [scrapy.spidermiddlewares.httperror] INFO: Ignoring response <400 https://proxy.scrapeops.io/v1/?api_key=&url=https%3A%2F%2Fproxy.scrapeops.io%2Fv1%2F%3Fapi_key%3D%26url%3Dhttps%253A%2F%2Fwww.fanfiction.net%2Fs%2F13847754%2F2%2FTheir-Own-Electric-Glow>: HTTP status code is not handled or not allowed\n",
      "2024-12-04 10:41:47 [scrapy.core.engine] DEBUG: Crawled (400) <GET https://proxy.scrapeops.io/v1/?api_key=&url=https%3A%2F%2Fproxy.scrapeops.io%2Fv1%2F%3Fapi_key%3D%26url%3Dhttps%253A%2F%2Fwww.fanfiction.net%2Fs%2F13352833%2F2%2FA-slap-on-the-wrist> (referer: https://steamdb.info/graph/)\n",
      "2024-12-04 10:41:47 [scrapy.spidermiddlewares.httperror] INFO: Ignoring response <400 https://proxy.scrapeops.io/v1/?api_key=&url=https%3A%2F%2Fproxy.scrapeops.io%2Fv1%2F%3Fapi_key%3D%26url%3Dhttps%253A%2F%2Fwww.fanfiction.net%2Fs%2F13352833%2F2%2FA-slap-on-the-wrist>: HTTP status code is not handled or not allowed\n",
      "2024-12-04 10:41:47 [scrapy.core.engine] DEBUG: Crawled (200) <GET https://proxy.scrapeops.io/v1/?api_key=&url=https%3A%2F%2Fwww.fanfiction.net%2Fs%2F13837048%2F1%2FEating-Technique> (referer: https://steamdb.info/graph/)\n",
      "2024-12-04 10:41:48 [scrapy.core.engine] DEBUG: Crawled (400) <GET https://proxy.scrapeops.io/v1/?api_key=&url=https%3A%2F%2Fproxy.scrapeops.io%2Fv1%2F%3Fapi_key%3D%26url%3Dhttps%253A%2F%2Fwww.fanfiction.net%2Fs%2F13823152%2F2%2FThe-Inversion-keep-playing> (referer: https://steamdb.info/graph/)\n",
      "2024-12-04 10:41:48 [scrapy.spidermiddlewares.httperror] INFO: Ignoring response <400 https://proxy.scrapeops.io/v1/?api_key=&url=https%3A%2F%2Fproxy.scrapeops.io%2Fv1%2F%3Fapi_key%3D%26url%3Dhttps%253A%2F%2Fwww.fanfiction.net%2Fs%2F13823152%2F2%2FThe-Inversion-keep-playing>: HTTP status code is not handled or not allowed\n"
     ]
    },
    {
     "name": "stdout",
     "output_type": "stream",
     "text": [
      "\n",
      "https://proxy.scrapeops.io/v1/?api_key=&url=https%3A%2F%2Fwww.fanfiction.net%2Fs%2F13837048%2F1%2FEating-Technique\n"
     ]
    },
    {
     "name": "stderr",
     "output_type": "stream",
     "text": [
      "2024-12-04 10:41:48 [scrapy.core.engine] DEBUG: Crawled (200) <GET https://proxy.scrapeops.io/v1/?api_key=&url=https%3A%2F%2Fwww.fanfiction.net%2Fs%2F13763066%2F1%2FMerry-Christmas> (referer: https://steamdb.info/graph/)\n",
      "2024-12-04 10:41:48 [scrapy.core.engine] DEBUG: Crawled (200) <GET https://proxy.scrapeops.io/v1/?api_key=&url=https%3A%2F%2Fwww.fanfiction.net%2Fs%2F13837824%2F1%2FI-ve-waited-too-long> (referer: https://steamdb.info/graph/)\n"
     ]
    },
    {
     "name": "stdout",
     "output_type": "stream",
     "text": [
      "\n",
      "https://proxy.scrapeops.io/v1/?api_key=&url=https%3A%2F%2Fwww.fanfiction.net%2Fs%2F13763066%2F1%2FMerry-Christmas\n"
     ]
    },
    {
     "name": "stderr",
     "output_type": "stream",
     "text": [
      "2024-12-04 10:41:48 [scrapy.core.engine] DEBUG: Crawled (200) <GET https://proxy.scrapeops.io/v1/?api_key=&url=https%3A%2F%2Fwww.fanfiction.net%2Fs%2F13838089%2F1%2FA-Todos-Los-Idiotas-De-Los-Que-Me-Enamor%25C3%25A9-Johnlock> (referer: https://steamdb.info/graph/)\n"
     ]
    },
    {
     "name": "stdout",
     "output_type": "stream",
     "text": [
      "\n",
      "https://proxy.scrapeops.io/v1/?api_key=&url=https%3A%2F%2Fwww.fanfiction.net%2Fs%2F13837824%2F1%2FI-ve-waited-too-long\n",
      "\n"
     ]
    },
    {
     "name": "stderr",
     "output_type": "stream",
     "text": [
      "2024-12-04 10:41:49 [scrapy.downloadermiddlewares.retry] DEBUG: Retrying <GET https://proxy.scrapeops.io/v1/?api_key=&url=https%3A%2F%2Fwww.fanfiction.net%2Fs%2F13710454%2F1%2FThe-Good-Book> (failed 1 times): 429 Unknown Status\n",
      "2024-12-04 10:41:49 [scrapy.core.engine] DEBUG: Crawled (200) <GET https://proxy.scrapeops.io/v1/?api_key=&url=https%3A%2F%2Fwww.fanfiction.net%2Fs%2F13838926%2F1%2Fbees> (referer: https://steamdb.info/graph/)\n",
      "2024-12-04 10:41:49 [scrapy.core.engine] DEBUG: Crawled (400) <GET https://proxy.scrapeops.io/v1/?api_key=&url=https%3A%2F%2Fproxy.scrapeops.io%2Fv1%2F%3Fapi_key%3D%26url%3Dhttps%253A%2F%2Fwww.fanfiction.net%2Fs%2F13834126%2F2%2FLondon-Marathon> (referer: https://steamdb.info/graph/)\n",
      "2024-12-04 10:41:50 [scrapy.extensions.logstats] INFO: Crawled 1104 pages (at 201 pages/min), scraped 0 items (at 0 items/min)\n",
      "2024-12-04 10:41:50 [scrapy.spidermiddlewares.httperror] INFO: Ignoring response <400 https://proxy.scrapeops.io/v1/?api_key=&url=https%3A%2F%2Fproxy.scrapeops.io%2Fv1%2F%3Fapi_key%3D%26url%3Dhttps%253A%2F%2Fwww.fanfiction.net%2Fs%2F13834126%2F2%2FLondon-Marathon>: HTTP status code is not handled or not allowed\n",
      "2024-12-04 10:41:50 [scrapy.core.engine] DEBUG: Crawled (200) <GET https://proxy.scrapeops.io/v1/?api_key=&url=https%3A%2F%2Fwww.fanfiction.net%2Fs%2F13839009%2F1%2FThames> (referer: https://steamdb.info/graph/)\n"
     ]
    },
    {
     "name": "stdout",
     "output_type": "stream",
     "text": [
      "\n",
      "https://proxy.scrapeops.io/v1/?api_key=&url=https%3A%2F%2Fwww.fanfiction.net%2Fs%2F13838926%2F1%2Fbees\n"
     ]
    },
    {
     "name": "stderr",
     "output_type": "stream",
     "text": [
      "2024-12-04 10:41:50 [scrapy.core.engine] DEBUG: Crawled (200) <GET https://proxy.scrapeops.io/v1/?api_key=&url=https%3A%2F%2Fwww.fanfiction.net%2Fs%2F13839162%2F1%2FCompany> (referer: https://steamdb.info/graph/)\n",
      "2024-12-04 10:41:50 [scrapy.core.engine] DEBUG: Crawled (400) <GET https://proxy.scrapeops.io/v1/?api_key=&url=https%3A%2F%2Fproxy.scrapeops.io%2Fv1%2F%3Fapi_key%3D%26url%3Dhttps%253A%2F%2Fwww.fanfiction.net%2Fs%2F13837048%2F2%2FEating-Technique> (referer: https://steamdb.info/graph/)\n"
     ]
    },
    {
     "name": "stdout",
     "output_type": "stream",
     "text": [
      "\n",
      "https://proxy.scrapeops.io/v1/?api_key=&url=https%3A%2F%2Fwww.fanfiction.net%2Fs%2F13839009%2F1%2FThames\n",
      "\n",
      "https://proxy.scrapeops.io/v1/?api_key=&url=https%3A%2F%2Fwww.fanfiction.net%2Fs%2F13839162%2F1%2FCompany\n"
     ]
    },
    {
     "name": "stderr",
     "output_type": "stream",
     "text": [
      "2024-12-04 10:41:50 [scrapy.spidermiddlewares.httperror] INFO: Ignoring response <400 https://proxy.scrapeops.io/v1/?api_key=&url=https%3A%2F%2Fproxy.scrapeops.io%2Fv1%2F%3Fapi_key%3D%26url%3Dhttps%253A%2F%2Fwww.fanfiction.net%2Fs%2F13837048%2F2%2FEating-Technique>: HTTP status code is not handled or not allowed\n",
      "2024-12-04 10:41:50 [scrapy.core.engine] DEBUG: Crawled (200) <GET https://proxy.scrapeops.io/v1/?api_key=&url=https%3A%2F%2Fwww.fanfiction.net%2Fs%2F13837015%2F1%2FFish-and-Chips> (referer: https://steamdb.info/graph/)\n",
      "2024-12-04 10:41:50 [scrapy.core.engine] DEBUG: Crawled (400) <GET https://proxy.scrapeops.io/v1/?api_key=&url=https%3A%2F%2Fproxy.scrapeops.io%2Fv1%2F%3Fapi_key%3D%26url%3Dhttps%253A%2F%2Fwww.fanfiction.net%2Fs%2F13763066%2F2%2FMerry-Christmas> (referer: https://steamdb.info/graph/)\n",
      "2024-12-04 10:41:50 [scrapy.core.engine] DEBUG: Crawled (400) <GET https://proxy.scrapeops.io/v1/?api_key=&url=https%3A%2F%2Fproxy.scrapeops.io%2Fv1%2F%3Fapi_key%3D%26url%3Dhttps%253A%2F%2Fwww.fanfiction.net%2Fs%2F13837824%2F2%2FI-ve-waited-too-long> (referer: https://steamdb.info/graph/)\n",
      "2024-12-04 10:41:50 [scrapy.spidermiddlewares.httperror] INFO: Ignoring response <400 https://proxy.scrapeops.io/v1/?api_key=&url=https%3A%2F%2Fproxy.scrapeops.io%2Fv1%2F%3Fapi_key%3D%26url%3Dhttps%253A%2F%2Fwww.fanfiction.net%2Fs%2F13763066%2F2%2FMerry-Christmas>: HTTP status code is not handled or not allowed\n",
      "2024-12-04 10:41:51 [scrapy.spidermiddlewares.httperror] INFO: Ignoring response <400 https://proxy.scrapeops.io/v1/?api_key=&url=https%3A%2F%2Fproxy.scrapeops.io%2Fv1%2F%3Fapi_key%3D%26url%3Dhttps%253A%2F%2Fwww.fanfiction.net%2Fs%2F13837824%2F2%2FI-ve-waited-too-long>: HTTP status code is not handled or not allowed\n"
     ]
    },
    {
     "name": "stdout",
     "output_type": "stream",
     "text": [
      "\n",
      "https://proxy.scrapeops.io/v1/?api_key=&url=https%3A%2F%2Fwww.fanfiction.net%2Fs%2F13837015%2F1%2FFish-and-Chips\n"
     ]
    },
    {
     "name": "stderr",
     "output_type": "stream",
     "text": [
      "2024-12-04 10:41:51 [scrapy.core.engine] DEBUG: Crawled (200) <GET https://proxy.scrapeops.io/v1/?api_key=&url=https%3A%2F%2Fwww.fanfiction.net%2Fs%2F13820532%2F1%2FSherlock-Standstill> (referer: https://steamdb.info/graph/)\n"
     ]
    },
    {
     "name": "stdout",
     "output_type": "stream",
     "text": [
      "\n",
      "https://proxy.scrapeops.io/v1/?api_key=&url=https%3A%2F%2Fwww.fanfiction.net%2Fs%2F13820532%2F1%2FSherlock-Standstill\n"
     ]
    },
    {
     "name": "stderr",
     "output_type": "stream",
     "text": [
      "2024-12-04 10:41:52 [scrapy.core.engine] DEBUG: Crawled (200) <GET https://proxy.scrapeops.io/v1/?api_key=&url=https%3A%2F%2Fwww.fanfiction.net%2Fs%2F11131413%2F1%2FSherlock-and-Molly-Play-Games> (referer: https://steamdb.info/graph/)\n",
      "2024-12-04 10:41:52 [scrapy.core.engine] DEBUG: Crawled (200) <GET https://proxy.scrapeops.io/v1/?api_key=&url=https%3A%2F%2Fwww.fanfiction.net%2Fs%2F11174049%2F1%2FFirst-Time-for-Everything> (referer: https://steamdb.info/graph/)\n",
      "2024-12-04 10:41:52 [scrapy.core.engine] DEBUG: Crawled (400) <GET https://proxy.scrapeops.io/v1/?api_key=&url=https%3A%2F%2Fproxy.scrapeops.io%2Fv1%2F%3Fapi_key%3D%26url%3Dhttps%253A%2F%2Fwww.fanfiction.net%2Fs%2F13838926%2F2%2Fbees> (referer: https://steamdb.info/graph/)\n",
      "2024-12-04 10:41:52 [scrapy.downloadermiddlewares.retry] DEBUG: Retrying <GET https://proxy.scrapeops.io/v1/?api_key=&url=https%3A%2F%2Fwww.fanfiction.net%2Fs%2F13838189%2F1%2Fhurt-him-and-i-ll-break-you> (failed 1 times): 429 Unknown Status\n",
      "2024-12-04 10:41:52 [scrapy.core.engine] DEBUG: Crawled (400) <GET https://proxy.scrapeops.io/v1/?api_key=&url=https%3A%2F%2Fproxy.scrapeops.io%2Fv1%2F%3Fapi_key%3D%26url%3Dhttps%253A%2F%2Fwww.fanfiction.net%2Fs%2F13839009%2F2%2FThames> (referer: https://steamdb.info/graph/)\n",
      "2024-12-04 10:41:52 [scrapy.spidermiddlewares.httperror] INFO: Ignoring response <400 https://proxy.scrapeops.io/v1/?api_key=&url=https%3A%2F%2Fproxy.scrapeops.io%2Fv1%2F%3Fapi_key%3D%26url%3Dhttps%253A%2F%2Fwww.fanfiction.net%2Fs%2F13838926%2F2%2Fbees>: HTTP status code is not handled or not allowed\n"
     ]
    },
    {
     "name": "stdout",
     "output_type": "stream",
     "text": [
      "\n",
      "https://proxy.scrapeops.io/v1/?api_key=&url=https%3A%2F%2Fwww.fanfiction.net%2Fs%2F11131413%2F1%2FSherlock-and-Molly-Play-Games\n",
      "\n",
      "https://proxy.scrapeops.io/v1/?api_key=&url=https%3A%2F%2Fwww.fanfiction.net%2Fs%2F11174049%2F1%2FFirst-Time-for-Everything\n"
     ]
    },
    {
     "name": "stderr",
     "output_type": "stream",
     "text": [
      "2024-12-04 10:41:52 [scrapy.spidermiddlewares.httperror] INFO: Ignoring response <400 https://proxy.scrapeops.io/v1/?api_key=&url=https%3A%2F%2Fproxy.scrapeops.io%2Fv1%2F%3Fapi_key%3D%26url%3Dhttps%253A%2F%2Fwww.fanfiction.net%2Fs%2F13839009%2F2%2FThames>: HTTP status code is not handled or not allowed\n",
      "2024-12-04 10:41:52 [scrapy.core.engine] DEBUG: Crawled (400) <GET https://proxy.scrapeops.io/v1/?api_key=&url=https%3A%2F%2Fproxy.scrapeops.io%2Fv1%2F%3Fapi_key%3D%26url%3Dhttps%253A%2F%2Fwww.fanfiction.net%2Fs%2F13839162%2F2%2FCompany> (referer: https://steamdb.info/graph/)\n",
      "2024-12-04 10:41:52 [scrapy.spidermiddlewares.httperror] INFO: Ignoring response <400 https://proxy.scrapeops.io/v1/?api_key=&url=https%3A%2F%2Fproxy.scrapeops.io%2Fv1%2F%3Fapi_key%3D%26url%3Dhttps%253A%2F%2Fwww.fanfiction.net%2Fs%2F13839162%2F2%2FCompany>: HTTP status code is not handled or not allowed\n",
      "2024-12-04 10:41:53 [scrapy.core.engine] DEBUG: Crawled (200) <GET https://proxy.scrapeops.io/v1/?api_key=&url=https%3A%2F%2Fwww.fanfiction.net%2Fs%2F10325793%2F1%2FThe-Hounds-of-Silence> (referer: https://steamdb.info/graph/)\n",
      "2024-12-04 10:41:53 [scrapy.core.engine] DEBUG: Crawled (400) <GET https://proxy.scrapeops.io/v1/?api_key=&url=https%3A%2F%2Fproxy.scrapeops.io%2Fv1%2F%3Fapi_key%3D%26url%3Dhttps%253A%2F%2Fwww.fanfiction.net%2Fs%2F13837015%2F2%2FFish-and-Chips> (referer: https://steamdb.info/graph/)\n",
      "2024-12-04 10:41:53 [scrapy.spidermiddlewares.httperror] INFO: Ignoring response <400 https://proxy.scrapeops.io/v1/?api_key=&url=https%3A%2F%2Fproxy.scrapeops.io%2Fv1%2F%3Fapi_key%3D%26url%3Dhttps%253A%2F%2Fwww.fanfiction.net%2Fs%2F13837015%2F2%2FFish-and-Chips>: HTTP status code is not handled or not allowed\n"
     ]
    },
    {
     "name": "stdout",
     "output_type": "stream",
     "text": [
      "\n",
      "https://proxy.scrapeops.io/v1/?api_key=&url=https%3A%2F%2Fwww.fanfiction.net%2Fs%2F10325793%2F1%2FThe-Hounds-of-Silence\n"
     ]
    },
    {
     "name": "stderr",
     "output_type": "stream",
     "text": [
      "2024-12-04 10:41:54 [scrapy.core.engine] DEBUG: Crawled (200) <GET https://proxy.scrapeops.io/v1/?api_key=&url=https%3A%2F%2Fwww.fanfiction.net%2Fs%2F13827053%2F1%2FJohnlock-Oneshot> (referer: https://steamdb.info/graph/)\n",
      "2024-12-04 10:41:54 [scrapy.downloadermiddlewares.retry] DEBUG: Retrying <GET https://proxy.scrapeops.io/v1/?api_key=&url=https%3A%2F%2Fwww.fanfiction.net%2Ftv%2FSherlock%2F%3F%26srt%3D1%26r%3D103%26p%3D29> (failed 1 times): 429 Unknown Status\n",
      "2024-12-04 10:41:54 [scrapy.core.engine] DEBUG: Crawled (400) <GET https://proxy.scrapeops.io/v1/?api_key=&url=https%3A%2F%2Fproxy.scrapeops.io%2Fv1%2F%3Fapi_key%3D%26url%3Dhttps%253A%2F%2Fwww.fanfiction.net%2Fs%2F13820532%2F2%2FSherlock-Standstill> (referer: https://steamdb.info/graph/)\n",
      "2024-12-04 10:41:54 [scrapy.core.engine] DEBUG: Crawled (400) <GET https://proxy.scrapeops.io/v1/?api_key=&url=https%3A%2F%2Fproxy.scrapeops.io%2Fv1%2F%3Fapi_key%3D%26url%3Dhttps%253A%2F%2Fwww.fanfiction.net%2Fs%2F11131413%2F2%2FSherlock-and-Molly-Play-Games> (referer: https://steamdb.info/graph/)\n",
      "2024-12-04 10:41:54 [scrapy.spidermiddlewares.httperror] INFO: Ignoring response <400 https://proxy.scrapeops.io/v1/?api_key=&url=https%3A%2F%2Fproxy.scrapeops.io%2Fv1%2F%3Fapi_key%3D%26url%3Dhttps%253A%2F%2Fwww.fanfiction.net%2Fs%2F13820532%2F2%2FSherlock-Standstill>: HTTP status code is not handled or not allowed\n",
      "2024-12-04 10:41:54 [scrapy.spidermiddlewares.httperror] INFO: Ignoring response <400 https://proxy.scrapeops.io/v1/?api_key=&url=https%3A%2F%2Fproxy.scrapeops.io%2Fv1%2F%3Fapi_key%3D%26url%3Dhttps%253A%2F%2Fwww.fanfiction.net%2Fs%2F11131413%2F2%2FSherlock-and-Molly-Play-Games>: HTTP status code is not handled or not allowed\n"
     ]
    },
    {
     "name": "stdout",
     "output_type": "stream",
     "text": [
      "\n",
      "https://proxy.scrapeops.io/v1/?api_key=&url=https%3A%2F%2Fwww.fanfiction.net%2Fs%2F13827053%2F1%2FJohnlock-Oneshot\n"
     ]
    },
    {
     "name": "stderr",
     "output_type": "stream",
     "text": [
      "2024-12-04 10:41:54 [scrapy.core.engine] DEBUG: Crawled (400) <GET https://proxy.scrapeops.io/v1/?api_key=&url=https%3A%2F%2Fproxy.scrapeops.io%2Fv1%2F%3Fapi_key%3D%26url%3Dhttps%253A%2F%2Fwww.fanfiction.net%2Fs%2F11174049%2F2%2FFirst-Time-for-Everything> (referer: https://steamdb.info/graph/)\n",
      "2024-12-04 10:41:54 [scrapy.core.engine] DEBUG: Crawled (200) <GET https://proxy.scrapeops.io/v1/?api_key=&url=https%3A%2F%2Fwww.fanfiction.net%2Fs%2F10441999%2F1%2FThe-Adventure-of-the-Gold-Locket> (referer: https://steamdb.info/graph/)\n",
      "2024-12-04 10:41:54 [scrapy.spidermiddlewares.httperror] INFO: Ignoring response <400 https://proxy.scrapeops.io/v1/?api_key=&url=https%3A%2F%2Fproxy.scrapeops.io%2Fv1%2F%3Fapi_key%3D%26url%3Dhttps%253A%2F%2Fwww.fanfiction.net%2Fs%2F11174049%2F2%2FFirst-Time-for-Everything>: HTTP status code is not handled or not allowed\n"
     ]
    },
    {
     "name": "stdout",
     "output_type": "stream",
     "text": [
      "\n",
      "https://proxy.scrapeops.io/v1/?api_key=&url=https%3A%2F%2Fwww.fanfiction.net%2Fs%2F10441999%2F1%2FThe-Adventure-of-the-Gold-Locket\n"
     ]
    },
    {
     "name": "stderr",
     "output_type": "stream",
     "text": [
      "2024-12-04 10:41:55 [scrapy.core.engine] DEBUG: Crawled (200) <GET https://proxy.scrapeops.io/v1/?api_key=&url=https%3A%2F%2Fwww.fanfiction.net%2Fs%2F13829397%2F1%2FJohn-Is-a-Very-Good-Doctor> (referer: https://steamdb.info/graph/)\n"
     ]
    },
    {
     "name": "stdout",
     "output_type": "stream",
     "text": [
      "\n",
      "https://proxy.scrapeops.io/v1/?api_key=&url=https%3A%2F%2Fwww.fanfiction.net%2Fs%2F13829397%2F1%2FJohn-Is-a-Very-Good-Doctor\n"
     ]
    },
    {
     "name": "stderr",
     "output_type": "stream",
     "text": [
      "2024-12-04 10:41:56 [scrapy.core.engine] DEBUG: Crawled (200) <GET https://proxy.scrapeops.io/v1/?api_key=&url=https%3A%2F%2Fwww.fanfiction.net%2Fs%2F13830397%2F1%2FMight-we-expect-a-happy-announcment-by-the-end-of-the-week> (referer: https://steamdb.info/graph/)\n",
      "2024-12-04 10:41:56 [scrapy.core.engine] DEBUG: Crawled (200) <GET https://proxy.scrapeops.io/v1/?api_key=&url=https%3A%2F%2Fwww.fanfiction.net%2Fs%2F13830032%2F1%2FThey-Were-Going-To-Be-Okay> (referer: https://steamdb.info/graph/)\n",
      "2024-12-04 10:41:56 [scrapy.core.engine] DEBUG: Crawled (400) <GET https://proxy.scrapeops.io/v1/?api_key=&url=https%3A%2F%2Fproxy.scrapeops.io%2Fv1%2F%3Fapi_key%3D%26url%3Dhttps%253A%2F%2Fwww.fanfiction.net%2Fs%2F10325793%2F2%2FThe-Hounds-of-Silence> (referer: https://steamdb.info/graph/)\n",
      "2024-12-04 10:41:56 [scrapy.spidermiddlewares.httperror] INFO: Ignoring response <400 https://proxy.scrapeops.io/v1/?api_key=&url=https%3A%2F%2Fproxy.scrapeops.io%2Fv1%2F%3Fapi_key%3D%26url%3Dhttps%253A%2F%2Fwww.fanfiction.net%2Fs%2F10325793%2F2%2FThe-Hounds-of-Silence>: HTTP status code is not handled or not allowed\n",
      "2024-12-04 10:41:56 [scrapy.core.engine] DEBUG: Crawled (200) <GET https://proxy.scrapeops.io/v1/?api_key=&url=https%3A%2F%2Fwww.fanfiction.net%2Fs%2F13830676%2F1%2FUncle-Sherlock> (referer: https://steamdb.info/graph/)\n"
     ]
    },
    {
     "name": "stdout",
     "output_type": "stream",
     "text": [
      "\n",
      "https://proxy.scrapeops.io/v1/?api_key=&url=https%3A%2F%2Fwww.fanfiction.net%2Fs%2F13830397%2F1%2FMight-we-expect-a-happy-announcment-by-the-end-of-the-week\n",
      "\n",
      "https://proxy.scrapeops.io/v1/?api_key=&url=https%3A%2F%2Fwww.fanfiction.net%2Fs%2F13830032%2F1%2FThey-Were-Going-To-Be-Okay\n"
     ]
    },
    {
     "name": "stderr",
     "output_type": "stream",
     "text": [
      "2024-12-04 10:41:56 [scrapy.core.engine] DEBUG: Crawled (400) <GET https://proxy.scrapeops.io/v1/?api_key=&url=https%3A%2F%2Fproxy.scrapeops.io%2Fv1%2F%3Fapi_key%3D%26url%3Dhttps%253A%2F%2Fwww.fanfiction.net%2Fs%2F13827053%2F2%2FJohnlock-Oneshot> (referer: https://steamdb.info/graph/)\n",
      "2024-12-04 10:41:56 [scrapy.spidermiddlewares.httperror] INFO: Ignoring response <400 https://proxy.scrapeops.io/v1/?api_key=&url=https%3A%2F%2Fproxy.scrapeops.io%2Fv1%2F%3Fapi_key%3D%26url%3Dhttps%253A%2F%2Fwww.fanfiction.net%2Fs%2F13827053%2F2%2FJohnlock-Oneshot>: HTTP status code is not handled or not allowed\n"
     ]
    },
    {
     "name": "stdout",
     "output_type": "stream",
     "text": [
      "\n",
      "https://proxy.scrapeops.io/v1/?api_key=&url=https%3A%2F%2Fwww.fanfiction.net%2Fs%2F13830676%2F1%2FUncle-Sherlock\n"
     ]
    },
    {
     "name": "stderr",
     "output_type": "stream",
     "text": [
      "2024-12-04 10:41:57 [scrapy.downloadermiddlewares.retry] DEBUG: Retrying <GET https://proxy.scrapeops.io/v1/?api_key=&url=https%3A%2F%2Fwww.fanfiction.net%2Fs%2F13519659%2F1%2FDisarm-Me> (failed 1 times): 429 Unknown Status\n",
      "2024-12-04 10:41:57 [scrapy.core.engine] DEBUG: Crawled (200) <GET https://proxy.scrapeops.io/v1/?api_key=&url=https%3A%2F%2Fwww.fanfiction.net%2Fs%2F13837570%2F1%2FUncle-Mycroft> (referer: https://steamdb.info/graph/)\n"
     ]
    },
    {
     "name": "stdout",
     "output_type": "stream",
     "text": [
      "\n",
      "https://proxy.scrapeops.io/v1/?api_key=&url=https%3A%2F%2Fwww.fanfiction.net%2Fs%2F13837570%2F1%2FUncle-Mycroft\n"
     ]
    },
    {
     "name": "stderr",
     "output_type": "stream",
     "text": [
      "2024-12-04 10:41:58 [scrapy.core.engine] DEBUG: Crawled (200) <GET https://proxy.scrapeops.io/v1/?api_key=&url=https%3A%2F%2Fwww.fanfiction.net%2Fs%2F13342040%2F1%2FLichtenburg-Figures> (referer: https://steamdb.info/graph/)\n",
      "2024-12-04 10:41:58 [scrapy.core.engine] DEBUG: Crawled (400) <GET https://proxy.scrapeops.io/v1/?api_key=&url=https%3A%2F%2Fproxy.scrapeops.io%2Fv1%2F%3Fapi_key%3D%26url%3Dhttps%253A%2F%2Fwww.fanfiction.net%2Fs%2F10441999%2F2%2FThe-Adventure-of-the-Gold-Locket> (referer: https://steamdb.info/graph/)\n",
      "2024-12-04 10:41:58 [scrapy.core.engine] DEBUG: Crawled (400) <GET https://proxy.scrapeops.io/v1/?api_key=&url=https%3A%2F%2Fproxy.scrapeops.io%2Fv1%2F%3Fapi_key%3D%26url%3Dhttps%253A%2F%2Fwww.fanfiction.net%2Fs%2F13829397%2F2%2FJohn-Is-a-Very-Good-Doctor> (referer: https://steamdb.info/graph/)\n",
      "2024-12-04 10:41:58 [scrapy.spidermiddlewares.httperror] INFO: Ignoring response <400 https://proxy.scrapeops.io/v1/?api_key=&url=https%3A%2F%2Fproxy.scrapeops.io%2Fv1%2F%3Fapi_key%3D%26url%3Dhttps%253A%2F%2Fwww.fanfiction.net%2Fs%2F10441999%2F2%2FThe-Adventure-of-the-Gold-Locket>: HTTP status code is not handled or not allowed\n",
      "2024-12-04 10:41:58 [scrapy.core.engine] DEBUG: Crawled (200) <GET https://proxy.scrapeops.io/v1/?api_key=&url=https%3A%2F%2Fwww.fanfiction.net%2Fs%2F13832618%2F1%2FIt-Is-What-It-Is> (referer: https://steamdb.info/graph/)\n"
     ]
    },
    {
     "name": "stdout",
     "output_type": "stream",
     "text": [
      "\n",
      "https://proxy.scrapeops.io/v1/?api_key=&url=https%3A%2F%2Fwww.fanfiction.net%2Fs%2F13342040%2F1%2FLichtenburg-Figures\n"
     ]
    },
    {
     "name": "stderr",
     "output_type": "stream",
     "text": [
      "2024-12-04 10:41:58 [scrapy.spidermiddlewares.httperror] INFO: Ignoring response <400 https://proxy.scrapeops.io/v1/?api_key=&url=https%3A%2F%2Fproxy.scrapeops.io%2Fv1%2F%3Fapi_key%3D%26url%3Dhttps%253A%2F%2Fwww.fanfiction.net%2Fs%2F13829397%2F2%2FJohn-Is-a-Very-Good-Doctor>: HTTP status code is not handled or not allowed\n",
      "2024-12-04 10:41:58 [scrapy.core.engine] DEBUG: Crawled (400) <GET https://proxy.scrapeops.io/v1/?api_key=&url=https%3A%2F%2Fproxy.scrapeops.io%2Fv1%2F%3Fapi_key%3D%26url%3Dhttps%253A%2F%2Fwww.fanfiction.net%2Fs%2F13830032%2F2%2FThey-Were-Going-To-Be-Okay> (referer: https://steamdb.info/graph/)\n",
      "2024-12-04 10:41:58 [scrapy.core.engine] DEBUG: Crawled (400) <GET https://proxy.scrapeops.io/v1/?api_key=&url=https%3A%2F%2Fproxy.scrapeops.io%2Fv1%2F%3Fapi_key%3D%26url%3Dhttps%253A%2F%2Fwww.fanfiction.net%2Fs%2F13830397%2F2%2FMight-we-expect-a-happy-announcment-by-the-end-of-the-week> (referer: https://steamdb.info/graph/)\n",
      "2024-12-04 10:41:59 [scrapy.spidermiddlewares.httperror] INFO: Ignoring response <400 https://proxy.scrapeops.io/v1/?api_key=&url=https%3A%2F%2Fproxy.scrapeops.io%2Fv1%2F%3Fapi_key%3D%26url%3Dhttps%253A%2F%2Fwww.fanfiction.net%2Fs%2F13830032%2F2%2FThey-Were-Going-To-Be-Okay>: HTTP status code is not handled or not allowed\n",
      "2024-12-04 10:41:59 [scrapy.spidermiddlewares.httperror] INFO: Ignoring response <400 https://proxy.scrapeops.io/v1/?api_key=&url=https%3A%2F%2Fproxy.scrapeops.io%2Fv1%2F%3Fapi_key%3D%26url%3Dhttps%253A%2F%2Fwww.fanfiction.net%2Fs%2F13830397%2F2%2FMight-we-expect-a-happy-announcment-by-the-end-of-the-week>: HTTP status code is not handled or not allowed\n"
     ]
    },
    {
     "name": "stdout",
     "output_type": "stream",
     "text": [
      "\n",
      "https://proxy.scrapeops.io/v1/?api_key=&url=https%3A%2F%2Fwww.fanfiction.net%2Fs%2F13832618%2F1%2FIt-Is-What-It-Is\n"
     ]
    },
    {
     "name": "stderr",
     "output_type": "stream",
     "text": [
      "2024-12-04 10:41:59 [scrapy.core.engine] DEBUG: Crawled (200) <GET https://proxy.scrapeops.io/v1/?api_key=&url=https%3A%2F%2Fwww.fanfiction.net%2Fs%2F13831332%2F1%2Fone-word-prompts> (referer: https://steamdb.info/graph/)\n",
      "2024-12-04 10:41:59 [scrapy.core.engine] DEBUG: Crawled (400) <GET https://proxy.scrapeops.io/v1/?api_key=&url=https%3A%2F%2Fproxy.scrapeops.io%2Fv1%2F%3Fapi_key%3D%26url%3Dhttps%253A%2F%2Fwww.fanfiction.net%2Fs%2F13830676%2F2%2FUncle-Sherlock> (referer: https://steamdb.info/graph/)\n",
      "2024-12-04 10:41:59 [scrapy.spidermiddlewares.httperror] INFO: Ignoring response <400 https://proxy.scrapeops.io/v1/?api_key=&url=https%3A%2F%2Fproxy.scrapeops.io%2Fv1%2F%3Fapi_key%3D%26url%3Dhttps%253A%2F%2Fwww.fanfiction.net%2Fs%2F13830676%2F2%2FUncle-Sherlock>: HTTP status code is not handled or not allowed\n",
      "2024-12-04 10:41:59 [scrapy.core.engine] DEBUG: Crawled (200) <GET https://proxy.scrapeops.io/v1/?api_key=&url=https%3A%2F%2Fwww.fanfiction.net%2Fs%2F13833373%2F1%2FWhen-Sally-Met-Harry> (referer: https://steamdb.info/graph/)\n"
     ]
    },
    {
     "name": "stdout",
     "output_type": "stream",
     "text": [
      "\n",
      "https://proxy.scrapeops.io/v1/?api_key=&url=https%3A%2F%2Fwww.fanfiction.net%2Fs%2F13831332%2F1%2Fone-word-prompts\n"
     ]
    },
    {
     "name": "stderr",
     "output_type": "stream",
     "text": [
      "2024-12-04 10:41:59 [scrapy.core.engine] DEBUG: Crawled (400) <GET https://proxy.scrapeops.io/v1/?api_key=&url=https%3A%2F%2Fproxy.scrapeops.io%2Fv1%2F%3Fapi_key%3D%26url%3Dhttps%253A%2F%2Fwww.fanfiction.net%2Fs%2F13837570%2F2%2FUncle-Mycroft> (referer: https://steamdb.info/graph/)\n",
      "2024-12-04 10:41:59 [scrapy.core.engine] DEBUG: Crawled (400) <GET https://proxy.scrapeops.io/v1/?api_key=&url=https%3A%2F%2Fproxy.scrapeops.io%2Fv1%2F%3Fapi_key%3D%26url%3Dhttps%253A%2F%2Fwww.fanfiction.net%2Fs%2F13342040%2F2%2FLichtenburg-Figures> (referer: https://steamdb.info/graph/)\n",
      "2024-12-04 10:41:59 [scrapy.spidermiddlewares.httperror] INFO: Ignoring response <400 https://proxy.scrapeops.io/v1/?api_key=&url=https%3A%2F%2Fproxy.scrapeops.io%2Fv1%2F%3Fapi_key%3D%26url%3Dhttps%253A%2F%2Fwww.fanfiction.net%2Fs%2F13837570%2F2%2FUncle-Mycroft>: HTTP status code is not handled or not allowed\n",
      "2024-12-04 10:41:59 [scrapy.spidermiddlewares.httperror] INFO: Ignoring response <400 https://proxy.scrapeops.io/v1/?api_key=&url=https%3A%2F%2Fproxy.scrapeops.io%2Fv1%2F%3Fapi_key%3D%26url%3Dhttps%253A%2F%2Fwww.fanfiction.net%2Fs%2F13342040%2F2%2FLichtenburg-Figures>: HTTP status code is not handled or not allowed\n"
     ]
    },
    {
     "name": "stdout",
     "output_type": "stream",
     "text": [
      "\n",
      "https://proxy.scrapeops.io/v1/?api_key=&url=https%3A%2F%2Fwww.fanfiction.net%2Fs%2F13833373%2F1%2FWhen-Sally-Met-Harry\n"
     ]
    },
    {
     "name": "stderr",
     "output_type": "stream",
     "text": [
      "2024-12-04 10:42:00 [scrapy.core.engine] DEBUG: Crawled (200) <GET https://proxy.scrapeops.io/v1/?api_key=&url=https%3A%2F%2Fwww.fanfiction.net%2Fs%2F13833444%2F1%2FA-Single-Bullet> (referer: https://steamdb.info/graph/)\n"
     ]
    },
    {
     "name": "stdout",
     "output_type": "stream",
     "text": [
      "\n",
      "https://proxy.scrapeops.io/v1/?api_key=&url=https%3A%2F%2Fwww.fanfiction.net%2Fs%2F13833444%2F1%2FA-Single-Bullet\n"
     ]
    },
    {
     "name": "stderr",
     "output_type": "stream",
     "text": [
      "2024-12-04 10:42:00 [scrapy.core.engine] DEBUG: Crawled (200) <GET https://proxy.scrapeops.io/v1/?api_key=&url=https%3A%2F%2Fwww.fanfiction.net%2Fs%2F13834265%2F1%2FYou-Are-a-Menace> (referer: https://steamdb.info/graph/)\n",
      "2024-12-04 10:42:00 [scrapy.downloadermiddlewares.retry] DEBUG: Retrying <GET https://proxy.scrapeops.io/v1/?api_key=&url=https%3A%2F%2Fwww.fanfiction.net%2Fs%2F13831043%2F1%2FJohn-God-of-Thunder> (failed 1 times): 429 Unknown Status\n",
      "2024-12-04 10:42:01 [scrapy.core.engine] DEBUG: Crawled (400) <GET https://proxy.scrapeops.io/v1/?api_key=&url=https%3A%2F%2Fproxy.scrapeops.io%2Fv1%2F%3Fapi_key%3D%26url%3Dhttps%253A%2F%2Fwww.fanfiction.net%2Fs%2F13832618%2F2%2FIt-Is-What-It-Is> (referer: https://steamdb.info/graph/)\n",
      "2024-12-04 10:42:01 [scrapy.spidermiddlewares.httperror] INFO: Ignoring response <400 https://proxy.scrapeops.io/v1/?api_key=&url=https%3A%2F%2Fproxy.scrapeops.io%2Fv1%2F%3Fapi_key%3D%26url%3Dhttps%253A%2F%2Fwww.fanfiction.net%2Fs%2F13832618%2F2%2FIt-Is-What-It-Is>: HTTP status code is not handled or not allowed\n"
     ]
    },
    {
     "name": "stdout",
     "output_type": "stream",
     "text": [
      "\n",
      "https://proxy.scrapeops.io/v1/?api_key=&url=https%3A%2F%2Fwww.fanfiction.net%2Fs%2F13834265%2F1%2FYou-Are-a-Menace\n"
     ]
    },
    {
     "name": "stderr",
     "output_type": "stream",
     "text": [
      "2024-12-04 10:42:02 [scrapy.core.engine] DEBUG: Crawled (200) <GET https://proxy.scrapeops.io/v1/?api_key=&url=https%3A%2F%2Fwww.fanfiction.net%2Fs%2F13754210%2F1%2FAnd-then-love> (referer: https://steamdb.info/graph/)\n"
     ]
    },
    {
     "name": "stdout",
     "output_type": "stream",
     "text": [
      "\n"
     ]
    },
    {
     "name": "stderr",
     "output_type": "stream",
     "text": [
      "2024-12-04 10:42:02 [scrapy.core.engine] DEBUG: Crawled (200) <GET https://proxy.scrapeops.io/v1/?api_key=&url=https%3A%2F%2Fwww.fanfiction.net%2Fs%2F13829651%2F1%2FBond-Buisness-Man-by-day-Jumper-Sod-Clamped-Man-by-night> (referer: https://steamdb.info/graph/)\n",
      "2024-12-04 10:42:03 [scrapy.core.engine] DEBUG: Crawled (400) <GET https://proxy.scrapeops.io/v1/?api_key=&url=https%3A%2F%2Fproxy.scrapeops.io%2Fv1%2F%3Fapi_key%3D%26url%3Dhttps%253A%2F%2Fwww.fanfiction.net%2Fs%2F13831332%2F2%2Fone-word-prompts> (referer: https://steamdb.info/graph/)\n",
      "2024-12-04 10:42:03 [scrapy.spidermiddlewares.httperror] INFO: Ignoring response <400 https://proxy.scrapeops.io/v1/?api_key=&url=https%3A%2F%2Fproxy.scrapeops.io%2Fv1%2F%3Fapi_key%3D%26url%3Dhttps%253A%2F%2Fwww.fanfiction.net%2Fs%2F13831332%2F2%2Fone-word-prompts>: HTTP status code is not handled or not allowed\n"
     ]
    },
    {
     "name": "stdout",
     "output_type": "stream",
     "text": [
      "\n",
      "https://proxy.scrapeops.io/v1/?api_key=&url=https%3A%2F%2Fwww.fanfiction.net%2Fs%2F13829651%2F1%2FBond-Buisness-Man-by-day-Jumper-Sod-Clamped-Man-by-night\n"
     ]
    },
    {
     "name": "stderr",
     "output_type": "stream",
     "text": [
      "2024-12-04 10:42:04 [scrapy.core.engine] DEBUG: Crawled (200) <GET https://proxy.scrapeops.io/v1/?api_key=&url=https%3A%2F%2Fwww.fanfiction.net%2Fs%2F13840559%2F1%2Fblonde-hair-blue-eyes-scar-on-his-left-cheek> (referer: https://steamdb.info/graph/)\n",
      "2024-12-04 10:42:04 [scrapy.core.engine] DEBUG: Crawled (200) <GET https://proxy.scrapeops.io/v1/?api_key=&url=https%3A%2F%2Fwww.fanfiction.net%2Fs%2F13834404%2F1%2FNot-This-Time> (referer: https://steamdb.info/graph/)\n",
      "2024-12-04 10:42:04 [scrapy.downloadermiddlewares.retry] DEBUG: Retrying <GET https://proxy.scrapeops.io/v1/?api_key=&url=https%3A%2F%2Fwww.fanfiction.net%2Fs%2F13834043%2F1%2FThe-New-Recruit> (failed 1 times): 429 Unknown Status\n",
      "2024-12-04 10:42:04 [scrapy.core.engine] DEBUG: Crawled (400) <GET https://proxy.scrapeops.io/v1/?api_key=&url=https%3A%2F%2Fproxy.scrapeops.io%2Fv1%2F%3Fapi_key%3D%26url%3Dhttps%253A%2F%2Fwww.fanfiction.net%2Fs%2F13833373%2F2%2FWhen-Sally-Met-Harry> (referer: https://steamdb.info/graph/)\n",
      "2024-12-04 10:42:04 [scrapy.core.engine] DEBUG: Crawled (400) <GET https://proxy.scrapeops.io/v1/?api_key=&url=https%3A%2F%2Fproxy.scrapeops.io%2Fv1%2F%3Fapi_key%3D%26url%3Dhttps%253A%2F%2Fwww.fanfiction.net%2Fs%2F13833444%2F2%2FA-Single-Bullet> (referer: https://steamdb.info/graph/)\n",
      "2024-12-04 10:42:04 [scrapy.spidermiddlewares.httperror] INFO: Ignoring response <400 https://proxy.scrapeops.io/v1/?api_key=&url=https%3A%2F%2Fproxy.scrapeops.io%2Fv1%2F%3Fapi_key%3D%26url%3Dhttps%253A%2F%2Fwww.fanfiction.net%2Fs%2F13833373%2F2%2FWhen-Sally-Met-Harry>: HTTP status code is not handled or not allowed\n",
      "2024-12-04 10:42:04 [scrapy.spidermiddlewares.httperror] INFO: Ignoring response <400 https://proxy.scrapeops.io/v1/?api_key=&url=https%3A%2F%2Fproxy.scrapeops.io%2Fv1%2F%3Fapi_key%3D%26url%3Dhttps%253A%2F%2Fwww.fanfiction.net%2Fs%2F13833444%2F2%2FA-Single-Bullet>: HTTP status code is not handled or not allowed\n",
      "2024-12-04 10:42:04 [scrapy.core.engine] DEBUG: Crawled (400) <GET https://proxy.scrapeops.io/v1/?api_key=&url=https%3A%2F%2Fproxy.scrapeops.io%2Fv1%2F%3Fapi_key%3D%26url%3Dhttps%253A%2F%2Fwww.fanfiction.net%2Fs%2F13834265%2F2%2FYou-Are-a-Menace> (referer: https://steamdb.info/graph/)\n"
     ]
    },
    {
     "name": "stdout",
     "output_type": "stream",
     "text": [
      "\n",
      "https://proxy.scrapeops.io/v1/?api_key=&url=https%3A%2F%2Fwww.fanfiction.net%2Fs%2F13840559%2F1%2Fblonde-hair-blue-eyes-scar-on-his-left-cheek\n",
      "\n",
      "https://proxy.scrapeops.io/v1/?api_key=&url=https%3A%2F%2Fwww.fanfiction.net%2Fs%2F13834404%2F1%2FNot-This-Time\n"
     ]
    },
    {
     "name": "stderr",
     "output_type": "stream",
     "text": [
      "2024-12-04 10:42:04 [scrapy.spidermiddlewares.httperror] INFO: Ignoring response <400 https://proxy.scrapeops.io/v1/?api_key=&url=https%3A%2F%2Fproxy.scrapeops.io%2Fv1%2F%3Fapi_key%3D%26url%3Dhttps%253A%2F%2Fwww.fanfiction.net%2Fs%2F13834265%2F2%2FYou-Are-a-Menace>: HTTP status code is not handled or not allowed\n",
      "2024-12-04 10:42:05 [scrapy.core.engine] DEBUG: Crawled (200) <GET https://proxy.scrapeops.io/v1/?api_key=&url=https%3A%2F%2Fwww.fanfiction.net%2Fs%2F9276926%2F1%2FDeath-Series-2-Irene-s-Choice> (referer: https://steamdb.info/graph/)\n"
     ]
    },
    {
     "name": "stdout",
     "output_type": "stream",
     "text": [
      "\n",
      "https://proxy.scrapeops.io/v1/?api_key=&url=https%3A%2F%2Fwww.fanfiction.net%2Fs%2F9276926%2F1%2FDeath-Series-2-Irene-s-Choice\n"
     ]
    },
    {
     "name": "stderr",
     "output_type": "stream",
     "text": [
      "2024-12-04 10:42:06 [scrapy.downloadermiddlewares.retry] DEBUG: Retrying <GET https://proxy.scrapeops.io/v1/?api_key=&url=https%3A%2F%2Fwww.fanfiction.net%2Fs%2F13809384%2F1%2F%25C3%25BAnorov%25C3%25BD-johnlock-challenge-od-jedne-sle%25C4%258Dny-na-ao3> (failed 1 times): 429 Unknown Status\n",
      "2024-12-04 10:42:06 [scrapy.core.engine] DEBUG: Crawled (200) <GET https://proxy.scrapeops.io/v1/?api_key=&url=https%3A%2F%2Fwww.fanfiction.net%2Fs%2F13841324%2F1%2FMystery-Micheal> (referer: https://steamdb.info/graph/)\n",
      "2024-12-04 10:42:06 [scrapy.core.engine] DEBUG: Crawled (400) <GET https://proxy.scrapeops.io/v1/?api_key=&url=https%3A%2F%2Fproxy.scrapeops.io%2Fv1%2F%3Fapi_key%3D%26url%3Dhttps%253A%2F%2Fwww.fanfiction.net%2Fs%2F13829651%2F2%2FBond-Buisness-Man-by-day-Jumper-Sod-Clamped-Man-by-night> (referer: https://steamdb.info/graph/)\n",
      "2024-12-04 10:42:06 [scrapy.spidermiddlewares.httperror] INFO: Ignoring response <400 https://proxy.scrapeops.io/v1/?api_key=&url=https%3A%2F%2Fproxy.scrapeops.io%2Fv1%2F%3Fapi_key%3D%26url%3Dhttps%253A%2F%2Fwww.fanfiction.net%2Fs%2F13829651%2F2%2FBond-Buisness-Man-by-day-Jumper-Sod-Clamped-Man-by-night>: HTTP status code is not handled or not allowed\n"
     ]
    },
    {
     "name": "stdout",
     "output_type": "stream",
     "text": [
      "\n",
      "https://proxy.scrapeops.io/v1/?api_key=&url=https%3A%2F%2Fwww.fanfiction.net%2Fs%2F13841324%2F1%2FMystery-Micheal\n"
     ]
    },
    {
     "name": "stderr",
     "output_type": "stream",
     "text": [
      "2024-12-04 10:42:07 [scrapy.core.engine] DEBUG: Crawled (200) <GET https://proxy.scrapeops.io/v1/?api_key=&url=https%3A%2F%2Fwww.fanfiction.net%2Fs%2F13841374%2F1%2FYou-have-465-messages-behind-the-scenes> (referer: https://steamdb.info/graph/)\n"
     ]
    },
    {
     "name": "stdout",
     "output_type": "stream",
     "text": [
      "\n",
      "https://proxy.scrapeops.io/v1/?api_key=&url=https%3A%2F%2Fwww.fanfiction.net%2Fs%2F13841374%2F1%2FYou-have-465-messages-behind-the-scenes\n"
     ]
    },
    {
     "name": "stderr",
     "output_type": "stream",
     "text": [
      "2024-12-04 10:42:08 [scrapy.core.engine] DEBUG: Crawled (200) <GET https://proxy.scrapeops.io/v1/?api_key=&url=https%3A%2F%2Fwww.fanfiction.net%2Fs%2F13842126%2F1%2FI-Think-Therefore-I-Am> (referer: https://steamdb.info/graph/)\n"
     ]
    },
    {
     "name": "stdout",
     "output_type": "stream",
     "text": [
      "\n",
      "https://proxy.scrapeops.io/v1/?api_key=&url=https%3A%2F%2Fwww.fanfiction.net%2Fs%2F13842126%2F1%2FI-Think-Therefore-I-Am\n"
     ]
    },
    {
     "name": "stderr",
     "output_type": "stream",
     "text": [
      "2024-12-04 10:42:09 [scrapy.core.engine] DEBUG: Crawled (200) <GET https://proxy.scrapeops.io/v1/?api_key=&url=https%3A%2F%2Fwww.fanfiction.net%2Fs%2F13665533%2F1%2FTodo-lo-que-quiero-lograr-es-contigo> (referer: https://steamdb.info/graph/)\n",
      "2024-12-04 10:42:09 [scrapy.core.engine] DEBUG: Crawled (400) <GET https://proxy.scrapeops.io/v1/?api_key=&url=https%3A%2F%2Fproxy.scrapeops.io%2Fv1%2F%3Fapi_key%3D%26url%3Dhttps%253A%2F%2Fwww.fanfiction.net%2Fs%2F13840559%2F2%2Fblonde-hair-blue-eyes-scar-on-his-left-cheek> (referer: https://steamdb.info/graph/)\n",
      "2024-12-04 10:42:09 [scrapy.core.engine] DEBUG: Crawled (400) <GET https://proxy.scrapeops.io/v1/?api_key=&url=https%3A%2F%2Fproxy.scrapeops.io%2Fv1%2F%3Fapi_key%3D%26url%3Dhttps%253A%2F%2Fwww.fanfiction.net%2Fs%2F13834404%2F2%2FNot-This-Time> (referer: https://steamdb.info/graph/)\n",
      "2024-12-04 10:42:09 [scrapy.spidermiddlewares.httperror] INFO: Ignoring response <400 https://proxy.scrapeops.io/v1/?api_key=&url=https%3A%2F%2Fproxy.scrapeops.io%2Fv1%2F%3Fapi_key%3D%26url%3Dhttps%253A%2F%2Fwww.fanfiction.net%2Fs%2F13840559%2F2%2Fblonde-hair-blue-eyes-scar-on-his-left-cheek>: HTTP status code is not handled or not allowed\n",
      "2024-12-04 10:42:09 [scrapy.spidermiddlewares.httperror] INFO: Ignoring response <400 https://proxy.scrapeops.io/v1/?api_key=&url=https%3A%2F%2Fproxy.scrapeops.io%2Fv1%2F%3Fapi_key%3D%26url%3Dhttps%253A%2F%2Fwww.fanfiction.net%2Fs%2F13834404%2F2%2FNot-This-Time>: HTTP status code is not handled or not allowed\n"
     ]
    },
    {
     "name": "stdout",
     "output_type": "stream",
     "text": [
      "\n"
     ]
    },
    {
     "name": "stderr",
     "output_type": "stream",
     "text": [
      "2024-12-04 10:42:09 [scrapy.downloadermiddlewares.retry] DEBUG: Retrying <GET https://proxy.scrapeops.io/v1/?api_key=&url=https%3A%2F%2Fwww.fanfiction.net%2Fs%2F13842058%2F1%2FEnough> (failed 1 times): 429 Unknown Status\n",
      "2024-12-04 10:42:09 [scrapy.core.engine] DEBUG: Crawled (400) <GET https://proxy.scrapeops.io/v1/?api_key=&url=https%3A%2F%2Fproxy.scrapeops.io%2Fv1%2F%3Fapi_key%3D%26url%3Dhttps%253A%2F%2Fwww.fanfiction.net%2Fs%2F9276926%2F2%2FDeath-Series-2-Irene-s-Choice> (referer: https://steamdb.info/graph/)\n",
      "2024-12-04 10:42:09 [scrapy.spidermiddlewares.httperror] INFO: Ignoring response <400 https://proxy.scrapeops.io/v1/?api_key=&url=https%3A%2F%2Fproxy.scrapeops.io%2Fv1%2F%3Fapi_key%3D%26url%3Dhttps%253A%2F%2Fwww.fanfiction.net%2Fs%2F9276926%2F2%2FDeath-Series-2-Irene-s-Choice>: HTTP status code is not handled or not allowed\n",
      "2024-12-04 10:42:09 [scrapy.core.engine] DEBUG: Crawled (200) <GET https://proxy.scrapeops.io/v1/?api_key=&url=https%3A%2F%2Fwww.fanfiction.net%2Fs%2F13842618%2F1%2Fyou-re-new-aren-t-you> (referer: https://steamdb.info/graph/)\n"
     ]
    },
    {
     "name": "stdout",
     "output_type": "stream",
     "text": [
      "\n",
      "https://proxy.scrapeops.io/v1/?api_key=&url=https%3A%2F%2Fwww.fanfiction.net%2Fs%2F13842618%2F1%2Fyou-re-new-aren-t-you\n"
     ]
    },
    {
     "name": "stderr",
     "output_type": "stream",
     "text": [
      "2024-12-04 10:42:11 [scrapy.downloadermiddlewares.retry] DEBUG: Retrying <GET https://proxy.scrapeops.io/v1/?api_key=&url=https%3A%2F%2Fwww.fanfiction.net%2Fs%2F13842534%2F1%2FLockdown> (failed 1 times): 429 Unknown Status\n",
      "2024-12-04 10:42:11 [scrapy.core.engine] DEBUG: Crawled (400) <GET https://proxy.scrapeops.io/v1/?api_key=&url=https%3A%2F%2Fproxy.scrapeops.io%2Fv1%2F%3Fapi_key%3D%26url%3Dhttps%253A%2F%2Fwww.fanfiction.net%2Fs%2F13841324%2F2%2FMystery-Micheal> (referer: https://steamdb.info/graph/)\n",
      "2024-12-04 10:42:12 [scrapy.core.engine] DEBUG: Crawled (400) <GET https://proxy.scrapeops.io/v1/?api_key=&url=https%3A%2F%2Fproxy.scrapeops.io%2Fv1%2F%3Fapi_key%3D%26url%3Dhttps%253A%2F%2Fwww.fanfiction.net%2Fs%2F13841374%2F2%2FYou-have-465-messages-behind-the-scenes> (referer: https://steamdb.info/graph/)\n",
      "2024-12-04 10:42:12 [scrapy.spidermiddlewares.httperror] INFO: Ignoring response <400 https://proxy.scrapeops.io/v1/?api_key=&url=https%3A%2F%2Fproxy.scrapeops.io%2Fv1%2F%3Fapi_key%3D%26url%3Dhttps%253A%2F%2Fwww.fanfiction.net%2Fs%2F13841324%2F2%2FMystery-Micheal>: HTTP status code is not handled or not allowed\n",
      "2024-12-04 10:42:12 [scrapy.spidermiddlewares.httperror] INFO: Ignoring response <400 https://proxy.scrapeops.io/v1/?api_key=&url=https%3A%2F%2Fproxy.scrapeops.io%2Fv1%2F%3Fapi_key%3D%26url%3Dhttps%253A%2F%2Fwww.fanfiction.net%2Fs%2F13841374%2F2%2FYou-have-465-messages-behind-the-scenes>: HTTP status code is not handled or not allowed\n",
      "2024-12-04 10:42:12 [scrapy.core.engine] DEBUG: Crawled (400) <GET https://proxy.scrapeops.io/v1/?api_key=&url=https%3A%2F%2Fproxy.scrapeops.io%2Fv1%2F%3Fapi_key%3D%26url%3Dhttps%253A%2F%2Fwww.fanfiction.net%2Fs%2F13842126%2F2%2FI-Think-Therefore-I-Am> (referer: https://steamdb.info/graph/)\n",
      "2024-12-04 10:42:12 [scrapy.spidermiddlewares.httperror] INFO: Ignoring response <400 https://proxy.scrapeops.io/v1/?api_key=&url=https%3A%2F%2Fproxy.scrapeops.io%2Fv1%2F%3Fapi_key%3D%26url%3Dhttps%253A%2F%2Fwww.fanfiction.net%2Fs%2F13842126%2F2%2FI-Think-Therefore-I-Am>: HTTP status code is not handled or not allowed\n",
      "2024-12-04 10:42:12 [scrapy.core.engine] DEBUG: Crawled (200) <GET https://proxy.scrapeops.io/v1/?api_key=&url=https%3A%2F%2Fwww.fanfiction.net%2Fs%2F13843225%2F1%2FJohn-s-Break> (referer: https://steamdb.info/graph/)\n"
     ]
    },
    {
     "name": "stdout",
     "output_type": "stream",
     "text": [
      "\n",
      "https://proxy.scrapeops.io/v1/?api_key=&url=https%3A%2F%2Fwww.fanfiction.net%2Fs%2F13843225%2F1%2FJohn-s-Break\n"
     ]
    },
    {
     "name": "stderr",
     "output_type": "stream",
     "text": [
      "2024-12-04 10:42:14 [scrapy.core.engine] DEBUG: Crawled (200) <GET https://proxy.scrapeops.io/v1/?api_key=&url=https%3A%2F%2Fwww.fanfiction.net%2Fs%2F13842115%2F1%2FWait-thats-my-idiot> (referer: https://steamdb.info/graph/)\n",
      "2024-12-04 10:42:14 [scrapy.core.engine] DEBUG: Crawled (200) <GET https://proxy.scrapeops.io/v1/?api_key=&url=https%3A%2F%2Fwww.fanfiction.net%2Fs%2F13827472%2F1%2FMovie-Night> (referer: https://steamdb.info/graph/)\n",
      "2024-12-04 10:42:14 [scrapy.core.engine] DEBUG: Crawled (200) <GET https://proxy.scrapeops.io/v1/?api_key=&url=https%3A%2F%2Fwww.fanfiction.net%2Fs%2F13426828%2F1%2FYou-me-and-Him> (referer: https://steamdb.info/graph/)\n"
     ]
    },
    {
     "name": "stdout",
     "output_type": "stream",
     "text": [
      "\n",
      "https://proxy.scrapeops.io/v1/?api_key=&url=https%3A%2F%2Fwww.fanfiction.net%2Fs%2F13842115%2F1%2FWait-thats-my-idiot\n",
      "\n",
      "https://proxy.scrapeops.io/v1/?api_key=&url=https%3A%2F%2Fwww.fanfiction.net%2Fs%2F13827472%2F1%2FMovie-Night\n",
      "\n"
     ]
    },
    {
     "name": "stderr",
     "output_type": "stream",
     "text": [
      "2024-12-04 10:42:15 [scrapy.downloadermiddlewares.retry] DEBUG: Retrying <GET https://proxy.scrapeops.io/v1/?api_key=&url=https%3A%2F%2Fwww.fanfiction.net%2Fs%2F13787638%2F1%2FThe-Game-is-On> (failed 1 times): 429 Unknown Status\n",
      "2024-12-04 10:42:15 [scrapy.core.engine] DEBUG: Crawled (400) <GET https://proxy.scrapeops.io/v1/?api_key=&url=https%3A%2F%2Fproxy.scrapeops.io%2Fv1%2F%3Fapi_key%3D%26url%3Dhttps%253A%2F%2Fwww.fanfiction.net%2Fs%2F13842618%2F2%2Fyou-re-new-aren-t-you> (referer: https://steamdb.info/graph/)\n",
      "2024-12-04 10:42:15 [scrapy.spidermiddlewares.httperror] INFO: Ignoring response <400 https://proxy.scrapeops.io/v1/?api_key=&url=https%3A%2F%2Fproxy.scrapeops.io%2Fv1%2F%3Fapi_key%3D%26url%3Dhttps%253A%2F%2Fwww.fanfiction.net%2Fs%2F13842618%2F2%2Fyou-re-new-aren-t-you>: HTTP status code is not handled or not allowed\n",
      "2024-12-04 10:42:16 [scrapy.core.engine] DEBUG: Crawled (200) <GET https://proxy.scrapeops.io/v1/?api_key=&url=https%3A%2F%2Fwww.fanfiction.net%2Fs%2F13852364%2F1%2FHolmes-Alone-Series-1> (referer: https://steamdb.info/graph/)\n"
     ]
    },
    {
     "name": "stdout",
     "output_type": "stream",
     "text": [
      "\n",
      "https://proxy.scrapeops.io/v1/?api_key=&url=https%3A%2F%2Fwww.fanfiction.net%2Fs%2F13852364%2F1%2FHolmes-Alone-Series-1\n"
     ]
    },
    {
     "name": "stderr",
     "output_type": "stream",
     "text": [
      "2024-12-04 10:42:16 [scrapy.core.engine] DEBUG: Crawled (200) <GET https://proxy.scrapeops.io/v1/?api_key=&url=https%3A%2F%2Fwww.fanfiction.net%2Fs%2F13853254%2F1%2FMantle-of-Greatness> (referer: https://steamdb.info/graph/)\n",
      "2024-12-04 10:42:16 [scrapy.core.engine] DEBUG: Crawled (200) <GET https://proxy.scrapeops.io/v1/?api_key=&url=https%3A%2F%2Fwww.fanfiction.net%2Fs%2F13840664%2F1%2FA-Relaxing-Mother-s-Day> (referer: https://steamdb.info/graph/)\n"
     ]
    },
    {
     "name": "stdout",
     "output_type": "stream",
     "text": [
      "\n",
      "https://proxy.scrapeops.io/v1/?api_key=&url=https%3A%2F%2Fwww.fanfiction.net%2Fs%2F13853254%2F1%2FMantle-of-Greatness\n",
      "\n",
      "https://proxy.scrapeops.io/v1/?api_key=&url=https%3A%2F%2Fwww.fanfiction.net%2Fs%2F13840664%2F1%2FA-Relaxing-Mother-s-Day\n"
     ]
    },
    {
     "name": "stderr",
     "output_type": "stream",
     "text": [
      "2024-12-04 10:42:17 [scrapy.downloadermiddlewares.retry] DEBUG: Retrying <GET https://proxy.scrapeops.io/v1/?api_key=&url=https%3A%2F%2Fwww.fanfiction.net%2Fs%2F13849402%2F1%2FLe-sens-du-d%25C3%25A9tail> (failed 1 times): 429 Unknown Status\n",
      "2024-12-04 10:42:17 [scrapy.core.engine] DEBUG: Crawled (400) <GET https://proxy.scrapeops.io/v1/?api_key=&url=https%3A%2F%2Fproxy.scrapeops.io%2Fv1%2F%3Fapi_key%3D%26url%3Dhttps%253A%2F%2Fwww.fanfiction.net%2Fs%2F13843225%2F2%2FJohn-s-Break> (referer: https://steamdb.info/graph/)\n",
      "2024-12-04 10:42:17 [scrapy.spidermiddlewares.httperror] INFO: Ignoring response <400 https://proxy.scrapeops.io/v1/?api_key=&url=https%3A%2F%2Fproxy.scrapeops.io%2Fv1%2F%3Fapi_key%3D%26url%3Dhttps%253A%2F%2Fwww.fanfiction.net%2Fs%2F13843225%2F2%2FJohn-s-Break>: HTTP status code is not handled or not allowed\n",
      "2024-12-04 10:42:18 [scrapy.core.engine] DEBUG: Crawled (200) <GET https://proxy.scrapeops.io/v1/?api_key=&url=https%3A%2F%2Fwww.fanfiction.net%2Fs%2F13854884%2F1%2FCome-Back> (referer: https://steamdb.info/graph/)\n",
      "2024-12-04 10:42:18 [scrapy.core.engine] DEBUG: Crawled (200) <GET https://proxy.scrapeops.io/v1/?api_key=&url=https%3A%2F%2Fwww.fanfiction.net%2Fs%2F6885293%2F1%2FAll-that-matters-to-me-is-the-work> (referer: https://steamdb.info/graph/)\n",
      "2024-12-04 10:42:18 [scrapy.core.engine] DEBUG: Crawled (400) <GET https://proxy.scrapeops.io/v1/?api_key=&url=https%3A%2F%2Fproxy.scrapeops.io%2Fv1%2F%3Fapi_key%3D%26url%3Dhttps%253A%2F%2Fwww.fanfiction.net%2Fs%2F13827472%2F2%2FMovie-Night> (referer: https://steamdb.info/graph/)\n",
      "2024-12-04 10:42:18 [scrapy.core.engine] DEBUG: Crawled (200) <GET https://proxy.scrapeops.io/v1/?api_key=&url=https%3A%2F%2Fwww.fanfiction.net%2Fs%2F13854834%2F1%2FSempre-Assim> (referer: https://steamdb.info/graph/)\n",
      "2024-12-04 10:42:18 [scrapy.core.engine] DEBUG: Crawled (400) <GET https://proxy.scrapeops.io/v1/?api_key=&url=https%3A%2F%2Fproxy.scrapeops.io%2Fv1%2F%3Fapi_key%3D%26url%3Dhttps%253A%2F%2Fwww.fanfiction.net%2Fs%2F13842115%2F2%2FWait-thats-my-idiot> (referer: https://steamdb.info/graph/)\n",
      "2024-12-04 10:42:18 [scrapy.spidermiddlewares.httperror] INFO: Ignoring response <400 https://proxy.scrapeops.io/v1/?api_key=&url=https%3A%2F%2Fproxy.scrapeops.io%2Fv1%2F%3Fapi_key%3D%26url%3Dhttps%253A%2F%2Fwww.fanfiction.net%2Fs%2F13827472%2F2%2FMovie-Night>: HTTP status code is not handled or not allowed\n",
      "2024-12-04 10:42:18 [scrapy.core.engine] DEBUG: Crawled (400) <GET https://proxy.scrapeops.io/v1/?api_key=&url=https%3A%2F%2Fproxy.scrapeops.io%2Fv1%2F%3Fapi_key%3D%26url%3Dhttps%253A%2F%2Fwww.fanfiction.net%2Fs%2F13852364%2F2%2FHolmes-Alone-Series-1> (referer: https://steamdb.info/graph/)\n",
      "2024-12-04 10:42:18 [scrapy.spidermiddlewares.httperror] INFO: Ignoring response <400 https://proxy.scrapeops.io/v1/?api_key=&url=https%3A%2F%2Fproxy.scrapeops.io%2Fv1%2F%3Fapi_key%3D%26url%3Dhttps%253A%2F%2Fwww.fanfiction.net%2Fs%2F13842115%2F2%2FWait-thats-my-idiot>: HTTP status code is not handled or not allowed\n"
     ]
    },
    {
     "name": "stdout",
     "output_type": "stream",
     "text": [
      "\n",
      "https://proxy.scrapeops.io/v1/?api_key=&url=https%3A%2F%2Fwww.fanfiction.net%2Fs%2F13854884%2F1%2FCome-Back\n",
      "\n",
      "\n"
     ]
    },
    {
     "name": "stderr",
     "output_type": "stream",
     "text": [
      "2024-12-04 10:42:18 [scrapy.spidermiddlewares.httperror] INFO: Ignoring response <400 https://proxy.scrapeops.io/v1/?api_key=&url=https%3A%2F%2Fproxy.scrapeops.io%2Fv1%2F%3Fapi_key%3D%26url%3Dhttps%253A%2F%2Fwww.fanfiction.net%2Fs%2F13852364%2F2%2FHolmes-Alone-Series-1>: HTTP status code is not handled or not allowed\n",
      "2024-12-04 10:42:20 [scrapy.core.engine] DEBUG: Crawled (200) <GET https://proxy.scrapeops.io/v1/?api_key=&url=https%3A%2F%2Fwww.fanfiction.net%2Fs%2F13165954%2F1%2FThe-Great-Girl> (referer: https://steamdb.info/graph/)\n",
      "2024-12-04 10:42:20 [scrapy.downloadermiddlewares.retry] DEBUG: Retrying <GET https://proxy.scrapeops.io/v1/?api_key=&url=https%3A%2F%2Fwww.fanfiction.net%2Fs%2F12926730%2F1%2FHate-Me-Love-Me-Just-Don-t-Leave-Me> (failed 1 times): 429 Unknown Status\n",
      "2024-12-04 10:42:20 [scrapy.core.engine] DEBUG: Crawled (200) <GET https://proxy.scrapeops.io/v1/?api_key=&url=https%3A%2F%2Fwww.fanfiction.net%2Fs%2F13858925%2F1%2FOut-of-Town> (referer: https://steamdb.info/graph/)\n",
      "2024-12-04 10:42:20 [scrapy.core.engine] DEBUG: Crawled (400) <GET https://proxy.scrapeops.io/v1/?api_key=&url=https%3A%2F%2Fproxy.scrapeops.io%2Fv1%2F%3Fapi_key%3D%26url%3Dhttps%253A%2F%2Fwww.fanfiction.net%2Fs%2F13853254%2F2%2FMantle-of-Greatness> (referer: https://steamdb.info/graph/)\n",
      "2024-12-04 10:42:20 [scrapy.core.engine] DEBUG: Crawled (400) <GET https://proxy.scrapeops.io/v1/?api_key=&url=https%3A%2F%2Fproxy.scrapeops.io%2Fv1%2F%3Fapi_key%3D%26url%3Dhttps%253A%2F%2Fwww.fanfiction.net%2Fs%2F13840664%2F2%2FA-Relaxing-Mother-s-Day> (referer: https://steamdb.info/graph/)\n",
      "2024-12-04 10:42:20 [scrapy.core.engine] DEBUG: Crawled (200) <GET https://proxy.scrapeops.io/v1/?api_key=&url=https%3A%2F%2Fwww.fanfiction.net%2Fs%2F13858641%2F1%2FExposition-An-Ex-File-Special> (referer: https://steamdb.info/graph/)\n",
      "2024-12-04 10:42:20 [scrapy.spidermiddlewares.httperror] INFO: Ignoring response <400 https://proxy.scrapeops.io/v1/?api_key=&url=https%3A%2F%2Fproxy.scrapeops.io%2Fv1%2F%3Fapi_key%3D%26url%3Dhttps%253A%2F%2Fwww.fanfiction.net%2Fs%2F13853254%2F2%2FMantle-of-Greatness>: HTTP status code is not handled or not allowed\n",
      "2024-12-04 10:42:20 [scrapy.spidermiddlewares.httperror] INFO: Ignoring response <400 https://proxy.scrapeops.io/v1/?api_key=&url=https%3A%2F%2Fproxy.scrapeops.io%2Fv1%2F%3Fapi_key%3D%26url%3Dhttps%253A%2F%2Fwww.fanfiction.net%2Fs%2F13840664%2F2%2FA-Relaxing-Mother-s-Day>: HTTP status code is not handled or not allowed\n",
      "2024-12-04 10:42:20 [scrapy.core.engine] DEBUG: Crawled (400) <GET https://proxy.scrapeops.io/v1/?api_key=&url=https%3A%2F%2Fproxy.scrapeops.io%2Fv1%2F%3Fapi_key%3D%26url%3Dhttps%253A%2F%2Fwww.fanfiction.net%2Fs%2F13854884%2F2%2FCome-Back> (referer: https://steamdb.info/graph/)\n"
     ]
    },
    {
     "name": "stdout",
     "output_type": "stream",
     "text": [
      "\n",
      "https://proxy.scrapeops.io/v1/?api_key=&url=https%3A%2F%2Fwww.fanfiction.net%2Fs%2F13165954%2F1%2FThe-Great-Girl\n",
      "\n",
      "https://proxy.scrapeops.io/v1/?api_key=&url=https%3A%2F%2Fwww.fanfiction.net%2Fs%2F13858925%2F1%2FOut-of-Town\n",
      "\n",
      "https://proxy.scrapeops.io/v1/?api_key=&url=https%3A%2F%2Fwww.fanfiction.net%2Fs%2F13858641%2F1%2FExposition-An-Ex-File-Special\n"
     ]
    },
    {
     "name": "stderr",
     "output_type": "stream",
     "text": [
      "2024-12-04 10:42:21 [scrapy.spidermiddlewares.httperror] INFO: Ignoring response <400 https://proxy.scrapeops.io/v1/?api_key=&url=https%3A%2F%2Fproxy.scrapeops.io%2Fv1%2F%3Fapi_key%3D%26url%3Dhttps%253A%2F%2Fwww.fanfiction.net%2Fs%2F13854884%2F2%2FCome-Back>: HTTP status code is not handled or not allowed\n",
      "2024-12-04 10:42:22 [scrapy.core.engine] DEBUG: Crawled (200) <GET https://proxy.scrapeops.io/v1/?api_key=&url=https%3A%2F%2Fwww.fanfiction.net%2Fs%2F13856274%2F1%2FPeople-Will-Talk-Johnlock-Mystrade> (referer: https://steamdb.info/graph/)\n",
      "2024-12-04 10:42:22 [scrapy.core.engine] DEBUG: Crawled (200) <GET https://proxy.scrapeops.io/v1/?api_key=&url=https%3A%2F%2Fwww.fanfiction.net%2Fs%2F13858939%2F1%2FFreak> (referer: https://steamdb.info/graph/)\n",
      "2024-12-04 10:42:22 [scrapy.core.engine] DEBUG: Crawled (200) <GET https://proxy.scrapeops.io/v1/?api_key=&url=https%3A%2F%2Fwww.fanfiction.net%2Fs%2F13315841%2F1%2FSherlock-s-Secret> (referer: https://steamdb.info/graph/)\n",
      "2024-12-04 10:42:22 [scrapy.core.engine] DEBUG: Crawled (200) <GET https://proxy.scrapeops.io/v1/?api_key=&url=https%3A%2F%2Fwww.fanfiction.net%2Fs%2F13826718%2F1%2FNuevos-comienzos> (referer: https://steamdb.info/graph/)\n",
      "2024-12-04 10:42:22 [scrapy.downloadermiddlewares.retry] DEBUG: Retrying <GET https://proxy.scrapeops.io/v1/?api_key=&url=https%3A%2F%2Fwww.fanfiction.net%2Fs%2F13626734%2F1%2FContexto> (failed 1 times): 429 Unknown Status\n"
     ]
    },
    {
     "name": "stdout",
     "output_type": "stream",
     "text": [
      "\n",
      "https://proxy.scrapeops.io/v1/?api_key=&url=https%3A%2F%2Fwww.fanfiction.net%2Fs%2F13856274%2F1%2FPeople-Will-Talk-Johnlock-Mystrade\n",
      "\n",
      "https://proxy.scrapeops.io/v1/?api_key=&url=https%3A%2F%2Fwww.fanfiction.net%2Fs%2F13858939%2F1%2FFreak\n",
      "\n",
      "https://proxy.scrapeops.io/v1/?api_key=&url=https%3A%2F%2Fwww.fanfiction.net%2Fs%2F13315841%2F1%2FSherlock-s-Secret\n",
      "\n"
     ]
    },
    {
     "name": "stderr",
     "output_type": "stream",
     "text": [
      "2024-12-04 10:42:24 [scrapy.core.engine] DEBUG: Crawled (200) <GET https://proxy.scrapeops.io/v1/?api_key=&url=https%3A%2F%2Fwww.fanfiction.net%2Fs%2F13868055%2F1%2FBody-Language> (referer: https://steamdb.info/graph/)\n",
      "2024-12-04 10:42:24 [scrapy.core.engine] DEBUG: Crawled (200) <GET https://proxy.scrapeops.io/v1/?api_key=&url=https%3A%2F%2Fwww.fanfiction.net%2Fs%2F13859483%2F1%2FModern-Sherlock-Holmes-Uni> (referer: https://steamdb.info/graph/)\n",
      "2024-12-04 10:42:24 [scrapy.core.engine] DEBUG: Crawled (200) <GET https://proxy.scrapeops.io/v1/?api_key=&url=https%3A%2F%2Fwww.fanfiction.net%2Fs%2F13868568%2F1%2FInterim> (referer: https://steamdb.info/graph/)\n",
      "2024-12-04 10:42:24 [scrapy.core.engine] DEBUG: Crawled (400) <GET https://proxy.scrapeops.io/v1/?api_key=&url=https%3A%2F%2Fproxy.scrapeops.io%2Fv1%2F%3Fapi_key%3D%26url%3Dhttps%253A%2F%2Fwww.fanfiction.net%2Fs%2F13858925%2F2%2FOut-of-Town> (referer: https://steamdb.info/graph/)\n",
      "2024-12-04 10:42:24 [scrapy.core.engine] DEBUG: Crawled (400) <GET https://proxy.scrapeops.io/v1/?api_key=&url=https%3A%2F%2Fproxy.scrapeops.io%2Fv1%2F%3Fapi_key%3D%26url%3Dhttps%253A%2F%2Fwww.fanfiction.net%2Fs%2F13858641%2F2%2FExposition-An-Ex-File-Special> (referer: https://steamdb.info/graph/)\n",
      "2024-12-04 10:42:24 [scrapy.core.engine] DEBUG: Crawled (400) <GET https://proxy.scrapeops.io/v1/?api_key=&url=https%3A%2F%2Fproxy.scrapeops.io%2Fv1%2F%3Fapi_key%3D%26url%3Dhttps%253A%2F%2Fwww.fanfiction.net%2Fs%2F13165954%2F2%2FThe-Great-Girl> (referer: https://steamdb.info/graph/)\n",
      "2024-12-04 10:42:24 [scrapy.spidermiddlewares.httperror] INFO: Ignoring response <400 https://proxy.scrapeops.io/v1/?api_key=&url=https%3A%2F%2Fproxy.scrapeops.io%2Fv1%2F%3Fapi_key%3D%26url%3Dhttps%253A%2F%2Fwww.fanfiction.net%2Fs%2F13858925%2F2%2FOut-of-Town>: HTTP status code is not handled or not allowed\n"
     ]
    },
    {
     "name": "stdout",
     "output_type": "stream",
     "text": [
      "\n",
      "https://proxy.scrapeops.io/v1/?api_key=&url=https%3A%2F%2Fwww.fanfiction.net%2Fs%2F13868055%2F1%2FBody-Language\n",
      "\n",
      "https://proxy.scrapeops.io/v1/?api_key=&url=https%3A%2F%2Fwww.fanfiction.net%2Fs%2F13859483%2F1%2FModern-Sherlock-Holmes-Uni\n",
      "\n",
      "https://proxy.scrapeops.io/v1/?api_key=&url=https%3A%2F%2Fwww.fanfiction.net%2Fs%2F13868568%2F1%2FInterim\n"
     ]
    },
    {
     "name": "stderr",
     "output_type": "stream",
     "text": [
      "2024-12-04 10:42:24 [scrapy.spidermiddlewares.httperror] INFO: Ignoring response <400 https://proxy.scrapeops.io/v1/?api_key=&url=https%3A%2F%2Fproxy.scrapeops.io%2Fv1%2F%3Fapi_key%3D%26url%3Dhttps%253A%2F%2Fwww.fanfiction.net%2Fs%2F13858641%2F2%2FExposition-An-Ex-File-Special>: HTTP status code is not handled or not allowed\n",
      "2024-12-04 10:42:24 [scrapy.spidermiddlewares.httperror] INFO: Ignoring response <400 https://proxy.scrapeops.io/v1/?api_key=&url=https%3A%2F%2Fproxy.scrapeops.io%2Fv1%2F%3Fapi_key%3D%26url%3Dhttps%253A%2F%2Fwww.fanfiction.net%2Fs%2F13165954%2F2%2FThe-Great-Girl>: HTTP status code is not handled or not allowed\n",
      "2024-12-04 10:42:26 [scrapy.downloadermiddlewares.retry] DEBUG: Retrying <GET https://proxy.scrapeops.io/v1/?api_key=&url=https%3A%2F%2Fwww.fanfiction.net%2Fs%2F13867157%2F1%2FDie-For-You> (failed 1 times): 429 Unknown Status\n",
      "2024-12-04 10:42:26 [scrapy.core.engine] DEBUG: Crawled (200) <GET https://proxy.scrapeops.io/v1/?api_key=&url=https%3A%2F%2Fwww.fanfiction.net%2Fs%2F13871229%2F1%2FT-es-plus-l%25C3%25A0> (referer: https://steamdb.info/graph/)\n",
      "2024-12-04 10:42:26 [scrapy.core.engine] DEBUG: Crawled (400) <GET https://proxy.scrapeops.io/v1/?api_key=&url=https%3A%2F%2Fproxy.scrapeops.io%2Fv1%2F%3Fapi_key%3D%26url%3Dhttps%253A%2F%2Fwww.fanfiction.net%2Fs%2F13315841%2F2%2FSherlock-s-Secret> (referer: https://steamdb.info/graph/)\n",
      "2024-12-04 10:42:26 [scrapy.core.engine] DEBUG: Crawled (400) <GET https://proxy.scrapeops.io/v1/?api_key=&url=https%3A%2F%2Fproxy.scrapeops.io%2Fv1%2F%3Fapi_key%3D%26url%3Dhttps%253A%2F%2Fwww.fanfiction.net%2Fs%2F13858939%2F2%2FFreak> (referer: https://steamdb.info/graph/)\n",
      "2024-12-04 10:42:26 [scrapy.spidermiddlewares.httperror] INFO: Ignoring response <400 https://proxy.scrapeops.io/v1/?api_key=&url=https%3A%2F%2Fproxy.scrapeops.io%2Fv1%2F%3Fapi_key%3D%26url%3Dhttps%253A%2F%2Fwww.fanfiction.net%2Fs%2F13315841%2F2%2FSherlock-s-Secret>: HTTP status code is not handled or not allowed\n",
      "2024-12-04 10:42:26 [scrapy.core.engine] DEBUG: Crawled (200) <GET https://proxy.scrapeops.io/v1/?api_key=&url=https%3A%2F%2Fwww.fanfiction.net%2Fs%2F13873554%2F1%2FAlways-like-that> (referer: https://steamdb.info/graph/)\n",
      "2024-12-04 10:42:26 [scrapy.core.engine] DEBUG: Crawled (400) <GET https://proxy.scrapeops.io/v1/?api_key=&url=https%3A%2F%2Fproxy.scrapeops.io%2Fv1%2F%3Fapi_key%3D%26url%3Dhttps%253A%2F%2Fwww.fanfiction.net%2Fs%2F13856274%2F2%2FPeople-Will-Talk-Johnlock-Mystrade> (referer: https://steamdb.info/graph/)\n",
      "2024-12-04 10:42:26 [scrapy.spidermiddlewares.httperror] INFO: Ignoring response <400 https://proxy.scrapeops.io/v1/?api_key=&url=https%3A%2F%2Fproxy.scrapeops.io%2Fv1%2F%3Fapi_key%3D%26url%3Dhttps%253A%2F%2Fwww.fanfiction.net%2Fs%2F13858939%2F2%2FFreak>: HTTP status code is not handled or not allowed\n"
     ]
    },
    {
     "name": "stdout",
     "output_type": "stream",
     "text": [
      "\n"
     ]
    },
    {
     "name": "stderr",
     "output_type": "stream",
     "text": [
      "2024-12-04 10:42:26 [scrapy.core.engine] DEBUG: Crawled (400) <GET https://proxy.scrapeops.io/v1/?api_key=&url=https%3A%2F%2Fproxy.scrapeops.io%2Fv1%2F%3Fapi_key%3D%26url%3Dhttps%253A%2F%2Fwww.fanfiction.net%2Fs%2F13868055%2F2%2FBody-Language> (referer: https://steamdb.info/graph/)\n",
      "2024-12-04 10:42:26 [scrapy.spidermiddlewares.httperror] INFO: Ignoring response <400 https://proxy.scrapeops.io/v1/?api_key=&url=https%3A%2F%2Fproxy.scrapeops.io%2Fv1%2F%3Fapi_key%3D%26url%3Dhttps%253A%2F%2Fwww.fanfiction.net%2Fs%2F13856274%2F2%2FPeople-Will-Talk-Johnlock-Mystrade>: HTTP status code is not handled or not allowed\n",
      "2024-12-04 10:42:26 [scrapy.core.engine] DEBUG: Crawled (400) <GET https://proxy.scrapeops.io/v1/?api_key=&url=https%3A%2F%2Fproxy.scrapeops.io%2Fv1%2F%3Fapi_key%3D%26url%3Dhttps%253A%2F%2Fwww.fanfiction.net%2Fs%2F13859483%2F2%2FModern-Sherlock-Holmes-Uni> (referer: https://steamdb.info/graph/)\n",
      "2024-12-04 10:42:26 [scrapy.spidermiddlewares.httperror] INFO: Ignoring response <400 https://proxy.scrapeops.io/v1/?api_key=&url=https%3A%2F%2Fproxy.scrapeops.io%2Fv1%2F%3Fapi_key%3D%26url%3Dhttps%253A%2F%2Fwww.fanfiction.net%2Fs%2F13868055%2F2%2FBody-Language>: HTTP status code is not handled or not allowed\n",
      "2024-12-04 10:42:26 [scrapy.spidermiddlewares.httperror] INFO: Ignoring response <400 https://proxy.scrapeops.io/v1/?api_key=&url=https%3A%2F%2Fproxy.scrapeops.io%2Fv1%2F%3Fapi_key%3D%26url%3Dhttps%253A%2F%2Fwww.fanfiction.net%2Fs%2F13859483%2F2%2FModern-Sherlock-Holmes-Uni>: HTTP status code is not handled or not allowed\n",
      "2024-12-04 10:42:26 [scrapy.core.engine] DEBUG: Crawled (400) <GET https://proxy.scrapeops.io/v1/?api_key=&url=https%3A%2F%2Fproxy.scrapeops.io%2Fv1%2F%3Fapi_key%3D%26url%3Dhttps%253A%2F%2Fwww.fanfiction.net%2Fs%2F13868568%2F2%2FInterim> (referer: https://steamdb.info/graph/)\n"
     ]
    },
    {
     "name": "stdout",
     "output_type": "stream",
     "text": [
      "\n",
      "https://proxy.scrapeops.io/v1/?api_key=&url=https%3A%2F%2Fwww.fanfiction.net%2Fs%2F13873554%2F1%2FAlways-like-that\n"
     ]
    },
    {
     "name": "stderr",
     "output_type": "stream",
     "text": [
      "2024-12-04 10:42:26 [scrapy.spidermiddlewares.httperror] INFO: Ignoring response <400 https://proxy.scrapeops.io/v1/?api_key=&url=https%3A%2F%2Fproxy.scrapeops.io%2Fv1%2F%3Fapi_key%3D%26url%3Dhttps%253A%2F%2Fwww.fanfiction.net%2Fs%2F13868568%2F2%2FInterim>: HTTP status code is not handled or not allowed\n",
      "2024-12-04 10:42:27 [scrapy.downloadermiddlewares.retry] DEBUG: Retrying <GET https://proxy.scrapeops.io/v1/?api_key=&url=https%3A%2F%2Fwww.fanfiction.net%2Fs%2F13869996%2F1%2FThe-Abandoned-Wife-Allison-s-Story> (failed 1 times): 429 Unknown Status\n",
      "2024-12-04 10:42:28 [scrapy.core.engine] DEBUG: Crawled (200) <GET https://proxy.scrapeops.io/v1/?api_key=&url=https%3A%2F%2Fwww.fanfiction.net%2Fs%2F13781973%2F1%2FThe-Incandescent-Imposter-s-Emotional-Context> (referer: https://steamdb.info/graph/)\n",
      "2024-12-04 10:42:28 [scrapy.core.engine] DEBUG: Crawled (200) <GET https://proxy.scrapeops.io/v1/?api_key=&url=https%3A%2F%2Fwww.fanfiction.net%2Fs%2F13542941%2F1%2F%25D0%259C%25D0%25B5%25D0%25B6%25D0%25B4%25D1%2583-%25D0%25BF%25D1%2580%25D0%25BE%25D1%2588%25D0%25BB%25D1%258B%25D0%25BC-%25D0%25B8-%25D0%25B1%25D1%2583%25D0%25B4%25D1%2583%25D1%2589%25D0%25B8%25D0%25BC> (referer: https://steamdb.info/graph/)\n"
     ]
    },
    {
     "name": "stdout",
     "output_type": "stream",
     "text": [
      "\n",
      "https://proxy.scrapeops.io/v1/?api_key=&url=https%3A%2F%2Fwww.fanfiction.net%2Fs%2F13781973%2F1%2FThe-Incandescent-Imposter-s-Emotional-Context\n",
      "\n"
     ]
    },
    {
     "name": "stderr",
     "output_type": "stream",
     "text": [
      "2024-12-04 10:42:29 [scrapy.core.engine] DEBUG: Crawled (200) <GET https://proxy.scrapeops.io/v1/?api_key=&url=https%3A%2F%2Fwww.fanfiction.net%2Fs%2F13876643%2F1%2FReaffirmed> (referer: https://steamdb.info/graph/)\n"
     ]
    },
    {
     "name": "stdout",
     "output_type": "stream",
     "text": [
      "\n",
      "https://proxy.scrapeops.io/v1/?api_key=&url=https%3A%2F%2Fwww.fanfiction.net%2Fs%2F13876643%2F1%2FReaffirmed\n"
     ]
    },
    {
     "name": "stderr",
     "output_type": "stream",
     "text": [
      "2024-12-04 10:42:31 [scrapy.core.engine] DEBUG: Crawled (200) <GET https://proxy.scrapeops.io/v1/?api_key=&url=https%3A%2F%2Fwww.fanfiction.net%2Fs%2F13877183%2F1%2FTo-Be-Young-Again> (referer: https://steamdb.info/graph/)\n",
      "2024-12-04 10:42:31 [scrapy.core.engine] DEBUG: Crawled (200) <GET https://proxy.scrapeops.io/v1/?api_key=&url=https%3A%2F%2Fwww.fanfiction.net%2Fs%2F13881890%2F1%2FAn-eye-for-detail> (referer: https://steamdb.info/graph/)\n"
     ]
    },
    {
     "name": "stdout",
     "output_type": "stream",
     "text": [
      "\n",
      "https://proxy.scrapeops.io/v1/?api_key=&url=https%3A%2F%2Fwww.fanfiction.net%2Fs%2F13877183%2F1%2FTo-Be-Young-Again\n",
      "\n",
      "https://proxy.scrapeops.io/v1/?api_key=&url=https%3A%2F%2Fwww.fanfiction.net%2Fs%2F13881890%2F1%2FAn-eye-for-detail\n"
     ]
    },
    {
     "name": "stderr",
     "output_type": "stream",
     "text": [
      "2024-12-04 10:42:32 [scrapy.downloadermiddlewares.retry] DEBUG: Retrying <GET https://proxy.scrapeops.io/v1/?api_key=&url=https%3A%2F%2Fwww.fanfiction.net%2Fs%2F13876622%2F1%2FGames> (failed 1 times): 429 Unknown Status\n",
      "2024-12-04 10:42:32 [scrapy.core.engine] DEBUG: Crawled (400) <GET https://proxy.scrapeops.io/v1/?api_key=&url=https%3A%2F%2Fproxy.scrapeops.io%2Fv1%2F%3Fapi_key%3D%26url%3Dhttps%253A%2F%2Fwww.fanfiction.net%2Fs%2F13873554%2F2%2FAlways-like-that> (referer: https://steamdb.info/graph/)\n",
      "2024-12-04 10:42:32 [scrapy.spidermiddlewares.httperror] INFO: Ignoring response <400 https://proxy.scrapeops.io/v1/?api_key=&url=https%3A%2F%2Fproxy.scrapeops.io%2Fv1%2F%3Fapi_key%3D%26url%3Dhttps%253A%2F%2Fwww.fanfiction.net%2Fs%2F13873554%2F2%2FAlways-like-that>: HTTP status code is not handled or not allowed\n",
      "2024-12-04 10:42:32 [scrapy.core.engine] DEBUG: Crawled (200) <GET https://proxy.scrapeops.io/v1/?api_key=&url=https%3A%2F%2Fwww.fanfiction.net%2Fs%2F13867157%2F1%2FDie-For-You> (referer: https://steamdb.info/graph/)\n"
     ]
    },
    {
     "name": "stdout",
     "output_type": "stream",
     "text": [
      "\n",
      "https://proxy.scrapeops.io/v1/?api_key=&url=https%3A%2F%2Fwww.fanfiction.net%2Fs%2F13867157%2F1%2FDie-For-You\n"
     ]
    },
    {
     "name": "stderr",
     "output_type": "stream",
     "text": [
      "2024-12-04 10:42:33 [scrapy.downloadermiddlewares.retry] DEBUG: Retrying <GET https://proxy.scrapeops.io/v1/?api_key=&url=https%3A%2F%2Fwww.fanfiction.net%2Fs%2F13877390%2F1%2FBy-The-Water-Fountain> (failed 1 times): 429 Unknown Status\n",
      "2024-12-04 10:42:33 [scrapy.core.engine] DEBUG: Crawled (200) <GET https://proxy.scrapeops.io/v1/?api_key=&url=https%3A%2F%2Fwww.fanfiction.net%2Fs%2F13626734%2F1%2FContexto> (referer: https://steamdb.info/graph/)\n",
      "2024-12-04 10:42:33 [scrapy.core.engine] DEBUG: Crawled (200) <GET https://proxy.scrapeops.io/v1/?api_key=&url=https%3A%2F%2Fwww.fanfiction.net%2Fs%2F13852650%2F1%2FMine> (referer: https://steamdb.info/graph/)\n",
      "2024-12-04 10:42:33 [scrapy.core.engine] DEBUG: Crawled (400) <GET https://proxy.scrapeops.io/v1/?api_key=&url=https%3A%2F%2Fproxy.scrapeops.io%2Fv1%2F%3Fapi_key%3D%26url%3Dhttps%253A%2F%2Fwww.fanfiction.net%2Fs%2F13781973%2F2%2FThe-Incandescent-Imposter-s-Emotional-Context> (referer: https://steamdb.info/graph/)\n",
      "2024-12-04 10:42:33 [scrapy.core.engine] DEBUG: Crawled (400) <GET https://proxy.scrapeops.io/v1/?api_key=&url=https%3A%2F%2Fproxy.scrapeops.io%2Fv1%2F%3Fapi_key%3D%26url%3Dhttps%253A%2F%2Fwww.fanfiction.net%2Fs%2F13876643%2F2%2FReaffirmed> (referer: https://steamdb.info/graph/)\n",
      "2024-12-04 10:42:33 [scrapy.spidermiddlewares.httperror] INFO: Ignoring response <400 https://proxy.scrapeops.io/v1/?api_key=&url=https%3A%2F%2Fproxy.scrapeops.io%2Fv1%2F%3Fapi_key%3D%26url%3Dhttps%253A%2F%2Fwww.fanfiction.net%2Fs%2F13781973%2F2%2FThe-Incandescent-Imposter-s-Emotional-Context>: HTTP status code is not handled or not allowed\n",
      "2024-12-04 10:42:33 [scrapy.core.engine] DEBUG: Crawled (400) <GET https://proxy.scrapeops.io/v1/?api_key=&url=https%3A%2F%2Fproxy.scrapeops.io%2Fv1%2F%3Fapi_key%3D%26url%3Dhttps%253A%2F%2Fwww.fanfiction.net%2Fs%2F13877183%2F2%2FTo-Be-Young-Again> (referer: https://steamdb.info/graph/)\n",
      "2024-12-04 10:42:33 [scrapy.spidermiddlewares.httperror] INFO: Ignoring response <400 https://proxy.scrapeops.io/v1/?api_key=&url=https%3A%2F%2Fproxy.scrapeops.io%2Fv1%2F%3Fapi_key%3D%26url%3Dhttps%253A%2F%2Fwww.fanfiction.net%2Fs%2F13876643%2F2%2FReaffirmed>: HTTP status code is not handled or not allowed\n"
     ]
    },
    {
     "name": "stdout",
     "output_type": "stream",
     "text": [
      "\n",
      "\n",
      "https://proxy.scrapeops.io/v1/?api_key=&url=https%3A%2F%2Fwww.fanfiction.net%2Fs%2F13852650%2F1%2FMine\n"
     ]
    },
    {
     "name": "stderr",
     "output_type": "stream",
     "text": [
      "2024-12-04 10:42:33 [scrapy.core.engine] DEBUG: Crawled (400) <GET https://proxy.scrapeops.io/v1/?api_key=&url=https%3A%2F%2Fproxy.scrapeops.io%2Fv1%2F%3Fapi_key%3D%26url%3Dhttps%253A%2F%2Fwww.fanfiction.net%2Fs%2F13881890%2F2%2FAn-eye-for-detail> (referer: https://steamdb.info/graph/)\n",
      "2024-12-04 10:42:33 [scrapy.spidermiddlewares.httperror] INFO: Ignoring response <400 https://proxy.scrapeops.io/v1/?api_key=&url=https%3A%2F%2Fproxy.scrapeops.io%2Fv1%2F%3Fapi_key%3D%26url%3Dhttps%253A%2F%2Fwww.fanfiction.net%2Fs%2F13877183%2F2%2FTo-Be-Young-Again>: HTTP status code is not handled or not allowed\n",
      "2024-12-04 10:42:34 [scrapy.spidermiddlewares.httperror] INFO: Ignoring response <400 https://proxy.scrapeops.io/v1/?api_key=&url=https%3A%2F%2Fproxy.scrapeops.io%2Fv1%2F%3Fapi_key%3D%26url%3Dhttps%253A%2F%2Fwww.fanfiction.net%2Fs%2F13881890%2F2%2FAn-eye-for-detail>: HTTP status code is not handled or not allowed\n",
      "2024-12-04 10:42:35 [scrapy.core.engine] DEBUG: Crawled (200) <GET https://proxy.scrapeops.io/v1/?api_key=&url=https%3A%2F%2Fwww.fanfiction.net%2Fs%2F13849402%2F1%2FLe-sens-du-d%25C3%25A9tail> (referer: https://steamdb.info/graph/)\n",
      "2024-12-04 10:42:35 [scrapy.core.engine] DEBUG: Crawled (200) <GET https://proxy.scrapeops.io/v1/?api_key=&url=https%3A%2F%2Fwww.fanfiction.net%2Fs%2F13787638%2F1%2FThe-Game-is-On> (referer: https://steamdb.info/graph/)\n",
      "2024-12-04 10:42:36 [scrapy.core.engine] DEBUG: Crawled (400) <GET https://proxy.scrapeops.io/v1/?api_key=&url=https%3A%2F%2Fproxy.scrapeops.io%2Fv1%2F%3Fapi_key%3D%26url%3Dhttps%253A%2F%2Fwww.fanfiction.net%2Fs%2F13867157%2F2%2FDie-For-You> (referer: https://steamdb.info/graph/)\n",
      "2024-12-04 10:42:36 [scrapy.spidermiddlewares.httperror] INFO: Ignoring response <400 https://proxy.scrapeops.io/v1/?api_key=&url=https%3A%2F%2Fproxy.scrapeops.io%2Fv1%2F%3Fapi_key%3D%26url%3Dhttps%253A%2F%2Fwww.fanfiction.net%2Fs%2F13867157%2F2%2FDie-For-You>: HTTP status code is not handled or not allowed\n"
     ]
    },
    {
     "name": "stdout",
     "output_type": "stream",
     "text": [
      "\n",
      "\n",
      "https://proxy.scrapeops.io/v1/?api_key=&url=https%3A%2F%2Fwww.fanfiction.net%2Fs%2F13787638%2F1%2FThe-Game-is-On\n"
     ]
    },
    {
     "name": "stderr",
     "output_type": "stream",
     "text": [
      "2024-12-04 10:42:37 [scrapy.downloadermiddlewares.retry] DEBUG: Retrying <GET https://proxy.scrapeops.io/v1/?api_key=&url=https%3A%2F%2Fwww.fanfiction.net%2Fs%2F12926730%2F1%2FHate-Me-Love-Me-Just-Don-t-Leave-Me> (failed 2 times): 429 Unknown Status\n",
      "2024-12-04 10:42:39 [scrapy.core.engine] DEBUG: Crawled (200) <GET https://proxy.scrapeops.io/v1/?api_key=&url=https%3A%2F%2Fwww.fanfiction.net%2Fs%2F13788912%2F1%2FPlease-God-Let-Me-Live> (referer: https://steamdb.info/graph/)\n",
      "2024-12-04 10:42:39 [scrapy.downloadermiddlewares.retry] DEBUG: Retrying <GET https://proxy.scrapeops.io/v1/?api_key=&url=https%3A%2F%2Fwww.fanfiction.net%2Fs%2F13876622%2F1%2FGames> (failed 2 times): 429 Unknown Status\n",
      "2024-12-04 10:42:39 [scrapy.core.engine] DEBUG: Crawled (400) <GET https://proxy.scrapeops.io/v1/?api_key=&url=https%3A%2F%2Fproxy.scrapeops.io%2Fv1%2F%3Fapi_key%3D%26url%3Dhttps%253A%2F%2Fwww.fanfiction.net%2Fs%2F13852650%2F2%2FMine> (referer: https://steamdb.info/graph/)\n",
      "2024-12-04 10:42:39 [scrapy.spidermiddlewares.httperror] INFO: Ignoring response <400 https://proxy.scrapeops.io/v1/?api_key=&url=https%3A%2F%2Fproxy.scrapeops.io%2Fv1%2F%3Fapi_key%3D%26url%3Dhttps%253A%2F%2Fwww.fanfiction.net%2Fs%2F13852650%2F2%2FMine>: HTTP status code is not handled or not allowed\n",
      "2024-12-04 10:42:39 [scrapy.core.engine] DEBUG: Crawled (200) <GET https://proxy.scrapeops.io/v1/?api_key=&url=https%3A%2F%2Fwww.fanfiction.net%2Fs%2F13877390%2F1%2FBy-The-Water-Fountain> (referer: https://steamdb.info/graph/)\n"
     ]
    },
    {
     "name": "stdout",
     "output_type": "stream",
     "text": [
      "\n",
      "https://proxy.scrapeops.io/v1/?api_key=&url=https%3A%2F%2Fwww.fanfiction.net%2Fs%2F13788912%2F1%2FPlease-God-Let-Me-Live\n",
      "\n",
      "https://proxy.scrapeops.io/v1/?api_key=&url=https%3A%2F%2Fwww.fanfiction.net%2Fs%2F13877390%2F1%2FBy-The-Water-Fountain\n"
     ]
    },
    {
     "name": "stderr",
     "output_type": "stream",
     "text": [
      "2024-12-04 10:42:39 [scrapy.core.engine] DEBUG: Crawled (200) <GET https://proxy.scrapeops.io/v1/?api_key=&url=https%3A%2F%2Fwww.fanfiction.net%2Fs%2F12858234%2F1%2FLife-Interrupted-Redux> (referer: https://steamdb.info/graph/)\n"
     ]
    },
    {
     "name": "stdout",
     "output_type": "stream",
     "text": [
      "\n",
      "https://proxy.scrapeops.io/v1/?api_key=&url=https%3A%2F%2Fwww.fanfiction.net%2Fs%2F12858234%2F1%2FLife-Interrupted-Redux\n"
     ]
    },
    {
     "name": "stderr",
     "output_type": "stream",
     "text": [
      "2024-12-04 10:42:40 [scrapy.core.engine] DEBUG: Crawled (200) <GET https://proxy.scrapeops.io/v1/?api_key=&url=https%3A%2F%2Fwww.fanfiction.net%2Fs%2F13834043%2F1%2FThe-New-Recruit> (referer: https://steamdb.info/graph/)\n",
      "2024-12-04 10:42:40 [scrapy.core.engine] DEBUG: Crawled (200) <GET https://proxy.scrapeops.io/v1/?api_key=&url=https%3A%2F%2Fwww.fanfiction.net%2Fs%2F13842534%2F1%2FLockdown> (referer: https://steamdb.info/graph/)\n"
     ]
    },
    {
     "name": "stdout",
     "output_type": "stream",
     "text": [
      "\n",
      "https://proxy.scrapeops.io/v1/?api_key=&url=https%3A%2F%2Fwww.fanfiction.net%2Fs%2F13834043%2F1%2FThe-New-Recruit\n",
      "\n",
      "https://proxy.scrapeops.io/v1/?api_key=&url=https%3A%2F%2Fwww.fanfiction.net%2Fs%2F13842534%2F1%2FLockdown\n"
     ]
    },
    {
     "name": "stderr",
     "output_type": "stream",
     "text": [
      "2024-12-04 10:42:41 [scrapy.core.engine] DEBUG: Crawled (200) <GET https://proxy.scrapeops.io/v1/?api_key=&url=https%3A%2F%2Fwww.fanfiction.net%2Fs%2F13809384%2F1%2F%25C3%25BAnorov%25C3%25BD-johnlock-challenge-od-jedne-sle%25C4%258Dny-na-ao3> (referer: https://steamdb.info/graph/)\n",
      "2024-12-04 10:42:41 [scrapy.core.engine] DEBUG: Crawled (200) <GET https://proxy.scrapeops.io/v1/?api_key=&url=https%3A%2F%2Fwww.fanfiction.net%2Fs%2F13869996%2F1%2FThe-Abandoned-Wife-Allison-s-Story> (referer: https://steamdb.info/graph/)\n",
      "2024-12-04 10:42:41 [scrapy.core.engine] DEBUG: Crawled (400) <GET https://proxy.scrapeops.io/v1/?api_key=&url=https%3A%2F%2Fproxy.scrapeops.io%2Fv1%2F%3Fapi_key%3D%26url%3Dhttps%253A%2F%2Fwww.fanfiction.net%2Fs%2F13787638%2F2%2FThe-Game-is-On> (referer: https://steamdb.info/graph/)\n",
      "2024-12-04 10:42:41 [scrapy.core.engine] DEBUG: Crawled (200) <GET https://proxy.scrapeops.io/v1/?api_key=&url=https%3A%2F%2Fwww.fanfiction.net%2Fs%2F13519659%2F1%2FDisarm-Me> (referer: https://steamdb.info/graph/)\n",
      "2024-12-04 10:42:41 [scrapy.spidermiddlewares.httperror] INFO: Ignoring response <400 https://proxy.scrapeops.io/v1/?api_key=&url=https%3A%2F%2Fproxy.scrapeops.io%2Fv1%2F%3Fapi_key%3D%26url%3Dhttps%253A%2F%2Fwww.fanfiction.net%2Fs%2F13787638%2F2%2FThe-Game-is-On>: HTTP status code is not handled or not allowed\n",
      "2024-12-04 10:42:41 [scrapy.core.engine] DEBUG: Crawled (400) <GET https://proxy.scrapeops.io/v1/?api_key=&url=https%3A%2F%2Fproxy.scrapeops.io%2Fv1%2F%3Fapi_key%3D%26url%3Dhttps%253A%2F%2Fwww.fanfiction.net%2Fs%2F13788912%2F2%2FPlease-God-Let-Me-Live> (referer: https://steamdb.info/graph/)\n"
     ]
    },
    {
     "name": "stdout",
     "output_type": "stream",
     "text": [
      "\n",
      "\n",
      "https://proxy.scrapeops.io/v1/?api_key=&url=https%3A%2F%2Fwww.fanfiction.net%2Fs%2F13869996%2F1%2FThe-Abandoned-Wife-Allison-s-Story\n",
      "\n",
      "https://proxy.scrapeops.io/v1/?api_key=&url=https%3A%2F%2Fwww.fanfiction.net%2Fs%2F13519659%2F1%2FDisarm-Me\n"
     ]
    },
    {
     "name": "stderr",
     "output_type": "stream",
     "text": [
      "2024-12-04 10:42:41 [scrapy.spidermiddlewares.httperror] INFO: Ignoring response <400 https://proxy.scrapeops.io/v1/?api_key=&url=https%3A%2F%2Fproxy.scrapeops.io%2Fv1%2F%3Fapi_key%3D%26url%3Dhttps%253A%2F%2Fwww.fanfiction.net%2Fs%2F13788912%2F2%2FPlease-God-Let-Me-Live>: HTTP status code is not handled or not allowed\n",
      "2024-12-04 10:42:42 [scrapy.downloadermiddlewares.retry] DEBUG: Retrying <GET https://proxy.scrapeops.io/v1/?api_key=&url=https%3A%2F%2Fwww.fanfiction.net%2Fs%2F13842058%2F1%2FEnough> (failed 2 times): 429 Unknown Status\n",
      "2024-12-04 10:42:42 [scrapy.core.engine] DEBUG: Crawled (400) <GET https://proxy.scrapeops.io/v1/?api_key=&url=https%3A%2F%2Fproxy.scrapeops.io%2Fv1%2F%3Fapi_key%3D%26url%3Dhttps%253A%2F%2Fwww.fanfiction.net%2Fs%2F13877390%2F2%2FBy-The-Water-Fountain> (referer: https://steamdb.info/graph/)\n",
      "2024-12-04 10:42:42 [scrapy.core.engine] DEBUG: Crawled (200) <GET https://proxy.scrapeops.io/v1/?api_key=&url=https%3A%2F%2Fwww.fanfiction.net%2Fs%2F13838189%2F1%2Fhurt-him-and-i-ll-break-you> (referer: https://steamdb.info/graph/)\n",
      "2024-12-04 10:42:42 [scrapy.core.engine] DEBUG: Crawled (400) <GET https://proxy.scrapeops.io/v1/?api_key=&url=https%3A%2F%2Fproxy.scrapeops.io%2Fv1%2F%3Fapi_key%3D%26url%3Dhttps%253A%2F%2Fwww.fanfiction.net%2Fs%2F12858234%2F2%2FLife-Interrupted-Redux> (referer: https://steamdb.info/graph/)\n",
      "2024-12-04 10:42:42 [scrapy.spidermiddlewares.httperror] INFO: Ignoring response <400 https://proxy.scrapeops.io/v1/?api_key=&url=https%3A%2F%2Fproxy.scrapeops.io%2Fv1%2F%3Fapi_key%3D%26url%3Dhttps%253A%2F%2Fwww.fanfiction.net%2Fs%2F13877390%2F2%2FBy-The-Water-Fountain>: HTTP status code is not handled or not allowed\n",
      "2024-12-04 10:42:43 [scrapy.core.engine] DEBUG: Crawled (400) <GET https://proxy.scrapeops.io/v1/?api_key=&url=https%3A%2F%2Fproxy.scrapeops.io%2Fv1%2F%3Fapi_key%3D%26url%3Dhttps%253A%2F%2Fwww.fanfiction.net%2Fs%2F13842534%2F2%2FLockdown> (referer: https://steamdb.info/graph/)\n",
      "2024-12-04 10:42:43 [scrapy.spidermiddlewares.httperror] INFO: Ignoring response <400 https://proxy.scrapeops.io/v1/?api_key=&url=https%3A%2F%2Fproxy.scrapeops.io%2Fv1%2F%3Fapi_key%3D%26url%3Dhttps%253A%2F%2Fwww.fanfiction.net%2Fs%2F12858234%2F2%2FLife-Interrupted-Redux>: HTTP status code is not handled or not allowed\n",
      "2024-12-04 10:42:43 [scrapy.core.engine] DEBUG: Crawled (200) <GET https://proxy.scrapeops.io/v1/?api_key=&url=https%3A%2F%2Fwww.fanfiction.net%2Ftv%2FSherlock%2F%3F%26srt%3D1%26r%3D103%26p%3D29> (referer: https://steamdb.info/graph/)\n",
      "2024-12-04 10:42:43 [scrapy.core.engine] DEBUG: Crawled (200) <GET https://proxy.scrapeops.io/v1/?api_key=&url=https%3A%2F%2Fwww.fanfiction.net%2Fs%2F13518046%2F1%2FSeven-Days-of-SAW-2020> (referer: https://steamdb.info/graph/)\n",
      "2024-12-04 10:42:43 [scrapy.spidermiddlewares.httperror] INFO: Ignoring response <400 https://proxy.scrapeops.io/v1/?api_key=&url=https%3A%2F%2Fproxy.scrapeops.io%2Fv1%2F%3Fapi_key%3D%26url%3Dhttps%253A%2F%2Fwww.fanfiction.net%2Fs%2F13842534%2F2%2FLockdown>: HTTP status code is not handled or not allowed\n",
      "2024-12-04 10:42:43 [scrapy.core.engine] DEBUG: Crawled (400) <GET https://proxy.scrapeops.io/v1/?api_key=&url=https%3A%2F%2Fproxy.scrapeops.io%2Fv1%2F%3Fapi_key%3D%26url%3Dhttps%253A%2F%2Fwww.fanfiction.net%2Fs%2F13834043%2F2%2FThe-New-Recruit> (referer: https://steamdb.info/graph/)\n"
     ]
    },
    {
     "name": "stdout",
     "output_type": "stream",
     "text": [
      "\n",
      "https://proxy.scrapeops.io/v1/?api_key=&url=https%3A%2F%2Fwww.fanfiction.net%2Fs%2F13838189%2F1%2Fhurt-him-and-i-ll-break-you\n"
     ]
    },
    {
     "name": "stderr",
     "output_type": "stream",
     "text": [
      "2024-12-04 10:42:43 [scrapy.core.engine] DEBUG: Crawled (400) <GET https://proxy.scrapeops.io/v1/?api_key=&url=https%3A%2F%2Fproxy.scrapeops.io%2Fv1%2F%3Fapi_key%3D%26url%3Dhttps%253A%2F%2Fwww.fanfiction.net%2Fs%2F13869996%2F2%2FThe-Abandoned-Wife-Allison-s-Story> (referer: https://steamdb.info/graph/)\n",
      "2024-12-04 10:42:43 [scrapy.core.engine] DEBUG: Crawled (400) <GET https://proxy.scrapeops.io/v1/?api_key=&url=https%3A%2F%2Fproxy.scrapeops.io%2Fv1%2F%3Fapi_key%3D%26url%3Dhttps%253A%2F%2Fwww.fanfiction.net%2Fs%2F13519659%2F2%2FDisarm-Me> (referer: https://steamdb.info/graph/)\n",
      "2024-12-04 10:42:43 [scrapy.spidermiddlewares.httperror] INFO: Ignoring response <400 https://proxy.scrapeops.io/v1/?api_key=&url=https%3A%2F%2Fproxy.scrapeops.io%2Fv1%2F%3Fapi_key%3D%26url%3Dhttps%253A%2F%2Fwww.fanfiction.net%2Fs%2F13834043%2F2%2FThe-New-Recruit>: HTTP status code is not handled or not allowed\n",
      "2024-12-04 10:42:43 [scrapy.spidermiddlewares.httperror] INFO: Ignoring response <400 https://proxy.scrapeops.io/v1/?api_key=&url=https%3A%2F%2Fproxy.scrapeops.io%2Fv1%2F%3Fapi_key%3D%26url%3Dhttps%253A%2F%2Fwww.fanfiction.net%2Fs%2F13869996%2F2%2FThe-Abandoned-Wife-Allison-s-Story>: HTTP status code is not handled or not allowed\n",
      "2024-12-04 10:42:43 [scrapy.spidermiddlewares.httperror] INFO: Ignoring response <400 https://proxy.scrapeops.io/v1/?api_key=&url=https%3A%2F%2Fproxy.scrapeops.io%2Fv1%2F%3Fapi_key%3D%26url%3Dhttps%253A%2F%2Fwww.fanfiction.net%2Fs%2F13519659%2F2%2FDisarm-Me>: HTTP status code is not handled or not allowed\n"
     ]
    },
    {
     "name": "stdout",
     "output_type": "stream",
     "text": [
      "\n",
      "https://proxy.scrapeops.io/v1/?api_key=&url=https%3A%2F%2Fwww.fanfiction.net%2Fs%2F13518046%2F1%2FSeven-Days-of-SAW-2020\n",
      "25\n"
     ]
    },
    {
     "name": "stderr",
     "output_type": "stream",
     "text": [
      "2024-12-04 10:42:43 [scrapy.core.engine] DEBUG: Crawled (200) <GET https://proxy.scrapeops.io/v1/?api_key=&url=https%3A%2F%2Fwww.fanfiction.net%2Fs%2F13710454%2F1%2FThe-Good-Book> (referer: https://steamdb.info/graph/)\n"
     ]
    },
    {
     "name": "stdout",
     "output_type": "stream",
     "text": [
      "\n",
      "https://proxy.scrapeops.io/v1/?api_key=&url=https%3A%2F%2Fwww.fanfiction.net%2Fs%2F13710454%2F1%2FThe-Good-Book\n"
     ]
    },
    {
     "name": "stderr",
     "output_type": "stream",
     "text": [
      "2024-12-04 10:42:44 [scrapy.core.engine] DEBUG: Crawled (200) <GET https://proxy.scrapeops.io/v1/?api_key=&url=https%3A%2F%2Fwww.fanfiction.net%2Fs%2F13861326%2F1%2FAll-s-Well-That-Ends-Well> (referer: https://steamdb.info/graph/)\n",
      "2024-12-04 10:42:44 [scrapy.downloadermiddlewares.retry] DEBUG: Retrying <GET https://proxy.scrapeops.io/v1/?api_key=&url=https%3A%2F%2Fwww.fanfiction.net%2Fs%2F13831043%2F1%2FJohn-God-of-Thunder> (failed 2 times): 429 Unknown Status\n",
      "2024-12-04 10:42:44 [scrapy.core.engine] DEBUG: Crawled (400) <GET https://proxy.scrapeops.io/v1/?api_key=&url=https%3A%2F%2Fproxy.scrapeops.io%2Fv1%2F%3Fapi_key%3D%26url%3Dhttps%253A%2F%2Fwww.fanfiction.net%2Fs%2F13838189%2F2%2Fhurt-him-and-i-ll-break-you> (referer: https://steamdb.info/graph/)\n",
      "2024-12-04 10:42:44 [scrapy.spidermiddlewares.httperror] INFO: Ignoring response <400 https://proxy.scrapeops.io/v1/?api_key=&url=https%3A%2F%2Fproxy.scrapeops.io%2Fv1%2F%3Fapi_key%3D%26url%3Dhttps%253A%2F%2Fwww.fanfiction.net%2Fs%2F13838189%2F2%2Fhurt-him-and-i-ll-break-you>: HTTP status code is not handled or not allowed\n"
     ]
    },
    {
     "name": "stdout",
     "output_type": "stream",
     "text": [
      "\n",
      "https://proxy.scrapeops.io/v1/?api_key=&url=https%3A%2F%2Fwww.fanfiction.net%2Fs%2F13861326%2F1%2FAll-s-Well-That-Ends-Well\n"
     ]
    },
    {
     "name": "stderr",
     "output_type": "stream",
     "text": [
      "2024-12-04 10:42:45 [scrapy.core.engine] DEBUG: Crawled (200) <GET https://proxy.scrapeops.io/v1/?api_key=&url=https%3A%2F%2Fwww.fanfiction.net%2Fs%2F13981745%2F1%2FHalloween-at-221B> (referer: https://steamdb.info/graph/)\n",
      "2024-12-04 10:42:45 [scrapy.core.engine] DEBUG: Crawled (200) <GET https://proxy.scrapeops.io/v1/?api_key=&url=https%3A%2F%2Fwww.fanfiction.net%2Fs%2F13976098%2F1%2FPink-Carnations> (referer: https://steamdb.info/graph/)\n",
      "2024-12-04 10:42:45 [scrapy.core.engine] DEBUG: Crawled (200) <GET https://proxy.scrapeops.io/v1/?api_key=&url=https%3A%2F%2Fwww.fanfiction.net%2Fs%2F13971010%2F1%2FDuly-Noted> (referer: https://steamdb.info/graph/)\n"
     ]
    },
    {
     "name": "stdout",
     "output_type": "stream",
     "text": [
      "\n",
      "https://proxy.scrapeops.io/v1/?api_key=&url=https%3A%2F%2Fwww.fanfiction.net%2Fs%2F13981745%2F1%2FHalloween-at-221B\n",
      "\n",
      "https://proxy.scrapeops.io/v1/?api_key=&url=https%3A%2F%2Fwww.fanfiction.net%2Fs%2F13976098%2F1%2FPink-Carnations\n",
      "\n",
      "https://proxy.scrapeops.io/v1/?api_key=&url=https%3A%2F%2Fwww.fanfiction.net%2Fs%2F13971010%2F1%2FDuly-Noted\n"
     ]
    },
    {
     "name": "stderr",
     "output_type": "stream",
     "text": [
      "2024-12-04 10:42:46 [scrapy.core.engine] DEBUG: Crawled (200) <GET https://proxy.scrapeops.io/v1/?api_key=&url=https%3A%2F%2Fwww.fanfiction.net%2Fs%2F13854944%2F1%2FAssassination> (referer: https://steamdb.info/graph/)\n",
      "2024-12-04 10:42:46 [scrapy.core.engine] DEBUG: Crawled (400) <GET https://proxy.scrapeops.io/v1/?api_key=&url=https%3A%2F%2Fproxy.scrapeops.io%2Fv1%2F%3Fapi_key%3D%26url%3Dhttps%253A%2F%2Fwww.fanfiction.net%2Fs%2F13518046%2F2%2FSeven-Days-of-SAW-2020> (referer: https://steamdb.info/graph/)\n",
      "2024-12-04 10:42:46 [scrapy.spidermiddlewares.httperror] INFO: Ignoring response <400 https://proxy.scrapeops.io/v1/?api_key=&url=https%3A%2F%2Fproxy.scrapeops.io%2Fv1%2F%3Fapi_key%3D%26url%3Dhttps%253A%2F%2Fwww.fanfiction.net%2Fs%2F13518046%2F2%2FSeven-Days-of-SAW-2020>: HTTP status code is not handled or not allowed\n"
     ]
    },
    {
     "name": "stdout",
     "output_type": "stream",
     "text": [
      "\n",
      "https://proxy.scrapeops.io/v1/?api_key=&url=https%3A%2F%2Fwww.fanfiction.net%2Fs%2F13854944%2F1%2FAssassination\n"
     ]
    },
    {
     "name": "stderr",
     "output_type": "stream",
     "text": [
      "2024-12-04 10:42:46 [scrapy.core.engine] DEBUG: Crawled (200) <GET https://proxy.scrapeops.io/v1/?api_key=&url=https%3A%2F%2Fwww.fanfiction.net%2Fs%2F13980868%2F1%2FVeilleur-TRANSLATION-of-Adalas> (referer: https://steamdb.info/graph/)\n",
      "2024-12-04 10:42:46 [scrapy.core.engine] DEBUG: Crawled (400) <GET https://proxy.scrapeops.io/v1/?api_key=&url=https%3A%2F%2Fproxy.scrapeops.io%2Fv1%2F%3Fapi_key%3D%26url%3Dhttps%253A%2F%2Fwww.fanfiction.net%2Fs%2F13710454%2F2%2FThe-Good-Book> (referer: https://steamdb.info/graph/)\n",
      "2024-12-04 10:42:46 [scrapy.spidermiddlewares.httperror] INFO: Ignoring response <400 https://proxy.scrapeops.io/v1/?api_key=&url=https%3A%2F%2Fproxy.scrapeops.io%2Fv1%2F%3Fapi_key%3D%26url%3Dhttps%253A%2F%2Fwww.fanfiction.net%2Fs%2F13710454%2F2%2FThe-Good-Book>: HTTP status code is not handled or not allowed\n"
     ]
    },
    {
     "name": "stdout",
     "output_type": "stream",
     "text": [
      "\n",
      "https://proxy.scrapeops.io/v1/?api_key=&url=https%3A%2F%2Fwww.fanfiction.net%2Fs%2F13980868%2F1%2FVeilleur-TRANSLATION-of-Adalas\n"
     ]
    },
    {
     "name": "stderr",
     "output_type": "stream",
     "text": [
      "2024-12-04 10:42:47 [scrapy.core.engine] DEBUG: Crawled (200) <GET https://proxy.scrapeops.io/v1/?api_key=&url=https%3A%2F%2Fwww.fanfiction.net%2Fs%2F13997334%2F1%2FThe-Dying-Lying-Detective> (referer: https://steamdb.info/graph/)\n"
     ]
    },
    {
     "name": "stdout",
     "output_type": "stream",
     "text": [
      "\n",
      "https://proxy.scrapeops.io/v1/?api_key=&url=https%3A%2F%2Fwww.fanfiction.net%2Fs%2F13997334%2F1%2FThe-Dying-Lying-Detective\n"
     ]
    },
    {
     "name": "stderr",
     "output_type": "stream",
     "text": [
      "2024-12-04 10:42:47 [scrapy.core.engine] DEBUG: Crawled (200) <GET https://proxy.scrapeops.io/v1/?api_key=&url=https%3A%2F%2Fwww.fanfiction.net%2Ftv%2FSherlock%2F%3F%26srt%3D1%26r%3D103%26p%3D30> (referer: https://steamdb.info/graph/)\n",
      "2024-12-04 10:42:48 [scrapy.core.engine] DEBUG: Crawled (400) <GET https://proxy.scrapeops.io/v1/?api_key=&url=https%3A%2F%2Fproxy.scrapeops.io%2Fv1%2F%3Fapi_key%3D%26url%3Dhttps%253A%2F%2Fwww.fanfiction.net%2Fs%2F13861326%2F2%2FAll-s-Well-That-Ends-Well> (referer: https://steamdb.info/graph/)\n",
      "2024-12-04 10:42:48 [scrapy.spidermiddlewares.httperror] INFO: Ignoring response <400 https://proxy.scrapeops.io/v1/?api_key=&url=https%3A%2F%2Fproxy.scrapeops.io%2Fv1%2F%3Fapi_key%3D%26url%3Dhttps%253A%2F%2Fwww.fanfiction.net%2Fs%2F13861326%2F2%2FAll-s-Well-That-Ends-Well>: HTTP status code is not handled or not allowed\n"
     ]
    },
    {
     "name": "stdout",
     "output_type": "stream",
     "text": [
      "25\n"
     ]
    },
    {
     "name": "stderr",
     "output_type": "stream",
     "text": [
      "2024-12-04 10:42:48 [scrapy.core.engine] DEBUG: Crawled (200) <GET https://proxy.scrapeops.io/v1/?api_key=&url=https%3A%2F%2Fwww.fanfiction.net%2Fs%2F13814647%2F1%2FThe-Well> (referer: https://steamdb.info/graph/)\n",
      "2024-12-04 10:42:48 [scrapy.downloadermiddlewares.retry] DEBUG: Retrying <GET https://proxy.scrapeops.io/v1/?api_key=&url=https%3A%2F%2Fwww.fanfiction.net%2Fs%2F13970032%2F1%2FBest-Friends-Forever> (failed 2 times): 429 Unknown Status\n",
      "2024-12-04 10:42:48 [scrapy.core.engine] DEBUG: Crawled (400) <GET https://proxy.scrapeops.io/v1/?api_key=&url=https%3A%2F%2Fproxy.scrapeops.io%2Fv1%2F%3Fapi_key%3D%26url%3Dhttps%253A%2F%2Fwww.fanfiction.net%2Fs%2F13976098%2F2%2FPink-Carnations> (referer: https://steamdb.info/graph/)\n",
      "2024-12-04 10:42:48 [scrapy.core.engine] DEBUG: Crawled (400) <GET https://proxy.scrapeops.io/v1/?api_key=&url=https%3A%2F%2Fproxy.scrapeops.io%2Fv1%2F%3Fapi_key%3D%26url%3Dhttps%253A%2F%2Fwww.fanfiction.net%2Fs%2F13971010%2F2%2FDuly-Noted> (referer: https://steamdb.info/graph/)\n",
      "2024-12-04 10:42:48 [scrapy.core.engine] DEBUG: Crawled (400) <GET https://proxy.scrapeops.io/v1/?api_key=&url=https%3A%2F%2Fproxy.scrapeops.io%2Fv1%2F%3Fapi_key%3D%26url%3Dhttps%253A%2F%2Fwww.fanfiction.net%2Fs%2F13981745%2F2%2FHalloween-at-221B> (referer: https://steamdb.info/graph/)\n",
      "2024-12-04 10:42:48 [scrapy.spidermiddlewares.httperror] INFO: Ignoring response <400 https://proxy.scrapeops.io/v1/?api_key=&url=https%3A%2F%2Fproxy.scrapeops.io%2Fv1%2F%3Fapi_key%3D%26url%3Dhttps%253A%2F%2Fwww.fanfiction.net%2Fs%2F13976098%2F2%2FPink-Carnations>: HTTP status code is not handled or not allowed\n",
      "2024-12-04 10:42:48 [scrapy.core.engine] DEBUG: Crawled (400) <GET https://proxy.scrapeops.io/v1/?api_key=&url=https%3A%2F%2Fproxy.scrapeops.io%2Fv1%2F%3Fapi_key%3D%26url%3Dhttps%253A%2F%2Fwww.fanfiction.net%2Fs%2F13854944%2F2%2FAssassination> (referer: https://steamdb.info/graph/)\n",
      "2024-12-04 10:42:48 [scrapy.spidermiddlewares.httperror] INFO: Ignoring response <400 https://proxy.scrapeops.io/v1/?api_key=&url=https%3A%2F%2Fproxy.scrapeops.io%2Fv1%2F%3Fapi_key%3D%26url%3Dhttps%253A%2F%2Fwww.fanfiction.net%2Fs%2F13971010%2F2%2FDuly-Noted>: HTTP status code is not handled or not allowed\n",
      "2024-12-04 10:42:48 [scrapy.core.engine] DEBUG: Crawled (200) <GET https://proxy.scrapeops.io/v1/?api_key=&url=https%3A%2F%2Fwww.fanfiction.net%2Fs%2F10063710%2F1%2FHigh-School-Idiots> (referer: https://steamdb.info/graph/)\n",
      "2024-12-04 10:42:48 [scrapy.spidermiddlewares.httperror] INFO: Ignoring response <400 https://proxy.scrapeops.io/v1/?api_key=&url=https%3A%2F%2Fproxy.scrapeops.io%2Fv1%2F%3Fapi_key%3D%26url%3Dhttps%253A%2F%2Fwww.fanfiction.net%2Fs%2F13981745%2F2%2FHalloween-at-221B>: HTTP status code is not handled or not allowed\n",
      "2024-12-04 10:42:48 [scrapy.spidermiddlewares.httperror] INFO: Ignoring response <400 https://proxy.scrapeops.io/v1/?api_key=&url=https%3A%2F%2Fproxy.scrapeops.io%2Fv1%2F%3Fapi_key%3D%26url%3Dhttps%253A%2F%2Fwww.fanfiction.net%2Fs%2F13854944%2F2%2FAssassination>: HTTP status code is not handled or not allowed\n",
      "2024-12-04 10:42:48 [scrapy.core.engine] DEBUG: Crawled (400) <GET https://proxy.scrapeops.io/v1/?api_key=&url=https%3A%2F%2Fproxy.scrapeops.io%2Fv1%2F%3Fapi_key%3D%26url%3Dhttps%253A%2F%2Fwww.fanfiction.net%2Fs%2F13997334%2F2%2FThe-Dying-Lying-Detective> (referer: https://steamdb.info/graph/)\n"
     ]
    },
    {
     "name": "stdout",
     "output_type": "stream",
     "text": [
      "\n",
      "https://proxy.scrapeops.io/v1/?api_key=&url=https%3A%2F%2Fwww.fanfiction.net%2Fs%2F13814647%2F1%2FThe-Well\n"
     ]
    },
    {
     "name": "stderr",
     "output_type": "stream",
     "text": [
      "2024-12-04 10:42:48 [scrapy.core.engine] DEBUG: Crawled (400) <GET https://proxy.scrapeops.io/v1/?api_key=&url=https%3A%2F%2Fproxy.scrapeops.io%2Fv1%2F%3Fapi_key%3D%26url%3Dhttps%253A%2F%2Fwww.fanfiction.net%2Fs%2F13980868%2F2%2FVeilleur-TRANSLATION-of-Adalas> (referer: https://steamdb.info/graph/)\n",
      "2024-12-04 10:42:48 [scrapy.spidermiddlewares.httperror] INFO: Ignoring response <400 https://proxy.scrapeops.io/v1/?api_key=&url=https%3A%2F%2Fproxy.scrapeops.io%2Fv1%2F%3Fapi_key%3D%26url%3Dhttps%253A%2F%2Fwww.fanfiction.net%2Fs%2F13997334%2F2%2FThe-Dying-Lying-Detective>: HTTP status code is not handled or not allowed\n",
      "2024-12-04 10:42:48 [scrapy.spidermiddlewares.httperror] INFO: Ignoring response <400 https://proxy.scrapeops.io/v1/?api_key=&url=https%3A%2F%2Fproxy.scrapeops.io%2Fv1%2F%3Fapi_key%3D%26url%3Dhttps%253A%2F%2Fwww.fanfiction.net%2Fs%2F13980868%2F2%2FVeilleur-TRANSLATION-of-Adalas>: HTTP status code is not handled or not allowed\n",
      "2024-12-04 10:42:48 [scrapy.core.engine] DEBUG: Crawled (200) <GET https://proxy.scrapeops.io/v1/?api_key=&url=https%3A%2F%2Fwww.fanfiction.net%2Fs%2F14010100%2F1%2FSpostrzegawczy-outsiderzy> (referer: https://steamdb.info/graph/)\n"
     ]
    },
    {
     "name": "stdout",
     "output_type": "stream",
     "text": [
      "\n",
      "https://proxy.scrapeops.io/v1/?api_key=&url=https%3A%2F%2Fwww.fanfiction.net%2Fs%2F10063710%2F1%2FHigh-School-Idiots\n",
      "\n"
     ]
    },
    {
     "name": "stderr",
     "output_type": "stream",
     "text": [
      "2024-12-04 10:42:49 [scrapy.downloadermiddlewares.retry] DEBUG: Retrying <GET https://proxy.scrapeops.io/v1/?api_key=&url=https%3A%2F%2Fwww.fanfiction.net%2Fs%2F13999345%2F1%2FA-Study-In-Opposites> (failed 2 times): 429 Unknown Status\n",
      "2024-12-04 10:42:50 [scrapy.extensions.logstats] INFO: Crawled 1262 pages (at 158 pages/min), scraped 0 items (at 0 items/min)\n",
      "2024-12-04 10:42:50 [scrapy.core.engine] DEBUG: Crawled (200) <GET https://proxy.scrapeops.io/v1/?api_key=&url=https%3A%2F%2Fwww.fanfiction.net%2Fs%2F7930524%2F1%2FNutrisco-et-extinguo> (referer: https://steamdb.info/graph/)\n",
      "2024-12-04 10:42:50 [scrapy.core.engine] DEBUG: Crawled (200) <GET https://proxy.scrapeops.io/v1/?api_key=&url=https%3A%2F%2Fwww.fanfiction.net%2Fs%2F13806864%2F1%2FHer-Mother-s-Daughter-Her-Father-s-Legacy> (referer: https://steamdb.info/graph/)\n",
      "2024-12-04 10:42:50 [scrapy.core.engine] DEBUG: Crawled (400) <GET https://proxy.scrapeops.io/v1/?api_key=&url=https%3A%2F%2Fproxy.scrapeops.io%2Fv1%2F%3Fapi_key%3D%26url%3Dhttps%253A%2F%2Fwww.fanfiction.net%2Fs%2F13814647%2F2%2FThe-Well> (referer: https://steamdb.info/graph/)\n",
      "2024-12-04 10:42:50 [scrapy.core.engine] DEBUG: Crawled (200) <GET https://proxy.scrapeops.io/v1/?api_key=&url=https%3A%2F%2Fwww.fanfiction.net%2Fs%2F13807035%2F1%2FSweet-Birthday> (referer: https://steamdb.info/graph/)\n",
      "2024-12-04 10:42:50 [scrapy.spidermiddlewares.httperror] INFO: Ignoring response <400 https://proxy.scrapeops.io/v1/?api_key=&url=https%3A%2F%2Fproxy.scrapeops.io%2Fv1%2F%3Fapi_key%3D%26url%3Dhttps%253A%2F%2Fwww.fanfiction.net%2Fs%2F13814647%2F2%2FThe-Well>: HTTP status code is not handled or not allowed\n",
      "2024-12-04 10:42:50 [scrapy.core.engine] DEBUG: Crawled (200) <GET https://proxy.scrapeops.io/v1/?api_key=&url=https%3A%2F%2Fwww.fanfiction.net%2Ftv%2FSherlock%2F%3F%26srt%3D1%26r%3D103%26p%3D31> (referer: https://steamdb.info/graph/)\n"
     ]
    },
    {
     "name": "stdout",
     "output_type": "stream",
     "text": [
      "\n",
      "https://proxy.scrapeops.io/v1/?api_key=&url=https%3A%2F%2Fwww.fanfiction.net%2Fs%2F7930524%2F1%2FNutrisco-et-extinguo\n",
      "\n",
      "https://proxy.scrapeops.io/v1/?api_key=&url=https%3A%2F%2Fwww.fanfiction.net%2Fs%2F13806864%2F1%2FHer-Mother-s-Daughter-Her-Father-s-Legacy\n",
      "\n",
      "25\n"
     ]
    },
    {
     "name": "stderr",
     "output_type": "stream",
     "text": [
      "2024-12-04 10:42:52 [scrapy.core.engine] DEBUG: Crawled (200) <GET https://proxy.scrapeops.io/v1/?api_key=&url=https%3A%2F%2Fwww.fanfiction.net%2Fs%2F13796636%2F1%2FThe-Secrets-of-John-Watson> (referer: https://steamdb.info/graph/)\n",
      "2024-12-04 10:42:52 [scrapy.core.engine] DEBUG: Crawled (400) <GET https://proxy.scrapeops.io/v1/?api_key=&url=https%3A%2F%2Fproxy.scrapeops.io%2Fv1%2F%3Fapi_key%3D%26url%3Dhttps%253A%2F%2Fwww.fanfiction.net%2Fs%2F10063710%2F2%2FHigh-School-Idiots> (referer: https://steamdb.info/graph/)\n",
      "2024-12-04 10:42:52 [scrapy.spidermiddlewares.httperror] INFO: Ignoring response <400 https://proxy.scrapeops.io/v1/?api_key=&url=https%3A%2F%2Fproxy.scrapeops.io%2Fv1%2F%3Fapi_key%3D%26url%3Dhttps%253A%2F%2Fwww.fanfiction.net%2Fs%2F10063710%2F2%2FHigh-School-Idiots>: HTTP status code is not handled or not allowed\n",
      "2024-12-04 10:42:52 [scrapy.core.engine] DEBUG: Crawled (200) <GET https://proxy.scrapeops.io/v1/?api_key=&url=https%3A%2F%2Fwww.fanfiction.net%2Fs%2F13785459%2F1%2FLove-of-a-Thousand-Years> (referer: https://steamdb.info/graph/)\n"
     ]
    },
    {
     "name": "stdout",
     "output_type": "stream",
     "text": [
      "\n",
      "https://proxy.scrapeops.io/v1/?api_key=&url=https%3A%2F%2Fwww.fanfiction.net%2Fs%2F13796636%2F1%2FThe-Secrets-of-John-Watson\n"
     ]
    },
    {
     "name": "stderr",
     "output_type": "stream",
     "text": [
      "2024-12-04 10:42:52 [scrapy.core.engine] DEBUG: Crawled (200) <GET https://proxy.scrapeops.io/v1/?api_key=&url=https%3A%2F%2Fwww.fanfiction.net%2Fs%2F13508578%2F1%2FSherlock-Gets-Coronavirus> (referer: https://steamdb.info/graph/)\n",
      "2024-12-04 10:42:52 [scrapy.core.engine] DEBUG: Crawled (200) <GET https://proxy.scrapeops.io/v1/?api_key=&url=https%3A%2F%2Fwww.fanfiction.net%2Fs%2F13796665%2F1%2FThe-Golden-Plaque> (referer: https://steamdb.info/graph/)\n"
     ]
    },
    {
     "name": "stdout",
     "output_type": "stream",
     "text": [
      "\n",
      "https://proxy.scrapeops.io/v1/?api_key=&url=https%3A%2F%2Fwww.fanfiction.net%2Fs%2F13785459%2F1%2FLove-of-a-Thousand-Years\n",
      "\n",
      "https://proxy.scrapeops.io/v1/?api_key=&url=https%3A%2F%2Fwww.fanfiction.net%2Fs%2F13508578%2F1%2FSherlock-Gets-Coronavirus\n",
      "\n",
      "https://proxy.scrapeops.io/v1/?api_key=&url=https%3A%2F%2Fwww.fanfiction.net%2Fs%2F13796665%2F1%2FThe-Golden-Plaque\n"
     ]
    },
    {
     "name": "stderr",
     "output_type": "stream",
     "text": [
      "2024-12-04 10:42:53 [scrapy.downloadermiddlewares.retry] DEBUG: Retrying <GET https://proxy.scrapeops.io/v1/?api_key=&url=https%3A%2F%2Fwww.fanfiction.net%2Fs%2F13837431%2F1%2FComing-Out> (failed 1 times): 500 Internal Server Error\n",
      "2024-12-04 10:42:53 [scrapy.core.engine] DEBUG: Crawled (200) <GET https://proxy.scrapeops.io/v1/?api_key=&url=https%3A%2F%2Fwww.fanfiction.net%2Fs%2F13805587%2F1%2FSeule> (referer: https://steamdb.info/graph/)\n",
      "2024-12-04 10:42:53 [scrapy.core.engine] DEBUG: Crawled (400) <GET https://proxy.scrapeops.io/v1/?api_key=&url=https%3A%2F%2Fproxy.scrapeops.io%2Fv1%2F%3Fapi_key%3D%26url%3Dhttps%253A%2F%2Fwww.fanfiction.net%2Fs%2F13806864%2F2%2FHer-Mother-s-Daughter-Her-Father-s-Legacy> (referer: https://steamdb.info/graph/)\n",
      "2024-12-04 10:42:53 [scrapy.spidermiddlewares.httperror] INFO: Ignoring response <400 https://proxy.scrapeops.io/v1/?api_key=&url=https%3A%2F%2Fproxy.scrapeops.io%2Fv1%2F%3Fapi_key%3D%26url%3Dhttps%253A%2F%2Fwww.fanfiction.net%2Fs%2F13806864%2F2%2FHer-Mother-s-Daughter-Her-Father-s-Legacy>: HTTP status code is not handled or not allowed\n",
      "2024-12-04 10:42:53 [scrapy.core.engine] DEBUG: Crawled (400) <GET https://proxy.scrapeops.io/v1/?api_key=&url=https%3A%2F%2Fproxy.scrapeops.io%2Fv1%2F%3Fapi_key%3D%26url%3Dhttps%253A%2F%2Fwww.fanfiction.net%2Fs%2F7930524%2F2%2FNutrisco-et-extinguo> (referer: https://steamdb.info/graph/)\n",
      "2024-12-04 10:42:53 [scrapy.spidermiddlewares.httperror] INFO: Ignoring response <400 https://proxy.scrapeops.io/v1/?api_key=&url=https%3A%2F%2Fproxy.scrapeops.io%2Fv1%2F%3Fapi_key%3D%26url%3Dhttps%253A%2F%2Fwww.fanfiction.net%2Fs%2F7930524%2F2%2FNutrisco-et-extinguo>: HTTP status code is not handled or not allowed\n"
     ]
    },
    {
     "name": "stdout",
     "output_type": "stream",
     "text": [
      "\n"
     ]
    },
    {
     "name": "stderr",
     "output_type": "stream",
     "text": [
      "2024-12-04 10:42:54 [scrapy.downloadermiddlewares.retry] DEBUG: Retrying <GET https://proxy.scrapeops.io/v1/?api_key=&url=https%3A%2F%2Fwww.fanfiction.net%2Fs%2F13796332%2F1%2FA-Legacy-For-The-Ages> (failed 1 times): 429 Unknown Status\n",
      "2024-12-04 10:42:54 [scrapy.core.engine] DEBUG: Crawled (200) <GET https://proxy.scrapeops.io/v1/?api_key=&url=https%3A%2F%2Fwww.fanfiction.net%2Fs%2F13797323%2F1%2FA-Doctor-Abroad> (referer: https://steamdb.info/graph/)\n",
      "2024-12-04 10:42:54 [scrapy.core.engine] DEBUG: Crawled (200) <GET https://proxy.scrapeops.io/v1/?api_key=&url=https%3A%2F%2Fwww.fanfiction.net%2Fs%2F12681450%2F1%2FA-New-life> (referer: https://steamdb.info/graph/)\n",
      "2024-12-04 10:42:54 [scrapy.core.engine] DEBUG: Crawled (400) <GET https://proxy.scrapeops.io/v1/?api_key=&url=https%3A%2F%2Fproxy.scrapeops.io%2Fv1%2F%3Fapi_key%3D%26url%3Dhttps%253A%2F%2Fwww.fanfiction.net%2Fs%2F13796636%2F2%2FThe-Secrets-of-John-Watson> (referer: https://steamdb.info/graph/)\n",
      "2024-12-04 10:42:54 [scrapy.core.engine] DEBUG: Crawled (400) <GET https://proxy.scrapeops.io/v1/?api_key=&url=https%3A%2F%2Fproxy.scrapeops.io%2Fv1%2F%3Fapi_key%3D%26url%3Dhttps%253A%2F%2Fwww.fanfiction.net%2Fs%2F13785459%2F2%2FLove-of-a-Thousand-Years> (referer: https://steamdb.info/graph/)\n",
      "2024-12-04 10:42:54 [scrapy.core.engine] DEBUG: Crawled (200) <GET https://proxy.scrapeops.io/v1/?api_key=&url=https%3A%2F%2Fwww.fanfiction.net%2Fs%2F13799273%2F1%2FAnother-day> (referer: https://steamdb.info/graph/)\n",
      "2024-12-04 10:42:54 [scrapy.spidermiddlewares.httperror] INFO: Ignoring response <400 https://proxy.scrapeops.io/v1/?api_key=&url=https%3A%2F%2Fproxy.scrapeops.io%2Fv1%2F%3Fapi_key%3D%26url%3Dhttps%253A%2F%2Fwww.fanfiction.net%2Fs%2F13796636%2F2%2FThe-Secrets-of-John-Watson>: HTTP status code is not handled or not allowed\n"
     ]
    },
    {
     "name": "stdout",
     "output_type": "stream",
     "text": [
      "\n",
      "https://proxy.scrapeops.io/v1/?api_key=&url=https%3A%2F%2Fwww.fanfiction.net%2Fs%2F13797323%2F1%2FA-Doctor-Abroad\n",
      "\n",
      "https://proxy.scrapeops.io/v1/?api_key=&url=https%3A%2F%2Fwww.fanfiction.net%2Fs%2F12681450%2F1%2FA-New-life\n"
     ]
    },
    {
     "name": "stderr",
     "output_type": "stream",
     "text": [
      "2024-12-04 10:42:54 [scrapy.core.engine] DEBUG: Crawled (200) <GET https://proxy.scrapeops.io/v1/?api_key=&url=https%3A%2F%2Fwww.fanfiction.net%2Fs%2F13799051%2F1%2FPlease-dont-be-dead> (referer: https://steamdb.info/graph/)\n",
      "2024-12-04 10:42:54 [scrapy.spidermiddlewares.httperror] INFO: Ignoring response <400 https://proxy.scrapeops.io/v1/?api_key=&url=https%3A%2F%2Fproxy.scrapeops.io%2Fv1%2F%3Fapi_key%3D%26url%3Dhttps%253A%2F%2Fwww.fanfiction.net%2Fs%2F13785459%2F2%2FLove-of-a-Thousand-Years>: HTTP status code is not handled or not allowed\n",
      "2024-12-04 10:42:54 [scrapy.core.engine] DEBUG: Crawled (400) <GET https://proxy.scrapeops.io/v1/?api_key=&url=https%3A%2F%2Fproxy.scrapeops.io%2Fv1%2F%3Fapi_key%3D%26url%3Dhttps%253A%2F%2Fwww.fanfiction.net%2Fs%2F13508578%2F2%2FSherlock-Gets-Coronavirus> (referer: https://steamdb.info/graph/)\n",
      "2024-12-04 10:42:54 [scrapy.core.engine] DEBUG: Crawled (400) <GET https://proxy.scrapeops.io/v1/?api_key=&url=https%3A%2F%2Fproxy.scrapeops.io%2Fv1%2F%3Fapi_key%3D%26url%3Dhttps%253A%2F%2Fwww.fanfiction.net%2Fs%2F13796665%2F2%2FThe-Golden-Plaque> (referer: https://steamdb.info/graph/)\n",
      "2024-12-04 10:42:54 [scrapy.spidermiddlewares.httperror] INFO: Ignoring response <400 https://proxy.scrapeops.io/v1/?api_key=&url=https%3A%2F%2Fproxy.scrapeops.io%2Fv1%2F%3Fapi_key%3D%26url%3Dhttps%253A%2F%2Fwww.fanfiction.net%2Fs%2F13508578%2F2%2FSherlock-Gets-Coronavirus>: HTTP status code is not handled or not allowed\n",
      "2024-12-04 10:42:54 [scrapy.spidermiddlewares.httperror] INFO: Ignoring response <400 https://proxy.scrapeops.io/v1/?api_key=&url=https%3A%2F%2Fproxy.scrapeops.io%2Fv1%2F%3Fapi_key%3D%26url%3Dhttps%253A%2F%2Fwww.fanfiction.net%2Fs%2F13796665%2F2%2FThe-Golden-Plaque>: HTTP status code is not handled or not allowed\n"
     ]
    },
    {
     "name": "stdout",
     "output_type": "stream",
     "text": [
      "\n",
      "https://proxy.scrapeops.io/v1/?api_key=&url=https%3A%2F%2Fwww.fanfiction.net%2Fs%2F13799273%2F1%2FAnother-day\n",
      "\n",
      "https://proxy.scrapeops.io/v1/?api_key=&url=https%3A%2F%2Fwww.fanfiction.net%2Fs%2F13799051%2F1%2FPlease-dont-be-dead\n"
     ]
    },
    {
     "name": "stderr",
     "output_type": "stream",
     "text": [
      "2024-12-04 10:42:55 [scrapy.downloadermiddlewares.retry] DEBUG: Retrying <GET https://proxy.scrapeops.io/v1/?api_key=&url=https%3A%2F%2Fwww.fanfiction.net%2Fs%2F13796596%2F1%2FThe-Peace-of-Abstinence> (failed 1 times): 429 Unknown Status\n",
      "2024-12-04 10:42:55 [scrapy.core.engine] DEBUG: Crawled (200) <GET https://proxy.scrapeops.io/v1/?api_key=&url=https%3A%2F%2Fwww.fanfiction.net%2Fs%2F13799277%2F1%2FCoping> (referer: https://steamdb.info/graph/)\n",
      "2024-12-04 10:42:55 [scrapy.core.engine] DEBUG: Crawled (400) <GET https://proxy.scrapeops.io/v1/?api_key=&url=https%3A%2F%2Fproxy.scrapeops.io%2Fv1%2F%3Fapi_key%3D%26url%3Dhttps%253A%2F%2Fwww.fanfiction.net%2Fs%2F13797323%2F2%2FA-Doctor-Abroad> (referer: https://steamdb.info/graph/)\n",
      "2024-12-04 10:42:55 [scrapy.spidermiddlewares.httperror] INFO: Ignoring response <400 https://proxy.scrapeops.io/v1/?api_key=&url=https%3A%2F%2Fproxy.scrapeops.io%2Fv1%2F%3Fapi_key%3D%26url%3Dhttps%253A%2F%2Fwww.fanfiction.net%2Fs%2F13797323%2F2%2FA-Doctor-Abroad>: HTTP status code is not handled or not allowed\n"
     ]
    },
    {
     "name": "stdout",
     "output_type": "stream",
     "text": [
      "\n",
      "https://proxy.scrapeops.io/v1/?api_key=&url=https%3A%2F%2Fwww.fanfiction.net%2Fs%2F13799277%2F1%2FCoping\n"
     ]
    },
    {
     "name": "stderr",
     "output_type": "stream",
     "text": [
      "2024-12-04 10:42:55 [scrapy.core.engine] DEBUG: Crawled (200) <GET https://proxy.scrapeops.io/v1/?api_key=&url=https%3A%2F%2Fwww.fanfiction.net%2Ftv%2FSherlock%2F%3F%26srt%3D1%26r%3D103%26p%3D32> (referer: https://steamdb.info/graph/)\n"
     ]
    },
    {
     "name": "stdout",
     "output_type": "stream",
     "text": [
      "25\n"
     ]
    },
    {
     "name": "stderr",
     "output_type": "stream",
     "text": [
      "2024-12-04 10:42:56 [scrapy.core.engine] DEBUG: Crawled (200) <GET https://proxy.scrapeops.io/v1/?api_key=&url=https%3A%2F%2Fwww.fanfiction.net%2Fs%2F13399689%2F1%2FWhy-3-is-John-Watson-s-Least-Favourite-Number> (referer: https://steamdb.info/graph/)\n"
     ]
    },
    {
     "name": "stdout",
     "output_type": "stream",
     "text": [
      "\n",
      "https://proxy.scrapeops.io/v1/?api_key=&url=https%3A%2F%2Fwww.fanfiction.net%2Fs%2F13399689%2F1%2FWhy-3-is-John-Watson-s-Least-Favourite-Number\n"
     ]
    },
    {
     "name": "stderr",
     "output_type": "stream",
     "text": [
      "2024-12-04 10:42:56 [scrapy.core.engine] DEBUG: Crawled (200) <GET https://proxy.scrapeops.io/v1/?api_key=&url=https%3A%2F%2Fwww.fanfiction.net%2Fs%2F13758573%2F1%2FThe-Essence-of-Christmas> (referer: https://steamdb.info/graph/)\n"
     ]
    },
    {
     "name": "stdout",
     "output_type": "stream",
     "text": [
      "\n",
      "https://proxy.scrapeops.io/v1/?api_key=&url=https%3A%2F%2Fwww.fanfiction.net%2Fs%2F13758573%2F1%2FThe-Essence-of-Christmas\n"
     ]
    },
    {
     "name": "stderr",
     "output_type": "stream",
     "text": [
      "2024-12-04 10:42:57 [scrapy.core.engine] DEBUG: Crawled (200) <GET https://proxy.scrapeops.io/v1/?api_key=&url=https%3A%2F%2Fwww.fanfiction.net%2Fs%2F13759207%2F1%2FHolmes-Again> (referer: https://steamdb.info/graph/)\n"
     ]
    },
    {
     "name": "stdout",
     "output_type": "stream",
     "text": [
      "\n",
      "https://proxy.scrapeops.io/v1/?api_key=&url=https%3A%2F%2Fwww.fanfiction.net%2Fs%2F13759207%2F1%2FHolmes-Again\n"
     ]
    },
    {
     "name": "stderr",
     "output_type": "stream",
     "text": [
      "2024-12-04 10:42:59 [scrapy.core.engine] DEBUG: Crawled (200) <GET https://proxy.scrapeops.io/v1/?api_key=&url=https%3A%2F%2Fwww.fanfiction.net%2Fs%2F13782215%2F1%2FMycroft-s-Schooldays> (referer: https://steamdb.info/graph/)\n",
      "2024-12-04 10:42:59 [scrapy.downloadermiddlewares.retry] DEBUG: Retrying <GET https://proxy.scrapeops.io/v1/?api_key=&url=https%3A%2F%2Fwww.fanfiction.net%2Fs%2F13780914%2F1%2FNot-the-thought-that-counts> (failed 1 times): 429 Unknown Status\n"
     ]
    },
    {
     "name": "stdout",
     "output_type": "stream",
     "text": [
      "\n",
      "https://proxy.scrapeops.io/v1/?api_key=&url=https%3A%2F%2Fwww.fanfiction.net%2Fs%2F13782215%2F1%2FMycroft-s-Schooldays\n"
     ]
    },
    {
     "name": "stderr",
     "output_type": "stream",
     "text": [
      "2024-12-04 10:43:00 [scrapy.downloadermiddlewares.retry] DEBUG: Retrying <GET https://proxy.scrapeops.io/v1/?api_key=&url=https%3A%2F%2Fwww.fanfiction.net%2Fs%2F13786282%2F1%2FShe-Came-In-Through-The-Bathroom-Window> (failed 1 times): 429 Unknown Status\n",
      "2024-12-04 10:43:00 [scrapy.core.engine] DEBUG: Crawled (401) <GET https://proxy.scrapeops.io/v1/?api_key=&url=https%3A%2F%2Fwww.fanfiction.net%2Fs%2F13786600%2F1%2FIf-Convenient> (referer: https://steamdb.info/graph/)\n",
      "2024-12-04 10:43:00 [scrapy.spidermiddlewares.httperror] INFO: Ignoring response <401 https://proxy.scrapeops.io/v1/?api_key=&url=https%3A%2F%2Fwww.fanfiction.net%2Fs%2F13786600%2F1%2FIf-Convenient>: HTTP status code is not handled or not allowed\n",
      "2024-12-04 10:43:01 [scrapy.core.engine] DEBUG: Crawled (401) <GET https://proxy.scrapeops.io/v1/?api_key=&url=https%3A%2F%2Fwww.fanfiction.net%2Fs%2F13765198%2F1%2FThe-Christmas-Caper> (referer: https://steamdb.info/graph/)\n",
      "2024-12-04 10:43:01 [scrapy.spidermiddlewares.httperror] INFO: Ignoring response <401 https://proxy.scrapeops.io/v1/?api_key=&url=https%3A%2F%2Fwww.fanfiction.net%2Fs%2F13765198%2F1%2FThe-Christmas-Caper>: HTTP status code is not handled or not allowed\n",
      "2024-12-04 10:43:02 [scrapy.core.engine] DEBUG: Crawled (401) <GET https://proxy.scrapeops.io/v1/?api_key=&url=https%3A%2F%2Fproxy.scrapeops.io%2Fv1%2F%3Fapi_key%3D%26url%3Dhttps%253A%2F%2Fwww.fanfiction.net%2Fs%2F12681450%2F2%2FA-New-life> (referer: https://steamdb.info/graph/)\n",
      "2024-12-04 10:43:02 [scrapy.spidermiddlewares.httperror] INFO: Ignoring response <401 https://proxy.scrapeops.io/v1/?api_key=&url=https%3A%2F%2Fproxy.scrapeops.io%2Fv1%2F%3Fapi_key%3D%26url%3Dhttps%253A%2F%2Fwww.fanfiction.net%2Fs%2F12681450%2F2%2FA-New-life>: HTTP status code is not handled or not allowed\n",
      "2024-12-04 10:43:03 [scrapy.core.engine] DEBUG: Crawled (401) <GET https://proxy.scrapeops.io/v1/?api_key=&url=https%3A%2F%2Fwww.fanfiction.net%2Fs%2F13774932%2F1%2FA-Very-Molly-Christmas> (referer: https://steamdb.info/graph/)\n",
      "2024-12-04 10:43:03 [scrapy.spidermiddlewares.httperror] INFO: Ignoring response <401 https://proxy.scrapeops.io/v1/?api_key=&url=https%3A%2F%2Fwww.fanfiction.net%2Fs%2F13774932%2F1%2FA-Very-Molly-Christmas>: HTTP status code is not handled or not allowed\n",
      "2024-12-04 10:43:04 [scrapy.core.engine] DEBUG: Crawled (401) <GET https://proxy.scrapeops.io/v1/?api_key=&url=https%3A%2F%2Fproxy.scrapeops.io%2Fv1%2F%3Fapi_key%3D%26url%3Dhttps%253A%2F%2Fwww.fanfiction.net%2Fs%2F13799273%2F2%2FAnother-day> (referer: https://steamdb.info/graph/)\n",
      "2024-12-04 10:43:04 [scrapy.core.engine] DEBUG: Crawled (401) <GET https://proxy.scrapeops.io/v1/?api_key=&url=https%3A%2F%2Fproxy.scrapeops.io%2Fv1%2F%3Fapi_key%3D%26url%3Dhttps%253A%2F%2Fwww.fanfiction.net%2Fs%2F13799051%2F2%2FPlease-dont-be-dead> (referer: https://steamdb.info/graph/)\n",
      "2024-12-04 10:43:04 [scrapy.spidermiddlewares.httperror] INFO: Ignoring response <401 https://proxy.scrapeops.io/v1/?api_key=&url=https%3A%2F%2Fproxy.scrapeops.io%2Fv1%2F%3Fapi_key%3D%26url%3Dhttps%253A%2F%2Fwww.fanfiction.net%2Fs%2F13799273%2F2%2FAnother-day>: HTTP status code is not handled or not allowed\n",
      "2024-12-04 10:43:04 [scrapy.spidermiddlewares.httperror] INFO: Ignoring response <401 https://proxy.scrapeops.io/v1/?api_key=&url=https%3A%2F%2Fproxy.scrapeops.io%2Fv1%2F%3Fapi_key%3D%26url%3Dhttps%253A%2F%2Fwww.fanfiction.net%2Fs%2F13799051%2F2%2FPlease-dont-be-dead>: HTTP status code is not handled or not allowed\n",
      "2024-12-04 10:43:05 [scrapy.core.engine] DEBUG: Crawled (200) <GET https://proxy.scrapeops.io/v1/?api_key=&url=https%3A%2F%2Fwww.fanfiction.net%2Fs%2F13628784%2F1%2FThe-Adventures-of-Emma-Holmes> (referer: https://steamdb.info/graph/)\n"
     ]
    },
    {
     "name": "stdout",
     "output_type": "stream",
     "text": [
      "\n",
      "https://proxy.scrapeops.io/v1/?api_key=&url=https%3A%2F%2Fwww.fanfiction.net%2Fs%2F13628784%2F1%2FThe-Adventures-of-Emma-Holmes\n"
     ]
    },
    {
     "name": "stderr",
     "output_type": "stream",
     "text": [
      "2024-12-04 10:43:05 [scrapy.core.engine] DEBUG: Crawled (401) <GET https://proxy.scrapeops.io/v1/?api_key=&url=https%3A%2F%2Fwww.fanfiction.net%2Fs%2F13788540%2F1%2FWe-Can-Work-It-Out> (referer: https://steamdb.info/graph/)\n",
      "2024-12-04 10:43:05 [scrapy.spidermiddlewares.httperror] INFO: Ignoring response <401 https://proxy.scrapeops.io/v1/?api_key=&url=https%3A%2F%2Fwww.fanfiction.net%2Fs%2F13788540%2F1%2FWe-Can-Work-It-Out>: HTTP status code is not handled or not allowed\n",
      "2024-12-04 10:43:06 [scrapy.core.engine] DEBUG: Crawled (401) <GET https://proxy.scrapeops.io/v1/?api_key=&url=https%3A%2F%2Fwww.fanfiction.net%2Fs%2F13788556%2F1%2FAn-Unexpected-Gift> (referer: https://steamdb.info/graph/)\n",
      "2024-12-04 10:43:06 [scrapy.spidermiddlewares.httperror] INFO: Ignoring response <401 https://proxy.scrapeops.io/v1/?api_key=&url=https%3A%2F%2Fwww.fanfiction.net%2Fs%2F13788556%2F1%2FAn-Unexpected-Gift>: HTTP status code is not handled or not allowed\n",
      "2024-12-04 10:43:06 [scrapy.core.engine] DEBUG: Crawled (401) <GET https://proxy.scrapeops.io/v1/?api_key=&url=https%3A%2F%2Fproxy.scrapeops.io%2Fv1%2F%3Fapi_key%3D%26url%3Dhttps%253A%2F%2Fwww.fanfiction.net%2Fs%2F13799277%2F2%2FCoping> (referer: https://steamdb.info/graph/)\n",
      "2024-12-04 10:43:06 [scrapy.spidermiddlewares.httperror] INFO: Ignoring response <401 https://proxy.scrapeops.io/v1/?api_key=&url=https%3A%2F%2Fproxy.scrapeops.io%2Fv1%2F%3Fapi_key%3D%26url%3Dhttps%253A%2F%2Fwww.fanfiction.net%2Fs%2F13799277%2F2%2FCoping>: HTTP status code is not handled or not allowed\n",
      "2024-12-04 10:43:07 [scrapy.core.engine] DEBUG: Crawled (401) <GET https://proxy.scrapeops.io/v1/?api_key=&url=https%3A%2F%2Fwww.fanfiction.net%2Ftv%2FSherlock%2F%3F%26srt%3D1%26r%3D103%26p%3D33> (referer: https://steamdb.info/graph/)\n",
      "2024-12-04 10:43:07 [scrapy.spidermiddlewares.httperror] INFO: Ignoring response <401 https://proxy.scrapeops.io/v1/?api_key=&url=https%3A%2F%2Fwww.fanfiction.net%2Ftv%2FSherlock%2F%3F%26srt%3D1%26r%3D103%26p%3D33>: HTTP status code is not handled or not allowed\n",
      "2024-12-04 10:43:08 [scrapy.core.engine] DEBUG: Crawled (401) <GET https://proxy.scrapeops.io/v1/?api_key=&url=https%3A%2F%2Fproxy.scrapeops.io%2Fv1%2F%3Fapi_key%3D%26url%3Dhttps%253A%2F%2Fwww.fanfiction.net%2Fs%2F13399689%2F2%2FWhy-3-is-John-Watson-s-Least-Favourite-Number> (referer: https://steamdb.info/graph/)\n",
      "2024-12-04 10:43:08 [scrapy.spidermiddlewares.httperror] INFO: Ignoring response <401 https://proxy.scrapeops.io/v1/?api_key=&url=https%3A%2F%2Fproxy.scrapeops.io%2Fv1%2F%3Fapi_key%3D%26url%3Dhttps%253A%2F%2Fwww.fanfiction.net%2Fs%2F13399689%2F2%2FWhy-3-is-John-Watson-s-Least-Favourite-Number>: HTTP status code is not handled or not allowed\n",
      "2024-12-04 10:43:09 [scrapy.core.engine] DEBUG: Crawled (401) <GET https://proxy.scrapeops.io/v1/?api_key=&url=https%3A%2F%2Fproxy.scrapeops.io%2Fv1%2F%3Fapi_key%3D%26url%3Dhttps%253A%2F%2Fwww.fanfiction.net%2Fs%2F13759207%2F2%2FHolmes-Again> (referer: https://steamdb.info/graph/)\n",
      "2024-12-04 10:43:09 [scrapy.core.engine] DEBUG: Crawled (401) <GET https://proxy.scrapeops.io/v1/?api_key=&url=https%3A%2F%2Fproxy.scrapeops.io%2Fv1%2F%3Fapi_key%3D%26url%3Dhttps%253A%2F%2Fwww.fanfiction.net%2Fs%2F13758573%2F2%2FThe-Essence-of-Christmas> (referer: https://steamdb.info/graph/)\n",
      "2024-12-04 10:43:09 [scrapy.spidermiddlewares.httperror] INFO: Ignoring response <401 https://proxy.scrapeops.io/v1/?api_key=&url=https%3A%2F%2Fproxy.scrapeops.io%2Fv1%2F%3Fapi_key%3D%26url%3Dhttps%253A%2F%2Fwww.fanfiction.net%2Fs%2F13759207%2F2%2FHolmes-Again>: HTTP status code is not handled or not allowed\n",
      "2024-12-04 10:43:09 [scrapy.spidermiddlewares.httperror] INFO: Ignoring response <401 https://proxy.scrapeops.io/v1/?api_key=&url=https%3A%2F%2Fproxy.scrapeops.io%2Fv1%2F%3Fapi_key%3D%26url%3Dhttps%253A%2F%2Fwww.fanfiction.net%2Fs%2F13758573%2F2%2FThe-Essence-of-Christmas>: HTTP status code is not handled or not allowed\n",
      "2024-12-04 10:43:10 [scrapy.core.engine] DEBUG: Crawled (401) <GET https://proxy.scrapeops.io/v1/?api_key=&url=https%3A%2F%2Fwww.fanfiction.net%2Fs%2F13768049%2F1%2FThe-Married-Ones> (referer: https://steamdb.info/graph/)\n",
      "2024-12-04 10:43:10 [scrapy.spidermiddlewares.httperror] INFO: Ignoring response <401 https://proxy.scrapeops.io/v1/?api_key=&url=https%3A%2F%2Fwww.fanfiction.net%2Fs%2F13768049%2F1%2FThe-Married-Ones>: HTTP status code is not handled or not allowed\n",
      "2024-12-04 10:43:10 [scrapy.core.engine] DEBUG: Crawled (401) <GET https://proxy.scrapeops.io/v1/?api_key=&url=https%3A%2F%2Fproxy.scrapeops.io%2Fv1%2F%3Fapi_key%3D%26url%3Dhttps%253A%2F%2Fwww.fanfiction.net%2Fs%2F13782215%2F2%2FMycroft-s-Schooldays> (referer: https://steamdb.info/graph/)\n",
      "2024-12-04 10:43:10 [scrapy.spidermiddlewares.httperror] INFO: Ignoring response <401 https://proxy.scrapeops.io/v1/?api_key=&url=https%3A%2F%2Fproxy.scrapeops.io%2Fv1%2F%3Fapi_key%3D%26url%3Dhttps%253A%2F%2Fwww.fanfiction.net%2Fs%2F13782215%2F2%2FMycroft-s-Schooldays>: HTTP status code is not handled or not allowed\n",
      "2024-12-04 10:43:11 [scrapy.core.engine] DEBUG: Crawled (401) <GET https://proxy.scrapeops.io/v1/?api_key=&url=https%3A%2F%2Fwww.fanfiction.net%2Fs%2F13768425%2F1%2FI-Am-Real> (referer: https://steamdb.info/graph/)\n",
      "2024-12-04 10:43:11 [scrapy.spidermiddlewares.httperror] INFO: Ignoring response <401 https://proxy.scrapeops.io/v1/?api_key=&url=https%3A%2F%2Fwww.fanfiction.net%2Fs%2F13768425%2F1%2FI-Am-Real>: HTTP status code is not handled or not allowed\n",
      "2024-12-04 10:43:11 [scrapy.core.engine] DEBUG: Crawled (401) <GET https://proxy.scrapeops.io/v1/?api_key=&url=https%3A%2F%2Fwww.fanfiction.net%2Fs%2F13769519%2F1%2FThose-Things-the-Heart-Believes> (referer: https://steamdb.info/graph/)\n",
      "2024-12-04 10:43:11 [scrapy.spidermiddlewares.httperror] INFO: Ignoring response <401 https://proxy.scrapeops.io/v1/?api_key=&url=https%3A%2F%2Fwww.fanfiction.net%2Fs%2F13769519%2F1%2FThose-Things-the-Heart-Believes>: HTTP status code is not handled or not allowed\n",
      "2024-12-04 10:43:12 [scrapy.core.engine] DEBUG: Crawled (401) <GET https://proxy.scrapeops.io/v1/?api_key=&url=https%3A%2F%2Fwww.fanfiction.net%2Fs%2F13769053%2F1%2FIch-will-keine-perfekte-Liebe-ich-will-deine> (referer: https://steamdb.info/graph/)\n",
      "2024-12-04 10:43:12 [scrapy.spidermiddlewares.httperror] INFO: Ignoring response <401 https://proxy.scrapeops.io/v1/?api_key=&url=https%3A%2F%2Fwww.fanfiction.net%2Fs%2F13769053%2F1%2FIch-will-keine-perfekte-Liebe-ich-will-deine>: HTTP status code is not handled or not allowed\n",
      "2024-12-04 10:43:13 [scrapy.core.engine] DEBUG: Crawled (401) <GET https://proxy.scrapeops.io/v1/?api_key=&url=https%3A%2F%2Fwww.fanfiction.net%2Fs%2F13770079%2F1%2FI-know-what-you-two-could-become> (referer: https://steamdb.info/graph/)\n",
      "2024-12-04 10:43:13 [scrapy.spidermiddlewares.httperror] INFO: Ignoring response <401 https://proxy.scrapeops.io/v1/?api_key=&url=https%3A%2F%2Fwww.fanfiction.net%2Fs%2F13770079%2F1%2FI-know-what-you-two-could-become>: HTTP status code is not handled or not allowed\n",
      "2024-12-04 10:43:14 [scrapy.core.engine] DEBUG: Crawled (401) <GET https://proxy.scrapeops.io/v1/?api_key=&url=https%3A%2F%2Fwww.fanfiction.net%2Fs%2F13770552%2F1%2FPromenade-Nocturne> (referer: https://steamdb.info/graph/)\n",
      "2024-12-04 10:43:14 [scrapy.core.engine] DEBUG: Crawled (401) <GET https://proxy.scrapeops.io/v1/?api_key=&url=https%3A%2F%2Fwww.fanfiction.net%2Fs%2F13770663%2F1%2FCompassionate> (referer: https://steamdb.info/graph/)\n",
      "2024-12-04 10:43:14 [scrapy.spidermiddlewares.httperror] INFO: Ignoring response <401 https://proxy.scrapeops.io/v1/?api_key=&url=https%3A%2F%2Fwww.fanfiction.net%2Fs%2F13770552%2F1%2FPromenade-Nocturne>: HTTP status code is not handled or not allowed\n",
      "2024-12-04 10:43:14 [scrapy.spidermiddlewares.httperror] INFO: Ignoring response <401 https://proxy.scrapeops.io/v1/?api_key=&url=https%3A%2F%2Fwww.fanfiction.net%2Fs%2F13770663%2F1%2FCompassionate>: HTTP status code is not handled or not allowed\n",
      "2024-12-04 10:43:15 [scrapy.core.engine] DEBUG: Crawled (401) <GET https://proxy.scrapeops.io/v1/?api_key=&url=https%3A%2F%2Fwww.fanfiction.net%2Fs%2F13770692%2F1%2FChristmas-at-the-Holmes-residence> (referer: https://steamdb.info/graph/)\n",
      "2024-12-04 10:43:15 [scrapy.spidermiddlewares.httperror] INFO: Ignoring response <401 https://proxy.scrapeops.io/v1/?api_key=&url=https%3A%2F%2Fwww.fanfiction.net%2Fs%2F13770692%2F1%2FChristmas-at-the-Holmes-residence>: HTTP status code is not handled or not allowed\n",
      "2024-12-04 10:43:16 [scrapy.core.engine] DEBUG: Crawled (401) <GET https://proxy.scrapeops.io/v1/?api_key=&url=https%3A%2F%2Fproxy.scrapeops.io%2Fv1%2F%3Fapi_key%3D%26url%3Dhttps%253A%2F%2Fwww.fanfiction.net%2Fs%2F13628784%2F2%2FThe-Adventures-of-Emma-Holmes> (referer: https://steamdb.info/graph/)\n",
      "2024-12-04 10:43:16 [scrapy.spidermiddlewares.httperror] INFO: Ignoring response <401 https://proxy.scrapeops.io/v1/?api_key=&url=https%3A%2F%2Fproxy.scrapeops.io%2Fv1%2F%3Fapi_key%3D%26url%3Dhttps%253A%2F%2Fwww.fanfiction.net%2Fs%2F13628784%2F2%2FThe-Adventures-of-Emma-Holmes>: HTTP status code is not handled or not allowed\n",
      "2024-12-04 10:43:16 [scrapy.core.engine] DEBUG: Crawled (401) <GET https://proxy.scrapeops.io/v1/?api_key=&url=https%3A%2F%2Fwww.fanfiction.net%2Fs%2F13771405%2F1%2FThe-Way-You-Look-Tonight> (referer: https://steamdb.info/graph/)\n",
      "2024-12-04 10:43:16 [scrapy.spidermiddlewares.httperror] INFO: Ignoring response <401 https://proxy.scrapeops.io/v1/?api_key=&url=https%3A%2F%2Fwww.fanfiction.net%2Fs%2F13771405%2F1%2FThe-Way-You-Look-Tonight>: HTTP status code is not handled or not allowed\n",
      "2024-12-04 10:43:16 [scrapy.core.engine] DEBUG: Crawled (401) <GET https://proxy.scrapeops.io/v1/?api_key=&url=https%3A%2F%2Fwww.fanfiction.net%2Fs%2F13771935%2F1%2FAzure-Threads> (referer: https://steamdb.info/graph/)\n",
      "2024-12-04 10:43:17 [scrapy.spidermiddlewares.httperror] INFO: Ignoring response <401 https://proxy.scrapeops.io/v1/?api_key=&url=https%3A%2F%2Fwww.fanfiction.net%2Fs%2F13771935%2F1%2FAzure-Threads>: HTTP status code is not handled or not allowed\n",
      "2024-12-04 10:43:17 [scrapy.core.engine] DEBUG: Crawled (401) <GET https://proxy.scrapeops.io/v1/?api_key=&url=https%3A%2F%2Fwww.fanfiction.net%2Fs%2F13772345%2F1%2FWhat-Could-Have-Become> (referer: https://steamdb.info/graph/)\n",
      "2024-12-04 10:43:17 [scrapy.spidermiddlewares.httperror] INFO: Ignoring response <401 https://proxy.scrapeops.io/v1/?api_key=&url=https%3A%2F%2Fwww.fanfiction.net%2Fs%2F13772345%2F1%2FWhat-Could-Have-Become>: HTTP status code is not handled or not allowed\n",
      "2024-12-04 10:43:18 [scrapy.core.engine] DEBUG: Crawled (401) <GET https://proxy.scrapeops.io/v1/?api_key=&url=https%3A%2F%2Fwww.fanfiction.net%2Fs%2F13773035%2F1%2FBrother-Love> (referer: https://steamdb.info/graph/)\n",
      "2024-12-04 10:43:18 [scrapy.spidermiddlewares.httperror] INFO: Ignoring response <401 https://proxy.scrapeops.io/v1/?api_key=&url=https%3A%2F%2Fwww.fanfiction.net%2Fs%2F13773035%2F1%2FBrother-Love>: HTTP status code is not handled or not allowed\n",
      "2024-12-04 10:43:19 [scrapy.core.engine] DEBUG: Crawled (401) <GET https://proxy.scrapeops.io/v1/?api_key=&url=https%3A%2F%2Fwww.fanfiction.net%2Fs%2F13773841%2F1%2FI-think-we-re-idiots> (referer: https://steamdb.info/graph/)\n",
      "2024-12-04 10:43:19 [scrapy.core.engine] DEBUG: Crawled (401) <GET https://proxy.scrapeops.io/v1/?api_key=&url=https%3A%2F%2Fwww.fanfiction.net%2Fs%2F13773819%2F1%2FViolin-night> (referer: https://steamdb.info/graph/)\n",
      "2024-12-04 10:43:19 [scrapy.spidermiddlewares.httperror] INFO: Ignoring response <401 https://proxy.scrapeops.io/v1/?api_key=&url=https%3A%2F%2Fwww.fanfiction.net%2Fs%2F13773841%2F1%2FI-think-we-re-idiots>: HTTP status code is not handled or not allowed\n",
      "2024-12-04 10:43:19 [scrapy.spidermiddlewares.httperror] INFO: Ignoring response <401 https://proxy.scrapeops.io/v1/?api_key=&url=https%3A%2F%2Fwww.fanfiction.net%2Fs%2F13773819%2F1%2FViolin-night>: HTTP status code is not handled or not allowed\n",
      "2024-12-04 10:43:20 [scrapy.core.engine] DEBUG: Crawled (401) <GET https://proxy.scrapeops.io/v1/?api_key=&url=https%3A%2F%2Fwww.fanfiction.net%2Fs%2F13737665%2F1%2FMessages> (referer: https://steamdb.info/graph/)\n",
      "2024-12-04 10:43:20 [scrapy.spidermiddlewares.httperror] INFO: Ignoring response <401 https://proxy.scrapeops.io/v1/?api_key=&url=https%3A%2F%2Fwww.fanfiction.net%2Fs%2F13737665%2F1%2FMessages>: HTTP status code is not handled or not allowed\n",
      "2024-12-04 10:43:21 [scrapy.core.engine] DEBUG: Crawled (401) <GET https://proxy.scrapeops.io/v1/?api_key=&url=https%3A%2F%2Fwww.fanfiction.net%2Fs%2F13775745%2F1%2FI-m-in-love-with-you-too> (referer: https://steamdb.info/graph/)\n",
      "2024-12-04 10:43:21 [scrapy.spidermiddlewares.httperror] INFO: Ignoring response <401 https://proxy.scrapeops.io/v1/?api_key=&url=https%3A%2F%2Fwww.fanfiction.net%2Fs%2F13775745%2F1%2FI-m-in-love-with-you-too>: HTTP status code is not handled or not allowed\n",
      "2024-12-04 10:43:21 [scrapy.core.engine] DEBUG: Crawled (401) <GET https://proxy.scrapeops.io/v1/?api_key=&url=https%3A%2F%2Fwww.fanfiction.net%2Fs%2F13702089%2F1%2FSi-Caer-No-Te-Mata> (referer: https://steamdb.info/graph/)\n",
      "2024-12-04 10:43:21 [scrapy.spidermiddlewares.httperror] INFO: Ignoring response <401 https://proxy.scrapeops.io/v1/?api_key=&url=https%3A%2F%2Fwww.fanfiction.net%2Fs%2F13702089%2F1%2FSi-Caer-No-Te-Mata>: HTTP status code is not handled or not allowed\n",
      "2024-12-04 10:43:22 [scrapy.core.engine] DEBUG: Crawled (401) <GET https://proxy.scrapeops.io/v1/?api_key=&url=https%3A%2F%2Fwww.fanfiction.net%2Fs%2F13776633%2F1%2FCommon-Denominator> (referer: https://steamdb.info/graph/)\n",
      "2024-12-04 10:43:22 [scrapy.spidermiddlewares.httperror] INFO: Ignoring response <401 https://proxy.scrapeops.io/v1/?api_key=&url=https%3A%2F%2Fwww.fanfiction.net%2Fs%2F13776633%2F1%2FCommon-Denominator>: HTTP status code is not handled or not allowed\n",
      "2024-12-04 10:43:22 [scrapy.core.engine] DEBUG: Crawled (401) <GET https://proxy.scrapeops.io/v1/?api_key=&url=https%3A%2F%2Fwww.fanfiction.net%2Fs%2F13776930%2F1%2FIf-Sherlock-Had-a-Teenage-Daughter> (referer: https://steamdb.info/graph/)\n",
      "2024-12-04 10:43:22 [scrapy.spidermiddlewares.httperror] INFO: Ignoring response <401 https://proxy.scrapeops.io/v1/?api_key=&url=https%3A%2F%2Fwww.fanfiction.net%2Fs%2F13776930%2F1%2FIf-Sherlock-Had-a-Teenage-Daughter>: HTTP status code is not handled or not allowed\n",
      "2024-12-04 10:43:23 [scrapy.core.engine] DEBUG: Crawled (401) <GET https://proxy.scrapeops.io/v1/?api_key=&url=https%3A%2F%2Fwww.fanfiction.net%2Fs%2F13437193%2F1%2FLost-and-Found> (referer: https://steamdb.info/graph/)\n",
      "2024-12-04 10:43:23 [scrapy.spidermiddlewares.httperror] INFO: Ignoring response <401 https://proxy.scrapeops.io/v1/?api_key=&url=https%3A%2F%2Fwww.fanfiction.net%2Fs%2F13437193%2F1%2FLost-and-Found>: HTTP status code is not handled or not allowed\n",
      "2024-12-04 10:43:24 [scrapy.core.engine] DEBUG: Crawled (401) <GET https://proxy.scrapeops.io/v1/?api_key=&url=https%3A%2F%2Fwww.fanfiction.net%2Fs%2F13757282%2F1%2FMy-Heart-is-Still> (referer: https://steamdb.info/graph/)\n",
      "2024-12-04 10:43:24 [scrapy.core.engine] DEBUG: Crawled (401) <GET https://proxy.scrapeops.io/v1/?api_key=&url=https%3A%2F%2Fwww.fanfiction.net%2Fs%2F13778930%2F1%2F%25C3%2580-l-ancienne> (referer: https://steamdb.info/graph/)\n",
      "2024-12-04 10:43:25 [scrapy.spidermiddlewares.httperror] INFO: Ignoring response <401 https://proxy.scrapeops.io/v1/?api_key=&url=https%3A%2F%2Fwww.fanfiction.net%2Fs%2F13757282%2F1%2FMy-Heart-is-Still>: HTTP status code is not handled or not allowed\n",
      "2024-12-04 10:43:25 [scrapy.spidermiddlewares.httperror] INFO: Ignoring response <401 https://proxy.scrapeops.io/v1/?api_key=&url=https%3A%2F%2Fwww.fanfiction.net%2Fs%2F13778930%2F1%2F%25C3%2580-l-ancienne>: HTTP status code is not handled or not allowed\n",
      "2024-12-04 10:43:25 [scrapy.core.engine] DEBUG: Crawled (401) <GET https://proxy.scrapeops.io/v1/?api_key=&url=https%3A%2F%2Fwww.fanfiction.net%2Fs%2F13779311%2F1%2FI-ll-Convince-You-Miss-Hooper> (referer: https://steamdb.info/graph/)\n",
      "2024-12-04 10:43:26 [scrapy.spidermiddlewares.httperror] INFO: Ignoring response <401 https://proxy.scrapeops.io/v1/?api_key=&url=https%3A%2F%2Fwww.fanfiction.net%2Fs%2F13779311%2F1%2FI-ll-Convince-You-Miss-Hooper>: HTTP status code is not handled or not allowed\n",
      "2024-12-04 10:43:26 [scrapy.core.engine] DEBUG: Crawled (401) <GET https://proxy.scrapeops.io/v1/?api_key=&url=https%3A%2F%2Fwww.fanfiction.net%2Fs%2F13591481%2F1%2FBoj%25C4%2599-si%25C4%2599-Mycroft> (referer: https://steamdb.info/graph/)\n",
      "2024-12-04 10:43:26 [scrapy.spidermiddlewares.httperror] INFO: Ignoring response <401 https://proxy.scrapeops.io/v1/?api_key=&url=https%3A%2F%2Fwww.fanfiction.net%2Fs%2F13591481%2F1%2FBoj%25C4%2599-si%25C4%2599-Mycroft>: HTTP status code is not handled or not allowed\n",
      "2024-12-04 10:43:26 [scrapy.core.engine] DEBUG: Crawled (401) <GET https://proxy.scrapeops.io/v1/?api_key=&url=https%3A%2F%2Fwww.fanfiction.net%2Fs%2F13780788%2F1%2FDiscovery> (referer: https://steamdb.info/graph/)\n",
      "2024-12-04 10:43:26 [scrapy.spidermiddlewares.httperror] INFO: Ignoring response <401 https://proxy.scrapeops.io/v1/?api_key=&url=https%3A%2F%2Fwww.fanfiction.net%2Fs%2F13780788%2F1%2FDiscovery>: HTTP status code is not handled or not allowed\n",
      "2024-12-04 10:43:27 [scrapy.core.engine] DEBUG: Crawled (401) <GET https://proxy.scrapeops.io/v1/?api_key=&url=https%3A%2F%2Fwww.fanfiction.net%2Fs%2F13788657%2F1%2FSome-Enchanted-Evening> (referer: https://steamdb.info/graph/)\n",
      "2024-12-04 10:43:27 [scrapy.spidermiddlewares.httperror] INFO: Ignoring response <401 https://proxy.scrapeops.io/v1/?api_key=&url=https%3A%2F%2Fwww.fanfiction.net%2Fs%2F13788657%2F1%2FSome-Enchanted-Evening>: HTTP status code is not handled or not allowed\n",
      "2024-12-04 10:43:28 [scrapy.core.engine] DEBUG: Crawled (401) <GET https://proxy.scrapeops.io/v1/?api_key=&url=https%3A%2F%2Fwww.fanfiction.net%2Fs%2F13789479%2F1%2FShattered-Glass> (referer: https://steamdb.info/graph/)\n",
      "2024-12-04 10:43:28 [scrapy.spidermiddlewares.httperror] INFO: Ignoring response <401 https://proxy.scrapeops.io/v1/?api_key=&url=https%3A%2F%2Fwww.fanfiction.net%2Fs%2F13789479%2F1%2FShattered-Glass>: HTTP status code is not handled or not allowed\n",
      "2024-12-04 10:43:28 [scrapy.core.engine] DEBUG: Crawled (401) <GET https://proxy.scrapeops.io/v1/?api_key=&url=https%3A%2F%2Fwww.fanfiction.net%2Fs%2F13789618%2F1%2FOpening-the-Door> (referer: https://steamdb.info/graph/)\n",
      "2024-12-04 10:43:28 [scrapy.spidermiddlewares.httperror] INFO: Ignoring response <401 https://proxy.scrapeops.io/v1/?api_key=&url=https%3A%2F%2Fwww.fanfiction.net%2Fs%2F13789618%2F1%2FOpening-the-Door>: HTTP status code is not handled or not allowed\n",
      "2024-12-04 10:43:30 [scrapy.core.engine] DEBUG: Crawled (401) <GET https://proxy.scrapeops.io/v1/?api_key=&url=https%3A%2F%2Fwww.fanfiction.net%2Fs%2F13746188%2F1%2FSherlock-Solves-a-Boring-Case> (referer: https://steamdb.info/graph/)\n",
      "2024-12-04 10:43:30 [scrapy.core.engine] DEBUG: Crawled (401) <GET https://proxy.scrapeops.io/v1/?api_key=&url=https%3A%2F%2Fwww.fanfiction.net%2Fs%2F13790029%2F1%2FI-Love-You-John> (referer: https://steamdb.info/graph/)\n",
      "2024-12-04 10:43:30 [scrapy.spidermiddlewares.httperror] INFO: Ignoring response <401 https://proxy.scrapeops.io/v1/?api_key=&url=https%3A%2F%2Fwww.fanfiction.net%2Fs%2F13746188%2F1%2FSherlock-Solves-a-Boring-Case>: HTTP status code is not handled or not allowed\n",
      "2024-12-04 10:43:30 [scrapy.spidermiddlewares.httperror] INFO: Ignoring response <401 https://proxy.scrapeops.io/v1/?api_key=&url=https%3A%2F%2Fwww.fanfiction.net%2Fs%2F13790029%2F1%2FI-Love-You-John>: HTTP status code is not handled or not allowed\n",
      "2024-12-04 10:43:31 [scrapy.core.engine] DEBUG: Crawled (401) <GET https://proxy.scrapeops.io/v1/?api_key=&url=https%3A%2F%2Fwww.fanfiction.net%2Fs%2F13779883%2F1%2FUne-enqu%25C3%25AAte-pour-le-r%25C3%25A9veillon> (referer: https://steamdb.info/graph/)\n",
      "2024-12-04 10:43:31 [scrapy.spidermiddlewares.httperror] INFO: Ignoring response <401 https://proxy.scrapeops.io/v1/?api_key=&url=https%3A%2F%2Fwww.fanfiction.net%2Fs%2F13779883%2F1%2FUne-enqu%25C3%25AAte-pour-le-r%25C3%25A9veillon>: HTTP status code is not handled or not allowed\n",
      "2024-12-04 10:43:31 [scrapy.core.engine] DEBUG: Crawled (401) <GET https://proxy.scrapeops.io/v1/?api_key=&url=https%3A%2F%2Fwww.fanfiction.net%2Fs%2F13777406%2F1%2FChristmas-During-COVID> (referer: https://steamdb.info/graph/)\n",
      "2024-12-04 10:43:31 [scrapy.spidermiddlewares.httperror] INFO: Ignoring response <401 https://proxy.scrapeops.io/v1/?api_key=&url=https%3A%2F%2Fwww.fanfiction.net%2Fs%2F13777406%2F1%2FChristmas-During-COVID>: HTTP status code is not handled or not allowed\n",
      "2024-12-04 10:43:31 [scrapy.core.engine] DEBUG: Crawled (401) <GET https://proxy.scrapeops.io/v1/?api_key=&url=https%3A%2F%2Fwww.fanfiction.net%2Fs%2F13791832%2F1%2FWhy-is-Molly-important> (referer: https://steamdb.info/graph/)\n",
      "2024-12-04 10:43:32 [scrapy.spidermiddlewares.httperror] INFO: Ignoring response <401 https://proxy.scrapeops.io/v1/?api_key=&url=https%3A%2F%2Fwww.fanfiction.net%2Fs%2F13791832%2F1%2FWhy-is-Molly-important>: HTTP status code is not handled or not allowed\n",
      "2024-12-04 10:43:32 [scrapy.core.engine] DEBUG: Crawled (401) <GET https://proxy.scrapeops.io/v1/?api_key=&url=https%3A%2F%2Fwww.fanfiction.net%2Fs%2F13792848%2F1%2FBien-sous-tout-rapport> (referer: https://steamdb.info/graph/)\n",
      "2024-12-04 10:43:32 [scrapy.spidermiddlewares.httperror] INFO: Ignoring response <401 https://proxy.scrapeops.io/v1/?api_key=&url=https%3A%2F%2Fwww.fanfiction.net%2Fs%2F13792848%2F1%2FBien-sous-tout-rapport>: HTTP status code is not handled or not allowed\n",
      "2024-12-04 10:43:33 [scrapy.core.engine] DEBUG: Crawled (401) <GET https://proxy.scrapeops.io/v1/?api_key=&url=https%3A%2F%2Fwww.fanfiction.net%2Fs%2F12449719%2F1%2FA-Different-Story> (referer: https://steamdb.info/graph/)\n",
      "2024-12-04 10:43:33 [scrapy.spidermiddlewares.httperror] INFO: Ignoring response <401 https://proxy.scrapeops.io/v1/?api_key=&url=https%3A%2F%2Fwww.fanfiction.net%2Fs%2F12449719%2F1%2FA-Different-Story>: HTTP status code is not handled or not allowed\n",
      "2024-12-04 10:43:33 [scrapy.core.engine] DEBUG: Crawled (401) <GET https://proxy.scrapeops.io/v1/?api_key=&url=https%3A%2F%2Fwww.fanfiction.net%2Fs%2F13794471%2F1%2FLa-coleccionista-de-secretos> (referer: https://steamdb.info/graph/)\n",
      "2024-12-04 10:43:33 [scrapy.spidermiddlewares.httperror] INFO: Ignoring response <401 https://proxy.scrapeops.io/v1/?api_key=&url=https%3A%2F%2Fwww.fanfiction.net%2Fs%2F13794471%2F1%2FLa-coleccionista-de-secretos>: HTTP status code is not handled or not allowed\n",
      "2024-12-04 10:43:35 [scrapy.core.engine] DEBUG: Crawled (401) <GET https://proxy.scrapeops.io/v1/?api_key=&url=https%3A%2F%2Fwww.fanfiction.net%2Fs%2F13795775%2F1%2FThe-Road-Ahead> (referer: https://steamdb.info/graph/)\n",
      "2024-12-04 10:43:35 [scrapy.core.engine] DEBUG: Crawled (401) <GET https://proxy.scrapeops.io/v1/?api_key=&url=https%3A%2F%2Fwww.fanfiction.net%2Fs%2F13795777%2F1%2FAfterglow> (referer: https://steamdb.info/graph/)\n",
      "2024-12-04 10:43:35 [scrapy.spidermiddlewares.httperror] INFO: Ignoring response <401 https://proxy.scrapeops.io/v1/?api_key=&url=https%3A%2F%2Fwww.fanfiction.net%2Fs%2F13795775%2F1%2FThe-Road-Ahead>: HTTP status code is not handled or not allowed\n",
      "2024-12-04 10:43:35 [scrapy.spidermiddlewares.httperror] INFO: Ignoring response <401 https://proxy.scrapeops.io/v1/?api_key=&url=https%3A%2F%2Fwww.fanfiction.net%2Fs%2F13795777%2F1%2FAfterglow>: HTTP status code is not handled or not allowed\n",
      "2024-12-04 10:43:36 [scrapy.core.engine] DEBUG: Crawled (401) <GET https://proxy.scrapeops.io/v1/?api_key=&url=https%3A%2F%2Fwww.fanfiction.net%2Fs%2F13799455%2F1%2FColores> (referer: https://steamdb.info/graph/)\n",
      "2024-12-04 10:43:36 [scrapy.spidermiddlewares.httperror] INFO: Ignoring response <401 https://proxy.scrapeops.io/v1/?api_key=&url=https%3A%2F%2Fwww.fanfiction.net%2Fs%2F13799455%2F1%2FColores>: HTTP status code is not handled or not allowed\n",
      "2024-12-04 10:43:36 [scrapy.core.engine] DEBUG: Crawled (401) <GET https://proxy.scrapeops.io/v1/?api_key=&url=https%3A%2F%2Fwww.fanfiction.net%2Fs%2F13781557%2F1%2FThe-lying-detective-alternative-story> (referer: https://steamdb.info/graph/)\n",
      "2024-12-04 10:43:36 [scrapy.spidermiddlewares.httperror] INFO: Ignoring response <401 https://proxy.scrapeops.io/v1/?api_key=&url=https%3A%2F%2Fwww.fanfiction.net%2Fs%2F13781557%2F1%2FThe-lying-detective-alternative-story>: HTTP status code is not handled or not allowed\n",
      "2024-12-04 10:43:37 [scrapy.core.engine] DEBUG: Crawled (401) <GET https://proxy.scrapeops.io/v1/?api_key=&url=https%3A%2F%2Fwww.fanfiction.net%2Fs%2F13799664%2F1%2FTwo-Can-Play-That-Game> (referer: https://steamdb.info/graph/)\n",
      "2024-12-04 10:43:37 [scrapy.spidermiddlewares.httperror] INFO: Ignoring response <401 https://proxy.scrapeops.io/v1/?api_key=&url=https%3A%2F%2Fwww.fanfiction.net%2Fs%2F13799664%2F1%2FTwo-Can-Play-That-Game>: HTTP status code is not handled or not allowed\n",
      "2024-12-04 10:43:37 [scrapy.core.engine] DEBUG: Crawled (401) <GET https://proxy.scrapeops.io/v1/?api_key=&url=https%3A%2F%2Fwww.fanfiction.net%2Fs%2F13799851%2F1%2FJust-Say-It> (referer: https://steamdb.info/graph/)\n",
      "2024-12-04 10:43:37 [scrapy.spidermiddlewares.httperror] INFO: Ignoring response <401 https://proxy.scrapeops.io/v1/?api_key=&url=https%3A%2F%2Fwww.fanfiction.net%2Fs%2F13799851%2F1%2FJust-Say-It>: HTTP status code is not handled or not allowed\n",
      "2024-12-04 10:43:38 [scrapy.core.engine] DEBUG: Crawled (401) <GET https://proxy.scrapeops.io/v1/?api_key=&url=https%3A%2F%2Fwww.fanfiction.net%2Fs%2F12048512%2F1%2FA-i-mer-%25C3%25A0-en-pleurer> (referer: https://steamdb.info/graph/)\n",
      "2024-12-04 10:43:38 [scrapy.spidermiddlewares.httperror] INFO: Ignoring response <401 https://proxy.scrapeops.io/v1/?api_key=&url=https%3A%2F%2Fwww.fanfiction.net%2Fs%2F12048512%2F1%2FA-i-mer-%25C3%25A0-en-pleurer>: HTTP status code is not handled or not allowed\n",
      "2024-12-04 10:43:38 [scrapy.core.engine] DEBUG: Crawled (401) <GET https://proxy.scrapeops.io/v1/?api_key=&url=https%3A%2F%2Fwww.fanfiction.net%2Fs%2F13801095%2F1%2FWhat-is-your-Problem> (referer: https://steamdb.info/graph/)\n",
      "2024-12-04 10:43:38 [scrapy.spidermiddlewares.httperror] INFO: Ignoring response <401 https://proxy.scrapeops.io/v1/?api_key=&url=https%3A%2F%2Fwww.fanfiction.net%2Fs%2F13801095%2F1%2FWhat-is-your-Problem>: HTTP status code is not handled or not allowed\n",
      "2024-12-04 10:43:40 [scrapy.core.engine] DEBUG: Crawled (401) <GET https://proxy.scrapeops.io/v1/?api_key=&url=https%3A%2F%2Fwww.fanfiction.net%2Fs%2F8057826%2F1%2FThe-Aftermath> (referer: https://steamdb.info/graph/)\n",
      "2024-12-04 10:43:40 [scrapy.core.engine] DEBUG: Crawled (401) <GET https://proxy.scrapeops.io/v1/?api_key=&url=https%3A%2F%2Fwww.fanfiction.net%2Fs%2F13801857%2F1%2FSecurity-Clearance> (referer: https://steamdb.info/graph/)\n",
      "2024-12-04 10:43:40 [scrapy.spidermiddlewares.httperror] INFO: Ignoring response <401 https://proxy.scrapeops.io/v1/?api_key=&url=https%3A%2F%2Fwww.fanfiction.net%2Fs%2F8057826%2F1%2FThe-Aftermath>: HTTP status code is not handled or not allowed\n",
      "2024-12-04 10:43:40 [scrapy.spidermiddlewares.httperror] INFO: Ignoring response <401 https://proxy.scrapeops.io/v1/?api_key=&url=https%3A%2F%2Fwww.fanfiction.net%2Fs%2F13801857%2F1%2FSecurity-Clearance>: HTTP status code is not handled or not allowed\n",
      "2024-12-04 10:43:41 [scrapy.core.engine] DEBUG: Crawled (401) <GET https://proxy.scrapeops.io/v1/?api_key=&url=https%3A%2F%2Fwww.fanfiction.net%2Fs%2F13802637%2F1%2FGeneral-Watson> (referer: https://steamdb.info/graph/)\n",
      "2024-12-04 10:43:41 [scrapy.spidermiddlewares.httperror] INFO: Ignoring response <401 https://proxy.scrapeops.io/v1/?api_key=&url=https%3A%2F%2Fwww.fanfiction.net%2Fs%2F13802637%2F1%2FGeneral-Watson>: HTTP status code is not handled or not allowed\n",
      "2024-12-04 10:43:41 [scrapy.core.engine] DEBUG: Crawled (401) <GET https://proxy.scrapeops.io/v1/?api_key=&url=https%3A%2F%2Fwww.fanfiction.net%2Fs%2F13802856%2F1%2FJohn-Needs-A-Hug> (referer: https://steamdb.info/graph/)\n",
      "2024-12-04 10:43:41 [scrapy.spidermiddlewares.httperror] INFO: Ignoring response <401 https://proxy.scrapeops.io/v1/?api_key=&url=https%3A%2F%2Fwww.fanfiction.net%2Fs%2F13802856%2F1%2FJohn-Needs-A-Hug>: HTTP status code is not handled or not allowed\n",
      "2024-12-04 10:43:42 [scrapy.core.engine] DEBUG: Crawled (401) <GET https://proxy.scrapeops.io/v1/?api_key=&url=https%3A%2F%2Fwww.fanfiction.net%2Fs%2F13802898%2F1%2FJohn-Watson-Bomb-Disfusal> (referer: https://steamdb.info/graph/)\n",
      "2024-12-04 10:43:42 [scrapy.spidermiddlewares.httperror] INFO: Ignoring response <401 https://proxy.scrapeops.io/v1/?api_key=&url=https%3A%2F%2Fwww.fanfiction.net%2Fs%2F13802898%2F1%2FJohn-Watson-Bomb-Disfusal>: HTTP status code is not handled or not allowed\n",
      "2024-12-04 10:43:42 [scrapy.core.engine] DEBUG: Crawled (401) <GET https://proxy.scrapeops.io/v1/?api_key=&url=https%3A%2F%2Fwww.fanfiction.net%2Fs%2F13791652%2F1%2FJe-m-inqui%25C3%25A8te> (referer: https://steamdb.info/graph/)\n",
      "2024-12-04 10:43:42 [scrapy.spidermiddlewares.httperror] INFO: Ignoring response <401 https://proxy.scrapeops.io/v1/?api_key=&url=https%3A%2F%2Fwww.fanfiction.net%2Fs%2F13791652%2F1%2FJe-m-inqui%25C3%25A8te>: HTTP status code is not handled or not allowed\n",
      "2024-12-04 10:43:43 [scrapy.core.engine] DEBUG: Crawled (401) <GET https://proxy.scrapeops.io/v1/?api_key=&url=https%3A%2F%2Fwww.fanfiction.net%2Fs%2F13803321%2F1%2FNo-Time-Like-The-Present> (referer: https://steamdb.info/graph/)\n",
      "2024-12-04 10:43:43 [scrapy.spidermiddlewares.httperror] INFO: Ignoring response <401 https://proxy.scrapeops.io/v1/?api_key=&url=https%3A%2F%2Fwww.fanfiction.net%2Fs%2F13803321%2F1%2FNo-Time-Like-The-Present>: HTTP status code is not handled or not allowed\n",
      "2024-12-04 10:43:44 [scrapy.core.engine] DEBUG: Crawled (401) <GET https://proxy.scrapeops.io/v1/?api_key=&url=https%3A%2F%2Fwww.fanfiction.net%2Fs%2F13803696%2F1%2FBury-You-Once> (referer: https://steamdb.info/graph/)\n",
      "2024-12-04 10:43:44 [scrapy.spidermiddlewares.httperror] INFO: Ignoring response <401 https://proxy.scrapeops.io/v1/?api_key=&url=https%3A%2F%2Fwww.fanfiction.net%2Fs%2F13803696%2F1%2FBury-You-Once>: HTTP status code is not handled or not allowed\n",
      "2024-12-04 10:43:45 [scrapy.core.engine] DEBUG: Crawled (401) <GET https://proxy.scrapeops.io/v1/?api_key=&url=https%3A%2F%2Fwww.fanfiction.net%2Fs%2F13808673%2F1%2FI-Could-Have-Then> (referer: https://steamdb.info/graph/)\n",
      "2024-12-04 10:43:45 [scrapy.core.engine] DEBUG: Crawled (401) <GET https://proxy.scrapeops.io/v1/?api_key=&url=https%3A%2F%2Fwww.fanfiction.net%2Fs%2F13807714%2F1%2FSee-and-Observe> (referer: https://steamdb.info/graph/)\n",
      "2024-12-04 10:43:45 [scrapy.spidermiddlewares.httperror] INFO: Ignoring response <401 https://proxy.scrapeops.io/v1/?api_key=&url=https%3A%2F%2Fwww.fanfiction.net%2Fs%2F13808673%2F1%2FI-Could-Have-Then>: HTTP status code is not handled or not allowed\n",
      "2024-12-04 10:43:45 [scrapy.spidermiddlewares.httperror] INFO: Ignoring response <401 https://proxy.scrapeops.io/v1/?api_key=&url=https%3A%2F%2Fwww.fanfiction.net%2Fs%2F13807714%2F1%2FSee-and-Observe>: HTTP status code is not handled or not allowed\n",
      "2024-12-04 10:43:46 [scrapy.core.engine] DEBUG: Crawled (401) <GET https://proxy.scrapeops.io/v1/?api_key=&url=https%3A%2F%2Fwww.fanfiction.net%2Fs%2F13808786%2F1%2FIn-the-Middle-of-Everything> (referer: https://steamdb.info/graph/)\n",
      "2024-12-04 10:43:46 [scrapy.spidermiddlewares.httperror] INFO: Ignoring response <401 https://proxy.scrapeops.io/v1/?api_key=&url=https%3A%2F%2Fwww.fanfiction.net%2Fs%2F13808786%2F1%2FIn-the-Middle-of-Everything>: HTTP status code is not handled or not allowed\n",
      "2024-12-04 10:43:47 [scrapy.core.engine] DEBUG: Crawled (401) <GET https://proxy.scrapeops.io/v1/?api_key=&url=https%3A%2F%2Fwww.fanfiction.net%2Fs%2F13596400%2F1%2FLike-Father-Like-Son> (referer: https://steamdb.info/graph/)\n",
      "2024-12-04 10:43:47 [scrapy.spidermiddlewares.httperror] INFO: Ignoring response <401 https://proxy.scrapeops.io/v1/?api_key=&url=https%3A%2F%2Fwww.fanfiction.net%2Fs%2F13596400%2F1%2FLike-Father-Like-Son>: HTTP status code is not handled or not allowed\n",
      "2024-12-04 10:43:47 [scrapy.core.engine] DEBUG: Crawled (401) <GET https://proxy.scrapeops.io/v1/?api_key=&url=https%3A%2F%2Fwww.fanfiction.net%2Fs%2F13809512%2F1%2FMutants-at-221b> (referer: https://steamdb.info/graph/)\n",
      "2024-12-04 10:43:47 [scrapy.spidermiddlewares.httperror] INFO: Ignoring response <401 https://proxy.scrapeops.io/v1/?api_key=&url=https%3A%2F%2Fwww.fanfiction.net%2Fs%2F13809512%2F1%2FMutants-at-221b>: HTTP status code is not handled or not allowed\n",
      "2024-12-04 10:43:47 [scrapy.core.engine] DEBUG: Crawled (401) <GET https://proxy.scrapeops.io/v1/?api_key=&url=https%3A%2F%2Fwww.fanfiction.net%2Fs%2F13810455%2F1%2FA-Study-in-Women-A-Ladies-Sherlock-Episode-1-A-Study-in-Pink> (referer: https://steamdb.info/graph/)\n",
      "2024-12-04 10:43:47 [scrapy.spidermiddlewares.httperror] INFO: Ignoring response <401 https://proxy.scrapeops.io/v1/?api_key=&url=https%3A%2F%2Fwww.fanfiction.net%2Fs%2F13810455%2F1%2FA-Study-in-Women-A-Ladies-Sherlock-Episode-1-A-Study-in-Pink>: HTTP status code is not handled or not allowed\n",
      "2024-12-04 10:43:48 [scrapy.core.engine] DEBUG: Crawled (401) <GET https://proxy.scrapeops.io/v1/?api_key=&url=https%3A%2F%2Fwww.fanfiction.net%2Fs%2F13811134%2F1%2FI-love-you-A-Mystrade-Fanfic> (referer: https://steamdb.info/graph/)\n",
      "2024-12-04 10:43:48 [scrapy.spidermiddlewares.httperror] INFO: Ignoring response <401 https://proxy.scrapeops.io/v1/?api_key=&url=https%3A%2F%2Fwww.fanfiction.net%2Fs%2F13811134%2F1%2FI-love-you-A-Mystrade-Fanfic>: HTTP status code is not handled or not allowed\n",
      "2024-12-04 10:43:49 [scrapy.core.engine] DEBUG: Crawled (401) <GET https://proxy.scrapeops.io/v1/?api_key=&url=https%3A%2F%2Fwww.fanfiction.net%2Fs%2F13811137%2F1%2FPaying-Homage-to-a-Fallen-Hero> (referer: https://steamdb.info/graph/)\n",
      "2024-12-04 10:43:49 [scrapy.spidermiddlewares.httperror] INFO: Ignoring response <401 https://proxy.scrapeops.io/v1/?api_key=&url=https%3A%2F%2Fwww.fanfiction.net%2Fs%2F13811137%2F1%2FPaying-Homage-to-a-Fallen-Hero>: HTTP status code is not handled or not allowed\n",
      "2024-12-04 10:43:50 [scrapy.extensions.logstats] INFO: Crawled 1366 pages (at 104 pages/min), scraped 0 items (at 0 items/min)\n",
      "2024-12-04 10:43:50 [scrapy.core.engine] DEBUG: Crawled (401) <GET https://proxy.scrapeops.io/v1/?api_key=&url=https%3A%2F%2Fwww.fanfiction.net%2Fs%2F13812577%2F1%2FDr-Molly-Know-It-All-Hooper> (referer: https://steamdb.info/graph/)\n",
      "2024-12-04 10:43:50 [scrapy.core.engine] DEBUG: Crawled (401) <GET https://proxy.scrapeops.io/v1/?api_key=&url=https%3A%2F%2Fwww.fanfiction.net%2Fs%2F13813489%2F1%2FUnsent-Texts> (referer: https://steamdb.info/graph/)\n",
      "2024-12-04 10:43:50 [scrapy.spidermiddlewares.httperror] INFO: Ignoring response <401 https://proxy.scrapeops.io/v1/?api_key=&url=https%3A%2F%2Fwww.fanfiction.net%2Fs%2F13812577%2F1%2FDr-Molly-Know-It-All-Hooper>: HTTP status code is not handled or not allowed\n",
      "2024-12-04 10:43:50 [scrapy.spidermiddlewares.httperror] INFO: Ignoring response <401 https://proxy.scrapeops.io/v1/?api_key=&url=https%3A%2F%2Fwww.fanfiction.net%2Fs%2F13813489%2F1%2FUnsent-Texts>: HTTP status code is not handled or not allowed\n",
      "2024-12-04 10:43:51 [scrapy.core.engine] DEBUG: Crawled (401) <GET https://proxy.scrapeops.io/v1/?api_key=&url=https%3A%2F%2Fwww.fanfiction.net%2Fs%2F13814070%2F1%2FI-m-sorry> (referer: https://steamdb.info/graph/)\n",
      "2024-12-04 10:43:51 [scrapy.spidermiddlewares.httperror] INFO: Ignoring response <401 https://proxy.scrapeops.io/v1/?api_key=&url=https%3A%2F%2Fwww.fanfiction.net%2Fs%2F13814070%2F1%2FI-m-sorry>: HTTP status code is not handled or not allowed\n",
      "2024-12-04 10:43:52 [scrapy.core.engine] DEBUG: Crawled (401) <GET https://proxy.scrapeops.io/v1/?api_key=&url=https%3A%2F%2Fwww.fanfiction.net%2Fs%2F13814455%2F1%2FLate-Night-Liasons> (referer: https://steamdb.info/graph/)\n",
      "2024-12-04 10:43:52 [scrapy.spidermiddlewares.httperror] INFO: Ignoring response <401 https://proxy.scrapeops.io/v1/?api_key=&url=https%3A%2F%2Fwww.fanfiction.net%2Fs%2F13814455%2F1%2FLate-Night-Liasons>: HTTP status code is not handled or not allowed\n",
      "2024-12-04 10:43:52 [scrapy.core.engine] DEBUG: Crawled (401) <GET https://proxy.scrapeops.io/v1/?api_key=&url=https%3A%2F%2Fwww.fanfiction.net%2Fs%2F11129680%2F1%2FPraise-Not-Needed> (referer: https://steamdb.info/graph/)\n",
      "2024-12-04 10:43:52 [scrapy.core.engine] DEBUG: Crawled (401) <GET https://proxy.scrapeops.io/v1/?api_key=&url=https%3A%2F%2Fwww.fanfiction.net%2Fs%2F13815513%2F1%2FBasil-Touch> (referer: https://steamdb.info/graph/)\n",
      "2024-12-04 10:43:52 [scrapy.spidermiddlewares.httperror] INFO: Ignoring response <401 https://proxy.scrapeops.io/v1/?api_key=&url=https%3A%2F%2Fwww.fanfiction.net%2Fs%2F11129680%2F1%2FPraise-Not-Needed>: HTTP status code is not handled or not allowed\n",
      "2024-12-04 10:43:53 [scrapy.spidermiddlewares.httperror] INFO: Ignoring response <401 https://proxy.scrapeops.io/v1/?api_key=&url=https%3A%2F%2Fwww.fanfiction.net%2Fs%2F13815513%2F1%2FBasil-Touch>: HTTP status code is not handled or not allowed\n",
      "2024-12-04 10:43:53 [scrapy.core.engine] DEBUG: Crawled (401) <GET https://proxy.scrapeops.io/v1/?api_key=&url=https%3A%2F%2Fwww.fanfiction.net%2Fs%2F13817104%2F1%2FIatrophobia> (referer: https://steamdb.info/graph/)\n",
      "2024-12-04 10:43:53 [scrapy.spidermiddlewares.httperror] INFO: Ignoring response <401 https://proxy.scrapeops.io/v1/?api_key=&url=https%3A%2F%2Fwww.fanfiction.net%2Fs%2F13817104%2F1%2FIatrophobia>: HTTP status code is not handled or not allowed\n",
      "2024-12-04 10:43:54 [scrapy.core.engine] DEBUG: Crawled (401) <GET https://proxy.scrapeops.io/v1/?api_key=&url=https%3A%2F%2Fwww.fanfiction.net%2Fs%2F13818114%2F1%2FInsecure> (referer: https://steamdb.info/graph/)\n",
      "2024-12-04 10:43:54 [scrapy.spidermiddlewares.httperror] INFO: Ignoring response <401 https://proxy.scrapeops.io/v1/?api_key=&url=https%3A%2F%2Fwww.fanfiction.net%2Fs%2F13818114%2F1%2FInsecure>: HTTP status code is not handled or not allowed\n",
      "2024-12-04 10:43:56 [scrapy.core.engine] DEBUG: Crawled (401) <GET https://proxy.scrapeops.io/v1/?api_key=&url=https%3A%2F%2Fwww.fanfiction.net%2Fs%2F13819007%2F1%2FChinese-Sundays> (referer: https://steamdb.info/graph/)\n",
      "2024-12-04 10:43:56 [scrapy.core.engine] DEBUG: Crawled (401) <GET https://proxy.scrapeops.io/v1/?api_key=&url=https%3A%2F%2Fwww.fanfiction.net%2Fs%2F13818997%2F1%2FNever-Have-I-Thought> (referer: https://steamdb.info/graph/)\n",
      "2024-12-04 10:43:56 [scrapy.spidermiddlewares.httperror] INFO: Ignoring response <401 https://proxy.scrapeops.io/v1/?api_key=&url=https%3A%2F%2Fwww.fanfiction.net%2Fs%2F13819007%2F1%2FChinese-Sundays>: HTTP status code is not handled or not allowed\n",
      "2024-12-04 10:43:56 [scrapy.spidermiddlewares.httperror] INFO: Ignoring response <401 https://proxy.scrapeops.io/v1/?api_key=&url=https%3A%2F%2Fwww.fanfiction.net%2Fs%2F13818997%2F1%2FNever-Have-I-Thought>: HTTP status code is not handled or not allowed\n",
      "2024-12-04 10:43:56 [scrapy.core.engine] DEBUG: Crawled (401) <GET https://proxy.scrapeops.io/v1/?api_key=&url=https%3A%2F%2Fwww.fanfiction.net%2Fs%2F13819194%2F1%2FTomorrow-Will-Be-Kinder> (referer: https://steamdb.info/graph/)\n",
      "2024-12-04 10:43:56 [scrapy.spidermiddlewares.httperror] INFO: Ignoring response <401 https://proxy.scrapeops.io/v1/?api_key=&url=https%3A%2F%2Fwww.fanfiction.net%2Fs%2F13819194%2F1%2FTomorrow-Will-Be-Kinder>: HTTP status code is not handled or not allowed\n",
      "2024-12-04 10:43:57 [scrapy.core.engine] DEBUG: Crawled (401) <GET https://proxy.scrapeops.io/v1/?api_key=&url=https%3A%2F%2Fwww.fanfiction.net%2Fs%2F13786282%2F1%2FShe-Came-In-Through-The-Bathroom-Window> (referer: https://steamdb.info/graph/)\n",
      "2024-12-04 10:43:57 [scrapy.spidermiddlewares.httperror] INFO: Ignoring response <401 https://proxy.scrapeops.io/v1/?api_key=&url=https%3A%2F%2Fwww.fanfiction.net%2Fs%2F13786282%2F1%2FShe-Came-In-Through-The-Bathroom-Window>: HTTP status code is not handled or not allowed\n",
      "2024-12-04 10:43:57 [scrapy.core.engine] DEBUG: Crawled (401) <GET https://proxy.scrapeops.io/v1/?api_key=&url=https%3A%2F%2Fwww.fanfiction.net%2Fs%2F13780914%2F1%2FNot-the-thought-that-counts> (referer: https://steamdb.info/graph/)\n",
      "2024-12-04 10:43:58 [scrapy.spidermiddlewares.httperror] INFO: Ignoring response <401 https://proxy.scrapeops.io/v1/?api_key=&url=https%3A%2F%2Fwww.fanfiction.net%2Fs%2F13780914%2F1%2FNot-the-thought-that-counts>: HTTP status code is not handled or not allowed\n",
      "2024-12-04 10:43:58 [scrapy.core.engine] DEBUG: Crawled (401) <GET https://proxy.scrapeops.io/v1/?api_key=&url=https%3A%2F%2Fwww.fanfiction.net%2Fs%2F13796596%2F1%2FThe-Peace-of-Abstinence> (referer: https://steamdb.info/graph/)\n",
      "2024-12-04 10:43:58 [scrapy.spidermiddlewares.httperror] INFO: Ignoring response <401 https://proxy.scrapeops.io/v1/?api_key=&url=https%3A%2F%2Fwww.fanfiction.net%2Fs%2F13796596%2F1%2FThe-Peace-of-Abstinence>: HTTP status code is not handled or not allowed\n",
      "2024-12-04 10:43:59 [scrapy.core.engine] DEBUG: Crawled (401) <GET https://proxy.scrapeops.io/v1/?api_key=&url=https%3A%2F%2Fwww.fanfiction.net%2Fs%2F13796332%2F1%2FA-Legacy-For-The-Ages> (referer: https://steamdb.info/graph/)\n",
      "2024-12-04 10:43:59 [scrapy.spidermiddlewares.httperror] INFO: Ignoring response <401 https://proxy.scrapeops.io/v1/?api_key=&url=https%3A%2F%2Fwww.fanfiction.net%2Fs%2F13796332%2F1%2FA-Legacy-For-The-Ages>: HTTP status code is not handled or not allowed\n",
      "2024-12-04 10:43:59 [scrapy.core.engine] DEBUG: Crawled (401) <GET https://proxy.scrapeops.io/v1/?api_key=&url=https%3A%2F%2Fwww.fanfiction.net%2Fs%2F13837431%2F1%2FComing-Out> (referer: https://steamdb.info/graph/)\n",
      "2024-12-04 10:43:59 [scrapy.spidermiddlewares.httperror] INFO: Ignoring response <401 https://proxy.scrapeops.io/v1/?api_key=&url=https%3A%2F%2Fwww.fanfiction.net%2Fs%2F13837431%2F1%2FComing-Out>: HTTP status code is not handled or not allowed\n",
      "2024-12-04 10:44:01 [scrapy.core.engine] DEBUG: Crawled (401) <GET https://proxy.scrapeops.io/v1/?api_key=&url=https%3A%2F%2Fwww.fanfiction.net%2Fs%2F14020504%2F1%2FLe-Papa-No%25C3%25ABl> (referer: https://steamdb.info/graph/)\n",
      "2024-12-04 10:44:01 [scrapy.core.engine] DEBUG: Crawled (401) <GET https://proxy.scrapeops.io/v1/?api_key=&url=https%3A%2F%2Fwww.fanfiction.net%2Fs%2F14029317%2F1%2FA-Drunken-Mind-Speaks-The-Sober-Heart> (referer: https://steamdb.info/graph/)\n",
      "2024-12-04 10:44:01 [scrapy.spidermiddlewares.httperror] INFO: Ignoring response <401 https://proxy.scrapeops.io/v1/?api_key=&url=https%3A%2F%2Fwww.fanfiction.net%2Fs%2F14020504%2F1%2FLe-Papa-No%25C3%25ABl>: HTTP status code is not handled or not allowed\n",
      "2024-12-04 10:44:01 [scrapy.spidermiddlewares.httperror] INFO: Ignoring response <401 https://proxy.scrapeops.io/v1/?api_key=&url=https%3A%2F%2Fwww.fanfiction.net%2Fs%2F14029317%2F1%2FA-Drunken-Mind-Speaks-The-Sober-Heart>: HTTP status code is not handled or not allowed\n",
      "2024-12-04 10:44:01 [scrapy.core.engine] DEBUG: Crawled (401) <GET https://proxy.scrapeops.io/v1/?api_key=&url=https%3A%2F%2Fwww.fanfiction.net%2Fs%2F14040143%2F1%2FWillow-and-Ebony> (referer: https://steamdb.info/graph/)\n",
      "2024-12-04 10:44:01 [scrapy.spidermiddlewares.httperror] INFO: Ignoring response <401 https://proxy.scrapeops.io/v1/?api_key=&url=https%3A%2F%2Fwww.fanfiction.net%2Fs%2F14040143%2F1%2FWillow-and-Ebony>: HTTP status code is not handled or not allowed\n",
      "2024-12-04 10:44:02 [scrapy.core.engine] DEBUG: Crawled (401) <GET https://proxy.scrapeops.io/v1/?api_key=&url=https%3A%2F%2Fwww.fanfiction.net%2Fs%2F14055001%2F1%2FRedbeard-For-Real> (referer: https://steamdb.info/graph/)\n",
      "2024-12-04 10:44:02 [scrapy.spidermiddlewares.httperror] INFO: Ignoring response <401 https://proxy.scrapeops.io/v1/?api_key=&url=https%3A%2F%2Fwww.fanfiction.net%2Fs%2F14055001%2F1%2FRedbeard-For-Real>: HTTP status code is not handled or not allowed\n",
      "2024-12-04 10:44:03 [scrapy.core.engine] DEBUG: Crawled (401) <GET https://proxy.scrapeops.io/v1/?api_key=&url=https%3A%2F%2Fwww.fanfiction.net%2Fs%2F14053723%2F1%2FTwisted-Tuesday> (referer: https://steamdb.info/graph/)\n",
      "2024-12-04 10:44:03 [scrapy.core.engine] DEBUG: Crawled (401) <GET https://proxy.scrapeops.io/v1/?api_key=&url=https%3A%2F%2Fwww.fanfiction.net%2Fs%2F11246692%2F1%2FArrangements> (referer: https://steamdb.info/graph/)\n",
      "2024-12-04 10:44:03 [scrapy.spidermiddlewares.httperror] INFO: Ignoring response <401 https://proxy.scrapeops.io/v1/?api_key=&url=https%3A%2F%2Fwww.fanfiction.net%2Fs%2F14053723%2F1%2FTwisted-Tuesday>: HTTP status code is not handled or not allowed\n",
      "2024-12-04 10:44:03 [scrapy.spidermiddlewares.httperror] INFO: Ignoring response <401 https://proxy.scrapeops.io/v1/?api_key=&url=https%3A%2F%2Fwww.fanfiction.net%2Fs%2F11246692%2F1%2FArrangements>: HTTP status code is not handled or not allowed\n",
      "2024-12-04 10:44:04 [scrapy.core.engine] DEBUG: Crawled (401) <GET https://proxy.scrapeops.io/v1/?api_key=&url=https%3A%2F%2Fwww.fanfiction.net%2Fs%2F8848694%2F1%2FLost-in-Sherlock> (referer: https://steamdb.info/graph/)\n",
      "2024-12-04 10:44:04 [scrapy.spidermiddlewares.httperror] INFO: Ignoring response <401 https://proxy.scrapeops.io/v1/?api_key=&url=https%3A%2F%2Fwww.fanfiction.net%2Fs%2F8848694%2F1%2FLost-in-Sherlock>: HTTP status code is not handled or not allowed\n",
      "2024-12-04 10:44:04 [scrapy.core.engine] DEBUG: Crawled (401) <GET https://proxy.scrapeops.io/v1/?api_key=&url=https%3A%2F%2Fwww.fanfiction.net%2Fs%2F14117944%2F1%2FAbout-Bloody-Time> (referer: https://steamdb.info/graph/)\n",
      "2024-12-04 10:44:04 [scrapy.spidermiddlewares.httperror] INFO: Ignoring response <401 https://proxy.scrapeops.io/v1/?api_key=&url=https%3A%2F%2Fwww.fanfiction.net%2Fs%2F14117944%2F1%2FAbout-Bloody-Time>: HTTP status code is not handled or not allowed\n",
      "2024-12-04 10:44:06 [scrapy.core.engine] DEBUG: Crawled (401) <GET https://proxy.scrapeops.io/v1/?api_key=&url=https%3A%2F%2Fwww.fanfiction.net%2Fs%2F14117878%2F1%2FHeavy-Breathing-Johnlock> (referer: https://steamdb.info/graph/)\n",
      "2024-12-04 10:44:06 [scrapy.core.engine] DEBUG: Crawled (401) <GET https://proxy.scrapeops.io/v1/?api_key=&url=https%3A%2F%2Fwww.fanfiction.net%2Fs%2F14182247%2F1%2FWill-you-marry-me-too-Johnlock> (referer: https://steamdb.info/graph/)\n",
      "2024-12-04 10:44:06 [scrapy.spidermiddlewares.httperror] INFO: Ignoring response <401 https://proxy.scrapeops.io/v1/?api_key=&url=https%3A%2F%2Fwww.fanfiction.net%2Fs%2F14117878%2F1%2FHeavy-Breathing-Johnlock>: HTTP status code is not handled or not allowed\n",
      "2024-12-04 10:44:06 [scrapy.spidermiddlewares.httperror] INFO: Ignoring response <401 https://proxy.scrapeops.io/v1/?api_key=&url=https%3A%2F%2Fwww.fanfiction.net%2Fs%2F14182247%2F1%2FWill-you-marry-me-too-Johnlock>: HTTP status code is not handled or not allowed\n",
      "2024-12-04 10:44:07 [scrapy.core.engine] DEBUG: Crawled (401) <GET https://proxy.scrapeops.io/v1/?api_key=&url=https%3A%2F%2Fwww.fanfiction.net%2Fs%2F14176732%2F1%2FThor-Bridge-Problems> (referer: https://steamdb.info/graph/)\n",
      "2024-12-04 10:44:07 [scrapy.spidermiddlewares.httperror] INFO: Ignoring response <401 https://proxy.scrapeops.io/v1/?api_key=&url=https%3A%2F%2Fwww.fanfiction.net%2Fs%2F14176732%2F1%2FThor-Bridge-Problems>: HTTP status code is not handled or not allowed\n",
      "2024-12-04 10:44:07 [scrapy.core.engine] DEBUG: Crawled (401) <GET https://proxy.scrapeops.io/v1/?api_key=&url=https%3A%2F%2Fwww.fanfiction.net%2Fs%2F14219350%2F1%2FThe-Perks-of-a-Broken-Mind-Palace> (referer: https://steamdb.info/graph/)\n",
      "2024-12-04 10:44:07 [scrapy.spidermiddlewares.httperror] INFO: Ignoring response <401 https://proxy.scrapeops.io/v1/?api_key=&url=https%3A%2F%2Fwww.fanfiction.net%2Fs%2F14219350%2F1%2FThe-Perks-of-a-Broken-Mind-Palace>: HTTP status code is not handled or not allowed\n",
      "2024-12-04 10:44:08 [scrapy.core.engine] DEBUG: Crawled (401) <GET https://proxy.scrapeops.io/v1/?api_key=&url=https%3A%2F%2Fwww.fanfiction.net%2Fs%2F14211631%2F1%2FLe-jour-d-apr%25C3%25A8s> (referer: https://steamdb.info/graph/)\n",
      "2024-12-04 10:44:08 [scrapy.core.engine] DEBUG: Crawled (401) <GET https://proxy.scrapeops.io/v1/?api_key=&url=https%3A%2F%2Fwww.fanfiction.net%2Fs%2F14251901%2F1%2FL-Echapatoire> (referer: https://steamdb.info/graph/)\n",
      "2024-12-04 10:44:08 [scrapy.spidermiddlewares.httperror] INFO: Ignoring response <401 https://proxy.scrapeops.io/v1/?api_key=&url=https%3A%2F%2Fwww.fanfiction.net%2Fs%2F14211631%2F1%2FLe-jour-d-apr%25C3%25A8s>: HTTP status code is not handled or not allowed\n",
      "2024-12-04 10:44:08 [scrapy.spidermiddlewares.httperror] INFO: Ignoring response <401 https://proxy.scrapeops.io/v1/?api_key=&url=https%3A%2F%2Fwww.fanfiction.net%2Fs%2F14251901%2F1%2FL-Echapatoire>: HTTP status code is not handled or not allowed\n",
      "2024-12-04 10:44:09 [scrapy.core.engine] DEBUG: Crawled (401) <GET https://proxy.scrapeops.io/v1/?api_key=&url=https%3A%2F%2Fwww.fanfiction.net%2Fs%2F14250919%2F1%2FSonglocked-Emerald-Eyes> (referer: https://steamdb.info/graph/)\n",
      "2024-12-04 10:44:09 [scrapy.spidermiddlewares.httperror] INFO: Ignoring response <401 https://proxy.scrapeops.io/v1/?api_key=&url=https%3A%2F%2Fwww.fanfiction.net%2Fs%2F14250919%2F1%2FSonglocked-Emerald-Eyes>: HTTP status code is not handled or not allowed\n",
      "2024-12-04 10:44:09 [scrapy.core.engine] DEBUG: Crawled (401) <GET https://proxy.scrapeops.io/v1/?api_key=&url=https%3A%2F%2Fwww.fanfiction.net%2Fs%2F7841395%2F1%2FNo-Choice-At-All> (referer: https://steamdb.info/graph/)\n",
      "2024-12-04 10:44:09 [scrapy.spidermiddlewares.httperror] INFO: Ignoring response <401 https://proxy.scrapeops.io/v1/?api_key=&url=https%3A%2F%2Fwww.fanfiction.net%2Fs%2F7841395%2F1%2FNo-Choice-At-All>: HTTP status code is not handled or not allowed\n",
      "2024-12-04 10:44:11 [scrapy.core.engine] DEBUG: Crawled (401) <GET https://proxy.scrapeops.io/v1/?api_key=&url=https%3A%2F%2Fwww.fanfiction.net%2Fs%2F13018877%2F1%2FDepression-turned-to-happiness-AKA-Isabella> (referer: https://steamdb.info/graph/)\n",
      "2024-12-04 10:44:11 [scrapy.core.engine] DEBUG: Crawled (401) <GET https://proxy.scrapeops.io/v1/?api_key=&url=https%3A%2F%2Fwww.fanfiction.net%2Fs%2F12292416%2F1%2FNot-Dead> (referer: https://steamdb.info/graph/)\n",
      "2024-12-04 10:44:11 [scrapy.spidermiddlewares.httperror] INFO: Ignoring response <401 https://proxy.scrapeops.io/v1/?api_key=&url=https%3A%2F%2Fwww.fanfiction.net%2Fs%2F13018877%2F1%2FDepression-turned-to-happiness-AKA-Isabella>: HTTP status code is not handled or not allowed\n",
      "2024-12-04 10:44:11 [scrapy.spidermiddlewares.httperror] INFO: Ignoring response <401 https://proxy.scrapeops.io/v1/?api_key=&url=https%3A%2F%2Fwww.fanfiction.net%2Fs%2F12292416%2F1%2FNot-Dead>: HTTP status code is not handled or not allowed\n",
      "2024-12-04 10:44:12 [scrapy.core.engine] DEBUG: Crawled (401) <GET https://proxy.scrapeops.io/v1/?api_key=&url=https%3A%2F%2Fwww.fanfiction.net%2Fs%2F14271596%2F1%2FJournal-du-221B> (referer: https://steamdb.info/graph/)\n",
      "2024-12-04 10:44:12 [scrapy.spidermiddlewares.httperror] INFO: Ignoring response <401 https://proxy.scrapeops.io/v1/?api_key=&url=https%3A%2F%2Fwww.fanfiction.net%2Fs%2F14271596%2F1%2FJournal-du-221B>: HTTP status code is not handled or not allowed\n",
      "2024-12-04 10:44:12 [scrapy.core.engine] DEBUG: Crawled (401) <GET https://proxy.scrapeops.io/v1/?api_key=&url=https%3A%2F%2Fwww.fanfiction.net%2Fs%2F14315348%2F1%2Freminiscing> (referer: https://steamdb.info/graph/)\n",
      "2024-12-04 10:44:12 [scrapy.spidermiddlewares.httperror] INFO: Ignoring response <401 https://proxy.scrapeops.io/v1/?api_key=&url=https%3A%2F%2Fwww.fanfiction.net%2Fs%2F14315348%2F1%2Freminiscing>: HTTP status code is not handled or not allowed\n",
      "2024-12-04 10:44:13 [scrapy.core.engine] DEBUG: Crawled (401) <GET https://proxy.scrapeops.io/v1/?api_key=&url=https%3A%2F%2Fwww.fanfiction.net%2Fs%2F14346323%2F1%2FFour-handed-performance> (referer: https://steamdb.info/graph/)\n",
      "2024-12-04 10:44:13 [scrapy.core.engine] DEBUG: Crawled (401) <GET https://proxy.scrapeops.io/v1/?api_key=&url=https%3A%2F%2Fwww.fanfiction.net%2Fs%2F14290866%2F1%2FDetective-Buchanan> (referer: https://steamdb.info/graph/)\n",
      "2024-12-04 10:44:13 [scrapy.spidermiddlewares.httperror] INFO: Ignoring response <401 https://proxy.scrapeops.io/v1/?api_key=&url=https%3A%2F%2Fwww.fanfiction.net%2Fs%2F14346323%2F1%2FFour-handed-performance>: HTTP status code is not handled or not allowed\n",
      "2024-12-04 10:44:13 [scrapy.spidermiddlewares.httperror] INFO: Ignoring response <401 https://proxy.scrapeops.io/v1/?api_key=&url=https%3A%2F%2Fwww.fanfiction.net%2Fs%2F14290866%2F1%2FDetective-Buchanan>: HTTP status code is not handled or not allowed\n",
      "2024-12-04 10:44:14 [scrapy.core.engine] DEBUG: Crawled (401) <GET https://proxy.scrapeops.io/v1/?api_key=&url=https%3A%2F%2Fwww.fanfiction.net%2Fs%2F12813151%2F1%2FWelcome-to-Baker-Street> (referer: https://steamdb.info/graph/)\n",
      "2024-12-04 10:44:14 [scrapy.spidermiddlewares.httperror] INFO: Ignoring response <401 https://proxy.scrapeops.io/v1/?api_key=&url=https%3A%2F%2Fwww.fanfiction.net%2Fs%2F12813151%2F1%2FWelcome-to-Baker-Street>: HTTP status code is not handled or not allowed\n",
      "2024-12-04 10:44:14 [scrapy.core.engine] DEBUG: Crawled (401) <GET https://proxy.scrapeops.io/v1/?api_key=&url=https%3A%2F%2Fwww.fanfiction.net%2Fs%2F14370317%2F1%2FThe-Real-Hound-of-the-Baskervilles> (referer: https://steamdb.info/graph/)\n",
      "2024-12-04 10:44:15 [scrapy.spidermiddlewares.httperror] INFO: Ignoring response <401 https://proxy.scrapeops.io/v1/?api_key=&url=https%3A%2F%2Fwww.fanfiction.net%2Fs%2F14370317%2F1%2FThe-Real-Hound-of-the-Baskervilles>: HTTP status code is not handled or not allowed\n",
      "2024-12-04 10:44:16 [scrapy.core.engine] DEBUG: Crawled (401) <GET https://proxy.scrapeops.io/v1/?api_key=&url=https%3A%2F%2Fwww.fanfiction.net%2Fs%2F10077349%2F1%2FMelod%25C3%25ADa-de-invierno> (referer: https://steamdb.info/graph/)\n",
      "2024-12-04 10:44:16 [scrapy.core.engine] DEBUG: Crawled (401) <GET https://proxy.scrapeops.io/v1/?api_key=&url=https%3A%2F%2Fwww.fanfiction.net%2Fs%2F14406351%2F1%2FThe-Scalpel> (referer: https://steamdb.info/graph/)\n",
      "2024-12-04 10:44:16 [scrapy.spidermiddlewares.httperror] INFO: Ignoring response <401 https://proxy.scrapeops.io/v1/?api_key=&url=https%3A%2F%2Fwww.fanfiction.net%2Fs%2F10077349%2F1%2FMelod%25C3%25ADa-de-invierno>: HTTP status code is not handled or not allowed\n",
      "2024-12-04 10:44:16 [scrapy.spidermiddlewares.httperror] INFO: Ignoring response <401 https://proxy.scrapeops.io/v1/?api_key=&url=https%3A%2F%2Fwww.fanfiction.net%2Fs%2F14406351%2F1%2FThe-Scalpel>: HTTP status code is not handled or not allowed\n",
      "2024-12-04 10:44:17 [scrapy.core.engine] DEBUG: Crawled (401) <GET https://proxy.scrapeops.io/v1/?api_key=&url=https%3A%2F%2Fwww.fanfiction.net%2Fs%2F14412913%2F1%2FTruly-Madly-Sherlock> (referer: https://steamdb.info/graph/)\n",
      "2024-12-04 10:44:17 [scrapy.spidermiddlewares.httperror] INFO: Ignoring response <401 https://proxy.scrapeops.io/v1/?api_key=&url=https%3A%2F%2Fwww.fanfiction.net%2Fs%2F14412913%2F1%2FTruly-Madly-Sherlock>: HTTP status code is not handled or not allowed\n",
      "2024-12-04 10:44:17 [scrapy.core.engine] DEBUG: Crawled (401) <GET https://proxy.scrapeops.io/v1/?api_key=&url=https%3A%2F%2Fwww.fanfiction.net%2Fs%2F13999345%2F1%2FA-Study-In-Opposites> (referer: https://steamdb.info/graph/)\n",
      "2024-12-04 10:44:18 [scrapy.spidermiddlewares.httperror] INFO: Ignoring response <401 https://proxy.scrapeops.io/v1/?api_key=&url=https%3A%2F%2Fwww.fanfiction.net%2Fs%2F13999345%2F1%2FA-Study-In-Opposites>: HTTP status code is not handled or not allowed\n",
      "2024-12-04 10:44:18 [scrapy.core.engine] DEBUG: Crawled (401) <GET https://proxy.scrapeops.io/v1/?api_key=&url=https%3A%2F%2Fwww.fanfiction.net%2Fs%2F13831043%2F1%2FJohn-God-of-Thunder> (referer: https://steamdb.info/graph/)\n",
      "2024-12-04 10:44:18 [scrapy.core.engine] DEBUG: Crawled (401) <GET https://proxy.scrapeops.io/v1/?api_key=&url=https%3A%2F%2Fwww.fanfiction.net%2Fs%2F13970032%2F1%2FBest-Friends-Forever> (referer: https://steamdb.info/graph/)\n",
      "2024-12-04 10:44:18 [scrapy.spidermiddlewares.httperror] INFO: Ignoring response <401 https://proxy.scrapeops.io/v1/?api_key=&url=https%3A%2F%2Fwww.fanfiction.net%2Fs%2F13831043%2F1%2FJohn-God-of-Thunder>: HTTP status code is not handled or not allowed\n",
      "2024-12-04 10:44:18 [scrapy.spidermiddlewares.httperror] INFO: Ignoring response <401 https://proxy.scrapeops.io/v1/?api_key=&url=https%3A%2F%2Fwww.fanfiction.net%2Fs%2F13970032%2F1%2FBest-Friends-Forever>: HTTP status code is not handled or not allowed\n",
      "2024-12-04 10:44:19 [scrapy.core.engine] DEBUG: Crawled (401) <GET https://proxy.scrapeops.io/v1/?api_key=&url=https%3A%2F%2Fwww.fanfiction.net%2Fs%2F13842058%2F1%2FEnough> (referer: https://steamdb.info/graph/)\n",
      "2024-12-04 10:44:19 [scrapy.spidermiddlewares.httperror] INFO: Ignoring response <401 https://proxy.scrapeops.io/v1/?api_key=&url=https%3A%2F%2Fwww.fanfiction.net%2Fs%2F13842058%2F1%2FEnough>: HTTP status code is not handled or not allowed\n",
      "2024-12-04 10:44:20 [scrapy.core.engine] DEBUG: Crawled (401) <GET https://proxy.scrapeops.io/v1/?api_key=&url=https%3A%2F%2Fwww.fanfiction.net%2Fs%2F13876622%2F1%2FGames> (referer: https://steamdb.info/graph/)\n",
      "2024-12-04 10:44:20 [scrapy.spidermiddlewares.httperror] INFO: Ignoring response <401 https://proxy.scrapeops.io/v1/?api_key=&url=https%3A%2F%2Fwww.fanfiction.net%2Fs%2F13876622%2F1%2FGames>: HTTP status code is not handled or not allowed\n",
      "2024-12-04 10:44:22 [scrapy.core.engine] DEBUG: Crawled (401) <GET https://proxy.scrapeops.io/v1/?api_key=&url=https%3A%2F%2Fwww.fanfiction.net%2Fs%2F12926730%2F1%2FHate-Me-Love-Me-Just-Don-t-Leave-Me> (referer: https://steamdb.info/graph/)\n",
      "2024-12-04 10:44:22 [scrapy.core.engine] DEBUG: Crawled (401) <GET https://proxy.scrapeops.io/v1/?api_key=&url=https%3A%2F%2Fwww.fanfiction.net%2Fs%2F13994527%2F1%2FChoices> (referer: https://steamdb.info/graph/)\n",
      "2024-12-04 10:44:22 [scrapy.spidermiddlewares.httperror] INFO: Ignoring response <401 https://proxy.scrapeops.io/v1/?api_key=&url=https%3A%2F%2Fwww.fanfiction.net%2Fs%2F12926730%2F1%2FHate-Me-Love-Me-Just-Don-t-Leave-Me>: HTTP status code is not handled or not allowed\n",
      "2024-12-04 10:44:22 [scrapy.spidermiddlewares.httperror] INFO: Ignoring response <401 https://proxy.scrapeops.io/v1/?api_key=&url=https%3A%2F%2Fwww.fanfiction.net%2Fs%2F13994527%2F1%2FChoices>: HTTP status code is not handled or not allowed\n",
      "2024-12-04 10:44:22 [scrapy.core.engine] DEBUG: Crawled (401) <GET https://proxy.scrapeops.io/v1/?api_key=&url=https%3A%2F%2Fwww.fanfiction.net%2Fs%2F13902124%2F1%2FSo-Many-Words-Unsaid> (referer: https://steamdb.info/graph/)\n",
      "2024-12-04 10:44:22 [scrapy.spidermiddlewares.httperror] INFO: Ignoring response <401 https://proxy.scrapeops.io/v1/?api_key=&url=https%3A%2F%2Fwww.fanfiction.net%2Fs%2F13902124%2F1%2FSo-Many-Words-Unsaid>: HTTP status code is not handled or not allowed\n",
      "2024-12-04 10:44:23 [scrapy.core.engine] DEBUG: Crawled (401) <GET https://proxy.scrapeops.io/v1/?api_key=&url=https%3A%2F%2Fwww.fanfiction.net%2Fs%2F12590929%2F1%2FDC-s-Sherlock-Drabbles> (referer: https://steamdb.info/graph/)\n",
      "2024-12-04 10:44:23 [scrapy.spidermiddlewares.httperror] INFO: Ignoring response <401 https://proxy.scrapeops.io/v1/?api_key=&url=https%3A%2F%2Fwww.fanfiction.net%2Fs%2F12590929%2F1%2FDC-s-Sherlock-Drabbles>: HTTP status code is not handled or not allowed\n",
      "2024-12-04 10:44:23 [scrapy.core.engine] DEBUG: Crawled (401) <GET https://proxy.scrapeops.io/v1/?api_key=&url=https%3A%2F%2Fwww.fanfiction.net%2Fs%2F13759580%2F1%2FThe-moment-I-realized> (referer: https://steamdb.info/graph/)\n",
      "2024-12-04 10:44:23 [scrapy.core.engine] DEBUG: Crawled (401) <GET https://proxy.scrapeops.io/v1/?api_key=&url=https%3A%2F%2Fwww.fanfiction.net%2Fs%2F14025519%2F1%2FTypical-Sherlock> (referer: https://steamdb.info/graph/)\n",
      "2024-12-04 10:44:24 [scrapy.spidermiddlewares.httperror] INFO: Ignoring response <401 https://proxy.scrapeops.io/v1/?api_key=&url=https%3A%2F%2Fwww.fanfiction.net%2Fs%2F13759580%2F1%2FThe-moment-I-realized>: HTTP status code is not handled or not allowed\n",
      "2024-12-04 10:44:24 [scrapy.spidermiddlewares.httperror] INFO: Ignoring response <401 https://proxy.scrapeops.io/v1/?api_key=&url=https%3A%2F%2Fwww.fanfiction.net%2Fs%2F14025519%2F1%2FTypical-Sherlock>: HTTP status code is not handled or not allowed\n",
      "2024-12-04 10:44:24 [scrapy.core.engine] DEBUG: Crawled (401) <GET https://proxy.scrapeops.io/v1/?api_key=&url=https%3A%2F%2Fwww.fanfiction.net%2Fs%2F14051538%2F1%2FThe-death-of-Achilles> (referer: https://steamdb.info/graph/)\n",
      "2024-12-04 10:44:25 [scrapy.spidermiddlewares.httperror] INFO: Ignoring response <401 https://proxy.scrapeops.io/v1/?api_key=&url=https%3A%2F%2Fwww.fanfiction.net%2Fs%2F14051538%2F1%2FThe-death-of-Achilles>: HTTP status code is not handled or not allowed\n",
      "2024-12-04 10:44:25 [scrapy.core.engine] DEBUG: Crawled (401) <GET https://proxy.scrapeops.io/v1/?api_key=&url=https%3A%2F%2Fwww.fanfiction.net%2Fs%2F14167351%2F1%2FGrief> (referer: https://steamdb.info/graph/)\n",
      "2024-12-04 10:44:25 [scrapy.spidermiddlewares.httperror] INFO: Ignoring response <401 https://proxy.scrapeops.io/v1/?api_key=&url=https%3A%2F%2Fwww.fanfiction.net%2Fs%2F14167351%2F1%2FGrief>: HTTP status code is not handled or not allowed\n",
      "2024-12-04 10:44:27 [scrapy.core.engine] DEBUG: Crawled (401) <GET https://proxy.scrapeops.io/v1/?api_key=&url=https%3A%2F%2Fwww.fanfiction.net%2Fs%2F14259452%2F1%2FSimple-Logic> (referer: https://steamdb.info/graph/)\n",
      "2024-12-04 10:44:27 [scrapy.core.engine] DEBUG: Crawled (401) <GET https://proxy.scrapeops.io/v1/?api_key=&url=https%3A%2F%2Fwww.fanfiction.net%2Fs%2F14309357%2F1%2FMolly-Hooper-Appreciation-Week-2023-Fics> (referer: https://steamdb.info/graph/)\n",
      "2024-12-04 10:44:27 [scrapy.spidermiddlewares.httperror] INFO: Ignoring response <401 https://proxy.scrapeops.io/v1/?api_key=&url=https%3A%2F%2Fwww.fanfiction.net%2Fs%2F14259452%2F1%2FSimple-Logic>: HTTP status code is not handled or not allowed\n",
      "2024-12-04 10:44:27 [scrapy.spidermiddlewares.httperror] INFO: Ignoring response <401 https://proxy.scrapeops.io/v1/?api_key=&url=https%3A%2F%2Fwww.fanfiction.net%2Fs%2F14309357%2F1%2FMolly-Hooper-Appreciation-Week-2023-Fics>: HTTP status code is not handled or not allowed\n",
      "2024-12-04 10:44:27 [scrapy.core.engine] INFO: Closing spider (finished)\n",
      "2024-12-04 10:44:27 [scrapy.statscollectors] INFO: Dumping Scrapy stats:\n",
      "{'downloader/request_bytes': 1036174,\n",
      " 'downloader/request_count': 1557,\n",
      " 'downloader/request_method_count/GET': 1557,\n",
      " 'downloader/response_bytes': 11518933,\n",
      " 'downloader/response_count': 1557,\n",
      " 'downloader/response_status_count/200': 709,\n",
      " 'downloader/response_status_count/400': 582,\n",
      " 'downloader/response_status_count/401': 133,\n",
      " 'downloader/response_status_count/429': 132,\n",
      " 'downloader/response_status_count/500': 1,\n",
      " 'elapsed_time_seconds': 457.360717,\n",
      " 'finish_reason': 'finished',\n",
      " 'finish_time': datetime.datetime(2024, 12, 4, 8, 44, 27, 394587, tzinfo=datetime.timezone.utc),\n",
      " 'httpcompression/response_bytes': 35438720,\n",
      " 'httpcompression/response_count': 1557,\n",
      " 'httperror/response_ignored_count': 715,\n",
      " 'httperror/response_ignored_status_count/400': 582,\n",
      " 'httperror/response_ignored_status_count/401': 133,\n",
      " 'items_per_minute': None,\n",
      " 'log_count/DEBUG': 1558,\n",
      " 'log_count/INFO': 732,\n",
      " 'memusage/max': 109375488,\n",
      " 'memusage/startup': 89804800,\n",
      " 'request_depth_max': 32,\n",
      " 'response_received_count': 1424,\n",
      " 'responses_per_minute': None,\n",
      " 'retry/count': 133,\n",
      " 'retry/reason_count/429 Unknown Status': 132,\n",
      " 'retry/reason_count/500 Internal Server Error': 1,\n",
      " 'scheduler/dequeued': 1557,\n",
      " 'scheduler/dequeued/memory': 1557,\n",
      " 'scheduler/enqueued': 1557,\n",
      " 'scheduler/enqueued/memory': 1557,\n",
      " 'start_time': datetime.datetime(2024, 12, 4, 8, 36, 50, 33870, tzinfo=datetime.timezone.utc)}\n",
      "2024-12-04 10:44:27 [scrapy.core.engine] INFO: Spider closed (finished)\n"
     ]
    }
   ],
   "source": [
    "process = CrawlerProcess({\n",
    "    'User-Agent': 'Mozilla/5.0 (Windows NT 10.0; WOW64) AppleWebKit/537.36 (KHTML, like Gecko) Chrome/72.0.3626.121 Safari/537.36'\n",
    "})\n",
    "\n",
    "process.crawl(mSpider)\n",
    "process.start()"
   ]
  },
  {
   "cell_type": "code",
   "execution_count": null,
   "id": "070c6e69-283e-470e-871e-2ab908a27965",
   "metadata": {
    "scrolled": true
   },
   "outputs": [],
   "source": []
  },
  {
   "cell_type": "code",
   "execution_count": null,
   "id": "03f1a8f6-220c-4a75-a25c-8e3de3190f60",
   "metadata": {},
   "outputs": [],
   "source": []
  },
  {
   "cell_type": "code",
   "execution_count": null,
   "id": "8337a193-62c3-4ab0-942f-3fcc629c47f6",
   "metadata": {},
   "outputs": [],
   "source": []
  },
  {
   "cell_type": "code",
   "execution_count": null,
   "id": "a77136fe-69f3-4edf-932f-4be361d5c3aa",
   "metadata": {},
   "outputs": [],
   "source": []
  }
 ],
 "metadata": {
  "kernelspec": {
   "display_name": "Python 3 (ipykernel)",
   "language": "python",
   "name": "python3"
  },
  "language_info": {
   "codemirror_mode": {
    "name": "ipython",
    "version": 3
   },
   "file_extension": ".py",
   "mimetype": "text/x-python",
   "name": "python",
   "nbconvert_exporter": "python",
   "pygments_lexer": "ipython3",
   "version": "3.9.20"
  }
 },
 "nbformat": 4,
 "nbformat_minor": 5
}
